{
 "cells": [
  {
   "cell_type": "code",
   "execution_count": 99,
   "metadata": {
    "ExecuteTime": {
     "end_time": "2020-10-28T08:41:15.675797Z",
     "start_time": "2020-10-28T08:41:15.642624Z"
    }
   },
   "outputs": [
    {
     "data": {
      "text/html": [
       "<div>\n",
       "<style scoped>\n",
       "    .dataframe tbody tr th:only-of-type {\n",
       "        vertical-align: middle;\n",
       "    }\n",
       "\n",
       "    .dataframe tbody tr th {\n",
       "        vertical-align: top;\n",
       "    }\n",
       "\n",
       "    .dataframe thead th {\n",
       "        text-align: right;\n",
       "    }\n",
       "</style>\n",
       "<table border=\"1\" class=\"dataframe\">\n",
       "  <thead>\n",
       "    <tr style=\"text-align: right;\">\n",
       "      <th></th>\n",
       "      <th>model</th>\n",
       "      <th>mark</th>\n",
       "      <th>price</th>\n",
       "      <th>group</th>\n",
       "      <th>other</th>\n",
       "    </tr>\n",
       "  </thead>\n",
       "  <tbody>\n",
       "    <tr>\n",
       "      <th>0</th>\n",
       "      <td>AMD Ryzen Threadripper 3990X</td>\n",
       "      <td>80340</td>\n",
       "      <td>3799.79</td>\n",
       "      <td>cpu</td>\n",
       "      <td>NaN</td>\n",
       "    </tr>\n",
       "    <tr>\n",
       "      <th>1</th>\n",
       "      <td>AMD Ryzen Threadripper 3970X</td>\n",
       "      <td>64362</td>\n",
       "      <td>1998.99</td>\n",
       "      <td>cpu</td>\n",
       "      <td>NaN</td>\n",
       "    </tr>\n",
       "    <tr>\n",
       "      <th>2</th>\n",
       "      <td>AMD Ryzen Threadripper 3960X</td>\n",
       "      <td>55512</td>\n",
       "      <td>1349.98</td>\n",
       "      <td>cpu</td>\n",
       "      <td>NaN</td>\n",
       "    </tr>\n",
       "    <tr>\n",
       "      <th>3</th>\n",
       "      <td>AMD Ryzen 9 3950X</td>\n",
       "      <td>39277</td>\n",
       "      <td>709.99</td>\n",
       "      <td>cpu</td>\n",
       "      <td>NaN</td>\n",
       "    </tr>\n",
       "    <tr>\n",
       "      <th>4</th>\n",
       "      <td>Intel Core i9-10980XE @ 3.00GHz</td>\n",
       "      <td>34138</td>\n",
       "      <td>1019.00</td>\n",
       "      <td>cpu</td>\n",
       "      <td>NaN</td>\n",
       "    </tr>\n",
       "    <tr>\n",
       "      <th>...</th>\n",
       "      <td>...</td>\n",
       "      <td>...</td>\n",
       "      <td>...</td>\n",
       "      <td>...</td>\n",
       "      <td>...</td>\n",
       "    </tr>\n",
       "    <tr>\n",
       "      <th>1028</th>\n",
       "      <td>GeForce GTX 285</td>\n",
       "      <td>1555</td>\n",
       "      <td>179.99</td>\n",
       "      <td>gpu</td>\n",
       "      <td>NaN</td>\n",
       "    </tr>\n",
       "    <tr>\n",
       "      <th>1029</th>\n",
       "      <td>GeForce GT 740</td>\n",
       "      <td>1544</td>\n",
       "      <td>154.32</td>\n",
       "      <td>gpu</td>\n",
       "      <td>NaN</td>\n",
       "    </tr>\n",
       "    <tr>\n",
       "      <th>1030</th>\n",
       "      <td>FirePro W4100</td>\n",
       "      <td>1508</td>\n",
       "      <td>149.86</td>\n",
       "      <td>gpu</td>\n",
       "      <td>NaN</td>\n",
       "    </tr>\n",
       "    <tr>\n",
       "      <th>1031</th>\n",
       "      <td>Radeon HD 4890</td>\n",
       "      <td>1499</td>\n",
       "      <td>109.99</td>\n",
       "      <td>gpu</td>\n",
       "      <td>NaN</td>\n",
       "    </tr>\n",
       "    <tr>\n",
       "      <th>1032</th>\n",
       "      <td>Quadro 4000</td>\n",
       "      <td>1497</td>\n",
       "      <td>900.99</td>\n",
       "      <td>gpu</td>\n",
       "      <td>NaN</td>\n",
       "    </tr>\n",
       "  </tbody>\n",
       "</table>\n",
       "<p>1033 rows × 5 columns</p>\n",
       "</div>"
      ],
      "text/plain": [
       "                                model   mark    price group  other\n",
       "0        AMD Ryzen Threadripper 3990X  80340  3799.79   cpu    NaN\n",
       "1        AMD Ryzen Threadripper 3970X  64362  1998.99   cpu    NaN\n",
       "2        AMD Ryzen Threadripper 3960X  55512  1349.98   cpu    NaN\n",
       "3                   AMD Ryzen 9 3950X  39277   709.99   cpu    NaN\n",
       "4     Intel Core i9-10980XE @ 3.00GHz  34138  1019.00   cpu    NaN\n",
       "...                               ...    ...      ...   ...    ...\n",
       "1028                  GeForce GTX 285   1555   179.99   gpu    NaN\n",
       "1029                   GeForce GT 740   1544   154.32   gpu    NaN\n",
       "1030                    FirePro W4100   1508   149.86   gpu    NaN\n",
       "1031                   Radeon HD 4890   1499   109.99   gpu    NaN\n",
       "1032                      Quadro 4000   1497   900.99   gpu    NaN\n",
       "\n",
       "[1033 rows x 5 columns]"
      ]
     },
     "execution_count": 99,
     "metadata": {},
     "output_type": "execute_result"
    }
   ],
   "source": [
    "import glob\n",
    "\n",
    "all_files = glob.glob(\"csv/*.csv\")\n",
    "\n",
    "ls = []\n",
    "\n",
    "for filename in all_files:\n",
    "    df = pd.read_csv(filename, index_col=None, header=0)\n",
    "    ls.append(df)\n",
    "df = pd.concat(ls, axis=0, ignore_index=True)\n",
    "df"
   ]
  },
  {
   "cell_type": "code",
   "execution_count": 100,
   "metadata": {
    "ExecuteTime": {
     "end_time": "2020-10-28T08:41:38.096275Z",
     "start_time": "2020-10-28T08:41:38.092019Z"
    }
   },
   "outputs": [
    {
     "data": {
      "text/plain": [
       "array(['cpu', 'hard-drive', 'ram', 'gpu'], dtype=object)"
      ]
     },
     "execution_count": 100,
     "metadata": {},
     "output_type": "execute_result"
    }
   ],
   "source": [
    "df['group'].unique()"
   ]
  },
  {
   "cell_type": "code",
   "execution_count": 101,
   "metadata": {
    "ExecuteTime": {
     "end_time": "2020-10-28T08:46:09.889135Z",
     "start_time": "2020-10-28T08:46:09.883839Z"
    }
   },
   "outputs": [
    {
     "data": {
      "text/plain": [
       "model     object\n",
       "mark       int64\n",
       "price    float64\n",
       "group     object\n",
       "other    float64\n",
       "dtype: object"
      ]
     },
     "execution_count": 101,
     "metadata": {},
     "output_type": "execute_result"
    }
   ],
   "source": [
    "df.dtypes"
   ]
  },
  {
   "cell_type": "markdown",
   "metadata": {},
   "source": [
    "#### one-hot-encoding"
   ]
  },
  {
   "cell_type": "code",
   "execution_count": 102,
   "metadata": {
    "ExecuteTime": {
     "end_time": "2020-10-28T08:53:06.977946Z",
     "start_time": "2020-10-28T08:53:06.967984Z"
    }
   },
   "outputs": [],
   "source": [
    "df_one = pd.get_dummies(df['group'])"
   ]
  },
  {
   "cell_type": "code",
   "execution_count": 103,
   "metadata": {},
   "outputs": [
    {
     "data": {
      "text/html": [
       "<div>\n",
       "<style scoped>\n",
       "    .dataframe tbody tr th:only-of-type {\n",
       "        vertical-align: middle;\n",
       "    }\n",
       "\n",
       "    .dataframe tbody tr th {\n",
       "        vertical-align: top;\n",
       "    }\n",
       "\n",
       "    .dataframe thead th {\n",
       "        text-align: right;\n",
       "    }\n",
       "</style>\n",
       "<table border=\"1\" class=\"dataframe\">\n",
       "  <thead>\n",
       "    <tr style=\"text-align: right;\">\n",
       "      <th></th>\n",
       "      <th>cpu</th>\n",
       "      <th>gpu</th>\n",
       "      <th>hard-drive</th>\n",
       "      <th>ram</th>\n",
       "    </tr>\n",
       "  </thead>\n",
       "  <tbody>\n",
       "    <tr>\n",
       "      <th>0</th>\n",
       "      <td>1</td>\n",
       "      <td>0</td>\n",
       "      <td>0</td>\n",
       "      <td>0</td>\n",
       "    </tr>\n",
       "    <tr>\n",
       "      <th>1</th>\n",
       "      <td>1</td>\n",
       "      <td>0</td>\n",
       "      <td>0</td>\n",
       "      <td>0</td>\n",
       "    </tr>\n",
       "    <tr>\n",
       "      <th>2</th>\n",
       "      <td>1</td>\n",
       "      <td>0</td>\n",
       "      <td>0</td>\n",
       "      <td>0</td>\n",
       "    </tr>\n",
       "    <tr>\n",
       "      <th>3</th>\n",
       "      <td>1</td>\n",
       "      <td>0</td>\n",
       "      <td>0</td>\n",
       "      <td>0</td>\n",
       "    </tr>\n",
       "    <tr>\n",
       "      <th>4</th>\n",
       "      <td>1</td>\n",
       "      <td>0</td>\n",
       "      <td>0</td>\n",
       "      <td>0</td>\n",
       "    </tr>\n",
       "    <tr>\n",
       "      <th>...</th>\n",
       "      <td>...</td>\n",
       "      <td>...</td>\n",
       "      <td>...</td>\n",
       "      <td>...</td>\n",
       "    </tr>\n",
       "    <tr>\n",
       "      <th>1028</th>\n",
       "      <td>0</td>\n",
       "      <td>1</td>\n",
       "      <td>0</td>\n",
       "      <td>0</td>\n",
       "    </tr>\n",
       "    <tr>\n",
       "      <th>1029</th>\n",
       "      <td>0</td>\n",
       "      <td>1</td>\n",
       "      <td>0</td>\n",
       "      <td>0</td>\n",
       "    </tr>\n",
       "    <tr>\n",
       "      <th>1030</th>\n",
       "      <td>0</td>\n",
       "      <td>1</td>\n",
       "      <td>0</td>\n",
       "      <td>0</td>\n",
       "    </tr>\n",
       "    <tr>\n",
       "      <th>1031</th>\n",
       "      <td>0</td>\n",
       "      <td>1</td>\n",
       "      <td>0</td>\n",
       "      <td>0</td>\n",
       "    </tr>\n",
       "    <tr>\n",
       "      <th>1032</th>\n",
       "      <td>0</td>\n",
       "      <td>1</td>\n",
       "      <td>0</td>\n",
       "      <td>0</td>\n",
       "    </tr>\n",
       "  </tbody>\n",
       "</table>\n",
       "<p>1033 rows × 4 columns</p>\n",
       "</div>"
      ],
      "text/plain": [
       "      cpu  gpu  hard-drive  ram\n",
       "0       1    0           0    0\n",
       "1       1    0           0    0\n",
       "2       1    0           0    0\n",
       "3       1    0           0    0\n",
       "4       1    0           0    0\n",
       "...   ...  ...         ...  ...\n",
       "1028    0    1           0    0\n",
       "1029    0    1           0    0\n",
       "1030    0    1           0    0\n",
       "1031    0    1           0    0\n",
       "1032    0    1           0    0\n",
       "\n",
       "[1033 rows x 4 columns]"
      ]
     },
     "execution_count": 103,
     "metadata": {},
     "output_type": "execute_result"
    }
   ],
   "source": [
    "df_one"
   ]
  },
  {
   "cell_type": "code",
   "execution_count": 104,
   "metadata": {},
   "outputs": [],
   "source": [
    "df = pd.merge(df, df_one, left_index = True, right_index = True)"
   ]
  },
  {
   "cell_type": "code",
   "execution_count": 105,
   "metadata": {},
   "outputs": [
    {
     "data": {
      "text/html": [
       "<div>\n",
       "<style scoped>\n",
       "    .dataframe tbody tr th:only-of-type {\n",
       "        vertical-align: middle;\n",
       "    }\n",
       "\n",
       "    .dataframe tbody tr th {\n",
       "        vertical-align: top;\n",
       "    }\n",
       "\n",
       "    .dataframe thead th {\n",
       "        text-align: right;\n",
       "    }\n",
       "</style>\n",
       "<table border=\"1\" class=\"dataframe\">\n",
       "  <thead>\n",
       "    <tr style=\"text-align: right;\">\n",
       "      <th></th>\n",
       "      <th>model</th>\n",
       "      <th>mark</th>\n",
       "      <th>price</th>\n",
       "      <th>group</th>\n",
       "      <th>other</th>\n",
       "      <th>cpu</th>\n",
       "      <th>gpu</th>\n",
       "      <th>hard-drive</th>\n",
       "      <th>ram</th>\n",
       "    </tr>\n",
       "  </thead>\n",
       "  <tbody>\n",
       "    <tr>\n",
       "      <th>0</th>\n",
       "      <td>AMD Ryzen Threadripper 3990X</td>\n",
       "      <td>80340</td>\n",
       "      <td>3799.79</td>\n",
       "      <td>cpu</td>\n",
       "      <td>NaN</td>\n",
       "      <td>1</td>\n",
       "      <td>0</td>\n",
       "      <td>0</td>\n",
       "      <td>0</td>\n",
       "    </tr>\n",
       "    <tr>\n",
       "      <th>1</th>\n",
       "      <td>AMD Ryzen Threadripper 3970X</td>\n",
       "      <td>64362</td>\n",
       "      <td>1998.99</td>\n",
       "      <td>cpu</td>\n",
       "      <td>NaN</td>\n",
       "      <td>1</td>\n",
       "      <td>0</td>\n",
       "      <td>0</td>\n",
       "      <td>0</td>\n",
       "    </tr>\n",
       "    <tr>\n",
       "      <th>2</th>\n",
       "      <td>AMD Ryzen Threadripper 3960X</td>\n",
       "      <td>55512</td>\n",
       "      <td>1349.98</td>\n",
       "      <td>cpu</td>\n",
       "      <td>NaN</td>\n",
       "      <td>1</td>\n",
       "      <td>0</td>\n",
       "      <td>0</td>\n",
       "      <td>0</td>\n",
       "    </tr>\n",
       "    <tr>\n",
       "      <th>3</th>\n",
       "      <td>AMD Ryzen 9 3950X</td>\n",
       "      <td>39277</td>\n",
       "      <td>709.99</td>\n",
       "      <td>cpu</td>\n",
       "      <td>NaN</td>\n",
       "      <td>1</td>\n",
       "      <td>0</td>\n",
       "      <td>0</td>\n",
       "      <td>0</td>\n",
       "    </tr>\n",
       "    <tr>\n",
       "      <th>4</th>\n",
       "      <td>Intel Core i9-10980XE @ 3.00GHz</td>\n",
       "      <td>34138</td>\n",
       "      <td>1019.00</td>\n",
       "      <td>cpu</td>\n",
       "      <td>NaN</td>\n",
       "      <td>1</td>\n",
       "      <td>0</td>\n",
       "      <td>0</td>\n",
       "      <td>0</td>\n",
       "    </tr>\n",
       "    <tr>\n",
       "      <th>...</th>\n",
       "      <td>...</td>\n",
       "      <td>...</td>\n",
       "      <td>...</td>\n",
       "      <td>...</td>\n",
       "      <td>...</td>\n",
       "      <td>...</td>\n",
       "      <td>...</td>\n",
       "      <td>...</td>\n",
       "      <td>...</td>\n",
       "    </tr>\n",
       "    <tr>\n",
       "      <th>1028</th>\n",
       "      <td>GeForce GTX 285</td>\n",
       "      <td>1555</td>\n",
       "      <td>179.99</td>\n",
       "      <td>gpu</td>\n",
       "      <td>NaN</td>\n",
       "      <td>0</td>\n",
       "      <td>1</td>\n",
       "      <td>0</td>\n",
       "      <td>0</td>\n",
       "    </tr>\n",
       "    <tr>\n",
       "      <th>1029</th>\n",
       "      <td>GeForce GT 740</td>\n",
       "      <td>1544</td>\n",
       "      <td>154.32</td>\n",
       "      <td>gpu</td>\n",
       "      <td>NaN</td>\n",
       "      <td>0</td>\n",
       "      <td>1</td>\n",
       "      <td>0</td>\n",
       "      <td>0</td>\n",
       "    </tr>\n",
       "    <tr>\n",
       "      <th>1030</th>\n",
       "      <td>FirePro W4100</td>\n",
       "      <td>1508</td>\n",
       "      <td>149.86</td>\n",
       "      <td>gpu</td>\n",
       "      <td>NaN</td>\n",
       "      <td>0</td>\n",
       "      <td>1</td>\n",
       "      <td>0</td>\n",
       "      <td>0</td>\n",
       "    </tr>\n",
       "    <tr>\n",
       "      <th>1031</th>\n",
       "      <td>Radeon HD 4890</td>\n",
       "      <td>1499</td>\n",
       "      <td>109.99</td>\n",
       "      <td>gpu</td>\n",
       "      <td>NaN</td>\n",
       "      <td>0</td>\n",
       "      <td>1</td>\n",
       "      <td>0</td>\n",
       "      <td>0</td>\n",
       "    </tr>\n",
       "    <tr>\n",
       "      <th>1032</th>\n",
       "      <td>Quadro 4000</td>\n",
       "      <td>1497</td>\n",
       "      <td>900.99</td>\n",
       "      <td>gpu</td>\n",
       "      <td>NaN</td>\n",
       "      <td>0</td>\n",
       "      <td>1</td>\n",
       "      <td>0</td>\n",
       "      <td>0</td>\n",
       "    </tr>\n",
       "  </tbody>\n",
       "</table>\n",
       "<p>1033 rows × 9 columns</p>\n",
       "</div>"
      ],
      "text/plain": [
       "                                model   mark    price group  other  cpu  gpu  \\\n",
       "0        AMD Ryzen Threadripper 3990X  80340  3799.79   cpu    NaN    1    0   \n",
       "1        AMD Ryzen Threadripper 3970X  64362  1998.99   cpu    NaN    1    0   \n",
       "2        AMD Ryzen Threadripper 3960X  55512  1349.98   cpu    NaN    1    0   \n",
       "3                   AMD Ryzen 9 3950X  39277   709.99   cpu    NaN    1    0   \n",
       "4     Intel Core i9-10980XE @ 3.00GHz  34138  1019.00   cpu    NaN    1    0   \n",
       "...                               ...    ...      ...   ...    ...  ...  ...   \n",
       "1028                  GeForce GTX 285   1555   179.99   gpu    NaN    0    1   \n",
       "1029                   GeForce GT 740   1544   154.32   gpu    NaN    0    1   \n",
       "1030                    FirePro W4100   1508   149.86   gpu    NaN    0    1   \n",
       "1031                   Radeon HD 4890   1499   109.99   gpu    NaN    0    1   \n",
       "1032                      Quadro 4000   1497   900.99   gpu    NaN    0    1   \n",
       "\n",
       "      hard-drive  ram  \n",
       "0              0    0  \n",
       "1              0    0  \n",
       "2              0    0  \n",
       "3              0    0  \n",
       "4              0    0  \n",
       "...          ...  ...  \n",
       "1028           0    0  \n",
       "1029           0    0  \n",
       "1030           0    0  \n",
       "1031           0    0  \n",
       "1032           0    0  \n",
       "\n",
       "[1033 rows x 9 columns]"
      ]
     },
     "execution_count": 105,
     "metadata": {},
     "output_type": "execute_result"
    }
   ],
   "source": [
    "df"
   ]
  },
  {
   "cell_type": "code",
   "execution_count": 106,
   "metadata": {},
   "outputs": [
    {
     "data": {
      "text/plain": [
       "count     137.000000\n",
       "mean      382.301314\n",
       "std       512.338194\n",
       "min        38.000000\n",
       "25%       143.000000\n",
       "50%       234.990000\n",
       "75%       409.990000\n",
       "max      3799.790000\n",
       "Name: price, dtype: float64"
      ]
     },
     "execution_count": 106,
     "metadata": {},
     "output_type": "execute_result"
    }
   ],
   "source": [
    "cpu_df = df[df['group'] == 'cpu']\n",
    "cpu_df.price.describe()"
   ]
  },
  {
   "cell_type": "code",
   "execution_count": 107,
   "metadata": {},
   "outputs": [
    {
     "data": {
      "text/plain": [
       "count     188.000000\n",
       "mean      558.810745\n",
       "std      1027.776370\n",
       "min        35.990000\n",
       "25%       147.990000\n",
       "50%       239.990000\n",
       "75%       489.785000\n",
       "max      8999.000000\n",
       "Name: price, dtype: float64"
      ]
     },
     "execution_count": 107,
     "metadata": {},
     "output_type": "execute_result"
    }
   ],
   "source": [
    "cpu_df = df[df['group'] == 'gpu']\n",
    "cpu_df.price.describe()"
   ]
  },
  {
   "cell_type": "code",
   "execution_count": 108,
   "metadata": {},
   "outputs": [
    {
     "data": {
      "text/plain": [
       "count     648.000000\n",
       "mean      200.530525\n",
       "std       250.664203\n",
       "min        13.820000\n",
       "25%        75.212500\n",
       "50%       133.980000\n",
       "75%       231.277500\n",
       "max      2752.300000\n",
       "Name: price, dtype: float64"
      ]
     },
     "execution_count": 108,
     "metadata": {},
     "output_type": "execute_result"
    }
   ],
   "source": [
    "cpu_df = df[df['group'] == 'ram']\n",
    "cpu_df.price.describe()"
   ]
  },
  {
   "cell_type": "code",
   "execution_count": 109,
   "metadata": {},
   "outputs": [
    {
     "data": {
      "text/plain": [
       "count      60.000000\n",
       "mean      279.943500\n",
       "std       250.723996\n",
       "min        53.230000\n",
       "25%       145.822500\n",
       "50%       194.655000\n",
       "75%       352.490000\n",
       "max      1534.960000\n",
       "Name: price, dtype: float64"
      ]
     },
     "execution_count": 109,
     "metadata": {},
     "output_type": "execute_result"
    }
   ],
   "source": [
    "cpu_df = df[df['group'] == 'hard-drive']\n",
    "cpu_df.price.describe()"
   ]
  },
  {
   "cell_type": "code",
   "execution_count": 110,
   "metadata": {},
   "outputs": [],
   "source": [
    "# 평균값으로 일단 진행\n",
    "# 각 그룹당 평균 가격 : cpu : 382.3 / gpu : 558.8 / ram : 200.5 / hard : 279.9\n",
    "# 각 그룹의 비율"
   ]
  },
  {
   "cell_type": "code",
   "execution_count": 111,
   "metadata": {},
   "outputs": [
    {
     "data": {
      "text/html": [
       "<div>\n",
       "<style scoped>\n",
       "    .dataframe tbody tr th:only-of-type {\n",
       "        vertical-align: middle;\n",
       "    }\n",
       "\n",
       "    .dataframe tbody tr th {\n",
       "        vertical-align: top;\n",
       "    }\n",
       "\n",
       "    .dataframe thead th {\n",
       "        text-align: right;\n",
       "    }\n",
       "</style>\n",
       "<table border=\"1\" class=\"dataframe\">\n",
       "  <thead>\n",
       "    <tr style=\"text-align: right;\">\n",
       "      <th></th>\n",
       "      <th>price</th>\n",
       "    </tr>\n",
       "    <tr>\n",
       "      <th>group</th>\n",
       "      <th></th>\n",
       "    </tr>\n",
       "  </thead>\n",
       "  <tbody>\n",
       "    <tr>\n",
       "      <th>cpu</th>\n",
       "      <td>382.301314</td>\n",
       "    </tr>\n",
       "    <tr>\n",
       "      <th>gpu</th>\n",
       "      <td>558.810745</td>\n",
       "    </tr>\n",
       "    <tr>\n",
       "      <th>hard-drive</th>\n",
       "      <td>279.943500</td>\n",
       "    </tr>\n",
       "    <tr>\n",
       "      <th>ram</th>\n",
       "      <td>200.530525</td>\n",
       "    </tr>\n",
       "  </tbody>\n",
       "</table>\n",
       "</div>"
      ],
      "text/plain": [
       "                 price\n",
       "group                 \n",
       "cpu         382.301314\n",
       "gpu         558.810745\n",
       "hard-drive  279.943500\n",
       "ram         200.530525"
      ]
     },
     "execution_count": 111,
     "metadata": {},
     "output_type": "execute_result"
    }
   ],
   "source": [
    "df.pivot_table(index = 'group', values = 'price', aggfunc='mean')"
   ]
  },
  {
   "cell_type": "code",
   "execution_count": 112,
   "metadata": {},
   "outputs": [
    {
     "data": {
      "text/plain": [
       "price    1421.586083\n",
       "dtype: float64"
      ]
     },
     "execution_count": 112,
     "metadata": {},
     "output_type": "execute_result"
    }
   ],
   "source": [
    "# 평균가격의 총합\n",
    "df.pivot_table(index = 'group', values = 'price', aggfunc='mean').sum()"
   ]
  },
  {
   "cell_type": "code",
   "execution_count": 113,
   "metadata": {},
   "outputs": [
    {
     "data": {
      "text/html": [
       "<div>\n",
       "<style scoped>\n",
       "    .dataframe tbody tr th:only-of-type {\n",
       "        vertical-align: middle;\n",
       "    }\n",
       "\n",
       "    .dataframe tbody tr th {\n",
       "        vertical-align: top;\n",
       "    }\n",
       "\n",
       "    .dataframe thead th {\n",
       "        text-align: right;\n",
       "    }\n",
       "</style>\n",
       "<table border=\"1\" class=\"dataframe\">\n",
       "  <thead>\n",
       "    <tr style=\"text-align: right;\">\n",
       "      <th></th>\n",
       "      <th>price</th>\n",
       "    </tr>\n",
       "    <tr>\n",
       "      <th>group</th>\n",
       "      <th></th>\n",
       "    </tr>\n",
       "  </thead>\n",
       "  <tbody>\n",
       "    <tr>\n",
       "      <th>cpu</th>\n",
       "      <td>26.89</td>\n",
       "    </tr>\n",
       "    <tr>\n",
       "      <th>gpu</th>\n",
       "      <td>39.31</td>\n",
       "    </tr>\n",
       "    <tr>\n",
       "      <th>hard-drive</th>\n",
       "      <td>19.69</td>\n",
       "    </tr>\n",
       "    <tr>\n",
       "      <th>ram</th>\n",
       "      <td>14.11</td>\n",
       "    </tr>\n",
       "  </tbody>\n",
       "</table>\n",
       "</div>"
      ],
      "text/plain": [
       "            price\n",
       "group            \n",
       "cpu         26.89\n",
       "gpu         39.31\n",
       "hard-drive  19.69\n",
       "ram         14.11"
      ]
     },
     "execution_count": 113,
     "metadata": {},
     "output_type": "execute_result"
    }
   ],
   "source": [
    "## 총합에서 group 별 차지하는 비율\n",
    "mean = round((df.pivot_table(index = 'group', values = 'price', aggfunc='mean')/df.pivot_table(index = 'group', values = 'price', aggfunc='mean').sum()), 4)\n",
    "mean*100"
   ]
  },
  {
   "cell_type": "code",
   "execution_count": 114,
   "metadata": {},
   "outputs": [],
   "source": [
    "# 일단 기준을 평균으로 해서 가는거고\n",
    "# 이제 가격을 입력해서 그 가격을 기준으로 해당 비율만큼 나누어 할당하고, 그 가격과 가장 가까운 거리의 부품을 추천해주는 시스템을 만들면 되지 않을까?"
   ]
  },
  {
   "cell_type": "code",
   "execution_count": 115,
   "metadata": {},
   "outputs": [
    {
     "data": {
      "image/png": "[encoded data removed]",
      "text/plain": [
       "<Figure size 1440x720 with 1 Axes>"
      ]
     },
     "metadata": {
      "image/png": {
       "height": 610,
       "width": 1179
      },
      "needs_background": "light"
     },
     "output_type": "display_data"
    }
   ],
   "source": [
    "plt.figure(figsize=(20,10))\n",
    "sns.boxplot(data=df, x=\"group\", y=\"price\");\n",
    "plt.title(\"price by group\", fontsize=15)\n",
    "plt.show()"
   ]
  },
  {
   "cell_type": "code",
   "execution_count": 116,
   "metadata": {},
   "outputs": [
    {
     "data": {
      "image/png": "[encoded data removed]",
      "text/plain": [
       "<Figure size 1440x720 with 1 Axes>"
      ]
     },
     "metadata": {
      "image/png": {
       "height": 610,
       "width": 1173
      },
      "needs_background": "light"
     },
     "output_type": "display_data"
    }
   ],
   "source": [
    "df1 = df[df['price']<=750]\n",
    "df1\n",
    "plt.figure(figsize=(20,10))\n",
    "sns.boxplot(data=df1, x=\"group\", y=\"price\");\n",
    "plt.title(\"price by group\", fontsize=15)\n",
    "plt.show()"
   ]
  },
  {
   "cell_type": "code",
   "execution_count": 123,
   "metadata": {},
   "outputs": [
    {
     "data": {
      "text/plain": [
       "'gpu'"
      ]
     },
     "execution_count": 123,
     "metadata": {},
     "output_type": "execute_result"
    }
   ],
   "source": [
    "df.group.unique()[3]"
   ]
  },
  {
   "cell_type": "code",
   "execution_count": 127,
   "metadata": {},
   "outputs": [
    {
     "name": "stdout",
     "output_type": "stream",
     "text": [
      "가격을 입력하시오 : 700\n",
      "ram 최소용량을 입력하시오(상관 없을 시, 0을 입력하시오) : 0\n",
      "hard 최소용량을 입력하시오(상관 없을 시, 0을 입력하시오) : 0\n",
      "총 가격 : 690.5달러\n"
     ]
    },
    {
     "data": {
      "text/html": [
       "<div>\n",
       "<style scoped>\n",
       "    .dataframe tbody tr th:only-of-type {\n",
       "        vertical-align: middle;\n",
       "    }\n",
       "\n",
       "    .dataframe tbody tr th {\n",
       "        vertical-align: top;\n",
       "    }\n",
       "\n",
       "    .dataframe thead th {\n",
       "        text-align: right;\n",
       "    }\n",
       "</style>\n",
       "<table border=\"1\" class=\"dataframe\">\n",
       "  <thead>\n",
       "    <tr style=\"text-align: right;\">\n",
       "      <th></th>\n",
       "      <th>model</th>\n",
       "      <th>mark</th>\n",
       "      <th>price</th>\n",
       "      <th>group</th>\n",
       "      <th>other</th>\n",
       "      <th>cpu</th>\n",
       "      <th>gpu</th>\n",
       "      <th>hard-drive</th>\n",
       "      <th>ram</th>\n",
       "    </tr>\n",
       "  </thead>\n",
       "  <tbody>\n",
       "    <tr>\n",
       "      <th>0</th>\n",
       "      <td>Intel Core i5-10400F @ 2.90GHz</td>\n",
       "      <td>12740</td>\n",
       "      <td>187.99</td>\n",
       "      <td>cpu</td>\n",
       "      <td>NaN</td>\n",
       "      <td>1</td>\n",
       "      <td>0</td>\n",
       "      <td>0</td>\n",
       "      <td>0</td>\n",
       "    </tr>\n",
       "    <tr>\n",
       "      <th>1</th>\n",
       "      <td>Viper M.2 VPN100 2TB</td>\n",
       "      <td>23607</td>\n",
       "      <td>274.99</td>\n",
       "      <td>hard-drive</td>\n",
       "      <td>2048.0</td>\n",
       "      <td>0</td>\n",
       "      <td>0</td>\n",
       "      <td>1</td>\n",
       "      <td>0</td>\n",
       "    </tr>\n",
       "    <tr>\n",
       "      <th>2</th>\n",
       "      <td>ESSENCORE KLEVV DDR4-3600 CL18 BOLT X 패키지</td>\n",
       "      <td>3600</td>\n",
       "      <td>137.53</td>\n",
       "      <td>ram</td>\n",
       "      <td>32.0</td>\n",
       "      <td>0</td>\n",
       "      <td>0</td>\n",
       "      <td>0</td>\n",
       "      <td>1</td>\n",
       "    </tr>\n",
       "    <tr>\n",
       "      <th>3</th>\n",
       "      <td>Radeon R7 260</td>\n",
       "      <td>2891</td>\n",
       "      <td>89.99</td>\n",
       "      <td>gpu</td>\n",
       "      <td>NaN</td>\n",
       "      <td>0</td>\n",
       "      <td>1</td>\n",
       "      <td>0</td>\n",
       "      <td>0</td>\n",
       "    </tr>\n",
       "  </tbody>\n",
       "</table>\n",
       "</div>"
      ],
      "text/plain": [
       "                                       model   mark   price       group  \\\n",
       "0             Intel Core i5-10400F @ 2.90GHz  12740  187.99         cpu   \n",
       "1                       Viper M.2 VPN100 2TB  23607  274.99  hard-drive   \n",
       "2  ESSENCORE KLEVV DDR4-3600 CL18 BOLT X 패키지   3600  137.53         ram   \n",
       "3                              Radeon R7 260   2891   89.99         gpu   \n",
       "\n",
       "    other  cpu  gpu  hard-drive  ram  \n",
       "0     NaN    1    0           0    0  \n",
       "1  2048.0    0    0           1    0  \n",
       "2    32.0    0    0           0    1  \n",
       "3     NaN    0    1           0    0  "
      ]
     },
     "execution_count": 127,
     "metadata": {},
     "output_type": "execute_result"
    }
   ],
   "source": [
    "money = int(input('가격을 입력하시오 : '))\n",
    "ram = int(input('ram 최소용량을 입력하시오(상관 없을 시, 0을 입력하시오) : '))\n",
    "hard = int(input('hard 최소용량을 입력하시오(상관 없을 시, 0을 입력하시오) : '))\n",
    "datas=[]\n",
    "\n",
    "if hard == 0 and ram == 0:\n",
    "    for i in range(0, len(df.group.unique())):\n",
    "        group_df = None\n",
    "        group_df = df[(df['price'] <= money*mean.iloc[i].price) & (df['group'] == df.group.unique()[i])]\n",
    "        group_df.sort_values(by='price', ascending=False, inplace=True)\n",
    "        datas.append(group_df.head(1))\n",
    "else:\n",
    "    for i in range(0, len(df.group.unique())):\n",
    "        if i == 0 or 3:\n",
    "            group_df = None\n",
    "            group_df = df[(df['price'] <= money*mean.iloc[i].price) & (df['group'] == df.group.unique()[i])]\n",
    "            group_df.sort_values(by='price', ascending=False, inplace=True)\n",
    "            datas.append(group_df.head(1))\n",
    "        else:\n",
    "            group_df = df[(df['price'] <= money*mean.iloc[i].price) & (df['group'] == df.group.unique()[i]) & (df['other'] >= hard) & (df['other'] >= hard)]\n",
    "            group_df = None\n",
    "            group_df.sort_values(by='price', ascending=False, inplace=True)\n",
    "            datas.append(group_df.head(1))\n",
    "\n",
    "    \n",
    "recom_df = pd.concat(datas, axis=0, ignore_index=True)\n",
    "print('총 가격 : {}달러'.format(recom_df.price.sum()))\n",
    "recom_df    "
   ]
  },
  {
   "cell_type": "code",
   "execution_count": 81,
   "metadata": {},
   "outputs": [
    {
     "data": {
      "text/html": [
       "<div>\n",
       "<style scoped>\n",
       "    .dataframe tbody tr th:only-of-type {\n",
       "        vertical-align: middle;\n",
       "    }\n",
       "\n",
       "    .dataframe tbody tr th {\n",
       "        vertical-align: top;\n",
       "    }\n",
       "\n",
       "    .dataframe thead th {\n",
       "        text-align: right;\n",
       "    }\n",
       "</style>\n",
       "<table border=\"1\" class=\"dataframe\">\n",
       "  <thead>\n",
       "    <tr style=\"text-align: right;\">\n",
       "      <th></th>\n",
       "      <th>mark</th>\n",
       "    </tr>\n",
       "    <tr>\n",
       "      <th>group</th>\n",
       "      <th></th>\n",
       "    </tr>\n",
       "  </thead>\n",
       "  <tbody>\n",
       "    <tr>\n",
       "      <th>cpu</th>\n",
       "      <td>14307.0</td>\n",
       "    </tr>\n",
       "    <tr>\n",
       "      <th>gpu</th>\n",
       "      <td>6685.0</td>\n",
       "    </tr>\n",
       "    <tr>\n",
       "      <th>hard-drive</th>\n",
       "      <td>26582.0</td>\n",
       "    </tr>\n",
       "    <tr>\n",
       "      <th>ram</th>\n",
       "      <td>3207.0</td>\n",
       "    </tr>\n",
       "  </tbody>\n",
       "</table>\n",
       "</div>"
      ],
      "text/plain": [
       "               mark\n",
       "group              \n",
       "cpu         14307.0\n",
       "gpu          6685.0\n",
       "hard-drive  26582.0\n",
       "ram          3207.0"
      ]
     },
     "execution_count": 81,
     "metadata": {},
     "output_type": "execute_result"
    }
   ],
   "source": [
    "round(df.pivot_table(index = 'group', values = 'mark', aggfunc='mean'), 0)"
   ]
  },
  {
   "cell_type": "code",
   "execution_count": null,
   "metadata": {},
   "outputs": [],
   "source": []
  }
 ],
 "metadata": {
  "kernelspec": {
   "display_name": "Python 3",
   "language": "python",
   "name": "python3"
  },
  "language_info": {
   "codemirror_mode": {
    "name": "ipython",
    "version": 3
   },
   "file_extension": ".py",
   "mimetype": "text/x-python",
   "name": "python",
   "nbconvert_exporter": "python",
   "pygments_lexer": "ipython3",
   "version": "3.7.6"
  },
  "toc": {
   "base_numbering": 1,
   "nav_menu": {},
   "number_sections": true,
   "sideBar": true,
   "skip_h1_title": false,
   "title_cell": "Table of Contents",
   "title_sidebar": "Contents",
   "toc_cell": false,
   "toc_position": {},
   "toc_section_display": true,
   "toc_window_display": false
  }
 },
 "nbformat": 4,
 "nbformat_minor": 4
}
