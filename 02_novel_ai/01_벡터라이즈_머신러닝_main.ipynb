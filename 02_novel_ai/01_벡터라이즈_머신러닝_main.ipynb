{
 "cells": [
  {
   "cell_type": "code",
   "execution_count": 1,
   "metadata": {
    "ExecuteTime": {
     "end_time": "2020-11-05T09:10:56.694628Z",
     "start_time": "2020-11-05T09:10:55.789310Z"
    }
   },
   "outputs": [],
   "source": [
    "import pandas as pd\n",
    "import warnings \n",
    "warnings.filterwarnings(action='ignore')\n",
    "import numpy as np\n",
    "import re\n",
    "import nltk\n",
    "from sklearn.model_selection import train_test_split\n",
    "from nltk import word_tokenize\n",
    "from wordcloud import WordCloud, STOPWORDS\n",
    "import matplotlib.pyplot as plt\n",
    "%matplotlib inline"
   ]
  },
  {
   "cell_type": "markdown",
   "metadata": {},
   "source": [
    "## 데이터 확인"
   ]
  },
  {
   "cell_type": "code",
   "execution_count": 2,
   "metadata": {
    "ExecuteTime": {
     "end_time": "2020-11-05T09:10:56.971164Z",
     "start_time": "2020-11-05T09:10:56.696992Z"
    }
   },
   "outputs": [],
   "source": [
    "# 파일 불러오기\n",
    "\n",
    "train = pd.read_csv('./open/train.csv', encoding='utf-8')\n",
    "test_x = pd.read_csv('./open/test_x.csv', encoding='utf-8')\n",
    "submission = pd.read_csv('./open/sample_submission.csv', encoding='utf-8')"
   ]
  },
  {
   "cell_type": "markdown",
   "metadata": {},
   "source": [
    "### train data\n",
    "- 실제 작가와 작가가 작성한 Text가 라벨링된 데이터프레임"
   ]
  },
  {
   "cell_type": "code",
   "execution_count": 3,
   "metadata": {
    "ExecuteTime": {
     "end_time": "2020-11-05T09:10:57.030981Z",
     "start_time": "2020-11-05T09:10:56.973287Z"
    },
    "scrolled": true
   },
   "outputs": [
    {
     "data": {
      "text/html": [
       "<div>\n",
       "<style scoped>\n",
       "    .dataframe tbody tr th:only-of-type {\n",
       "        vertical-align: middle;\n",
       "    }\n",
       "\n",
       "    .dataframe tbody tr th {\n",
       "        vertical-align: top;\n",
       "    }\n",
       "\n",
       "    .dataframe thead th {\n",
       "        text-align: right;\n",
       "    }\n",
       "</style>\n",
       "<table border=\"1\" class=\"dataframe\">\n",
       "  <thead>\n",
       "    <tr style=\"text-align: right;\">\n",
       "      <th></th>\n",
       "      <th>index</th>\n",
       "      <th>text</th>\n",
       "      <th>author</th>\n",
       "    </tr>\n",
       "  </thead>\n",
       "  <tbody>\n",
       "    <tr>\n",
       "      <th>0</th>\n",
       "      <td>0</td>\n",
       "      <td>He was almost choking. There was so much, so m...</td>\n",
       "      <td>3</td>\n",
       "    </tr>\n",
       "    <tr>\n",
       "      <th>1</th>\n",
       "      <td>1</td>\n",
       "      <td>“Your sister asked for it, I suppose?”</td>\n",
       "      <td>2</td>\n",
       "    </tr>\n",
       "    <tr>\n",
       "      <th>2</th>\n",
       "      <td>2</td>\n",
       "      <td>She was engaged one day as she walked, in per...</td>\n",
       "      <td>1</td>\n",
       "    </tr>\n",
       "    <tr>\n",
       "      <th>3</th>\n",
       "      <td>3</td>\n",
       "      <td>The captain was in the porch, keeping himself ...</td>\n",
       "      <td>4</td>\n",
       "    </tr>\n",
       "    <tr>\n",
       "      <th>4</th>\n",
       "      <td>4</td>\n",
       "      <td>“Have mercy, gentlemen!” odin flung up his han...</td>\n",
       "      <td>3</td>\n",
       "    </tr>\n",
       "    <tr>\n",
       "      <th>...</th>\n",
       "      <td>...</td>\n",
       "      <td>...</td>\n",
       "      <td>...</td>\n",
       "    </tr>\n",
       "    <tr>\n",
       "      <th>54874</th>\n",
       "      <td>54874</td>\n",
       "      <td>“Is that you, Mr. Smith?” odin whispered. “I h...</td>\n",
       "      <td>2</td>\n",
       "    </tr>\n",
       "    <tr>\n",
       "      <th>54875</th>\n",
       "      <td>54875</td>\n",
       "      <td>I told my plan to the captain, and between us ...</td>\n",
       "      <td>4</td>\n",
       "    </tr>\n",
       "    <tr>\n",
       "      <th>54876</th>\n",
       "      <td>54876</td>\n",
       "      <td>\"Your sincere well-wisher, friend, and sister...</td>\n",
       "      <td>1</td>\n",
       "    </tr>\n",
       "    <tr>\n",
       "      <th>54877</th>\n",
       "      <td>54877</td>\n",
       "      <td>“Then you wanted me to lend you money?”</td>\n",
       "      <td>3</td>\n",
       "    </tr>\n",
       "    <tr>\n",
       "      <th>54878</th>\n",
       "      <td>54878</td>\n",
       "      <td>It certainly had not occurred to me before, bu...</td>\n",
       "      <td>0</td>\n",
       "    </tr>\n",
       "  </tbody>\n",
       "</table>\n",
       "<p>54879 rows × 3 columns</p>\n",
       "</div>"
      ],
      "text/plain": [
       "       index                                               text  author\n",
       "0          0  He was almost choking. There was so much, so m...       3\n",
       "1          1             “Your sister asked for it, I suppose?”       2\n",
       "2          2   She was engaged one day as she walked, in per...       1\n",
       "3          3  The captain was in the porch, keeping himself ...       4\n",
       "4          4  “Have mercy, gentlemen!” odin flung up his han...       3\n",
       "...      ...                                                ...     ...\n",
       "54874  54874  “Is that you, Mr. Smith?” odin whispered. “I h...       2\n",
       "54875  54875  I told my plan to the captain, and between us ...       4\n",
       "54876  54876   \"Your sincere well-wisher, friend, and sister...       1\n",
       "54877  54877            “Then you wanted me to lend you money?”       3\n",
       "54878  54878  It certainly had not occurred to me before, bu...       0\n",
       "\n",
       "[54879 rows x 3 columns]"
      ]
     },
     "execution_count": 3,
     "metadata": {},
     "output_type": "execute_result"
    }
   ],
   "source": [
    "train"
   ]
  },
  {
   "cell_type": "code",
   "execution_count": 4,
   "metadata": {
    "ExecuteTime": {
     "end_time": "2020-11-05T09:10:57.040993Z",
     "start_time": "2020-11-05T09:10:57.033334Z"
    }
   },
   "outputs": [
    {
     "data": {
      "text/plain": [
       "(array([3, 2, 1, 4, 0]),\n",
       " 3    15063\n",
       " 0    13235\n",
       " 2    11554\n",
       " 4     7805\n",
       " 1     7222\n",
       " Name: author, dtype: int64)"
      ]
     },
     "execution_count": 4,
     "metadata": {},
     "output_type": "execute_result"
    }
   ],
   "source": [
    "train.author.unique(), train.author.value_counts()"
   ]
  },
  {
   "cell_type": "markdown",
   "metadata": {},
   "source": [
    "### text_x\n",
    "- train data를 학습시켜 어떤 작가가 작성했는지 분석해야할 데이터프레임"
   ]
  },
  {
   "cell_type": "code",
   "execution_count": 5,
   "metadata": {
    "ExecuteTime": {
     "end_time": "2020-11-05T09:10:57.051622Z",
     "start_time": "2020-11-05T09:10:57.043016Z"
    }
   },
   "outputs": [
    {
     "data": {
      "text/html": [
       "<div>\n",
       "<style scoped>\n",
       "    .dataframe tbody tr th:only-of-type {\n",
       "        vertical-align: middle;\n",
       "    }\n",
       "\n",
       "    .dataframe tbody tr th {\n",
       "        vertical-align: top;\n",
       "    }\n",
       "\n",
       "    .dataframe thead th {\n",
       "        text-align: right;\n",
       "    }\n",
       "</style>\n",
       "<table border=\"1\" class=\"dataframe\">\n",
       "  <thead>\n",
       "    <tr style=\"text-align: right;\">\n",
       "      <th></th>\n",
       "      <th>index</th>\n",
       "      <th>text</th>\n",
       "    </tr>\n",
       "  </thead>\n",
       "  <tbody>\n",
       "    <tr>\n",
       "      <th>0</th>\n",
       "      <td>0</td>\n",
       "      <td>“Not at all. I think she is one of the most ch...</td>\n",
       "    </tr>\n",
       "    <tr>\n",
       "      <th>1</th>\n",
       "      <td>1</td>\n",
       "      <td>\"No,\" replied he, with sudden consciousness, \"...</td>\n",
       "    </tr>\n",
       "    <tr>\n",
       "      <th>2</th>\n",
       "      <td>2</td>\n",
       "      <td>As the lady had stated her intention of scream...</td>\n",
       "    </tr>\n",
       "    <tr>\n",
       "      <th>3</th>\n",
       "      <td>3</td>\n",
       "      <td>“And then suddenly in the silence I heard a so...</td>\n",
       "    </tr>\n",
       "    <tr>\n",
       "      <th>4</th>\n",
       "      <td>4</td>\n",
       "      <td>His conviction remained unchanged. So far as I...</td>\n",
       "    </tr>\n",
       "    <tr>\n",
       "      <th>...</th>\n",
       "      <td>...</td>\n",
       "      <td>...</td>\n",
       "    </tr>\n",
       "    <tr>\n",
       "      <th>19612</th>\n",
       "      <td>19612</td>\n",
       "      <td>At the end of another day or two, odin growing...</td>\n",
       "    </tr>\n",
       "    <tr>\n",
       "      <th>19613</th>\n",
       "      <td>19613</td>\n",
       "      <td>All afternoon we sat together, mostly in silen...</td>\n",
       "    </tr>\n",
       "    <tr>\n",
       "      <th>19614</th>\n",
       "      <td>19614</td>\n",
       "      <td>odin, having carried his thanks to odin, proc...</td>\n",
       "    </tr>\n",
       "    <tr>\n",
       "      <th>19615</th>\n",
       "      <td>19615</td>\n",
       "      <td>Soon after this, upon odin's leaving the room,...</td>\n",
       "    </tr>\n",
       "    <tr>\n",
       "      <th>19616</th>\n",
       "      <td>19616</td>\n",
       "      <td>And all the worse for the doomed man, that the...</td>\n",
       "    </tr>\n",
       "  </tbody>\n",
       "</table>\n",
       "<p>19617 rows × 2 columns</p>\n",
       "</div>"
      ],
      "text/plain": [
       "       index                                               text\n",
       "0          0  “Not at all. I think she is one of the most ch...\n",
       "1          1  \"No,\" replied he, with sudden consciousness, \"...\n",
       "2          2  As the lady had stated her intention of scream...\n",
       "3          3  “And then suddenly in the silence I heard a so...\n",
       "4          4  His conviction remained unchanged. So far as I...\n",
       "...      ...                                                ...\n",
       "19612  19612  At the end of another day or two, odin growing...\n",
       "19613  19613  All afternoon we sat together, mostly in silen...\n",
       "19614  19614   odin, having carried his thanks to odin, proc...\n",
       "19615  19615  Soon after this, upon odin's leaving the room,...\n",
       "19616  19616  And all the worse for the doomed man, that the...\n",
       "\n",
       "[19617 rows x 2 columns]"
      ]
     },
     "execution_count": 5,
     "metadata": {},
     "output_type": "execute_result"
    }
   ],
   "source": [
    "test_x"
   ]
  },
  {
   "cell_type": "markdown",
   "metadata": {},
   "source": [
    "### submission\n",
    "- 제출 형태\n",
    "- 가로 index : 작가 명"
   ]
  },
  {
   "cell_type": "code",
   "execution_count": 6,
   "metadata": {
    "ExecuteTime": {
     "end_time": "2020-11-05T09:10:57.062076Z",
     "start_time": "2020-11-05T09:10:57.053401Z"
    }
   },
   "outputs": [
    {
     "data": {
      "text/html": [
       "<div>\n",
       "<style scoped>\n",
       "    .dataframe tbody tr th:only-of-type {\n",
       "        vertical-align: middle;\n",
       "    }\n",
       "\n",
       "    .dataframe tbody tr th {\n",
       "        vertical-align: top;\n",
       "    }\n",
       "\n",
       "    .dataframe thead th {\n",
       "        text-align: right;\n",
       "    }\n",
       "</style>\n",
       "<table border=\"1\" class=\"dataframe\">\n",
       "  <thead>\n",
       "    <tr style=\"text-align: right;\">\n",
       "      <th></th>\n",
       "      <th>index</th>\n",
       "      <th>0</th>\n",
       "      <th>1</th>\n",
       "      <th>2</th>\n",
       "      <th>3</th>\n",
       "      <th>4</th>\n",
       "    </tr>\n",
       "  </thead>\n",
       "  <tbody>\n",
       "    <tr>\n",
       "      <th>0</th>\n",
       "      <td>0</td>\n",
       "      <td>0</td>\n",
       "      <td>0</td>\n",
       "      <td>0</td>\n",
       "      <td>0</td>\n",
       "      <td>0</td>\n",
       "    </tr>\n",
       "    <tr>\n",
       "      <th>1</th>\n",
       "      <td>1</td>\n",
       "      <td>0</td>\n",
       "      <td>0</td>\n",
       "      <td>0</td>\n",
       "      <td>0</td>\n",
       "      <td>0</td>\n",
       "    </tr>\n",
       "    <tr>\n",
       "      <th>2</th>\n",
       "      <td>2</td>\n",
       "      <td>0</td>\n",
       "      <td>0</td>\n",
       "      <td>0</td>\n",
       "      <td>0</td>\n",
       "      <td>0</td>\n",
       "    </tr>\n",
       "    <tr>\n",
       "      <th>3</th>\n",
       "      <td>3</td>\n",
       "      <td>0</td>\n",
       "      <td>0</td>\n",
       "      <td>0</td>\n",
       "      <td>0</td>\n",
       "      <td>0</td>\n",
       "    </tr>\n",
       "    <tr>\n",
       "      <th>4</th>\n",
       "      <td>4</td>\n",
       "      <td>0</td>\n",
       "      <td>0</td>\n",
       "      <td>0</td>\n",
       "      <td>0</td>\n",
       "      <td>0</td>\n",
       "    </tr>\n",
       "    <tr>\n",
       "      <th>...</th>\n",
       "      <td>...</td>\n",
       "      <td>...</td>\n",
       "      <td>...</td>\n",
       "      <td>...</td>\n",
       "      <td>...</td>\n",
       "      <td>...</td>\n",
       "    </tr>\n",
       "    <tr>\n",
       "      <th>19612</th>\n",
       "      <td>19612</td>\n",
       "      <td>0</td>\n",
       "      <td>0</td>\n",
       "      <td>0</td>\n",
       "      <td>0</td>\n",
       "      <td>0</td>\n",
       "    </tr>\n",
       "    <tr>\n",
       "      <th>19613</th>\n",
       "      <td>19613</td>\n",
       "      <td>0</td>\n",
       "      <td>0</td>\n",
       "      <td>0</td>\n",
       "      <td>0</td>\n",
       "      <td>0</td>\n",
       "    </tr>\n",
       "    <tr>\n",
       "      <th>19614</th>\n",
       "      <td>19614</td>\n",
       "      <td>0</td>\n",
       "      <td>0</td>\n",
       "      <td>0</td>\n",
       "      <td>0</td>\n",
       "      <td>0</td>\n",
       "    </tr>\n",
       "    <tr>\n",
       "      <th>19615</th>\n",
       "      <td>19615</td>\n",
       "      <td>0</td>\n",
       "      <td>0</td>\n",
       "      <td>0</td>\n",
       "      <td>0</td>\n",
       "      <td>0</td>\n",
       "    </tr>\n",
       "    <tr>\n",
       "      <th>19616</th>\n",
       "      <td>19616</td>\n",
       "      <td>0</td>\n",
       "      <td>0</td>\n",
       "      <td>0</td>\n",
       "      <td>0</td>\n",
       "      <td>0</td>\n",
       "    </tr>\n",
       "  </tbody>\n",
       "</table>\n",
       "<p>19617 rows × 6 columns</p>\n",
       "</div>"
      ],
      "text/plain": [
       "       index  0  1  2  3  4\n",
       "0          0  0  0  0  0  0\n",
       "1          1  0  0  0  0  0\n",
       "2          2  0  0  0  0  0\n",
       "3          3  0  0  0  0  0\n",
       "4          4  0  0  0  0  0\n",
       "...      ... .. .. .. .. ..\n",
       "19612  19612  0  0  0  0  0\n",
       "19613  19613  0  0  0  0  0\n",
       "19614  19614  0  0  0  0  0\n",
       "19615  19615  0  0  0  0  0\n",
       "19616  19616  0  0  0  0  0\n",
       "\n",
       "[19617 rows x 6 columns]"
      ]
     },
     "execution_count": 6,
     "metadata": {},
     "output_type": "execute_result"
    }
   ],
   "source": [
    "submission"
   ]
  },
  {
   "cell_type": "markdown",
   "metadata": {},
   "source": [
    "## 전처리"
   ]
  },
  {
   "cell_type": "markdown",
   "metadata": {},
   "source": [
    "### train_test_split"
   ]
  },
  {
   "cell_type": "code",
   "execution_count": 7,
   "metadata": {
    "ExecuteTime": {
     "end_time": "2020-11-05T09:10:57.068340Z",
     "start_time": "2020-11-05T09:10:57.065732Z"
    }
   },
   "outputs": [],
   "source": [
    "X = train.loc[:, 'text']\n",
    "y = train.loc[:, 'author']"
   ]
  },
  {
   "cell_type": "code",
   "execution_count": 8,
   "metadata": {
    "ExecuteTime": {
     "end_time": "2020-11-05T09:10:57.072898Z",
     "start_time": "2020-11-05T09:10:57.071077Z"
    }
   },
   "outputs": [],
   "source": [
    "# X = train['text'].tolist()\n",
    "# y = train['author'].tolist()"
   ]
  },
  {
   "cell_type": "code",
   "execution_count": 9,
   "metadata": {
    "ExecuteTime": {
     "end_time": "2020-11-05T09:10:57.078725Z",
     "start_time": "2020-11-05T09:10:57.074534Z"
    }
   },
   "outputs": [
    {
     "data": {
      "text/plain": [
       "0        He was almost choking. There was so much, so m...\n",
       "1                   “Your sister asked for it, I suppose?”\n",
       "2         She was engaged one day as she walked, in per...\n",
       "3        The captain was in the porch, keeping himself ...\n",
       "4        “Have mercy, gentlemen!” odin flung up his han...\n",
       "                               ...                        \n",
       "54874    “Is that you, Mr. Smith?” odin whispered. “I h...\n",
       "54875    I told my plan to the captain, and between us ...\n",
       "54876     \"Your sincere well-wisher, friend, and sister...\n",
       "54877              “Then you wanted me to lend you money?”\n",
       "54878    It certainly had not occurred to me before, bu...\n",
       "Name: text, Length: 54879, dtype: object"
      ]
     },
     "execution_count": 9,
     "metadata": {},
     "output_type": "execute_result"
    }
   ],
   "source": [
    "X"
   ]
  },
  {
   "cell_type": "code",
   "execution_count": 10,
   "metadata": {
    "ExecuteTime": {
     "end_time": "2020-11-05T09:10:57.089273Z",
     "start_time": "2020-11-05T09:10:57.080219Z"
    }
   },
   "outputs": [],
   "source": [
    "X_train, X_test, y_train, y_test = train_test_split(X, y, test_size=0.2, random_state=13)"
   ]
  },
  {
   "cell_type": "markdown",
   "metadata": {},
   "source": [
    "### 벡터라이즈"
   ]
  },
  {
   "cell_type": "markdown",
   "metadata": {},
   "source": [
    "#### countvectorizer"
   ]
  },
  {
   "cell_type": "code",
   "execution_count": 11,
   "metadata": {
    "ExecuteTime": {
     "end_time": "2020-11-05T09:10:58.330360Z",
     "start_time": "2020-11-05T09:10:57.091009Z"
    }
   },
   "outputs": [
    {
     "data": {
      "text/plain": [
       "CountVectorizer(analyzer='word', binary=False, decode_error='strict',\n",
       "                dtype=<class 'numpy.int64'>, encoding='utf-8', input='content',\n",
       "                lowercase=True, max_df=1.0, max_features=None, min_df=1,\n",
       "                ngram_range=(1, 1), preprocessor=None, stop_words='english',\n",
       "                strip_accents=None, token_pattern='(?u)\\\\b\\\\w\\\\w+\\\\b',\n",
       "                tokenizer=None, vocabulary=None)"
      ]
     },
     "execution_count": 11,
     "metadata": {},
     "output_type": "execute_result"
    }
   ],
   "source": [
    "from sklearn.feature_extraction.text import CountVectorizer\n",
    "\n",
    "# Count Vectorization으로 feature extraction 변환 수행. \n",
    "cnt_vect = CountVectorizer(stop_words='english')\n",
    "cnt_vect.fit(X_train)"
   ]
  },
  {
   "cell_type": "code",
   "execution_count": 12,
   "metadata": {
    "ExecuteTime": {
     "end_time": "2020-11-05T09:10:59.757009Z",
     "start_time": "2020-11-05T09:10:58.332262Z"
    }
   },
   "outputs": [
    {
     "name": "stdout",
     "output_type": "stream",
     "text": [
      "X_train의 CountVectorizer Shape: (43903, 32118) (10976, 32118)\n"
     ]
    }
   ],
   "source": [
    "X_train_cnt_vect = cnt_vect.transform(X_train)\n",
    "X_test_cnt_vect = cnt_vect.transform(X_test)\n",
    "print('X_train의 CountVectorizer Shape:', X_train_cnt_vect.shape, X_test_cnt_vect.shape)"
   ]
  },
  {
   "cell_type": "code",
   "execution_count": 13,
   "metadata": {
    "ExecuteTime": {
     "end_time": "2020-11-05T09:10:59.784869Z",
     "start_time": "2020-11-05T09:10:59.758509Z"
    }
   },
   "outputs": [
    {
     "name": "stdout",
     "output_type": "stream",
     "text": [
      "{'odin': 19618, 'said': 24552, 'mr': 18754, 'stepping': 27099, 'room': 24270, 'handing': 13382, 'friend': 12070, 'letter': 16757, 'soon': 26440, 'miss': 18376, 'came': 4717, 'help': 13756, 'diverted': 9004, 'perplexity': 20907, 'answer': 1892, 'resulting': 23849, 'supposed': 27763, 'doubt': 9193, 'impatience': 14586, 'say': 24760, 'thing': 28533, 'meant': 17899, 'attributing': 2546, 'brother': 4339, 'wish': 31679, 'dancing': 7635, 'good': 12785, 'nature': 19004, 'convinced': 6802, 'superior': 27714, 'rest': 23819, 'world': 31813, 'gradually': 12876, 'withdrew': 31705, 'eyes': 10824, 'turned': 29484, 'watching': 31187, 'appeared': 2012, 'silence': 25770, 'light': 16848, 'slowly': 26104, 'wasting': 31176, 'candles': 4754, 'long': 17114, 'time': 28765, 'roused': 24324, 'collapse': 5998, 'red': 23210, 'coals': 5888, 'looked': 17126, 'vacantly': 30481, 'concentrating': 6343, 'attention': 2521, 'knitted': 16226, 'fixed': 11426, 'speaking': 26582, 'lapse': 16464, 'dialogue': 8416, 'asked': 2330, 'younger': 32047, 'know': 16248, 'going': 12765, 'want': 31095, 'shake': 25364, 'hands': 13392, 'bye': 4598, 'hand': 13370, 'captain': 4832, 'completed': 6252, 'mind': 18232, 'plan': 21335, 'defence': 7920, 'course': 7044, 'great': 12976, 'relief': 23447, 'ask': 2328, 'questions': 22704, 'sir': 25869, 'remember': 23489, 'prohibition': 22229, 'door': 9147, 'opened': 19800, 'mrs': 18755, 'waterbrook': 31194, 'large': 16473, 'lady': 16357, 'wore': 31795, 'dress': 9316, 'don': 9130, 'exactly': 10482, 'sailing': 24556, 'dim': 8511, 'recollection': 23148, 'having': 13582, 'seen': 25127, 'theatre': 28468, 'pale': 20268, 'magic': 17425, 'lantern': 16453, 'perfectly': 20839, 'suspect': 27852, 'state': 26988, 'intoxication': 15500, 'mean': 17884, 'caution': 5063, 'tell': 28300, 'keeper': 16078, 'pass': 20502, 'note': 19353, 'make': 17491, 'gesture': 12523, 'attract': 2536, 'stand': 26931, 'remain': 23473, 'wants': 31102, 'kissing': 16187, 'ready': 22998, 'shall': 25371, 'wait': 31023, 'ended': 10035, 'suddenly': 27574, 'clever': 5766, 'intellectual': 15371, 'observant': 19535, 'choose': 5499, 'little': 16994, 'idiot': 14422, 'invalid': 15541, 'like': 16866, 'ah': 1458, 'awfully': 2705, 'happy': 13431, 'deserve': 8224, 'bit': 3572, 'sighed': 25733, 'natural': 18999, 'way': 31238, 'following': 11683, 'words': 31792, 'entreaty': 10218, 'produced': 22168, 'desired': 8241, 'effect': 9707, 'satisfied': 24708, 'jane': 15774, 'solemn': 26374, 'assurances': 2421, 'attachment': 2494, 'article': 2281, 'contrary': 6737, 'cases': 4970, 'police': 21552, 'credit': 7209, 'blame': 3626, 'knowing': 16253, 'young': 32045, 'inexperienced': 15032, 'new': 19148, 'duties': 9518, 'work': 31796, 'sharply': 25419, 'peering': 20715, 'darkness': 7680, 'untrue': 30339, 'mumbled': 18797, 'boy': 4057, 'grin': 13052, 'flee': 11507, 'told': 28867, 'lowlands': 17232, 'better': 3460, 'inclined': 14813, 'growing': 13125, 'impatient': 14587, 'upper': 30402, 'uncle': 29731, 'sure': 27783, 'question': 22699, 'justice': 16023, 'matter': 17824, 'began': 3207, 'afraid': 1384, 'right': 24081, 'deaths': 7782, 'truly': 29382, 'die': 8444, 'gallows': 12299, 'picture': 21136, 'uncanny': 29704, 'instrument': 15335, 'head': 13615, 'extraordinary': 10790, 'clearness': 5737, 'engraved': 10095, 'pedlar': 20701, 'ballad': 2836, 'took': 28912, 'away': 2695, 'appetite': 2025, 'courts': 7059, 'coat': 5897, 'umbrella': 29614, 'hook': 14063, 'dry': 9409, 'presently': 21972, 'come': 6075, 'south': 26514, 'west': 31364, 'maid': 17452, 'yes': 32019, 'means': 17897, 'escape': 10330, 'stifling': 27136, 'cramping': 7151, 'burden': 4491, 'agonising': 1438, 'lethargy': 16754, 'times': 28769, 'moment': 18507, 'scene': 24831, 'suffocating': 27595, 'penned': 20769, 'hope': 14078, 'confession': 6438, 'day': 7734, 'behaviour': 3246, 'utterly': 30476, 'unlike': 30070, 'imagined': 14516, 'grown': 13130, 'feebler': 11125, 'instantly': 15310, 'fundamentally': 12184, 'agreed': 1448, 'heart': 13660, 'living': 17017, 'thou': 28584, 'receiving': 23091, 'adds': 1180, 'silent': 25774, 'canst': 4783, 'wouldst': 31854, 'hast': 13523, 'add': 1167, 'hadst': 13289, 'old': 19735, 'art': 2272, 'hinder': 13898, 'knowest': 16251, 'dost': 9173, 'morrow': 18647, 'care': 4870, 'semblance': 25164, 'condemn': 6388, 'thee': 28474, 'burn': 4518, 'stake': 26905, 'worst': 31838, 'heretics': 13805, 'people': 20795, 'kissed': 16185, 'thy': 28692, 'feet': 11139, 'faintest': 10885, 'sign': 25742, 'rush': 24443, 'heap': 13646, 'embers': 9885, 'maybe': 17860, 'added': 1168, 'thoughtful': 28586, 'penetration': 20755, 'taking': 28102, 'prisoner': 22102, 'explain': 10694, 'results': 23850, 'causes': 5056, 'impressive': 14693, 'birmingham': 3552, 'write': 31915, 'consent': 6564, 'gentlemen': 12481, 'stay': 27018, 'disorderly': 8818, 'conduct': 6415, 'guilty': 13205, 'violence': 30827, 'poor': 21626, 'man': 17556, 'bodinm': 3854, 'need': 19063, 'secretary': 25078, 'personal': 20936, 'life': 16839, 'doesn': 9066, 'concern': 6347, 'murder': 18820, 'father': 11032, 'wild': 31569, 'idea': 14406, 'quite': 22739, 'prove': 22381, 'll': 17023, 'directly': 8569, 'laugh': 16521, 'suspicion': 27860, 'dark': 7670, 'nights': 19207, 'unpleasant': 30146, 'voice': 30906, 'leaving': 16637, 'gate': 12394, 'rushed': 24444, 'home': 14009, 'oh': 19725, 'load': 17029, 'lifted': 16846, 'story': 27253, 'house': 14169, 'green': 12995, 'blinds': 3705, 'stooped': 27224, 'trunk': 29392, 'chambered': 5190, 'american': 1708, 'revolver': 23993, 'tantrum': 28154, 'wandering': 31087, 'bed': 3148, 'quarrel': 22650, 'greater': 12979, 'share': 25402, 'annexed': 1859, 'evening': 10432, 'strictly': 27358, 'examined': 10495, 'irreproachable': 15659, 'improved': 14713, 'civility': 5630, 'bound': 4013, 'explanation': 10699, 'felt': 11166, 'deserved': 8225, 'impossible': 14669, 'tremulous': 29231, 'inequality': 15017, 'shewed': 25484, 'indisposition': 14963, 'plainly': 21322, 'thought': 28585, 'best': 3423, 'counteract': 7005, 'unwillingness': 30366, 'assisted': 2400, 'spite': 26694, 'ordered': 19872, 'carriage': 4930, 'drove': 9380, 'induced': 14985, 'join': 15901, 'gratitude': 12946, 'agreeing': 1449, 'earnestly': 9577, 'thinking': 28539, 'airing': 1490, 'greatest': 12980, 'service': 25286, 'message': 18093, 'tried': 29279, 'vain': 30499, 'obliged': 19505, 'return': 23905, 'success': 27554, 'unpersuadable': 30142, 'mere': 18063, 'proposal': 22314, 'worse': 31829, 'wished': 31680, 'powers': 21795, 'hint': 13912, 'appear': 2009, 'promised': 22250, 'niece': 19185, 'account': 1044, 'let': 16751, 'truth': 29407, 'dear': 7770, 'bear': 3094, 'body': 3859, 'denied': 8080, 'cole': 5990, 'point': 21516, 'perry': 20909, 'really': 23015, 'ha': 13268, 'think': 28535, 'risk': 24145, 'sporting': 26751, 'flutter': 11634, 'remarked': 23483, 'spoken': 26728, 'intention': 15390, 'ago': 1434, 'joke': 15909, 'taken': 28098, 'seriously': 25267, 'joked': 15910, 'friends': 12075, 'knew': 16217, 'believe': 3279, 'especially': 10345, 'did': 8438, 'understand': 29815, 'creeping': 7224, 'rocks': 24210, 'place': 21302, 'gazed': 12421, 'pit': 21272, 'early': 9573, 'days': 7740, 'smaller': 26133, 'volcanic': 30914, 'blow': 3762, 'holes': 13987, 'plateau': 21363, 'bowl': 4040, 'shaped': 25396, 'hundreds': 14299, 'yards': 31972, 'lay': 16569, 'pools': 21624, 'scummed': 25012, 'stagnant': 26887, 'water': 31193, 'fringed': 12095, 'bullrushes': 4457, 'weird': 31329, 'occupants': 19582, 'seven': 25312, 'circles': 5590, 'dante': 7654, 'rookery': 24268, 'pterodactyls': 22443, 'congregated': 6510, 'view': 30766, 'area': 2166, 'round': 24315, 'edge': 9673, 'alive': 1569, 'ones': 19771, 'hideous': 13852, 'mothers': 18686, 'brooding': 4331, 'leathery': 16631, 'yellowish': 32007, 'eggs': 9735, 'crawling': 7177, 'flapping': 11465, 'mass': 17761, 'obscene': 19519, 'reptilian': 23672, 'shocking': 25547, 'clamor': 5651, 'filled': 11316, 'air': 1486, 'mephitic': 18044, 'horrible': 14107, 'musty': 18876, 'odor': 19675, 'sick': 25702, 'perched': 20817, 'stone': 27212, 'tall': 28121, 'gray': 12964, 'withered': 31707, 'dead': 7747, 'dried': 9324, 'specimens': 26599, 'actual': 1147, 'creatures': 7204, 'sat': 24693, 'males': 17515, 'absolutely': 942, 'motionless': 18691, 'save': 24738, 'rolling': 24239, 'occasional': 19573, 'snap': 26218, 'rat': 22925, 'trap': 29163, 'beaks': 3086, 'dragon': 9244, 'fly': 11638, 'went': 31355, 'past': 20527, 'huge': 14228, 'membranous': 17996, 'wings': 31650, 'closed': 5817, 'folding': 11668, 'fore': 11772, 'arms': 2227, 'gigantic': 12557, 'women': 31749, 'wrapped': 31865, 'web': 31294, 'colored': 6042, 'shawls': 25434, 'ferocious': 11197, 'heads': 13633, 'protruding': 22373, 'small': 26132, 'thousand': 28592, 'filthy': 11328, 'hollow': 13997, 'stood': 27219, 'mused': 18845, 'duty': 9522, 'plain': 21318, 'ran': 22866, 'frosty': 12124, 'ground': 13107, 'lying': 17350, 'trees': 29217, 'run': 24428, 'pleased': 21405, 'start': 26973, 'got': 12829, 'hall': 13324, 'standing': 26940, 'face': 10833, 'visibly': 30856, 'shuddered': 25668, 'concluded': 6369, 'ilya': 14503, 'detain': 8313, 'returned': 23906, 'modestly': 18469, 'reasons': 23046, 'influenced': 15095, 'influence': 15094, 'firmly': 11386, 'owed': 20177, 'strict': 27356, 'rigid': 24090, 'goodness': 12794, 'saved': 24739, 'indigence': 14945, 'suffering': 27585, 'feel': 11131, 'night': 19196, 'struggle': 27407, 'proud': 22376, 'pang': 20314, 'chair': 5178, 'clings': 5793, 'doady': 9032, 'looking': 17133, 'brightly': 4255, 'smiling': 26167, 'giddy': 12551, 'stupid': 27461, 'ungodly': 29975, 'violent': 30828, 'seek': 25120, 'turn': 29482, 'ways': 31245, 'coins': 5981, 'vague': 30495, 'indications': 14937, 'talk': 28113, 'faintly': 10887, 'exceedingly': 10513, 'grieved': 13030, 'disapprobation': 8610, 'hesitate': 13827, 'saying': 24763, 'doctor': 9045, 'aodin': 1954, 'repeated': 23591, 'directions': 8568, 'briefly': 4235, 'clearly': 5736, 'departed': 8111, 'permitting': 20888, 'silas': 25769, 'lord': 17163, 'mister': 18398, 'queer': 22681, 'offense': 19689, 'set': 25296, 'affairs': 1337, 'hear': 13650, 'parts': 20494, 'scowrers': 24936, 'lizzy': 17022, 'given': 12601, 'kind': 16150, 'dare': 7660, 'refuse': 23307, 'condescended': 6394, '_you_': 840, 'resolved': 23775, 'advise': 1309, 'disposition': 8863, 'respectable': 23792, 'unless': 30069, 'esteemed': 10375, 'husband': 14345, 'lively': 17006, 'talents': 28109, 'danger': 7644, 'unequal': 29893, 'marriage': 17706, 'scarcely': 24807, 'discredit': 8698, 'misery': 18342, 'child': 5429, 'grief': 13023, 'seeing': 25119, 'unable': 29620, 'respect': 23790, 'partner': 20487, 'nastya': 18987, 'silly': 25789, 'calmly': 4701, 'baby': 2747, 'isn': 15701, 'married': 17709, 'knees': 16213, 'beg': 3205, 'humphrey': 14293, 'mother': 18682, 'led': 16653, 'arrest': 2254, 'pointed': 21517, 'innocent': 15196, 'didn': 8441, 'commit': 6150, 'nay': 19021, 'master': 17773, 'ye': 31988, 'joe': 15895, 'swept': 27952, 'hearth': 13670, 'listen': 16965, 'chaise': 5181, 'cart': 4946, 'cold': 5982, 'wind': 31619, 'blew': 3692, 'keenly': 16077, 'frost': 12121, 'white': 31494, 'hard': 13443, 'marshes': 17723, 'stars': 26971, 'considered': 6581, 'awful': 2704, 'froze': 12132, 'death': 7776, 'pity': 21297, 'glittering': 12677, 'multitude': 18792, 'island': 15690, 'heard': 13651, 'darby': 7658, 'muttered': 18885, 'making': 17497, 'effort': 9724, 'shipmates': 25523, 'cried': 7254, 'stuff': 27438, 'beat': 3109, 'devil': 8361, 'feared': 11085, 'pound': 21774, 'quarter': 22660, 'mile': 18190, 'gentleman': 12478, 'fortune': 11914, 'stern': 27106, 'dollars': 9094, 'boozy': 3956, 'seaman': 25033, 'blue': 3776, 'mug': 18774, 'love': 17213, 'clenched': 5749, 'quivering': 22745, 'wanted': 31096, 'weapon': 31267, 'stab': 26865, 'object': 19491, 'wrath': 31872, 'bow': 4035, 'divided': 9010, 'beadle': 3081, 'cocked': 5920, 'hat': 13534, 'table': 28061, 'st': 26864, 'paul': 20606, 'fought': 11928, 'bickering': 3489, 'loth': 17183, 'missed': 18377, 'wounded': 31856, 'regret': 23351, 'far': 10968, 'concerned': 6348, 'feelings': 11135, 'present': 21965, 'allowed': 1602, 'acting': 1134, 'deceiving': 7824, 'assured': 2423, 'wicked': 31533, 'fears': 11093, 'fancied': 10954, 'unfortunate': 29947, 'girl': 12584, 'unanimously': 29643, 'voted': 30945, 'descent': 8204, 'aristocrat': 2194, 'enemy': 10056, 'republic': 23674, 'notorious': 19378, 'oppressor': 19842, 'conciergerie': 6360, 'hours': 14168, 'replied': 23617, 'bitter': 3578, 'laid': 16370, 'open': 19799, 'speak': 26579, 'offence': 19682, 'begun': 3239, 'finish': 11359, 'painful': 20246, 'prolonged': 22244, 'ejected': 9762, 'butler': 4565, 'footman': 11723, 'bride': 4219, 'fortunately': 11913, 'entered': 10170, 'interruption': 15466, 'breakfast': 4159, 'complained': 6240, 'sudden': 27573, 'retired': 23877, 'absence': 934, 'caused': 5054, 'comment': 6125, 'followed': 11680, 'learned': 16619, 'chamber': 5189, 'instant': 15306, 'caught': 5048, 'ulster': 29598, 'bonnet': 3915, 'hurried': 14332, 'passage': 20505, 'footmen': 11726, 'declared': 7855, 'leave': 16632, 'apparelled': 2000, 'refused': 23308, 'mistress': 18402, 'believing': 3287, 'company': 6197, 'ascertaining': 2312, 'daughter': 7712, 'disappeared': 8601, 'aloysius': 1634, 'doran': 9157, 'conjunction': 6520, 'bridegroom': 4220, 'communication': 6179, 'energetic': 10057, 'inquiries': 15215, 'probably': 22129, 'result': 23847, 'speedy': 26630, 'clearing': 5733, 'singular': 25850, 'business': 4549, 'late': 16502, 'hour': 14166, 'transpired': 29150, 'whereabouts': 31420, 'missing': 18383, 'rumours': 24424, 'foul': 11929, 'play': 21378, 'woman': 31743, 'original': 19906, 'disturbance': 8977, 'belief': 3277, 'jealousy': 15807, 'motive': 18693, 'strange': 27293, 'disappearance': 8600, 'disappointed': 8605, 'confess': 6434, 'thoroughly': 28582, 'charmed': 5290, 'hair': 13306, 'obstinacy': 19551, 'character': 5250, 'ill': 14473, 'papers': 20344, 'look': 17125, 'fainted': 10883, 'recovered': 23188, 'ungrateful': 29981, 'materially': 17800, 'lessen': 16743, 'chance': 5205, 'marrying': 17713, 'men': 18011, 'consideration': 6579, 'felipe': 11150, 'observe': 19540, 'certain': 5143, 'awkwardness': 2711, 'attained': 2503, 'objects': 19499, 'loves': 17220, 'process': 22144, 'attaining': 2504, 'does': 9064, 'absurd': 960, 'fact': 10849, 'comical': 6097, 'creature': 7203, 'jest': 15842, 'mathematical': 17805, 'certainty': 5145, 'insufferable': 15341, 'twice': 29530, 'makes': 17494, 'simply': 25821, 'piece': 21144, 'insolence': 15276, 'pert': 20963, 'coxcomb': 7104, 'stands': 26942, 'akimbo': 1502, 'barring': 2981, 'path': 20556, 'spitting': 26699, 'admit': 1239, 'excellent': 10522, 'charming': 5292, 'compassionate': 6212, 'distrusted': 8971, 'disliked': 8789, 'opposed': 19829, 'dread': 9289, 'handed': 13374, 'pretty': 22027, 'years': 31998, 'paused': 20611, 'lost': 17181, 'meditation': 17941, 'touching': 28986, 'spot': 26757, 'designs': 8236, 'growled': 13127, 'engaging': 10077, 'ruffian': 24383, 'quickly': 22714, 'argue': 2173, 'injured': 15171, 'doing': 9083, 'public': 22445, 'scandal': 24787, 'reflects': 23284, 'suppose': 27762, 'wasn': 31167, 'america': 1707, 'mild': 18182, 'pleasant': 21398, 'reverend': 23942, 'hale': 13317, 'hearty': 13684, 'humoured': 14284, 'laughed': 16524, 'parted': 20455, 'possible': 21718, 'theory': 28499, 'probable': 22128, 'evil': 10459, 'transferred': 29115, 'stamping': 26925, 'efficacy': 9718, 'robust': 24200, 'developed': 8348, 'just': 16021, 'deposed': 8136, 'tenths': 28369, 'virtue': 30843, 'control': 6755, 'exercised': 10592, 'exhausted': 10603, 'slighter': 26057, 'shone': 25558, 'countenance': 7002, 'written': 31927, 'broadly': 4305, 'lethal': 16752, 'left': 16671, 'imprint': 14696, 'deformity': 7958, 'decay': 7813, 'ugly': 29596, 'idol': 14433, 'glass': 12631, 'conscious': 6556, 'repugnance': 23683, 'leap': 16613, 'welcome': 31334, 'human': 14246, 'bore': 3964, 'livelier': 17002, 'image': 14507, 'spirit': 26685, 'express': 10736, 'single': 25844, 'imperfect': 14603, 'hitherto': 13936, 'accustomed': 1073, 'doubtless': 9199, 'observed': 19541, 'near': 19028, 'visible': 30855, 'misgiving': 18351, 'flesh': 11521, 'beings': 3261, 'meet': 17959, 'commingled': 6134, 'ranks': 22882, 'mankind': 17600, 'pure': 22538, 'folk': 11674, 'knight': 16219, 'bohemia': 3870, 'fed': 11118, 'invited': 15590, 'inform': 15102, 'won': 31750, 'shower': 25616, 'prince': 22072, 'anxious': 1946, 'agitated': 1427, 'word': 31789, 'false': 10921, 'shameful': 25384, 'surprised': 27819, 'flew': 11525, 'washed': 31162, 'combed': 6066, 'brushed': 4371, 'clothes': 5831, 'dressed': 9317, 'madame': 17396, 'alas': 1515, 'built': 4435, 'hopes': 14086, 'borrow': 3976, 'lend': 16709, 'wondered': 31752, 'gone': 12781, 'sort': 26471, 'instead': 15312, 'samsonov': 24628, 'class': 5694, 'hardly': 13455, 'empress': 9965, 'sing': 25837, 'enchanted': 9984, 'ballads': 2839, 'french': 12036, 'language': 16441, 'generally': 12446, 'ought': 19971, 'dance': 7629, 'ta': 28058, 'ra': 22762, 'la': 16301, 'accompanying': 1027, 'glorified': 12695, 'resembling': 23728, 'guitar': 13211, 'blissful': 3711, 'delirium': 8021, 'refreshment': 23300, 'soul': 26487, 'recoiled': 23142, 'punch': 22498, 'particularly': 20474, 'custody': 7530, 'smiled': 26165, 'gave': 12411, 'delicious': 8010, 'mirror': 18288, 'imbecile': 14521, 'idiotic': 14423, 'maudlin': 17839, 'crisis': 7281, 'feeble': 11123, 'infatuation': 15053, 'adventure': 1289, 'hansom': 13417, 'cabs': 4634, 'dreadfully': 9293, 'frightened': 12085, 'sighing': 25734, 'animation': 1845, 'vast': 30580, 'deal': 7763, 'lover': 17218, 'manner': 17606, 'seconded': 25072, 'inclination': 14810, 'outer': 19990, 'rained': 22828, 'sight': 25737, 'seat': 25056, 'half': 13319, 'wiser': 31677, 'suspecting': 27854, 'sent': 25215, 'entrance': 10205, 'party': 20495, 'ladies': 16351, 'evidently': 10458, 'acquaintance': 1107, 'joined': 15902, 'milsom': 18222, 'street': 27334, 'obviously': 19571, 'struck': 27405, 'confused': 6490, 'renewed': 23554, 'betraying': 3450, 'sensibility': 25204, 'advantage': 1284, 'preparation': 21947, 'moments': 18512, 'overpowering': 20126, 'blinding': 3702, 'bewildering': 3475, 'effects': 9712, 'strong': 27395, 'surprise': 27818, 'agitation': 1429, 'pain': 20244, 'pleasure': 21409, 'delight': 8012, 'started': 26974, 'sharp': 25411, 'stout': 27257, 'english': 10089, 'counsellor': 6998, 'somewhat': 26423, 'blank': 3642, 'prompt': 22262, 'acceptance': 994, 'bounty': 4024, 'objection': 19494, 'engagement': 10075, 'aunt': 2582, 'scruples': 24993, 'visit': 30860, 'steadily': 27030, 'resisted': 23766, 'coach': 5879, 'conveyed': 6794, 'cousins': 7067, 'suitable': 27617, 'girls': 12589, 'hearing': 13654, 'drawing': 9279, 'accepted': 996, 'invitation': 15587, 'handkerchiefs': 13387, 'trabb': 29030, 'depressed': 8160, 'address': 1176, 'second': 25070, 'ivan': 15727, 'vehemently': 30610, 'step': 27090, 'flight': 11536, 'verandah': 30669, 'turning': 29486, 'indignant': 14947, 'moving': 18750, 'boots': 3954, 'allegory': 1583, 'walk': 31050, 'transformation': 29121, 'earth': 9586, 'physically': 21103, 'god': 12738, 'transformed': 29123, 'things': 28534, 'thoughts': 28591, 'changed': 5217, 'agreeable': 1445, 'expected': 10656, 'circumstances': 5609, 'residence': 23746, 'fretful': 12058, 'whimpered': 31446, 'comfortable': 6088, 'parties': 20476, 'establishment': 10369, 'sorry': 26470, 'convenient': 6770, 'apartment': 1961, 'retire': 23876, 'stopped': 27231, 'spirits': 26689, 'revived': 23977, 'lungs': 17308, 'liver': 17007, 'limbs': 16889, 'eighteenpence': 9751, 'goroo': 12817, 'habit': 13270, 'holding': 13983, 'straight': 27275, 'staring': 26964, 'excitement': 10545, 'guess': 13177, 'weak': 31250, 'trail': 29071, 'follow': 11679, 'hell': 13750, 'money': 18523, 'grinned': 13061, 'wad': 30978, 'dollar': 9093, 'notes': 19358, 'previous': 22040, 'letters': 16759, 'telegrams': 28290, 'kept': 16102, 'date': 7707, 'occurred': 19592, 'forsaken': 11880, 'corner': 6897, 'longer': 17116, 'stays': 27021, 'moor': 18599, 'sink': 25854, 'vastness': 30583, 'grim': 13039, 'charm': 5286, 'bosom': 3980, 'traces': 29035, 'modern': 18465, 'england': 10086, 'homes': 14016, 'prehistoric': 21916, 'sides': 25720, 'houses': 14185, 'forgotten': 11855, 'graves': 12957, 'monoliths': 18541, 'marked': 17679, 'temples': 28320, 'spare': 26549, 'wonder': 31751, 'melt': 17985, 'resolutions': 23773, 'nigel': 19190, 'ford': 11767, 'believed': 3281, 'reflecting': 23278, 'trying': 29414, 'sigh': 25732, '_cause_': 248, 'encouraging': 10009, 'awkward': 2709, 'passed': 20508, 'determined': 8327, 'boring': 3969, 'brought': 4345, 'copy': 6863, 'book': 3923, 'sentence': 25216, 'firm': 11383, 'produce': 22167, 'instinctively': 15321, 'sounding': 26497, 'humbug': 14265, 'proper': 22288, 'soothe': 26445, 'specially': 26593, 'acceptable': 993, 'position': 21703, 'hazards': 13606, 'guest': 13182, 'despatched': 8261, 'relieved': 23450, 'comforted': 6090, 'problem': 22135, 'land': 16418, 'answered': 1894, 'seas': 25049, 'break': 4155, 'heavy': 13705, 'foam': 11640, 'cocaine': 5912, 'live': 16999, 'brain': 4093, 'window': 31633, 'dreary': 9309, 'dismal': 8796, 'unprofitable': 30167, 'yellow': 32005, 'fog': 11651, 'swirls': 27983, 'drifts': 9330, 'dun': 9473, 'coloured': 6046, 'hopelessly': 14084, 'prosaic': 22332, 'material': 17798, 'use': 30445, 'field': 11270, 'exert': 10595, 'crime': 7259, 'commonplace': 6166, 'existence': 10630, 'qualities': 22643, 'function': 12178, 'burke': 4513, 'irishmen': 15630, 'cause': 5053, 'infinity': 15074, 'hurt': 14339, 'distasted': 8931, 'scots': 24915, 'rebellion': 23064, 'astonished': 2433, 'foreboding': 11775, 'possessed': 21709, 'russian': 24449, 'son': 26428, 'imagine': 14515, 'amazement': 1679, 'marching': 17657, 'consulting': 6647, 'grieving': 13032, 'months': 18572, 'anguish': 1835, 'nikita': 19215, 've': 30595, 'children': 5436, 'buried': 4512, 'overmuch': 20118, 'forget': 11842, 'leaves': 16635, 'shirt': 25535, 'wail': 31011, 'pilgrimage': 21181, 'driver': 9349, 'drives': 9351, 'horse': 14118, 'drinking': 9339, 'used': 30446, 'gives': 12603, 'goods': 12795, 'oppose': 19828, 'profit': 22198, 'jerry': 15838, 'partners': 20488, 'suffer': 27578, 'honour': 14050, 'obey': 19486, 'announce': 1867, 'quiet': 22721, 'robbers': 24185, 'issued': 15708, 'forth': 11892, 'barney': 2958, 'fast': 11012, 'rolled': 24233, 'asleep': 2336, 'positive': 21705, 'occur': 19590, 'shape': 25395, 'telegram': 28289, 'kenyon': 16098, 'junction': 16001, 'shame': 25381, 'odious': 19674, 'countess': 7020, 'error': 10320, 'foolish': 11710, 'wrong': 31928, 'active': 1138, 'bringing': 4273, 'adventuring': 1293, 'assuming': 2418, 'trick': 29269, 'simple': 25810, 'ashamed': 2319, 'ay': 2723, 'murmured': 18832, 'relapsing': 23409, 'drowsy': 9388, 'jumping': 15998, 'fiercely': 11277, 'flushed': 11626, 'starting': 26975, 'robbed': 24182, 'stole': 27204, 'bell': 3290, 'rang': 22873, 'places': 21304, 'mounted': 18718, 'tribune': 29263, 'toleration': 28874, 'impertinence': 14616, 'vulgarity': 30969, 'inferiority': 15064, 'difference': 8454, 'taste': 28200, 'disposed': 8860, 'steeles': 27061, 'encourage': 10004, 'advances': 1282, 'invariable': 15545, 'coldness': 5987, 'checked': 5341, 'endeavour': 10031, 'intimacy': 15482, 'principally': 22082, 'attributed': 2544, 'preference': 21908, 'evident': 10457, 'manners': 17609, 'lucy': 17262, 'opportunity': 19827, 'conversation': 6779, 'striving': 27384, 'improve': 14712, 'easy': 9610, 'sentiments': 25230, 'held': 13746, 'soft': 26338, 'eyeless': 10821, 'gripped': 13066, 'vise': 30852, 'startled': 26978, 'struggled': 27408, 'withdraw': 31700, 'blind': 3697, 'pulled': 22477, 'close': 5816, 'action': 1135, 'arm': 2204, 'depict': 8125, 'confusion': 6493, 'distress': 8960, 'scrymgeour': 25003, 'saw': 24752, 'forward': 11916, 'interfere': 15414, 'pleasantry': 21404, 'offer': 19694, 'unnecessary': 30116, 'warning': 31144, 'criminal': 7262, 'lament': 16393, 'bring': 4271, 'ruin': 24396, 'author': 2601, 'spy': 26817, 'inactive': 14749, 'juncture': 16003, 'conflict': 6474, 'acute': 1152, 'torture': 28963, 'clung': 5866, 'bars': 2986, 'shutters': 25683, 'irregularity': 15653, 'sweat': 27922, 'elbow': 9779, 'deferentially': 7935, 'familiar': 10936, 'suave': 27480, 'intonation': 15496, 'affected': 1340, 'refined': 23272, 'tradespeople': 29055, 'befrizzled': 3204, 'shop': 25566, 'assistants': 2399, 'occupied': 19585, 'remaining': 23476, 'barrack': 2968, 'hanging': 13408, 'unsettled': 30252, 'observances': 19534, 'pipe': 21236, 'negro': 19094, 'jackknife': 15750, 'pack': 20211, 'cards': 4868, 'slate': 26001, 'unconsciously': 29757, 'pushed': 22589, 'occasion': 19572, 'conceived': 6339, 'aversion': 2650, 'patron': 20581, 'interchanged': 15405, 'confidence': 6446, 'shaping': 25401, 'syllable': 28014, 'hold': 13977, 'thoughtless': 28589, 'hearted': 13665, 'bygone': 4601, 'anybody': 1949, 'till': 28747, 'week': 31309, 'happened': 13423, 'dying': 9545, 'hesitating': 13830, 'vex': 30726, 'sanguine': 24661, 'pride': 22056, 'bitterly': 3581, 'resented': 23730, 'crossed': 7336, 'swords': 28003, 'peasant': 20671, 'affect': 1338, 'highly': 13876, 'degrading': 7972, 'family': 10942, 'ridiculous': 24065, 'expression': 10740, 'reminded': 23500, 'deeply': 7907, 'smoother': 26194, 'polite': 21561, 'elder': 9782, 'incumbrance': 14893, '_that_': 741, 'overheard': 20100, 'glance': 12622, 'faces': 10838, 'chubby': 5538, 'cheery': 5365, 'absolute': 941, 'ferocity': 11199, 'working': 31803, 'guineas': 13207, 'loaded': 17030, 'examining': 10497, 'pistol': 21267, 'harshness': 13507, 'indefiniteness': 14914, 'compared': 6201, 'chief': 5420, 'anxiety': 1945, 'tormented': 28943, 'utmost': 30469, 'ceasing': 5091, 'grew': 13013, 'dispirited': 8847, 'lied': 16827, 'shuffled': 25674, 'needing': 19066, 'wouldn': 31852, 'stranger': 27296, 'indicating': 14935, 'talking': 28119, 'engaged': 10074, 'interesting': 15412, 'experienced': 10676, 'disappointment': 8607, 'giving': 12605, 'fair': 10890, 'companion': 6192, 'yesterday': 32020, 'stilton': 27143, 'cheese': 5366, 'north': 19325, 'wiltshire': 31608, 'butter': 4570, 'celery': 5103, 'beet': 3187, 'root': 24277, 'dessert': 8288, 'bought': 4001, 'mines': 18242, 'todman': 28848, 'lee': 16658, 'market': 17682, 'year': 31990, 'meeting': 17961, 'composed': 6279, 'proportion': 22305, 'dinner': 8542, 'elegant': 9797, 'plentiful': 21420, 'according': 1041, 'usual': 30461, 'style': 27472, 'odins': 19664, 'habits': 13273, 'raise': 22832, 'emotion': 9937, 'behold': 3251, 'wide': 31542, 'number': 19427, 'dishes': 8756, 'patience': 20565, 'contrive': 6750, 'experience': 10675, 'passing': 20514, 'servants': 25280, 'fresh': 12048, 'conviction': 6798, 'special': 26588, 'advised': 1310, 'sire': 25870, 'malétroit': 17545, 'ironical': 15639, 'obeisance': 19481, 'boarding': 3817, 'sank': 24664, 'talked': 28115, 'terrible': 28396, 'society': 26325, 'eminent': 9927, 'order': 19871, 'freemen': 12026, 'clue': 5856, 'cocking': 5923, 'eye': 10814, 'rot': 24290, 'admiration': 1227, 'court': 7047, 'bailey': 2805, 'judge': 15969, 'beauty': 3129, 'golden': 12769, 'haired': 13308, 'doll': 9092, 'owe': 20176, 'weld': 31337, 'chivalrous': 5474, 'fashion': 11007, 'sacrificed': 24508, 'reason': 23037, 'secrecy': 25075, 'unhappy': 29997, 'real': 22999, 'mate': 17797, 'rough': 24306, 'sit': 25881, 'ma': 17366, 'rejoined': 23404, '_not_': 573, 'snoring': 26268, 'snore': 26265, 'gape': 12335, 'sneeze': 26243, 'humour': 14283, 'strikes': 27367, 'prerogative': 21958, 'finger': 11351, 'town': 29018, 'clear': 5729, 'end': 10020, 'raising': 22835, 'bending': 3335, 'black': 3589, 'brows': 4355, 'frown': 12126, 'try': 29412, 'comes': 6082, 'agenda': 1405, 'paper': 20341, 'eager': 9558, 'thanks': 28455, 'happiness': 13430, 'spent': 26647, 'weeks': 31312, 'enjoyment': 10117, 'attentions': 2522, 'received': 23088, '_her_': 422, 'gratified': 12938, 'solemnity': 26377, 'scarce': 24806, 'ken': 16087, 'darkly': 7679, 'haven': 13579, 'beginning': 3221, 'pawnbroker': 20628, 'painter': 20253, 'mixed': 18435, 'senseless': 25200, 'fellow': 11157, 'sabaneyev': 24485, 'tchizhov': 28246, 'ivanitch': 15728, 'shouted': 25604, 'impressively': 14694, 'improving': 14720, 'legal': 16676, 'knowledge': 16256, 'uriah': 30438, 'tidd': 28713, 'practice': 21802, 'writer': 31916, 'fang': 10960, 'pause': 20610, 'imperiously': 14611, 'nonsense': 19301, 'heavens': 13696, 'bled': 3674, 'mamma': 17550, 'wash': 31159, 'stop': 27227, 'haste': 13524, 'slop': 26084, 'basin': 3012, 'finished': 11360, 'nervously': 19122, 'wound': 31855, 'carried': 4932, 'stick': 27122, 'described': 8206, 'oak': 19460, 'cudgel': 7418, 'immediately': 14543, 'terrors': 28409, 'rooms': 24271, 'subject': 27488, 'waits': 31029, 'approbation': 2079, 'acted': 1133, 'dances': 7633, 'projected': 22234, 'ball': 2835, 'randalls': 22870, 'crown': 7359, 'inn': 15189, 'oath': 19471, 'murmur': 18831, 'subjects': 27492, 'persons': 20944, 'unnatural': 30113, 'claims': 5643, 'attending': 2518, 'reproached': 23651, 'prithee': 22107, 'send': 25177, 'villains': 30795, 'beseech': 3398, 'battle': 3048, 'strike': 27366, 'stroke': 27387, 'promise': 22249, 'roared': 24175, 'bull': 4448, 'smells': 26161, 'blood': 3733, 'slaughter': 26007, 'bank': 2894, 'beckoned': 3140, 'madman': 17412, 'tore': 28941, 'wrist': 31911, 'threw': 28627, 'dispatch': 8829, 'box': 4051, 'direction': 8567, 'meaning': 17890, 'obvious': 19570, 'evidence': 10455, 'lives': 17013, 'spared': 26550, 'train': 29075, 'controls': 6758, 'theirs': 28481, 'deep': 7901, 'breath': 4174, 'hostel': 14145, 'pied': 21148, 'merlin': 18075, 'bones': 3908, 'hang': 13401, 'nail': 18929, 'change': 5215, 'brigandine': 4244, 'tunic': 29465, 'dame': 7611, 'watch': 31178, 'notice': 19365, 'coming': 6099, 'odd': 19609, 'uttering': 30475, 'intently': 15395, 'power': 21789, 'injuring': 15173, 'goes': 12756, 'hugh': 14232, 'beauties': 3123, 'madam': 17395, 'owing': 20183, 'unforeseen': 29942, 'obstacles': 19550, 'rendered': 23546, 'railway': 22822, 'station': 26999, 'competent': 6229, 'person': 20932, 'likewise': 16877, 'deprived': 8165, 'interview': 15478, 'morning': 18641, 'senate': 25175, 'delay': 7992, 'intrude': 15521, 'circle': 5588, 'visiting': 30866, 'paying': 20636, 'respects': 23803, 'lodgings': 17074, 'later': 16506, 'clock': 5807, 'precisely': 21871, 'herewith': 13807, 'venture': 30659, 'earnest': 9576, 'imperative': 14599, 'request': 23695, 'offered': 19695, 'gross': 13099, 'unprecedented': 30157, 'affront': 1371, 'illness': 14485, 'desire': 8240, 'personally': 20938, 'indispensable': 14960, 'circumstantial': 5610, 'regard': 23323, 'learn': 16618, 'interpretation': 15451, 'ignorant': 14455, 'information': 15105, 'understood': 29820, 'eh': 9748, 'education': 9697, 'grave': 12948, 'profession': 22185, 'rosa': 24283, 'sternly': 27109, 'swore': 28006, 'faith': 10903, 'asking': 2332, 'compact': 6188, 'outhouse': 20001, 'dreadful': 9292, 'altogether': 1662, 'perceive': 20804, 'devilish': 8362, 'cunning': 7448, 'case': 4967, 'murderer': 18822, 'accomplice': 1029, 'grotesque': 13105, 'inconceivable': 14843, 'device': 8357, 'served': 25282, 'effective': 9710, 'laura': 16537, 'lyons': 17360, 'hound': 14160, 'impressed': 14686, 'occurring': 19595, 'uncancelled': 29703, 'appointment': 2051, 'known': 16257, 'fear': 11084, 'task': 28194, 'successfully': 27557, 'accomplished': 1032, 'difficult': 8461, 'remained': 23475, 'foo': 11701, 'zametov': 32066, 'laughing': 16526, 'deeds': 7897, 'slip': 26072, 'practised': 21806, 'desperate': 8265, 'reckon': 23119, 'example': 10498, 'murdered': 18821, 'district': 8968, 'risked': 24146, 'daylight': 7739, 'miracle': 18280, 'shook': 25559, 'succeed': 27550, 'robbing': 24188, 'couldn': 6989, 'building': 4433, 'tremendous': 29228, 'shout': 25603, 'echoed': 9643, 'loud': 17189, 'groans': 13081, 'gathered': 12399, 'strength': 27338, 'swelled': 27948, 'angry': 1834, 'thunder': 28675, 'peal': 20661, 'joy': 15959, 'populace': 21640, 'outside': 20036, 'greeting': 13006, 'news': 19160, 'monday': 18521, 'persuaded': 20954, 'desist': 8246, 'unavailing': 29661, 'efforts': 9725, 'command': 6101, 'proceeded': 22140, 'embassy': 9878, 'indian': 14930, 'rubbed': 24354, 'breathed': 4176, 'mouth': 18735, 'labours': 16320, 'vitalised': 30874, 'aloof': 1630, 'discarded': 8631, 'clay': 5716, 'noon': 19308, 'faithful': 10905, 'servant': 25279, 'length': 16712, 'unshaken': 30257, 'quietude': 22729, 'occupy': 19588, 'suit': 27616, 'marvel': 17740, 'sitting': 25889, 'piano': 21114, 'strumming': 27413, 'valse': 30518, 'banging': 2886, 'keys': 16113, 'fists': 11411, 'random': 22872, 'lonely': 17111, 'watcher': 31180, 'fingering': 11353, 'gun': 13227, 'dissatisfied': 8896, 'reply': 23619, 'bury': 4536, 'unholy': 30006, 'hanged': 13404, 'landlady': 16426, 'churchyard': 5557, 'prayed': 21831, 'singing': 25843, 'church': 5552, 'deacon': 7746, 'reads': 22997, 'verbally': 30672, 'reach': 22977, 'read': 22985, 'dwelt': 9537, 'solway': 26413, 'shore': 25573, 'race': 22768, 'reformation': 23288, 'eighth': 9753, 'suffered': 27581, 'prematurely': 21927, 'disabilities': 8584, 'age': 1400, 'chimney': 5452, 'reading': 22994, 'lined': 16920, 'gown': 12854, 'wry': 31941, 'model': 18459, 'housekeeper': 14175, 'nourished': 19388, 'study': 27435, 'reputed': 23694, 'country': 7025, 'baptism': 2913, 'tact': 28079, 'policy': 21556, 'dissimulation': 8910, 'merely': 18065, 'popular': 21641, 'wine': 31642, 'unco': 29740, 'lasses': 16490, 'broils': 4319, 'selfishness': 25156, 'conceit': 6333, 'answering': 1895, 'wont': 31762, 'claim': 5638, 'impersonal': 14614, 'common': 6161, 'logic': 17084, 'rare': 22908, 'dwell': 9530, 'degraded': 7971, 'lectures': 16650, 'series': 25266, 'tales': 28110, 'inherited': 15145, 'property': 22293, 'nearly': 19034, 'pounds': 21777, 'intended': 15381, 'purchase': 22531, 'estate': 10371, 'choice': 5487, 'county': 7032, 'provided': 22387, 'liberty': 16806, 'manor': 17615, 'doubtful': 9195, 'easiness': 9602, 'temper': 28309, 'spend': 26643, 'remainder': 23474, 'generation': 12448, 'score': 24902, 'flat': 11475, 'brims': 4269, 'curled': 7479, 'quality': 22644, 'band': 2867, 'ribbed': 24025, 'silk': 25777, 'lining': 16931, 'afford': 1363, 'buy': 4585, 'expensive': 10672, 'assuredly': 2424, 'intolerable': 15493, 'mischief': 18317, 'wretch': 31894, 'varia': 30553, 'trembled': 29223, 'gaganov': 12259, 'raged': 22804, 'despise': 8270, 'mercy': 18061, 'spit': 26693, 'acquainted': 1109, 'expressing': 10739, 'concurrence': 6384, 'excepting': 10527, 'moping': 18610, 'annie': 1860, 'sunshine': 27692, 'satchel': 24696, 'pulling': 22480, 'bronze': 4326, 'cannon': 4771, 'remembered': 23490, 'heep': 13726, 'tea': 28249, 'pays': 20641, 'patient': 20566, 'humble': 14257, 'peace': 20645, 'match': 17791, 'upstairs': 30419, 'drunk': 9404, 'honest': 14029, 'lot': 17182, 'trash': 29169, 'calling': 4690, 'sorts': 26475, 'names': 18944, 'puppy': 22526, 'bullock': 4455, 'zossimov': 32098, 'knows': 16258, 'forgiven': 11850, 'corridor': 6934, 'lock': 17056, 'reference': 23265, 'legend': 16682, 'current': 7486, 'sect': 25083, 'flagellants': 11436, 'translator': 29138, 'secret': 25076, 'sending': 25181, 'journey': 15945, 'purchaser': 22533, 'copse': 6862, 'timber': 28760, 'keeps': 16083, 'arrange': 2240, 'collar': 6002, 'tie': 28724, 'distinctly': 8939, 'bare': 2929, 'throat': 28636, 'flights': 11537, 'hide': 13851, 'crying': 7403, 'perfect': 20834, 'laocoön': 16457, 'stockings': 27193, 'feather': 11102, 'angel': 1816, 'merry': 18084, 'schoolboy': 24862, 'drunken': 9407, 'christmas': 5528, 'everybody': 10450, 'hallo': 13328, 'whoop': 31523, 'sufficient': 27592, 'tomorrow': 28893, 'thereof': 28503, 'differ': 8452, 'rogue': 24223, 'fewer': 11235, 'tranquillity': 29104, 'belonging': 3310, 'memory': 18009, 'pervaded': 20981, 'wickfield': 31538, 'desiring': 8244, 'stairs': 26902, 'charges': 5269, 'sang': 24657, 'played': 21379, 'worked': 31798, 'game': 12313, 'thoughtfully': 28587, 'smile': 26164, 'roubles': 24303, 'dragging': 9242, 'dawned': 7729, 'quietly': 22727, 'eyebrows': 10816, 'exclamations': 10555, 'horror': 14115, 'assistance': 2397, 'expecting': 10657, 'thanked': 28446, 'tears': 28264, 'actuated': 1150, 'relating': 23413, 'speedily': 26627, 'settled': 25303, 'toby': 28843, 'peeping': 20709, 'satisfy': 24710, 'catch': 5022, 'dog': 9070, 'feels': 11136, 'wakeful': 31036, 'ticed': 28700, 'neat': 19036, 'marry': 17712, 'presentation': 21967, 'value': 30522, 'supposing': 27765, 'incumbent': 14892, 'sickly': 25712, 'likely': 16871, 'vacate': 30482, 'fourteen': 11950, 'sell': 25158, 'sense': 25199, 'improvident': 14718, 'inconsistency': 14855, 'sold': 26362, 'aye': 2724, 'depend': 8117, 'stories': 27244, 'dozen': 9232, 'gladly': 12615, 'ebenezer': 9628, 'proof': 22279, 'jerk': 15829, 'thumb': 28665, 'vault': 30587, 'terror': 28406, 'cave': 5073, 'signed': 25750, 'statement': 26993, 'drawn': 9284, 'pray': 21830, 'exposed': 10723, 'temptation': 28327, 'prevail': 22028, 'hoped': 14079, 'suggested': 27604, 'friendly': 12074, 'supper': 27739, 'mann': 17604, 'london': 17105, 'grusha': 13158, 'begging': 3217, 'pardon': 20397, 'worship': 31830, 'thinks': 28540, 'tortures': 28966, 'infernal': 15066, 'curves': 7516, 'tortured': 28964, 'literary': 16982, 'criticism': 7292, '_voice_': 803, 'dined': 8529, 'glasses': 12632, 'decanters': 7812, 'drink': 9336, 'drank': 9261, 'games': 12316, 'dominoes': 9128, 'books': 3930, 'showed': 25615, 'slight': 26055, 'modest': 18468, 'orderly': 19875, 'placid': 21305, 'beautiful': 3125, 'calm': 4696, 'exercise': 10591, 'begins': 3223, 'descend': 8198, 'breast': 4166, 'em': 9858, 'ly': 17346, 'falls': 10919, 'natured': 19005, 'intelligent': 15375, 'totski': 28976, 'wife': 31558, 'brilliant': 4261, 'eminently': 9928, 'calculated': 4672, 'sweeten': 27935, 'decidedly': 7835, 'handsome': 13393, 'sweet': 27932, 'dora': 9156, 'mad': 17393, 'glad': 12608, 'oxford': 20195, 'fortnight': 11905, 'staid': 26891, 'weather': 31285, 'fine': 11343, 'enjoy': 10113, 'completely': 6253, 'excuse': 10571, 'month': 18570, 'died': 8445, 'odingrad': 19639, 'tver': 29512, 'timidly': 28773, 'raymond': 22969, 'referred': 23267, 'camilla': 4728, 'rescue': 23715, 'consolatory': 6599, 'complimentary': 6271, 'undermining': 29807, 'extent': 10756, 'legs': 16696, 'shorter': 25585, 'chanced': 5206, 'sunday': 27668, 'enfield': 10065, 'gaze': 12420, 'offending': 19688, 'excited': 10543, 'drawings': 9280, 'rapturous': 22906, 'opinion': 19819, 'called': 4688, 'mistake': 18393, 'honoured': 14053, 'sister': 25876, 'partiality': 20460, 'sleeves': 26040, 'thrown': 28654, 'unfolding': 29941, 'parcel': 20385, 'couple': 7034, 'bread': 4152, 'sausages': 24731, 'flow': 11600, 'lived': 17001, 'christopher': 5529, 'pressed': 21988, 'sergeant': 25263, 'comrade': 6319, 'fully': 12171, 'sensible': 25205, 'merits': 18073, 'arid': 2184, 'conditions': 6404, 'moist': 18489, 'resumed': 23852, 'muskets': 18863, 'fell': 11152, 'charge': 5264, 'rear': 23031, 'reached': 22978, 'raw': 22963, 'treasonably': 29197, 'whispered': 31483, 'shan': 25392, 'shilling': 25504, 'cut': 7536, 'pip': 21235, 'cell': 5106, 'size': 25905, 'cellar': 5107, 'intolerably': 15494, 'dirty': 8583, 'tenanted': 28337, 'locked': 17057, 'saturday': 24713, 'confined': 6458, 'trivial': 29319, 'worth': 31840, 'noting': 19374, 'dungeons': 9481, 'newgate': 19156, 'atrocious': 2487, 'felons': 11163, 'palaces': 20263, 'doubts': 9201, 'compare': 6200, 'purely': 22539, 'physical': 21102, 'weakness': 31258, 'depending': 8123, 'sunset': 27690, 'scruple': 24991, 'cahors': 4653, 'branched': 4104, 'main': 17466, 'road': 24166, 'river': 24158, 'track': 29039, 'desolate': 8253, 'amid': 1721, 'woods': 31774, 'glade': 12612, 'broad': 4301, 'stream': 27327, 'swirling': 27982, 'swiftly': 27959, 'centre': 5126, 'horses': 14124, 'splashed': 26701, 'farther': 10997, 'announced': 1868, 'borders': 3963, 'france': 11984, 'miles': 18191, 'dense': 8097, 'wood': 31765, 'widening': 31547, 'curved': 7515, 'traversed': 29183, 'aiguillon': 1468, 'odined': 19628, 'chemicals': 5371, 'walked': 31051, 'hotel': 14154, 'yard': 31970, 'unscrupulous': 30238, 'listener': 16967, 'windows': 31636, 'vanya': 30547, 'grimace': 13040, 'plaintively': 21328, 'adopted': 1255, 'paler': 20271, 'bulky': 4447, 'figure': 11296, 'shawl': 25433, 'skirt': 25951, 'comic': 6096, 'intensity': 15388, 'feeling': 11133, 'romsey': 24258, 'tower': 29013, 'stretch': 27346, 'nunnery': 19441, 'sits': 25885, 'holy': 14005, 'prayers': 21833, 'particular': 20471, 'assure': 2422, 'smith': 26175, 'coxes': 7107, 'gilberts': 12563, 'cox': 7103, 'plenty': 21422, 'parley': 20423, 'torches': 28939, 'importance': 14650, 'maria': 17669, 'ceremony': 5138, 'embracing': 9900, 'deceived': 7820, 'arch': 2129, 'sees': 25130, 'mercer': 18047, 'velvet': 30623, 'cap': 4799, 'gaberdine': 12247, 'ships': 25527, 'trade': 29048, 'odinlin': 19654, 'midnight': 18161, 'doktorenko': 9086, 'crossly': 7342, 'cautious': 5065, 'tone': 28897, 'angle': 1826, 'toller': 28878, 'hurrying': 14336, 'famished': 10944, 'brute': 4381, 'muzzle': 18891, 'writhed': 31920, 'screamed': 24958, 'running': 24437, 'brains': 4097, 'keen': 16073, 'teeth': 28284, 'creases': 7192, 'neck': 19050, 'labour': 16315, 'separated': 25236, 'horribly': 14108, 'mangled': 17580, 'sofa': 26336, 'dispatched': 8830, 'sobered': 26310, 'relieve': 23449, 'assembled': 2364, 'gaunt': 12407, 'handel': 13375, 'soldiering': 26366, 'renounce': 23557, 'patronage': 20582, 'favours': 11075, 'faint': 10882, 'repaying': 23588, 'infinitely': 15073, 'clarriker': 5685, 'partnership': 20489, 'childhood': 5430, 'shouldn': 25600, 'bad': 2779, 'enemies': 10055, 'strangers': 27297, 'unfeeling': 29924, 'speaks': 26583, 'intimate': 15483, 'acquaintances': 1108, '_them_': 747, 'remarkably': 23482, 'jacob': 15754, 'says': 24765, 'esau': 10327, 'different': 8456, 'opinions': 19820, 'walking': 31055, 'jaws': 15801, 'lion': 16942, 'keeping': 16081, 'conscience': 6551, 'cheerful': 5354, 'volubility': 30923, 'ease': 9594, 'inquiry': 15218, 'lead': 16583, 'touch': 28982, 'immediate': 14542, 'oblige': 19504, 'preferred': 21912, 'mistaken': 18394, 'surmise': 27803, 'sword': 28002, 'lunch': 17302, 'visitor': 30868, 'listened': 16966, 'perspired': 20950, 'fearfully': 11087, 'thirsty': 28557, 'minutes': 18274, 'extremely': 10797, 'important': 14651, 'favor': 11063, 'helped': 13757, 'sew': 25330, 'hack': 13280, 'axe': 2717, 'steps': 27100, 'leading': 16590, 'upwards': 30426, 'beach': 3076, 'preparing': 21952, 'politely': 21562, 'drew': 9322, 'ascended': 2306, 'anne': 1857, 'degree': 7973, 'insensible': 15245, 'regular': 23357, 'features': 11112, 'bloom': 3746, 'freshness': 12055, 'youth': 32053, 'restored': 23834, 'blowing': 3766, 'complexion': 6258, 'admired': 1229, 'noticing': 19370, 'momentary': 18509, 'brightness': 4256, 'elliot': 9832, 'stag': 26878, 'cross': 7332, 'betwixt': 3467, 'horns': 14103, 'forest': 11814, 'bere': 3371, 'betray': 3447, 'lie': 16826, 'document': 9051, 'grounds': 13110, 'hated': 13544, 'forgave': 11835, 'trust': 29397, 'prefer': 21906, 'assertion': 2376, 'contradicted': 6726, 'recollect': 23145, 'tricked': 29270, 'jew': 15855, 'rousing': 24326, 'reckoning': 23121, 'malicious': 17522, 'flicked': 11529, 'whip': 31457, 'dashed': 7701, 'endless': 10038, 'succession': 27558, 'sombre': 26415, 'deserted': 8218, 'streets': 27336, 'widened': 31546, 'flying': 11639, 'balustraded': 2854, 'bridge': 4227, 'murky': 18830, 'flowing': 11607, 'sluggishly': 26108, 'beneath': 3337, 'dull': 9454, 'wilderness': 31573, 'bricks': 4217, 'mortar': 18657, 'broken': 4321, 'footfall': 11719, 'policeman': 21553, 'songs': 26430, 'shouts': 25607, 'belated': 3267, 'revellers': 23923, 'wrack': 31860, 'drifting': 9329, 'sky': 25966, 'star': 26956, 'twinkled': 29542, 'dimly': 8519, 'rifts': 24077, 'clouds': 5840, 'sunk': 27679, 'curious': 7475, 'quest': 22698, 'tax': 28234, 'sorely': 26461, 'driven': 9348, 'fringe': 12094, 'belt': 3316, 'suburban': 27548, 'villas': 30797, 'shrugged': 25663, 'shoulders': 25598, 'lit': 16976, 'sleeve': 26038, 'shoulder': 25595, 'eat': 9611, '_cinq': 266, 'sous': 26513, 'cinq': 5580, 'pour': 21778, 'monter': 18567, 'notre': 19380, 'menage_': 18018, 'suspiciously': 27863, 'trembling': 29226, 'highness': 13877, 'indicate': 14932, 'destination': 8290, 'puppet': 22525, 'lise': 16958, 'flashing': 11473, 'hatch': 13536, 'interrupting': 15465, 'sermon': 25270, 'goffe': 12759, 'sound': 26492, 'struggling': 27410, 'refusing': 23310, 'instructions': 15331, 'entering': 10171, 'double': 9185, 'doors': 9148, 'opposite': 19831, 'inner': 15191, 'apartments': 1962, 'stretching': 27351, 'prepared': 21951, 'defend': 7923, 'drop': 9369, 'uttered': 30473, 'scream': 24957, 'creasote': 7194, 'barrel': 2971, 'resignation': 23757, 'drifted': 9328, 'dangerous': 7645, 'channels': 5228, 'difficulty': 8463, 'distant': 8928, 'clerk': 5759, 'overtake': 20155, 'boor': 3944, 'askance': 2329, 'munched': 18806, 'morsel': 18649, 'drained': 9251, 'drops': 9373, 'biting': 3575, 'taunt': 28220, 'manuscript': 17640, 'eagerness': 9560, 'possibly': 21719, 'genuinely': 12494, 'genius': 12460, 'mayn': 17864, 'scoundrel': 24919, 'helplessly': 13762, 'pillow': 21194, 'sobbing': 26308, 'hysterically': 14390, 'tightly': 28738, 'squeezing': 26853, 'minute': 18271, 'sake': 24572, 'shocked': 25546, 'plumping': 21469, 'permit': 20885, 'divined': 9015, 'true': 29377, 'ardour': 2162, 'equal': 10271, 'adored': 1262, 'waxing': 31235, 'dithyrambic': 8986, 'senses': 25202, 'rubbing': 24357, 'chin': 5454, 'dubiously': 9422, 'patrolmen': 20579, 'picked': 21121, 'separate': 25235, 'knots': 16243, 'general': 12440, 'network': 19139, 'covering': 7077, 'russia': 24448, 'propounding': 22323, 'signal': 25743, 'simpers': 25809, 'smirks': 26172, 'prodigiously': 22164, 'defy': 7964, 'lucas': 17247, 'valuable': 30519, 'law': 16556, 'saints': 24566, 'saint': 24560, 'librarian': 16809, 'eyesight': 10826, 'swim': 27963, 'bottle': 3994, 'fur': 12201, 'song': 26429, 'short': 25579, 'handy': 13400, 'mouthful': 18737, 'jail': 15765, '_my_': 557, 'shipped': 25525, 'arter': 2274, 'civilities': 5629, 'equally': 10276, 'meditated': 17939, 'quick': 22708, 'addresses': 1178, 'prevailed': 22029, 'accept': 991, 'rated': 22930, 'abilities': 893, 'higher': 13868, 'solidity': 26395, 'reflections': 23281, 'encouraged': 10005, 'private': 22110, 'conference': 6431, 'related': 23411, 'event': 10436, 'notion': 19375, 'scheme': 24848, 'tired': 28810, 'margaret': 17664, 'warmth': 31140, 'invention': 15555, 'appears': 2014, 'usually': 30462, 'correct': 6919, '_i_': 442, 'domestic': 9108, 'clergymen': 5755, 'deficiency': 7943, 'fold': 11666, 'energy': 10060, 'supported': 27757, 'fled': 11504, 'heaven': 13694, 'thanksgiving': 28456, 'extended': 10751, 'receive': 23087, 'crouching': 7348, 'mechanically': 17915, 'stove': 27263, 'low': 17224, 'stool': 27221, 'ragged': 22806, 'recess': 23095, 'covered': 7076, 'blanket': 3643, 'cast': 4987, 'crept': 7232, 'involuntarily': 15598, 'closer': 5820, 'corpse': 6914, 'leaf': 16592, 'fro': 12105, 'folded': 11667, 'counting': 7022, 'footsteps': 11735, 'seldom': 25147, 'spoke': 26726, 'restless': 23827, 'clocks': 5808, 'significantly': 25756, 'host': 14142, 'practical': 21799, 'mystery': 18902, 'solved': 26411, 'science': 24876, 'bein': 3260, 'department': 8113, 'hit': 13933, 'mikolka': 18180, 'scour': 24922, 'ebb': 9626, 'dug': 9449, 'spade': 26535, 'tonight': 28907, 'cat': 5011, 'sarcastic': 24681, 'parent': 20402, 'stifled': 27134, 'fodin': 11646, 'trodden': 29323, 'worm': 31818, 'altered': 1648, 'subtle': 27542, 'upward': 30425, 'stare': 26961, 'lips': 16949, 'shrewd': 25632, 'sleepy': 26036, 'disagreeable': 8592, 'remark': 23480, 'mentioned': 18037, 'contents': 6693, 'nightfall': 19200, 'katya': 16068, 'overtook': 20162, 'hospital': 14136, 'getting': 12528, 'annoyance': 1872, 'melancholy': 17968, 'accident': 1005, 'item': 15719, 'suggestive': 27608, 'vera': 30666, 'lukianovna': 17281, 'civilly': 5632, 'grubbers': 13135, 'moral': 18614, 'helping': 13760, 'podincutor': 21496, 'bent': 3361, 'president': 21984, 'dismay': 8800, 'judges': 15973, 'communicated': 6176, 'whispers': 31486, 'pricked': 22050, 'ears': 9584, 'hushed': 14348, 'expectation': 10654, 'jip': 15883, 'compassion': 6211, 'thankful': 28449, 'combe': 6065, 'magna': 17430, 'cleveland': 5765, 'signify': 25761, 'mention': 18035, 'blackguard': 3599, 'rage': 22803, 'destroyed': 8298, 'dishonoured': 8769, 'forever': 11827, 'jewels': 15863, 'stolen': 27205, 'rothschild': 24294, 'liteynaya': 16984, 'dream': 9296, 'cherished': 5382, 'inwardly': 15608, 'confided': 6445, 'poker': 21540, 'settling': 25308, 'occupation': 19583, 'raking': 22844, 'lower': 17226, 'hammered': 13355, 'onmerciful': 19779, 'hammering': 13356, 'xcepting': 31954, 'wigor': 31565, 'equalled': 10274, 'hammer': 13354, 'anwil': 1943, 'listening': 16969, 'understanding': 29816, 'appian': 2027, 'matches': 17793, 'sarcastically': 24682, 'delivered': 8024, 'youths': 32056, 'alack': 1506, 'moaned': 18444, 'ave': 2636, 'sworn': 28007, 'doomed': 9145, 'free': 12018, 'ticket': 28704, 'mark': 17678, 'squire': 26857, 'march': 17653, 'deck': 7845, 'escaped': 10331, 'fighting': 11291, 'ralston': 22851, 'ainslie': 1485, 'priest': 22059, 'missionary': 18385, 'gravelled': 12954, 'lacked': 16335, 'writing': 31924, 'desert': 8217, 'carton': 4955, 'seated': 25057, 'resting': 23824, 'forehead': 11791, 'purport': 22557, 'noble': 19248, 'gild': 12564, 'wring': 31904, 'design': 8229, 'indies': 14941, 'chevalier': 5403, 'wrote': 31937, 'sum': 27643, 'required': 23703, 'seeking': 25123, 'spelled': 26636, 'incredible': 14881, 'odining': 19644, 'narrowed': 18975, 'sons': 26436, 'entail': 10162, 'alienate': 1557, 'hints': 13915, 'pressure': 21995, 'weight': 31323, 'laboured': 16316, 'passionate': 20516, 'sentiment': 25223, 'traditions': 29060, 'rate': 22929, 'openly': 19804, 'colours': 6049, 'imperial': 14607, 'tokay': 28864, 'flower': 11602, 'born': 3973, 'blush': 3801, 'unseen': 30245, 'waste': 31172, 'fragrance': 11974, 'interposed': 15446, 'goaded': 12726, 'reproaches': 23652, '_vous': 806, 'avez': 2655, 'pas': 20497, 'trente': 29240, 'ans_': 1889, 'barsad': 2987, 'murmuring': 18833, 'appearance': 2010, 'sea': 25024, 'unhealthy': 29998, 'surprized': 27824, 'sun': 27661, 'insect': 15240, 'comparison': 6204, 'noticed': 19368, 'launch': 16531, 'overhear': 20099, 'expect': 10649, 'spotted': 26761, 'await': 2681, 'pick': 21120, '_aurora_': 203, 'mordecai': 18629, 'expressed': 10737, 'yawning': 31986, 'gilmerton': 12571, 'mining': 18253, 'generous': 12452, 'disinterestedness': 8783, 'situations': 25894, 'reversed': 23952, 'millions': 18213, 'rise': 24138, 'awoke': 2713, 'knocked': 16235, 'orders': 19876, 'matreona': 17813, 'von': 30938, 'blum': 3781, 'governor': 12848, 'office': 19700, 'obeyed': 19487, 'summons': 27656, 'pacing': 20210, 'excitedly': 10544, 'central': 5125, 'soldier': 26364, 'guarded': 13166, 'premises': 21931, 'military': 18194, 'stiffness': 27132, 'nice': 19168, 'exclaimed': 10551, 'dartle': 7693, 'comfort': 6087, 'conscientious': 6554, 'elevates': 9807, 'esteem': 10374, 'reproach': 23650, 'professions': 22188, 'allow': 1598, 'affections': 1346, 'fulfilled': 12162, 'commands': 6111, 'returning': 23907, 'obligingly': 19507, 'bestowed': 3430, 'throbbing': 28642, 'ship': 25517, 'sail': 24553, 'unpromising': 30168, 'corrected': 6920, 'collided': 6020, 'gestures': 12524, 'arrival': 2257, 'force': 11760, 'daisy': 7598, 'bachelor': 2758, 'combination': 6067, 'events': 10439, 'wit': 31695, 'conceive': 6338, 'mental': 18031, 'line': 16917, 'imagination': 14512, 'shudder': 25667, 'thrill': 28630, 'moved': 18745, 'leaned': 16607, 'glitter': 12675, 'shot': 25591, 'interested': 15410, 'statesman': 26996, 'province': 22394, 'soberly': 26312, 'lumbering': 17288, 'wheels': 31408, 'tumbrils': 29456, 'faring': 10981, 'loads': 17032, 'hushing': 14349, 'snow': 26276, 'considering': 6582, 'suggest': 27603, 'liable': 16785, 'misuse': 18417, 'knock': 16233, 'suspended': 27857, 'dine': 8528, 'lansdown': 16452, 'crescent': 7234, 'foot': 11715, 'ushered': 30455, 'tearful': 28260, 'maiden': 17453, 'decide': 7833, 'smirking': 26171, 'reflection': 23279, 'decision': 7841, 'delamere': 7991, 'rossiter': 24288, 'conversant': 6778, 'exact': 10477, 'stage': 26879, 'proceedings': 22142, 'gained': 12265, 'dr': 9235, 'hamilton': 13350, 'complete': 6251, 'takes': 28099, 'preventing': 22037, 'loath': 17038, 'explanations': 10700, 'necessary': 19044, 'advice': 1304, 'matters': 17826, 'aloud': 1632, 'tilney': 28752, 'gentle': 12475, 'secondary': 25071, 'affair': 1335, 'fullerton': 12168, 'investigating': 15569, 'fortunes': 11915, 'trifle': 29281, 'administrative': 1222, 'selection': 25151, 'seized': 25141, 'traveller': 29177, 'hate': 13543, 'haggling': 13295, 'freeman': 12023, 'cash': 4971, 'propose': 22316, 'venturing': 30662, 'egg': 9732, 'boiled': 3874, 'unwholesome': 30362, 'serle': 25269, 'understands': 29818, 'boiling': 3876, 'recommend': 23153, '_little_': 501, 'tart': 28184, '_very_': 790, 'apple': 2034, 'tarts': 28190, 'preserves': 21980, 'custard': 7527, 'goddard': 12740, '_half_': 411, '_small_': 715, 'tumbler': 29450, 'disagree': 8591, 'wall': 31057, 'accents': 989, 'alarm': 1509, 'patted': 20594, 'cheek': 5349, 'jerked': 15830, 'slipped': 26073, 'shadow': 25352, 'thrust': 28659, 'photograph': 21090, 'staggered': 26885, 'outburst': 19981, 'speaker': 26580, 'hoarse': 13946, 'apostrophe': 1992, 'gloomily': 12688, 'rorie': 24282, 'greedy': 12991, 'superstitious': 27732, 'lore': 17168, 'recalled': 23073, 'unbelief': 29672, 'disbelief': 8624, 'history': 13932, 'invent': 15552, 'kill': 16134, 'universal': 30050, 'soup': 26502, 'chatting': 5325, 'talkative': 28114, 'board': 3813, 'unavoidable': 29663, 'national': 18992, 'railways': 22823, 'inconvenience': 14865, 'impatiently': 14588, 'worthy': 31847, 'reconcile': 23160, 'footing': 11722, 'laying': 16572, 'hilt': 13893, 'bade': 2784, 'cipaye': 5581, 'draw': 9272, 'forgive': 11849, 'recollections': 23149, 'astonishing': 2435, '_will_': 829, 'obtrude': 19561, 'visitors': 30869, 'caring': 4897, 'neighbour': 19103, 'unwilling': 30364, 'gilbert': 12562, 'disengaged': 8729, 'obliging': 19506, 'remains': 23477, '_fait': 362, 'accompli_': 1028, 'lavinia': 16550, 'superscription': 27726, 'certainly': 5144, 'glanced': 12623, 'incredulous': 14884, 'downstairs': 9222, 'points': 21524, 'colleague': 6006, 'rarely': 22910, 'playing': 21387, 'college': 6018, 'farthest': 10998, 'boys': 4063, 'accompanied': 1023, 'knee': 16207, 'laziness': 16578, 'obese': 19485, 'temperament': 28310, 'stealing': 27040, 'watched': 31179, 'grey': 13014, 'slink': 26069, 'furtive': 12220, 'excursions': 10568, 'alluded': 1607, 'hollowness': 13999, 'increased': 14877, 'dislike': 8788, 'distrust': 8970, 'vicious': 30746, 'core': 6884, 'ruefully': 24381, 'correspondence': 6929, 'trite': 29309, 'parallel': 20367, 'consult': 6642, 'index': 14928, 'andover': 1799, '77': 142, 'hague': 13297, 'details': 8312, 'instructive': 15332, 'future': 12238, 'engagements': 10076, 'continually': 6704, 'increasing': 14879, 'discouragingly': 8686, 'forbid': 11752, 'injustice': 15177, 'jorkins': 15929, 'respond': 23807, 'proposition': 22319, 'peculiar': 20685, 'beaten': 3110, 'neatly': 19038, 'bright': 4249, 'freckled': 12015, 'plover': 21452, 'brisk': 4279, 'beasts': 3108, 'capital': 4813, 'essential': 10361, 'fool': 11703, 'shouting': 25605, 'mentioning': 18038, '_a_': 159, '_la_': 480, '_mortal_': 549, 'finely': 11345, 'chequered': 5377, 'secure': 25089, 'sought': 26486, 'bustle': 4553, 'interference': 15416, 'pointedness': 21519, 'glancing': 12625, 'necklace': 19055, 'wretched': 31895, 'disturb': 8976, 'embarrassment': 9875, 'heightened': 13735, 'perceiving': 20807, 'composure': 6286, 'genuine': 12493, 'satisfaction': 24704, 'voluntary': 30929, 'secured': 25090, 'ruinous': 24399, 'reverberated': 23934, 'rain': 22825, 'commenced': 6116, 'pouring': 21780, 'violently': 30829, 'harsh': 13503, 'stanniford': 26950, 'allowance': 1600, 'besought': 3416, 'permission': 20884, 'compromise': 6308, 'softening': 26341, 'coarseness': 5891, 'markleham': 17690, 'narration': 18970, 'shrill': 25641, 'interjections': 15422, 'occasionally': 19574, 'interrupted': 15463, 'description': 8210, 'rubbish': 24358, 'invite': 15589, 'alliance': 1592, 'campaign': 4732, 'sounds': 26501, 'ivolgin': 15732, 'fetch': 11220, 'weariness': 31276, 'crimson': 7269, 'grand': 12891, 'numerous': 19436, 'bespoke': 3421, 'ability': 894, 'support': 27755, 'improvements': 14715, 'additions': 1174, 'norland': 19314, 'owner': 20187, 'loss': 17178, 'symptom': 28038, 'infer': 15060, 'poverty': 21785, 'considerable': 6575, 'disgrace': 8739, 'disqualifications': 8878, 'elegance': 9795, 'overdo': 20082, 'tremor': 29230, '_was_': 811, 'nameless': 18943, 'ring': 24107, 'awake': 2685, 'superstitiously': 27733, 'circumstance': 5607, 'exceptional': 10529, 'predestined': 21884, 'fate': 11027, 'worn': 31822, 'shortest': 25586, 'direct': 8564, 'hay': 13595, 'unnecessarily': 30115, 'dozens': 9233, 'decisive': 7843, 'mood': 18584, 'able': 900, 'gravest': 12959, 'desodin': 8252, 'purpose': 22558, 'tale': 28105, 'longest': 17117, 'restlessly': 23828, 'search': 25042, 'accommodation': 1020, 'employment': 9960, 'slumbering': 26113, 'deedily': 7896, 'spectacles': 26606, 'intent': 15389, 'pianoforte': 21115, 'intercourse': 15407, 'specialist': 26590, 'solid': 26392, 'grip': 13064, 'cool': 6827, 'official': 19704, 'exponent': 10717, 'gravity': 12962, 'prevaricate': 22034, 'stepan': 27091, 'professor': 22189, 'disdainfully': 8717, 'henceforth': 13778, 'feasting': 11099, 'flowed': 11601, 'conquest': 6549, 'dowried': 9226, 'retrograde': 23898, 'vowed': 30958, 'george': 12506, 'sander': 24648, 'rejoice': 23397, 'governess': 12844, 'dowry': 9227, 'frisk': 12100, 'fancy': 10957, 'gravely': 12955, 'alec': 1537, 'wagging': 30999, 'toothless': 28919, 'impertinent': 14617, 'treating': 29206, 'finding': 11341, 'fault': 11056, 'incorrectness': 14873, 'nicest': 19171, 'overpowered': 20125, 'odinson': 19666, 'blair': 3623, 'somebody': 26416, 'hiding': 13856, 'nab': 18921, 'scent': 24834, 'forcing': 11766, 'blunt': 3790, 'abroad': 929, 'damme': 7614, 'branches': 4105, 'continued': 6708, 'gather': 12398, 'maldon': 17510, 'buzz': 4590, 'remonstrance': 23520, 'silenced': 25771, 'theology': 28490, 'successive': 27559, 'mornings': 18642, 'repetition': 23606, 'severe': 25322, 'tenth': 28368, 'willing': 31597, 'heartily': 13676, 'tis': 28816, 'inspector': 15286, 'yonder': 32036, 'hill': 13883, 'mayhap': 17863, 'discern': 8633, 'darling': 7681, 'urge': 30431, 'rouse': 24323, 'loudly': 17192, 'ecstasy': 9662, 'telling': 28303, 'cousin': 7064, 'thank': 28445, 'merciful': 18056, 'providence': 22388, 'guile': 13199, 'high': 13866, 'praise': 21814, 'warm': 31132, 'affection': 1343, 'alloy': 1605, 'dash': 7699, 'midst': 18164, 'exclaim': 10550, 'busy': 4557, 'pains': 20250, 'terms': 28388, 'flirtation': 11550, 'yearly': 31992, 'meetings': 17962, 'everingham': 10445, 'immovable': 14563, 'impression': 14690, 'furnish': 12209, 'christian': 5524, 'cheer': 5352, 'endeavouring': 10033, 'fund': 12182, 'meat': 17910, 'abundance': 966, 'rejoices': 23399, 'wearing': 31277, 'coarse': 5889, 'girt': 12593, 'rope': 24280, 'chest': 5395, 'hempen': 13775, 'waving': 31230, 'cruel': 7375, 'irons': 15644, 'clanking': 5668, 'illustrious': 14501, 'lawyer': 16566, 'sheriff': 25478, 'officer': 19701, 'coats': 5899, 'musket': 18860, 'singly': 25848, 'senator': 25176, 'appointed': 2049, 'superseded': 27728, 'lots': 17186, 'changes': 5224, 'workman': 31806, 'carry': 4940, 'tools': 28914, 'warlike': 31130, 'jealous': 15804, 'tom': 28883, 'cannae': 4765, 'safely': 24536, 'whistle': 31488, 'tune': 29461, 'wonderful': 31753, 'charlie': 5284, 'ham': 13347, 'rapidly': 22898, 'emiodin': 9929, 'nurse': 19444, 'met': 18101, 'constantly': 6621, 'emily': 9925, 'dan': 7627, 'doen': 9061, 'beein': 3180, 'hap': 13420, 'nigh': 19194, 'widder': 31541, 'hark': 13467, 'princess': 22077, 'headed': 13617, 'occurrence': 19593, 'fashionable': 11008, 'wedding': 31299, 'hurriedly': 14333, 'rested': 23822, 'rainbow': 22826, 'indecorous': 14904, 'stared': 26962, 'gold': 12768, 'massive': 17769, 'middle': 18152, 'dignity': 8488, 'brave': 4125, 'yield': 32029, 'compliment': 6270, 'urged': 30432, 'bowed': 4036, 'opposition': 19833, 'excite': 10542, 'relinquishing': 23460, 'struggles': 27409, 'unfairly': 29912, 'appearances': 2011, 'suited': 27620, 'ideas': 14409, 'impetuosity': 14622, 'propriety': 22331, 'correctness': 6926, 'politeness': 21563, 'suavity': 27482, 'regulated': 23362, 'presented': 21968, 'grisly': 13072, 'incident': 14797, 'horrified': 14112, 'sailors': 24558, 'porters': 21682, 'complaining': 6242, 'unusual': 30346, 'baggage': 2797, 'travelled': 29176, 'valets': 30509, 'florizel': 11588, 'chose': 5516, 'steamer': 27048, 'attracted': 2537, 'attitude': 2534, 'gazing': 12427, 'pile': 21175, 'disquietude': 8882, 'kit': 16188, 'garden': 12345, 'post': 21721, 'strongly': 27400, 'falling': 10918, 'fain': 10881, 'leader': 16586, 'lads': 16356, 'arrow': 2267, 'steel': 27058, 'uppermost': 30404, 'linstock': 16940, 'exchange': 10536, 'instruments': 15337, 'eaten': 9614, 'pieces': 21147, 'blows': 3769, 'durst': 9503, 'retorted': 23882, 'orlick': 19918, 'favoured': 11070, 'snapped': 26219, 'rudely': 24372, 'angrily': 1833, 'changing': 5226, 'anger': 1820, 'mounting': 18719, 'repress': 23641, 'flashed': 11471, 'torturing': 28967, 'torosay': 28951, 'wavering': 31226, 'witness': 31718, 'springing': 26785, 'reeking': 23254, 'seizing': 25143, 'jerkin': 15832, 'brow': 4347, 'cords': 6882, 'peterkin': 21007, 'bind': 3538, 'nervousness': 19123, 'impaired': 14575, 'receives': 23090, 'burglar': 4502, 'apologies': 1978, 'button': 4575, 'palm': 20283, 'sheep': 25454, 'thicket': 28518, 'quiver': 22743, 'tannenbrunn': 28148, 'shrubbery': 25660, 'fatal': 11025, 'pestle': 21002, 'sad': 24518, 'wastes': 31175, 'fingers': 11354, 'highway': 13880, 'lain': 16372, 'swelling': 27949, 'vineyard': 30817, 'stretched': 27347, 'east': 9604, 'spire': 26682, 'feudal': 11229, 'cluster': 5868, 'village': 30790, 'wintry': 31662, 'garonne': 12366, 'seawards': 25062, 'boats': 3832, 'barges': 2945, 'dotted': 9184, 'strip': 27375, 'sandy': 24654, 'region': 23342, 'landes': 16422, 'tangled': 28142, 'faded': 10860, 'gorse': 12819, 'heath': 13687, 'broom': 4337, 'unbroken': 29695, 'gloom': 12686, 'hills': 13888, 'furthest': 12219, 'estuary': 10387, 'gironde': 12592, 'towers': 29016, 'andre': 1800, 'remi': 23498, 'shooting': 25564, 'radiating': 22788, 'lines': 16924, 'poplars': 21635, 'riverside': 24161, 'townlet': 29019, 'cardillac': 4865, 'walls': 31068, 'smoke': 26182, 'anna': 1854, 'preciosa': 21859, 'troubadour': 29347, 'deprecate': 8149, 'figures': 11299, 'berlin': 3383, 'wool': 31781, 'amuse': 1753, 'gain': 12264, 'pretend': 22007, 'noonday': 19309, 'lukian': 17279, 'timofeyovitch': 28777, 'cupboard': 7451, 'speech': 26620, 'dearest': 7772, 'remonstrated': 23523, 'preposterous': 21957, 'allusion': 1613, 'watches': 31182, 'morgan': 18632, 'floor': 11573, 'derived': 8192, 'designing': 8235, 'raised': 22833, 'shrewdly': 25633, 'consequence': 6568, 'iosif': 15613, 'païssy': 20643, 'monk': 18533, 'inmates': 15187, 'monastery': 18517, 'waiting': 31028, 'miüsov': 18438, 'kalganov': 16045, 'arrived': 2260, 'aside': 2327, 'stepped': 27098, 'guests': 13183, 'vigorous': 30778, 'streaked': 27324, 'ascetic': 2313, 'approached': 2076, 'blessing': 3688, 'kiss': 16184, 'avoid': 2667, 'salute': 24605, 'peasants': 20673, 'studying': 27437, 'dealing': 7766, 'increase': 14876, 'suicide': 27612, 'decrease': 7875, 'amazing': 1680, 'ankle': 1852, 'responded': 23808, 'tree': 29216, 'greatcoat': 12977, 'thickly': 28520, 'muffled': 18771, 'rug': 24391, 'pen': 20735, 'broke': 4320, 'noise': 19274, 'weeping': 31315, 'hasten': 13525, 'soldiers': 26368, 'penitence': 20759, 'atonement': 2483, 'cockatrice': 5918, 'nest': 19124, 'salem': 24580, 'milkman': 18200, 'fond': 11690, 'milk': 18197, 'likeness': 16872, 'miniatures': 18249, 'mantelpiece': 17625, 'smilingly': 26168, 'liked': 16867, 'steward': 27116, 'expense': 10670, 'army': 2229, 'marking': 17688, 'teaspoon': 28268, 'kitten': 16194, 'ass': 2351, 'nodding': 19264, 'confidentially': 6451, 'gasped': 12387, 'wrestling': 31893, 'mortal': 18653, 'jesus': 15850, 'groaning': 13080, 'cometh': 6085, 'lusty': 17335, 'mayor': 17865, 'lepe': 16729, 'lighters': 16854, 'vessel': 30715, 'slung': 26118, 'kicking': 16118, 'plunging': 21479, 'dropped': 9370, 'waist': 31017, 'cog': 5950, 'rows': 24346, 'stalls': 26916, 'safe': 24534, 'englishmen': 10091, 'skilled': 25929, 'embarked': 9871, 'port': 21669, 'orwell': 19934, 'space': 26531, 'urgent': 30434, 'goodwin': 12798, 'buttesthorn': 4574, 'swallowed': 27891, 'scallop': 24777, 'ere': 10296, 'trumpet': 29386, 'clang': 5662, 'nakir': 18939, 'anchor': 1786, 'boat': 3826, 'commanders': 6107, 'sheets': 25463, 'contrast': 6738, 'rowers': 24343, 'litter': 16991, 'stones': 27215, 'condall': 6387, 'midsummer': 18165, 'madness': 17414, 'amounteth': 1737, 'seventy': 25318, 'shillings': 25505, 'sheet': 25461, 'newspaper': 19162, 'gasping': 12388, 'coughing': 6987, 'troubled': 29349, 'sympathy': 28036, 'rising': 24142, 'deduce': 7887, 'wishing': 31685, 'breadth': 4154, 'miscarriage': 18310, 'stupefied': 27458, 'fiasco': 11242, 'sweeping': 27929, 'laughable': 16522, 'sharpest': 25417, 'remorse': 23525, 'provocation': 22399, 'succeeded': 27551, 'afresh': 1385, 'tossed': 28969, 'bewailing': 3471, 'inconsequence': 14848, 'lack': 16333, 'flaming': 11454, 'hot': 14152, 'indignation': 14949, 'brachycephalic': 4072, 'eyed': 10817, 'suggestion': 27606, 'negroid': 19096, 'celtic': 5111, 'presume': 22000, 'comply': 6276, 'putting': 22602, 'speed': 26625, 'dully': 9461, 'grinning': 13062, 'killed': 16135, 'fury': 12222, 'bench': 3331, 'overcoat': 20073, 'hut': 14361, 'forester': 11818, 'kopecks': 16273, 'lodging': 17073, 'candle': 4752, 'trouble': 29348, 'hazard': 13603, 'revengeful': 23928, 'strode': 27386, 'narrow': 18974, 'aimless': 1481, 'dazed': 7742, 'heeding': 13719, 'vista': 30872, 'fields': 11271, 'harvest': 13511, 'sounded': 26493, 'impelled': 14594, 'uneasy': 29884, 'suspicions': 27861, 'bedroom': 3165, 'peered': 20713, 'illuminated': 14491, 'jet': 15851, 'gas': 12378, 'distance': 8926, 'perceived': 20805, 'sleeping': 26032, 'costume': 6969, 'tiptoe': 28805, 'partly': 20486, 'forearm': 11773, 'concealed': 6326, 'recognition': 23135, 'sleeper': 26027, 'removed': 23538, 'loiterer': 17095, 'easily': 9601, 'performance': 20843, 'careful': 4876, 'consumed': 6650, 'devised': 8371, 'handkerchief': 13386, 'laughter': 16529, 'management': 17561, 'southampton': 26515, 'bearded': 3097, 'leaning': 16609, 'railings': 22816, 'bordered': 3960, 'lowered': 17227, 'searching': 25046, 'nodded': 19263, 'brushing': 4373, 'gliding': 12657, 'unfolded': 29940, 'poem': 21504, 'aren': 2168, 'reasonable': 23038, 'superstition': 27730, 'hero': 13813, 'wriggling': 31902, 'suspected': 27853, '_candide_': 244, 'translation': 29136, 'delighted': 8013, 'beaming': 3089, 'pay': 20634, 'wages': 30997, 'shew': 25483, 'throw': 28652, 'madwoman': 17417, 'powder': 21786, 'drawled': 9282, 'slunk': 26119, 'coffee': 5944, 'appalled': 1995, 'diners': 8530, 'saratoga': 24678, 'waiter': 31025, 'nerves': 19120, 'leaped': 16614, 'upset': 30414, 'pint': 21229, 'ale': 1535, 'cloth': 5828, 'shortcomings': 25581, 'dumps': 9472, 'sulky': 27633, 'fellows': 11158, 'begin': 3218, 'quoth': 22758, 'hesitation': 13832, 'lancaster': 16411, 'york': 32039, 'self': 25153, 'annoyed': 1874, 'clap': 5673, 'hysterics': 14391, 'whisper': 31482, 'stain': 26892, 'bridal': 4218, 'shoot': 25561, 'examine': 10494, 'attentively': 2524, 'expects': 10658, 'perezvon': 20832, 'howl': 14199, 'bother': 3989, 'michaelmas': 18141, 'handsomest': 13396, 'looks': 17135, 'meal': 17880, 'chuse': 5562, 'invitations': 15588, 'nash': 18982, 'texts': 28436, 'preached': 21838, 'highbury': 13867, 'abbots': 870, 'peeped': 20708, 'scolded': 24892, 'blathers': 3658, 'duff': 9447, 'stouter': 27258, 'smoothing': 26196, 'pair': 20258, 'handcuffs': 13373, 'signs': 25765, 'doth': 9180, 'britain': 4290, 'washing': 31165, 'snuffing': 26290, 'locking': 17062, 'idle': 14426, 'flame': 11451, 'casts': 5006, 'shelf': 25465, 'diabolical': 8408, 'bo': 3810, 'peep': 20707, 'fat': 11024, 'lighted': 16849, 'decorated': 7865, 'winding': 31626, 'remembrance': 23493, 'clients': 5778, 'informed': 15106, 'concerning': 6350, 'reputation': 23691, 'replying': 23620, 'sprightly': 26782, 'boasted': 3820, 'wanting': 31098, '_him_': 426, 'persuade': 20953, 'submit': 27509, 'peculiarly': 20688, 'undoubtedly': 29865, 'vanity': 30540, 'lose': 17173, 'archie': 2140, 'swindon': 27972, 'shaking': 25368, 'school': 24861, 'ribs': 24028, 'nought': 19385, 'wager': 30995, 'covet': 7085, 'big': 3513, 'thine': 28532, 'mon': 18513, 'garcon': 12343, 'sacking': 24500, 'issodun': 15706, 'king': 16164, 'hath': 13549, 'vow': 30957, 'hie': 13857, 'serve': 25281, 'enrolled': 10146, 'curtain': 7501, 'diamond': 8419, 'paned': 20307, 'lamp': 16402, 'smudge': 26205, 'boot': 3947, 'sole': 26370, 'wooden': 31770, 'sill': 25782, 'furiously': 12205, 'dirt': 8580, 'amazed': 1678, 'variety': 30560, 'bite': 3573, 'producing': 22170, 'basket': 3016, 'bowman': 4045, 'moon': 18591, 'parbleu': 20383, 'petit': 21010, 'limousin': 16906, 'simon': 25806, 'tongue': 28903, 'decided': 7834, '_why_': 828, '_wherein_': 823, 'paterfamilias': 20552, 'frowned': 12127, 'forms': 11871, 'conjecture': 6514, 'ordination': 19880, 'prevent': 22035, 'patients': 20568, 'confirmed': 6466, 'remarkable': 23481, 'enabled': 9975, 'sums': 27660, 'local': 17050, 'makers': 17493, 'coupling': 7038, 'eligible': 9818, 'lana': 16409, 'unmarried': 30094, 'assert': 2373, 'misalliance': 18297, 'bishop': 3563, 'crossing': 7340, 'finally': 11332, 'despair': 8256, 'frances': 11985, 'leigh': 16698, 'trial': 29254, 'borne': 3974, 'justify': 16030, 'employer': 9957, 'dubious': 9421, 'mysterious': 18900, 'inspection': 15285, 'bleak': 3669, 'household': 14172, 'vigilant': 30772, 'stevens': 27113, 'duhovo': 9451, 'leaping': 16615, 'ladyship': 16360, 'situation': 25893, 'pitiable': 21286, '_me_': 526, 'requiring': 23706, 'tied': 28725, 'draped': 9264, 'weary': 31282, 'reclined': 23128, 'instructed': 15328, 'dip': 8553, 'spoon': 26740, 'pot': 21744, 'pledge': 21412, 'emiodins': 9930, 'sorrowful': 26466, 'farewell': 10978, 'hung': 14301, 'distressed': 8961, 'condition': 6400, 'miserable': 18337, 'burnt': 4526, 'preservation': 21975, 'entirely': 10195, 'unalterable': 29637, 'implies': 14641, 'beam': 3087, 'mormons': 18638, 'companions': 6195, 'tassel': 28198, 'girdle': 12583, 'dwarfish': 9528, 'malign': 17524, 'bearing': 3101, 'tempted': 28329, 'arras': 2248, 'fall': 10917, 'remove': 23537, 'telltale': 28306, 'token': 28865, 'audible': 2559, 'stair': 26898, 'uneven': 29897, 'precautions': 21848, 'recognised': 23133, 'wage': 30992, 'laborer': 16310, 'surely': 27784, 'tinker': 28788, 'prig': 22062, 'spruce': 26796, 'beer': 3183, 'naughty': 19009, 'rochefort': 24204, 'avignon': 2659, 'squeezed': 26852, 'crowns': 7362, 'pope': 21631, 'professional': 22186, 'bedside': 3169, 'sufferer': 27582, 'spring': 26784, 'drive': 9345, 'assist': 2396, '_dénouement_': 324, 'form': 11861, 'recesses': 23096, 'armchair': 2212, 'formidable': 11868, 'array': 2249, 'bottles': 3996, 'test': 28411, 'tubes': 29427, 'pungent': 22511, 'cleanly': 5725, 'smell': 26158, 'hydrochloric': 14371, 'acid': 1093, 'chemical': 5369, 'musgrove': 18849, 'steady': 27034, 'treason': 29196, 'exaggeration': 10487, 'laundry': 16536, 'gadding': 12254, 'declare': 7854, 'nursery': 19446, 'jemima': 15820, 'trustiest': 29403, 'steadiest': 27029, 'spoil': 26721, 'tells': 28304, 'tempting': 28331, 'rule': 24402, 'interfering': 15417, 'concerns': 6351, 'rights': 24089, 'gad': 12252, 'dressing': 9320, 'swears': 27921, 'amiss': 1729, 'beast': 3105, 'hissed': 13922, 'treachery': 29190, 'witless': 31717, 'shent': 25473, 'sotting': 26480, 'breaking': 4163, 'indignantly': 14948, 'ruins': 24400, 'casimir': 4976, 'remind': 23499, 'paid': 20241, 'heinrich': 13740, 'fortunate': 11912, 'holdhurst': 13982, 'chambers': 5194, 'downing': 9219, 'card': 4862, 'shown': 25623, 'fashioned': 11010, 'courtesy': 7053, 'luxuriant': 17340, 'lounges': 17201, 'fireplace': 11375, 'curling': 7481, 'tinged': 28783, 'represent': 23633, 'type': 29569, 'nobleman': 19249, 'strongest': 27397, 'analogy': 1764, 'authorise': 2604, 'tender': 28343, 'explains': 10698, 'attachments': 2495, 'difficulties': 8462, 'privations': 22115, 'dangers': 7647, 'labouring': 16319, 'toiling': 28861, 'hardship': 13457, 'quitted': 22741, 'health': 13643, 'faltering': 10932, 'poorest': 21628, 'spirited': 26687, 'paroxysms': 20435, 'irresistible': 15661, 'nervous': 19121, 'craving': 7173, 'intimidated': 15490, 'crushed': 7395, 'unhinged': 30004, 'insane': 15230, 'harassed': 13435, 'overstrained': 20153, 'stages': 26882, 'consumption': 6654, 'apt': 2102, 'doctors': 9048, 'intellect': 15369, 'fix': 11425, 'enterprise': 10172, '_ce': 250, 'marchand_': 17654, '_marchand_': 515, 'cropped': 7327, 'reality': 23010, 'dreaded': 9290, 'recklessly': 23117, 'terribly': 28397, 'dreams': 9303, 'travelling': 29179, 'posting': 21730, 'tickets': 28706, '_vive': 800, 'grande': 12894, 'route_': 24330, 'wills': 31602, 'daresay': 7664, 'wrongs': 31936, 'cares': 4882, 'bag': 2795, 'waistcoat': 31019, 'benignly': 3356, 'patting': 20603, 'inches': 14795, 'penny': 20775, 'cane': 4759, 'concentrate': 6341, 'gallop': 12296, 'incoherently': 14828, 'slightly': 26061, 'deliberate': 8001, 'act': 1130, 'reassuring': 23054, 'square': 26832, 'outline': 20011, 'hastened': 13526, 'atmosphere': 2479, 'inexplicable': 15034, 'confidences': 6447, 'dissimilar': 8908, 'adequate': 1185, 'conclusion': 6371, 'solution': 26409, 'lef': 16670, 'hurry': 14335, 'moan': 18443, 'monster': 18555, 'ear': 9564, 'deadly': 7757, 'lasted': 16495, 'fit': 11412, 'arrested': 2255, 'guard': 13165, 'sentinel': 25231, 'responsibility': 23813, 'irritation': 15683, 'discuss': 8709, 'admittance': 1241, 'dive': 8993, 'roman': 24243, 'bath': 3032, 'highgate': 13870, 'shabby': 25345, 'yearnings': 31996, 'gallant': 12282, 'greys': 13020, 'misfortune': 18346, 'discipline': 8644, 'resolute': 23770, 'woodman': 31772, 'cutting': 7548, 'mighty': 18173, 'martyrdom': 17738, 'buggy': 4426, 'luxuriously': 17343, 'proceeding': 22141, 'fontainebleau': 11700, 'musing': 18857, 'jerking': 15833, 'mawson': 17852, 'resign': 23756, 'introduction': 15516, 'astonishment': 2437, 'embarrassed': 9873, 'lambton': 16388, 'observation': 19537, 'shy': 25687, 'obtain': 19557, 'monosyllable': 18549, 'turns': 29494, 'custom': 7531, 'marie': 17670, 'food': 11702, 'employ': 9954, 'consider': 6574, 'sundays': 27669, 'mud': 18761, 'silently': 25775, 'regarded': 23324, 'uneasiness': 29883, 'pleasantly': 21401, 'weakened': 31252, 'kindness': 16159, 'earnestness': 9578, 'pressing': 21991, 'proofs': 22280, 'solicitude': 26390, 'comfortably': 6089, 'loved': 17214, 'belong': 3308, 'anxieties': 1944, 'sportive': 26752, 'irritations': 15684, 'probe': 22131, 'triumph': 29311, 'independent': 14923, 'resist': 23764, 'insult': 15346, 'mortification': 18662, 'consciousness': 6558, 'tear': 28259, 'glistened': 12672, 'touched': 28983, 'guessed': 13178, 'shutting': 25684, 'arthur': 2280, 'jack': 15742, 'prendergast': 21936, 'bless': 3685, 'fatigued': 11043, 'knotted': 16244, 'odours': 19677, 'disorder': 8815, 'sprang': 26769, 'guardian': 13167, 'solemnly': 26378, 'bielokonski': 3505, 'comforting': 6092, 'hunted': 14312, 'favourable': 11068, 'introduced': 15513, 'ach': 1080, 'infinite': 15072, 'capacity': 4806, 'definition': 7955, 'apply': 2046, 'detective': 8319, 'bodes': 3842, 'warlock': 31131, 'accent': 988, '_he_': 417, 'originally': 19908, 'cathedral': 5036, 'darya': 7698, 'indisposed': 14962, 'yegorytch': 32001, 'formally': 11865, 'reprovingly': 23669, 'preserve': 21977, 'theatrical': 28470, 'posturing': 21743, 'propos': 22312, 'comprehensive': 6295, 'extremest': 10799, 'horizon': 14096, 'glow': 12708, 'distrustfully': 8973, 'involuntary': 15599, 'secluded': 25068, 'incomparably': 14836, 'horsham': 14128, 'confidential': 6449, 'adviser': 1312, 'perceval': 20814, 'blooming': 3747, 'sisters': 25879, 'passion': 20515, 'indulgently': 14999, 'turks': 29479, 'smash': 26148, 'acknowledge': 1095, 'unpardonable': 30139, 'gamfield': 12319, 'happen': 13422, 'imputation': 14738, 'bruised': 4362, 'unaccountable': 29623, 'freak': 12012, 'extraneous': 10788, 'mode': 18457, 'revive': 23976, 'rumour': 24422, 'deigns': 7982, 'oddity': 19612, 'pompous': 21599, 'apologising': 1981, 'trace': 29031, 'geese': 12431, 'oakshott': 19464, 'salesman': 24581, 'named': 18941, 'breckinridge': 4185, 'windigate': 31625, 'alpha': 1635, 'club': 5850, 'member': 17992, 'currant': 7484, 'contradict': 6725, 'barometric': 2964, 'dearly': 7773, 'elaborated': 9771, 'centuries': 5130, 'charlatanism': 5282, 'underneath': 29809, 'swear': 27918, 'beard': 3096, 'odinness': 19659, 'tchebaroff': 28242, 'commission': 6143, 'intervention': 15477, 'fraud': 12005, 'touchy': 28989, 'protest': 22361, 'judged': 15970, 'coughed': 6986, 'exceeding': 10512, 'pate': 20547, 'gentlemanlike': 12479, 'jacket': 15748, 'dealers': 7765, 'customers': 7533, 'stock': 27187, 'epaulettes': 10248, 'timid': 28771, 'costly': 6967, 'dealings': 7767, 'offering': 19696, 'merchandise': 18050, 'cook': 6819, 'gloire': 12685, 'flanders': 11455, 'merchant': 18051, 'rob': 24181, 'spicery': 26657, 'mercery': 18049, 'warrant': 31148, 'naturedly': 19006, 'liking': 16878, 'coincidence': 5975, 'visited': 30864, 'sensation': 25195, 'precise': 21870, 'regarding': 23327, 'occurance': 19591, 'unjustly': 30058, 'untruly': 30340, 'cruelly': 7378, 'angelic': 1817, 'verily': 30689, 'unto': 30330, 'corn': 6894, 'wheat': 31398, 'abideth': 891, 'bringeth': 4272, 'fruit': 12138, 'flaccid': 11434, 'minded': 18233, 'forgiving': 11852, 'affable': 1332, 'servile': 25289, 'untasted': 30312, 'repeating': 23594, '_may_': 523, 'affectionate': 1344, 'shared': 25403, 'endured': 10050, 'similar': 25798, 'shrinking': 25649, 'traced': 29032, 'loiter': 17093, 'rid': 24047, 'prison': 22101, 'reflected': 23277, 'abyss': 976, 'transport': 29153, 'harboured': 13440, 'extenuated': 10758, 'ancient': 1790, 'deliberately': 8003, 'superscribed': 27725, 'cruncher': 7391, 'surveying': 27839, 'blotting': 3760, 'bloodshot': 3741, 'brandishing': 4114, 'bar': 2916, 'regretting': 23356, 'sunrise': 27687, 'park': 20418, 'commotion': 6171, 'uncommonly': 29745, 'chimed': 5447, 'occasioned': 19575, 'dispersion': 8846, 'soliloquy': 26398, 'intelligence': 15373, 'stammered': 26921, 'ippolit': 15618, 'odinitch': 19651, 'final': 11330, 'peroration': 20890, 'fever': 11231, 'vengeance': 30640, 'base': 2997, 'robbery': 24186, 'tragic': 29068, 'glaring': 12628, 'consistency': 6591, 'facts': 10853, 'beating': 3112, 'bearers': 3100, 'package': 20212, 'wreck': 31880, 'persisted': 20926, 'friendship': 12076, 'practitioner': 21809, 'limited': 16899, 'mediocre': 17936, 'qualifications': 22640, 'earned': 9575, 'costermongers': 6966, 'clean': 5721, 'samovar': 24622, 'festival': 11215, 'examination': 10492, 'queried': 22694, 'wherefore': 31422, 'lad': 16345, 'carter': 4950, 'perchance': 20816, 'excessive': 10534, 'disgust': 8748, 'pie': 21142, 'choke': 5490, 'uncomfortable': 29742, 'surprising': 27821, 'reception': 23094, 'treated': 29205, 'tyrannically': 29577, 'contemptuously': 6681, 'rupture': 24440, 'households': 14174, 'incidentally': 14799, 'offensive': 19691, 'extraordinarily': 10789, 'supercilious': 27701, 'irritated': 15680, 'vagueness': 30497, 'proudly': 22380, 'slap': 25995, 'methods': 18122, 'permissible': 20883, 'detested': 8333, 'insinuations': 15266, 'war': 31103, 'drozdov': 9389, 'offended': 19685, 'perplexed': 20903, 'naïve': 19023, 'awe': 2697, 'nonplussed': 19300, 'grips': 13068, 'nerve': 19117, 'paralyzing': 20373, 'shock': 25545, 'victim': 30749, 'plot': 21438, 'foeman': 11648, '_could_': 284, 'sugar': 27600, 'probability': 22127, 'foundation': 11934, 'humanity': 14252, 'odines': 19630, 'abbey': 867, 'revolts': 23985, 'phelps': 21054, 'groan': 13078, 'advertisement': 1301, 'carefully': 4877, 'pentonville': 20790, 'actually': 1149, 'gin': 12574, '_and': 186, 'saith': 24571, 'feast': 11097, 'thinner': 28543, 'lieutenant': 16835, 'rich': 24031, 'strolled': 27392, 'fresher': 12051, 'sooner': 26441, 'threshold': 28625, 'ante': 1901, 'halt': 13339, 'discovery': 8697, 'flowering': 11604, 'shrubs': 25661, 'staircase': 26899, 'furniture': 12213, 'waggons': 31003, 'dismantling': 8799, 'donned': 9139, 'depart': 8110, 'supplied': 27750, 'contract': 6720, 'dismissed': 8805, 'actively': 1139, 'dispersing': 8845, 'grasping': 12924, 'coward': 7092, 'sprung': 26797, 'puzzle': 22604, 'exhibition': 10610, 'paces': 20206, 'obstinately': 19553, 'cavalier': 5069, 'mum': 18795, 'joseph': 15931, 'lifting': 16847, 'proposed': 22317, 'printing': 22092, 'published': 22453, 'collection': 6013, 'revolutionary': 23988, 'verse': 30703, 'alarmed': 1510, 'enormously': 10134, 'flattered': 11480, 'hidden': 13850, 'mattress': 17830, 'daytime': 7741, 'positively': 21706, 'extreme': 10796, 'unresentful': 30211, 'monomania': 18543, 'boon': 3942, 'tuesday': 29437, 'wept': 31358, 'sacrament': 24503, 'adventures': 1292, 'drat': 9267, 'lauk': 16530, 'parlour': 20429, 'carlton': 4899, 'terrace': 28391, 'posts': 21738, 'coup': 7033, 'altamont': 1640, 'cottage': 6980, 'considerations': 6580, 'talkin': 28118, 'keel': 16072, 'hauling': 13565, 'moscow': 18671, 'swiftness': 27960, 'lightning': 16862, 'unexpectedness': 29906, 'arabian': 2111, 'fairy': 10898, 'widow': 31550, 'nearest': 19032, 'relation': 23414, 'nieces': 19186, 'heiresses': 13743, 'kin': 16148, 'pox': 21797, 'prostrated': 22348, 'welcomed': 31335, 'clutched': 5873, 'eighty': 9755, 'portion': 21686, 'hysterical': 14389, 'snarled': 26227, 'rounded': 24317, 'blinking': 3708, 'buttoning': 4578, 'pea': 20644, 'hunting': 14316, 'crop': 7326, 'rack': 22776, 'jones': 15925, 'scotland': 24914, 'introduce': 15512, 'recalling': 23074, 'bewildered': 3474, 'collect': 6008, 'glared': 12627, 'frowning': 12128, 'reassure': 23051, 'vaguely': 30496, 'daughters': 7713, 'grow': 13120, 'eccentric': 9632, 'nihilists': 19212, 'socialist': 26321, 'hasn': 13521, 'loftier': 17076, 'babley': 2743, 'richard': 24032, 'behaves': 3243, 'fearful': 11086, 'merited': 18071, 'conforming': 6479, 'trusted': 29398, 'wishes': 31683, 'guided': 13191, 'forced': 11761, 'complacency': 6236, 'prank': 21822, 'cost': 6962, 'thirty': 28562, 'parson': 20447, 'replacing': 23612, 'betsey': 3457, 'trotwood': 29346, 'untouched': 30332, 'mam': 17547, 'selle': 25159, 'crew': 7244, 'galley': 12290, 'ahead': 1460, 'oars': 19468, 'athwart': 2474, 'gunwale': 13236, 'paddles': 20223, 'driving': 9353, 'irresistibly': 15662, 'steersman': 27078, 'swinging': 27975, 'tide': 28715, 'frantically': 11993, 'lean': 16605, 'captor': 4843, 'pull': 22476, 'cloak': 5804, 'sitter': 25886, 'disclosed': 8650, 'convict': 6796, 'tilt': 28754, 'backward': 2771, 'splash': 26700, 'period': 20862, 'stupor': 27467, 'convulsions': 6809, 'overcome': 20075, 'sleep': 26026, 'unconscious': 29756, 'breathing': 4178, 'heavily': 13701, 'pursuit': 22581, 'counsel': 6996, 'defense': 7929, 'respectful': 23795, 'pamphlet': 20298, '_the': 742, 'deceased': 7816, 'odin_': 19619, 'diocesan': 8551, 'authorities': 2609, 'profound': 22208, 'religious': 23456, 'preceded': 21850, 'devout': 8392, 'dedication': 7886, 'warmly': 31139, 'preserved': 21978, 'beaver': 3133, 'lace': 16323, 'staff': 26876, 'setting': 25301, 'softly': 26346, 'airs': 1494, 'spending': 26644, 'yourn': 32051, 'ain': 1484, 'afeerd': 1329, '_like_': 499, 'ull': 29597, 'blast': 3654, 'snapping': 26220, 'wig': 31559, 'colonist': 6036, 'stirring': 27177, 'dust': 9507, 'rounds': 24322, 'suspicious': 27862, 'impetuous': 14623, 'varying': 30570, 'consolation': 6597, 'impossibility': 14668, 'acquitting': 1124, 'indifferent': 14943, 'seclude': 25067, 'uniform': 30014, 'avoiding': 2671, 'presence': 21962, 'endure': 10049, 'hardened': 13448, 'sorrows': 26469, 'ordinary': 19879, 'eagerly': 9559, 'financial': 11335, 'flirts': 11553, 'flirt': 11549, 'distinction': 8936, 'magazine': 17420, 'mingled': 18245, 'amusement': 1756, 'restore': 23833, 'willingly': 31598, 'professionally': 22187, 'compartment': 6206, 'knelt': 16216, 'resentment': 23734, 'tragedy': 29067, 'realized': 23012, 'footboard': 11717, 'steep': 27063, 'embankment': 9868, 'bushes': 4542, 'railroad': 22819, 'bathing': 3035, 'wet': 31379, 'sparrow': 26565, 'maker': 17492, 'mo': 18442, 'shafts': 25361, 'brignais': 4258, 'brabant': 4064, 'cantle': 4791, 'englishman': 10090, 'shield': 25490, 'hangs': 13412, 'screwed': 24969, 'string': 27370, 'pitch': 21274, 'dangling': 7650, 'greased': 12973, 'sped': 26619, 'unlooked': 30078, 'pinned': 21226, 'coverlet': 7079, 'printed': 22090, 'bold': 3879, 'straggling': 27274, 'print': 22089, 'leg': 16672, 'plaster': 21358, 'lucky': 17260, 'kindly': 16158, 'motioned': 18689, 'eating': 9618, 'sport': 26748, 'page': 20235, 'scraps': 24950, 'idleness': 14427, 'tattoo': 28215, 'billy': 3535, 'rum': 24409, 'key': 16110, 'itt': 15724, 'snatches': 26231, 'unintelligible': 30028, 'wondering': 31755, 'knife': 16218, 'jacques': 15759, 'petition': 21013, 'queen': 22677, 'excepted': 10526, 'darted': 7690, 'carrying': 4941, 'incessant': 14792, 'services': 25288, 'wo': 31733, 'donkey': 9137, 'garcia': 12342, 'baynes': 3068, 'lies': 16831, 'arranged': 2241, 'scott': 24916, 'eccles': 9636, 'alibi': 1553, 'apparently': 2002, 'desires': 8242, 'establish': 10366, 'directed': 8565, 'encouragement': 10006, 'aware': 2694, 'views': 30769, 'accepting': 997, 'connexion': 6536, 'gradations': 12870, 'rank': 22876, 'shewing': 25485, 'presumption': 22003, 'addressing': 1179, 'provoking': 22405, 'perturbed': 20972, 'release': 23429, 'newspapers': 19163, 'grace': 12859, 'lowliest': 17233, 'salutations': 24604, 'graciously': 12867, 'rolles': 24236, 'rajah': 22839, 'smallest': 26134, 'explaining': 10697, 'method': 18117, 'admire': 1228, 'insanity': 15232, 'german': 12513, 'recommended': 23156, 'proficient': 22195, 'discreet': 8702, 'capable': 4802, 'preserving': 21981, 'kupferof': 16294, 'iou': 15615, 'settle': 25302, 'biscup': 3562, '_au': 201, 'revoir_': 23981, 'worry': 31827, 'flung': 11620, 'stupendous': 27460, 'morally': 18621, 'bolter': 3888, 'seating': 25058, 'recognise': 23132, 'obligations': 19503, 'decisively': 7844, 'ingenuous': 15119, 'chaps': 5247, 'harm': 13473, 'today': 28847, 'explained': 10695, 'rode': 24213, 'barred': 2970, 'shadows': 25355, 'squires': 26858, 'archers': 2136, 'sumpter': 27658, 'mule': 18778, 'tranquil': 29100, 'gently': 12489, 'guienne': 13197, 'townlets': 29020, 'castles': 5001, 'forests': 11820, 'villages': 30792, 'ringed': 24109, 'rude': 24371, 'constant': 6618, 'foray': 11745, 'frontier': 12116, 'bands': 2879, 'horsemen': 14123, 'swooping': 28001, 'gateways': 12397, 'wayside': 31247, 'strongholds': 27399, 'errand': 10309, 'armed': 2213, 'clanked': 5667, 'laden': 16350, 'mules': 18779, 'trader': 29050, 'varlets': 30564, 'hired': 13920, 'eodin': 10246, 'phenomenon': 21058, 'serpents': 25276, 'fantastic': 10965, 'coils': 5970, 'vapour': 30551, 'pace': 20204, 'ghost': 12536, 'girth': 12594, 'hazy': 13613, 'fade': 10859, 'snakes': 26217, 'colour': 6045, 'darker': 7675, 'definite': 7953, 'organism': 19890, 'whisked': 31475, 'clammy': 5650, 'contact': 6657, 'composition': 6283, 'unsubstantial': 30295, 'connect': 6529, 'frames': 11981, 'floating': 11559, 'spume': 26801, 'wave': 31219, 'diaphanous': 8423, 'scarlet': 24817, 'shaded': 25349, 'tinting': 28796, 'metallic': 18104, 'sparkle': 26558, 'drooped': 9367, 'pose': 21700, 'absorbing': 948, 'flush': 11625, 'cheeks': 5351, 'tut': 29510, 'approval': 2085, 'bystanders': 4610, 'boldly': 3882, 'innocence': 15195, 'throng': 28647, 'accusers': 1069, 'sacrilegious': 24513, 'disguise': 8745, 'babel': 2740, 'indicated': 14933, 'dragged': 9240, 'crowd': 7352, 'prisoners': 22103, 'favour': 11067, 'cursed': 7494, 'swam': 27894, 'dizzily': 9029, 'eddies': 9668, 'furious': 12204, 'drily': 9335, 'stiff': 27127, 'opening': 19802, 'curtains': 7503, 'chairs': 5180, 'tidied': 28717, 'shut': 25680, 'nursing': 19450, 'earn': 9574, '_mine': 535, 'reserve': 23738, 'diffidence': 8464, 'arises': 2191, 'discretion': 8705, 'huckster': 14214, 'bet': 3435, 'hey': 13843, 'attentive': 2523, 'puzzled': 22605, 'translated': 29134, 'skill': 25928, 'lighting': 16859, 'kitchen': 16189, 'furnished': 12210, 'terentich': 28378, 'iron': 15636, 'candlestick': 4755, 'vodka': 30903, 'enter': 10169, 'securely': 25091, 'sinking': 25855, 'thither': 28565, 'outlaw': 20006, 'supposition': 27766, 'bartender': 2988, 'abashed': 861, 'councillor': 6993, 'ted': 28273, 'pointing': 21522, 'useful': 30447, 'rubs': 24363, 'shines': 25512, 'perpetual': 20896, 'friction': 12067, 'solitary': 26400, 'passes': 20513, 'onward': 19784, 'seeks': 25124, 'dreads': 9295, 'brace': 4067, 'pistols': 21270, 'misses': 18378, 'wheezed': 31414, 'theorist': 28496, 'lectured': 16648, 'inferences': 15062, 'bishopgate': 3564, 'jewel': 15856, 'luck': 17254, 'guidance': 13189, 'trot': 29341, 'nephew': 19114, 'frame': 11979, 'fierce': 11276, 'compelled': 6220, 'connected': 6530, 'exhibited': 10608, 'contempt': 6677, 'boarders': 3816, 'choosing': 5502, 'malignant': 17526, 'shaws': 25435, 'crack': 7121, 'laird': 16374, 'hunner': 14309, 'nineteen': 19229, 'jennet': 15826, 'clouston': 5843, 'curse': 7493, 'byre': 4605, 'stable': 26869, 'bairn': 2808, 'reappeared': 23027, 'gentility': 12474, 'impressing': 14689, 'shapes': 25400, 'attractive': 2541, 'entreated': 10212, 'denounced': 8094, 'imprisonment': 14700, 'crucifix': 7371, 'images': 14509, 'despised': 8271, 'imitative': 14534, 'grimacing': 13043, 'implied': 14640, 'contraction': 6722, 'rays': 22970, 'glory': 12700, 'encircled': 9989, 'sacrifice': 24507, 'crowning': 7361, 'rock': 24206, 'vainly': 30502, 'preaching': 21842, 'passers': 20512, 'emblem': 9889, 'truths': 29411, 'magnanimous': 17432, 'mountain': 18710, 'olalla': 19734, 'oaken': 19461, 'glimpse': 12663, 'glistening': 12673, 'barrels': 2973, 'pipes': 21241, 'organ': 19885, 'regiment': 23337, 'relative': 23418, 'placed': 21303, 'edinburgh': 9683, 'seventeen': 25314, '1878': 70, 'senior': 25187, 'obtained': 19558, 'telegraphed': 28293, 'langham': 16440, 'reaching': 22980, 'staying': 27020, 'waited': 31024, 'manager': 17562, 'advertised': 1300, 'choking': 5493, 'sob': 26306, 'hatred': 13552, 'pantomime': 20330, 'pained': 20245, 'detected': 8317, 'worsted': 31839, 'magnified': 17441, 'phosphoric': 21087, 'manufacture': 17637, 'thunderbolts': 28677, 'displaying': 8852, 'cowardice': 7093, 'worthier': 31841, 'youthful': 32054, 'parental': 20404, 'brutality': 4379, 'farmer': 10984, 'purposely': 22562, 'flour': 11594, 'sack': 24498, 'summoned': 27654, 'sententious': 25220, 'enchanter': 9985, 'antipodes': 1928, 'unsteadily': 30288, 'proved': 22382, 'crowned': 7360, 'necromantic': 19059, 'volume': 30926, 'sung': 27678, 'butted': 4569, 'danced': 7630, 'fires': 11376, 'various': 30561, 'devoted': 8381, 'emotions': 9939, 'hungry': 14306, 'coldly': 5986, 'grasped': 12923, 'calmer': 4699, 'hush': 14347, 'freely': 12022, 'enthusiastic': 10190, 'musician': 18856, 'performer': 20846, 'composer': 6281, 'merit': 18070, 'afternoon': 1391, 'music': 18853, 'languid': 16444, 'dreamy': 9305, 'sleuth': 26045, 'relentless': 23435, 'witted': 31723, 'agent': 1406, 'dual': 9417, 'alternately': 1652, 'asserted': 2374, 'exactness': 10483, 'astuteness': 2454, 'represented': 23638, 'reaction': 22981, 'poetic': 21507, 'contemplative': 6672, 'predominated': 21898, 'swing': 27974, 'languor': 16448, 'devouring': 8390, 'lounging': 17202, 'imodinations': 14571, 'editions': 9687, 'lust': 17327, 'chase': 5304, 'reasoning': 23044, 'level': 16764, 'intuition': 15531, 'unacquainted': 29630, 'mortals': 18656, 'enwrapped': 10245, 'hunt': 14311, 'pross': 22345, 'flash': 11470, 'crash': 7163, 'shrank': 25627, 'wh': 31384, 'envied': 10237, 'garth': 12376, 'farm': 10983, 'purcell': 22529, 'porch': 21650, 'advanced': 1280, 'descended': 8201, 'bleached': 3668, 'grass': 12925, 'surly': 27802, 'malevolence': 17516, 'fells': 11160, 'stepney': 27097, 'elbows': 9781, 'tobacco': 28838, 'twirled': 29545, 'dexterity': 8401, 'agile': 1422, 'antennæ': 1904, 'brisken': 4280, 'accusation': 1063, 'delicate': 8008, 'disinclined': 8774, 'quinion': 22734, 'tapped': 28165, 'stoutish': 27260, 'aged': 1401, 'brown': 4350, 'surtout': 27836, 'tights': 28740, 'shoes': 25556, 'shining': 25514, 'extensive': 10755, 'imposing': 14664, 'jaunty': 15798, 'rusty': 24463, 'tassels': 28199, 'quizzing': 22751, 'ornament': 19920, 'neglected': 19084, 'expectations': 10655, 'keenest': 16075, 'maintaining': 17474, 'bargain': 2937, 'executed': 10579, 'tellson': 28305, 'hesitated': 13828, 'messenger': 18095, 'clothed': 5830, 'communicate': 6175, 'documents': 9053, 'herr': 13821, 'fail': 10873, 'wayfarer': 31240, 'smoked': 26183, 'provoked': 22404, 'impulsive': 14731, 'curiosity': 7474, 'crackit': 7127, 'abandon': 854, 'hopeless': 14083, 'maintain': 17472, 'swagger': 27883, 'chitling': 5472, 'snivel': 26260, 'rally': 22848, 'lashed': 16485, 'fist': 11410, 'shrieked': 25637, 'ludwigovna': 17266, '_vater_': 789, 'johann': 15900, 'burgomeister': 4508, 'heaving': 13703, 'dared': 7661, 'contemptible': 6678, 'papa': 20336, 'trample': 29093, 'silver': 25792, 'spoons': 26745, 'outcry': 19987, 'uproar': 30408, 'restrain': 23836, 'threat': 28615, 'swell': 27947, 'dose': 9168, 'opium': 19821, 'consents': 6567, 'procure': 22156, 'agents': 1407, 'acutest': 1155, 'unjust': 30056, 'ally': 1615, 'coast': 5894, 'workers': 31800, 'trustworthy': 29405, 'judgment': 15975, 'officials': 19706, 'mcpherson': 17873, 'ascertained': 2311, 'employed': 9955, 'stoker': 27201, 'slater': 26002, 'engine': 10081, 'obstinate': 19552, 'desisted': 8247, 'paris': 20412, 'contingency': 6700, 'preparations': 21948, 'sighted': 25738, 'shores': 25574, 'amused': 1754, 'pilot': 21197, 'moorings': 18603, 'carelessly': 4880, 'bloweth': 3765, 'listeth': 16971, 'henderland': 13780, 'awa': 2680, 'heather': 13689, 'glowering': 12711, 'yon': 32035, 'whin': 31451, 'bush': 4539, 'wouldnae': 31853, 'snuff': 26286, 'inexact': 15024, 'artificial': 2292, 'complicated': 6264, 'blighted': 3695, 'meets': 17963, 'reverse': 23951, 'attempt': 2508, 'kings': 16169, 'europe': 10409, 'confine': 6457, 'undertaker': 29824, 'approvingly': 2091, 'parish': 20413, 'addition': 1171, 'forlorn': 11859, 'attached': 2491, 'calculations': 4676, 'debts': 7805, 'treat': 29204, 'shops': 25572, 'rending': 23550, 'shaving': 25430, 'conversations': 6782, 'lovely': 17217, 'nan': 18947, 'flood': 11568, 'declaration': 7852, 'calculation': 4675, 'favourite': 11072, 'hindrance': 13902, 'heer': 13727, 'thowt': 28597, 'stan': 26928, 'ning': 19232, 'fidgeted': 11264, 'begs': 3232, 'surpassing': 27813, 'blessed': 3686, 'sin': 25827, 'stained': 26893, 'paradise': 20358, 'intercession': 15403, 'herward': 13825, 'bailiff': 2806, 'ride': 24052, 'psychological': 22436, 'accused': 1067, 'client': 5777, 'repentance': 23601, 'clerical': 5756, 'diet': 8447, 'incontrovertible': 14864, 'relatively': 23419, 'insignificant': 15258, 'manifest': 17588, 'extenuate': 10757, 'substitute': 27535, 'nourishment': 19391, 'tartar': 28186, 'assented': 2370, 'crocodiles': 7305, 'perspicuously': 20948, 'cloudy': 5841, 'vegetable': 30602, 'sleepiness': 26031, 'immensely': 14546, 'propped': 22324, 'eyelids': 10823, 'forefingers': 11782, 'perseveringly': 20922, 'wax': 31233, 'thread': 28608, 'wrinkled': 31908, 'thatched': 28461, 'roof': 24262, 'measure': 17904, 'sliding': 26054, 'lid': 16823, 'pink': 21223, 'dome': 9106, 'painted': 20252, 'brass': 4119, 'thimble': 28530, 'rules': 24406, 'resolutely': 23771, 'favorite': 11066, 'speakers': 26581, 'alike': 1566, 'incorruptibility': 14875, 'bodies': 3847, 'dogma': 9077, 'orthodox': 19930, 'regions': 23343, 'athos': 2473, 'instance': 15302, 'greatly': 12982, 'confounded': 6482, 'corruption': 6948, 'glorification': 12694, 'bodily': 3848, 'color': 6040, 'decayed': 7814, 'shows': 25624, 'deemed': 7899, 'doctrine': 9049, 'purity': 22549, 'disclosing': 8652, 'geographical': 12498, 'arrive': 2259, 'uncertainly': 29713, 'forgot': 11854, 'beastly': 3107, 'needlework': 19073, '_his_': 429, 'elaborate': 9770, 'savage': 24734, 'pathway': 20563, 'marched': 17655, 'sloped': 26086, 'leafless': 16593, 'undergrowth': 29796, 'holly': 14001, 'trunks': 29393, 'huts': 14363, 'roofs': 24265, 'tethered': 28432, 'grazed': 12969, 'encampment': 9982, 'lounged': 17198, 'marks': 17692, 'cooking': 6824, 'kettles': 16108, 'comrades': 6320, 'horseman': 14121, 'exercising': 10594, 'charger': 5267, 'camp': 4731, 'cantering': 4789, 'dapper': 7657, 'richly': 24040, 'clad': 5637, 'shaven': 25427, 'sparkled': 26559, 'smartly': 26146, 'burning': 4522, 'penetrate': 20751, 'enveloped': 10233, 'sacred': 24506, 'conversed': 6785, 'reposed': 23628, 'guileless': 13200, 'intense': 15384, 'fervour': 11212, 'win': 31612, 'outcast': 19983, 'varied': 30558, 'narrative': 18971, 'triumphant': 29312, 'previously': 22041, 'wetting': 31382, 'emphasis': 9944, 'ferrier': 11203, 'wrung': 31940, 'cordially': 6879, 'troubles': 29350, 'butcher': 4560, 'annum': 1880, 'infancy': 15046, 'defiant': 7940, 'villain': 30793, 'faced': 10834, 'unexpected': 29904, 'discharged': 8639, 'exquisite': 10747, 'glee': 12646, 'exclamation': 10554, 'shriek': 25636, 'anticipated': 1912, 'vent': 30647, 'animal': 1840, 'convulsively': 6811, 'shrieking': 25638, 'continual': 6703, 'patter': 20596, 'drum': 9398, 'scared': 24813, 'vindictiveness': 30812, 'scratching': 24954, 'punching': 22503, 'erkel': 10302, 'interrupt': 15462, 'parliamentary': 20425, 'observing': 19545, 'soil': 26350, 'veritable': 30690, 'socman': 26330, 'socage': 26315, 'answerable': 1893, 'worldly': 31815, 'generations': 12449, 'ancestors': 1783, 'associated': 2404, 'quicker': 22711, 'twirling': 29546, 'merrily': 18082, 'saxon': 24759, 'powerful': 21791, 'untanned': 30309, 'sheepskin': 25458, 'leather': 16627, 'breeches': 4187, 'galligaskins': 12292, 'nestling': 19128, 'odinly': 19656, 'talks': 28120, 'managing': 17565, 'phil': 21061, '_while': 824, 'last_': 16494, 'testify': 28419, 'panted': 20326, 'mills': 18215, 'mender': 18022, 'roads': 24167, 'species': 26595, 'british': 4293, 'scarabaei': 24802, 'breathless': 4180, 'detesting': 8334, 'chests': 5401, 'recovering': 23189, 'scolding': 24893, 'foolishly': 11711, 'involved': 15601, 'lecture': 16647, 'simpleton': 25816, 'happily': 13429, 'complacent': 6237, 'smiles': 26166, 'dining': 8538, 'dimensions': 8513, 'larger': 16475, 'fitted': 11417, 'luxury': 17344, 'unpractised': 30156, 'spaciousness': 26534, 'attendants': 2516, 'gracious': 12866, 'acknowledged': 1096, 'sized': 25906, 'confessed': 6435, 'careless': 4879, 'tolerably': 28869, 'necessaries': 19042, 'bodyguard': 3860, '_panovie_': 610, 'analysed': 1766, 'psychology': 22439, 'courteous': 7050, 'mincing': 18231, 'ruffling': 24390, 'gratification': 12936, 'adding': 1170, 'sturdy': 27469, 'grizzled': 13075, 'sober': 26309, 'sentient': 25222, 'appeal': 2005, 'sleeps': 26035, 'bark': 2947, 'climbed': 5785, 'plague': 21312, 'castle': 5000, 'villefranche': 30799, 'moat': 18447, 'turreted': 29498, 'corners': 6898, 'towering': 29015, 'moonlight': 18595, 'flambeaux': 11450, 'protruded': 22372, 'slit': 26079, 'openings': 19803, 'ponderous': 21608, 'gleam': 12639, 'weapons': 31269, 'eagle': 9561, 'du': 9416, 'passport': 20524, 'fortalice': 11889, 'border': 3959, 'forwards': 11919, 'greet': 13004, 'famous': 10945, 'countryman': 7027, 'sore': 26460, 'thorn': 28573, 'routed': 24331, 'expeditions': 10664, 'seneschal': 25184, 'auvergne': 2623, 'yew': 32027, 'marches': 17656, 'donwell': 9140, 'leisure': 16699, '_who': 825, '_odin': 582, 'hen': 13777, 'excites': 10548, 'threatening': 28618, 'demands': 8042, 'shrug': 25662, 'needs': 19075, '_did': 304, 'not_': 19346, 'learnt': 16622, 'contained': 6661, 'connection': 6532, 'accidentally': 1007, 'encountered': 10001, 'awakened': 2688, 'resemblance': 23724, 'repaired': 23578, 'birth': 3554, 'existed': 10629, 'suppressed': 27771, 'parentage': 20403, 'identity': 14417, 'hag': 13291, 'rotting': 24299, 'coffin_': 5948, 'unworthy': 30375, 'liar': 16790, 'councils': 6995, 'thieves': 28526, 'murderers': 18823, 'plots': 21441, 'wiles': 31580, 'cradle': 7133, 'gall': 12281, 'bitterness': 3583, 'passions': 20519, 'vice': 30743, 'profligacy': 22205, 'festered': 11214, 'disease': 8719, 'leeford': 16662, 'teach': 28250, 'scanning': 24794, 'brief': 4233, 'enigmatic': 10109, 'consisted': 6590, 'squealed': 26847, 'criminals': 7265, 'scowrer': 24935, 'begged': 3216, 'wicliff': 31540, 'followers': 11682, 'norwich': 19334, 'omer': 19756, 'deepened': 7903, 'gleamed': 12640, 'chinks': 5460, 'discoursing': 8690, 'congratulations': 6508, 'promoted': 22258, 'quitting': 22742, 'zeal': 32071, 'parting': 20477, 'grateful': 12932, 'burst': 4530, 'overcharged': 20071, 'endurance': 10048, 'partial': 20459, 'justification': 16027, 'forebodings': 11776, 'admitted': 1242, 'unfeigned': 29926, 'unequivocal': 29895, 'cheerfulness': 5358, 'entire': 10194, 'recovery': 23190, 'consistent': 6592, 'reports': 23626, 'philosophical': 21076, 'virtuous': 30846, 'diminished': 8515, 'chorus': 5513, 'inch': 14794, 'believes': 3284, 'voices': 30909, 'wormy': 31821, 'fox': 11960, 'headlong': 13630, 'bodinmless': 3855, 'discomposure': 8662, 'incessantly': 14793, 'rational': 22936, 'report': 23621, 'originate': 19910, 'recollected': 23146, 'supply': 27753, 'frequently': 12046, 'neighbours': 19107, 'lodge': 17068, '_she_': 707, 'masterful': 17775, 'obscure': 19523, 'purvis': 22587, 'courage': 7040, 'reproachful': 23653, 'prettiest': 22023, 'poet': 21506, 'amiable': 1717, 'honours': 14055, 'excursion': 10567, 'scrawled': 24955, 'aspired': 2349, 'le': 16581, 'commissaire': 6139, 'writhe': 31919, 'ungainly': 29966, 'needn': 19074, 'bid': 3494, 'mas': 17748, 'davy': 7721, 'vile': 30783, 'falcon': 10914, 'draws': 9285, 'listens': 16970, 'slave': 26009, 'dirk': 8577, 'budge': 4411, 'mates': 17803, 'sooth': 26444, 'incredulously': 14885, 'hateful': 13545, 'plans': 21348, 'ruined': 24397, 'hasty': 13533, 'judgments': 15976, 'unkind': 30061, 'treatment': 29209, 'unduly': 29875, 'sensitive': 25207, 'enable': 9974, 'montana': 18564, 'prospecting': 22336, 'arizona': 2200, 'mexico': 18135, 'miners': 18241, 'attacked': 2497, 'apache': 1958, 'indians': 14931, 'pa': 20203, 'decline': 7858, 'frisco': 12098, 'doubted': 9194, 'woodston': 31775, 'necessarily': 19043, 'replaced': 23611, 'caresses': 4885, 'convey': 6792, 'correspondents': 6931, 'representatives': 23637, 'engineers': 10084, 'displayed': 8851, 'forefinger': 11781, 'presentable': 21966, 'impunity': 14734, 'belonged': 3309, 'bourgeois': 4029, 'origin': 19905, 'knack': 16200, 'acquiring': 1118, 'wigs': 31566, 'retaining': 23863, 'claimed': 5641, 'advantages': 1287, 'unfortunately': 29948, 'dignitary': 8486, 'wantin': 31097, 'northern': 19329, 'legacy': 16675, 'apropos': 2100, 'judging': 15974, 'blackmailer': 3608, 'sets': 25297, 'scowl': 24931, 'deficient': 7944, 'tempered': 28314, 'lowering': 17228, 'sha': 25342, 'kostya': 16278, 'verge': 30681, 'benwick': 3365, 'considerately': 6578, 'united': 30044, 'continuing': 6710, 'afoot': 1381, 'charlemagne': 5283, 'commanded': 6105, 'armies': 2216, 'pterodactyl': 22442, 'statue': 27010, 'coldstream': 5989, 'guards': 13171, 'marlborough': 17695, 'courtmartialed': 7058, 'rifle': 24072, 'heels': 13725, 'mall': 17532, 'issue': 15707, 'adduce': 1181, 'log': 17081, 'ss': 26863, 'friesland': 12078, 'dutch': 9515, 'liner': 16922, 'asserts': 2378, 'starboard': 26958, 'goat': 12729, 'monstrous': 18558, 'bat': 3029, 'heading': 13622, 'prodigious': 22163, 'homing': 14024, 'instinct': 15319, 'atlantic': 2477, 'european': 10410, 'chicken': 5412, 'tradesman': 29053, 'providing': 22393, 'jinte': 15882, 'sticking': 27124, 'provide': 22386, 'declaring': 7857, 'rome': 24254, 'customer': 7532, 'toy': 29028, 'fleet': 11515, 'giants': 12542, 'dunstan': 9485, 'bells': 3301, 'timed': 28766, 'ludgate': 17263, 'accelerated': 986, 'brush': 4370, 'fedka': 11119, 'richmond': 24041, 'hoops': 14069, 'patches': 20546, 'embroidered': 9905, 'ruffles': 24389, 'fashions': 11011, 'formal': 11862, 'skirts': 25954, 'allotted': 1597, 'procession': 22146, 'chuckling': 5546, 'advocated': 1316, 'manifestoes': 17595, 'passons': 20523, 'winced': 31614, 'henceforward': 13779, 'apart': 1960, 'sly': 26125, 'curiously': 7477, 'attempted': 2509, 'summer': 27648, 'delightful': 8015, 'correctly': 6925, 'provinces': 22395, 'blushing': 3804, 'ross': 24287, 'iona': 15612, 'packet': 20215, 'cushing': 7522, 'oldest': 19737, 'initial': 15159, 'commence': 6115, 'investigation': 15570, 'basis': 3015, 'hoax': 13952, 'copying': 6865, '_encyclopædia': 337, 'britannica_': 4292, 'vincent': 30805, 'spaulding': 26578, 'bedtime': 3171, 'reasoned': 23041, 'ink': 15179, 'quill': 22730, 'foolscap': 11714, 'purveyors': 22586, 'lamps': 16408, 'fared': 10975, 'purchases': 22535, 'needful': 19065, 'association': 2407, 'consequently': 6572, 'marketing': 17684, 'plump': 21467, 'noun': 19386, 'substantive': 27534, 'shopkeeper': 25567, 'price': 22046, 'city': 5622, 'burley': 4516, 'rout': 24328, 'snowing': 26281, 'roaring': 24176, 'kitchens': 16190, 'parlours': 20430, 'flickering': 11532, 'blaze': 3662, 'cosy': 6971, 'plates': 21367, 'baking': 2821, 'brothers': 4343, 'uncles': 29734, 'aunts': 2584, 'assembling': 2367, 'group': 13112, 'hooded': 14058, 'booted': 3948, 'chattering': 5324, 'tripped': 29306, 'lightly': 16860, 'woe': 31734, 'artful': 2276, 'witches': 31698, 'sarah': 24676, 'liverpool': 17011, 'croydon': 7365, 'jogged': 15898, 'chap': 5235, 'meantersay': 17900, 'coddleshell': 5932, 'afore': 1382, 'matthew': 17827, 'implicitly': 14638, 'suspense': 27858, 'encompassed': 9997, 'protection': 22354, 'aha': 1459, 'maliciously': 17523, 'alters': 1658, 'aspect': 2340, 'wonderfully': 31754, 'easier': 9599, 'lessons': 16748, 'umbleness': 29610, 'prevents': 22039, 'owning': 20189, 'stress': 27345, 'tight': 28734, 'helpmate': 13764, 'colouring': 6047, 'combat': 6060, 'dilapidate': 8495, 'funds': 12186, 'theft': 28478, 'dignified': 8483, 'fun': 12177, 'smeared': 26154, 'bravest': 4131, 'cord': 6875, 'cliff': 5779, 'rugged': 24393, 'tuft': 29439, 'thrusting': 28660, 'ridge': 24059, 'foothold': 11721, 'jagged': 15763, 'boulders': 4004, 'bristled': 4286, 'menacing': 18015, 'norbury': 19312, 'tugged': 29443, 'thrice': 28628, 'clambered': 5648, 'downwards': 9224, 'failed': 10874, 'aimed': 1478, 'swung': 28009, 'sling': 26066, 'buzzed': 4593, 'wasp': 31169, 'grasp': 12922, 'relaxed': 23425, 'ridges': 24060, 'dilber': 8503, 'necessity': 19049, 'weymouth': 31383, 'poured': 21779, 'jug': 15982, 'effusions': 9728, 'coolly': 6833, 'detectives': 8320, 'prime': 22066, 'height': 13733, 'toed': 28850, 'trichinopoly': 29268, 'cigar': 5572, 'wheeled': 31404, 'cab': 4618, 'florid': 11583, 'nails': 18932, 'slumbered': 26112, 'desk': 8248, 'dated': 7708, 'addressed': 1177, 'enclosed': 9992, 'intimation': 15488, 'cover': 7075, 'forwarded': 11917, 'prepare': 21950, 'disclose': 8649, 'sustain': 27866, 'realize': 23011, 'movements': 18747, 'needed': 19064, 'expedition': 10663, 'lesser': 16746, 'push': 22588, 'demonstrated': 8062, 'constancy': 6617, 'fortitude': 11904, 'deservedly': 8226, 'joyfully': 15962, 'vould': 30954, 'vere': 30680, 'veek': 30598, 'faked': 10910, 'chart': 5299, 'split': 26713, 'jim': 15876, 'unmentioned': 30099, 'concluding': 6370, 'discussions': 8713, 'buxom': 4584, 'fatness': 11047, 'absurdly': 964, 'bashful': 3005, 'jumped': 15996, 'wiped': 31666, 'mettle': 18128, 'ingenuously': 15120, 'envy': 10242, 'odi': 19617, 'te': 28248, 'qui': 22706, 'bellus': 3303, 'es': 10326, 'sabelle': 24489, 'harmonious': 13479, 'blacksmith': 3613, 'ismailofsky': 15700, 'barracks': 2969, 'gateway': 12396, 'sikhs': 25768, 'snatched': 26230, 'firelock': 11371, 'levelled': 16765, 'plunge': 21476, 'accounted': 1048, 'foreign': 11793, 'passive': 20520, 'resigned': 23758, 'confronted': 6487, 'agreement': 1450, 'approaching': 2078, 'awkwardly': 2710, 'birds': 3548, 'swallow': 27890, 'goldfinch': 12770, 'tit': 28818, 'jonathan': 15924, 'contrition': 6747, 'unfriendly': 29957, 'ages': 1408, 'undutiful': 29876, 'continue': 6707, 'mutual': 18889, 'indulgence': 14995, 'rewarded': 24000, 'enjoyed': 10115, 'sobbed': 26307, 'mouse': 18730, 'fort': 11888, 'endangered': 10023, 'roughly': 24311, 'softer': 26343, 'gifts': 12555, 'purposes': 22563, 'vouchsafed': 30953, 'stolid': 27206, 'politician': 21568, 'possesses': 21710, 'ingratiation': 15126, 'romping': 24257, 'voluptuary': 30933, 'older': 19736, 'uglier': 29593, 'pleasing': 21407, 'imposed': 14663, 'humiliating': 14271, 'refer': 23263, 'rag': 22802, 'extremities': 10801, 'dishevelled': 8758, 'count': 7000, 'bereft': 3375, 'attractions': 2540, 'unequivocally': 29896, 'occupies': 19587, 'buffer': 4418, 'sinner': 25859, 'dispelled': 8834, 'illusion': 14494, 'values': 30525, 'bribes': 4211, 'gilded': 12565, 'questionable': 22700, 'forbidding': 11754, 'neighbourhood': 19104, 'brick': 4212, 'glare': 12626, 'tawdry': 28232, 'brilliancy': 4260, 'storied': 27243, 'fronting': 12119, 'miniature': 18248, 'interminable': 15434, 'buildings': 4434, 'tentacles': 28365, 'giant': 12541, 'throwing': 28653, 'inhabited': 15135, 'glimmer': 12659, 'knocking': 16237, 'hindoo': 13901, 'turban': 29469, 'loose': 17147, 'fitting': 11420, 'sash': 24690, 'strangely': 27294, 'incongruous': 14847, 'oriental': 19900, 'framed': 11980, 'doorway': 9151, 'dwelling': 9534, 'mend': 18020, 'windsor': 31639, 'faltered': 10931, 'lift': 16845, 'crazy': 7183, 'fascinated': 11002, 'fateful': 11029, 'culture': 7439, 'acquirements': 1117, 'astonish': 2432, 'everyday': 10451, 'surprisingly': 27822, 'reliant': 23442, 'dandies': 7637, 'eclipsed': 9650, 'reassured': 23052, 'nothingness': 19362, 'fortresses': 11909, 'inquired': 15212, 'yelled': 32003, 'wiper': 31667, 'ead': 9557, 'rings': 24116, 'horseback': 14119, 'subjugation': 27496, 'exhortation': 10618, 'wrenched': 31885, 'fainting': 10886, 'writhing': 31922, 'prone': 22269, 'affliction': 1358, 'didst': 8443, 'recall': 23072, 'malediction': 17512, 'fretting': 12062, 'reveal': 23912, 'sicken': 25703, 'anguished': 1836, 'revolted': 23983, 'maddened': 17398, 'stricken': 27355, 'memories': 18008, 'nekrassov': 19110, 'juliet': 15990, 'soskice': 26476, 'sand': 24640, 'weed': 31306, 'flakes': 11446, 'gift': 12553, 'thankfully': 28450, 'loaf': 17033, 'dispatching': 8832, 'counter': 7004, 'weighing': 31321, 'rice': 24030, 'isolation': 15703, 'prevails': 22031, 'limit': 16896, 'strives': 27383, 'individuality': 14972, 'fullness': 12170, 'meantime': 17901, 'destruction': 8303, 'reaodintion': 23022, 'ends': 10046, 'arriving': 2263, 'solitude': 26401, 'units': 30048, 'groove': 13093, 'holds': 13984, 'hides': 13855, 'repelled': 23597, 'repelling': 23599, 'heaps': 13649, 'riches': 24037, 'sinks': 25856, 'destructive': 8304, 'impotence': 14676, 'rely': 23471, 'trained': 29076, 'trembles': 29225, 'privileges': 22118, 'mockery': 18455, 'ceased': 5088, 'security': 25097, 'social': 26318, 'solidarity': 26393, 'isolated': 15702, 'individual': 14970, 'individualism': 14971, 'inevitably': 15023, 'unnaturally': 30114, 'lanyon': 16456, 'funeral': 12187, 'sadly': 24529, 'envelope': 10232, 'sealed': 25028, 'seal': 25027, 'predecease': 21881, '_to': 764, 'unread_': 30189, 'emphatically': 9952, 'condemned': 6390, 'disloyalty': 8795, 'enclosure': 9994, 'bracketted': 4077, 'sinister': 25853, 'trustee': 29399, 'disregard': 8884, 'mysteries': 18899, 'stringent': 27371, 'slept': 26044, 'inmost': 15188, 'wrongly': 31935, 'presentiment': 21969, 'blessington': 3690, 'plunged': 21477, 'nina': 19226, 'inquiringly': 15217, 'marquis': 17702, 'battery': 3047, 'pencil': 20741, 'educational': 9698, 'implements': 14631, 'acquire': 1114, 'tuition': 29446, 'sagacious': 24543, 'advancing': 1283, 'assurance': 2420, 'confident': 6448, 'creating': 7197, 'fairest': 10893, 'praised': 21815, 'perception': 20811, 'striking': 27368, 'improvement': 14714, 'valiant': 30510, 'honor': 14042, 'advancement': 1281, 'winter': 31659, 'metals': 18105, 'floyting': 11610, 'woodmen': 31773, 'twang': 29517, 'lilt': 16884, 'thundered': 28679, 'miraculous': 18282, '_do_': 315, 'smoothed': 26193, 'loveliness': 17216, 'hemmed': 13772, 'avarice': 2632, 'inordinate': 15206, 'baulk': 3058, 'injure': 15170, 'student': 27425, 'fray': 12010, 'primitive': 22070, 'arise': 2189, 'government': 12847, 'smoking': 26186, 'cigarette': 5573, 'showing': 25621, 'disrespect': 8891, 'echoes': 9644, 'bellowed': 3296, 'fritz': 12101, 'clara': 5680, 'ambition': 1688, 'moderate': 18461, 'unreasonable': 30193, 'tables': 28065, 'gallivanting': 12294, 'policies': 21555, 'grieve': 13029, 'ephraim': 10250, 'isle': 15694, 'mull': 18782, 'runs': 24438, 'droves': 9381, 'grassy': 12928, 'reserved': 23739, 'cutlass': 7541, 'airy': 1495, 'harmonised': 13481, 'quieted': 22722, 'attuned': 2548, 'regularly': 23359, 'beats': 3114, 'unenlightened': 29891, 'sensations': 25198, 'cinchona': 5576, 'locality': 17052, 'professed': 22181, 'atheist': 2463, 'testimony': 28424, 'gratuitous': 12947, 'remedies': 23487, 'pleasures': 21410, 'surround': 27831, 'fishpond': 11406, 'drainage': 9250, 'sends': 25182, 'sparkling': 26561, 'wholesome': 31517, 'salubrity': 24601, 'rheumatism': 24012, 'prevalent': 22033, 'complaint': 6245, 'based': 2998, 'coldest': 5985, 'clearest': 5732, 'processes': 22145, 'privilege': 22116, 'bullet': 4450, 'lesson': 16747, 'female': 11167, 'irretrievable': 15670, 'involves': 15603, 'brittle': 4296, 'undeserving': 29841, 'sex': 25337, 'uncovered': 29771, 'swollen': 27994, 'begrutten': 3231, '10': 1, 'partially': 20461, 'warfare': 31124, 'solicitation': 26383, 'plea': 21393, 'befriend': 3202, 'forfeited': 11832, 'errantry': 10312, 'munificent': 18815, 'winthrop': 31661, 'excessively': 10535, '_panie_': 608, 'rouble': 24302, 'objections': 19496, 'atheists': 2465, 'loftiest': 17077, 'mistrust': 18405, 'rent': 23565, 'works': 31810, 'anywheres': 1952, 'wureld': 31947, 'heerd': 13728, 'complain': 6239, 'twixt': 29558, 'meditations': 17942, 'depravity': 8148, 'dictate': 8428, 'lap': 16460, 'unread': 30188, 'unreasonably': 30195, 'chariot': 5273, 'quit': 22738, 'contributing': 6744, 'incurably': 14896, 'sternness': 27110, 'softness': 26347, 'indifference': 14942, 'denial': 8078, 'clandestine': 5661, 'insidious': 15254, 'treacherous': 29188, 'admirer': 1230, 'abhorrence': 886, 'exist': 10626, 'barely': 2935, 'ardent': 2158, 'disinterested': 8781, 'honourable': 14051, 'upright': 30407, 'describing': 8208, 'proving': 22398, 'talent': 28107, 'gentleness': 12482, 'procured': 22157, 'promotion': 22261, 'apparent': 2001, 'surprizes': 27825, 'enhanced': 10104, 'frozen': 12133, 'provocative': 22401, 'stinking': 27162, 'lackey': 16337, 'unruly': 30227, 'behavior': 3245, 'respected': 23794, 'café': 4648, 'restaurant': 23820, 'petrovka': 21022, 'cookery': 6822, 'foreigners': 11795, 'beggar': 3210, 'chodinge': 5482, 'fight': 11288, 'stupider': 27462, 'wasted': 31173, 'rowt': 24347, 'brings': 4274, 'hastily': 13531, 'attempts': 2511, 'nasty': 18986, 'tactics': 28081, 'fixing': 11429, 'pretended': 22008, 'stares': 26963, 'proceed': 22139, 'smoothly': 26197, 'contemptuous': 6680, 'persistently': 20929, 'seconds': 25074, 'compression': 6302, 'significant': 25755, 'deliberation': 8005, 'supporters': 27759, 'submitted': 27510, 'expressive': 10742, 'dejected': 7986, 'despairing': 8258, 'blunderstone': 3789, 'spelling': 26638, 'oval': 20057, 'woodcuts': 31768, 'attend': 2512, 'founded': 11936, 'confirm': 6462, 'falsehood': 10922, 'dissenting': 8904, 'engrossed': 10099, 'wretchedness': 31898, 'thousands': 28594, 'utter': 30470, 'despondency': 8279, 'adieu': 1194, 'whisky': 31481, 'argument': 2177, 'wisteria': 31692, 'confederates': 6429, 'juggling': 15985, 'earlier': 9569, 'insurance': 15355, 'duke': 9452, 'hears': 13657, 'subjected': 27489, 'humiliation': 14272, 'occasions': 19577, 'attracting': 2538, 'burglarious': 4504, 'entry': 10226, 'phantasmal': 21042, 'reverberations': 23937, 'measured': 17905, 'tread': 29192, 'bolts': 3890, 'withdrawn': 31703, 'wing': 31647, 'muscular': 18843, 'villon': 30803, 'bulk': 4442, 'sculptured': 25010, 'nose': 19338, 'refining': 23275, 'surrounded': 27832, 'markings': 17689, 'squarely': 26835, 'trimmed': 29293, 'nobler': 19252, 'righteous': 24083, 'bred': 4186, 'nearer': 19031, 'louder': 17190, 'tuckets': 29433, 'darnay': 7685, 'mournful': 18726, 'separation': 25240, 'breathe': 4175, 'baseness': 3001, 'possibility': 21717, 'remote': 23528, 'intricacies': 15503, 'alleys': 1591, 'exchanged': 10537, 'dismissal': 8804, 'shaken': 25365, 'shameless': 25386, 'hussy': 14356, 'caroline': 4914, 'beds': 3168, 'ecstatically': 9664, 'cashier': 4972, 'leadenhall': 16585, 'flattering': 11484, 'pan': 20301, 'vrublevsky': 30966, 'pole': 21548, 'feathers': 11105, 'bird': 3547, 'marshal': 17718, 'uncertain': 29712, 'transtamare': 29160, 'certes': 5146, 'resembles': 23727, 'flopson': 11581, 'appearing': 2013, 'millers': 18206, 'cries': 7256, 'mannie': 17610, 'nane': 18951, 'decent': 7828, 'divide': 9009, 'playthings': 21391, 'thicker': 28516, 'bolder': 3880, 'dasha': 7700, 'holidays': 13989, 'condensed': 6392, 'unaltered': 29638, 'outward': 20049, 'twelfth': 29524, 'deny': 8107, 'piqued': 21251, 'strengthened': 27340, 'barrier': 2979, 'stipulation': 27171, 'sympathise': 28030, 'inspired': 15290, 'bedstead': 3170, 'damp': 7622, 'draught': 9268, 'incoherent': 14827, 'drowsiness': 9387, 'dampness': 7625, 'howled': 14200, 'persistent': 20928, 'flowers': 11605, 'holiday': 13988, 'trinity': 29298, 'sumptuous': 27659, 'overgrown': 20093, 'fraodin': 11996, 'wreathed': 31877, 'climbers': 5787, 'carpeted': 4926, 'rugs': 24395, 'plants': 21356, 'china': 5455, 'pots': 21756, 'nosegays': 19341, 'narcissus': 18966, 'stalks': 26913, 'reluctant': 23469, 'balcony': 2824, 'breakfasted': 4160, 'punctually': 22508, 'groped': 13096, 'admirable': 1225, 'velveteen': 30624, 'trousers': 29356, 'necessities': 19047, 'unlucky': 30084, 'longed': 17115, 'mell': 17974, 'pat': 20543, 'commissionnaire': 6148, 'kettle': 16107, 'spurting': 26814, 'soundly': 26500, 'woke': 31737, 'journeys': 15949, 'lovers': 17219, 'improver': 14716, 'vie': 30760, '_used_': 786, 'estimation': 10383, 'clapping': 5678, 'philips': 21071, 'wise': 31675, 'unsaid': 30231, 'careworn': 4890, 'congratulate': 6504, 'presents': 21974, 'fellah': 11153, 'goin': 12764, 'chick': 5411, 'chodinger': 5484, 'jobs': 15887, 'cage': 4650, 'supernaturalists': 27724, 'useless': 30450, 'investigate': 15566, 'sailor': 24557, 'wheeling': 31407, 'fervent': 11209, 'phrases': 21098, 'hadn': 13287, 'creakle': 7187, 'frighten': 12084, 'precipitately': 21867, 'retreated': 23891, 'escort': 10335, 'pursued': 22576, 'quaking': 22638, 'witnessed': 31719, 'painfully': 20247, 'renewal': 23553, 'possession': 21712, 'yarmouth': 31975, 'folks': 11675, 'scribbled': 24973, 'receipt': 23084, 'scrunching': 24989, 'shingly': 25513, 'offices': 19703, 'greeted': 13005, 'strait': 27286, 'pycroft': 22609, 'trespass': 29245, 'bowing': 4039, 'gascony': 12381, 'languedoc': 16443, 'profitless': 22203, 'expanse': 10641, 'swift': 27957, 'adour': 1269, 'tributaries': 29264, 'louts': 17211, 'oloron': 19746, 'pau': 20605, 'biscay': 3559, 'mountains': 18713, 'granite': 12910, 'claws': 5715, 'dividing': 9012, 'gaves': 12412, 'stretches': 27350, 'valley': 30514, 'hillocks': 13887, 'range': 22874, 'overlying': 20114, 'neighbor': 19099, 'soar': 26303, 'chain': 5175, 'raises': 22834, 'spotless': 26759, 'untrodden': 30337, 'peaks': 20659, 'dazzling': 7744, 'disclosure': 8653, 'secrets': 25082, 'reddening': 23215, 'fagging': 10865, 'norwood': 19335, 'forgetting': 11846, 'alexander': 1542, 'eldest': 9786, 'ketch': 16106, 'presiding': 21986, 'genii': 12459, 'sumodin': 27657, 'arbitrary': 2120, 'liberties': 16804, 'majesty': 17484, 'expecially': 10648, 'poorer': 21627, 'tricks': 29275, 'daily': 7590, 'angels': 1819, 'medium': 17945, 'press': 21987, 'footnote': 11727, 'virtually': 30842, 'unbidden': 29681, 'irreverent': 15672, 'repent': 23600, 'treasures': 29201, 'acquit': 1120, 'sordid': 26458, 'greed': 12988, 'ellen': 9831, 'educated': 9694, 'mainland': 17468, 'happier': 13427, 'aros': 2235, 'unhappiest': 29994, 'cameronians': 4726, 'skipper': 25945, 'clyde': 5878, 'islands': 15693, 'discontent': 8671, 'fishing': 11403, 'weariful': 31274, 'gulls': 13218, 'roost': 24274, 'brighter': 4253, 'shoemaker': 25554, 'garret': 12367, 'cadence': 4640, 'abstraction': 956, 'overclouded': 20072, 'fitfully': 11414, 'external': 10767, 'lingering': 16927, 'agony': 1441, 'evoke': 10467, 'depths': 8169, 'incomprehensible': 14842, 'bastille': 3025, 'substance': 27530, 'lightened': 16851, 'defied': 7945, 'gaiety': 12262, 'concealing': 6327, 'planned': 21346, '_did_': 305, 'sweep': 27925, 'noel': 19268, 'dipped': 8558, 'scratched': 24952, 'scattered': 24828, 'ash': 2318, 'flakey': 11447, 'ashes': 2321, 'monograph': 18540, 'flatter': 11479, 'distinguish': 8941, 'brand': 4107, 'differs': 8460, 'chill': 5439, 'precincts': 21858, 'vale': 30504, 'mutter': 18884, 'remembering': 23491, 'behave': 3241, 'plodding': 21437, 'deals': 7768, 'retention': 23870, 'involve': 15600, 'concession': 6356, 'forge': 11836, 'canterbury': 4787, 'portable': 21670, 'cheapside': 5336, 'departure': 8116, 'chasm': 5310, 'contracted': 6721, 'tenderhearted': 28347, 'wandered': 31083, 'solving': 26412, 'derbyshire': 8181, 'aid': 1464, 'deposited': 8139, 'loiterers': 17096, 'muster': 18872, '_un': 780, 'tout': 29004, 'rien_': 24069, 'reopened': 23574, 'recent': 23092, 'asks': 2334, 'spreading': 26777, 'sovereign': 26523, 'insist': 15269, 'needless': 19070, 'absorb': 946, 'reader': 22988, 'springs': 26787, 'wondrous': 31761, 'waved': 31220, 'breastplate': 4172, 'stump': 27448, 'arbalest': 2115, 'trigger': 29288, 'stork': 27246, 'flapped': 11464, 'skimming': 25935, 'soaring': 26305, 'piercing': 21154, 'circled': 5589, 'peregrine': 20827, 'hovered': 14192, 'poising': 21527, 'closing': 5826, 'clumsy': 5865, 'quarry': 22658, 'absorbed': 947, 'contest': 6695, 'hawk': 13585, 'fluttering': 11636, 'brabanter': 4065, 'bolt': 3886, 'whirled': 31465, 'aloft': 1627, 'convulsive': 6810, 'roar': 24174, 'applause': 2033, 'crossbowmen': 7335, 'odinston': 19668, 'listlessly': 16973, 'shaft': 25358, 'whipping': 31462, 'aim': 1475, 'transfixed': 29119, 'chested': 5396, 'feat': 11101, 'marksman': 17693, 'embraced': 9898, 'vigor': 30777, 'mail': 17462, 'tunics': 29466, 'clanged': 5663, 'weep': 31314, 'postilions': 21729, 'ensued': 10158, 'splendid': 26706, 'ensure': 10160, 'safety': 24540, 'concourse': 6380, 'skills': 25932, 'homely': 14012, 'poland': 21546, 'berthelini': 3392, 'unpleasantly': 30147, 'landlord': 16427, 'complied': 6269, 'pampered': 20297, 'divinity': 9020, 'platform': 21368, 'relish': 23462, 'consequences': 6569, 'disagreement': 8595, 'unasked': 29653, 'dispensed': 8838, 'arguments': 2181, 'induce': 14984, 'restrained': 23837, 'reproofs': 23665, 'outrage': 20025, 'pounced': 21772, 'frenzy': 12042, 'waded': 30984, 'scath': 24822, 'hole': 13985, 'ells': 9836, 'friar': 12063, 'poll': 21573, 'witherton': 31709, 'itchen': 15717, 'royal': 24349, 'precious': 21860, 'possessions': 21713, 'peaceful': 20647, 'speeding': 26628, 'shelter': 25469, 'storm': 27247, 'resounded': 23783, 'footstep': 11734, 'omit': 19761, 'irremediable': 15656, 'exerted': 10596, 'fascinating': 11003, 'jaundiced': 15796, 'perverse': 20983, 'captivating': 4839, 'soften': 26339, 'whispering': 31484, 'members': 17993, 'seats': 25060, 'limbkins': 16888, 'harry': 13501, 'mercies': 18055, 'gardener': 12346, 'unknown': 30064, 'parsimony': 20445, 'ward': 31109, 'progressive': 22224, 'doings': 9084, 'omniscient': 19768, 'approximate': 2092, 'progressives': 22227, 'exaggerated': 10485, 'distorted': 8947, 'significance': 25752, '_being': 216, 'up_': 30382, 'transferring': 29116, 'unhappily': 29995, 'widower': 31552, 'magnificently': 17439, 'unfit': 29931, 'belmont': 3306, 'camden': 4716, 'unpacked': 30133, 'jackal': 15743, 'repast': 23585, 'selections': 25152, 'remarks': 23485, 'discussed': 8710, 'waistband': 31018, 'meditate': 17938, 'invigorated': 15580, 'bumper': 4467, 'throttle': 28650, 'application': 2042, 'applied': 2044, 'administered': 1219, 'whooping': 31524, 'cough': 6985, 'wisdom': 31674, 'impartiality': 14580, 'rodya': 24219, 'noiselessly': 19277, 'perturbation': 20970, 'rapid': 22896, 'movement': 18746, 'proclaimed': 22149, 'comer': 6080, 'degrees': 7974, 'diverting': 9005, 'mitenka': 18421, 'fastened': 11014, 'latch': 16500, 'capricious': 4825, 'frivolous': 12103, 'playful': 21383, 'plaintive': 21327, 'heated': 13686, 'sweetly': 27941, 'vouch': 30949, 'porphyry': 21666, 'terentieff': 28379, 'audacious': 2556, 'familiarity': 10937, 'costs': 6968, 'slightest': 26058, 'repeater': 23593, 'justly': 16032, 'hardness': 13456, 'backwards': 2773, 'row': 24339, 'siding': 25724, 'displeasure': 8857, 'depended': 8119, 'improper': 14707, 'halfpence': 13320, 'scrap': 24944, 'hedge': 13711, 'trudged': 29375, 'miserably': 18338, 'wardrobes': 31117, 'rags': 22810, 'pairs': 20259, 'ceiling': 5096, 'inside': 15252, 'enjoying': 10116, 'lysander': 17364, 'stark': 26966, 'unlocked': 30076, 'ferguson': 11188, 'greyish': 13017, 'northumberland': 19330, 'characters': 5259, 'charing': 5272, 'preceding': 21853, 'demanded': 8040, 'pushing': 22591, 'schoolfellow': 24865, 'percy': 20822, 'obligation': 19502, 'slow': 26101, 'neglect': 19083, 'relations': 23415, 'patroness': 20583, 'escorted': 10336, 'bludgeon': 3774, 'precaution': 21847, 'moriarty': 18635, 'victoria': 30752, 'aghast': 1420, 'elderly': 9783, 'paisley': 20260, 'inquiring': 15216, 'plant': 21349, 'headquarters': 13632, 'blizzard': 3719, 'emboldened': 9894, 'invisibility': 15585, 'imprecations': 14682, 'wrists': 31913, 'commiseration': 6138, 'performed': 20845, 'affecting': 1342, 'sniffs': 26253, 'chosen': 5517, 'hampshire': 13364, 'scenery': 24832, 'ideal': 14407, 'flecked': 11502, 'fleecy': 11511, 'exhilarating': 10615, 'nip': 19235, 'countryside': 7030, 'aldershot': 1533, 'steadings': 27033, 'foliage': 11671, 'bob': 3834, 'ruler': 24404, 'regards': 23329, 'perseverance': 20918, 'selfish': 25154, 'ungenerous': 29968, 'delicacy': 8007, 'disgusted': 8749, 'reprobated': 23658, 'principle': 22084, 'constitution': 6628, 'shattered': 25422, 'failing': 10876, 'benefactor': 3341, 'indiscreet': 14955, 'carefulness': 4878, 'guarding': 13170, 'reaped': 23024, 'forbearance': 11749, 'miseries': 18340, 'rebellious': 23065, 'malice': 17521, 'premature': 21926, 'annuity': 1879, 'portions': 21688, 'fleming': 11519, 'inherit': 15142, 'unconditionally': 29751, 'minority': 18263, 'dishonour': 8766, 'meanness': 17895, 'prior': 22096, 'purse': 22568, 'infant': 15047, 'repulsed': 23686, 'thinkin': 28538, 'relic': 23443, 'generously': 12453, 'panelled': 20310, 'portrait': 21693, 'womanly': 31747, 'den': 8076, 'couch': 6983, 'softest': 26344, 'thudding': 28663, 'velvety': 30625, 'pads': 20231, 'flare': 11467, 'splutter': 26718, 'managed': 17560, 'unofficial': 30128, 'efficiently': 9721, 'unmannerly': 30091, 'peeled': 20705, 'sponge': 26732, 'tint': 28794, 'horrid': 14109, 'scar': 24801, 'seamed': 25036, 'lip': 16945, 'repulsive': 23688, 'sneer': 26239, 'twitch': 29548, 'smooth': 26192, 'skinned': 25937, 'bewilderment': 3476, 'realising': 23004, 'exposure': 10732, 'bide': 3498, 'delights': 8017, 'likelihood': 16870, 'sharing': 25407, 'comforts': 6094, 'interval': 15472, 'entreaties': 10213, 'complaisance': 6247, 'exhibiting': 10609, 'progress': 22220, 'stanzas': 26952, 'display': 8850, 'repeat': 23590, 'lite': 16979, 'unwillingly': 30365, 'stiffened': 27128, 'recounted': 23184, 'regaining': 23317, 'awaiting': 2683, 'shuddering': 25669, 'en': 9973, 'wincing': 31618, 'beseeching': 3400, 'bleeding': 3677, 'lavished': 16552, 'raptures': 22905, 'gods': 12749, 'sewer': 25333, 'seed': 25114, 'availed': 2629, 'joining': 15903, 'lamentations': 16397, 'sequel': 25245, 'wholly': 31520, 'particulars': 20475, 'forster': 11884, 'apprehension': 2065, 'elopement': 9842, 'rhythmic': 24021, 'paddling': 20224, 'expressions': 10741, 'scratch': 24951, 'clumsiness': 5864, 'darkest': 7676, 'investigated': 15567, 'hoping': 14088, 'content': 6685, 'undo': 29860, 'risingham': 24143, 'spurs': 26811, 'happiest': 13428, 'closely': 5818, 'overhung': 20103, 'roadway': 24169, 'railroads': 22820, 'net': 19130, 'radiant': 22786, '_as': 197, 'yesterday_': 32021, 'consternation': 6624, 'instantaneous': 15307, 'imposition': 14665, 'indisputable': 14964, 'starts': 26982, 'unwelcome': 30358, 'appalling': 1996, 'yates': 31979, 'vexatious': 30729, 'condemnation': 6389, 'undefined': 29783, 'suggesting': 27605, 'corroborating': 6938, 'ghosts': 12538, 'billiard': 3529, 'ringing': 24112, 'wery': 31361, '_had_': 409, 'sech': 25066, 'onnecessary': 19780, 'rampages': 22860, 'tickler': 28709, 'distinguished': 8943, 'wars': 31154, 'chieftain': 5423, 'gallantry': 12285, 'universally': 30051, 'applauded': 2031, 'sabre': 24494, 'protracted': 22371, 'jungle': 16005, 'celebrity': 5102, 'minor': 18262, 'lustre': 17330, 'unaffected': 29634, 'modesty': 18470, 'cared': 4871, 'adulation': 1275, 'watering': 31202, 'algiers': 1550, 'fame': 10934, 'exploits': 10707, 'vitality': 30875, 'season': 25051, 'orphan': 19925, 'relatives': 23420, 'foreigner': 11794, 'installed': 15298, 'shed': 25450, 'imp': 14572, 'betrayed': 3449, 'hm': 13939, 'agape': 1398, 'possess': 21708, 'olympian': 19748, 'administrators': 1224, 'pronounce': 22272, 'eternity': 10393, 'hostile': 14147, 'greatness': 12983, 'criticized': 7294, 'hostility': 14149, 'route': 24329, 'wildest': 31574, 'moods': 18589, 'crag': 7137, 'towered': 29014, 'basaltic': 2996, 'columns': 6056, 'surface': 27790, 'petrified': 21018, 'chaos': 5233, 'debris': 7801, 'advance': 1279, 'irregular': 15651, 'travel': 29172, 'file': 11305, 'riders': 24056, 'hearts': 13682, 'fugitives': 12157, 'despotism': 8286, 'gardens': 12349, 'devoured': 8389, 'decorating': 7866, 'inappropriate': 14759, 'wrestles': 31892, 'barnard': 2955, 'vastly': 30582, 'occupying': 19589, 'prominent': 22247, 'pages': 20238, 'neighbouring': 19106, 'upholsterer': 30394, 'bondage': 3901, 'slavery': 26012, 'washerwoman': 31163, 'canary': 4742, 'cravat': 7168, 'creamy': 7190, 'requirements': 23704, 'haunted': 13569, 'numbers': 19431, 'muck': 18758, 'whined': 31453, 'exasperation': 10504, 'literature': 16983, 'utterance': 30471, 'dumb': 9465, 'rocket': 24208, 'fizzle': 11432, 'hardihood': 13452, 'commons': 6169, 'dismiss': 8803, 'gentlemanly': 12480, 'susceptible': 27850, 'division': 9021, 'inseparable': 15247, 'discrepancy': 8704, 'slay': 26019, 'township': 29022, 'tarbes': 28170, 'skirmishing': 25950, 'barriers': 2980, 'honorable': 14043, 'spurring': 26810, 'riding': 24067, 'narbonne': 18965, 'bergerac': 3378, 'mont': 18560, 'giscar': 12596, 'ventadour': 30648, 'courses': 7046, 'daybreak': 7736, 'exaltation': 10490, 'constrictors': 6636, 'interior': 15419, 'periodical': 20863, 'murderous': 18826, 'squeeze': 26851, 'freshet': 12053, 'occupant': 19581, 'tropical': 29339, 'stranded': 27291, 'bay': 3065, 'cooperage': 6839, 'watchman': 31189, 'severall': 25320, 'lights': 16863, 'onwards': 19785, 'slain': 25980, 'walker': 31052, 'trials': 29255, 'primeval': 22068, 'ecclesiastical': 9639, 'turnpike': 29492, 'descried': 8209, 'gravedigger': 12951, 'admonished': 1246, 'constitutional': 6629, 'skull': 25963, 'moralizing': 18620, 'dusting': 9511, 'napkin': 18957, 'wai': 31008, 'ter': 28376, 'interment': 15433, 'tumbling': 29453, 'obnoxious': 19518, 'identification': 14412, 'attended': 2517, 'laertes': 16361, 'brink': 4275, 'orchestra': 19865, 'slackened': 25975, 'tumbled': 29449, 'ankles': 1853, 'sahib': 24551, 'native': 18996, 'glib': 12653, 'conciliate': 6361, 'benignant': 3354, 'intentions': 15394, 'foundered': 11938, 'gaily': 12263, 'sybarite': 28010, 'gayest': 12415, 'recently': 23093, 'vacated': 30483, 'stirred': 27175, 'definitely': 7954, 'detained': 8314, 'gong': 12783, 'harcomb': 13442, 'assenting': 2371, 'planning': 21347, 'contriving': 6754, 'hammersmith': 13358, 'ache': 1081, 'damn': 7615, 'odinism': 19650, 'specimen': 26598, 'jeweller': 15859, 'artist': 2297, 'philanthropist': 21065, 'despises': 8272, 'tempest': 28316, 'safest': 24539, 'loft': 17075, 'archer': 2135, 'aback': 852, 'seamen': 25037, 'forecastle': 11778, 'stabbing': 26867, 'bows': 4047, 'belly': 3304, 'spouted': 26765, 'spray': 26774, 'boom': 3938, 'rec': 23071, 'ord': 19868, 'chafed': 5165, 'defiance': 7938, 'venerable': 30631, 'regrets': 23353, 'dictment': 8437, 'calendar': 4679, 'raps': 22902, 'wot': 31849, 'frolic': 12109, 'homeward': 14020, 'peaceably': 20646, 'conveniently': 6771, 'pikes': 21172, 'shakes': 25367, 'childish': 5431, 'bouquet': 4025, 'vestry': 30722, 'pew': 21035, 'abruptly': 931, 'trifling': 29285, 'ostentatiously': 19947, 'consulted': 6646, 'affirmative': 1353, 'depends': 8124, 'reporting': 23625, 'unfastening': 29919, 'obedient': 19479, 'riddle': 24049, 'corresponding': 6932, 'remedy': 23488, 'contented': 6686, 'giddiness': 12550, 'youngest': 32048, 'check': 5340, 'imprudence': 14721, 'irritable': 15677, 'affronted': 1372, 'willed': 31589, '_excellent': 355, 'ami': 1714, 'putney': 22596, 'naturally': 19002, 'drinkings': 9340, 'impracticable': 14679, 'compounded': 6288, 'detriment': 8340, 'privileged': 22117, 'simplicity': 25818, 'treasure': 29198, 'virtues': 30844, '_sensation_': 700, 'parishes': 20414, 'compose': 6278, 'create': 7195, 'sexton': 25339, 'questioned': 22701, 'restraining': 23838, 'library': 16811, 'bandage': 2868, 'improves': 14717, 'fathers': 11037, 'teachers': 28252, 'ponder': 21604, 'immeasurable': 14540, 'spiritual': 26690, '_living_': 503, 'earthly': 9589, 'seasons': 25055, 'rejected': 23393, 'priceless': 22047, 'prized': 22123, 'scorned': 24906, 'callous': 4693, 'abraham': 924, 'parable': 20352, 'lazarus': 16575, 'beholds': 3256, 'torment': 28942, 'thirst': 28551, 'fiery': 11282, 'burns': 4525, 'gulf': 13214, 'slander': 25984, 'humourist': 14287, 'headache': 13616, 'impressions': 14692, 'incidents': 14800, 'imperfectly': 14606, 'acutely': 1153, 'groat': 13082, 'wears': 31281, 'caro': 4910, 'mio': 18278, 'couches': 6984, 'tips': 28802, 'thinned': 28542, 'mist': 18392, 'homage': 14008, '_conqueror_': 278, 'classes': 5696, 'admires': 1232, 'amounts': 1739, 'horrify': 14113, 'sewn': 25336, 'thief': 28524, 'tavern': 28229, 'pickodin': 21129, 'amulet': 1751, 'fenya': 11183, 'perhotin': 20857, 'downright': 9220, 'dishonest': 8759, 'political': 21567, 'conspirator': 6611, 'eve': 10430, 'signing': 25762, 'meditative': 17943, 'ravening': 22952, 'wolves': 31742, 'ives': 15731, 'salle': 24587, 'conceal': 6325, 'irony': 15646, 'disappear': 8599, 'bohemian': 3871, 'rushing': 24446, 'slash': 25999, 'finches': 11339, 'debate': 7787, 'discussion': 8712, '_they_': 752, 'grove': 13116, 'certificate': 5147, 'importing': 14656, 'finch': 11338, 'production': 22172, 'lest': 16749, 'avowal': 2676, 'repudiate': 23679, 'untenable': 30315, 'snorting': 26272, 'indiscriminate': 14958, 'contradiction': 6728, 'rider': 24054, 'flit': 11554, 'heathy': 13690, 'vanish': 30535, 'approach': 2074, 'chains': 5177, 'prospect': 22335, 'troubling': 29352, 'tarry': 28183, 'ettie': 10400, 'obtruded': 19562, 'circumlocution': 5603, 'brawling': 4138, 'disillusioned': 8771, 'creek': 7220, 'awaited': 2682, 'debtor': 7803, 'omitted': 19762, 'largest': 16477, 'pension': 20782, 'refugee': 23303, 'disgraceful': 8741, 'warming': 31137, 'crippled': 7278, 'bunch': 4473, 'tidily': 28719, 'patched': 20545, 'greedily': 12989, 'cluny': 5867, 'caves': 5079, 'underground': 29794, 'scouts': 24930, 'clan': 5660, 'stayed': 27019, 'reflect': 23276, 'regretted': 23355, 'ben': 3327, 'alder': 1530, 'coin': 5971, 'landscape': 16433, 'jargon': 15788, 'pretends': 22010, 'tries': 29280, 'defined': 7952, 'picturesque': 21139, 'detest': 8330, 'hackneyed': 13286, 'prejudices': 21920, 'cam': 4708, 'corp': 6908, 'whammled': 31389, 'cantrip': 4792, 'beseem': 3402, 'hingin': 13910, 'frae': 11968, 'wursted': 31948, 'darnin': 7687, 'hose': 14131, 'assumption': 2419, 'rapture': 22904, 'reasonably': 23040, 'grafinski': 12879, 'resources': 23788, 'wisely': 31676, 'invested': 15565, 'inadequate': 14750, 'hinted': 13913, 'pronounced': 22273, 'chiseling': 5470, 'separately': 25237, 'committed': 6153, '_not': 572, '__': 157, 'window_': 31634, 'wear': 31270, 'piling': 21184, 'breaks': 4164, 'acknowledges': 1099, 'jabez': 15740, 'promises': 22251, 'strangest': 27298, 'unique': 30040, 'crimes': 7261, 'recommence': 23151, 'indication': 14936, 'guide': 13190, 'hilly': 13892, 'travels': 29180, 'wulgar': 31943, 'christ': 5519, 'deceive': 7819, 'ernest': 10304, 'soothingly': 26448, 'brood': 4330, 'alceste': 1526, 'célimène': 7569, 'orphans': 19926, 'mustn': 18875, 'ashore': 2322, 'stockade': 27188, 'implication': 14636, 'deferred': 7936, 'pouch': 21764, 'patiently': 20567, 'beholden': 3252, 'exalted': 10491, 'skies': 25923, 'expressly': 10744, 'conferred': 6432, 'unselfishly': 30247, 'flute': 11631, 'mournfully': 18727, 'sorrowfully': 26467, 'weren': 31359, 'drearily': 9308, 'policemen': 21554, 'shifted': 25496, 'folly': 11685, 'salutation': 24603, 'casually': 5008, 'revulsion': 23996, 'officers': 19702, 'gloomy': 12691, 'everlasting': 10446, 'remoteness': 23530, 'sentimental': 25224, 'cafe': 4646, 'breeze': 4191, 'coracle': 6870, 'schooner': 24871, 'heel': 13722, 'spinning': 26681, 'job': 15885, 'dresler': 9315, 'eavesdroppers': 9624, 'twanged': 29518, 'upraised': 30406, 'harmony': 13483, 'startling': 26980, 'loudness': 17193, 'béranger': 4613, 'risen': 24139, 'robber': 24183, 'motioning': 18690, 'leant': 16612, 'questioning': 22703, 'cadogan': 4643, 'woolwich': 31785, 'arsenal': 2270, 'bedclothes': 3151, 'aired': 1487, 'pickle': 21126, 'pals': 20290, 'lagged': 16367, 'disengaging': 8730, 'louisa': 17195, 'prompted': 22263, 'staggering': 26886, 'bitterest': 3580, 'intoxicated': 15498, 'birthday': 3555, 'daria': 7665, 'odinevna': 19637, 'nosegay': 19340, 'aux': 2624, 'camelias': 4719, 'trussed': 29396, 'blinded': 3698, 'louse': 17204, 'loathsome': 17044, 'harmful': 13475, 'southerton': 26517, 'retard': 23868, 'coffin': 5947, 'porochial': 21664, 'fastening': 11016, 'strap': 27303, 'leathern': 16629, 'corpulent': 6917, 'winking': 31653, 'purchasing': 22536, 'garments': 12362, 'readily': 22992, 'accompany': 1026, 'declined': 7859, 'accord': 1036, 'melodious': 17979, 'coaxing': 5902, 'tenderly': 28348, 'excellency': 10521, 'shpigulin': 25626, 'riot': 24120, 'correction': 6922, 'pamphlets': 20300, 'harbour': 13439, 'beheld': 3248, 'singularly': 25852, 'adventurer': 1290, 'harris': 13496, 'conclude': 6368, 'apprehensive': 2067, 'portmanteau': 21690, 'voyage': 30960, 'likes': 16875, 'cleared': 5730, 'wasnae': 31168, 'nae': 18924, 'spouse': 26763, 'croft': 7308, 'crushing': 7397, 'odinet': 19632, 'natures': 19007, 'sympathetic': 28027, 'sophy': 26454, 'courtships': 7061, 'robes': 24194, 'tention': 28370, 'scoundrels': 24921, 'disreputable': 8890, 'statuettes': 27012, 'wiggins': 31562, 'copecks': 6844, 'alternate': 1650, 'fits': 11416, 'vigour': 30780, 'sailed': 24554, 'gallery': 12289, 'downfall': 9216, 'tyrant': 29583, 'banded': 2874, 'dissolved': 8919, 'discovered': 8694, 'henderson': 13781, 'despot': 8284, 'attach': 2490, 'securing': 25095, 'bided': 3499, 'zig': 32085, 'zagged': 32060, 'pursuers': 22578, 'stopt': 27235, 'naivete': 18936, 'unspeakable': 30281, 'experiments': 10683, 'mowcher': 18752, 'maple': 17643, 'suckling': 27570, 'flies': 11535, 'bragge': 4086, 'bullying': 4460, 'preyed': 22045, 'gaping': 12337, 'divulged': 9026, 'fishy': 11409, 'inquisitively': 15221, 'windy': 31641, 'arithmetic': 2198, 'reticence': 23871, 'subsequent': 27520, 'clerks': 5762, 'precipitous': 21869, 'slope': 26085, 'silvered': 25793, 'contorted': 6714, 'spasm': 26568, 'blurred': 3794, 'sagely': 24547, 'routine': 24332, 'dissociated': 8916, 'intervened': 15475, 'whiff': 31434, 'nettled': 19137, 'ticks': 28712, 'devoutly': 8393, 'tabards': 28059, 'jerkins': 15834, 'jacks': 15752, 'hoods': 14059, 'bonnets': 3916, 'armour': 2224, 'daggers': 7587, 'boar': 3812, 'spears': 26587, 'bills': 3534, 'posture': 21741, 'engage': 10073, 'troops': 29335, 'quivers': 22746, 'blasphemer': 3649, 'lessened': 16744, 'solicitudes': 26391, 'prevented': 22036, 'awkwardnesses': 2712, '_mrs': 554, '_odin_': 583, 'speculation': 26616, 'coroner': 6905, 'distinct': 8935, 'betters': 3463, 'shaggy': 25363, 'scissors': 24885, 'koch': 16266, 'dropping': 9371, 'saloon': 24595, 'gleefully': 12647, 'veil': 30615, 'underwood': 29836, 'lawn': 16561, 'margin': 17665, 'silvan': 25791, 'pleasantness': 21402, 'undecipherable': 29782, 'beginnings': 3222, 'activity': 1140, 'inconsiderable': 14851, 'mound': 18707, 'discover': 8693, 'lodger': 17070, 'commissary': 6142, 'prohibited': 22228, 'funked': 12194, 'listeners': 16968, 'crazed': 7181, 'resistance': 23765, 'limp': 16908, 'sawdust': 24753, '_have_': 415, 'gargery': 12351, 'dumbfoundered': 9467, 'lane': 16437, 'fugitive': 12156, 'persecution': 20914, 'vehemence': 30607, 'cecil': 5092, 'forrester': 11877, 'twinkle': 29541, 'retain': 23859, 'assumed': 2416, 'designation': 8232, 'sullen': 27634, 'shading': 25351, 'pettishly': 21029, 'bravo': 4133, 'completion': 6256, 'expensively': 10673, 'promoting': 22260, 'families': 10941, 'chiefly': 5421, 'gowns': 12855, 'wearied': 31273, 'shutter': 25681, 'presumably': 21999, 'confederate': 6428, 'nefarious': 19078, 'revenge': 23926, 'burnet': 4521, 'vanished': 30536, 'irritating': 15682, 'slapped': 25996, 'daintily': 7592, 'stomach': 27209, 'postboy': 21723, 'dozing': 9234, 'ostler': 19949, 'neckcloth': 19051, 'drab': 9236, 'tops': 28933, 'pump': 22495, 'picking': 21124, 'toothpick': 28920, 'noteworthy': 19359, 'reverence': 23940, 'bored': 3965, 'intervals': 15473, 'imitate': 14529, 'pig': 21162, 'thunderstorm': 28682, 'confinement': 6459, 'marseillaise': 17715, 'accompaniment': 1024, 'nineteenth': 19230, 'february': 11115, 'enthusiastically': 10191, 'toasts': 28837, 'advent': 1288, 'muttering': 18886, 'fetched': 11221, 'liberal': 16796, 'landowner': 16430, 'belongs': 3312, 'necklaces': 19056, 'memorials': 18007, 'beloved': 3313, 'tokens': 28866, 'formed': 11867, 'imaginary': 14511, 'resolve': 23774, 'encroach': 10011, 'stronger': 27396, 'truer': 29378, 'normal': 19316, 'aie': 1467, 'loring': 17171, 'leapt': 16617, 'gesticulating': 12520, 'unmistakably': 30106, 'catching': 5026, 'straw': 27316, 'exclude': 10557, 'disobedient': 8811, 'excluded': 10558, 'transgressed': 29126, 'enunciated': 10230, 'compromises': 6310, 'steal': 27037, 'requires': 23705, 'pagan': 20233, 'mechanical': 17914, 'tainted': 28097, 'honestly': 14031, 'adopting': 1256, 'regeneration': 23333, 'salvation': 24611, 'professors': 22190, 'nonsensical': 19302, 'towel': 29009, 'defer': 7932, 'mysteriously': 18901, 'protestant': 22362, 'griefs': 13024, 'joys': 15965, 'sunlit': 27683, 'meadow': 17876, 'booming': 3940, 'bowmen': 4046, 'bursts': 4532, 'champing': 5199, 'pitched': 21275, 'toned': 28898, 'hum': 14245, 'monastic': 18518, 'bucklershard': 4403, 'waves': 31229, 'vapor': 30549, 'heyday': 13844, 'ardalion': 2157, 'sinners': 25860, 'handwriting': 13398, 'satis': 24703, 'feverishly': 11234, 'mair': 17476, 'hersel': 13824, 'protested': 22365, 'vociferating': 30896, 'heat': 13685, 'spies': 26662, 'yaha': 31964, 'tst': 29421, 'spi': 26653, 'ies': 14442, 'wildness': 31577, 'recourse': 23186, 'miserly': 18341, 'sincerity': 25829, 'nobility': 19246, 'mademoiselle': 17405, 'knighthood': 16221, 'alicia': 1555, 'incidental': 14798, 'imitation': 14533, 'diversity': 9002, 'signals': 25747, 'schemes': 24850, 'foolishness': 11712, 'entreat': 10211, 'lightheaded': 16856, 'buying': 4588, 'cheerfuller': 5355, 'dreaming': 9301, 'signified': 25758, 'hearers': 13653, 'cloud': 5836, 'echoing': 9645, 'nooks': 19307, 'refectories': 23261, 'sheds': 25452, 'stables': 26870, 'chimes': 5450, 'sadder': 24520, 'rooks': 24269, 'priory': 22097, 'swindler': 27969, 'cassilis': 4982, 'geneva': 12454, 'pursues': 22579, 'farthings': 11000, 'veteran': 30723, 'tendered': 28344, 'lately': 16503, 'sidelights': 25718, 'curve': 7514, 'avenue': 2644, 'smart': 26139, 'landau': 16419, 'rattled': 22942, 'loafing': 17036, 'earning': 9579, 'copper': 6855, 'elbowed': 9780, 'loafer': 17034, 'guardsmen': 13172, 'loungers': 17200, 'grinder': 13055, 'knot': 16242, 'savagely': 24735, 'sticks': 27125, 'protect': 22351, 'scuffle': 25006, 'crowded': 7353, 'irene': 15625, 'adler': 1215, 'superb': 27699, 'outlined': 20012, 'butt': 4568, 'matron': 17816, 'intelligible': 15376, 'simile': 25801, 'disarray': 8618, 'creeper': 7222, 'diver': 8995, 'moodiness': 18587, 'indefinite': 14912, 'accordance': 1037, 'prophecies': 22294, 'conspirators': 6612, 'castors': 5004, 'sixes': 25895, 'sevens': 25313, 'blockade': 3723, 'jugs': 15987, 'contemplated': 6669, 'mutton': 18888, 'carving': 4963, 'joints': 15907, 'deformed': 7957, 'shrine': 25646, 'terlake': 28380, 'alms': 1623, 'creaking': 7186, 'saveloy': 24740, 'pewter': 21037, 'trivet': 29318, 'rascally': 22915, 'carmagnole': 4901, 'sawyer': 24757, 'feathery': 11107, 'animated': 1843, 'tinge': 28782, 'suffused': 27598, 'appealing': 2007, 'reckless': 23116, 'daring': 7667, 'holborn': 13975, 'endell': 10036, 'zigzag': 32086, 'slums': 26117, 'covent': 7073, 'proprietor': 22328, 'horsey': 14127, 'trim': 29291, 'whiskers': 31478, 'starlight': 26967, 'courtyard': 7062, 'brewery': 4203, 'stitches': 27184, 'articles': 2283, 'tatters': 28213, 'banners': 2907, 'cathedrals': 5037, 'yore': 32038, 'skilful': 25926, 'wishers': 31682, 'conversing': 6787, 'eligibilities': 9816, 'proprieties': 22327, 'supports': 27761, 'indelible': 14915, 'immoveable': 14565, 'persuasion': 20959, 'fulness': 12173, 'forestall': 11815, 'performing': 20848, 'quixotic': 22748, 'escaping': 10333, 'crisp': 7282, 'flaxen': 11497, 'objected': 19492, 'facing': 10847, 'mocking': 18456, 'reckoned': 23120, 'outpaced': 20020, 'hurl': 14322, 'emptied': 9967, 'flank': 11456, 'pawing': 20626, 'panting': 20328, 'shimmering': 25508, 'cripple': 7277, 'registered': 23345, 'properly': 22291, 'wisp': 31689, 'tow': 29007, 'fancying': 10958, 'bounds': 4021, 'decorum': 7871, 'damages': 7607, 'martin': 17732, 'overhaul': 20096, 'physician': 21104, '_dined_': 309, 'evenings': 10433, 'claypole': 5718, 'mission': 18384, 'experiences': 10677, 'terminated': 28385, 'heed': 13717, 'loudest': 17191, 'merriment': 18083, 'noisy': 19281, 'forcibly': 11765, 'luise': 17275, 'assistant': 2398, 'tail': 28089, 'authors': 2612, 'visitation': 30862, 'confronting': 6488, 'ungently': 29973, 'woollen': 31782, 'disconsolate': 8669, 'unusually': 30347, 'uncommon': 29744, 'exultation': 10810, 'bashfulness': 3008, 'presenting': 21971, 'joyous': 15963, 'nestle': 19126, 'embrace': 9897, 'background': 2766, 'boxer': 4053, 'sedately': 25098, 'kneeling': 16211, 'purple': 22553, 'galleries': 12288, 'contain': 6660, 'pictures': 21138, 'silks': 25779, 'statues': 27011, 'disown': 8822, 'warmed': 31133, 'fluid': 11619, 'thesis': 28510, 'doubtfully': 9196, 'deception': 7830, 'forfeiting': 11833, 'walks': 31056, 'indebted': 14900, 'acquittal': 1122, 'regardless': 23328, 'convenience': 6768, 'fathomed': 11039, 'intrigue': 15505, 'finesse': 11348, 'pervert': 20988, 'fancies': 10955, 'tenderness': 28349, 'select': 25148, 'bias': 3481, 'tendency': 28342, 'digging': 8479, 'thrilled': 28631, 'indulging': 15001, 'outgrown': 20000, 'caps': 4827, 'bloodless': 3738, 'lame': 16389, 'attack': 2496, 'repeatedly': 23592, 'covenant': 7070, 'tacked': 28074, 'ninth': 19234, 'cape': 4807, 'rocky': 24211, 'council': 6992, 'rightly': 24088, 'innkeeper': 15194, 'souls': 26491, 'befriended': 3203, 'sickness': 25713, 'eastern': 9607, 'ascend': 2303, 'sierra': 25729, 'convoy': 6805, 'cork': 6886, 'spanish': 26545, 'chestnut': 5399, 'intersected': 15469, 'torrents': 28956, 'rustled': 24461, 'joyously': 15964, 'shrunk': 25665, 'knoll': 16239, 'diminutive': 8517, 'loutish': 17210, 'devoid': 8374, 'observers': 19543, 'bested': 3424, 'wailed': 31012, 'causing': 5058, 'titov': 28824, 'attire': 2532, 'delirious': 8020, 'filipov': 11312, 'midday': 18150, 'unconsciousness': 29758, 'thundering': 28680, 'kicked': 16117, 'ricochet': 24046, 'popped': 21636, 'cricket': 7253, 'ungentle': 29971, 'tucked': 29430, 'fender': 11179, 'parried': 20438, 'dexterously': 8402, 'scholar': 24856, 'jolly': 15917, 'smelling': 26160, 'grub': 13134, 'fortun': 11911, 'rewive': 24003, 'drayma': 9287, 'fleshly': 11523, 'satan': 24694, '_sum': 730, 'et': 10388, 'nihil': 19208, 'humanum': 14255, 'alienum': 1562, 'puto_': 22597, 'helpless': 13761, 'aptitude': 2103, 'medical': 17931, 'subdued': 27486, 'clearer': 5731, 'acquaint': 1106, 'apprehensions': 2066, 'imbibed': 14525, 'hectic': 13709, 'symptoms': 28039, 'seize': 25140, 'alarms': 1513, 'unfounded': 29950, 'kingston': 16170, 'witnesses': 31720, 'prop': 22282, 'murcher': 18818, 'adieus': 1195, 'livelong': 17005, 'paced': 20205, 'darkened': 7672, 'madly': 17411, 'enraged': 10141, 'dreamed': 9297, 'signature': 25748, 'investigator': 15572, 'hypothesis': 14386, 'ingenuity': 15118, 'append': 2020, 'founder': 11937, 'wisest': 31678, 'likeliest': 16869, 'withdrawing': 31702, 'idyllic': 14439, 'affectedly': 1341, 'bookishly': 3927, 'artificially': 2293, 'sufficed': 27589, 'virginity': 30840, 'fourth': 11952, 'quartette': 22666, 'dianas': 8421, '_c': 238, 'est': 10365, 'bon': 3898, 'ton_': 28896, 'continues': 6709, 'vision': 30857, 'forerunner': 11803, 'vauxhall': 30594, 'provoke': 22403, 'apostle': 1989, 'writes': 31918, 'glowing': 12713, 'quote': 22755, 'authorized': 2611, 'preach': 21837, 'citizen': 5618, '_vivos': 801, 'voco': 30899, 'favorable': 11064, 'highest': 13869, 'authority': 2610, 'fulfill': 12161, 'injunction': 15168, 'mete': 18110, 'gospel': 12823, 'precept': 21854, '534': 134, 'c2': 4616, '13': 16, '127': 12, '36': 118, '31': 113, '17': 34, '21': 87, '41': 124, '109': 4, '293': 107, '37': 119, '26': 101, '47': 128, '171': 35, 'frugal': 12135, 'manioc': 17598, 'economical': 9654, 'stores': 27240, 'ascending': 2307, 'backwater': 2774, 'implicit': 14637, 'reliance': 23441, 'assures': 2425, 'operation': 19812, 'postpone': 21735, 'paramount': 20375, 'faithfully': 10907, 'odinie': 19641, 'maketh': 17496, 'warranted': 31149, 'boiler': 3875, 'attributable': 2542, 'dustman': 9512, 'parsonage': 20448, 'je': 15803, 'suis': 27614, 'malade': 17501, 'fait': 10901, 'mais': 17478, 'ce': 5086, 'trop': 29336, 'mauvais': 17847, 'être': 32116, 'recurrence': 23207, 'denny': 8087, 'corps': 6913, 'regimentals': 23338, 'readiness': 22993, 'unassuming': 29656, 'agreeably': 1447, 'stormy': 27251, 'bail': 2804, 'undertaking': 29827, 'screaming': 24959, 'swearing': 27920, 'thursday': 28686, 'rummaging': 24418, 'liqueur': 16950, 'trustfulness': 29402, 'pouting': 21784, 'undressed': 29869, 'literally': 16981, 'screen': 24964, 'floated': 11558, 'consumptive': 6655, 'strove': 27404, 'hem': 13768, 'garment': 12361, 'counts': 7031, 'league': 16597, 'beautifully': 3127, 'scornful': 24907, 'undress': 29868, 'lawyers': 16567, 'unconcealed': 29748, '_discourteous_': 312, 'sarcasm': 24679, 'arrives': 2261, 'paralysed': 20369, 'serving': 25291, 'nephews': 19115, 'sixteen': 25901, 'funny': 12200, 'connections': 6533, 'curtseys': 7509, 'frock': 12106, 'unopened': 30129, 'bud': 4408, 'flushing': 11628, 'shyness': 25690, '16': 29, 'ivy': 15734, 'measuring': 17909, '_who_': 826, 'forbade': 11747, 'firelocks': 11372, 'horn': 14099, 'cleverly': 5769, 'carolina': 4912, 'wittles': 31728, 'deference': 7933, 'duncan': 9474, 'stewart': 27118, 'keepsake': 16084, 'breck': 4184, 'chapel': 5236, 'hire': 13919, 'farmers': 10985, 'letting': 16760, 'lake': 16380, 'student_': 27426, 'interfered': 15415, 'tearing': 28262, 'moir': 18487, 'sanderson': 24649, 'occult': 19578, 'mystic': 18903, 'eventually': 10441, 'elusive': 9854, 'phenomena': 21055, 'grouped': 13113, 'fraudulent': 12007, 'spiritualism': 26691, 'researches': 23721, 'fanatical': 10950, 'bigot': 3518, 'religion': 23453, 'hah': 13298, 'torn': 28949, 'volumes': 30927, 'immemorial': 14544, 'dinosaurs': 8547, 'nocturnal': 19261, 'strained': 27283, 'afar': 1326, 'cactus': 4637, 'strewn': 27354, 'levels': 16766, 'brake': 4098, 'supplications': 27749, 'brittles': 4297, 'unfettered': 29929, 'marvin': 17747, 'imported': 14654, 'tool': 28913, 'capitalists': 4815, 'omen': 19753, 'warmest': 31135, 'luckily': 17257, 'ventured': 30660, 'richest': 24039, 'pacific': 20207, 'surgeon': 27794, 'theophilus': 28491, 'invaluable': 15544, 'anticipating': 1914, 'inferior': 15063, 'finishing': 11362, 'gathering': 12400, 'scarf': 24815, 'preparatory': 21949, 'withdrawal': 31701, 'protract': 22370, 'pecuniary': 20689, 'fireside': 11377, 'refrain': 23293, 'masculine': 17749, 'judgement': 15971, 'mama': 17548, 'fragile': 11969, 'observer': 19542, 'plays': 21389, 'delightfully': 8016, 'pitifullest': 21289, 'spinet': 26677, 'serenity': 25258, 'rationally': 22939, 'flattery': 11485, 'halting': 13343, '_western': 817, 'news_': 19161, 'dartmoor': 7694, 'elias': 9812, 'term': 28381, 'remitted': 23513, 'warder': 31113, 'quarries': 22657, 'millionaire': 18211, 'seventeenth': 25315, 'century': 5131, 'kuno': 16293, 'crutch': 7401, 'muscles': 18841, 'strangling': 27301, 'stupified': 27466, 'suddenness': 27575, 'terrified': 28402, 'growling': 13128, 'neighborhood': 19100, 'labyrinth': 16321, 'sponged': 26733, 'cleaned': 5722, 'codinn': 5939, 'wadding': 30980, 'carbolised': 4856, 'bandages': 2870, 'dismayed': 8801, 'spectre': 26611, 'quake': 22636, 'cajoled': 4660, 'imagining': 14518, 'industry': 15005, 'protective': 22355, 'tariff': 28176, 'legislation': 16692, 'wealth': 31263, 'diminish': 8514, 'imports': 14657, 'redeem': 23219, 'brandy': 4117, 'twitchings': 29551, 'vandalism': 30531, 'reverently': 23945, 'antiquity': 1932, 'sanctity': 24636, 'outrageous': 20027, 'profanation': 22177, 'unthinkable': 30318, 'electric': 9791, 'twitching': 29550, 'inhuman': 15152, 'hypocrisy': 14383, 'depth': 8168, 'successor': 27561, 'underlie': 29801, 'virtuoso': 30845, 'mutilation': 18882, 'quarters': 22665, 'bacteriologist': 2778, 'diameter': 8418, 'microscope': 18146, 'naked': 18937, 'frontiersman': 12118, 'knowable': 16249, 'hulking': 14239, 'detached': 8307, 'scientific': 24879, 'conversaziones': 6783, 'ignore': 14457, 'charged': 5266, 'quarrelsome': 22656, 'conditioned': 6403, 'faddist': 10857, 'faking': 10912, 'photographs': 21093, 'healthy': 13645, 'nourishes': 19389, 'sonnet': 26431, 'starve': 26984, 'compassionately': 6213, 'firing': 11381, 'cringes': 7272, 'smothered': 26201, 'flames': 11453, 'volcano': 30915, 'ugh': 29592, 'debt': 7802, 'drawback': 9273, 'prenticed': 21939, 'delaford': 7990, 'conveniences': 6769, 'mulberry': 18777, 'dove': 9207, 'cote': 6973, 'stew': 27115, 'ponds': 21611, 'canal': 4739, 'arbour': 2123, 'carriages': 4931, 'prettier': 22022, 'deserves': 8227, 'wary': 31158, 'admirers': 1231, 'successful': 27556, 'punched': 22499, 'sledge': 26022, 'descending': 8202, 'recollecting': 23147, 'ribbons': 24027, 'adapt': 1162, 'speculations': 26617, 'review': 23962, 'immense': 14545, 'affectation': 1339, 'poetry': 21510, 'drowning': 9385, 'verbose': 30673, 'solely': 26373, 'splinters': 26712, 'wrecked': 31881, 'sufficiently': 27593, 'drowned': 9384, 'blinked': 3707, 'peony': 20794, 'scoffed': 24887, 'jeeringly': 15814, 'forged': 11837, 'chatter': 5321, 'æsthetic': 32104, 'seduced': 25106, 'seducer': 25107, 'compensation': 6226, 'brag': 4084, 'cheaper': 5332, 'barefoot': 2932, 'shrieks': 25639, 'inspire': 15289, 'nilitch': 19222, 'foolhardiness': 11707, 'hid': 13849, 'braes': 4083, 'maclaren': 17387, 'hostess': 14146, 'dhu': 8403, 'commonly': 6165, 'coterie': 6974, 'alison': 1568, 'privately': 22113, 'loving': 17221, 'partisan': 20481, 'wroth': 31938, 'exclusion': 10560, 'intruding': 15525, 'aches': 1084, 'growl': 13126, 'slumbers': 26116, 'languishing': 16447, 'willy': 31605, 'nilly': 19223, 'bemoan': 3322, 'maister': 17480, 'effie': 9722, 'hebron': 13708, 'atlanta': 2476, 'badly': 2790, 'sickened': 25704, 'pinner': 21227, 'middlesex': 18154, 'average': 2646, 'cent': 5121, 'cabman': 4631, 'aroused': 2237, 'tchebarov': 28243, 'cringing': 7273, 'protestations': 22364, 'devotion': 8385, 'wretches': 31899, 'pushkin': 22592, 'catastrophe': 5021, 'unintentionally': 30031, 'meddle': 17922, 'examples': 10499, 'lecturer': 16649, 'audience': 2561, 'curlew': 7480, 'detailed': 8310, 'disturbed': 8979, 'dryly': 9414, 'endeavoured': 10032, 'corroboration': 6939, 'forborne': 11757, 'severely': 25324, 'discharge': 8638, 'estimated': 10382, 'differently': 8458, 'sphere': 26649, 'moves': 18749, 'degradation': 7968, 'sair': 24568, 'dispensation': 8836, 'minister': 18255, 'lang': 16439, 'ravin': 22957, 'kramm': 16282, 'ejaculated': 9759, 'announcement': 1869, 'wednesday': 31303, 'worried': 31823, 'tailor': 28092, 'coquettishly': 6869, 'cruise': 7381, 'shiver': 25537, 'doleful': 9088, 'despicable': 8268, 'magazines': 17422, 'poems': 21505, 'novel': 19396, 'attain': 2501, 'glove': 12705, 'negotiations': 19092, '_étape_': 848, 'siberia': 25694, 'superintendent': 27712, 'quarreling': 22652, 'smallish': 26135, 'stature': 27013, 'nimble': 19224, 'sunburnt': 27666, 'pitted': 21296, 'alarming': 1511, 'belted': 3317, 'pledged': 21413, 'handsomely': 13394, 'ostade': 19942, 'beams': 3091, 'bulks': 4446, 'ringbolts': 24108, 'berths': 3394, 'bundles': 4479, 'miscellaneous': 18313, 'lanterns': 16454, 'straying': 27322, 'windsail': 31638, 'hatchway': 13542, 'groups': 13114, 'friendships': 12077, 'established': 10367, 'stools': 27222, 'dwarf': 9526, 'disconsolately': 8670, 'babies': 2742, 'crooked': 7321, 'ploughmen': 21451, 'smiths': 26177, 'samples': 24626, 'soot': 26443, 'skins': 25942, 'crammed': 7146, 'compass': 6208, 'tween': 29523, 'decks': 7848, 'thorns': 28576, 'gorohovaya': 12816, 'disagreeably': 8594, 'structure': 27406, 'architectural': 2146, 'solidly': 26396, 'thickness': 28521, 'fewness': 11237, 'gratings': 12943, 'changer': 5223, 'inhospitable': 15150, 'exclusively': 10562, 'enthusiasm': 10187, 'bluff': 3779, 'hairy': 13312, 'irradiating': 15647, 'joyful': 15961, 'heaves': 13698, 'clench': 5748, 'emphasizes': 9949, 'pigmy': 21167, 'rascal': 22914, 'regent': 23335, 'conjectured': 6515, 'checkmated': 5346, 'ace': 1076, 'enoch': 10131, 'ark': 2201, 'belongings': 3311, 'fired': 11368, 'instantaneously': 15308, 'teapot': 28258, 'mock': 18453, 'ville': 30798, 'backed': 2762, 'artfully': 2278, 'skilfully': 25927, 'contrived': 6751, 'bruise': 4361, 'tramp': 29089, 'backs': 2769, 'lacerated': 16325, 'brambles': 4101, 'bits': 3576, 'skin': 25936, 'shreds': 25630, 'spots': 26760, 'boldest': 3881, 'stroked': 27388, 'importantly': 14652, 'composedly': 6280, 'internally': 15442, 'revelled': 23922, 'argent': 2170, 'azure': 2730, 'barry': 2985, 'wavy': 31232, 'wonderingly': 31756, 'genuineness': 12495, 'princetown': 22079, 'warders': 31114, 'patch': 20544, 'slid': 26051, 'sideways': 25723, 'obliquely': 19509, 'absorption': 949, 'shuffling': 25675, 'slippers': 26074, 'discerned': 8634, 'stealthily': 27043, 'emerged': 9914, 'squat': 26838, 'chocolate': 5480, 'gruesome': 13143, 'remnants': 23517, 'jar': 15787, 'christened': 5522, 'pavel': 20618, 'amusing': 1759, 'vigorously': 30779, 'denying': 8108, 'townspeople': 29024, 'foundling': 11940, 'invented': 15553, 'surname': 27810, 'nickname': 19180, 'dodging': 9059, 'willows': 31601, 'marshy': 17725, 'tussock': 29509, 'uphill': 30390, 'unfasten': 29917, 'animate': 1842, 'inanimate': 14756, 'growth': 13132, 'considerably': 6576, 'tightened': 28735, 'arming': 2217, 'theoretical': 28492, 'reward': 23999, '_wish_': 830, 'boundary': 4015, 'whining': 31454, 'screened': 24965, 'beech': 3174, 'loosened': 17151, 'crevices': 7243, 'ladder': 16347, 'shark': 25408, 'runner': 24433, 'haul': 13562, 'allegorically': 1582, 'zemarin': 32075, 'streaming': 27330, 'approved': 2087, 'tormenting': 28944, 'dominant': 9114, 'training': 29079, 'absent': 936, 'preliminary': 21924, 'sentences': 25218, 'plate': 21362, 'accusing': 1071, 'flibusterov': 11528, 'intend': 15380, 'unite': 30043, 'confirmatory': 6465, 'rioters': 24121, 'cordon': 6880, 'unlikely': 30071, 'pious': 21233, 'pshaw': 22432, 'turkey': 29476, 'insists': 15275, 'burned': 4519, 'gutter': 13252, 'incapable': 14776, 'paralyzed': 20372, 'imminent': 14549, 'farthing': 10999, 'verify': 30688, 'experiment': 10680, 'hardest': 13450, 'humane': 14247, 'declines': 7860, 'podincute': 21493, 'doubles': 9187, 'quits': 22740, 'montigny': 18574, 'doggedly': 9073, 'autobiography': 2614, 'schoolmaster': 24867, 'scholastic': 24859, 'agencies': 1403, 'identify': 14414, 'owned': 20186, 'descriptions': 8212, 'entomology': 10202, 'dispute': 8874, 'bidding': 3497, 'camerons': 4727, 'cameron': 4725, 'mamore': 17555, 'havenae': 13580, 'despaired': 8257, 'crunches': 7392, 'humbly': 14264, 'growed': 13121, 'wos': 31848, 'prewaricate': 22043, 'reg': 23314, 'lar': 16466, 'diggin': 8478, 'amends': 1703, 'undug': 29873, 'conwictions': 6816, 'respectin': 23798, 'futur': 12237, 'keepin': 16080, 'wiping': 31669, 'discourse': 8687, 'respectfully': 23796, 'porterage': 21681, 'havin': 13581, 'entreatin': 10214, 'kep': 16099, 'classifications': 5701, 'shatters': 25423, 'constructed': 6638, 'benefit': 3347, 'upsets': 30415, 'systems': 28053, 'theories': 28494, 'interests': 15413, 'pursue': 22575, 'logical': 17085, 'exercises': 10593, 'waldengarver': 31047, 'goose': 12801, 'shipmate': 25522, 'june': 16004, '3rd': 120, 'pool': 21621, 'counterblast': 7008, 'arrows': 2269, 'lancastrians': 16413, 'visors': 30871, 'wagon': 31004, 'shapeless': 25397, 'gloves': 12707, 'immortally': 14562, 'expectantly': 10653, 'assaulted': 2361, 'mute': 18878, 'shoe': 25551, 'steadfastly': 27024, 'improbable': 14702, 'tunnel': 29467, 'slowed': 26102, 'brakes': 4099, 'ledge': 16655, 'articulated': 2285, 'mistrustfully': 18408, 'shortly': 25588, 'forthwith': 11895, 'requested': 23696, 'entertained': 10176, 'rescued': 23716, 'worded': 31790, 'discourteous': 8691, 'observations': 19538, 'nabobs': 18923, 'mohrs': 18481, 'podinquins': 21498, 'overthrow': 20160, 'notable': 19347, 'palter': 20292, 'refusal': 23306, 'detection': 8318, 'kindled': 16154, 'ceaseless': 5089, 'whirl': 31464, 'blackest': 3597, 'recognizing': 23140, 'serf': 25259, 'outspoken': 20041, 'governed': 12843, 'adjusting': 1214, 'viewing': 30768, 'cling': 5791, 'cleave': 5739, 'shepherd': 25475, 'vilest': 30787, 'happening': 13424, 'ceres': 5139, 'reformed': 23289, 'hymn': 14377, 'accursed': 1062, 'shrouded': 25656, 'philosophically': 21077, 'critical': 7288, 'hobson': 13959, 'chicago': 5408, 'union': 30038, 'miracles': 18281, 'outraged': 20026, 'wrought': 31939, 'teacher': 28251, 'intellects': 15370, 'revered': 23939, 'untroubled': 30338, 'thirsted': 28552, 'irrelevant': 15655, 'conclusions': 6372, 'actions': 1137, 'inhabitants': 15134, 'inscrutable': 15239, 'wingfield': 31649, 'considers': 6583, 'elastic': 9775, 'graceful': 12862, 'swathed': 27912, 'mantle': 17628, 'raven': 22951, 'cuddling': 7417, 'jealously': 15806, 'buttress': 4581, 'threatened': 28617, 'attendant': 2515, 'joint': 15904, 'defended': 7925, 'pursuing': 22580, 'discourage': 8682, 'provincial': 22396, 'civil': 5624, 'intrigues': 15508, 'opponents': 19823, 'undermined': 29806, 'complaints': 6246, 'promptly': 22267, 'harshly': 13506, 'pawned': 20630, 'crumb': 7385, 'unanswered': 29646, 'rambling': 22855, 'protected': 22352, 'exists': 10633, 'gratify': 12940, 'inviting': 15592, 'maintained': 17473, 'unfailing': 29910, 'regularity': 23358, 'unsatisfactory': 30233, 'simplest': 25815, 'surroundings': 27834, 'interpret': 15450, 'interviews': 15479, 'minuteness': 18273, 'precision': 21874, 'clarissa': 5683, 'oftener': 19717, 'affectionately': 1345, 'sermons': 25272, 'taller': 28122, 'dogging': 9076, 'dogged': 9072, 'devote': 8380, 'energies': 10059, 'beauvais': 3131, 'repute': 23693, 'development': 8350, 'regained': 23316, 'wests': 31376, 'indirectly': 14954, 'villa': 30789, 'fantasy': 10967, 'catholic': 5038, 'teaching': 28254, 'knights': 16223, 'hordle': 14095, 'aquitaine': 2109, 'perplexities': 20906, 'tricking': 29271, 'autumn': 2622, 'slumber': 26111, 'lair': 16373, 'phantom': 21044, 'orse': 19927, 'dorg': 9159, 'orses': 19928, 'dorgs': 9160, 'tobacker': 28840, 'committee': 6154, 'vysotsky': 30975, '_fête_': 388, 'stewards': 27117, 'trays': 29187, 'odintte': 19670, 'ribbon': 24026, 'genoese': 12466, 'issuing': 15710, 'mumble': 18796, 'whine': 31452, 'vaulted': 30588, 'arrivals': 2258, 'torch': 28938, 'stuck': 27423, 'changefully': 5219, 'plumped': 21468, 'colomna': 6032, 'par': 20350, 'odinions': 19649, 'sorrow': 26465, 'kindlier': 16155, 'divulge': 9025, 'disgraced': 8740, 'bawled': 3063, 'rood': 24261, 'ferryman': 11206, 'conquered': 6545, 'briskness': 4283, 'indicative': 14938, 'knuckles': 16262, 'gracefully': 12863, 'buyer': 4586, 'seller': 25160, 'dolloby': 9095, 'weskit': 31362, 'irritably': 15678, 'insistently': 15273, 'scotch': 24912, 'reproachfully': 23654, 'musgroves': 18850, 'harville': 13514, 'uppercross': 30403, 'lyme': 17351, 'surprises': 27820, 'historical': 13930, 'karamsin': 16056, 'nowadays': 19408, 'guilt': 13203, 'straker': 27289, 'lengthy': 16717, 'hugged': 14230, 'outstretched': 20045, 'frenzied': 12041, 'articulate': 2284, 'limits': 16902, 'disgusting': 8750, 'despondently': 8281, 'lone': 17107, 'lorn': 17172, 'forgiveness': 11851, 'worrit': 31825, 'contraries': 6736, 'drawer': 9277, 'cheque': 5376, 'plodded': 21435, 'gripsack': 13069, 'resounding': 23784, 'devolves': 8377, 'bland': 3637, 'research': 23720, 'negative': 19080, 'possibilities': 21716, 'corporation': 6911, 'admission': 1237, 'spread': 26776, 'proportionate': 22308, 'philosophy': 21078, 'alternative': 1656, 'farmhouse': 10986, 'spiteful': 26695, 'knit': 16224, 'excel': 10515, 'benefactress': 3343, 'abstractedly': 955, 'chime': 5446, 'warned': 31142, 'tolled': 28877, 'resolution': 23772, 'libelous': 16794, 'libel': 16792, 'gossip': 12825, 'expenses': 10671, 'offers': 19698, 'filling': 11318, 'minds': 18239, 'introducing': 15515, 'refinement': 23273, 'accommodations': 1021, 'pathos': 20561, 'buffoon': 4421, 'merchants': 18053, 'ispravnik': 15704, 'napravnik': 18963, 'valet': 30508, 'craned': 7154, 'unearthly': 29880, 'secretly': 25081, 'endowments': 10045, 'denis': 8083, 'witch': 31697, 'unmanageable': 30088, 'absenting': 938, 'crimsoned': 7270, 'notions': 19376, 'indistinct': 14965, 'latitude': 16513, 'geologist': 12501, 'harder': 13449, 'limestone': 16894, 'excavation': 10509, 'stumbled': 27445, 'cavern': 5076, 'icicles': 14403, 'lime': 16890, 'deposit': 8138, 'passages': 20506, 'subterranean': 27541, 'streams': 27332, 'intemperance': 15378, 'snegiryov': 26246, 'failure': 10879, 'muddy': 18767, 'vigilance': 30771, 'expert': 10684, 'collections': 6014, 'survey': 27837, 'weaken': 31251, 'tranter': 29162, 'opponent': 19822, 'bounded': 4016, 'whistling': 31491, 'severed': 25323, 'twain': 29515, 'ripped': 24131, 'gash': 12383, 'jutting': 16035, 'linen': 16921, 'cyclas': 7553, 'panther': 20327, 'blade': 3618, 'whizzed': 31512, 'spectators': 26609, 'thrusts': 28661, 'parry': 20442, 'eccentricity': 9635, 'subtly': 27546, 'hamlet': 13351, 'straining': 27284, 'handle': 13388, 'unsearched': 30240, 'linings': 16932, 'drawers': 9278, 'acuteness': 1154, 'unexplored': 29909, 'cabinet': 4627, 'roll': 24232, 'cavity': 5082, 'concealment': 6328, 'indescribable': 14925, 'fluttered': 11635, 'unsteady': 30290, 'ascertain': 2310, 'exemplification': 10587, 'foretold': 11825, 'peruse': 20976, 'discouraged': 8683, 'vociferations': 30897, 'unshaded': 30256, 'studious': 27432, 'afghanistan': 1376, 'alacrity': 1507, 'comparisons': 6205, 'moodily': 18585, 'drooping': 9368, 'grayper': 12965, 'restraint': 23840, 'gladness': 12616, 'admixture': 1244, 'insubordinate': 15338, 'stealthy': 27044, 'sottish': 26481, 'distracted': 8952, 'dissembling': 8899, 'yawn': 31984, 'scanty': 24797, 'peter': 21006, 'sprinklings': 26792, 'tim': 28759, 'lofty': 17080, 'desks': 8249, 'morocco': 18643, 'containing': 6662, 'marker': 17681, 'solovieff': 26407, 'oil': 19727, 'paintings': 20256, 'blackened': 3594, 'medals': 17921, 'cottages': 6982, 'happens': 13426, 'tidy': 28722, 'clergyman': 5754, 'almshouses': 1625, 'gates': 12395, 'sydney': 28012, 'perilous': 20859, 'pledges': 21414, 'perceptible': 20809, 'entrusted': 10225, 'zoological': 32094, 'institute': 15323, 'statements': 26994, 'endorse': 10041, 'ostensible': 19943, 'enormous': 10133, 'equipment': 10285, 'cope': 6842, 'contribution': 6745, 'inaccessible': 14746, 'tiffey': 28729, 'outsider': 20037, 'betrothed': 3455, 'sneered': 26240, 'cure': 7465, 'abuse': 970, 'censure': 5118, 'undiscerning': 29853, 'prejudiced': 21919, 'undertakings': 29828, 'balsamic': 2852, 'odour': 19676, 'pine': 21213, 'rudy': 24378, 'lithe': 16985, 'girlish': 12588, 'tripping': 29307, 'wheatfields': 31400, 'mustang': 18870, 'blossomed': 3751, 'girlhood': 12586, 'cognizance': 5958, 'representative': 23636, 'bundle': 4477, 'bogie': 3865, 'rival': 24154, 'raillery': 22818, 'incurred': 14898, 'ridicule': 24062, 'assigned': 2393, 'oppression': 19838, 'gloominess': 12689, 'injuries': 15172, 'disappointments': 8608, 'justified': 16028, 'applying': 2047, 'reminiscence': 23505, 'opportune': 19824, 'levin': 16774, 'flashes': 11472, 'acta': 1131, 'sanctorum': 24637, 'scoffer': 24888, 'streamed': 27328, 'rustling': 24462, 'tinted': 28795, 'pontiff': 21614, 'sinned': 25858, 'teachings': 28255, 'license': 16815, 'crosses': 7338, 'lurid': 17319, 'spark': 26556, 'pavement': 20619, 'lengthened': 16714, 'chink': 5457, 'formality': 11864, 'sourness': 26512, 'sallow': 24590, 'insipidity': 15268, 'proportioned': 22310, 'syllables': 28015, 'determination': 8325, 'disliking': 8791, 'huddled': 14217, 'figuring': 11300, 'grimly': 13047, 'desolation': 8255, 'grunted': 13157, 'guessing': 13180, 'condolence': 6407, 'congratulation': 6507, 'gridyenko': 13022, 'pipings': 21244, 'rolls': 24240, 'sewed': 25331, 'piping': 21243, 'legally': 16678, 'humanitarian': 14250, 'champagne': 5196, 'stingy': 27161, 'toadstool': 28833, 'dissipation': 8914, 'akin': 1503, 'pet': 21005, 'pleasantest': 21400, 'nausea': 19010, 'distaste': 8930, 'menace': 18012, 'firelight': 11369, 'polished': 21558, 'cabinets': 4628, 'poole': 21622, 'offensively': 19692, 'patronising': 20586, 'jocosity': 15892, 'yell': 32002, 'downward': 9223, 'inert': 15019, 'coal': 5886, 'glowed': 12709, 'smouldering': 26204, 'hackles': 13284, 'dewlap': 8398, 'disordered': 8816, 'hellish': 13751, 'abbot': 869, 'fourteenth': 11951, 'bishops': 3565, 'diligence': 8505, 'pogodin': 21512, 'eighteenth': 9752, 'writers': 31917, 'copied': 6849, 'translate': 29133, 'fairly': 10895, 'triumphs': 29316, 'script': 24978, 'irresolute': 15663, 'tailors': 28093, 'gasp': 12385, 'dominick': 9124, 'breach': 4150, 'hospitality': 14138, 'twitters': 29557, 'aileth': 1470, 'threats': 28621, 'insults': 15352, 'hardships': 13458, 'debauchery': 7793, 'demanding': 8041, 'foulest': 11930, 'coolness': 6834, 'raved': 22949, 'clapped': 5675, 'diseased': 8720, 'acceding': 984, 'groping': 13097, 'hats': 13554, 'twin': 29536, 'gerrard': 12518, 'walworth': 31078, 'evaporated': 10424, 'courtship': 7060, 'rapidity': 22897, 'hymen': 14376, 'saffron': 24541, 'robe': 24189, 'dispel': 8833, 'prosperity': 22342, 'revolving': 23995, 'prospects': 22338, 'follows': 11684, 'twentieth': 29528, 'abel': 877, 'indigo': 14952, 'planter': 21353, 'overseer': 20134, 'coolies': 6831, 'obstacle': 19549, 'saddle': 24522, 'plantation': 21350, 'idlers': 14429, 'planting': 21355, 'shanty': 25394, 'confound': 6481, 'joking': 15913, 'tenant': 28336, 'crail': 7143, 'baw': 3061, 'nestled': 19127, 'infantile': 15048, 'gout': 12840, 'persists': 20931, 'shelves': 25472, 'weigh': 31319, 'chandler': 5214, 'lamentable': 16394, 'winked': 31652, 'accosted': 1043, 'maman': 17549, 'wonders': 31760, 'hetty': 13836, 'checker': 5342, 'pore': 21656, 'amazingly': 1681, 'grandmama': 12903, 'screwing': 24970, 'divagate': 8990, 'franchard': 11987, 'gretz': 13011, 'hermits': 13812, 'foreseen': 11808, 'sacrificial': 24510, 'vessels': 30716, 'exquisitely': 10748, 'reign': 23373, 'louis': 17194, 'quatorze': 22670, 'tock': 28844, 'fooling': 11709, 'coffer': 5945, 'priestly': 22060, 'perspiration': 20949, 'pneumonia': 21486, 'replenish': 23613, 'mare': 17662, 'forefoot': 11783, 'ice': 14395, 'pullman': 22481, 'car': 4848, 'unravelled': 30186, 'unexpectedly': 29905, 'scraping': 24948, 'exception': 10528, 'fervently': 11210, 'praying': 21834, 'perused': 20977, 'hover': 14191, 'breaths': 4183, 'darken': 7671, 'unfathomable': 29920, 'faultless': 11057, 'melted': 17986, 'lingered': 16926, 'traits': 29085, 'reawake': 23056, 'disillusion': 8770, 'horrors': 14116, 'mattered': 17825, 'imperious': 14610, 'survived': 27844, 'fibre': 11247, 'yearned': 31994, 'lasting': 16496, 'ruggedly': 24394, 'switzerland': 27992, 'speculating': 26615, 'lonelier': 17108, 'ocean': 19597, 'menacingly': 18016, 'unaware': 29665, 'destined': 8292, 'regenerate': 23331, 'wilverley': 31609, 'pattering': 20598, 'swish': 27984, 'dripping': 9344, 'hollowed': 13998, 'drier': 9325, 'canopy': 4782, 'squatted': 26839, 'herrings': 13823, 'hunch': 14296, 'wheaten': 31399, 'flask': 11474, 'disputing': 8877, 'students': 27427, 'sleek': 26024, 'gainsaid': 12270, 'faults': 11058, 'mourning': 18729, 'moralising': 18616, 'hems': 13776, 'earliest': 9570, 'benefited': 3348, 'freed': 12019, 'encounter': 10000, 'guidable': 13188, 'goodwill': 12797, 'foggy': 11655, 'november': 19402, 'camberwell': 4712, 'tram': 29088, 'elapse': 9773, 'deed': 7895, 'indefinable': 14910, 'sohn': 26348, 'physiognomy': 21107, 'polish': 21557, 'stupidly': 27465, 'herefordshire': 13801, 'landed': 16421, 'turner': 29485, 'australia': 2595, 'farms': 10989, 'ex': 10476, 'australian': 2596, 'colonies': 6035, 'richer': 24036, 'equality': 10272, 'eighteen': 9750, 'wives': 31731, 'avoided': 2670, 'lunatic': 17300, 'mania': 17584, 'speeches': 26621, 'intends': 15383, 'examinations': 10493, 'burlesque': 4515, 'owens': 20179, 'profusely': 22214, 'eloquently': 9846, 'chuckled': 5543, 'dawkins': 7726, 'prize': 22122, 'remnant': 23516, 'desperately': 8266, 'rightful': 24086, 'heir': 13741, 'forsooth': 11883, 'redound': 23234, 'stoned': 27214, 'dies': 8446, 'returns': 23908, 'anythink': 1950, 'accounts': 1049, 'beneficial': 3346, 'satisfactory': 24707, 'dupe': 9487, 'hash': 13518, 'career': 4872, 'miranha': 18284, 'amajuaca': 1665, 'cannibals': 4768, 'reverberating': 23935, 'prentices': 21940, 'articled': 2282, 'turnkey': 29490, 'appropriateness': 2083, 'detestable': 8331, 'worrying': 31828, 'launched': 16532, 'advisers': 1313, 'stimulants': 27148, 'recoils': 23144, 'gentlest': 12485, 'sweetest': 27938, 'ministering': 18256, 'classified': 5702, 'lists': 16975, 'medley': 17948, 'productive': 22174, 'declining': 7861, 'insisted': 15271, 'foresee': 11806, 'accrue': 1053, 'annoying': 1875, 'warn': 31141, 'announcing': 1870, 'astound': 2438, 'antecedents': 1902, 'harsher': 13504, 'bollamore': 3884, 'admirably': 1226, 'confounding': 6484, 'phase': 21050, 'builder': 4431, 'handicraft': 13380, 'manly': 17603, 'withal': 31699, 'protector': 22356, 'honesty': 14032, 'undisguised': 29856, 'matched': 17792, 'nicolai': 19183, 'annoy': 1871, 'equivalent': 10289, 'summoning': 27655, 'resent': 23729, 'laws': 16563, 'astounded': 2439, 'principles': 22086, 'punished': 22513, 'sentenced': 25217, 'quadrillion': 22626, 'kilometers': 16143, 'metric': 18125, 'approves': 2089, 'pathetic': 20557, 'taught': 28218, 'latest': 16508, 'convictions': 6799, 'crude': 7374, 'overboard': 20064, 'midwife': 18167, 'heartedness': 13666, 'brig': 4240, 'banking': 2898, 'soho': 26349, 'rattle': 22941, 'cashiers': 4974, 'shouldered': 25596, 'closet': 5823, 'ruled': 24403, 'perpendicular': 20891, 'jocose': 15890, 'glide': 12655, 'ponderously': 21609, 'quell': 22686, 'innocently': 15198, 'siege': 25728, 'kars': 16061, 'anecdote': 1809, 'confoundedly': 6483, 'exclamatory': 10556, 'undertook': 29831, 'dissipated': 8912, 'doles': 9090, 'installments': 15300, 'losing': 17177, 'agreements': 1451, 'dates': 7709, 'overwhelmed': 20170, 'deceit': 7817, 'cheating': 5339, 'introductory': 15518, 'clove': 5845, 'hitch': 13934, 'gunn': 13229, 'biscuit': 3560, 'dwindled': 9539, 'blackness': 3611, 'stumblingly': 27447, 'supped': 27738, 'anchorage': 1787, 'visits': 30870, 'waked': 31034, 'hugging': 14231, 'brusquely': 4376, 'intending': 15382, 'blocked': 3725, 'exit': 10634, 'listless': 16972, 'paperweight': 20345, 'coachman': 5883, 'chodinging': 5486, 'scrutinised': 24998, 'trophy': 29338, 'inquisitive': 15220, 'graden': 12872, 'footed': 11718, 'squeaker': 26844, 'functionary': 12180, 'untidy': 30323, 'startop': 26981, 'spoilt': 26725, 'devotedly': 8382, 'feature': 11109, 'boating': 3829, 'abreast': 926, 'bentley': 3363, 'wake': 31033, 'overhanging': 20094, 'banks': 2904, 'rushes': 24445, 'creep': 7221, 'amphibious': 1744, 'mid': 18149, 'contains': 6663, 'thorough': 28578, 'discursive': 8708, 'blushed': 3802, 'cease': 5087, 'bursting': 4531, 'undertakes': 29826, 'characterized': 5257, 'commencement': 6117, 'dacre': 7577, 'psychic': 22434, 'asceticism': 2314, 'thinning': 28545, 'locks': 17063, 'snowpeak': 26282, 'fir': 11365, 'fleshy': 11524, 'unabated': 29619, 'sensualist': 25211, 'egotist': 9743, 'elixir': 9826, 'complex': 6257, '82': 147, 'university': 30055, 'environment': 10240, 'cheering': 5361, 'fondly': 11697, 'creosote': 7231, 'mess': 18092, 'carboy': 4858, 'cracked': 7122, 'leaked': 16601, 'ginger': 12575, 'coiled': 5967, 'bobbed': 3835, 'pierrot': 21157, 'ethics': 10396, 'prudent': 22416, 'accidental': 1006, 'martins': 17735, 'particularity': 20473, 'pulses': 22489, 'submission': 27505, 'inevitable': 15022, 'sideboard': 25714, 'benbow': 3330, 'aleksey': 1539, 'lenten': 16723, 'dish': 8753, 'shrouds': 25657, 'postern': 21727, 'inspect': 15282, 'politics': 21571, 'phrase': 21095, 'alchemist': 1527, 'transmutation': 29141, 'brightening': 4252, 'snippet': 26258, 'cheered': 5353, 'bureau': 4496, 'treaty': 29211, 'italy': 15714, 'leak': 16599, 'deer': 7910, 'blankly': 3645, 'represents': 23640, 'shades': 25350, 'waking': 31043, 'concentration': 6344, 'faculties': 10854, 'bah': 2802, 'sniff': 26250, 'grimpen': 13049, 'mire': 18285, 'scope': 24899, 'responsibilities': 23812, 'list': 16963, 'ticked': 28702, 'luxurious': 17342, 'uniformly': 30016, 'docketed': 9042, 'symmetrical': 28024, 'focus': 11644, 'windac': 31620, 'doubled': 9186, 'disgracefully': 8742, 'spoiled': 26722, 'pranks': 21823, 'mix': 18434, 'wed': 31297, 'scold': 24891, 'inventions': 15556, 'appropriate': 2080, 'passenger': 20509, 'potent': 21750, 'commercials': 6133, 'paragraph': 20364, 'valour': 30517, 'claude': 5707, 'latour': 16514, 'suavely': 27481, 'ventures': 30661, 'kith': 16192, 'upbringing': 30385, 'amidst': 1723, 'solve': 26410, 'patterson': 20601, 'doting': 9181, 'martha': 17729, 'scatter': 24827, 'extinguish': 10771, 'cautiously': 5066, 'meddlesome': 17925, 'patrol': 20577, 'severally': 25321, 'thevenin': 28511, 'destroy': 8297, 'documentary': 9052, '_would_': 838, 'toasting': 28836, 'sausage': 24730, 'gay': 12413, 'reprehensible': 23632, 'kent': 16096, '_there_': 751, 'imply': 14646, 'pales': 20272, 'audibly': 2560, 'similarly': 25800, 'prisons': 22104, 'swallowing': 27892, 'mirth': 18290, 'counterfeit': 7010, 'shuffle': 25673, 'circulation': 5600, 'sundial': 27673, 'vexation': 30727, 'invariably': 15546, 'reluctantly': 23470, 'termed': 28382, 'quickness': 22715, 'resenting': 23733, 'affronts': 1374, 'overlooked': 20111, 'pardoned': 20399, 'romantic': 24251, 'unpleasantness': 30148, 'voluntarily': 30928, 'honourably': 14052, 'feelingly': 11134, 'divining': 9018, 'oppress': 19834, 'indulged': 14994, 'sweets': 27945, 'incomprehensibility': 14841, 'exclaiming': 10552, 'conjecturing': 6517, 'fiend': 11272, 'abused': 971, 'reaches': 22979, 'depot': 8145, 'perverted': 20989, 'callosities': 4692, 'shivers': 25540, 'spine': 26676, 'ghastly': 12535, 'theater': 28467, 'fatally': 11026, 'recorded': 23179, 'evremonde': 10474, 'usage': 30443, 'investment': 15575, 'alluding': 1609, 'pigs': 21168, 'diving': 9017, 'tiddler': 28714, 'shares': 25406, 'lowest': 17229, 'sixpence': 25896, 'sixpences': 25897, 'soonest': 26442, 'mended': 18021, 'grizzly': 13077, 'rats': 22940, 'allies': 1594, 'cliffs': 5780, 'treacherously': 29189, 'independence': 14922, 'emergency': 9917, 'determine': 8326, 'stratum': 27314, 'basalt': 2995, 'forming': 11869, 'ruddy': 24370, 'intrusion': 15526, '_were_': 816, 'lookout': 17134, 'victor': 30751, 'asiatic': 2326, 'uncharitable': 29719, '_with': 833, 'money_': 18524, 'compliments': 6275, 'saving': 24743, 'gar': 12339, 'betimes': 3443, 'achmet': 1092, 'agra': 1443, 'foster': 11924, 'badge': 2786, 'marquise': 17704, 'depose': 8135, 'tides': 28716, 'behalf': 3240, 'resource': 23786, 'jarvis': 15792, 'banker': 2896, 'outree': 20030, 'curls': 7482, 'irish': 15628, 'departments': 8114, 'towns': 29021, 'societies': 26324, 'cleft': 5742, 'palates': 20267, 'afanasyvitch': 1325, 'melteth': 17987, 'enlightened': 10125, 'salary': 24576, 'passer': 20511, 'walter': 31072, 'assiduously': 2390, 'renewing': 23555, 'doctoring': 9047, 'coddling': 5933, 'reveals': 23917, 'vital': 30873, 'jolted': 15919, 'lyagavy': 17347, 'fated': 11028, 'influences': 15096, 'tame': 28131, 'branded': 4108, 'handled': 13389, 'cups': 7456, 'pannikins': 20321, 'chopping': 5506, 'wedge': 31301, 'soaking': 26299, 'fragments': 11972, 'gravy': 12963, 'drying': 9413, 'instances': 15304, 'arising': 2192, 'felon': 11161, 'bondsman': 3903, 'remarking': 23484, 'chilled': 5440, 'elevating': 9808, 'ough': 19969, 'yearn': 31993, 'karl': 16057, 'bernard': 3387, 'possessing': 21711, 'firmness': 11387, 'unmusical': 30112, 'languages': 16442, 'bork': 3972, 'exhaustion': 10604, 'hullo': 14242, 'tracing': 29037, 'paymaster': 20637, 'predetermination': 21885, 'whist': 31487, 'complying': 6277, 'settles': 25307, 'oldmore': 19738, 'finds': 11342, 'intimately': 15485, 'blamed': 3628, 'boisterous': 3878, '_confrere_': 277, 'bourron': 4032, 'medicine': 17932, 'periods': 20866, 'doses': 9170, 'dilate': 8499, 'dullest': 9459, 'sands': 24651, 'esher': 10340, 'effected': 9708, 'oxshott': 20197, 'participation': 20465, 'valuables': 30520, 'lurking': 17323, 'retreat': 23890, 'smallness': 26136, 'income': 14829, 'succeeding': 27552, 'accomplishment': 1034, 'reminding': 23502, 'pensive': 20785, 'justifying': 16031, 'counterpart': 7013, 'portraits': 21694, 'practicality': 21800, 'grate': 12930, 'fluffy': 11618, 'treble': 29212, 'renew': 23552, 'major': 17485, 'disapproval': 8611, 'cock': 5914, 'yo': 32032, 'ho': 13940, 'robinson': 24197, 'nicolas': 19184, 'deign': 7978, 'scowling': 24933, 'perpetrated': 20893, 'harmless': 13477, 'kisses': 16186, 'swandam': 27901, 'behaved': 3242, 'traitors': 29084, 'grudge': 13137, 'pinch': 21207, 'nick': 19177, 'archery': 2137, 'michael': 18140, 'fift': 11284, 'farthen': 10996, 'flap': 11463, 'alluring': 1611, 'surer': 27785, 'funk': 12193, 'fools': 11713, 'panic': 20316, 'betrayal': 3448, 'mitigated': 18425, 'sharper': 25415, 'walkers': 31053, 'hookey': 14066, 'estates': 10372, 'blurted': 3798, 'recover': 23187, 'cowardly': 7094, 'holywood': 14007, 'thoughtfulness': 28588, 'laughingly': 16527, 'performances': 20844, 'reluctance': 23467, 'unfinished': 29930, 'remonstrances': 23521, 'mouthed': 18736, 'katia': 16067, 'glutton': 12717, 'gourmand': 12837, 'petticoat': 21025, 'tortoise': 28962, 'shell': 25466, 'overtakes': 20157, 'monomaniacs': 18545, 'concentrated': 6342, 'meals': 17881, 'expostulating': 10729, 'stray': 27320, 'layman': 16573, 'pony': 21616, 'abrupt': 930, 'displeased': 8855, 'dejectedly': 7987, 'laggard': 16365, 'aboard': 908, 'limb': 16886, 'impulsively': 14732, 'buyers': 4587, 'vendor': 30628, 'loquacity': 17161, 'chirping': 5466, 'coopering': 6841, 'clasped': 5692, 'supplication': 27748, 'fan': 10948, 'ploughing': 21449, 'pants': 20334, 'gravel': 12953, 'summit': 27651, 'commanding': 6108, 'circuit': 5593, 'skirted': 25952, 'covert': 7082, 'ellis': 9835, 'relate': 23410, 'tunstall': 29468, 'shrewdness': 25634, 'benoîton': 3360, 'fichu': 11250, 'blaring': 3648, 'paleness': 20270, 'engendered': 10080, 'misunderstood': 18416, 'insulted': 15347, 'rendezvous': 23549, 'deepest': 7906, 'contortion': 6716, 'temporarily': 28322, 'premium': 21933, 'stamp': 26923, 'included': 14819, 'mercenary': 18046, 'revealed': 23913, 'appreciated': 2058, 'thames': 28444, 'amazon': 1682, 'tested': 28415, 'longitude': 17121, 'animals': 1841, 'vows': 30959, 'transcendental': 29112, 'derided': 8185, 'superiors': 27717, 'altar': 1641, 'rails': 22821, 'bee': 3173, 'scribble': 24972, 'yesternight': 32024, 'humouredly': 14285, 'haunting': 13570, 'python': 22616, 'gaboon': 12250, 'vacant': 30480, 'telescope': 28298, 'opera': 19807, 'mohair': 18477, 'scrubbing': 24987, 'cleaning': 5723, 'cleanliness': 5724, 'glimmered': 12660, 'bidden': 3495, 'museum': 18846, 'hailed': 13301, 'fried': 12069, 'junk': 16008, 'roast': 24178, 'ox': 20192, 'windward': 31640, 'wasteful': 31174, 'cooked': 6821, 'blazed': 3663, 'fuel': 12154, 'sentries': 25233, 'unfitness': 29932, 'darkening': 7673, 'gaboriau': 12251, 'honorary': 14045, 'forces': 11763, 'scrutinising': 24999, 'cynic': 7559, 'sincerely': 25828, 'boulder': 4003, 'birch': 3545, 'trackside': 29044, 'sate': 24698, 'uplifted': 30398, 'heresies': 13802, 'bible': 3486, 'fixedly': 11427, 'classical': 5698, 'personification': 20940, 'alertness': 1541, 'declares': 7856, 'hereabouts': 13797, 'longish': 17120, 'chatterbox': 5322, 'chatted': 5318, 'circuitously': 5595, 'constrainedly': 6633, 'reeled': 23257, 'walnut': 31069, 'incur': 14894, 'fabled': 10829, 'rustic': 24456, 'prayer': 21832, 'spells': 26639, 'compelling': 6221, 'enigmatical': 10110, 'peculiarity': 20687, 'brimmed': 4267, 'brickish': 4215, 'beads': 3083, 'ornaments': 19923, 'plush': 21482, 'earrings': 9583, 'vulgar': 30967, 'pal': 20261, 'climbing': 5788, 'derbies': 8179, 'preconceived': 21877, 'adoration': 1259, 'assign': 2391, 'pigeons': 21164, 'chaises': 5182, 'nave': 19015, 'swaying': 27916, 'ecclesiastics': 9640, 'thronged': 28648, 'overhead': 20098, 'disaster': 8619, 'ringers': 24111, 'ropes': 24281, 'acquiescence': 1113, 'arduous': 2165, 'filipovs': 11314, 'nikon': 19220, 'semyonitch': 25173, 'preferring': 21913, 'indolence': 14976, 'laudable': 16517, 'slovenly': 26100, 'curate': 7459, 'avail': 2627, 'disregarded': 8885, 'stubborn': 27419, 'norfolk': 19313, 'penury': 20793, 'affording': 1365, 'resort': 23778, 'midway': 18166, 'swimming': 27965, 'upturned': 30423, 'fenne': 11180, 'fonder': 11692, 'promotes': 22259, 'spouting': 26766, 'reciting': 23113, 'mourned': 18723, 'julius': 15991, 'caesar': 4645, '_be': 209, 'd_': 7570, '_to_': 765, '_name_': 563, '_norval_': 571, 'arrowes': 2268, 'goode': 12789, 'otheres': 19958, 'deliver': 8022, 'considérant': 6584, 'conspicuous': 6608, 'fourierist': 11944, 'borrowing': 3978, 'tapping': 28166, 'customs': 7534, 'unsafe': 30230, 'prolong': 22243, '_your_': 843, 'cheerfully': 5357, 'economic': 9653, 'tunes': 29463, 'minuets': 18269, 'belinda': 3289, 'befall': 3191, 'extra': 10782, 'warblers': 31106, 'centres': 5128, 'quintets': 22736, 'punishment': 22516, 'overtaken': 20156, 'tremble': 29222, 'ci': 5567, 'gît': 13267, 'piron': 21260, 'ne': 19027, 'fut': 12234, 'rien': 24068, 'même': 18918, 'académicien': 981, 'messire': 18098, 'mein': 17966, 'gott': 12832, 'conducted': 6417, 'seniors': 25189, 'novices': 19405, 'spicarium': 26654, 'smitten': 26180, 'marries': 17710, 'och': 19599, 'moss': 18675, 'manchester': 17568, 'steer': 27074, 'rudder': 24366, 'suffolk': 27597, 'punches': 22501, 'wholesale': 31516, 'inebriety': 15006, 'inconstancy': 14858, 'haughty': 13561, 'austere': 2590, 'shewn': 25486, 'nursed': 19445, 'vestigia': 30719, 'nulla': 19423, 'retrorsum': 23900, 'rearwards': 23036, 'glorious': 12698, 'goal': 12728, 'befitted': 3196, 'crookback': 7320, 'lo': 17028, 'adjurations': 1208, 'removing': 23539, 'tarpaulin': 28180, 'cabin': 4626, 'totter': 28978, 'dass': 7704, 'drug': 9395, 'skylight': 25969, 'elements': 9802, 'quadrillions': 22627, 'quadrillionth': 22628, 'hosannah': 14130, 'overdid': 20081, 'reactionary': 22983, 'comprehended': 6291, 'sociably': 26317, 'cake': 4661, 'craft': 7134, 'seamanship': 25035, 'watchmen': 31190, 'sainted': 24562, 'auberge': 2551, 'entailed': 10163, 'default': 7913, 'heirs': 13744, 'male': 17511, 'ample': 1747, 'attorney': 2535, 'bumpers': 4468, 'entreatingly': 10216, 'eyelashes': 10820, 'apprehensively': 2068, 'explosive': 10715, 'momentous': 18511, 'moulinet': 18704, 'fourier': 11943, 'patriots': 20575, 'tri': 29253, 'cockades': 5916, 'sabres': 24495, 'chalk': 5184, 'comprehension': 6294, 'casement': 4968, 'undertake': 29822, 'marjory': 17677, 'heliotropes': 13749, 'gordon': 12803, 'temporary': 28323, 'obscuration': 19522, 'alleviations': 1589, 'rave': 22948, 'illegible': 14476, 'firstly': 11390, 'generosity': 12451, 'paternal': 20553, 'impress': 14685, 'secondly': 25073, 'extortion': 10781, 'scoop': 24896, 'handfuls': 13378, 'buffalo': 4416, 'awhile': 2707, 'crouched': 7347, 'puffed': 22464, 'nostrils': 19345, 'plugged': 21459, 'sod': 26332, 'mantled': 17629, 'swarthy': 27910, 'mes': 18087, 'camarades': 4711, 'bottrine': 3997, 'vernage': 30697, 'symbolical': 28020, 'exciting': 10549, '30': 111, '000': 0, 'environs': 10241, 'mixture': 18437, 'argued': 2174, 'inclinations': 14811, 'enscombe': 10148, 'inelegance': 15014, 'cheap': 5330, 'effusion': 9727, 'hearkening': 13656, 'breakers': 4158, 'blest': 3691, 'takin': 28101, 'carts': 4958, 'pretending': 22009, 'compromised': 6309, 'peremptorily': 20829, 'admitting': 1243, 'restrict': 23842, 'gender': 12438, 'spain': 26537, 'aaron': 849, 'rod': 24212, 'florins': 11587, 'acts': 1146, 'wilful': 31581, 'sophistry': 26453, 'doubting': 9197, 'profile': 22196, 'geraniums': 12509, 'inhale': 15138, 'undecided': 29781, '_ought_': 597, '_right_': 673, 'exposing': 10725, 'denunciation': 8106, 'section': 25084, 'sketch': 25915, 'bolted': 3887, 'retiring': 23879, 'tastes': 28204, 'unæsthetic': 30381, 'materialism': 17799, 'arts': 2302, 'corot': 6907, 'connoisseur': 6541, 'salvator': 24612, 'bouguereau': 4002, 'pronouncing': 22274, 'putrid': 22600, 'allowing': 1603, 'infection': 15058, 'confirming': 6467, 'removal': 23535, 'importunity': 14661, 'withstood': 31716, 'desirous': 8245, 'fatigues': 11044, 'plotnikov': 21439, 'grocery': 13085, 'wines': 31646, 'bottled': 3995, 'eliseyev': 9825, 'fruits': 12144, 'cigars': 5575, 'landowners': 16431, 'flourished': 11596, 'purchasers': 22534, 'loggerheads': 17082, 'inexperience': 15031, 'snowstorm': 26283, 'sait': 24570, 'il': 14468, 'temps': 28325, 'qu': 22619, 'mettre': 18129, 'chien': 5425, 'dehors_': 7976, 'swoon': 27995, 'yielding': 32031, '_theoretically_': 749, 'brightened': 4251, 'whimsical': 31450, 'million': 18210, 'jostling': 15935, 'swarm': 27906, 'bizarre': 3586, 'mimicking': 18226, 'penitent': 20760, 'lump': 17295, 'instalments': 15301, 'revelations': 23920, 'hamper': 13360, 'corks': 6889, 'eased': 9596, 'sustained': 27869, 'twinge': 29538, 'suborned': 27513, 'sirloins': 25873, 'beef': 3178, 'bribe': 4208, 'permitted': 20887, 'aggravating': 1414, 'heaping': 13648, 'transgressions': 29127, 'insanely': 15231, 'clutches': 5874, 'barmaid': 2952, 'bristol': 4289, 'registry': 23349, 'maddening': 17399, 'upbraided': 30384, 'sheer': 25459, 'goading': 12727, 'supporting': 27760, 'bermuda': 3385, 'dockyard': 9044, 'consoled': 6601, 'goeth': 12757, 'links': 16937, 'kills': 16139, 'scenting': 24836, 'totally': 28975, 'duly': 9463, 'meldrum': 17971, 'workmen': 31808, 'flogged': 11566, 'reverie': 23946, 'earl': 9567, 'unwound': 30376, 'spongy': 26736, 'hacked': 13281, 'roots': 24279, 'overlook': 20110, 'gracefulness': 12864, 'theme': 28483, 'exterior': 10762, 'adorned': 1266, 'dresses': 9319, 'sprained': 26767, 'accumulation': 1056, 'homme': 14025, 'verite': 30691, 'assailant': 2354, 'rankles': 22880, 'nastily': 18984, 'deprive': 8164, 'seventh': 25316, 'evesham': 10454, 'ancestral': 1784, 'tutor': 29511, 'prelude': 21925, 'governs': 12851, 'ungenteel': 29970, 'unfashionable': 29916, 'doatingly': 9034, 'commendation': 6121, 'variation': 30556, 'benevolent': 3351, 'philanthropic': 21064, 'flag': 11435, 'sprinkled': 26790, 'hurrahed': 14330, 'landing': 16424, '_my': 556, 'bedroom_': 3166, 'pavilion': 20622, 'designed': 8233, 'blossom': 3750, 'flutters': 11637, 'coherently': 5963, 'florin': 11586, 'monkey': 18534, 'semyon': 25172, 'shoved': 25609, 'helplessness': 13763, 'fais': 10900, 'que': 22676, 'dois': 9085, 'adviegne': 1306, 'peut': 21034, 'commande': 6104, 'au': 2550, 'stationed': 27001, 'drunkenness': 9408, 'maude': 17838, 'clipping': 5801, 'abide': 890, 'bordeaux': 3958, 'lions': 16944, 'heiress': 13742, 'responsive': 23816, 'tumult': 29457, 'emerge': 9913, 'acton': 1141, 'mobile': 18451, 'penetrating': 20754, 'externally': 10768, 'samson': 24627, 'amendment': 1702, 'sluggish': 26107, 'hedges': 13714, 'snipes': 26257, 'gets': 12525, 'disproportion': 8866, 'affluent': 1361, 'stornaway': 27252, 'supporter': 27758, 'ambitious': 1690, 'astray': 2446, 'judicious': 15979, 'construction': 6639, 'attendance': 2514, 'fish': 11392, 'counted': 7001, 'limpets': 16910, 'shells': 25468, 'buckies': 4399, 'periwinkle': 20872, 'poultry': 21770, 'fowl': 11956, 'ritual': 24153, 'madmen': 17413, 'newcastle': 19150, 'balls': 2846, 'palace': 20262, 'crystal': 7406, 'edifices': 9680, 'flats': 11477, 'cheat': 5337, 'bawling': 3064, 'usurer': 30464, 'capper': 4822, 'unbounded': 29691, 'thrashing': 28605, 'insolent': 15277, 'pimply': 21203, 'greasy': 12975, 'jeer': 15811, 'honneur': 14040, 'allude': 1606, 'romanticism': 24252, 'insulting': 15350, 'prod': 22160, 'kick': 16116, 'pulse': 22487, '_lord_': 506, '_sir_': 713, 'annihilation': 1863, 'disappoint': 8604, 'unbecoming': 29670, 'nightcap': 19197, 'substituted': 27536, 'bend': 3333, 'steered': 27075, 'gigs': 12561, 'primed': 22067, 'birdy': 3549, 'steve': 27112, 'musgrave': 18847, 'unwary': 30351, 'adopt': 1254, 'pilfer': 21178, 'grumble': 13148, 'tramping': 29092, 'conducting': 6418, 'prudence': 22415, 'parliament': 20424, 'carpet': 4925, 'cushion': 7523, 'featured': 11110, 'inflexibility': 15086, 'gait': 12273, 'amply': 1749, 'unbending': 29678, 'divisions': 9022, 'mob': 18449, 'lavender': 16548, 'scantily': 24796, 'encumbered': 10017, 'superfluous': 27708, 'seals': 25031, 'wristbands': 31912, 'grain': 12881, 'pharos': 21049, 'undoubted': 29864, 'duel': 9436, 'establishing': 10368, 'wounding': 31857, 'canny': 4774, 'bloody': 3745, 'curtly': 7504, 'halter': 13341, 'straighter': 27279, 'demand': 8039, 'turnip': 29488, '_mon': 543, 'heure': 13838, 'sonnée': 26434, 'shrew': 25631, 'misgave': 18348, 'gathers': 12402, 'hoarsely': 13947, 'discontented': 8672, 'cherishing': 5383, 'comparative': 6198, 'impulses': 14729, 'reservation': 23736, 'severity': 25326, 'compensations': 6227, 'approving': 2090, 'obliterate': 19511, 'praises': 21816, 'throes': 28644, 'longings': 17119, 'freedom': 12020, 'transforming': 29125, 'waters': 31210, '_ah': 170, 'bête': 4614, 'enfin_': 10067, 'remembers': 23492, 'luther': 17336, 'inkstand': 15181, 'throws': 28655, 'pence': 20740, 'repton': 23673, 'flown': 11608, 'cages': 4652, 'guns': 13234, 'bayton': 3072, 'clicking': 5776, 'castanets': 4990, 'constitutes': 6627, 'tracts': 29047, 'demolishing': 8057, 'axes': 2719, 'serves': 25284, 'lasts': 16498, 'quivered': 22744, 'fiddle': 11256, 'witty': 31729, 'differed': 8453, 'india': 14929, 'ravenously': 22954, 'childlike': 5435, 'arouse': 2236, 'mourners': 18725, 'outlived': 20016, 'flags': 11440, 'relapsed': 23408, 'episode': 10260, 'outlet': 20010, 'dreamily': 9299, 'shalt': 25376, 'contrite': 6746, 'hospitable': 14134, 'precedent': 21852, 'uneasily': 29882, 'wimpole': 31611, 'trevor': 29251, 'tempestuous': 28317, 'thirtieth': 28561, 'averted': 2652, 'sandals': 24642, 'prate': 21824, 'cells': 5109, 'brethren': 4196, 'rye': 24474, 'lentils': 16724, 'lauds': 16520, 'matins': 17811, 'guillotine': 13201, 'aristocrats': 2196, 'believers': 3283, '_everything_': 354, 'didnae': 8442, 'soulis': 26490, 'whaur': 31397, 'saughs': 24723, 'speerit': 26632, 'glowerin': 12710, 'een': 9702, 'gaun': 12406, 'wi': 31530, 'wund': 31945, 'fuff': 12155, 'oot': 19793, 'gaed': 12255, 'skrieghed': 25958, 'kenned': 16089, 'trance': 29097, 'trew': 29252, 'slaves': 26013, 'deary': 7775, 'roi': 24228, 'camarade': 4710, 'trow': 29362, 'bides': 3500, 'blunderbuss': 3785, 'potz': 21762, 'tausend': 28226, 'iv': 15725, 'preoccupied': 21944, 'lease': 16623, 'welfare': 31340, 'industrious': 15003, 'underhand': 29797, 'deserving': 8228, 'tenants': 28338, 'oppressed': 19835, 'utility': 30468, 'charity': 5279, 'dearer': 7771, 'glossy': 12704, 'calmness': 4702, 'ensured': 10161, 'unnoticed': 30121, '_i': 441, 'defiantly': 7941, 'lurched': 17311, 'frosted': 12122, 'blur': 3793, 'hazarded': 13604, 'monotony': 18554, 'monosyllables': 18550, 'flagged': 11437, 'bumping': 4469, 'smoothness': 26198, 'gaped': 12336, 'fleeting': 11517, 'slammed': 25982, 'raving': 22960, 'tape': 28157, 'kozel': 16280, 'très': 29417, 'curieux': 7470, 'sérieux_': 28056, 'released': 23430, 'stored': 27238, 'topics': 28925, 'hubbub': 14212, 'charmingly': 5293, 'amusingly': 1760, 'exhaust': 10602, 'cuttingly': 7549, 'luncheon': 17304, 'occultism': 19580, 'tampered': 28137, 'lippevechsel': 16947, 'irresponsible': 15668, 'revoir': 23980, 'boast': 3819, 'reverent': 23943, 'afflicted': 1357, 'goblets': 12735, 'chestnuts': 5400, 'sputtered': 26815, 'noisily': 19280, 'abode': 910, 'shafters': 25360, 'ending': 10037, 'grotesquely': 13106, 'halo': 13337, 'woodwork': 31776, 'haft': 13290, 'axed': 2718, 'terrific': 28400, 'edged': 9674, 'dagger': 7586, 'kid': 16120, 'butts': 4582, 'loathing': 17041, 'indiscretion': 14957, 'smacking': 26130, 'niche': 19173, 'column': 6055, 'uncertainty': 29715, 'spoiling': 26723, '_sine': 712, 'qua': 22620, 'non_': 19291, 'oats': 19474, 'wheel': 31403, 'gobble': 12733, 'commercial': 6132, 'shocks': 25549, 'financier': 11336, 'forecasts': 11779, 'investments': 15576, 'beguiling': 3237, 'wended': 31352, 'sobs': 26314, 'flooded': 11569, 'weaving': 31292, 'splinter': 26710, 'pane': 20306, 'starved': 26985, 'intentness': 15396, 'lachrymose': 16331, 'approve': 2086, 'toilet': 28859, 'unhappiness': 29996, 'dissatisfaction': 8895, 'hunger': 14302, 'appeased': 2016, 'longing': 17118, 'newly': 19158, 'excellence': 10517, 'adapted': 1165, 'discourses': 8689, 'unlimited': 30072, 'resolving': 23776, 'habitude': 13277, 'incommoded': 14831, 'ejaculations': 9761, 'discussing': 8711, 'impose': 14662, 'thumped': 28672, 'evince': 10463, 'supreme': 27777, 'hasting': 13532, 'foes': 11650, 'lilacs': 16881, 'trellice': 29219, 'dinners': 8544, 'imaginable': 14510, 'pinewoods': 21219, 'kerchief': 16103, 'rippled': 24134, 'quietest': 22724, 'created': 7196, 'blot': 3754, 'disenchanted': 8726, 'pitied': 21287, 'responses': 23811, 'gap': 12334, 'trod': 29322, '_alea': 173, 'jacta': 15760, 'quaver': 22671, 'fearlessly': 11092, 'doorstep': 9149, 'prey': 22044, 'maniacal': 17586, 'hotbed': 14153, 'devils': 8366, 'congratulated': 6505, 'quaint': 22634, 'braggart': 4085, 'proclaim': 22148, 'blab': 3587, 'quotes': 22757, 'balzac': 2858, 'naturalist': 19001, 'canter': 4786, 'roars': 24177, 'clasping': 5693, 'trampled': 29094, 'pardner': 20395, 'pardners': 20396, 'swindling': 27971, 'forging': 11847, 'traps': 29168, 'profits': 22204, 'palest': 20273, 'intermission': 15437, 'endearments': 10027, 'thanking': 28452, 'taylor': 28239, 'grievous': 13033, 'dependent': 8121, 'wrathfully': 31874, 'glittered': 12676, 'ladybird': 16358, 'gruff': 13144, 'soaked': 26298, 'lamed': 16390, 'stung': 27453, 'nettles': 19138, 'briars': 4207, 'limped': 16909, 'shivered': 25538, 'chattered': 5323, 'rotted': 24295, 'irritability': 15676, 'explosion': 10713, 'lent': 16722, 'questioner': 22702, 'vexed': 30730, 'mornin': 18640, 'stirrin': 27176, 'apes': 1967, 'apples': 2035, 'assemblin': 2366, 'eagled': 9562, 'jabbered': 15738, 'tyin': 29566, 'creepers': 7223, 'wanderin': 31086, 'ape': 1965, 'missin': 18382, 'bleedin': 3676, 'glassy': 12635, 'tufts': 29441, 'gloated': 12681, 'cowed': 7096, 'pressmen': 21994, 'slanged': 25991, 'inmate': 15186, 'blushes': 3803, 'deprecating': 8151, 'trifon': 29286, 'nevada': 19145, 'manage': 17559, 'electro': 9794, 'telegraphs': 28294, 'vi': 30732, 'dent': 8101, 'hotly': 14157, 'astral': 2444, 'plane': 21336, 'bomb': 3892, 'stinging': 27159, 'exploded': 10704, 'ignaty': 14446, 'dire': 8563, 'sevastopol': 25310, 'tommy': 28892, 'embitterment': 9887, 'boyish': 4061, 'enchantment': 9987, 'softened': 26340, 'endowed': 10043, 'void': 30910, 'consummation': 6653, 'unobserved': 30124, 'frenchman': 12037, '_lives': 502, 'saints_': 24567, 'statistics': 27008, '_can_': 243, 'recognize': 23137, 'dawn': 7728, 'capture': 4845, 'marksmen': 17694, 'willow': 31600, 'ensconced': 10149, 'boughs': 4000, 'vagaries': 30493, 'developments': 8351, 'appreciate': 2057, 'moonless': 18594, 'allerton': 1585, 'pearson': 20669, 'moulton': 18706, 'buzzing': 4595, 'gipsies': 12579, 'stealers': 27039, 'rifles': 24074, 'plausible': 21376, 'searched': 25043, 'tracks': 29043, 'spilt': 26671, 'superciliously': 27702, 'disguised': 8746, 'talented': 28108, 'celebrated': 5100, 'eloquent': 9845, 'appeals': 2008, 'sensibilities': 25203, 'temple': 28319, 'champions': 5202, 'verdict': 30676, 'reëcho': 24005, 'disheartened': 8754, 'troika': 29325, 'dashes': 7702, 'imploring': 14644, 'nations': 18995, 'apparition': 2003, 'enlightenment': 10126, 'civiodintion': 5633, 'tempt': 28326, 'crowding': 7355, 'foe': 11647, 'methought': 18123, 'outrageously': 20028, 'untrained': 30335, 'lunging': 17307, 'disservice': 8906, 'perfections': 20838, 'dissemble': 8898, 'singled': 25845, 'advisable': 1308, 'selecting': 25150, 'resume': 23851, 'poisoning': 21533, 'factor': 10850, 'vicar': 30741, 'iniquity': 15158, 'disorders': 8819, 'principality': 22081, 'cherish': 5381, 'spied': 26661, 'windmill': 31631, 'granary': 12890, '_bear_': 211, '_once_': 592, 'fords': 11770, 'firth': 11391, 'resuming': 23853, 'contend': 6682, 'disadvantage': 8587, 'quickest': 22712, 'rates': 22932, 'signalling': 25745, 'nurses': 19448, 'frequent': 12044, 'funerals': 12188, 'clasp': 5691, 'unshaven': 30258, 'grimed': 13045, 'welcoming': 31336, 'sipping': 25867, 'hail': 13300, 'calais': 4666, 'treasured': 29199, 'unmindful': 30102, 'inconvenient': 14869, 'employing': 9959, 'brevity': 4199, 'gayly': 12418, 'yer': 32017, 'superadded': 27697, 'smalls': 26138, 'biggest': 3515, 'pitiless': 21291, 'municipal': 18812, 'commissioner': 6147, 'elected': 9789, 'votes': 30946, 'ruffians': 24386, 'assessments': 2380, 'taxes': 28236, 'notoriously': 19379, 'slurred': 26121, 'bribed': 4209, 'auditors': 2562, 'terrorized': 28407, 'blackmail': 3606, 'emptying': 9970, 'illustration': 14498, 'asperity': 2342, 'noblest': 19254, 'rash': 22917, 'magwitch': 17447, 'kondratyevna': 16272, 'apology': 1985, 'wailings': 31014, 'violin': 30832, 'pondering': 21607, 'unravel': 30184, 'unsuccessful': 30296, 'reduced': 23241, 'warily': 31128, 'switch': 27988, 'switches': 27990, 'minnie': 18261, 'lurch': 17310, 'crossbow': 7333, 'hybrid': 14368, 'dialect': 8413, 'necked': 19053, 'helmet': 13753, 'gambesson': 12305, 'slashed': 26000, 'contended': 6683, 'boastful': 3822, 'floored': 11575, 'facers': 10837, 'cato': 5043, 'plato': 21370, 'reasonest': 23043, 'warrants': 31150, 'promissory': 22254, 'gleams': 12642, 'motor': 18695, 'widespread': 31549, 'tidying': 28723, 'valise': 30513, 'systematically': 28052, 'strapped': 27304, 'chauffeur': 5327, 'moustache': 18732, 'resigns': 23761, 'vigil': 30770, 'overspread': 20145, 'shamefaced': 25383, 'block': 3722, 'parfen': 20411, 'furs': 12217, 'malefactor': 17513, 'penalty': 20738, 'linguist': 16930, 'grammarian': 12887, 'mathematician': 17807, 'imaginist': 14520, 'foresight': 11813, 'groundwork': 13111, 'anticipation': 1915, 'flinched': 11540, 'expansiveness': 10644, 'hinged': 13908, 'strikingly': 27369, 'unmistakable': 30105, 'african': 1387, 'hunchback': 14297, 'disconcerted': 8664, 'slightingly': 26060, 'spying': 26819, 'carfax': 4892, 'pitcher': 21276, 'embrasure': 9902, 'ury': 30442, 'umble': 29609, 'matrimonial': 17814, 'duration': 9498, 'conceded': 6331, '_passons': 620, 'parenthesis': 20405, 'verbosity': 30674, 'stupidity': 27464, 'risky': 24149, 'muddled': 18764, 'persuading': 20958, 'publish': 22452, 'unhorsed': 30007, 'foi': 11659, 'lure': 17316, 'chicks': 5414, 'fowler': 11957, 'pennon': 20772, 'anchors': 1789, 'trumpets': 29388, 'benison': 3357, 'assent': 2369, 'inferred': 15068, 'advocate': 1315, 'ingrate': 15123, 'passionately': 20517, 'excision': 10540, 'hayter': 13601, 'pretensions': 22013, 'hayters': 13602, 'existing': 10632, 'appin': 2028, 'durie': 9500, 'graeme': 12878, 'snigger': 26254, 'desirable': 8237, 'preserver': 21979, 'taunton': 28224, 'joyce': 15960, 'riveted': 24163, 'diamonds': 8420, 'distinguishable': 8942, 'dictator': 8433, 'manoeuvring': 17614, 'extricated': 10804, 'tiara': 28697, 'ray': 22967, 'hartley': 13509, 'ruby': 24364, 'emerald': 9911, 'interlacing': 15424, 'crescents': 7235, 'pear': 20664, 'pendants': 20743, 'serene': 25255, 'associating': 2406, 'shady': 25357, 'whilst': 31443, 'climb': 5784, 'exeter': 10600, '_one_': 593, 'fanciful': 10956, 'troublesome': 29351, 'playfully': 21384, 'apocalypse': 1972, 'molest': 18497, 'abiding': 892, 'turkish': 29478, 'reclining': 23129, 'discomfort': 8657, 'comments': 6130, 'cleverness': 5770, 'deeming': 7900, 'renowned': 23564, 'fulfil': 12160, 'muodin': 18817, 'boulevard': 4005, 'releasing': 23431, 'behoof': 3257, 'forgit': 11848, 'debilitating': 7796, 'prodigygality': 22166, 'stimilated': 27146, 'olesome': 19740, 'forefathers': 11780, 'sported': 26749, 'fare': 10974, 'brewed': 4201, 'morn': 18639, 'dishonorable': 8763, 'stability': 26868, 'amusements': 1757, 'queerness': 22685, 'damned': 7619, 'prick': 22049, 'indirect': 14953, 'desmond': 8250, 'eliminate': 9821, 'sedulously': 25112, 'repairing': 23579, 'shirts': 25536, 'packing': 20217, 'oilskin': 19731, 'impudence': 14725, 'compressed': 6298, 'stopping': 27233, 'transparent': 29144, 'poorly': 21629, 'diffident': 8465, 'execution': 10581, 'schneider': 24855, 'vacating': 30484, 'dover': 9208, 'wavered': 31224, 'dares': 7663, 'autobiographers': 2613, 'states': 26995, '1812': 52, 'boatswain': 3833, 'anderson': 1798, 'title': 28821, 'coxswain': 7109, 'israel': 15705, 'wily': 31610, 'flabby': 11433, 'kindnesses': 16160, 'zealous': 32072, 'carries': 4935, 'survivors': 27847, 'stubbs': 27422, 'paint': 20251, 'sketches': 25917, 'dictionary': 8436, 'blubbered': 3772, 'missis': 18387, 'murdering': 18825, 'char': 5249, 'lotte': 17187, 'roger': 24222, 'burly': 4517, 'overcrowed': 20080, 'railing': 22815, 'whipped': 31459, 'boudoir': 3998, 'detailing': 8311, 'whirling': 31466, 'outskirts': 20040, 'podincution': 21495, 'allowable': 1599, 'entertainment': 10181, 'waverings': 31228, 'variations': 30557, 'dissipate': 8911, 'binds': 3540, 'unendurable': 29890, 'condemning': 6391, 'pondered': 21606, 'vanquished': 30543, 'subsided': 27524, 'build': 4430, 'instruction': 15330, 'shoves': 25613, 'stabs': 26872, 'helmsman': 13755, 'forked': 11857, 'matinée': 17812, 'verses': 30705, 'rigged': 24079, 'assuring': 2426, 'packed': 20214, 'scandalous': 24790, 'filched': 11304, 'unluckily': 30083, 'undesirable': 29844, 'auntie': 2583, 'unseemly': 30244, 'invisible': 15586, 'rafter': 22799, 'lumber': 17286, 'roofless': 24264, 'withheld': 31710, 'rasping': 22923, 'easter': 9605, 'twickenham': 29531, 'morals': 18622, '_their_': 745, 'access': 999, 'attribute': 2543, 'witnessing': 31721, 'using': 30458, 'considerate': 6577, 'misha': 18354, 'lank': 16449, 'necks': 19057, 'rocked': 24207, 'indecision': 14903, 'bulldog': 4449, 'popham': 21633, 'vantage': 30546, 'outwards': 20051, 'inwards': 15609, 'erect': 10297, 'notch': 19350, 'swordsman': 28004, 'whetstone': 31429, 'sloping': 26088, 'pommel': 21593, 'tapering': 28159, 'habitually': 13275, 'rehearse': 23367, 'comparing': 6203, 'sympathising': 28032, 'manhood': 17583, 'rede': 23218, 'thickens': 28515, 'strangled': 27300, 'blotted': 3759, 'sheeted': 25462, 'inundation': 15533, 'perishing': 20871, 'studied': 27428, 'conning': 6538, 'gradual': 12875, 'initiation': 15162, 'fails': 10878, 'trembler': 29224, 'aisle': 1496, 'wakened': 31039, 'prating': 21825, 'memorable': 18000, 'milder': 18183, 'radiance': 22785, 'twittering': 29556, 'smallridge': 26137, 'indelicacy': 14917, 'dixon': 9028, 'flaring': 11469, 'fixture': 11431, 'ascent': 2309, 'maders': 17406, 'latin': 16512, 'briskly': 4282, 'suitor': 27623, 'poison': 21529, 'partaker': 20453, 'mirk': 18287, 'rim': 24100, 'crawled': 7176, 'ferns': 11194, 'babylon': 2750, 'undergone': 29791, 'vicissitudes': 30748, 'ignobly': 14450, 'linked': 16934, 'associations': 2408, 'reciprocate': 23103, 'confer': 6430, 'quantity': 22648, '_where': 821, 'boarded': 3814, 'shots': 25593, 'pirates': 21255, 'swarmed': 27907, 'lunacy': 17299, 'hood': 14057, 'van': 30529, 'conception': 6345, 'grimy': 13051, 'spiders': 26660, 'candid': 4747, 'killing': 16138, 'egging': 9734, 'boxes': 4055, 'adorable': 1258, 'rapturously': 22907, 'enigmatically': 10111, 'pave': 20616, 'charpentier': 5297, 'twilight': 29534, 'moaning': 18445, 'vividly': 30886, 'sings': 25849, 'freshen': 12049, 'scandals': 24791, 'sniffed': 26251, 'worries': 31824, 'troublous': 29353, 'milton': 18223, 'suffers': 27587, 'whims': 31449, 'baden': 2785, 'meekly': 17953, 'inconclusive': 14845, 'boxed': 4052, 'postchaise': 21724, 'barouche': 2965, 'peg': 20720, 'cable': 4630, '9th': 156, 'inst': 15295, 'jeremiah': 15828, 'hayling': 13596, 'hydraulic': 14369, 'engineer': 10082, 'machine': 17381, 'overhauled': 20097, 'fragment': 11970, 'arrangements': 2243, 'arrangement': 2242, 'personages': 20935, 'institutions': 15326, 'destitute': 8294, 'photographed': 21091, 'characteristic': 5254, 'revenues': 23932, 'permanently': 20882, 'revolution': 23986, 'enlarge': 10120, 'firstborn': 11389, 'expedited': 10662, 'suspend': 27856, 'befodin': 3198, 'eastward': 9609, 'volley': 30919, 'fifth': 11286, 'applauding': 2032, 'wildly': 31576, 'fraught': 12009, 'overstep': 20150, 'swayed': 27915, 'cloisters': 5815, 'impel': 14593, 'import': 14649, 'monkish': 18538, 'precepts': 21856, 'embodiment': 9892, 'defiling': 7950, 'cistercian': 5613, 'ban': 2861, 'nones': 19297, 'vespers': 30714, 'communion': 6183, 'maidens': 17456, 'doubly': 9192, 'standpoint': 26941, 'response': 23810, 'tigress': 28741, 'billet': 3526, 'pedantry': 20692, 'methodical': 18119, 'exposition': 10726, 'befitting': 3197, 'deplorable': 8128, 'deviation': 8355, 'prejudicial': 21921, 'delayed': 7993, 'scores': 24904, 'shallow': 25374, 'thinkers': 28537, 'pre': 21836, 'socialistic': 26322, 'leanings': 16610, 'edification': 9678, 'programme': 22219, 'eyeing': 10819, 'rochester': 24205, 'gaol': 12330, 'willson': 31603, 'exporter': 10720, 'agency': 1404, '15': 24, 'pokes': 21541, 'fascinate': 11001, 'serenely': 25256, 'mindedly': 18234, 'frightfully': 12089, 'surrounding': 27833, 'lassitude': 16492, 'jews': 15867, 'resident': 23748, 'inarticulate': 14763, '_six': 714, 'other_': 19957, 'reposition': 23630, 'wits': 31722, 'straws': 27319, 'manifestly': 17593, 'entertain': 10175, 'rodomontade': 24217, 'precipitated': 21866, 'impended': 14595, 'infirmity': 15077, 'bog': 3862, 'floundering': 11593, 'disfavour': 8732, 'skein': 25909, 'western': 31370, 'lattice': 16515, 'bargemen': 2944, 'rinse': 24118, 'misdeed': 18327, 'imagines': 14517, 'unattached': 29657, 'vivacity': 30883, 'feminine': 11169, 'heavenly': 13695, 'nicety': 19172, 'servility': 25290, 'exhibit': 10607, 'milliner': 18207, 'wickedness': 31535, 'essentially': 10362, 'trimmings': 29295, 'inhabit': 15131, 'storms': 27250, 'category': 5031, 'predisposition': 21895, 'obedience': 19478, 'playfulness': 21385, 'cow': 7091, 'destroyers': 8300, '_new_': 566, 'reactionaries': 22982, 'grovelling': 13118, 'tendencies': 28341, 'castigate': 4996, 'perform': 20842, 'chastise': 5313, 'edifying': 9682, 'coble': 5907, 'humouring': 14286, 'harwich': 13517, 'zepplin': 32081, 'mannered': 17607, 'ruminating': 24415, 'reported': 23622, 'aright': 2185, 'spontaneous': 26738, 'untaught': 30313, 'felicity': 11149, 'serviceable': 25287, 'jelland': 15817, 'sentry': 25234, 'histoire': 13926, 'bien': 3507, 'vous': 30956, 'attendais': 2513, 'bonne': 3914, 'amie': 1724, 'raconter': 22781, 'pearly': 20667, 'lightness': 16861, 'transparency': 29143, 'soluble': 26408, 'ensign': 10155, 'calatrava': 4670, 'stroll': 27391, 'muslins': 18866, 'threadbare': 28609, 'petted': 21024, 'defending': 7927, 'pleaded': 21395, 'airlessness': 1491, 'scaffolding': 24770, 'stench': 27085, 'overwrought': 20174, 'revolting': 23984, 'profoundest': 22210, 'exceptionally': 10530, 'slim': 26063, 'accurately': 1061, 'blankness': 3646, 'tangle': 28141, 'tasted': 28201, 'fiendish': 11273, 'fanlight': 10962, 'traitor': 29083, 'straitened': 27287, 'antigua': 1921, 'whichever': 31433, 'jove': 15955, 'motherly': 18685, 'undrew': 29871, 'needle': 19067, '_cher': 255, 'ami_': 1715, 'hi': 13845, 'graver': 12956, 'steadier': 27027, 'passnidge': 20522, 'sheffield': 25464, 'eloquence': 9844, 'pulpit': 22484, 'entitled': 10198, 'preacher': 21839, 'heterogeneous': 13835, 'rouses': 24325, 'fanned': 10963, 'recognized': 23138, 'distrustfulness': 8974, 'unsuspected': 30302, 'poignant': 21514, 'wench': 31349, 'deficiencies': 7942, 'principal': 22080, 'lynch': 17353, 'anno': 1865, 'domini': 9123, 'culprit': 7434, 'duplicate': 9492, 'simpler': 25813, 'originals': 19909, 'christendom': 5521, 'fairer': 10892, 'sweeter': 27937, 'ruffle': 24387, 'convicts': 6800, 'bated': 3031, 'buccaneer': 4390, 'mutterings': 18887, 'steele': 27059, 'orator': 19858, 'emotional': 9938, 'sonorous': 26435, 'pierce': 21151, 'untold': 30331, 'dart': 7689, 'angles': 1828, 'occasioning': 19576, 'fraser': 11997, 'frasers': 11998, 'janet': 15775, '_exigeant_': 356, 'solar': 26361, 'outright': 20031, 'grandfather': 12898, 'blending': 3683, 'deathbed': 7777, 'wanderings': 31088, 'knocker': 16236, 'tap': 28155, 'rusted': 24455, 'bakehouse': 2820, 'loin': 17090, 'hopkins': 14089, 'fork': 11856, 'carolinas': 4913, 'exile': 10623, 'formation': 11866, 'plantations': 21351, 'link': 16933, 'despondingly': 8283, '_must_': 555, 'domesticated': 9109, 'authorised': 2605, 'restraints': 23841, 'licence': 16813, 'rehearsal': 23366, 'tend': 28339, 'amelia': 1696, 'expose': 10722, 'savez': 24742, 'déjà': 9552, 'nom': 19283, 'emigration': 9923, 'nudged': 19417, 'inhalation': 15137, 'terse': 28410, '_table_': 732, 'insufficient': 15344, 'elevation': 9809, 'hailing': 13302, 'tract': 29045, 'bubbles': 4388, 'serpent': 25273, 'boil': 3872, 'landward': 16436, 'salzfish': 24617, 'insisting': 15274, 'morbidly': 18626, 'whisker': 31476, 'meditating': 17940, 'pudding': 22459, 'debating': 7789, 'pantry': 20333, 'tar': 28169, 'imitated': 14530, 'actor': 1142, 'greetings': 13007, 'agafya': 1396, 'latimer': 16511, 'illegal': 14474, 'decoyed': 7874, 'flora': 11582, 'millar': 18203, 'responsible': 23814, 'initials': 15160, 'lured': 17317, 'horner': 14100, 'flinging': 11543, 'yacht': 31959, 'polo': 21580, 'olympia': 19747, 'boxing': 4056, 'astute': 2453, 'formalities': 11863, 'splintered': 26711, 'lance': 16414, 'spear': 26584, 'chaplain': 5241, 'groining': 13088, 'embossed': 9896, 'honeycombed': 14034, 'superfluity': 27707, 'pierced': 21152, 'trefoils': 29218, 'glazed': 12637, 'circulated': 5598, 'tapers': 28160, 'unmercifully': 30100, 'blown': 3768, 'phases': 21051, 'semi': 25167, 'eclipse': 9649, 'attired': 2533, 'hudson': 14219, 'jointed': 15905, 'darned': 7686, 'betokened': 3445, 'inward': 15607, 'dealt': 7769, 'illusions': 14495, 'accusations': 1064, 'wider': 31548, 'essendean': 10360, 'greek': 12993, 'harold': 13487, 'noises': 19279, 'slam': 25981, 'total': 28973, 'deviated': 8353, 'concubine': 6381, 'scorn': 24905, 'bargaining': 2940, 'crupp': 7393, 'burner': 4520, 'faggot': 10866, 'bustling': 4555, 'busied': 4545, 'brooch': 4328, 'beddoes': 3154, 'eluded': 9852, 'stifle': 27133, 'significance_': 25753, 'initiatory': 15164, 'galloping': 12298, 'mien': 18169, 'salet': 24582, 'refreshed': 23297, 'reciprocated': 23104, 'cabriolet': 4633, 'bethnal': 3439, 'sayings': 24764, 'rejoicing': 23400, 'basking': 3019, '_chère': 264, 'chère': 5566, 'pottage': 21758, 'annuities': 1878, 'convince': 6801, 'crush': 7394, 'drivers': 9350, 'millingtary': 18209, 'timely': 28768, 'precisian': 21873, 'hinging': 13911, 'brownish': 4354, 'stains': 26897, 'rust': 24454, 'reliable': 23440, 'laity': 16379, 'regulate': 23361, 'clergy': 5753, 'kingdom': 16166, 'humility': 14274, 'dictates': 8430, 'leads': 16591, 'neglecting': 19085, 'habitual': 13274, 'prefaced': 21901, 'motion': 18688, 'hunsford': 14310, 'bourgh': 4030, 'ensuing': 10159, 'affability': 1331, 'condescension': 6398, 'include': 14818, '_should_': 710, 'blabbed': 3588, 'bankers': 2897, 'safes': 24538, 'streatham': 27333, 'gouty': 12841, 'distract': 8951, 'dot': 9175, 'certaid': 5142, 'cad': 4638, 'sprite': 26793, 'idquire': 14438, 'blazing': 3665, 'profited': 22201, 'veneration': 30634, 'charitable': 5276, 'passengers': 20510, 'disembarkation': 8723, 'fisher': 11394, 'wester': 31367, 'proximity': 22413, 'helpful': 13759, 'humiliated': 14270, 'strayed': 27321, 'uneducated': 29885, 'populous': 21647, 'fogies': 11656, 'devilishly': 8363, 'philosopher': 21073, 'bareheaded': 2934, 'voting': 30947, 'tolerable': 28868, 'leptic': 16737, 'tombstone': 28888, 'whatsume': 31395, 'er': 10291, 'failings': 10877, 'pitiful': 21288, 'quieter': 22723, 'fourpence': 11945, 'tin': 28779, 'byzantine': 4612, 'pattern': 20599, 'fished': 11393, 'judas': 15968, 'drunkards': 9406, 'bouman': 4007, 'highland': 13871, 'lowland': 17231, 'nainsel': 18933, 'deeper': 7905, 'sadness': 24530, 'beaulieu': 3120, 'eatable': 9612, 'tong': 28900, 'imperceptible': 14601, 'deathlike': 7780, 'stillness': 27142, 'jurymen': 16020, 'mature': 17831, 'tigerish': 28732, 'gang': 12326, 'perversion': 20986, 'proficiency': 22194, 'atom': 2480, 'universe': 30052, 'plus': 21481, 'minus': 18270, 'tough': 28990, 'errant': 10311, 'ebro': 9630, 'tobias': 28841, 'banner': 2905, 'proceeds': 22143, 'tinkling': 28792, 'thud': 28662, 'clattering': 5706, 'hacking': 13282, 'dabbled': 7574, 'stooping': 27225, 'northampton': 19326, 'regaled': 23320, 'foremost': 11798, 'recommending': 23157, 'repainted': 23576, 'apprentice': 2070, 'elect': 9788, 'transfer': 29114, '_free_': 386, 'thyself': 28694, 'rebel': 23061, 'straits': 27288, 'marvels': 17746, 'insoluble': 15279, 'crawl': 7175, 'fawning': 11079, 'mastiff': 17786, 'pup': 22521, 'bespoken': 3422, 'zhutchka': 32084, 'pedigree': 20698, 'feebly': 11126, 'unnerved': 30120, 'stoical': 27197, 'readers': 22989, 'menials': 18028, 'ogres': 19724, 'rigorous': 24094, 'nectar': 19060, 'debasing': 7786, 'juice': 15988, 'grape': 12914, 'outlandish': 20005, 'stimulant': 27147, 'cakes': 4663, 'barefaced': 2931, 'flavour': 11490, 'sprinkle': 26789, 'contrasting': 6740, 'pillar': 21188, 'pastry': 20536, 'satisfying': 24711, 'insipid': 15267, 'denouncing': 8095, 'penal': 20736, 'accuse': 1066, 'calamities': 4667, 'famine': 10943, 'leprosy': 16736, 'enlarged': 10121, 'supportable': 27756, 'vices': 30744, 'steamboats': 27046, 'truthful': 29408, 'unites': 30046, 'polluted': 21577, 'entangled': 10166, 'rarity': 22913, 'uniting': 30047, 'expediency': 10659, 'ablaze': 899, 'ee': 9700, 'wotever': 31850, 'hola': 13974, 'cooke': 6820, 'harward': 13516, 'bligh': 3693, 'foully': 11931, 'mopping': 18613, 'bandanna': 2871, 'entreating': 10215, 'undertones': 29830, 'murmurs': 18835, 'advertisements': 1302, 'wales': 31049, 'parents': 20408, 'guardians': 13168, 'hunter': 14313, 'porter': 21680, 'laughably': 16523, 'drenching': 9313, 'gutters': 13255, 'dedicate': 7884, 'glimmering': 12661, 'odinion': 19645, 'brae': 4082, 'saddest': 24521, '_wandering': 808, 'willie_': 31595, 'linger': 16925, 'prettily': 22024, 'unreserved': 30213, 'concise': 6366, '_tête': 779, 'tête_': 29587, 'brightest': 4254, 'disputation': 8872, 'unconcerned': 29750, 'bravado': 4124, 'pirate': 21254, 'hastie': 13529, 'sour': 26504, 'almighty': 1619, 'infamous': 15044, 'pry': 22422, 'journeyed': 15946, 'domains': 9105, 'garb': 12340, 'clump': 5859, 'roadside': 24168, 'trailing': 29073, 'bagging': 2799, 'clogged': 5812, 'shambling': 25380, 'mohocks': 18480, 'rakes': 22843, 'grinders': 13056, 'senorita': 25193, 'constantine': 6619, 'waged': 30993, 'soldan': 26363, 'damascus': 7609, 'tribute': 29266, 'levied': 16773, 'cham': 5188, 'tartary': 28187, 'cathay': 5035, 'coronet': 6906, 'cruelty': 7380, 'cats': 5044, 'theologians': 28488, 'halts': 13344, 'element': 9799, 'animosity': 1847, 'spice': 26655, 'mingle': 18244, 'ransom': 22886, 'spaniard': 26542, 'ravine': 22958, 'tooth': 28917, 'corsican': 6953, 'vendetta': 30627, 'majority': 17488, 'nonchodint': 19293, 'edges': 9675, 'veins': 30618, 'humph': 14291, 'pickles': 21128, 'hedgehog': 13713, 'abstinence': 952, 'watercresses': 31198, 'inimitable': 15155, 'charade': 5260, 'conditionally': 6402, 'pleading': 21396, '1733': 37, '12th': 15, 'meester': 17958, 'boss': 3982, 'puns': 22519, 'jotted': 15937, 'decorations': 7868, 'sub': 27483, 'titles': 28822, 'patriotism': 20574, 'sinclair': 25830, 'barclay': 2928, 'oftentimes': 19719, 'awize': 2708, 'narrower': 18976, 'proportionally': 22307, 'tracery': 29034, 'oaks': 19463, 'knotty': 16246, 'robin': 24196, 'netted': 19133, 'friday': 12068, 'holloa': 13996, 'quailed': 22633, 'swooned': 27996, 'frightful': 12088, 'shadowed': 25353, 'burglaries': 4503, 'blooded': 3734, 'pistolling': 21269, 'masked': 17753, 'recruited': 23196, 'waning': 31093, 'serfs': 25261, 'grade': 12871, '_but_': 236, 'rewaking': 23998, 'vaunting': 30592, 'volatile': 30912, 'harking': 13468, 'mathematics': 17808, 'quotation': 22753, 'eckermann': 9647, '_voodooism': 805, 'religions': 23455, 'hither': 13935, 'amazons': 1684, 'steed': 27055, 'aris': 2188, 'cra': 7116, 'cy': 7552, 'starry': 26970, 'babbling': 2737, 'skillfully': 25931, 'throb': 28640, 'reminder': 23501, 'esther': 10378, 'vashti': 30574, 'jonah': 15922, 'whale': 31387, 'parables': 20353, 'luke': 17276, 'apostles': 1990, 'conversion': 6788, 'careys': 4891, 'newton': 19164, 'whitwell': 31510, 'bootlaces': 3952, 'practise': 21805, 'economy': 9660, 'crashing': 7165, 'caverns': 5078, 'interposing': 15448, 'alter': 1643, 'inference': 15061, 'greece': 12987, 'unceremoniously': 29711, 'pursuits': 22582, 'militia': 18196, 'embodied': 9891, '_that': 740, 's_': 24483, 'disgorge': 8737, 'torrent': 28955, 'lancastrian': 16412, 'rebecca': 23059, 'drolling': 9361, 'ingenious': 15116, 'innovation': 15200, 'foolery': 11705, 'ferapont': 11185, 'dispersed': 8843, 'hastening': 13527, 'frantic': 11992, 'outcries': 19986, 'bigots': 3520, 'dejection': 7988, 'thronging': 28649, 'beggars': 3214, 'walters': 31073, '_really_': 662, 'caligraphist': 4686, 'japanned': 15784, 'somewheres': 26424, 'crowds': 7356, 'forbear': 11748, 'benedict': 3338, 'piccadilly': 21119, 'unfixed': 29935, 'commissioned': 6146, 'suverin': 27875, 'follies': 11678, 'inconsistencies': 14854, 'divert': 9003, 'destroyer': 8299, '_cette': 252, 'charmante': 5289, 'personne_': 20942, 'publicity': 22450, 'princes': 22076, 'hussars': 14354, 'secretaries': 25077, 'embassies': 9877, 'poets': 21511, 'novelists': 19398, 'socialists': 26323, 'pebble': 20677, 'plotting': 21445, 'scheming': 24851, 'beetle': 3188, 'fairbairn': 10891, 'chipped': 5463, 'blacker': 3596, '_sensible_': 701, 'blindly': 3703, 'puzzles': 22606, 'mastered': 17774, 'carafe': 4853, 'undid': 29850, 'calls': 4695, 'pirrip': 21264, 'philip': 21067, 'explicit': 10702, 'harried': 13493, '_alone_': 178, 'jessie': 15841, 'rejoiced': 23398, 'trivialities': 29320, 'beetles': 3189, 'idiots': 14425, 'elytra': 9857, 'expounding': 10735, 'anatomy': 1780, 'inspiring': 15292, 'straighten': 27276, 'dilated': 8500, 'poisoned': 21530, 'apprehend': 2062, 'swamp': 27895, 'clenching': 5750, 'jerusalem': 15840, 'whimpering': 31447, 'warped': 31147, 'wrested': 31887, 'involving': 15604, 'gallantries': 12284, 'politenesses': 21564, 'washington': 31166, 'extravagant': 10794, 'popularity': 21642, 'antipathies': 1925, 'disfiguring': 8736, 'allusions': 1614, 'besmirched': 3412, 'disastrous': 8620, 'comradeship': 6321, 'intolerant': 15495, 'aggressive': 1418, 'puffing': 22465, 'briar': 4205, 'propositions': 22320, 'glacier': 12607, 'shimmer': 25506, 'devilment': 8364, 'humor': 14278, 'casks': 4980, 'minding': 18238, 'sources': 26506, 'chillip': 5442, 'bally': 2847, 'toes': 28851, 'perfection': 20837, 'tushin': 29504, 'demure': 8072, 'pretense': 22011, 'forearms': 11774, 'masks': 17754, 'begone': 3225, 'cringingly': 7274, 'hiccup': 13847, 'discourtesy': 8692, 'methinks': 18116, 'submissively': 27507, 'elegantly': 9798, 'bridesmaids': 4224, 'salts': 24599, 'twelvemonth': 29525, 'etiquette': 10399, 'strictest': 27357, 'martial': 17730, 'larionoff': 16478, 'commander': 6106, 'kolpakoff': 16270, 'corporal': 6910, 'brigade': 4241, 'battalion': 3041, 'infantry': 15050, 'novozemlianski': 19407, 'harrowing': 13500, 'alienation': 1559, 'soliciting': 26386, 'augmented': 2569, 'assumes': 2417, 'aberration': 881, 'paroxysm': 20434, 'require': 23702, 'childishly': 5432, 'solicited': 26385, 'twopence': 29560, 'lemon': 16705, 'stunners': 27455, 'sweetmeat': 27942, 'oyster': 20199, 'twins': 29544, 'propitious': 22304, 'postscript': 21739, 'needlessly': 19071, 'anonymous': 1886, 'gentry': 12491, 'tracey': 29036, 'junior': 16007, 'pheasant': 21052, 'companionably': 6194, 'attraction': 2539, 'cherub': 5390, 'mihail': 18175, 'osipovitch': 19939, 'wronged': 31931, 'limewood': 16895, 'authenticated': 2599, 'liaison': 16786, 'antagonist': 1898, 'backgammon': 2765, 'apologised': 1980, 'nerved': 19118, 'unchodinged': 29724, 'surf': 27789, 'confront': 6486, 'perils': 20861, '_carbonari_': 246, 'countless': 7023, 'scenes': 24833, 'assassins': 2359, 'gallants': 12286, 'manacled': 17558, 'encumbrance': 10018, 'dieu': 8450, 'gros': 13098, 'furlong': 12206, 'westminster': 31373, 'currents': 7488, 'millbank': 18204, 'wands': 31090, 'anxiously': 1947, 'pausing': 20613, 'welled': 31341, 'bigger': 3514, 'blatant': 3657, 'copiously': 6854, 'greasing': 12974, 'seething': 25134, 'unsettle': 30251, 'album': 1524, 'rudderford': 24367, 'jokes': 15912, 'martyr': 17737, 'bespeak': 3419, 'advantageous': 1285, 'undone': 29863, 'fretted': 12061, 'tita': 28819, 'stainer': 26894, 'vicarage': 30742, 'exteriors': 10763, 'probabilities': 22126, 'rocamadour': 24201, 'mucident': 18757, 'charnell': 5295, 'overwhelming': 20171, 'baptized': 2915, 'discernible': 8635, 'laurel': 16539, 'nods': 19266, 'unceasing': 29707, 'repaid': 23575, 'exertion': 10598, 'touches': 28985, 'disconnected': 8666, 'replace': 23610, 'completing': 6255, 'arranging': 2246, 'sleepers': 26028, 'rivets': 24164, 'abandoned': 855, 'jolting': 15920, 'travellers': 29178, 'files': 11307, '_times_': 763, 'norword': 19336, '34th': 116, 'bombay': 3897, '28th': 105, 'april': 2096, '1882': 71, '8th': 154, '23rd': 94, 'gars': 12373, 'harping': 13490, 'posterity': 21726, 'stylist': 27477, 'sloppiness': 26089, 'incontinence': 14862, 'sensual': 25210, 'taverns': 28230, 'gazetteer': 12426, 'ticking': 28707, 'undisturbed': 29859, 'condescendingly': 6396, 'napoleon': 18959, 'alighted': 1564, 'incurring': 14899, 'poppet': 21638, 'strings': 27373, 'raging': 22808, 'poisonous': 21535, 'fetid': 11224, 'contemplation': 6671, 'villainy': 30796, 'unparalleled': 30138, 'lurked': 17321, 'mediæval': 17946, 'assassin': 2357, 'cunningly': 7449, 'eyford': 10827, 'wicket': 31537, 'unwonted': 30371, 'bounding': 4019, 'slaver': 26010, 'trickling': 29274, 'unfaltering': 29914, 'silken': 25778, 'comfit': 6086, 'reared': 23032, 'paws': 20633, 'smite': 26174, 'puckered': 22458, 'snout': 26274, 'saucy': 24722, 'chiding': 5418, 'waddling': 30982, 'handsomer': 13395, 'jump': 15995, 'coleoptera': 5991, 'commissariat': 6141, 'poles': 21551, 'intensely': 15385, 'polenka': 21550, 'feed': 11127, 'noses': 19342, 'parcels': 20386, 'beavers': 3134, 'tan': 28138, '_amor_': 184, '_patriae_': 621, 'ventilator': 30652, 'stoke': 27200, 'moran': 18623, 'undeceived': 29779, 'mischievous': 18318, 'foreseeing': 11807, 'indelicate': 14918, 'amicable': 1719, 'sparring': 26564, 'rev': 23911, 'andreas': 1802, 'arran': 2239, 'ardrossan': 2163, 'poodle': 21617, 'comprehend': 6290, 'august': 2574, '1914': 81, 'attempting': 2510, 'unconquerable': 29754, 'disesteem': 8731, 'attacking': 2499, 'obtrusive': 19563, 'adapting': 1166, 'entertaining': 10179, 'blamelessly': 3630, 'magnificent': 17438, 'spectacle': 26605, 'watered': 31199, 'partook': 20490, 'inexorable': 15028, 'carson': 4945, 'victory': 30756, '4th': 130, 'shamefully': 25385, 'surmised': 27804, 'lancet': 16417, 'sale': 24578, 'abandoning': 856, '21st': 88, 'nation': 18991, 'exaggerating': 10486, 'ate': 2460, 'agree': 1444, 'steadfast': 27023, 'tones': 28899, '_appulyaird': 191, 'jon': 15921, 'amend': 1700, 'all_': 1572, 'betoken': 3444, 'rises': 24141, 'morass': 18624, 'somethin': 26421, 'sportin': 26750, 'golf': 12774, 'whack': 31386, 'salt': 24597, 'livin': 17016, 'gettin': 12527, 'comfy': 6095, 'lands': 16432, 'spaces': 26532, 'findin': 11340, 'steeplechasin': 27070, 'aeroplanes': 1323, 'huntin': 14315, 'lobster': 17048, 'screams': 24960, 'shroud': 25655, 'liker': 16874, 'cask': 4978, 'inventory': 15559, 'unheartily': 30000, 'virgin': 30838, 'blandly': 3640, 'extinguished': 10772, 'grope': 13095, 'proximate': 22412, 'piratical': 21256, 'masthead': 17784, 'inscription': 15236, '_has_': 414, 'source': 26505, 'reproof': 23664, 'nobles': 19253, 'confiscations': 6471, 'jury': 16018, 'unprejudiced': 30158, 'stated': 26989, 'svyetlov': 27877, 'liquor': 16955, 'beckoning': 3141, 'conductor': 6419, 'clinging': 5792, 'soothing': 26447, 'lea': 16582, 'academy': 980, 'curving': 7517, 'bristling': 4288, 'spires': 26683, 'wooded': 31769, 'fringes': 12096, 'buttons': 4580, 'sicker': 25707, 'frontiers': 12117, 'peru': 20974, 'brazil': 4147, 'columbia': 6052, 'rubber': 24355, 'flourishes': 11597, 'congo': 6503, 'natives': 18997, 'labor': 16307, 'spaniards': 26543, 'darien': 7666, 'handful': 13377, 'villainous': 30794, 'breeds': 4190, 'dominated': 9116, 'terrorizing': 28408, 'para': 20351, 'expostulated': 10728, 'victims': 30750, 'pedro': 20703, 'lopez': 17158, 'runaway': 24429, 'breed': 4188, 'giv': 12600, 'jorge': 15928, 'plucked': 21454, 'devotions': 8387, 'distressing': 8964, 'disposing': 8862, 'collected': 6010, 'anatomise': 1779, 'sane': 24655, 'belike': 3288, 'riser': 24140, 'feathered': 11103, 'bullets': 4451, 'cartridges': 4957, 'declaimed': 7849, 'womb': 31748, 'paps': 20348, 'suck': 27567, 'sensitiveness': 25209, 'rowdy': 24340, 'kindest': 16152, 'eternal': 10391, 'soiled': 26351, 'pardonable': 20398, 'acquitted': 1123, 'chairman': 5179, 'trifles': 29284, 'sacks': 24501, 'rencontre': 23543, 'chancing': 5210, 'portsmouth': 21699, 'convincing': 6803, 'fondness': 11698, 'alienated': 1558, 'fretfulness': 12060, 'deprecation': 8152, 'disclaimed': 8646, 'popish': 21634, 'ejaculation': 9760, 'disclaimer': 8647, 'facility': 10846, 'anticipate': 1911, 'knitting': 16227, 'gillie': 12568, 'prospering': 22341, 'beggary': 3215, 'innate': 15190, 'chased': 5305, 'forasmuch': 11744, 'humiliate': 14269, 'barge': 2942, 'neva': 19144, 'daren': 7662, 'cardinal': 4866, 'inquisitor': 15222, 'ninety': 19231, 'sunken': 27680, 'gorgeous': 12807, 'cassock': 4986, 'stops': 27234, 'darkens': 7674, 'knits': 16225, 'bids': 3502, '_bonjour_': 227, 'decrees': 7879, 'fidget': 11263, 'shortness': 25589, 'arisen': 2190, 'lashing': 16487, 'director': 8571, 'chivalry': 5476, 'anton': 1936, 'antonitch': 1937, 'rogues': 24225, 'refresh': 23296, 'cleverest': 5768, 'inherits': 15148, 'subjection': 27490, 'palsy': 20291, 'mumbling': 18799, 'leer': 16664, 'resembled': 23726, 'haughtiness': 13560, 'chemist': 5373, 'anecdotes': 1810, '_vater': 788, 'aus': 2586, 'berlin_': 3384, 'browner': 4353, 'lordship': 17166, 'viragoes': 30836, 'onslaught': 19782, 'sufficiency': 27591, 'sinful': 25836, 'patronizingly': 20591, 'wealthy': 31265, 'gayety': 12417, 'lashes': 16486, 'urgently': 30435, 'healer': 13640, 'pond': 21603, 'melas': 17969, 'brogues': 4316, 'disarmed': 8614, 'lastly': 16497, 'yusupov': 32059, 'fountains': 11942, 'refreshing': 23298, 'squares': 26836, 'mars': 17714, 'mihailovsky': 18177, 'nastiness': 18985, 'udolpho': 29590, 'novels': 19399, 'crucified': 7370, 'crucify': 7373, 'tribulation': 29260, 'drunkard': 9405, 'undismayed': 29857, 'beastliness': 3106, 'sins': 25862, 'meek': 17951, 'mortgage': 18660, 'fred': 12017, 'finishes': 11361, 'apologize': 1982, 'forewarned': 11828, 'allowances': 1601, 'tent': 28364, 'sap': 24669, 'vines': 30816, 'duller': 9458, 'woven': 31859, 'threaten': 28616, 'burthened': 4534, 'bogs': 3868, 'aristocratic': 2195, 'ghostly': 12537, 'entreats': 10217, 'lebedef': 16639, 'genteel': 12470, 'gulpidge': 13222, 'treasury': 29203, 'exclusive': 10561, 'circular': 5596, 'desultory': 8305, 'topic': 28924, 'abstract': 953, 'dagestan': 7585, 'grumbling': 13151, 'jarring': 15790, 'twinkling': 29543, 'distrustful': 8972, 'lucases': 17248, 'narrowly': 18979, 'searchingly': 25047, 'hansoms': 13418, 'frequency': 12043, 'undiminished': 29852, 'elimination': 9823, 'unimpaired': 30019, 'baccarat': 2753, 'discontinued': 8675, 'expostulation': 10730, 'redoubled': 23230, 'readiest': 22991, 'pertinent': 20967, 'coquetry': 6866, 'converse': 6784, 'notwithstanding': 19384, 'gust': 13247, 'dusky': 9506, 'exhalation': 10601, 'creditors': 7214, 'obstructed': 19555, 'robert': 24191, 'bartlett': 2992, 'imputed': 14740, 'erred': 10315, 'supplanted': 27741, 'kettley': 16109, 'causeway': 5057, 'reeds': 23247, 'dispersedly': 8844, 'bethought': 3440, 'sails': 24559, 'pannikin': 20320, '4000': 122, 'admissions': 1238, 'repented': 23603, 'retained': 23860, 'disregarding': 8886, 'sedentary': 25102, 'anoints': 1883, 'cream': 7188, 'patent': 20548, 'deduced': 7888, 'foregoing': 11786, 'expiate': 10686, 'plainer': 21320, 'countenances': 7003, 'numbed': 19426, 'dashing': 7703, 'constables': 6615, 'accumulate': 1054, 'rotten': 24296, 'branch': 4103, 'topped': 28927, 'scrambled': 24942, 'topmost': 28926, 'bodincing': 3853, 'panorama': 20323, 'halliford': 13327, 'businesslike': 4550, 'believer': 3282, 'hundredth': 14300, 'unanswerably': 29645, 'enrich': 10143, 'retribution': 23895, 'jester': 15844, 'dogs': 9080, 'blaspheming': 3651, 'upheaval': 30387, 'blends': 3684, 'maligning': 17529, 'furred': 12215, 'delicately': 8009, 'winning': 31655, 'adults': 1278, 'elephants': 9804, 'scaled': 24774, 'odinrd': 19662, 'shimmered': 25507, 'tails': 28094, 'hind': 13897, 'fingered': 11352, 'browsed': 4356, 'kangaroos': 16052, 'prophetic': 22300, 'foreshadowing': 11811, 'calamity': 4669, 'purer': 22540, 'undisciplined': 29854, 'chooses': 5501, 'consist': 6589, 'lunches': 17305, 'conventional': 6773, 'perked': 20875, 'slyness': 26127, 'closeness': 5819, 'accuracy': 1059, 'faculty': 10855, 'acquired': 1115, 'inheritance': 15143, 'laudanum': 16518, 'infatuated': 15052, 'decency': 7827, 'loathe': 17039, 'fence': 11172, 'swag': 27882, 'andreev': 1803, 'archæologist': 2153, 'collecting': 6012, 'antiquities': 1931, 'outshine': 20034, 'erudition': 10324, 'progressiveness': 22226, 'rimmed': 24102, 'acres': 1126, 'liberally': 16799, 'expenditure': 10669, 'payment': 20638, 'alteration': 1644, 'develop': 8347, 'courtly': 7057, 'condoling': 6408, 'terminate': 28384, 'grammar': 12886, 'avow': 2675, 'opportunities': 19826, 'learning': 16620, 'flitting': 11556, 'talker': 28116, 'trip': 29303, 'dainty': 7594, 'overthrown': 20161, 'rapacity': 22893, 'players': 21381, 'unsuccessfully': 30297, 'disposal': 8858, 'partisans': 20482, 'tolerated': 28873, 'fearless': 11091, 'scaffold': 24769, '_cried_': 289, 'marshall': 17719, 'mortuary': 18669, 'upbraid': 30383, 'credulity': 7217, 'cleverer': 5767, 'louted': 17208, 'inspiriting': 15294, 'amenable': 1699, 'kite': 16191, 'quaker': 22637, 'reasonableness': 23039, 'sibilant': 25696, 'barricade': 2976, 'transverse': 29161, 'clouded': 5837, 'tingle': 28785, 'deceiver': 7821, 'refinements': 23274, 'disputed': 8875, 'effectually': 9714, 'blythe': 3809, 'herring': 13822, 'scales': 24775, 'hypocrite': 14384, 'complicate': 6263, 'evils': 10462, 'subtleties': 27544, 'godall': 12739, 'masquerade': 17759, 'damaging': 7608, 'paltry': 20294, 'conceitedly': 6335, 'relapse': 23407, 'dispiriting': 8848, 'cogitation': 5955, 'discontinuing': 8676, 'subduing': 27487, 'eclat': 9648, 'unmirthful': 30104, 'blundered': 3786, 'highlanders': 13873, 'highlander': 13872, 'assailants': 2355, 'affray': 1368, 'combats': 6064, 'mellay': 17975, 'onset': 19781, 'brandished': 4112, 'defenceless': 7921, 'indubitably': 14983, 'slower': 26103, 'peer': 20711, 'deputies': 8172, 'praising': 21818, 'ange': 1815, 'était': 32112, 'moi': 18483, 'père': 22618, 'remercie': 23497, 'êtes': 32115, '_pani_': 606, 'agrippina': 1456, 'surveyor': 27840, 'brockham': 4314, 'buck': 4395, 'dingy': 8537, 'weathercock': 31287, 'linnhe': 16939, 'loch': 17055, 'concisely': 6367, 'resided': 23745, 'penge': 20756, 'relics': 23444, 'dissecting': 8897, 'ireland': 15624, 'belfast': 3272, 'smartest': 26144, 'ordeal': 19870, 'berestov': 3376, 'garin': 12355, '_née_': 579, 'garine': 12356, 'pripuhlov': 22098, 'exertions': 10599, 'strain': 27282, 'denomination': 8089, 'skeleton': 25910, 'guy': 13257, 'fawkes': 11076, 'familiarly': 10940, 'relationship': 23416, 'studies': 27430, 'fascination': 11004, 'untasked': 30311, 'rashly': 22918, 'unemployed': 29888, 'recreation': 23193, 'vipers': 30835, 'disciples': 8643, 'contaminated': 6665, 'stoutly': 27261, '_am_': 182, 'tallest': 28123, 'booby': 3922, 'whatsoever': 31394, 'wheeler': 31405, 'refuge': 23302, 'scouted': 24929, 'penetrated': 20752, 'keener': 16074, 'beauteous': 3122, 'indulgent': 14998, 'unreserve': 30212, 'ruthless': 24466, 'impart': 14577, 'possessor': 21714, 'instinctive': 15320, 'heaved': 13693, 'imbued': 14528, 'inveterate': 15578, '_like': 498, 'that_': 28459, 'lets': 16755, 'axiom': 2720, 'killer': 16136, 'plaything': 21390, 'controlling': 6757, 'rennes': 23556, 'dinnae': 8541, 'littimer': 16993, 'stedding': 27053, 'congleton': 6502, 'luggage': 17270, 'insistence': 15272, 'notices': 19369, 'doin': 9082, 'chucks': 5548, 'inconsistent': 14856, 'couldst': 6991, 'verjuice': 30693, 'apothecary': 1994, '_ici_': 443, 'clipsby': 5802, 'profoundly': 22211, 'adjust': 1212, 'simultaneous': 25825, 'dolge': 9091, 'bellows': 3299, 'beholding': 3255, 'circulating': 5599, 'fordyce': 11771, 'monotonous': 18552, 'leper': 16731, 'infected': 15056, 'attacks': 2500, 'remittent': 23514, 'croon': 7324, 'extract': 10783, 'adelaïda': 1182, 'accordingly': 1042, 'colors': 6043, 'apportioned': 2053, 'conveyance': 6793, 'fatigue': 11042, 'prentice': 21938, 'continuance': 6705, 'convicted': 6797, 'misled': 18366, 'tranquillized': 29105, 'distracts': 8957, 'rhythm': 24020, 'stoop': 27223, 'uncarpeted': 29706, 'bejewelled': 3263, 'sompnour': 26427, 'pardoner': 20400, 'delegate': 7995, 'perdition': 20823, 'livre': 17019, 'purgatory': 22542, 'tying': 29567, 'leaden': 16584, 'corkscrew': 6890, 'ech': 9641, 'disciplined': 8645, 'remembrances': 23495, 'uncouthness': 29770, 'unmodulated': 30110, 'restaurants': 23821, 'thoroughfares': 28580, 'dusk': 9504, 'smote': 26199, 'colmore': 6030, 'richards': 24033, 'bridges': 4229, 'confectioner': 6425, 'passively': 20521, 'loathed': 17040, 'anoint': 1881, 'docile': 9038, 'appreciating': 2059, 'forcible': 11764, 'dial': 8412, 'flanking': 11458, 'forenoon': 11799, 'community': 6184, 'humored': 14279, 'novice': 19404, 'portico': 21685, 'covers': 7081, 'fordingbridge': 11769, 'postmark': 21732, 'fordham': 11768, 'paralysis': 20370, 'boorish': 3945, 'demon': 8058, 'nihilist': 19210, 'dimness': 8522, 'staringly': 26965, 'luminous': 17293, 'misdeeds': 18328, 'squandered': 26830, 'largely': 16474, 'embarrass': 9872, 'finances': 11334, 'govern': 12842, 'squander': 26829, 'reproved': 23667, 'chaste': 5311, 'complicity': 6268, 'dishonourable': 8767, 'seduction': 25109, 'phrenological': 21099, 'qualify': 22642, 'representing': 23639, 'extend': 10750, 'contumely': 6763, 'originating': 19912, 'january': 15780, 'grains': 12883, 'quinine': 22733, 'lukewarm': 17277, 'spue': 26800, 'dowerless': 9212, 'guiding': 13194, 'neutral': 19142, 'boa': 3811, 'tilted': 28755, 'coquettish': 6868, 'duchess': 9427, 'panoply': 20322, 'oscillated': 19936, 'swimmer': 27964, '_boiled_': 225, 'pork': 21660, 'broaching': 4300, 'ferry': 11205, 'fellowship': 11159, 'loot': 17156, 'throats': 28638, 'martialled': 17731, 'lenient': 16718, 'slyly': 26126, 'lout': 17207, 'fust': 12232, 'nigher': 19195, 'winder': 31623, 'seein': 25118, 'cubical': 7412, 'plaid': 21316, 'neuk': 19140, 'pulsation': 22486, 'fee': 11122, 'slapping': 25997, 'scuffling': 25008, 'accomplish': 1031, 'coasting': 5895, 'seafaring': 25026, 'healing': 13641, 'introduces': 15514, 'pearl': 20665, 'pursed': 22569, 'shopping': 25571, 'tunbridge': 29460, 'wells': 31343, 'ames': 1712, 'restlessness': 23829, 'pitfalls': 21284, 'prints': 22093, '_then_': 748, '_don': 318, 't_': 28057, 'gen': 12436, 'leman': 16704, 'gratitoode': 12945, 'musings': 18859, 'elegancies': 9796, 'luxuries': 17341, 'incline': 14812, 'juster': 16022, 'estimate': 10381, 'permanence': 20879, 'sequence': 25246, 'unexplained': 29908, 'surveyed': 27838, 'stiffly': 27131, 'displeasing': 8856, 'squinted': 26855, 'bucking': 4400, 'wretchedest': 31896, 'noted': 19356, 'barashkoff': 2917, 'mortgaged': 18661, 'acre': 1125, 'ridden': 24048, 'creditor': 7213, 'perished': 20869, 'gorot': 12818, 'catches': 5025, 'worthwhile': 31846, 'gnarled': 12719, 'controlled': 6756, 'shipman': 25521, 'cheerily': 5359, 'yarely': 31974, 'bowline': 4042, 'approver': 2088, 'livelihood': 17003, 'burdened': 4492, 'informer': 15107, 'realises': 23003, 'subsistence': 27528, 'faints': 10889, 'publicans': 22447, 'accommodated': 1018, 'lays': 16574, 'regretfully': 23352, 'paupers': 20609, 'loosely': 17149, 'shrunken': 25666, 'gruel': 13142, 'workhouse': 31801, 'ecstasies': 9661, 'misdoubt': 18334, 'amen': 1698, 'marriages': 17708, 'agricultural': 1454, 'extracts': 10787, 'wakefield': 31035, 'romance': 24244, 'somersetshire': 26419, 'thole': 28568, 'shade': 25348, 'sheltered': 25470, 'battered': 3044, 'cozened': 7115, 'bejaped': 3262, 'gruffly': 13146, 'unqualified': 30176, 'debated': 7788, 'adequately': 1186, 'churl': 5558, 'medal': 17919, 'quavered': 22672, 'sutherland': 27872, 'gasfitters': 12382, 'windibank': 31624, 'hardy': 13461, 'foreman': 11797, 'valiantly': 30511, 'contending': 6684, '_en': 336, 'là': 17365, 'haut': 13573, 'si': 25691, 'columbus': 6053, 'alyona': 1663, 'frolovna': 12111, 'transported': 29155, 'transited': 29130, 'fibs': 11249, 'finest': 11350, 'globe': 12683, '_il': 445, 'veux': 30725, 'galloped': 12297, 'hadnae': 13288, 'rin': 24105, 'kyle': 16299, 'dona': 9131, 'noo': 19303, 'couldnae': 6990, 'muckle': 18759, 'deil': 7983, 'braw': 4135, 'nicht': 19176, 'shipwreck': 25529, 'twa': 29513, 'ae': 1319, 'twalmonth': 29516, 'bonny': 3919, 'trading': 29057, 'barbarous': 2919, 'unpolished': 30150, 'sirs': 25875, 'woodcraft': 31767, 'tines': 28781, 'hubert': 14213, 'mort': 18651, 'bridle': 4231, 'spur': 26804, 'glint': 12665, 'brazen': 4145, 'browed': 4348, 'brocas': 4311, 'gambade': 12303, 'doff': 9067, 'monarch': 18514, 'spurred': 26809, 'tragically': 29070, 'thornbush': 28575, 'zareba': 32069, 'prostrate': 22347, 'surviving': 27845, 'darting': 7692, 'ode': 19615, 'steadying': 27035, 'reed': 23246, 'admiring': 1233, 'broads': 4306, 'emperors': 9943, 'severus': 25328, 'heathen': 13688, 'mythology': 18914, 'planets': 21340, 'philosophers': 21074, 'lodgers': 17071, 'wailing': 31013, 'lamenting': 16399, 'commented': 6128, 'quarrelled': 22653, 'vagabone': 30492, 'kennels': 16092, 'breathlessly': 4181, 'directness': 8570, 'charmant': 5287, 'les': 16741, 'moines': 18486, 'odinight': 19642, 'heal': 13638, 'sacrificing': 24511, 'rankling': 22881, 'rapped': 22900, 'wrathful': 31873, 'grounded': 13108, 'ruling': 24407, 'maroon': 17698, 'circumspectly': 5606, 'camped': 4734, 'pattered': 20597, 'gale': 12277, 'reabsorbed': 22976, 'neuralgia': 19141, 'narcotic': 18967, 'luckless': 17258, 'awakening': 2689, 'impassive': 14585, 'mask': 17752, 'constellation': 6622, 'leaders': 16587, 'briefest': 4234, 'tchaadaev': 28240, 'byelinsky': 4600, 'granovsky': 12913, 'herzen': 13826, 'vortex': 30941, 'combined': 6069, 'unimpeachable': 30020, 'supervision': 27736, 'spheres': 26650, 'governors': 12849, 'irrefutable': 15650, 'endeavours': 10034, 'lightest': 16855, 'tapestry': 28163, 'ridiculed': 24063, 'maxim': 17855, '_après': 192, 'déluge_': 9553, 'civic': 5623, 'aught': 2566, 'swindled': 27968, 'maternal': 17802, 'heaped': 13647, 'comprising': 6307, 'prediction': 21890, 'ecstatic': 9663, 'destinies': 8293, 'cadet': 4642, 'roughness': 24312, 'fretfully': 12059, 'complacently': 6238, 'ceremonious': 5136, 'reconciled': 23161, 'fraction': 11965, 'arguing': 2176, 'promising': 22253, 'densely': 8098, 'denoted': 8091, 'concurrent': 6385, 'afforded': 1364, 'squalid': 26823, 'skulked': 25960, 'tenements': 28356, 'fronts': 12120, 'mouldering': 18701, 'insecure': 15242, 'planted': 21352, 'dens': 8096, 'selected': 25149, 'nightly': 19203, 'haunts': 13571, 'houseless': 14180, 'boards': 3818, 'positions': 21704, 'aperture': 1966, 'kennel': 16090, 'putrefying': 22599, 'rottenness': 24297, 'suits': 27625, 'romeo': 24255, 'unheard': 29999, 'pomatum': 21589, 'goldsmith': 12773, 'earnings': 9580, 'survive': 27843, 'rankled': 22879, 'adage': 1157, 'spatter': 26576, '_few_': 368, '_some_': 718, 'calf': 4681, 'bandbox': 2872, 'ecclesiastic': 9638, 'correspond': 6927, 'deuce': 8342, 'oven': 20059, 'unintentional': 30030, 'housewife': 14187, 'vestibule': 30717, 'sorting': 26474, 'cloaks': 5806, 'pelisses': 20726, 'wraps': 31870, 'yarders': 31971, 'shockingly': 25548, 'knives': 16228, 'mihailovitch': 18176, 'bezzemelny': 3480, 'darn': 7683, 'schegolskoy': 24845, 'kammerjunker': 16050, 'aided': 1465, 'diary': 8424, 'indelibly': 14916, 'abortive': 921, 'player': 21380, 'partitions': 20485, 'frail': 11975, 'aft': 1389, 'quay': 22674, 'hairless': 13309, 'nut': 19452, 'cracker': 7123, 'jauntily': 15797, 'swaggering': 27886, 'gladder': 12611, 'twitched': 29549, 'hazel': 13609, 'brunette': 4366, 'lurks': 17324, 'sulphur': 27638, 'looseness': 17152, 'marred': 17705, 'afterthoughts': 1394, 'bodince': 3850, 'disheartening': 8755, 'apprenticed': 2071, 'muffler': 18772, 'pinioned': 21221, 'identified': 14413, 'busily': 4548, 'shrubberies': 25659, 'eminence': 9926, 'grecian': 12986, 'summits': 27652, 'afloat': 1380, 'realised': 23002, 'dom': 9103, 'tabary': 28060, 'chiming': 5451, 'spiky': 26667, 'des': 8196, 'honnêtes': 14041, 'gens': 12468, 'partout': 20491, 'chanting': 5232, 'brutally': 4380, 'singer': 25840, 'swoons': 27998, 'perspective': 20945, 'coiler': 5968, 'alongside': 1629, 'barrow': 2984, 'lengthen': 16713, 'disfigured': 8734, 'nether': 19131, 'slanted': 25992, 'creetur': 7226, 'everythink': 10452, 'reminds': 23503, 'teddy': 28274, 'bone': 3905, 'store': 27237, 'peach': 20651, 'recoiling': 23143, 'downhill': 9218, 'pines': 21217, 'clumps': 5861, 'nutmeg': 19454, 'azalea': 2729, 'baked': 2818, 'pupil': 22522, 'trump': 29383, 'weakening': 31253, 'jumps': 15999, '_hein': 419, 'unicorns': 30012, 'confirmation': 6464, '_j': 461, 'ai': 1463, 'oublié': 19967, 'countryfolk': 7026, 'mount': 18709, 'saluting': 24608, 'yaw': 31980, 'dismounting': 8810, 'blameless': 3629, 'privacy': 22109, 'meyer': 18136, 'slew': 26046, 'spell': 26635, 'drummed': 9399, 'helm': 13752, 'tiller': 28749, 'hebrides': 13707, 'skye': 25967, 'astern': 2428, 'astronomy': 2452, 'zero': 32082, 'botany': 3988, 'variable': 30554, 'geology': 12502, 'chemistry': 5374, 'unsystematic': 30306, 'sensational': 25196, 'records': 23182, 'poisoner': 21531, 'analysis': 1768, 'fowls': 11959, 'fiver': 11423, 'albert': 1520, 'dock': 9040, '_may': 522, 'day_': 7735, 'dublin': 9423, 'steam': 27045, 'berth': 3391, 'rocking': 24209, 'cockermouth': 5922, 'disembark': 8722, 'stabbed': 26866, 'penknife': 20764, 'thrashed': 28603, 'flaodin': 11461, 'patronisingly': 20587, 'uninvited': 30036, 'internal': 15441, 'hoarser': 13949, 'straightforward': 27280, 'impolitic': 14648, 'excess': 10532, 'subtlety': 27545, 'graces': 12865, 'hinge': 13907, 'situated': 25892, 'lark': 16479, '_now_': 578, 'contributed': 6743, 'mite': 18420, 'wringing': 31905, 'diligent': 8506, 'correspondent': 6930, 'journal': 15939, 'republished': 23678, 'expedient': 10660, 'blissfully': 3712, 'homeless': 14010, 'sleet': 26037, 'drenched': 9312, 'mutely': 18879, 'publishing': 22456, 'pills': 21196, 'grandmamma': 12904, 'humours': 14288, 'indulges': 15000, 'dears': 7774, 'obligated': 19501, 'checking': 5344, 'kindred': 16161, 'temptations': 28328, 'precipitate': 21865, 'closure': 5827, 'proposals': 22315, 'substantially': 27532, 'bleating': 3673, 'whimple': 31448, 'wresting': 31888, 'scrip': 24977, 'garrison': 12370, '_daily': 293, 'telegraph_': 28292, 'perpetration': 20894, 'refugees': 23304, 'revolutionists': 23990, 'infringed': 15112, 'unwritten': 30378, 'tracked': 29040, 'airily': 1488, 'vehmgericht': 30614, 'aqua': 2107, 'tofana': 28852, 'carbonari': 4857, 'marchioness': 17658, 'brinvilliers': 4277, 'darwinian': 7697, 'malthus': 17538, 'ratcliff': 22928, 'murders': 18827, 'admonishing': 1248, 'advocating': 1318, 'recommenced': 23152, 'inaudible': 14770, 'exaggerations': 10488, 'ire': 15623, 'eases': 9598, 'deliverer': 8025, 'deigned': 7979, 'premier': 21930, 'beggared': 3211, 'scratches': 24953, 'westward': 31377, 'jovial': 15956, 'murphy': 18836, 'depression': 8162, 'gayeties': 12416, 'chaff': 5166, 'halfpenny': 13321, 'outsides': 20039, 'bield': 3503, 'livered': 17008, 'disused': 8982, 'seamstress': 25039, 'pouncing': 21773, 'locket': 17060, 'forbye': 11759, 'qualified': 22641, 'honiton': 14039, 'heighten': 13734, 'odinham': 19640, 'contentedly': 6687, 'inability': 14744, 'broadway': 4308, 'concert': 6352, 'sweeps': 27930, 'turret': 29497, 'whig': 31437, 'sallies': 24589, 'drollest': 9360, 'proportionately': 22309, 'immoderately': 14555, 'acknowledgement': 1097, 'curtness': 7505, 'uncomfortably': 29743, 'clutching': 5875, 'snake': 26216, 'urchin': 30429, 'stately': 26992, 'renouncing': 23561, 'proxy': 22414, 'easterly': 9606, 'hounsditch': 14164, 'appellation': 2017, 'clair': 5644, 'illegally': 14475, 'picter': 21134, 'jine': 15878, 'dooty': 9155, 'scamp': 24783, 'plight': 21432, 'chorister': 5511, 'vacancy': 30479, 'indefinably': 14911, 'pieced': 21145, 'claiming': 5642, 'chancellor': 5207, 'thankee': 28447, 'groaned': 13079, 'editor': 9688, '700': 140, 'takings': 28103, 'repartee': 23582, 'pennies': 20770, '_f_': 359, '_of': 585, 'masters': 17781, 'spirit_': 26686, 'surprize': 27823, 'crofts': 7309, 'naval': 19013, 'deplored': 8130, 'stamford': 26918, 'mealy': 17883, 'communicating': 6178, 'inasmuch': 14766, 'ram': 22852, 'deletion': 7999, 'embittered': 9886, 'numbered': 19429, '_nonesuch_': 570, 'abated': 862, 'perilously': 20860, 'schools': 24869, 'gangs': 12328, 'cultivate': 7436, 'blazes': 3664, 'jesting': 15845, 'vein': 30617, 'bushy': 4544, 'cursing': 7496, 'swabs': 27880, 'earthquakes': 9591, 'hulk': 14238, 'swab': 27878, 'curses': 7495, 'fidges': 11262, 'dram': 9254, 'cain': 4654, 'hisself': 13923, 'guinea': 13206, 'noggin': 19270, 'muse': 18844, 'beaux': 3132, 'coxcombs': 7105, 'sway': 27914, 'firearms': 11367, 'improperly': 14708, 'expatiate': 10645, 'absurdity': 963, 'scrupling': 24994, 'circumspection': 5605, 'associates': 2405, 'kronstadt': 16287, 'deprivation': 8163, 'quench': 22690, 'fatima': 11046, 'joram': 15927, 'haberdashers': 13269, 'milliners': 18208, 'disparage': 8824, 'stanch': 26929, 'weaker': 31254, 'lodges': 17072, 'bushel': 4540, 'appleyard': 2036, 'lacketh': 16336, 'chattels': 5320, 'merrier': 18080, 'continuation': 6706, 'forbidden': 11753, 'lazy': 16579, 'essay': 10354, 'arabs': 2112, 'conspiracy': 6610, 'foundations': 11935, 'translating': 29135, 'copies': 6851, 'consisting': 6594, 'poetical': 21508, 'amateurs': 1675, 'tease': 28265, 'courting': 7055, 'prestige': 21997, 'tissue': 28817, 'curiosities': 7473, 'andaman': 1795, 'muleteer': 18780, 'stonework': 27217, 'noose': 19311, 'cheers': 5364, 'rescuers': 23718, 'sup': 27694, 'casting': 4999, 'citizeness': 5619, 'blindfold': 3700, 'ruts': 24469, 'curb': 7463, 'hoofs': 14062, 'individuals': 14974, 'saucepan': 24718, 'hob': 13953, 'osterman': 19948, 'elevated': 9806, 'sidelong': 25719, 'aspirations': 2347, 'headstrong': 13635, 'wearisome': 31278, 'monomaniac': 18544, 'injuriously': 15175, 'pill': 21185, 'arraying': 2251, 'backing': 2768, 'abusive': 974, 'assault': 2360, 'clamoured': 5655, 'apparel': 1999, 'surgery': 27796, 'automatic': 2617, 'glean': 12643, 'rustle': 24460, 'ascension': 2308, 'arina': 2187, 'volhofskoi': 30917, 'anfisa': 1814, 'camellias': 4721, 'sotski': 26479, 'sophia': 26452, 'bespalova': 3417, 'camellia': 4720, 'bouquets': 4026, 'platon': 21371, 'strides': 27363, 'boundless': 4020, 'practically': 21801, 'shudders': 25672, 'rung': 24431, 'stations': 27004, 'ikon': 14466, 'properties': 22292, 'juvenile': 16036, 'toss': 28968, 'tester': 28416, 'dribbled': 9323, 'locker': 17058, 'tossing': 28972, 'clamour': 5654, 'abating': 864, 'hurricane': 14331, 'impiously': 14627, 'madest': 17407, 'prosperous': 22343, 'oddly': 19613, 'relax': 23422, 'incrustations': 14889, 'drip': 9342, 'blotch': 3755, 'stride': 27361, 'mortified': 18664, 'dropt': 9376, 'heretofore': 13806, 'arrear': 2252, 'sublieutenant': 27497, 'selden': 25146, 'baffle': 2792, 'defeated': 7916, 'posted': 21725, 'foresters': 11819, 'counsels': 6999, 'bald': 2825, 'realism': 23005, 'artistic': 2298, 'outweigh': 20053, 'cheerlessness': 5363, 'cup': 7450, 'makings': 17498, 'spry': 26798, 'goethe': 12758, '_tant': 733, 'mieux': 18170, 'matvey': 17835, 'ballinger': 2843, 'brazilian': 4148, 'humans': 14254, 'groom': 13089, 'rivers': 24160, 'clary': 5686, 'ancestor': 1782, 'ralph': 22850, 'unchanged': 29717, 'unchangeable': 29716, 'kneeled': 16210, 'loosen': 17150, 'dozed': 9231, 'fumes': 12176, 'brunton': 4369, 'devoy': 8395, 'queenly': 22679, 'mari': 17667, 'se': 25023, 'trompe_': 29330, 'fête': 12242, 'climate': 5782, 'inquire': 15211, 'borrowed': 3977, 'mingling': 18247, 'tresses': 29247, 'chiselled': 5471, 'fitly': 11415, 'bethinking': 3438, 'grady': 12877, 'tailed': 28090, 'dutton': 9521, 'bemoaning': 3324, 'carelessness': 4881, 'slough': 26096, 'booty': 3955, 'deliverance': 8023, 'landmark': 16428, 'pensioners': 20783, 'sh': 25341, 'bor': 3957, 'repulsion': 23687, 'antics': 1919, 'fleshless': 11522, 'precipice': 21862, 'harley': 13471, 'brook': 4333, 'munching': 18807, 'bacon': 2777, 'bags': 2801, 'craning': 7156, 'bugle': 4427, 'outposts': 20021, 'surged': 27793, 'neighing': 19108, 'unopposed': 30130, 'bodied': 3846, 'manservant': 17619, 'notting': 19382, 'perkins': 20876, 'snug': 26291, 'lengthening': 16715, 'liabilities': 16784, 'injury': 15176, 'hermit': 13810, 'bees': 3186, 'downs': 9221, 'inclining': 14815, 'nikodim': 19218, 'fomitch': 11687, 'faintness': 10888, 'prejudice': 21918, 'devine': 8368, 'oppressive': 19840, 'spikes': 26666, 'sprinkling': 26791, 'impulse': 14728, 'misfortunes': 18347, 'procuring': 22159, 'corroborative': 6941, 'obtaining': 19559, 'replies': 23618, 'credence': 7206, 'abominable': 915, 'dishonesty': 8761, 'unconnected': 29753, 'comparatively': 6199, 'cogent': 5952, 'ignorance': 14454, 'mistering': 18399, 'wicious': 31531, 'balm': 2848, 'angrier': 1831, 'patriotic': 20573, 'uselessness': 30452, 'fatherland': 11034, 'pernicious': 20889, 'mercilessly': 18059, 'traité': 29086, 'comme': 6112, 'vieux': 30765, 'coton': 6977, 'babbled': 2735, 'senselessly': 25201, 'adverted': 1298, 'moorland': 18605, 'shepherds': 25476, 'equanimity': 10278, 'scalded': 24772, 'rusticities': 24458, 'inroads': 15226, 'associate': 2403, 'kinder': 16151, 'blunder': 3783, 'errs': 10322, 'cobbs': 5906, 'lobbs': 17046, 'nobbs': 19245, 'sitters': 25887, 'glances': 12624, 'averse': 2649, 'climax': 5783, 'hillock': 13886, 'shipwrecked': 25530, 'deserts': 8223, 'untried': 30336, 'mouths': 18740, 'walketh': 31054, 'circlet': 5591, 'crafty': 7136, 'champion': 5200, 'sinew': 25834, 'castelnau': 4995, 'vileness': 30785, 'besieging': 3409, 'startingly': 26976, 'hearths': 13672, 'prying': 22423, 'clink': 5794, 'bigness': 3517, 'transition': 29131, 'peril': 20858, 'freeze': 12032, 'repressed': 23642, 'sharpness': 25420, 'detect': 8316, 'oddities': 19611, 'enjoyable': 10114, 'quartern': 22664, 'toast': 28834, 'apron': 2097, 'alabaster': 1505, 'sloppy': 26090, 'sexes': 25338, 'sickening': 25706, 'stale': 26909, 'risking': 24147, 'persevered': 20920, 'rowed': 24342, 'haze': 13607, 'deepening': 7904, 'marsh': 17717, 'foreground': 11788, 'gull': 13215, 'belmore': 3307, 'intermittent': 15438, 'seekers': 25121, 'reviewers': 23966, 'strains': 27285, 'productions': 22173, 'decried': 7882, 'briarbrae': 4206, 'verdure': 30679, 'retreating': 23892, 'fishermen': 11397, 'describes': 8207, 'mortally': 18655, 'unborn': 29688, 'descends': 8203, 'morbidness': 18627, 'enabling': 9977, 'cynicism': 7561, 'experiencing': 10678, 'accountants': 1047, 'figured': 11297, 'transactions': 29110, 'personage': 20934, 'desperado': 8263, 'editorial': 9689, 'tip': 28798, 'proctors': 22155, 'quickened': 22709, 'infusion': 15115, 'relinquished': 23459, 'uses': 30453, 'adversity': 1297, 'fernando': 11192, 'truce': 29367, '_from': 387, 'memoirs': 17999, 'burke_': 4514, 'openness': 19805, 'pringling': 22087, 'dikes': 8494, 'sluices': 26109, 'grazing': 12971, 'cattle': 5046, 'exultant': 10809, 'requisition': 23709, 'contribute': 6742, 'enigmas': 10108, 'charades': 5261, 'conundrums': 6765, 'ungallant': 29967, 'politest': 21565, 'sentimentally': 25229, 'recited': 23110, 'loitering': 17097, 'objecting': 19493, 'unfrequency': 29952, 'particularise': 20472, 'albany': 1518, 'imperilled': 14609, 'loan': 17037, 'cavaliers': 5071, 'gorge': 12805, 'mustering': 18874, 'bugles': 4429, 'clambering': 5649, 'pennons': 20773, 'cavalry': 5072, 'vanguard': 30533, 'lick': 16820, 'litany': 16977, 'pepper': 20799, 'outset': 20033, 'assigning': 2394, 'aneroid': 1811, 'barometer': 2963, 'croaked': 7299, 'matrimony': 17815, 'propitiate': 22302, 'inconsequent': 14849, 'incorrigible': 14874, 'orators': 19859, 'limitation': 16897, 'rhetoric': 24008, 'dissertation': 8905, 'reside': 23744, 'dementyev': 8048, 'zaraïsk': 32067, 'ryazan': 24472, 'drinks': 9341, 'painting': 20255, 'spree': 26779, 'sidled': 25725, 'meekest': 17952, 'brougham': 4344, 'apiece': 1970, 'vivid': 30885, 'troop': 29331, 'gypsies': 13263, 'encamped': 9981, 'stint': 27164, 'feasted': 11098, 'strasburg': 27306, 'pies': 21159, 'escapade': 10329, 'exempted': 10589, 'leagues': 16598, 'sot': 26477, 'swine': 27973, 'calculate': 4671, 'widowhood': 31553, 'desirableness': 8238, 'aline': 1567, 'hauled': 13564, 'clapper': 5676, 'partake': 20451, 'schedule': 24844, 'downcast': 9215, 'claret': 5682, 'digger': 8476, 'glassful': 12633, 'rattling': 22943, 'rumbled': 24411, 'empties': 9968, 'lens': 16721, 'discloses': 8651, 'barber': 2924, 'adhesive': 1193, 'gritty': 13074, 'indoors': 14981, 'moisture': 18492, 'wearer': 31271, 'porth': 21684, 'lifer': 16843, 'westbury': 31366, 'inexpressible': 15036, 'partition': 20483, 'interrogation': 15458, 'shifting': 25497, 'cuff': 7424, 'triangle': 29256, 'prince_': 22073, 'enormity': 10132, 'jests': 15846, 'infallibly': 15042, 'imparted': 14578, 'razor': 22974, 'shaved': 25426, 'sneezed': 26244, 'models': 18460, 'breasts': 4173, 'tasting': 28205, 'onion': 19775, 'œcumenical': 32117, 'patriarch': 20569, 'constantinople': 6620, 'elders': 9784, 'monasteries': 18516, 'institution': 15325, 'shouldnae': 25601, 'forfeit': 11831, 'boggle': 3863, 'naething': 18926, 'wame': 31079, 'occupations': 19584, 'uncontrollable': 29762, 'genial': 12455, 'soleil': 26372, 'fickle': 11251, 'shadowy': 25356, 'divorced': 9024, 'lords': 17165, 'odinty': 19672, 'obscured': 19524, 'bobbing': 3836, 'mistaking': 18397, 'wounds': 31858, 'reel': 23256, 'courtier': 7054, 'flogging': 11567, 'assume': 2415, 'testament': 28412, 'extort': 10778, 'impassable': 14584, 'butterflies': 4572, 'condescending': 6395, 'dissolute': 8917, 'amounted': 1736, 'insupportable': 15354, 'rebelled': 23062, 'rages': 22805, 'quarrels': 22655, 'exacted': 10478, 'hearsay': 13658, 'revelation': 23919, 'disappointing': 8606, 'jimmy': 15877, 'colver': 6057, 'shovel': 25610, 'fra': 11964, 'cristofero': 7286, 'rosario': 24284, 'manatee': 17567, 'sandbank': 24644, 'turtles': 29501, 'ajouti': 1499, 'miriti': 18286, 'snouted': 26275, 'saurians': 24729, 'housemaid': 14182, 'guarantee': 13161, 'sermonizing': 25271, 'lafite': 16362, 'mightily': 18171, 'compound': 6287, 'bully': 4459, 'sneak': 26235, 'warrior': 31152, 'opposing': 19830, 'avenging': 2643, 'pfoo': 21039, 'admits': 1240, 'kneel': 16209, 'ripple': 24133, 'rearing': 23034, 'paw': 20625, 'wire': 31670, 'meshes': 18089, 'furrow': 12216, 'proclaims': 22151, 'circus': 5612, 'houndsditch': 14163, 'bears': 3103, '_fey_': 369, 'irritate': 15679, 'clash': 5687, 'loses': 17176, 'millstone': 18216, 'levity': 16775, 'faster': 11018, 'memorial': 18004, 'inhumanity': 15153, 'changeful': 5218, 'hangings': 13409, 'eyelid': 10822, 'shin': 25509, 'portmanteaus': 21691, 'portly': 21689, 'gig': 12556, 'verbal': 30671, 'grabbed': 12858, 'bridewell': 4225, 'appropriated': 2081, 'adore': 1261, 'epsom': 10269, 'races': 22771, 'claw': 5712, 'pounding': 21776, 'ditch': 8983, 'scrawling': 24956, '1742': 38, 'undeserved': 29839, 'culverton': 7441, 'appropriately': 2082, '_cannot_': 245, 'sanded': 24647, 'loyal': 17238, 'bestir': 3426, 'drag': 9239, 'pendragon': 20746, 'merciless': 18058, 'flooring': 11576, 'planks': 21345, 'mac': 17368, 'braces': 4071, 'jostled': 15933, 'reviewing': 23967, 'developing': 8349, 'reviving': 23979, 'drama': 9255, 'decease': 7815, 'giggle': 12558, 'nikiforovna': 19214, 'kapiton': 16055, 'grog': 13087, 'fidgety': 11268, 'ahem': 1461, 'int': 15364, 'numbering': 19430, 'proctor': 22154, 'purposing': 22564, 'flawed': 11494, 'assailed': 2356, 'germain': 12512, 'hunters': 14314, 'metempsychosis': 18112, '_them': 746, 'torchlight': 28940, 'delusion': 8034, 'socialism': 26320, 'progeny': 22216, 'romanism': 24248, 'romanistic': 24249, 'atheism': 2462, 'catholicism': 5039, 'appease': 2015, 'parched': 20388, '_fraternité': 385, 'ou': 19966, 'mort_': 18652, 'shine': 25510, 'intact': 15365, 'hooks': 14067, 'jesuits': 15849, 'elope': 9840, 'puts': 22601, 'gazette': 12424, 'respectability': 23791, 'orange': 19855, 'cupid': 7453, 'whitewashed': 31505, 'coolest': 6830, 'aiming': 1480, 'bankruptcy': 2903, 'lombard': 17102, 'curtained': 7502, 'alcove': 1529, 'immortal': 14560, 'fright': 12082, 'nightmare': 19204, 'mortifying': 18666, 'exasperating': 10503, 'retract': 23887, 'eddy': 9669, 'whirlpool': 31467, 'funnel': 12196, 'biplane': 3544, 'drift': 9327, 'swirled': 27981, 'submitting': 27511, 'toilette': 28860, 'candour': 4757, 'alice': 1554, 'california': 4684, 'expository': 10727, 'hermitage': 13811, 'recluse': 23130, 'solitaries': 26399, 'hygienic': 14374, 'honey': 14033, 'pharmacopoeia': 21048, 'eremite': 10300, 'sneers': 26242, 'obsequious': 19529, 'anew': 1813, 'mounds': 18708, 'ajar': 1498, 'lynn': 17356, '_when_': 820, 'tinging': 28784, 'truest': 29379, 'drone': 9363, 'snorers': 26267, 'pecking': 20683, 'adam': 1158, 'utah': 30466, 'beans': 3093, 'clover': 5846, 'guesswork': 13181, 'lullabies': 17283, 'persian': 20924, 'grating': 12942, 'impromptu': 14706, 'nevsky': 19146, 'lida': 16824, 'hussar': 14353, 'va': 30477, 'guerre': 13176, 'lullaby': 17284, 'postmaster': 21734, 'bankley': 2899, 'buenos': 4415, 'ayres': 2726, 'argentine': 2171, 'postman': 21731, 'delivery': 8028, 'mannering': 17608, 'inconsequential': 14850, 'unsupported': 30300, 'shred': 25628, 'guiltless': 13204, 'forbore': 11756, 'affidavit': 1349, 'mityenka': 18433, 'plied': 21431, 'choicest': 5488, 'eatables': 9613, 'corkscrews': 6892, 'dentists': 8104, 'shuttlecock': 25686, 'battledores': 3051, 'wormed': 31819, 'entertainers': 10178, 'cracking': 7126, 'nuts': 19455, 'expressively': 10743, 'lanes': 16438, 'duries': 9501, 'ane': 1808, 'waur': 31218, 'pard': 20392, 'hornet': 14101, 'narrated': 18969, 'subjoined': 27493, 'mat': 17790, 'festoons': 11219, 'cobwebs': 5911, 'favourites': 11073, 'burger': 4498, 'niches': 19174, 'popes': 21632, 'mitres': 18430, 'croziers': 7367, 'canonicals': 4777, 'distractedly': 8953, 'brussels': 4377, 'hurled': 14323, 'betides': 3441, 'ties': 28727, 'solace': 26360, 'intermarriage': 15430, 'achieving': 1089, 'lorgnettes': 17170, 'odinttes': 19671, 'consented': 6565, 'subscriptions': 27519, '_merci_': 531, 'governesses': 12845, 'quadrille': 22625, 'symbolise': 28021, 'novelty': 19401, 'subscribing': 27517, 'subscribed': 27515, 'actors': 1143, 'successes': 27555, 'failures': 10880, 'versatility': 30702, 'recount': 23183, 'ces': 5150, 'vauriens': 30593, 'malheureux': 17519, 'oblivion': 19514, 'inconsiderately': 14853, 'gasps': 12391, 'misgiveth': 18350, 'glenure': 12652, 'unfold': 29939, 'elaborately': 9772, 'unwell': 30359, 'truantry': 29366, 'adrift': 1272, 'mutineers': 18883, 'repulse': 23685, 'unprovided': 30172, 'callers': 4689, 'introductions': 15517, 'slender': 26042, 'disparity': 8827, 'mar': 17647, 'contentment': 6692, 'relied': 23446, 'record': 23177, 'entries': 10223, 'appended': 2022, 'koulakoff': 16279, 'sokolovitch': 26359, 'conceited': 6334, '_both_': 228, 'persecuting': 20913, 'unanimous': 29642, 'insufficiency': 15343, 'damning': 7620, 'vindictive': 30810, 'mortem': 18658, 'ailment': 1472, 'ensue': 10157, 'madding': 17401, '_globe_': 397, '_star_': 727, '_pall': 602, 'mall_': 17533, '_st': 724, 'gazette_': 12425, '_evening': 352, '_standard_': 726, '_echo_': 327, 'representations': 23635, 'cutlet': 7544, 'trice': 29267, 'grumbled': 13149, 'superintends': 27713, 'fountain': 11941, 'kine': 16163, 'contagion': 6658, 'gabelle': 12246, 'chimneys': 5453, 'sacristan': 24515, 'tocsin': 28845, 'friendliness': 12073, 'accommodating': 1019, 'females': 11168, 'sportsman': 26754, 'esteems': 10377, 'sportsmen': 26755, 'interchange': 15404, 'dormant': 9161, 'trestles': 29249, 'bancals': 2866, 'cushioned': 7524, 'blanched': 3635, 'lily': 16885, 'curly': 7483, 'sonny': 26433, 'warnings': 31146, 'chuck': 5539, 'thankfulness': 28451, 'baffled': 2793, 'irrevocable': 15674, 'bemused': 3326, 'ottilia': 19962, 'violation': 30826, 'testimonies': 28423, 'honors': 14049, 'pollis': 21576, 'affinity': 1351, 'magistrate': 17428, 'unrumpled': 30228, 'protocol': 22368, 'disturbing': 8980, 'soiling': 26352, 'footmarks': 11725, 'extinguishes': 10774, 'legged': 16685, 'slot': 26092, 'netting': 19134, 'stanchion': 26930, 'vulnerable': 30971, 'gulp': 13220, 'altitudes': 1661, 'rivet': 24162, 'banked': 2895, 'tack': 28073, 'layers': 16571, 'tons': 28908, 'elise': 9824, 'redeeming': 23221, 'antique': 1930, 'jewish': 15865, 'marooned': 17699, 'lepidoptera': 16734, 'extinct': 10769, 'centered': 5123, 'goodly': 12792, 'corresponded': 6928, 'instanced': 15303, 'mammalian': 17551, 'phosphorescence': 21086, 'moth': 18681, 'dating': 7710, 'jurassic': 16013, 'commiseratingly': 6137, 'blackening': 3595, 'italians': 15713, 'inspiration': 15288, 'perspicacity': 20947, 'irksome': 15633, 'brandenau': 4109, 'throne': 28646, 'empire': 9953, 'feasible': 11096, 'personate': 20939, 'imprisoned': 14699, '_fiancé_': 370, 'exaggerate': 10484, 'abnormal': 905, 'commits': 6151, 'forgets': 11845, 'fanaticism': 10952, '_odinness_': 584, 'abusing': 973, 'abominably': 916, 'disproportionate': 8867, 'padre': 20230, '_temper_': 735, 'unsuited': 30299, 'behaving': 3244, 'unfeelingly': 29925, 'wolf': 31739, 'weazen': 31293, 'chucked': 5540, 'pollards': 21574, 'filed': 11306, 'asunder': 2455, 'mike': 18179, 'birthright': 3557, 'rebels': 23066, 'sepoys': 25242, 'cawnpore': 5083, 'braced': 4068, 'disconcert': 8663, 'doubtingly': 9198, 'fitter': 11418, 'ballroom': 2845, 'toil': 28857, 'stumble': 27444, 'amenity': 1705, 'excuses': 10573, 'executors': 10585, 'render': 23545, 'clamber': 5647, 'losst': 17180, 'gravestone': 12960, 'testing': 28425, 'trait': 29082, 'disfigurement': 8735, 'discernment': 8637, 'gifted': 12554, 'attaching': 2493, 'remonstrate': 23522, 'formulate': 11874, 'harasses': 13436, 'properest': 22290, 'belle': 3292, 'kinsfolk': 16173, 'ungrudgingly': 29984, 'troth': 29342, 'promiseth': 22252, 'bravely': 4127, 'purgeth': 22545, 'sweetheart': 27939, 'radical': 22789, 'paved': 20617, 'cemented': 5113, 'crevice': 7242, 'peski': 20991, 'kolomensky': 16269, 'blotchy': 3757, 'sprawly': 26773, 'triumphantly': 29313, 'recommendation': 23154, 'tolstyakov': 28882, 'slavish': 26015, 'headgear': 13621, 'rueful': 24380, 'unconventional': 29764, 'castel': 4994, 'gâchis': 13266, 'scraped': 24946, 'spoils': 26724, 'phœbus': 21111, 'ovation': 20058, 'travelers': 29174, 'durham': 9499, 'assembly': 2368, 'spokesman': 26730, 'rumor': 24419, 'imaginings': 14519, 'novelist': 19397, 'investigations': 15571, 'searcher': 25044, 'inflicted': 15090, 'irreparable': 15657, 'pervading': 20982, 'archway': 2151, 'surpassed': 27812, 'burying': 4537, 'inaudibly': 14771, 'digesting': 8474, 'weel': 31313, 'fastenings': 11017, 'repenting': 23604, 'claps': 5679, 'creak': 7184, 'hinges': 13909, 'gingerly': 12577, 'vehemency': 30608, 'indescribably': 14926, 'unlock': 30075, 'chasing': 5309, 'excusable': 10570, 'crossroad': 7344, 'homewards': 14021, 'drozdovs': 9390, 'transform': 29120, 'recreate': 23192, 'psychologically': 22437, 'brotherhood': 4340, 'envying': 10243, 'critically': 7289, 'unvarying': 30349, 'loftiness': 17079, 'melts': 17990, 'texture': 28437, 'grossness': 13103, 'fuss': 12226, 'scanlan': 24792, 'notebook': 19354, 'accumulated': 1055, 'vehement': 30609, 'laughs': 16528, 'godson': 12751, 'closest': 5822, 'mason': 17755, 'roamed': 24171, 'pits': 21293, 'vents': 30658, 'bubbling': 4389, 'gurgling': 13239, 'geyser': 12531, 'tube': 29425, 'inverting': 15563, 'dismissing': 8806, 'hump': 14289, 'oaths': 19472, 'scuttle': 25019, 'bunks': 4485, 'realise': 23001, 'suggestiveness': 27609, 'issues': 15709, 'advising': 1314, 'tiresome': 28814, 'offend': 19684, 'silvering': 25794, 'cambridge': 4714, 'bretigny': 4197, 'companies': 6191, 'simmers': 25805, 'boils': 3877, 'scooped': 24897, 'bodinced': 3851, 'owners': 20188, 'gobbet': 12732, 'hurrah': 14329, 'educating': 9696, 'appointments': 2052, 'supplying': 27754, 'explosions': 10714, 'cities': 5617, 'revolt': 23982, 'astronomers': 2451, 'observatory': 19539, 'christening': 5523, 'theatres': 28469, 'stretchers': 27349, 'turmoil': 29480, 'winds': 31637, 'epoch': 10267, 'thicken': 28512, 'ripe': 24126, 'sinewy': 25835, 'wrinkles': 31909, 'permanent': 20881, 'sunburning': 27665, 'testifying': 28420, 'tourists': 28998, 'colleges': 6019, '_cafes_': 240, 'pluck': 21453, 'poring': 21659, 'sultry': 27642, 'disparagement': 8825, 'emphatic': 9951, 'colder': 5984, 'parchment': 20390, 'pored': 21657, 'foresaw': 11805, 'coffins': 5949, 'indulge': 14993, 'center': 5122, 'roomy': 24272, 'cupboards': 7452, 'closets': 5825, 'staircases': 26900, 'veal': 30596, 'cutlets': 7545, 'encouragingly': 10010, 'everlastingly': 10447, 'oo': 19790, 'compares': 6202, 'tending': 28351, 'pinching': 21211, 'zambo': 32065, 'perish': 20867, 'labors': 16314, 'entrez': 10222, 'humming': 14276, 'bedwin': 3172, 'alphabet': 1636, 'enmity': 10128, 'unturned': 30343, 'herd': 13793, 'revengefully': 23929, 'extremity': 10802, 'grease': 12972, 'plaited': 21333, 'comb': 6059, 'nape': 18954, 'gushed': 13245, 'overturned': 20167, 'sockets': 26328, 'tottered': 28979, 'fearing': 11090, 'tidings': 28721, 'ix': 15735, 'contentions': 6690, 'sustaining': 27870, 'withering': 31708, 'frivolously': 12104, 'subsisting': 27529, 'undoing': 29862, 'outstrip': 20046, 'ultimately': 29602, 'polity': 21572, 'multifarious': 18787, 'denizens': 8084, 'grows': 13131, 'profess': 22180, '_her': 421, 'ludicrous': 17264, 'od': 19608, 'quotha': 22759, 'plack': 21310, 'clothing': 5833, 'falding': 10915, 'kirtle': 16181, 'harrow': 13498, 'hypnotic': 14381, 'sulkily': 27629, 'repair': 23577, 'exacting': 10479, 'mightn': 18172, 'swindlers': 27970, 'pretences': 22006, 'knowingly': 16255, 'spurious': 26805, 'pretence': 22005, 'compactly': 6189, 'abstracts': 958, 'nutshells': 19457, 'sleight': 26041, '_lajdak_': 483, 'spices': 26658, 'jousting': 15952, 'sendest': 25180, 'seest': 25132, 'fret': 12057, 'catalogue': 5018, 'unamiable': 29640, 'reducing': 23243, 'imperturbable': 14619, 'relaxing': 23427, 'muscle': 18840, 'diplomatists': 8557, 'duc': 9425, 'val': 30503, 'orge': 19896, 'atrocities': 2488, 'paraguay': 20366, 'samuel': 24629, 'levi': 16771, 'jewellery': 15861, 'infamy': 15045, 'hugo': 14234, 'guesses': 13179, 'pessimist': 20992, 'yapping': 31969, 'caged': 4651, 'deluded': 8032, 'catapult': 5019, 'lever': 16767, 'loop': 17141, 'unwieldy': 30363, 'missile': 18380, 'hurtling': 14343, 'redcap': 23212, 'spluttering': 26720, 'toppled': 28931, 'loosed': 17148, 'determining': 8328, 'squalls': 26826, '_matilda_': 521, 'heeled': 13723, 'bellied': 3293, 'rail': 22813, 'jammed': 15772, 'yawl': 31982, 'yokohama': 32034, 'thwarts': 28691, 'cerebral': 5134, 'cavernous': 5077, 'arched': 2134, 'malevolent': 17517, 'curupuri': 7513, 'invaded': 15536, 'stripped': 27379, 'falsely': 10924, 'ungratefully': 29983, 'tinkled': 28790, 'err': 10308, 'underlying': 29804, 'heave': 13692, 'couplet': 7037, '_appropriation_': 190, 'ceases': 5090, 'slighted': 26056, 'capacities': 4805, 'testified': 28417, 'ranting': 22890, 'unchristian': 29726, 'cache': 4635, 'trend': 29237, 'hummock': 14277, 'fathoms': 11041, 'traveler': 29173, 'civilians': 5626, 'underkeepers': 29798, 'verderers': 30675, 'sunburned': 27664, 'gleeman': 12648, 'fasten': 11013, 'watery': 31214, 'gilt': 12572, 'harp': 13488, 'blotched': 3756, 'platter': 21373, 'trimming': 29294, 'faggots': 10867, 'squall': 26824, 'inconstant': 14859, 'heaviest': 13700, 'wharf': 31390, 'boyhood': 4060, 'gymnasium': 13260, 'caucasus': 5047, 'payments': 20639, 'tub': 29424, 'restful': 23823, 'confessing': 6437, 'sham': 25378, 'deceptions': 7831, 'oneself': 19773, 'flowered': 11603, 'missy': 18391, 'strangle': 27299, 'disrespectfully': 8894, '_after': 166, 'corrupted': 6946, 'ravings': 22961, '_auto': 205, 'da': 7571, 'fé_': 12241, 'biography': 3543, 'informing': 15109, 'waxwork': 31236, 'publicly': 22451, 'debtors': 7804, 'culprits': 7435, 'heightening': 13736, 'portal': 21673, 'inclusive': 14823, 'mildewed': 18186, 'executioner': 10582, 'bearings': 3102, 'wordsworth': 31793, 'stockwell': 27195, 'harbor': 13438, 'disputable': 8870, 'balachulish': 2823, 'middling': 18155, 'chay': 5329, 'hosses': 14141, 'unwise': 30368, 'flustered': 11630, 'advertising': 1303, 'rigidity': 24091, 'haymarket': 13598, 'coarsely': 5890, 'conquer': 6544, 'gorilla': 12813, 'wilfully': 31583, 'wantonly': 31100, 'dependence': 8120, 'respecting': 23799, 'motives': 18694, 'mercury': 18060, 'resentful': 23731, 'shrub': 25658, 'sparrows': 26566, 'pathological': 20559, 'bloated': 3720, 'organs': 19895, 'cysts': 7565, 'parasites': 20380, 'products': 22175, 'crackers': 7125, 'cedar': 5093, 'inlaid': 15183, 'carved': 4961, 'tarnished': 28178, 'handles': 13390, 'cipher': 5582, 'metal': 18103, 'tablecloth': 28062, 'coburg': 5909, 'apoplectic': 1986, 'pop': 21630, 'wilt': 31606, 'curl': 7478, 'caress': 4883, 'ramsgate': 22865, 'collector': 6016, 'timofey': 28775, 'lukianovitch': 17280, 'cows': 7102, 'joker': 15911, 'bony': 3921, 'cheroot': 5385, 'vibrating': 30738, 'instincts': 15322, 'spasmodic': 26569, 'esse': 10357, 'posse': 21707, 'presuming': 22002, 'weal': 31260, 'execute': 10578, 'bodin': 3849, 'socks': 26329, 'underclothes': 29787, 'intentionally': 15392, 'rougher': 24309, 'unselfish': 30246, 'conflicts': 6476, 'extravagance': 10792, 'affluence': 1360, 'prompting': 22266, 'scoured': 24923, 'tavistock': 28231, 'radius': 22793, 'aimais': 1476, 'materials': 17801, 'induction': 14990, 'unsound': 30279, 'vulgarly': 30970, 'illogical': 14488, 'observantly': 19536, 'grandly': 12902, 'escalade': 10328, 'saves': 24741, 'morbid': 18625, 'plank': 21342, 'candidacy': 4748, 'entrap': 10208, 'elm': 9837, 'elms': 9838, 'repose': 23627, 'flurry': 11624, 'weatherbeaten': 31286, 'nests': 19129, 'burdening': 4493, 'wrecks': 31882, 'hoots': 14076, 'yoursel': 32052, 'gied': 12552, 'drap': 9262, 'keept': 16085, 'tenacious': 28334, 'tugging': 29444, 'purposeful': 22560, 'clutch': 5872, 'slime': 26064, 'projecting': 22235, 'meyers': 18137, 'toronto': 28950, 'hearthrug': 13671, 'harvey': 13513, 'epileptic': 10258, 'studio': 27431, 'trouser': 29355, 'extenuation': 10761, 'wallis': 31063, 'bearer': 3099, 'afire': 1378, 'stir': 27173, 'wheer': 31411, 'oniony': 19777, 'tobaccoey': 28839, 'smotherings': 26202, 'embracings': 9901, 'moneys': 18526, 'riddles': 24050, 'pasha': 20499, 'tongs': 28902, 'sagacity': 24545, 'frédéric': 12150, 'separations': 25241, 'crumbled': 7387, 'hoary': 13951, 'inaptly': 14762, 'damped': 7623, 'charwoman': 5301, 'merged': 18068, 'husky': 14352, 'snarl': 26226, 'thrilling': 28632, 'disobey': 8812, 'palpitating': 20289, 'rabbit': 22763, 'thrash': 28602, 'strenuous': 27343, 'ineffectual': 15012, 'confusedly': 6491, 'hemlock': 13771, 'scalp': 24779, 'consequent': 6570, 'effaced': 9705, 'speckled': 26602, 'pups': 22528, 'vineyards': 30818, 'sutler': 27873, 'germans': 12514, 'rides': 24057, 'hothead': 14156, 'audley': 2564, 'cheshire': 5392, 'kidney': 16127, 'naught': 19008, 'wain': 31015, 'firkins': 11382, 'impudent': 14726, 'gloried': 12692, 'achievement': 1087, 'ostentation': 19945, 'evasions': 10427, 'vanities': 30539, 'occurrences': 19594, 'reappearance': 23026, 'moistened': 18491, 'concurred': 6383, 'odinn': 19658, 'connexions': 6537, 'calico': 4683, 'venom': 30644, 'unconquered': 29755, 'surrendered': 27827, 'pskoff': 22433, 'profuse': 22213, 'wee': 31305, 'bashfuller': 3006, 'aways': 2696, 'manful': 17575, 'solomon': 26406, 'endanger': 10022, 'displaced': 8849, 'versts': 30708, 'shopmen': 25570, 'smearing': 26155, 'gossiping': 12827, 'sufferings': 27586, 'buttered': 4571, 'paradoxalist': 20360, 'tramped': 29090, 'choked': 5491, 'coster': 6964, 'setter': 25300, 'wedged': 31302, 'cops': 6861, 'shafter': 25359, 'shack': 25346, 'disquiet': 8879, 'mortify': 18665, 'estranged': 10385, 'curacy': 7458, 'shirley': 25534, 'rector': 23201, 'zealously': 32073, 'discharging': 8641, 'infirm': 15075, 'commonplaces': 6168, 'hares': 13464, 'buckle': 4402, 'bonds': 3902, 'zaleshoff': 32063, 'ado': 1253, 'cooled': 6828, 'sighs': 25736, 'december': 7825, '22nd': 92, 'plumber': 21463, 'abstracted': 954, 'assizes': 2402, 'rummaged': 24417, 'teazing': 28271, 'boastfully': 3823, 'tenderer': 28345, 'vasiliefsky': 30575, 'pips': 21246, 'pomegranate': 21590, 'extolled': 10776, 'mellow': 17976, 'perfumed': 20851, 'tints': 28797, 'astir': 2431, 'constable': 6614, 'sullenly': 27635, 'aching': 1091, 'teemed': 28280, 'rhymes': 24019, 'guido': 13195, 'clericus': 5758, 'feint': 11143, 'undressing': 29870, 'relented': 23433, 'donkeys': 9138, 'curricle': 7489, 'factors': 10851, '_knew_': 473, 'intermediate': 15432, 'tropics': 29340, 'haggard': 13292, 'umblest': 29611, 'numble': 19433, 'assuaged': 2414, 'intersection': 15470, 'unfrequented': 29953, 'slouching': 26095, 'rhythmically': 24022, 'especial': 10344, 'denser': 8099, 'tattered': 28212, 'continuous': 6712, 'sills': 25788, 'evidences': 10456, 'untoward': 30333, '_scent': 693, 'companionship': 6196, 'adornment': 1268, 'recks': 23124, 'shrink': 25648, 'glided': 12656, 'storey': 27241, 'hissing': 13924, 'flitted': 11555, 'wallet': 31061, 'suppliant': 27746, 'paternoster': 20554, 'irresolutely': 15664, 'distinguishes': 8944, 'unguarded': 29985, 'define': 7951, '_many_': 514, 'liveliness': 17004, 'adjourns': 1206, 'featherhead': 11104, 'referring': 23268, 'weighs': 31322, 'candidly': 4750, 'lighten': 16850, 'insensibly': 15246, 'despising': 8273, 'recipe': 23100, 'vogue': 30905, 'trades': 29052, 'forger': 11838, 'utterer': 30474, 'unlawful': 30067, 'opener': 19801, 'purloiner': 22552, 'holder': 13979, 'coiner': 5978, 'sounders': 26494, 'fourths': 11954, 'gamut': 12323, 'prevention': 22038, 'contemporaries': 6675, 'ranged': 22875, 'tiles': 28746, 'illustrate': 14496, 'scriptures': 24980, 'cains': 4655, 'abels': 878, 'pharaoh': 21047, 'queens': 22680, 'sheba': 25449, 'messengers': 18096, 'abrahams': 925, 'belshazzars': 3315, 'prophet': 22299, 'tile': 28744, 'disjointed': 8785, 'artificer': 2290, 'townsman': 29023, 'tooby': 28910, 'commodious': 6157, 'situate': 25891, 'irrespective': 15666, 'mentor': 18040, 'telemachus': 28295, 'sage': 24546, 'lustrous': 17333, 'quintin': 22737, 'matsys': 17821, 'antwerp': 1940, 'verb': 30670, 'mauled': 17841, 'shearer': 25440, 'brander': 4110, 'dresser': 9318, 'curer': 7467, 'dyer': 9543, 'fuller': 12167, 'webster': 31296, 'deprecated': 8150, 'viii': 30782, 'concertina': 6354, 'artisan': 2295, 'hummed': 14275, 'meaningless': 17891, 'kensington': 16095, 'barbed': 2923, 'abbaye': 865, 'misconstruction': 18324, 'constraint': 6634, 'dunstable': 9484, 'brien': 4237, 'partic': 20462, 'ornamental': 19921, 'movables': 18743, 'skiff': 25924, 'projection': 22236, 'reef': 23249, 'dam': 7604, 'engines': 10085, 'inspectors': 15287, 'keepit': 16082, 'onything': 19788, 'hielandman': 13860, 'matured': 17832, 'project': 22233, 'misunderstanding': 18414, 'incongruities': 14846, 'chronicler': 5534, 'recording': 23181, 'gleaming': 12641, 'quail': 22632, 'mustachios': 18869, 'freemasonry': 12025, 'sufferers': 27583, 'slices': 26050, 'stimulated': 27150, 'diminishing': 8516, 'slice': 26048, 'competition': 6230, 'lovingly': 17223, 'consorted': 6607, 'almanac': 1617, 'lloyd': 17024, 'observance': 19533, 'magnates': 17435, 'mildly': 18188, 'banished': 2890, 'debauchee': 7791, 'investing': 15574, 'scrupulously': 24996, 'tormentor': 28945, 'caprice': 4823, 'nagging': 18928, 'pitilessly': 21292, 'torturer': 28965, 'kinsman': 16176, 'hamley': 13353, 'roan': 24173, 'willaby': 31587, 'madonna': 17415, 'pad': 20219, 'poisonings': 21534, 'purchased': 22532, 'euclid': 10402, 'geometry': 12504, 'hohenstockwitz': 13970, 'spooney': 26742, 'laved': 16547, 'critic': 7287, 'misinterpreted': 18360, 'deciphered': 7839, 'cataract': 5020, 'reticule': 23874, 'damiens': 7613, 'significancy': 25754, 'stamped': 26924, 'twining': 29540, 'awaken': 2687, 'vase': 30572, 'pedestal': 20695, 'lodged': 17069, 'departing': 8112, 'derision': 8187, 'curriculum': 7490, 'schoolfellows': 24866, 'sovereigns': 26524, 'outcasts': 19984, 'tranquilly': 29106, 'unprotected': 30170, 'friendless': 12071, 'defective': 7918, 'tiled': 28745, 'honeysuckles': 14038, 'garrets': 12368, 'september': 25243, 'benediction': 3339, 'apologetically': 1977, 'lor': 17162, 'mussy': 18868, 'desperation': 8267, 'mooncalfs': 18593, 'crock': 7302, 'skipped': 25944, 'panel': 20309, 'livery': 17012, 'relinquish': 23458, 'squared': 26834, 'budging': 4414, 'drizzle': 9354, 'ivory': 15733, 'bereavement': 3373, 'stumped': 27449, 'weakest': 31255, 'hebrew': 13706, 'reseated': 23723, 'boddle': 3840, 'prices': 22048, 'rooted': 24278, 'pier': 21150, 'unclean': 29732, 'glimmerings': 12662, 'scruodin': 24990, 'casual': 5007, 'mundane': 18808, 'conventions': 6774, 'inclineth': 14814, 'consort': 6606, 'probation': 22130, 'piratically': 21257, 'skulking': 25961, 'presentment': 21973, 'mummified': 18803, 'strung': 27414, 'vary': 30569, 'seniority': 25188, 'complaisant': 6248, '_younger_': 841, '_know_': 474, 'prepossession': 21956, '_eldest_': 330, 'restorative': 23831, 'recapitulation': 23079, 'approaches': 2077, 'captive': 4840, 'strive': 27381, 'farce': 10970, 'robs': 24198, 'feeding': 11129, 'dumbfounded': 9466, 'astounding': 2440, 'raked': 22842, 'smoky': 26187, 'stem': 27082, 'combatant': 6061, 'fortress': 11908, 'clerkship': 5763, 'drygoods': 9412, 'marvelled': 17741, '_three': 760, 'inexorably': 15029, 'gogol': 12762, 'molière': 18499, 'voltaire': 30922, 'infrequently': 15111, 'credited': 7212, 'profundity': 22212, 'betrays': 3451, 'fundamental': 12183, 'beards': 3098, 'proportions': 22311, 'cordial': 6877, 'enchant': 9983, 'chip': 5462, 'breeding': 4189, 'chagrined': 5174, 'trains': 29080, 'bradshaw': 4080, 'tapestried': 28161, 'screens': 24967, 'abace': 851, 'buffet': 4419, 'salver': 24615, 'soughing': 26485, 'wafted': 30989, 'portals': 21675, 'davydov': 7722, 'slanderers': 25987, 'halls': 13334, 'cockroach': 5926, 'sanguinely': 24662, 'embrasures': 9903, 'couples': 7036, 'talkers': 28117, 'gamblers': 12308, 'gambled': 12306, 'scattering': 24829, 'grodin': 13086, 'tolkatchenko': 28875, 'insurers': 15359, 'hatched': 13537, 'incubated': 14890, 'ostriches': 19952, 'incipient': 14801, 'lamplight': 16403, 'hunched': 14298, 'mails': 17464, 'abstained': 951, 'woody': 31777, 'wrapping': 31868, 'strand': 27290, 'navel': 19016, 'fishes': 11399, 'essence': 10359, 'pancakes': 20302, 'savoury': 24751, 'stoves': 27264, 'fussily': 12228, 'shiners': 25511, 'moody': 18590, 'moodin': 18586, 'lounger': 17199, 'overshadowed': 20139, 'deadened': 7749, 'surrender': 27826, '_you': 839, 'bargains': 2941, 'moujik': 18697, 'stagger': 26884, 'villagers': 30791, 'thigh': 28528, 'secretive': 25080, 'reticency': 23872, 'forgery': 11841, 'evans': 10423, 'jaundice': 15795, 'promote': 22257, 'dryness': 9415, 'keek': 16070, 'buoyed': 4489, 'impostor': 14672, 'uncontradicted': 29761, 'acme': 1103, 'bliss': 3710, 'italian': 15711, 'taunting': 28222, 'characterless': 5258, 'lifetime': 16844, 'immoral': 14558, 'worthless': 31844, 'shull': 25677, 'fourt': 11949, 'seasoned': 25053, 'undue': 29872, 'hereditary': 13798, 'hurst': 14337, 'curtsey': 7506, 'pauses': 20612, 'annesley': 1858, 'scrutinized': 25001, 'evaded': 10414, 'shrivelled': 25652, 'chained': 5176, 'pertness': 20969, 'greyhound': 13016, 'lengths': 16716, 'stead': 27022, 'wrapt': 31871, 'actress': 1144, 'hew': 13839, 'gadabout': 12253, 'lighter': 16853, 'cornish': 6902, 'fronted': 12115, 'blasted': 3655, 'deluged': 8033, 'employers': 9958, 'asylum': 2457, 'rejoin': 23402, 'console': 6600, 'wandsworth': 31091, 'hander': 13376, 'incapacitated': 14778, '12_s_': 14, 'blended': 3682, 'healed': 13639, 'contradictions': 6729, 'mirage': 18283, 'fabrication': 10831, 'impotent': 14677, 'euclidian': 10403, 'finale': 11331, 'suffice': 27588, 'resentments': 23735, 'loyalty': 17239, 'growlingly': 13129, 'westerly': 31369, 'archipelago': 2144, 'reefs': 23251, 'weathered': 31288, 'befell': 3193, 'headlands': 13625, 'buoys': 4490, 'stepfather': 27094, 'irks': 15632, 'acknowledgment': 1101, 'spunging': 26803, 'complimented': 6272, 'unmoved': 30111, 'aggie': 1410, '1756': 43, 'bloodsucker': 3743, 'economies': 9656, 'lamented': 16398, 'miser': 18336, 'abhorrent': 887, 'coping': 6852, 'plying': 21484, 'needles': 19069, 'monotonously': 18553, 'whensoever': 31418, 'furtively': 12221, 'chinese': 5456, 'chopsticks': 5508, 'enchantress': 9988, 'baulked': 3059, 'pitches': 21277, 'sways': 27917, 'cumulative': 7447, 'exceeded': 10511, 'sterndale': 27107, 'unused': 30345, 'ducking': 9430, 'marvellous': 17743, 'extenuating': 10760, 'colossal': 6044, 'wanton': 31099, 'obliterated': 19512, 'unquestioning': 30181, 'subordinate': 27512, 'bewitching': 3478, 'instability': 15296, 'corrupt': 6945, 'propensity': 22287, 'petty': 21030, 'infirmities': 15076, 'lawk': 16559, 'broodings': 4332, 'transient': 29128, 'complication': 6266, 'overbearing': 20063, 'restrictions': 23845, 'critique': 7297, 'odinon': 19661, 'illiterate': 14484, 'rectitude': 23200, 'integrity': 15368, 'assiduities': 2387, 'flatteries': 11483, 'insincerity': 15260, 'valueless': 30524, 'rache': 22772, 'yorkers': 32040, 'londoners': 17106, 'thunderstruck': 28684, 'memento': 17997, 'disarm': 8613, 'settler': 25306, 'punctual': 22506, 'stunned': 27454, 'systematic': 28051, 'inducing': 14988, 'tangible': 28140, 'twit': 29547, 'inscribed': 15235, 'unbrushed': 29696, 'unceasingly': 29708, 'remanded': 23479, 'troy': 29363, 'kartashov': 16062, 'russet': 24447, 'doublet': 9188, 'foxy': 11963, 'peaky': 20660, 'unkempt': 30059, 'matted': 17822, 'laborers': 16311, 'adjoining': 1203, 'freehold': 12021, 'demesne': 8049, 'undyed': 29877, 'striped': 27376, 'parti': 20458, 'hosen': 14132, 'disdain': 8714, 'sprawl': 26770, 'truss': 29395, 'stertorously': 27111, 'sheepishly': 25456, 'harness': 13484, 'cly': 5877, 'identical': 14411, 'boulogne': 4006, 'maligned': 17528, 'mustard': 18871, 'plated': 21364, 'coincidences': 5976, 'briton': 4295, 'beholders': 3254, 'entrances': 10207, 'dwellings': 9535, 'degenerated': 7967, 'tributary': 29265, 'channel': 5227, 'bedrooms': 3167, 'crayons': 7180, 'sociable': 26316, 'grievances': 13028, '_time_': 762, 'pyland': 22611, 'mapleton': 17644, 'locally': 17053, 'entertainments': 10182, 'unmingled': 30103, 'purest': 22541, 'duclida': 9433, 'cravats': 7169, 'reawakening': 23058, 'irreverence': 15671, 'slanting': 25993, 'stumbling': 27446, 'indecorously': 14905, 'experimental': 10681, 'omnipotent': 19766, 'bandaged': 2869, 'speciality': 26592, 'horizontally': 14098, 'brutal': 4378, 'congestively': 6501, 'chattel': 5319, 'prodigal': 22161, 'mash': 17750, 'fattened': 11049, 'sentimentalists': 25227, 'pastors': 20535, 'brotherhoods': 4341, 'expounded': 10734, 'meadows': 17877, 'neatness': 19039, 'prophesied': 22296, 'mildest': 18184, 'depreciation': 8157, 'propitiation': 22303, 'grossly': 13102, 'experts': 10685, 'cynical': 7560, 'tension': 28363, 'upheld': 30389, 'leaflet': 16594, 'hotels': 14155, 'cartwright': 4959, 'inflict': 15089, 'engender': 10079, 'avenger': 2640, 'inflammatory': 15082, 'chronically': 5531, 'keyholes': 16112, 'larceny': 16469, '_appearance_': 189, 'skipping': 25946, 'hopping': 14091, 'skip': 25943, 'dancer': 7631, 'sock': 26326, 'dustier': 9510, 'suffocation': 27596, 'chloroform': 5478, 'respiration': 23805, 'injected': 15165, 'ether': 10394, 'dimming': 8521, 'beguile': 3234, 'anglomaniac': 1830, 'andreevitch': 1804, 'disinherited': 8779, 'bailiwick': 2807, 'tolerant': 28871, 'tenor': 28359, 'insinuatingly': 15264, 'bashfully': 3007, 'aboriginal': 919, 'gleg': 12649, 'implored': 14643, 'harpy': 13491, 'dalrymple': 7602, 'scrupulous': 24995, 'factory': 10852, 'workpeople': 31809, 'pavements': 20620, 'palki': 20278, 'easel': 9597, 'antic': 1909, 'mountebank': 18715, 'vend': 30626, 'hones': 14028, 'strops': 27402, 'razors': 22975, 'washballs': 31161, 'paste': 20528, 'perfumery': 20853, 'cosmetics': 6956, 'wares': 31123, 'countrymen': 7028, 'ingeniously': 15117, 'willin': 31596, 'retort': 23881, 'affords': 1366, 'relieving': 23452, 'pupils': 22524, 'jezebel': 15869, 'tirade': 28808, 'perennial': 20831, 'wilkin': 31585, 'tipsy': 28804, 'commended': 6123, 'ud': 29589, 'brawny': 4141, 'waggon': 31002, 'compunction': 6314, 'incited': 14805, 'alley': 1590, 'excitements': 10546, 'wink': 31651, 'artillery': 2294, 'irreproachably': 15660, 'taciturn': 28071, 'waterway': 31212, 'dangerously': 7646, 'seaward': 25061, 'billows': 3533, 'dirtier': 8581, 'informers': 15108, 'noticeable': 19366, 'insubstantial': 15340, 'puzzling': 22607, 'gratifying': 12941, 'macgregor': 17377, 'hip': 13916, 'demeanour': 8045, 'brazier': 4146, 'ungraciously': 29979, 'watchfully': 31185, 'suggestions': 27607, 'unprepared': 30160, 'deadness': 7758, 'jean': 15808, 'baptiste': 2914, 'greuze': 13012, 'hatovo': 13551, 'overmastered': 20115, 'dreamt': 9304, 'denounce': 8093, '_all_': 175, 'meesion': 17957, 'justifies': 16029, 'map': 17642, 'munchausen': 18805, 'rideeculous': 24053, 'filler': 11317, 'fulfilment': 12165, 'honored': 14047, 'heh': 13730, 'fling': 11542, 'silvio': 25797, 'lermontov': 16739, 'connecting': 6531, 'truthfully': 29409, 'mischance': 18315, 'peterson': 21009, 'strengthen': 27339, '_gossip_': 404, '_particular_': 616, 'inducement': 14986, 'enviable': 10236, '_lady_': 481, 'luckiest': 17256, 'agreeableness': 1446, 'lass': 16489, 'malefactors': 17514, 'allay': 1577, 'prudhon': 22419, 'liberals': 16800, 'planters': 21354, 'blacks': 3612, 'whites': 31503, 'unkindness': 30063, 'overcame': 20069, 'eloping': 9843, 'unkindly': 30062, 'divorce': 9023, 'tedious': 28275, 'mittwalden': 18432, 'october': 19604, '_part_': 615, 'illegitimacy': 14478, 'enticing': 10193, 'watchful': 31184, 'vintner': 30823, 'maltster': 17542, 'flagons': 11439, 'implore': 14642, 'shave': 25425, 'suitors': 27624, 'lanced': 16415, 'interdict': 15408, 'trotted': 29343, 'shied': 25489, 'carrier': 4933, 'auld': 2579, 'girning': 12591, 'mony': 18582, 'hame': 13349, 'ance': 1781, 'sough': 26484, 'massacre': 17763, 'slaughtered': 26008, 'migrate': 18174, 'propaganda': 22283, 'sashes': 24692, 'armorial': 2222, 'feud': 11228, 'repay': 23586, 'distinctive': 8938, 'flagstones': 11443, 'gurgled': 13238, 'discoloured': 8654, 'grime': 13044, 'taper': 28158, 'shielding': 25492, 'unwontedly': 30372, 'demonstrative': 8065, 'pallor': 20282, 'practising': 21808, 'dealer': 7764, 'munro': 18816, 'slipping': 26076, 'dived': 8994, 'obsequiously': 19530, 'prophecy': 22295, 'indolently': 14978, 'beetling': 3190, 'ominous': 19757, 'reconduct': 23164, 'palpitated': 20288, 'ton': 28895, 'thins': 28546, 'criminology': 7267, 'analogous': 1762, 'godno': 12748, '66': 137, 'timidity': 28772, 'references': 23266, 'colmina': 6029, 'tightening': 28736, 'fabric': 10830, 'timorous': 28778, 'noodle': 19304, 'doggerel': 9075, 'convalescence': 6766, 'waggish': 31000, 'artless': 2301, 'placing': 21309, 'suggests': 27610, 'knocks': 16238, 'heroines': 13817, 'housekeeping': 14177, 'lances': 16416, 'coxon': 7108, 'drapers': 9265, 'venezuelan': 30639, 'cropper': 7328, 'ripping': 24132, 'testimonial': 28422, 'tether': 28431, 'stamps': 26926, 'envelopes': 10234, 'yea': 31989, 'braver': 4128, 'unction': 29773, 'mottled': 18696, 'marble': 17651, 'labelled': 16306, 'turtle': 29500, 'slab': 25971, 'liquid': 16952, 'statu': 27009, 'quo': 22752, 'providentially': 22391, 'divine': 9014, 'applicable': 2039, 'revelry': 23924, 'chew': 5405, 'traders': 29051, 'paths': 20562, 'needy': 19076, 'canoe': 4775, 'recalls': 23075, 'goodby': 12787, '_à': 846, 'la_': 16302, 'heine': 13738, 'mocked': 18454, 'deathly': 7781, 'anon': 1885, 'agonies': 1436, 'imperturbably': 14620, 'davie': 7717, 'mysel': 18897, 'meenistry': 17955, 'whilk': 31442, 'fondest': 11693, 'humbled': 14258, 'wheen': 31410, 'hieland': 13859, 'messages': 18094, 'onybody': 19786, '_two_': 777, 'signatures': 25749, 'asia': 2325, '117': 8, 'supplier': 27751, 'impending': 14596, 'rescuing': 23719, 'doted': 9179, 'jacobites': 15756, 'adventurers': 1291, 'doom': 9144, 'roughest': 24310, 'wilkins': 31586, 'squinting': 26856, 'encourages': 10008, 'cuckoo': 7413, 'owl': 20184, 'spotty': 26762, 'poked': 21539, '_pan_': 604, 'sally': 24592, 'tumultuous': 29458, 'grinding': 13058, 'writt': 31926, 'ded': 7883, 'stinger': 27157, 'unbend': 29677, 'felony': 11164, 'cultivated': 7437, 'splendidly': 26707, 'bigotry': 3519, 'speechless': 26623, 'ruffled': 24388, 'transporting': 29156, 'subscription': 27518, 'tarp': 28179, 'sceptical': 24839, 'tearless': 28263, 'feverish': 11233, 'fencer': 11174, 'foil': 11662, 'shift': 25495, 'prefers': 21914, 'avenge': 2638, 'fencing': 11177, 'boded': 3841, 'paddington': 20221, 'kaleidoscopic': 16044, 'bookstall': 3935, 'blackthorn': 3615, 'drawbridge': 9275, 'skiffins': 25925, 'bookkeeper': 3929, 'omission': 19759, 'broached': 4299, 'feats': 11108, 'deserter': 8219, 'embarrassing': 9874, 'coherent': 5962, 'lurching': 17314, 'reverberation': 23936, 'mummy': 18804, 'alien': 1556, 'hue': 14220, 'frailly': 11977, 'cobbler': 5905, 'prospered': 22340, 'publication': 22448, 'lecturing': 16652, 'proves': 22385, 'chords': 5510, 'morcar': 18628, 'carbuncle': 4859, 'cushions': 7525, 'tribe': 29258, 'wander': 31082, 'ooze': 19794, 'rove': 24334, 'squirted': 26862, 'plentifully': 21421, 'poop': 21625, 'bulwark': 4463, 'juryman': 16019, 'whopping': 31527, 'follering': 11677, 'unbeknown': 29671, 'reigned': 23374, 'crossness': 7343, 'foppish': 11740, 'freshly': 12054, 'strokes': 27389, 'masterpiece': 17779, 'zurich': 32100, 'jena': 15822, 'fixity': 11430, 'effusive': 9729, 'faro': 10991, 'offences': 19683, 'prowled': 22409, 'reappears': 23029, 'incurable': 14895, 'crones': 7316, 'piteous': 21281, 'sundry': 27676, 'keyhole': 16111, 'prescribed': 21960, 'privily': 22119, 'hardacre': 13444, 'attrition': 2547, 'predisposed': 21894, 'afanasy': 1324, '_why': 827, 'heats': 13691, 'chuckle': 5542, 'gourval': 12839, 'nutbourne': 19453, 'owes': 20182, 'deniers': 8082, 'easing': 9603, 'nailed': 18930, 'pin': 21204, 'francs': 11991, 'chops': 5507, 'vegetables': 30603, 'bouncing': 4012, 'affably': 1334, 'odiny': 19673, 'bowyer': 4050, 'undergraduate': 29792, 'unembarrassed': 29886, 'diffused': 8468, 'spasmodically': 26570, 'tickled': 28708, 'plead': 21394, 'pedestrian': 20696, 'thermometer': 28509, 'freezing': 12033, 'stationery': 27002, 'beryl': 3396, 'valued': 30523, 'receding': 23083, 'goblin': 12736, 'stiffening': 27129, 'chop': 5503, 'maps': 17646, 'rims': 24103, 'tablecloths': 28063, 'charts': 5300, 'dominions': 9127, 'crumbs': 7389, 'international': 15443, 'deductions': 7892, 'nob': 19242, 'musical': 18854, 'piled': 21176, 'normans': 19320, 'bulwarks': 4464, 'rovers': 24337, 'booms': 3941, 'huddling': 14218, 'rabbits': 22764, 'ferrets': 11202, 'ruth': 24465, 'humankind': 14253, 'paradox': 20359, 'proprietors': 22329, 'porlock': 21663, 'drubbing': 9391, 'mcevoy': 17872, 'locusts': 17066, 'harnessed': 13485, 'hostler': 14150, 'gallantly': 12283, 'tauntingly': 28223, 'punish': 22512, 'hughes': 14233, 'respectably': 23793, 'starvation': 26983, 'duror': 9502, 'glens': 12651, 'ardshiel': 2164, 'rosy': 24289, 'howsoever': 14206, 'drags': 9248, 'trotting': 29345, 'gripping': 13067, 'persist': 20925, 'undulating': 29874, 'rollers': 24235, 'crests': 7240, 'foaming': 11642, 'surges': 27797, 'tire': 28809, 'barren': 2974, '_say_': 690, 'forte': 11890, 'drums': 9403, 'swooped': 28000, 'clusters': 5871, 'norsemen': 19324, 'levant': 16763, 'moors': 18606, 'barbary': 2921, 'hues': 14222, 'countries': 7024, 'merchantman': 18052, 'castile': 4997, 'depreciating': 8156, 'cavil': 5081, 'reigning': 23375, 'kneller': 16215, 'reynolds': 24004, 'seventies': 25317, 'lancashire': 16410, 'qualification': 22639, 'glasgow': 12630, 'predominant': 21896, 'extraction': 10786, 'tufted': 29440, 'rustics': 24459, 'confines': 6460, 'diplomatist': 8556, 'rascals': 22916, 'matchlocks': 17795, 'unoccupied': 30126, 'rumble': 24410, 'jumpers': 15997, 'emperor': 9942, 'freethinkers': 12029, 'confide': 6444, 'benevolence': 3350, 'diplomatic': 8555, 'pheasants': 21053, 'otwell': 19965, 'suite': 27619, 'grosvenor': 13104, 'mansions': 17621, 'pigeon': 21163, 'hurlingham': 14325, 'brokers': 4323, 'obits': 19489, 'unentailed': 29892, 'walrus': 31070, 'cutwater': 7551, 'leastways': 16626, 'quartermaster': 22663, 'rulers': 24405, 'wipe': 31665, 'inclosing': 14817, 'miscarry': 18312, 'overdue': 20086, 'hawser': 13593, 'whistled': 31489, 'trident': 29278, 'mermaid': 18076, 'forethought': 11824, 'ironmonger': 15641, 'mashed': 17751, 'potatoes': 21748, 'kittle': 16195, 'oysters': 20200, 'stewed': 27120, 'kidneys': 16128, 'pastrycook': 20537, 'jelly': 15818, 'stammer': 26920, '_near_': 564, 'impropriety': 14710, 'unsolicited': 30276, 'grab': 12857, 'paged': 20237, 'chiefs': 5422, 'annoyances': 1873, 'housebreaker': 14170, 'trinkets': 29300, 'constitute': 6625, 'extenuates': 10759, 'mohammedan': 18478, 'glorifying': 12697, 'tormentors': 28946, 'coz': 7113, 'hedged': 13712, 'evergreens': 10444, 'flagstaff': 11441, 'flounce': 11590, 'flannel': 11460, 'nankeen': 18952, 'omitting': 19764, 'incensed': 14789, 'gush': 13244, 'joviality': 15957, 'liberality': 16798, 'jackson': 15753, 'urim': 30439, 'thummim': 28670, 'whosoever': 31529, 'liveth': 17014, 'believeth': 3286, 'believest': 3285, 'misunderstand': 18413, 'kinds': 16162, 'slinking': 26070, 'conclusive': 6373, 'scented': 24835, 'soap': 26300, 'printer': 22091, 'dispose': 8859, 'demonstration': 8063, 'lisped': 16961, 'deportment': 8134, 'aggrieved': 1419, '_kammerherr': 469, 'rallying': 22849, 'discomfited': 8655, 'oranges': 19856, 'unutterable': 30348, 'smashed': 26149, 'rankeillor': 22878, 'presses': 21989, 'outlook': 20017, 'enables': 9976, 'domiciliary': 9112, 'besieged': 3407, 'wilcox': 31568, 'dundee': 9478, 'physique': 21110, 'entomologist': 10201, 'coleopterist': 5992, '77b': 143, 'intaking': 15367, 'bumptious': 4471, 'insurgents': 15360, 'plunder': 21472, 'whoops': 31525, 'tapestries': 28162, 'strutted': 27415, 'plumed': 21466, 'helmets': 13754, 'loins': 17092, 'cellars': 5108, 'starving': 26986, 'goblet': 12734, 'draining': 9252, 'vintages': 30822, 'slabs': 25972, 'crackling': 7130, 'limbed': 16887, 'kneed': 16208, 'undergrown': 29795, 'dangled': 7649, 'reproaching': 23656, 'tardiness': 28171, 'urging': 30436, 'unresponsive': 30218, 'scrapings': 24949, 'charcoal': 5262, 'captivity': 4842, 'vicinity': 30745, 'fruitless': 12142, 'pinnacle': 21224, 'flock': 11560, 'stipendiary': 27166, 'emoluments': 9936, 'appertaining': 2024, 'abets': 882, 'eureka': 10408, 'ekshaisk': 9768, 'canaries': 4741, 'overstay': 20148, 'chances': 5209, 'distraction': 8955, 'poictiers': 21513, 'pascal': 20498, 'stow': 27265, 'surplus': 27817, 'population': 21645, 'losses': 17179, 'retirement': 23878, 'napoleons': 18960, 'unpack': 30132, 'crate': 7166, 'bullion': 4454, 'directors': 8572, 'misgivings': 18352, 'pall': 20279, 'charging': 5270, 'routing': 24333, 'embattled': 9879, 'vapours': 30552, 'marvelous': 17745, 'conflagration': 6472, 'wreaths': 31879, 'glimpses': 12664, 'slatternly': 26005, 'reinvasion': 23389, 'gloomiest': 12687, 'dye': 9541, 'assail': 2353, 'inconsolable': 14857, 'dawning': 7730, 'derive': 8191, 'representation': 23634, 'vert': 30710, 'cotises': 6976, 'dancette': 7634, 'gules': 13213, 'mislead': 18364, 'hows': 14204, 'ached': 1082, 'gracechurch': 12860, '_monday': 544, 'august_': 2575, 'spill': 26669, 'sne': 26234, 'gi': 12539, 'ryov': 24478, 'pompously': 21600, 'exasperated': 10502, 'cove': 7069, 'alternated': 1651, 'lull': 17282, 'gusts': 13249, 'dismally': 8797, 'kyaw': 16298, 'beaches': 3078, 'combinations': 6068, 'orchestral': 19866, 'hurly': 14328, 'mirthful': 18291, 'portentous': 21679, 'discarding': 8632, 'bawl': 3062, 'umbly': 29612, 'shorn': 25577, 'prowess': 22407, 'simpson': 25822, 'trio': 29301, '_red': 667, 'earl_': 9568, 'analytical': 1770, 'unraveling': 30185, 'hackney': 13285, 'dismounted': 8809, 'carnation': 4904, 'waverers': 31225, 'gabble': 12244, 'beamingly': 3090, 'cocks': 5927, 'intervene': 15474, 'wetted': 31381, 'capsule': 4831, 'deem': 7898, 'attesting': 2529, 'individually': 14973, 'collectively': 6015, 'shog': 25557, 'womanish': 31745, 'hatching': 13541, 'nudging': 19418, 'sheared': 25439, 'abolished': 912, 'lopped': 17159, 'scripture': 24979, 'namesake': 18945, 'blinder': 3699, 'restoring': 23835, 'refers': 23269, 'senora': 25192, 'lapped': 16461, 'eaves': 9622, 'snowdrifts': 26279, 'noontide': 19310, 'pomegranates': 21591, 'gem': 12432, 'sacramental': 24504, 'thirsting': 28555, 'paled': 20269, 'effusively': 9730, 'shrewsbury': 25635, 'reviewed': 23964, 'seesaw': 25131, 'abject': 895, 'patronizing': 20590, 'blubbering': 3773, 'draughts': 9269, 'unfrosted': 29959, 'playfellow': 21382, '_read_': 659, 'stalk': 26910, 'blend': 3681, 'elephant': 9803, '100': 2, 'nearing': 19033, 'achieved': 1086, 'esthetically': 10379, 'impressionable': 14691, 'suppress': 27769, 'imposture': 14675, 'nonconformist': 19295, 'baggy': 2800, 'hare': 13462, 'reasoner': 23042, 'venting': 30654, 'criticisms': 7293, 'gamiani': 12320, '_mine_': 536, 'degenerate': 7966, 'jerky': 15836, 'gesticulations': 12522, 'appealed': 2006, 'ducky': 9432, 'bond': 3900, 'fasts': 11023, 'measures': 17908, 'drain': 9249, 'muscadine': 18839, 'barns': 2959, 'fumbled': 12174, '_pledge_': 631, 'planed': 21337, 'workshop': 31811, 'untie': 30324, 'transfigured': 29118, 'christchurch': 5520, 'recruit': 23195, 'maids': 17459, 'varvinsky': 30568, 'revulsions': 23997, '_because': 212, 'father_': 11033, 'whoso': 31528, 'forsakes': 11881, 'ignoring': 14460, 'greylands': 13018, 'retrieve': 23897, 'eluding': 9853, 'mediate': 17929, 'murrain': 18837, 'meaneth': 17889, 'shrugging': 25664, 'tolerate': 28872, 'rudeness': 24373, 'emaciation': 9860, 'strips': 27380, 'ammonia': 1732, 'dreaminess': 9300, 'preoccupation': 21942, 'kapernaumov': 16053, 'reassembled': 23048, 'mongoose': 18529, 'funnily': 12199, 'volunteered': 30931, 'exonerated': 10636, 'collaboration': 5996, 'implicating': 14635, 'intentional': 15391, 'incognito': 14825, 'undeveloped': 29849, 'trevelyan': 29250, 'knox': 16259, 'ironhill': 15638, 'wronging': 31934, 'montoni': 18576, 'workings': 31805, 'anxiousness': 1948, 'dispense': 8837, '_didn': 306, 'vacation': 30485, 'pooh': 21620, 'scornfully': 24908, 'stems': 27084, 'hampered': 13361, 'sprawling': 26772, 'turf': 29473, 'grappled': 12918, 'reproving': 23668, 'nozzle': 19413, 'betsy': 3458, 'wallace': 31058, 'immeasurably': 14541, 'scale': 24773, 'gulping': 13223, 'teasing': 28267, 'quart': 22659, 'malmsey': 17535, 'atwood': 2549, 'summon': 27653, 'slandering': 25988, 'wildcat': 31570, 'mantlet': 17630, 'extravagances': 10793, 'drownded': 9383, 'demise': 8052, '_o': 580, 'ciel_': 5571, 'denegation': 8077, 'offing': 19712, 'floe': 11564, 'quags': 22631, 'fortified': 11900, 'invaders': 15538, 'eke': 9764, 'sessions': 25295, 'shouldering': 25597, 'visage': 30848, 'sunflower': 27677, 'superiority': 27716, 'unfelt': 29928, 'defies': 7946, 'eligibly': 9819, 'albans': 1517, 'dispositions': 8864, 'oozed': 19795, 'controverted': 6760, 'docket': 9041, 'booking': 3926, 'lazily': 16577, 'finery': 11347, 'additional': 1172, 'teller': 28302, 'crow': 7350, 'popper': 21637, 'hampole': 13363, 'outshoot': 20035, 'di': 8404, 'roma': 24242, 'venice': 30642, 'chrysanthemums': 5536, 'pictured': 21137, 'percival': 20820, 'olive': 19743, 'nets': 19132, 'jawed': 15800, 'pike': 21171, 'gascon': 12379, 'petrov': 21021, 'detachment': 8309, 'burdens': 4494, 'macrimmon': 17392, 'wensleydale': 31354, 'wist': 31691, 'massa': 17762, 'sah': 24549, 'invitingly': 15593, 'tingled': 28786, 'brooks': 4336, 'offs': 19713, 'mistakes': 18396, 'thankless': 28453, 'beware': 3472, 'scuddamore': 25005, 'penuriousness': 20792, 'novitiate': 19406, 'recreant': 23191, 'symbol': 28018, 'blessings': 3689, 'granges': 12909, 'scrolls': 24984, 'realm': 23017, 'outlying': 20018, 'equestrian': 10280, 'poised': 21526, 'hawksley': 13590, 'nicely': 19169, 'sublimity': 27500, 'gunner': 13230, 'hailstones': 13303, 'hoarding': 13943, 'trainers': 29078, 'jockey': 15889, 'subtler': 27543, 'disappearing': 8602, 'scare': 24809, 'caressingly': 4887, 'lessening': 16745, 'interrogate': 15455, 'remington': 23504, 'typewriter': 29571, 'toothache': 28918, 'sneezing': 26245, 'oberstein': 19484, 'semionovitch': 25169, 'canyon': 4798, 'amassed': 1672, 'bloodhounds': 3736, 'sussex': 27865, 'happenings': 13425, 'imprudent': 14722, 'rippling': 24136, 'tray': 29186, 'recklessness': 23118, 'fittest': 11419, 'composing': 6282, 'halloa': 13329, 'neatest': 19037, 'binding': 3539, 'unspeakably': 30282, 'mediation': 17930, 'battles': 3055, 'curtail': 7499, 'inexpressibly': 15037, 'depreciated': 8155, 'ustyevo': 30460, 'huffily': 14225, 'elated': 9777, 'communications': 6180, 'slimy': 26065, 'squeaking': 26845, 'scuttling': 25021, 'matey': 17804, 'redskins': 23239, '_last': 485, 'mohicans_': 18479, 'tackle': 28075, 'citizens': 5620, 'wart': 31155, 'wilds': 31578, 'maire': 17477, 'rigours': 24097, 'heroes': 13814, 'whereon': 31424, '_deus': 303, 'machinâ_': 17383, 'minions': 18254, 'charms': 5294, 'retailed': 23857, 'berthelinis': 3393, 'reassert': 23049, 'interlocutor': 15429, 'instanter': 15309, 'grutch': 13159, 'francois': 11990, 'villet': 30802, 'bales': 2831, 'offerings': 19697, 'penance': 20739, 'undertaken': 29823, 'disconcerting': 8665, 'overhearing': 20101, 'snatch': 26229, 'peacock': 20655, 'bethink': 3437, 'pardons': 20401, 'sheathe': 25445, 'crave': 7170, 'tarried': 28182, 'caricaturing': 4896, 'recruiting': 23197, 'pancras': 20303, 'burial': 4511, 'mistook': 18401, 'nips': 19238, 'conjured': 6524, 'showery': 25620, 'excellencies': 10520, 'chodinged': 5483, 'parade': 20355, 'maniacs': 17587, 'thirteen': 28558, 'englishwoman': 10092, 'thereabouts': 28501, 'gable': 12248, 'butlers': 4566, 'maidservants': 17461, 'overfed': 20087, 'underworked': 29837, 'reins': 23386, 'churchwarden': 5555, 'tactfully': 28080, 'drummer': 9400, 'buttoned': 4576, 'stylishly': 27475, 'brim': 4264, 'batiste': 3038, 'knob': 16229, 'patriot': 20572, 'kukolnik': 16292, 'edition': 9686, '1830': 56, 'summertime': 27650, 'lilac': 16880, 'poetically': 21509, 'trafalgar': 29061, 'blaws': 3660, 'delays': 7994, 'dilatoriness': 8501, 'stomacher': 27210, 'garters': 12375, 'grandmother': 12905, 'tires': 28813, 'laced': 16324, 'watercourses': 31197, 'hips': 13918, 'rebounded': 23067, 'peas': 20670, 'meagre': 17878, 'generalities': 12444, 'perpetrator': 20895, 'enquired': 10137, 'imploringly': 14645, 'manifesto': 17594, '1859': 60, 'excluding': 10559, 'intervening': 15476, 'zakkaritch': 32062, 'tighter': 28737, 'guffawed': 13185, 'scrape': 24945, 'pipers': 21240, 'resorted': 23779, 'blots': 3758, 'enquiry': 10140, 'unacknowledged': 29629, 'revealment': 23916, 'karlsruhe': 16058, 'reform': 23287, 'agonised': 1437, 'unrestrained': 30221, 'trustful': 29400, '_compassion_': 272, 'buccaneers': 4392, '_sarah_': 687, 'packets': 20216, 'rowing': 24344, 'hams': 13368, 'hearken': 13655, 'cruiser': 7382, 'drumming': 9401, 'spyers': 26818, 'chickweed': 5415, 'fractured': 11966, 'jem': 15819, 'shoots': 25565, 'dives': 9006, '_real_': 661, 'negus': 19097, 'acquiesced': 1112, 'skinners': 25939, 'accentuating': 990, 'poking': 21543, 'gaiters': 12275, 'bestow': 3429, 'connoisseurs': 6542, 'puffy': 22467, 'honeyed': 14036, 'modulation': 18475, 'underbred': 29786, 'incredibly': 14882, 'babyish': 2749, 'creditable': 7210, 'probity': 22134, 'tour': 28996, 'highlands': 13875, 'continent': 6697, 'distractions': 8956, 'ultimate': 29601, 'laborious': 16312, 'constabulary': 6616, 'pealed': 20662, 'ducked': 9429, 'thighs': 28529, 'hurtled': 14342, 'scathless': 24826, 'midriff': 18162, 'peacefully': 20649, 'limner': 16904, 'incitement': 14806, 'churches': 5553, 'scolds': 24894, 'twanging': 29519, 'squadrons': 26822, 'armor': 2219, 'chargeable': 5265, 'meritorious': 18072, 'personality': 20937, '_last_': 486, 'unfastened': 29918, 'coil': 5966, 'eves': 10453, 'confirms': 6468, 'hop': 14077, 'exulting': 10812, 'inoffensive': 15205, 'brutes': 4382, 'survivals': 27842, 'pounce': 21771, 'brushwood': 4374, 'tigers': 28733, 'mice': 18139, 'undermine': 29805, 'subsist': 27526, 'projects': 22239, 'contemplate': 6668, 'testamentary': 28413, '_almost_': 177, 'pottle': 21760, 'pirret': 21263, 'admissible': 1236, 'jets': 15852, 'charred': 5298, 'bitten': 3577, 'amber': 1686, 'suicides': 27613, 'mindful': 18237, 'misty': 18412, 'vahrushin': 30498, 'recommendations': 23155, 'attestation': 2527, 'heedless': 13720, 'founders': 11939, 'intermediary': 15431, 'unfair': 29911, '1429': 20, 'flighty': 11538, 'showers': 25619, 'fainter': 10884, 'speck': 26601, 'hoot': 14073, 'archways': 2152, 'plastered': 21359, 'fagots': 10870, 'worcestershire': 31787, 'moidores': 18485, 'abdullah': 874, 'khan': 16114, 'bootjack': 3951, 'entrapped': 10209, 'immaterial': 14538, '_inseparable_': 451, 'zeiss': 32074, 'boomed': 3939, 'stroking': 27390, 'majestic': 17482, 'ignoble': 14449, 'superficial': 27705, 'swindle': 27967, 'ironworks': 15645, 'collieries': 6021, 'gauge': 12404, 'trolly': 29328, 'cars': 4944, 'distribution': 8967, 'redgauntlet': 23224, 'despond': 8277, 'heartsease': 13683, 'eliminated': 9822, 'accidents': 1010, 'pampeluna': 20295, 'neighboring': 19101, 'nuit': 19422, 'ortingo': 19932, 'shields': 25493, 'hillside': 13889, 'loosing': 17155, 'curt': 7498, 'unsightly': 30263, 'pembroke': 20734, 'rains': 22830, 'tartly': 28188, 'archimandrite': 2142, 'reviewer': 23965, 'atheistic': 2464, 'gloss': 12702, 'hoodwinking': 14060, '_grace': 406, 'dieu_': 8451, 'trumped': 29384, '_et': 348, 'puis_': 22472, '_cela': 251, 'rassurant': 22924, 'degré': 7975, 'proffered': 22192, 'quicksilver': 22718, 'sandbanks': 24645, 'ripples': 24135, 'sided': 25715, 'swan': 27900, 'flexible': 11526, 'multiplied': 18790, 'visionary': 30858, 'teacups': 28256, 'wineglasses': 31645, 'realities': 23009, 'speller': 26637, 'complications': 6267, 'administration': 1221, 'substitution': 27539, 'preoccupations': 21943, 'newcomer': 19151, 'echo': 9642, 'tailing': 28091, 'revenue': 23931, 'lugger': 17271, 'kitt': 16193, 'supervisor': 27737, 'voiced': 30907, 'sandwich': 24652, 'constrictor': 6635, 'mudbank': 18762, 'reposing': 23629, 'neckerchief': 19054, 'reddish': 23217, 'ornamented': 19922, 'detracted': 8337, 'ammunition': 1733, 'hoist': 13971, 'shamed': 25382, 'embroidery': 9907, 'canvas': 4794, 'analyze': 1771, 'incapacity': 14779, 'hopeful': 14080, 'davoust': 7720, '_bah': 208, 'devient': 8360, 'superstitieux': 27729, '_moi': 542, 'autre': 2620, 'monger': 18527, 'grievance': 13027, 'broadest': 4304, 'amersham': 1711, 'cairo': 4658, 'senor': 25191, 'hodding': 13962, 'intrinsically': 15511, 'coarsest': 5893, 'privation': 22114, 'heartfelt': 13669, 'slowness': 26105, 'enunciation': 10231, 'lisping': 16962, 'incomplete': 14840, 'chord': 5509, 'contralto': 6733, 'hoarseness': 13948, 'threads': 28613, 'borisovna': 3971, 'bluntly': 3791, 'rooster': 24275, 'gamest': 12317, 'laconically': 16343, 'jongleur': 15926, 'tingling': 28787, 'redoubling': 23231, 'twofold': 29559, 'imparting': 14582, 'retraced': 23885, 'kale': 16042, 'bairns': 2809, 'forby': 11758, 'staunch': 27015, 'brokenly': 4322, 'hove': 14189, 'concussion': 6386, 'bitts': 3584, 'dolefully': 9089, 'unweatherly': 30357, 'carven': 4962, 'scroll': 24983, 'discontinuance': 8674, 'evolutions': 10470, 'coaxingly': 5903, 'halves': 13346, 'afterpiece': 1393, 'hornpipe': 14102, 'outdo': 19988, 'ecclesford': 9637, 'pioneer': 21232, 'fatter': 11050, 'placidest': 21306, 'personify': 20941, 'britannia': 4291, 'somnolence': 26426, 'cones': 6423, 'headlights': 13627, 'limousine': 16907, 'symbolic': 28019, 'reopen': 23573, 'pricking': 22053, 'thunderbolt': 28676, 'inquisitor_': 15223, 'insular': 15345, 'moans': 18446, 'fungus': 12192, 'pallet': 20280, 'frenzel': 12040, 'reverses': 23953, 'apprehending': 2064, 'malady': 17503, 'stairhead': 26901, 'cooling': 6832, 'ennui': 10130, 'companionableness': 6193, 'birthplace': 3556, 'matrons': 17818, 'pinched': 21208, 'faut': 11062, 'prêt': 22427, 'voyez': 30963, 'chaque': 5248, 'phew': 21059, 'disappears': 8603, '_employé_': 335, 'uninformed': 30024, 'thready': 28614, 'vitus': 30880, 'catchy': 5027, 'pitchy': 21280, 'loom': 17136, 'localise': 17051, 'recompense': 23158, 'vigilantly': 30773, 'kids': 16129, 'clashing': 5690, 'deafening': 7761, 'subside': 27523, 'assemble': 2363, 'analyzed': 1772, 'missions': 18386, '_affect_': 164, 'bridging': 4230, 'scooping': 24898, 'cracks': 7131, 'fagot': 10869, 'oui': 19973, 'pris': 22099, 'mot': 18678, 'égal': 32107, 'castro': 5005, 'captal': 4835, 'buch': 4393, 'plucks': 21456, 'clisson': 5803, 'stirs': 27181, 'strife': 27365, 'mole': 18494, 'pommers': 21594, 'lesparre': 16742, 'odinm': 19657, 'perducas': 20825, 'albret': 1523, 'souldich': 26488, 'trane': 29099, 'quercy': 22693, 'saintonge': 24565, 'poitou': 21537, 'guiscard': 13209, 'ermine': 10303, 'data': 7706, 'theorise': 28495, 'bradley': 4079, 'shag': 25362, 'quoting': 22760, 'epigrams': 10256, 'boileau': 3873, 'answers': 1896, 'baths': 3036, 'browned': 4352, 'reflectively': 23283, 'transports': 29157, 'dilatory': 8502, 'coxe': 7106, 'ducal': 9426, 'toggenburg': 28854, 'tannhäuser': 28150, 'superficially': 27706, 'sparks': 26562, 'interlards': 15426, 'ambitions': 1689, 'ungracefully': 29977, 'hoyden': 14208, 'cleopatra': 5751, 'embroils': 9908, 'swains': 27888, 'uninteresting': 30032, 'authoress': 2602, 'discoveries': 8695, 'phosphorus': 21088, 'sixpenny': 25899, 'blindfolded': 3701, 'decoy': 7873, 'simpering': 25808, 'obeying': 19488, 'dramatic': 9256, 'whiffs': 31436, 'aromatic': 2234, 'vinegar': 30814, 'lawns': 16562, 'roundly': 24321, 'regain': 23315, 'quicksand': 22716, 'lendings': 16711, 'evoked': 10468, 'zlatoverhoff': 32092, 'gaffer': 12257, 'higginson': 13865, 'appy': 2094, 'spun': 26802, 'teetotum': 28286, 'taps': 28167, 'bricked': 4214, 'profiting': 22202, 'familiarized': 10939, 'sedateness': 25099, 'glim': 12658, 'safer': 24537, 'contraband': 6719, 'sympathies': 28029, 'smugglers': 26211, 'albanian': 1516, 'boundaries': 4014, 'choosers': 5500, 'outlaws': 20008, 'bargainers': 2939, 'speculate': 26614, 'honouring': 14054, 'cordiality': 6878, 'flicking': 11533, 'sanity': 24663, 'gulps': 13224, 'apologetic': 1976, 'crockery': 7303, 'poodles': 21618, 'mantel': 17624, 'unacceptable': 29622, 'godliness': 12746, 'cot': 6972, 'sty': 27471, 'malt': 17537, 'storehouse': 27239, 'vat': 30584, 'scents': 24837, 'reek': 23252, 'sample': 24624, 'recluses': 23131, 'extravagantly': 10795, 'chappie': 5245, 'expectant': 10652, 'hulks': 14240, 'dreading': 9294, 'rebuke': 23070, 'archbishop': 2132, 'ashy': 2324, 'sketched': 25916, 'indiscriminately': 14959, 'panegyric': 20308, 'telegraph': 28291, 'jay': 15802, 'plumage': 21462, 'acclimatization': 1015, 'hobbies': 13954, 'peccary': 20680, 'gorgeously': 12808, 'oriole': 19914, 'armadillo': 2206, 'intoed': 15492, 'badger': 2787, 'peached': 20652, 'cancelled': 4745, 'prepossessing': 21955, 'presumed': 22001, 'heroine': 13816, 'animosities': 1846, 'persecutions': 20915, 'instigator': 15316, 'greatcoats': 12978, 'traveling': 29175, 'presentiments': 21970, 'illegitimate': 14479, 'legitimate': 16694, 'envious': 10238, 'discreetly': 8703, 'grat': 12929, 'straucht': 27315, 'brawly': 4139, 'sic': 25698, 'ntrae': 19415, 'banning': 2908, 'carlisle': 4898, 'reprimand': 23646, 'thenceforth': 28485, 'stretcher': 27348, 'eventful': 10437, 'insensibility': 15244, 'detestation': 8332, 'warehouses': 31122, 'crumbling': 7388, 'chancery': 5208, 'thriving': 28635, 'treasuring': 29202, 'arching': 2143, 'tanned': 28147, 'nostril': 19344, 'jaw': 15799, 'scarred': 24818, 'dinted': 8549, 'surcoat': 27781, 'sprig': 26780, 'gear': 12429, 'raining': 22829, 'whirlwind': 31469, 'funks': 12195, 'nuisance': 19420, 'unloaded': 30074, 'confesses': 6436, 'pafnute': 20232, 'consuming': 6651, 'acknowledgments': 1102, 'receipts': 23086, 'characteristics': 5256, '_journal': 464, 'entomological': 10200, 'science_': 24877, 'acushla': 1151, 'flourish': 11595, 'leetle': 16668, 'pennant': 20768, 'buckets': 4398, 'inferiors': 15065, 'ballade': 2837, 'dumbly': 9468, 'unfits': 29933, 'revolvers': 23994, 'firearm': 11366, 'tenderest': 28346, 'brilliantly': 4262, 'liveried': 17009, 'placidly': 21308, 'finnish': 11363, 'unforgiving': 29943, 'unweariedly': 30355, 'grated': 12931, 'gaoler': 12331, 'apparitions': 2004, 'ryght': 24475, 'worchypful': 31788, 'brackley': 4078, 'knyght': 16263, 'thys': 28693, 'delyvered': 8038, 'aquiline': 2108, 'unreservedly': 30214, 'unpopularity': 30153, 'immortality': 14561, 'stephen': 27095, 'shallnae': 25372, 'shivering': 25539, 'complexions': 6260, 'superlative': 27718, 'supernat': 27722, 'ral': 22846, 'settlement': 25304, 'convert': 6789, 'phaeton': 21041, 'equipages': 10284, 'starch': 26959, '7th': 145, 'espied': 10346, 'beacon': 3079, 'muckleross': 18760, 'thickets': 28519, 'craig': 7141, 'treading': 29193, 'brailed': 4092, 'drafted': 9238, 'renunciation': 23571, 'westwards': 31378, 'altimeter': 1659, 'droning': 9365, 'unclouded': 29738, 'barograph': 2962, 'purring': 22567, 'indicator': 14939, 'petrol': 21019, 'aviators': 2657, 'unreliable': 30206, 'reveled': 23921, 'aims': 1483, 'slumberous': 26114, 'mummery': 18801, 'stinks': 27163, 'firmer': 11384, 'evermore': 10449, 'chaperons': 5240, 'guarantees': 13164, 'inborn': 14773, 'ineradicable': 15018, 'decorums': 7872, '_we_': 814, 'needlessness': 19072, 'laurels': 16540, 'wreath': 31876, 'unwithered': 30369, 'mesdames': 18088, 'realistic': 23007, 'patties': 20602, 'egyptian': 9746, 'stringing': 27372, 'visitin': 30865, 'reserving': 23741, 'perpetuity': 20901, 'husbands': 14346, 'unearthed': 29879, 'filigree': 11311, 'nikititch': 19217, 'waterloo': 31205, 'woking': 31738, 'inwalable': 15606, 'chapels': 5237, 'fortin': 11903, 'confidently': 6452, 'shamming': 25390, 'persisting': 20930, 'recurring': 23209, 'abnormalities': 906, 'savants': 24737, 'angelo': 1818, 'nap': 18953, 'amiably': 1718, 'theatricals': 28472, 'penman': 20766, 'sunders': 27672, 'theerfore': 28476, 'overdoing': 20083, 'uneventfully': 29899, 'facsimile': 10848, 'dandy': 7643, 'anhalt': 1839, 'chuses': 5564, '11': 6, 'hotter': 14159, 'rehearsed': 23368, 'frog': 12108, 'lids': 16825, 'precipitance': 21864, 'steak': 27036, 'obscurity': 19527, 'summed': 27647, 'cartes': 4952, 'moore': 18600, 'peals': 20663, 'parisian': 20416, 'coquette': 6867, 'quadrangle': 22623, 'blonde': 3732, 'piquant': 21248, 'violet': 30830, 'slag': 25979, 'entranced': 10206, 'samkin': 24621, 'finsbury': 11364, 'halfway': 13322, 'iii': 14465, 'billets': 3528, 'crackled': 7129, 'cauldron': 5051, 'bubbled': 4387, 'simmered': 25804, 'riotous': 24123, 'portend': 21677, 'outlawed': 20007, 'depposed': 8146, 'reichenbach': 23371, 'alpine': 1638, 'alligators': 1595, 'crocodile': 7304, 'knave': 16202, 'incontinently': 14863, 'venerie': 30635, '_us_': 785, 'bites': 3574, 'livid': 17015, 'finer': 11346, 'pitying': 21298, 'autocrat': 2615, 'flop': 11578, 'destitution': 8295, 'cigarettes': 5574, 'arrogant': 2265, 'punctilio': 22504, 'bombarded': 3894, 'requests': 23699, 'forgeries': 11839, 'offender': 19686, 'captivated': 4838, 'chastity': 5314, 'eradicate': 10292, 'enduring': 10051, 'arab': 2110, 'tablet': 28066, 'tomb': 28884, 'hallowed': 13333, 'hovers': 14194, 'nook': 19306, 'erring': 10317, 'autopsy': 2619, 'orth': 19929, 'creator': 7201, 'grimness': 13048, 'timbers': 28762, 'stocks': 27194, 'decree': 7877, 'frowns': 12130, '_so_': 717, 'frolicsome': 12110, 'infliction': 15092, 'unimaginative': 30018, 'basely': 2999, 'directory': 8573, 'litigation': 16989, 'duels': 9442, 'matching': 17794, 'dell': 8029, 'firs': 11388, 'licking': 16822, 'greenish': 13000, 'ignored': 14458, 'spontaneously': 26739, 'commissionaire': 6144, 'soldierly': 26367, 'banes': 2883, 'sall': 24586, 'blaw': 3659, 'evermair': 10448, 'cautions': 5064, 'sundown': 27675, 'howling': 14201, 'sputtering': 26816, 'raindrops': 22827, 'promontory': 22256, 'leviathan': 16772, 'shudderingly': 25670, 'hooting': 14075, 'flutelike': 11633, 'yearning': 31995, 'undaunted': 29777, 'swipes': 27979, 'natur': 18998, 'youngster': 32049, 'boggy': 3864, 'quoted': 22756, 'wonderment': 31758, 'unquestionably': 30179, 'precluded': 21876, 'bassano': 3022, 'stairtower': 26903, 'rôle': 24481, 'armorers': 2221, 'rick': 24043, 'knightly': 16222, 'toad': 28831, 'showered': 25617, 'adjacent': 1199, 'puddle': 22461, 'aslant': 2335, 'affix': 1355, 'cancellarius': 4744, 'princely': 22075, 'housed': 14171, 'epistle': 10262, 'solicitous': 26389, 'separating': 25239, 'fleeing': 11513, 'strenuously': 27344, '_missish_': 541, 'groves': 13119, '29th': 108, 'fitful': 11413, 'credentials': 7207, 'natasha': 18990, 'booths': 3950, 'saxe': 24758, 'dentist': 8103, 'melody': 17982, 'frayed': 12011, 'pagoda': 20239, 'surmounted': 27808, 'nimbly': 19225, 'scaling': 24776, 'fisherman': 11396, 'cleaver': 5740, 'purposeless': 22561, 'fiction': 11253, 'vixen': 30888, 'clown': 5847, 'mushrooms': 18852, 'vagabond': 30490, 'clack': 5635, 'pap': 20335, 'swaddling': 27881, 'seeds': 25115, 'code': 5934, 'enamoured': 9980, 'viewed': 30767, 'supernatural': 27723, 'receded': 23082, 'wrinkle': 31907, 'sheen': 25453, 'extinguisher': 10773, 'warehouse': 31121, 'adjusted': 1213, 'countersigned': 7018, 'deduction': 7891, 'decade': 7807, 'reproduce': 23660, 'retains': 23864, 'legibility': 16688, 'decrepit': 7880, 'riven': 24157, 'spike': 26663, 'shipshape': 25528, 'seaworthy': 25064, 'concur': 6382, 'decisions': 7842, 'phlegmatic': 21081, 'contagious': 6659, 'affirm': 1352, 'jailer': 15766, 'duffers': 9448, 'chestle': 5398, 'booked': 3925, 'squint': 26854, 'blundering': 3787, 'tenfold': 28358, 'owen': 20178, 'snowy': 26284, 'orenburg': 19883, 'tashkend': 28192, 'emergencies': 9916, 'amiability': 1716, 'anticipatory': 1918, 'triumphing': 29315, 'blaming': 3632, 'redundancy': 23245, 'jocosely': 15891, 'product': 22171, 'dowager': 9211, 'salve': 24613, 'tucker': 29431, 'edging': 9677, 'squaring': 26837, 'minutely': 18272, 'shortened': 25583, 'incautiousness': 14785, 'devour': 8388, 'plateful': 21365, 'victuals': 30759, 'rhyme': 24018, 'armoury': 2225, 'smother': 26200, 'welter': 31346, 'howbeit': 14195, 'register': 23344, 'mould': 18698, 'cartel': 4948, 'uncivil': 29728, 'affronting': 1373, 'endeavor': 10029, 'forgo': 11853, 'convent': 6772, 'massy': 17771, 'loitered': 17094, 'facilitate': 10843, 'cooks': 6825, 'spacious': 26533, 'benefactors': 3342, 'seductive': 25110, 'seclusion': 25069, 'polishing': 21560, 'shove': 25608, 'agrees': 1452, 'stealer': 27038, 'astrakhan': 2443, 'unpunctual': 30174, 'rawness': 22965, 'rutter': 24471, 'premeditated': 21928, 'naïvetés': 19026, 'indispensably': 14961, 'halted': 13340, '_read': 658, 'unquestioningly': 30182, 'secularists': 25087, 'opined': 19818, 'satirical': 24702, 'southwest': 26521, 'earraid': 9582, 'larboard': 16468, 'blackmailing': 3610, 'reseat': 23722, 'venomously': 30646, 'urgency': 30433, 'mutually': 18890, 'frontal': 12114, '_afraid_': 165, 'basting': 3026, 'gaining': 12268, '_bid': 220, 'him_': 13894, '_command': 268, 'disgusts': 8752, 'peel': 20704, 'forbids': 11755, 'deceitful': 7818, 'tacit': 28069, 'kuzma': 16295, 'rub': 24353, 'spaniel': 26544, 'dictation': 8432, 'purplish': 22556, 'saucer': 24719, 'prepossessed': 21954, 'expiated': 10687, 'saviors': 24745, 'mistresses': 18404, 'agonizing': 1440, 'comprenez': 6296, 'cette': 5159, 'affaire': 1336, 'votre': 30948, 'papa_': 20337, 'glafira': 12618, 'molly': 18504, 'breakfasting': 4161, 'docks': 9043, 'overjoyed': 20104, 'busiest': 4547, 'cherry': 5388, 'interdicted': 15409, '89': 151, 'mistrustful': 18407, 'caressing': 4886, 'alternatives': 1657, 'hesitatingly': 13831, 'termination': 28387, '_kratides': 476, 'shod': 25550, 'query': 22697, 'defect': 7917, '_dio': 311, 'mio_': 18279, 'intake': 15366, 'convulsed': 6806, 'forgetful': 11843, 'adversary': 1296, 'pester': 20995, 'quarrelling': 22654, 'miller': 18205, 'dawlish': 7727, 'defects': 7919, 'gleboff': 12645, 'faites': 10902, 'bêtises': 4615, 'plaints': 21329, '_s': 682, 'existait': 10627, 'faudrait': 11054, 'inventer': 15554, 'axioms': 2721, 'hypotheses': 14385, 'disengage': 8728, 'consultation': 6644, 'unobtrusive': 30125, 'enquiries': 10138, 'abundantly': 968, 'humiliations': 14273, 'wele': 31339, 'apulyaird': 2106, 'automaton': 2618, 'calculating': 4674, 'profusion': 22215, 'finessing': 11349, 'contested': 6696, 'lawful': 16558, 'byres': 4606, 'haystacks': 13600, 'byword': 4611, 'soles': 26381, 'trout': 29358, 'stunning': 27456, 'panels': 20312, 'cured': 7466, 'publishers': 22455, 'booksellers': 3933, 'selling': 25161, 'publications': 22449, 'publisher': 22454, 'schwach': 24874, 'wentur': 31356, 'cadency': 4641, 'armorer': 2220, 'overlapping': 20107, 'brochure': 4312, 'evangelists': 10421, 'martyrs': 17739, 'counterpane': 7012, 'bogoyavlensky': 3867, 'hovels': 14190, 'chessmen': 5394, 'roguish': 24226, 'folds': 11670, 'bancal': 2865, 'bruges': 4359, 'usher': 30454, 'visions': 30859, 'yorkshire': 32043, 'dalesmen': 7600, 'southland': 26518, 'pelican': 20724, 'burgher': 4500, 'tongues': 28905, 'robed': 24190, 'friars': 12064, 'tongued': 28904, 'medoc': 17949, 'becloaked': 3144, 'befeathered': 3192, 'welsh': 31344, 'basque': 3020, 'dialects': 8415, 'revels': 23925, 'clatter': 5704, 'clinking': 5796, 'brawlers': 4137, 'preciseness': 21872, 'curios': 7472, 'wainscot': 31016, 'fluent': 11614, 'giuseppe': 12599, 'gorgiano': 12810, 'types': 29570, 'amateur': 1674, 'compels': 6222, 'adhere': 1187, 'contemporary': 6676, 'monsters': 18556, 'fiercest': 11279, 'mammals': 17552, 'bosh': 3979, 'elapsed': 9774, 'alderman': 1531, 'micheldene': 18143, 'clubfoot': 5853, 'skirmish': 25948, 'oriflamme': 19904, 'crake': 7144, 'bombard': 3893, 'unsoldierly': 30275, 'babes': 2741, 'vulture': 30972, 'harraway': 13492, 'tiger': 28731, 'cormac': 6893, 'treasurer': 29200, 'similarity': 25799, 'relying': 23472, 'inattentive': 14768, 'disorderliness': 8817, 'duplicity': 9494, 'dissolve': 8918, 'quintet': 22735, 'initiative': 15163, 'democracy': 8053, 'peasantry': 20672, 'casualness': 5009, 'landladies': 16425, 'doctrines': 9050, 'vociferated': 30895, 'tumble': 29448, 'droll': 9359, 'itched': 15716, 'moveables': 18744, 'quarto': 22667, 'foxe': 11961, 'casket': 4979, 'enshrined': 10153, 'edified': 9681, 'insinuated': 15262, 'boatman': 3830, 'reinforcements': 23383, 'invader': 15537, 'collectedly': 6011, 'balustrade': 2853, 'tamed': 28132, 'inconveniences': 14867, 'obsessing': 19546, 'amphibia': 1743, 'unfulfilled': 29961, 'relaxes': 23426, 'persistence': 20927, 'pyegrave': 22610, 'zemirka': 32077, 'comedy': 6077, 'meaner': 17887, 'converted': 6790, 'responsiveness': 23817, 'rig': 24078, 'sixteenth': 25902, 'jacobson': 15757, 'streaks': 27325, 'chucking': 5541, 'berkeley': 3380, 'hartshorn': 13510, 'repentant': 23602, 'exceed': 10510, 'atoned': 2482, 'emeralds': 9912, 'seriousness': 25268, 'bernards': 3388, 'jeered': 15812, 'boasting': 3824, 'surmises': 27805, 'rivalry': 24155, 'crest': 7236, 'uncouth': 29769, 'savages': 24736, 'cooee': 6817, 'doge': 9071, 'lewis': 16778, 'xiv': 31956, 'conclusively': 6374, '_villainous_': 794, 'jesuitical': 15848, 'sapristi': 24674, 'logically': 17086, 'knapsack': 16201, 'ossipovitch': 19941, 'telyatnikov': 28307, 'golos': 12776, 'trustfully': 29401, 'nipping': 19237, 'narrate': 18968, 'franco': 11989, 'midland': 18158, 'hardware': 13459, 'phial': 21060, 'kernels': 16105, 'stalking': 26912, 'overlooking': 20112, 'intruder': 15523, 'attic': 2530, 'sucking': 27569, 'dereliction': 8183, 'invites': 15591, 'tangey': 28139, '_periodical': 624, 'review_': 23963, '_weekly': 815, 'lieth': 16832, 'humped': 14290, 'unfurled': 29962, 'perch': 20815, 'circling': 5592, 'beak': 3084, 'chandeliers': 5213, 'malcontents': 17509, 'abaft': 853, 'mast': 17772, 'barnyard': 2961, 'crowing': 7358, 'ingratitude': 15128, 'interpose': 15445, 'performers': 20847, 'persevering': 20921, 'porridge': 21667, 'babe': 2739, 'gladdened': 12610, 'norton': 19333, 'gal': 12276, 'imperceptibly': 14602, 'alleviation': 1588, 'pleases': 21406, 'championship': 5203, 'orderliness': 19874, 'hobby': 13958, 'differences': 8455, 'supra': 27775, 'orbital': 19861, 'facial': 10842, 'maxillary': 17854, 'anstruther': 1891, 'chateau': 5316, 'melting': 17988, 'forelock': 11796, 'monica': 18531, '_are_': 194, '_present_': 638, 'courier': 7043, 'elucidate': 9849, 'danvers': 7656, 'whirring': 31471, 'wheezing': 31415, 'photo': 21089, 'inclosed': 14816, 'shotgun': 25592, 'perplexing': 20905, 'balk': 2832, 'fie': 11269, 'negligently': 19089, 'bitterer': 3579, 'persecuted': 20912, 'curtailed': 7500, 'devoting': 8384, 'lookee': 17127, 'facetious': 10840, 'colds': 5988, 'lamb': 16382, 'bowls': 4044, 'soaped': 26301, 'kneaded': 16206, 'towelled': 29010, 'harrowed': 13499, 'rasped': 22922, 'ridgy': 24061, 'unsympathetically': 30305, 'counterweight': 7019, 'unreflecting': 30203, 'fanatics': 10953, 'identifying': 14415, 'hospitably': 14135, 'quartering': 22662, 'sevastyanov': 25311, 'extracting': 10785, 'piously': 21234, 'sphinx': 26651, 'lampooned': 16407, 'cheated': 5338, 'relent': 23432, 'escorting': 10337, 'dawdling': 7725, 'murdoch': 18828, 'balweary': 2856, 'dule': 9453, 'manse': 17618, 'shaw': 25432, 'admonitions': 1250, 'impenitent': 14598, 'lst': 17242, 'surpass': 27811, 'text': 28435, 'oracular': 19854, 'moorish': 18604, 'hilltops': 13891, 'volleys': 30920, 'discharges': 8640, 'instituted': 15324, 'pomposity': 21598, 'patristic': 20576, 'folios': 11673, 'instruct': 15327, 'thackeray': 28442, 'seizure': 25144, 'expel': 10666, 'colony': 6039, 'randolph': 22871, 'export': 10719, 'jeddo': 15810, 'oft': 19716, '_seriously_': 703, 'gnaw': 12721, 'majorca': 17487, 'subjective': 27491, 'hart': 13508, 'sanctum': 24639, 'innumerable': 15204, 'trophies': 29337, '_hairry': 410, 'lad_': 16346, 'trapped': 29165, 'shortening': 25584, 'journeyman': 15948, 'ushering': 30456, 'viands': 30733, 'slips': 26077, 'knobs': 16232, 'sparing': 26554, 'untying': 30344, 'copperfull': 6856, 'downy': 9225, 'betted': 3459, 'conjurer': 6525, 'handkercher': 13384, 'handkerchers': 13385, 'brassart': 4120, 'pelting': 20733, 'pellets': 20728, 'spinal': 26674, 'distracting': 8954, 'conical': 6513, 'strophanthus': 27401, 'steeped': 27064, 'carrion': 4936, 'torpid': 28952, 'distinguishing': 8945, 'pointer': 21520, 'agitations': 1430, 'sameness': 24620, 'clucking': 5855, 'hens': 13785, 'wayfarers': 31241, 'yoke': 32033, 'massas': 17766, 'debbil': 7794, 'stasie': 26987, 'skim': 25933, 'steeping': 27067, 'towels': 29012, 'warriors': 31153, 'hosts': 14151, 'basic': 3009, 'athletic': 2471, 'myrmidons': 18894, 'ambush': 1694, 'mercenaries': 18045, 'accessory': 1004, 'retaliations': 23867, 'injudicious': 15167, 'grower': 13122, 'squealing': 26848, 'cramp': 7149, 'moonshine': 18598, 'raffle': 22797, 'drapery': 9266, 'nightdress': 19199, '470': 129, 'telescopic': 28299, 'ejector': 9763, 'peruvian': 20979, 'flail': 11444, 'nicks': 19182, 'putomayo': 22598, 'rubbered': 24356, 'clip': 5798, 'reflection_': 23280, 'gargerys': 12352, 'insinuating': 15263, '_hotspur_': 434, '_gloria': 398, 'scott_': 24917, 'diggings': 8480, 'identities': 14416, 'jenkinson': 15825, 'metcalf': 18109, 'lurk': 17320, 'gibraltar': 12547, 'sunny': 27686, 'wheesht': 31413, 'dinna': 8540, 'gude': 13174, 'kens': 16094, 'balwhidder': 2857, 'resourcefulness': 23787, 'hallucination': 13335, 'intricate': 15504, 'defiles': 7949, 'capped': 4821, 'larch': 16470, 'gorges': 12809, 'irresolution': 15665, 'pigtail': 21169, 'screws': 24971, 'bang': 2884, 'lachine': 16330, 'unwinking': 30367, 'leered': 16665, 'spider': 26659, 'matveyev': 17836, 'unseasonable': 30241, 'executor': 10584, 'administrator': 1223, 'residuary': 23753, 'legatee': 16680, 'mourner': 18724, 'solemnised': 26376, 'absently': 939, 'devizes': 8373, 'gent': 12469, 'lmen': 17027, 'dinings': 8539, 'cutlasses': 7542, 'carteret': 4951, 'sith': 25884, 'interpreter': 15453, 'ouche': 19968, 'pined': 21215, 'felix': 11151, 'podvysotsky': 21501, 'including': 14821, 'tremendously': 29229, 'bowels': 4037, 'iniquities': 15156, 'darnaway': 7684, 'scanned': 24793, 'beldame': 3269, 'warren': 31151, 'thickened': 28513, 'monotone': 18551, 'haloes': 13338, 'problematical': 22136, 'scintillating': 24882, 'bean': 3092, 'smoothest': 26195, 'haps': 13432, 'nod': 19262, 'carlyle': 4900, 'vitals': 30877, 'dirl': 8579, '12': 9, 'breastbone': 4168, 'spirt': 26692, 'marm': 17696, 'manages': 17564, 'cemetery': 5114, 'lawsuit': 16564, 'clericals': 5757, 'surmising': 27806, 'puddings': 22460, 'hashes': 13519, 'accompaniments': 1025, 'forks': 11858, 'constrained': 6632, 'heartiest': 13675, 'biscuits': 3561, 'buns': 4486, 'glen': 12650, 'grill': 13038, 'trouts': 29359, 'guddling': 13173, 'broiled': 4317, 'irrevocably': 15675, '_nothing_': 574, 'syne': 28041, 'streamlet': 27331, 'doe': 9060, 'disrespectful': 8893, 'flunkey': 11621, 'offenders': 19687, 'grandeur': 12897, 'sympathized': 28034, 'fortification': 11898, 'immorality': 14559, 'distances': 8927, 'faugh': 11055, 'gomez': 12779, 'drawl': 9281, 'winnowing': 31657, 'bushels': 4541, 'agility': 1423, 'architecture': 2147, 'gastein': 12392, 'unchecked': 29721, 'russians': 24450, 'podvysotskys': 21502, 'bruises': 4364, 'wideawake': 31543, 'summarily': 27646, 'dint': 8548, 'canoes': 4776, 'jetty': 15853, 'cummerbunds': 7446, 'waists': 31022, 'mushroom': 18851, 'clattered': 5705, 'decamped': 7809, 'overtopped': 20163, 'slanderer': 25986, 'aggravation': 1415, 'linchpin': 16914, 'stolidity': 27207, 'operate': 19809, 'respections': 23800, 'rumple': 24425, 'imbecility': 14523, 'doldrums': 9087, 'sobriety': 26313, 'whinstone': 31456, 'pretermit': 22016, 'mapped': 17645, 'elicited': 9814, 'morrows': 18648, 'agitate': 1426, 'chat': 5315, 'decencies': 7826, 'bacchanalian': 2755, 'predilections': 21893, 'laments': 16400, 'owns': 20190, 'thoroughfare': 28579, 'crates': 7167, 'squandering': 26831, 'savings': 24744, 'battled': 3050, 'clicked': 5773, 'willfully': 31593, 'yah': 31963, 'hitting': 13938, '_miss_': 540, '_price_': 639, 'naming': 18946, 'leisurely': 16701, 'heralded': 13788, 'pangs': 20315, 'gymnastics': 13262, 'stimulation': 27153, 'premonitory': 21935, 'triangular': 29257, 'gems': 12435, 'kidnapped': 16124, 'requisitions': 23711, 'contractions': 6723, '_before_': 214, 'bended': 3334, 'grudged': 13138, 'rant': 22889, 'ravenshaw': 22955, 'wildenheim': 31571, 'willingness': 31599, 'boatmen': 3831, 'strolling': 27394, 'mariner': 17672, 'flavouring': 11492, 'alert': 1540, 'manual': 17634, 'freemason': 12024, 'ruefulness': 24382, 'thrifty': 28629, 'explored': 10710, 'pyramidal': 22612, 'accessible': 1000, 'cragsman': 7140, 'crags': 7139, 'swampy': 27899, 'jungly': 16006, 'insects': 15241, 'teased': 28266, 'onyway': 19789, 'saut': 24732, 'wast': 31171, 'grasses': 12926, 'growin': 13124, 'fechtin': 11117, 'glintin': 12667, 'na': 18920, 'fearsomer': 11095, 'deid': 7977, 'deils': 7984, 'sae': 24533, 'callant': 4687, 'bogle': 3866, 'peewie': 20719, 'glisk': 12670, 'sittin': 25888, 'hunkers': 14308, 'tombstane': 28887, 'eisenthal': 9758, 'non': 19290, 'combatants': 6062, 'stile': 27138, 'milestone': 18192, 'dig': 8472, 'spout': 26764, 'battlefield': 3052, 'lending': 16710, 'substantial': 27531, 'leicester': 16697, 'nottingham': 19383, 'derby': 8180, 'highlandman': 13874, 'startle': 26977, 'limitations': 16898, 'jacobite': 15755, 'adams': 1161, 'gravesend': 12958, 'misrepresented': 18375, 'objectionable': 19495, 'sindbad': 25832, 'rajahs': 22840, 'canopies': 4780, 'straightened': 27277, 'truck': 29368, 'chinking': 5459, 'wrongdoing': 31930, 'unattainable': 29658, 'aspirant': 2345, 'reverential': 23944, 'slops': 26091, 'purposed': 22559, 'beadles': 3082, 'elucidative': 9851, 'pleasurable': 21408, 'profitable': 22199, 'constituted': 6626, 'parochial': 20431, 'excellences': 10519, 'lowly': 17234, 'remotest': 23532, 'sustainable': 27867, 'dependant': 8118, 'rods': 24218, 'austin': 2594, 'regius': 23350, 'revering': 23948, 'catkins': 5041, 'hazels': 13610, 'spud': 26799, 'elementary': 9801, 'ails': 1474, 'spleen': 26705, 'wretchedly': 31897, 'cogency': 5951, 'reiterate': 23390, 'crumpled': 7390, 'nance': 18949, 'lakes': 16381, 'plaguing': 21315, 'admiringly': 1234, 'extricate': 10803, 'shamelessly': 25387, 'restoration': 23830, 'talc': 28104, 'flaky': 11448, 'abuses': 972, 'damsel': 7626, 'despitefully': 8275, 'praiseworthy': 21817, 'stubbornly': 27420, 'reck': 23114, 'jot': 15936, 'incredulity': 14883, 'whiles': 31441, 'whiggish': 31438, 'ploughman': 21450, 'adventurous': 1294, 'unsuitable': 30298, 'sports': 26753, 'excelled': 10516, 'competitors': 6233, 'confidant': 6442, 'ramble': 22853, 'perplexedly': 20904, 'undersized': 29814, 'excusing': 10574, 'stupefaction': 27457, 'quickening': 22710, 'conformity': 6480, '_hushed_': 440, '_up_': 784, 'magnitude': 17443, 'unpunished': 30175, '_said_': 683, 'rapids': 22899, 'diagram': 8410, 'valid': 30512, 'modify': 18473, 'unarmed': 29650, 'crony': 7318, 'grandfathers': 12899, 'weights': 31327, 'moorfowl': 18602, 'nowt': 19411, 'clicketten': 5775, 'deserters': 8220, 'apprenticeship': 2073, 'criminally': 7264, 'contrasted': 6739, 'depopulation': 8133, 'shapely': 25398, 'creation': 7198, 'clothe': 5829, 'ascendant': 2305, 'dulled': 9457, 'unity': 30049, 'residencia': 23747, 'opportunely': 19825, 'filaments': 11301, 'reconstruct': 23173, 'appreciable': 2056, 'feesh': 11138, 'studiously': 27433, 'superstitions': 27731, 'morven': 18670, 'exterminating': 10765, 'clans': 5670, 'persevere': 20919, '_christian': 262, 'heart_': 13661, 'mournfulness': 18728, 'averting': 2653, 'specific': 26596, 'waltzing': 31077, 'weaknesses': 31259, 'lineaments': 16919, 'rein': 23378, 'chargers': 5268, 'nouveau': 19393, 'jonas': 15923, 'pinto': 21231, 'curried': 7491, 'hairdresser': 13307, 'otway': 19963, 'coles': 5993, 'roasted': 24179, 'redruth': 23237, 'merest': 18066, 'warmer': 31134, 'pencilled': 20742, 'memorandums': 18003, 'metropolis': 18126, 'insight': 15255, 'plains': 21324, 'bluer': 3777, 'dimpled': 8524, 'gayer': 12414, 'moisten': 18490, 'mouthfuls': 18738, 'indignity': 14951, 'goiter': 12767, 'rapacious': 22892, 'stumps': 27451, 'slobbered': 26082, 'conspicuously': 6609, 'patrician': 20571, 'decadent': 7808, 'tankard': 28145, 'rejecting': 23394, 'slayer': 26020, 'infamies': 15043, 'melodramas': 17980, 'alternation': 1654, 'streaky': 27326, 'weighed': 31320, 'fetters': 11227, 'regales': 23321, 'bosoms': 3981, 'straightway': 27281, 'funnier': 12198, 'vassals': 30576, 'vaults': 30589, 'roam': 24170, 'carolling': 4917, 'perpetually': 20897, 'nonchodince': 19292, 'expended': 10667, 'copious': 6853, 'custoodin': 7535, 'quiescence': 22720, 'witticisms': 31725, 'doves': 9209, 'winged': 31648, 'swallows': 27893, 'skimmed': 25934, 'doze': 9230, 'sloth': 26093, 'steaming': 27050, 'yawned': 31985, 'adores': 1263, 'wires': 31672, 'screeched': 24962, 'knavish': 16205, 'exulted': 10811, 'lyon': 17358, 'dab': 7572, 'wins': 31658, 'officiously': 19710, 'mover': 18748, 'undeceive': 29778, 'petulant': 21032, 'rifled': 24073, 'curtseyed': 7507, 'frustrate': 12146, 'rickety': 24044, 'basketful': 3017, 'endear': 10024, 'grunt': 13156, 'pimpled': 21201, 'cutaneous': 7537, 'transpiration': 29148, 'adroitly': 1274, 'overweening': 20168, 'irrepressible': 15658, 'frightens': 12087, 'genie': 12458, 'clamant': 5646, 'odinbush': 19624, 'trampling': 29095, 'raeburn': 22795, 'reloading': 23466, 'palisade': 20277, 'cripples': 7279, 'noised': 19275, 'unanimity': 29641, 'cudgels': 7420, 'nameday': 18942, 'presided': 21983, 'spurt': 26812, 'pressingly': 21992, '14th': 23, 'badderly': 2781, 'dogmatize': 9079, '_our_': 598, 'corroborated': 6937, 'underwent': 29835, 'markham': 17687, '146m': 22, 'slang': 25990, 'depicted': 8126, 'incisive': 14803, 'tinkler': 28791, 'conciliatory': 6365, 'antarctic': 1900, 'exploring': 10712, 'rancid': 22869, 'tractable': 29046, 'raid': 22811, 'levy': 16776, 'burglary': 4506, 'convulsing': 6807, 'plausibly': 21377, 'accessories': 1003, 'carpenter': 4922, 'anvils': 1942, 'blades': 3620, 'plume': 21465, 'africa': 1386, 'thraldom': 28599, 'fumbling': 12175, 'coppers': 6857, 'cheapest': 5333, 'detach': 8306, 'stimulus': 27155, 'calves': 4707, 'churlishly': 5560, 'wardship': 31119, 'sucked': 27568, 'thumbs': 28669, 'crows': 7363, 'kuzmitch': 16296, 'disputes': 8876, 'displease': 8854, 'retracted': 23888, 'withstanding': 31715, 'blaize': 3624, 'tranquillise': 29102, 'burgled': 4507, 'writin': 31923, 'portfolio': 21683, '_vis': 797, 'vis_': 30847, '_pas': 619, 'deux': 8346, 'stings': 27160, 'limping': 16912, 'pelted': 20732, 'gambling': 12309, 'celt': 5110, 'croupier': 7349, 'matheson': 17809, '_rouge': 679, 'noir_': 19272, 'pillows': 21195, 'refraining': 23295, 'unpropitious': 30169, 'undeterred': 29848, 'unload': 30073, 'terrestrial': 28395, 'irascibility': 15621, 'pompeyed': 21597, 'multiply': 18791, 'crewkherne': 7245, 'blains': 3622, 'practicable': 21798, 'ceylon': 5161, 'tusks': 29505, 'cooly': 6835, 'communicative': 6181, 'felling': 11156, 'turnips': 29489, 'cooler': 6829, 'gauntlet': 12408, 'dime': 8512, 'jogging': 15899, 'emery': 9920, 'yeomen': 32016, 'prickers': 22052, 'crackle': 7128, 'hendy': 13783, 'ointment': 19733, 'furze': 12223, 'preceptor': 21855, 'peevishly': 20718, 'imprinted': 14697, 'beset': 3403, 'misrepresent': 18372, 'parading': 20357, 'capes': 4810, 'becomingly': 3146, 'ranked': 22877, 'circumstanced': 5608, 'tackled': 28076, 'disarranged': 8616, 'synthesis': 28046, 'unreal': 30190, 'hashish': 13520, 'instants': 15311, 'dialectical': 8414, 'idiocy': 14419, 'sirrah': 25874, 'thrush': 28657, 'spithead': 26697, 'canopus': 4781, 'bakaleyev': 2816, 'obstructions': 19556, 'smouldered': 26203, 'panically': 20317, 'midleg': 18160, 'triumphed': 29314, 'curded': 7464, 'driftwood': 9331, 'provides': 22392, 'mandate': 17569, 'racing': 22775, 'entangling': 10168, '_god': 399, 'tyburn': 29565, 'notoriety': 19377, 'diseases': 8721, 'coaches': 5880, 'traversing': 29184, 'shaming': 25388, 'pillory': 21193, 'humanising': 14249, 'aphorism': 1968, 'clues': 5857, 'chamberlain': 5191, 'barnet': 2957, 'lonesomeness': 17113, 'stipulates': 27169, 'applicant': 2040, 'hurts': 14344, 'sayest': 24761, 'hates': 13547, 'dorothy': 9164, 'betty': 3465, 'hastier': 13530, 'reprove': 23666, 'antipathy': 1926, 'surreptitiously': 27828, 'refilled': 23270, 'replete': 23615, 'nowise': 19409, 'gauged': 12405, 'shire': 25531, 'quartered': 22661, 'susceptibility': 27849, 'captivate': 4837, 'awaits': 2684, '45': 126, 'palms': 20284, 'stitching': 27185, 'peaty': 20676, 'bracken': 4074, 'eagles': 9563, 'crossroads': 7345, 'weighty': 31328, 'wordy': 31794, 'incoherence': 14826, 'margins': 17666, '_the_': 743, '_count_': 285, 'examiner': 10496, 'chertsey': 5389, 'hist': 13925, 'joan': 15884, 'appreciative': 2061, 'oddest': 19610, 'peers': 20716, 'coincided': 5974, 'undertone': 29829, 'georges': 12507, 'squalling': 26825, 'coupled': 7035, 'absentee': 937, 'freetraders': 12030, 'expatiating': 10646, 'vestige': 30718, 'droshky': 9377, 'vassili': 30577, 'ostroff': 19954, 'bachmatoff': 2760, 'lieu': 16833, 'proposing': 22318, 'maupertuis': 17845, 'clams': 5659, 'scallops': 24778, 'dogger': 9074, 'résumé': 24480, 'transmitted': 29140, 'highwaymen': 13881, 'nobly': 19256, 'version': 30706, 'sentimentalism': 25225, 'cement': 5112, 'adhered': 1188, 'soldierin': 26365, 'accordin': 1040, 'invadin': 15539, 'chock': 5479, 'tallied': 28124, 'pedantic': 20691, 'entice': 10192, 'denote': 8090, 'greediness': 12990, '341': 115, 'cardboard': 4863, 'peoples': 20797, 'slur': 26120, 'valor': 30516, 'wrappers': 31867, 'provender': 22383, 'hesitates': 13829, 'vindication': 30808, 'faulty': 11059, 'stating': 26998, 'matting': 17828, '40': 121, '50': 131, 'argues': 2175, 'baited': 2811, 'chemically': 5370, 'birches': 3546, 'craggy': 7138, 'ferny': 11196, 'howes': 14197, 'oat': 19470, 'tambourine': 28130, 'broth': 4338, 'mistrustfulness': 18409, 'fidelity': 11261, 'doorsteps': 9150, 'obtains': 19560, 'anisim': 1849, 'inter': 15398, 'allardyce': 1576, 'gibing': 12546, 'gibe': 12544, 'brigand': 4242, 'circumspect': 5604, 'grumbles': 13150, 'sups': 27780, 'wholesomely': 31518, 'gloriously': 12699, 'pitifully': 21290, 'honorably': 14044, 'nastiest': 18983, 'swinish': 27976, 'stun': 27452, 'shopman': 25569, 'scholarship': 24858, 'wednesdays': 31304, 'marbles': 17652, 'pegtop': 20723, 'hounds': 14162, 'oblivious': 19515, 'nosed': 19339, 'slide': 26053, 'jam': 15769, 'unhallowed': 29988, 'simples': 25814, 'sting': 27156, 'halbert': 13314, 'carvings': 4964, 'regiments': 23339, 'cupola': 7455, 'gushing': 13246, 'begirt': 3224, 'presences': 21964, 'deaf': 7759, 'unresting': 30220, 'trusty': 29406, 'orbits': 19862, 'vanishing': 30538, 'abruptness': 932, 'gaudy': 12403, 'uselessly': 30451, 'splendour': 26708, 'objectless': 19497, 'seasonable': 25052, 'skater': 25908, 'frightening': 12086, 'substituting': 27538, 'dissonance': 8922, 'inscrutability': 15238, 'honester': 14030, 'contemplating': 6670, 'haunt': 13568, 'ironically': 15640, 'slily': 26062, 'unshriven': 30262, 'fiance': 11239, 'ostensibly': 19944, 'episodes': 10261, 'apologized': 1983, 'watercolour': 31195, '_partie': 618, 'carrée_': 4942, 'rachel': 22773, 'residue': 23754, 'spectable': 26604, 'chimbley': 5445, 'sweepin': 27928, 'bisness': 3567, 'prentis': 21941, '_familiar_': 363, 'ostrich': 19951, 'periodicals': 20865, 'exiled': 10624, 'radishtchev': 22792, 'obituary': 19490, 'ferment': 11190, 'lyceum': 17348, 'coif': 5964, 'sensuality': 25213, 'manus': 17639, 'tuas': 29423, 'domine': 9119, 'compostella': 6285, 'carp': 4921, 'messieurs': 18097, 'breathes': 4177, 'raphael': 22895, 'petroleum': 21020, 'jewelled': 15858, 'upodin': 30401, '_on': 591, 'trouve': 29360, 'toujours': 28992, 'raison': 22837, 'abed': 876, 'snatching': 26232, 'shiny': 25516, 'schoolboys': 24863, 'fewest': 11236, 'illingworth': 14482, 'shipping': 25526, 'insincere': 15259, 'inland': 15184, 'toys': 29029, 'wired': 31671, 'arresting': 2256, 'partickler': 20468, 'decently': 7829, 'compulsion': 6313, 'navy': 19020, 'stall': 26914, 'benefits': 3349, 'indemnify': 14920, 'accede': 982, 'mint': 18267, 'domain': 9104, 'copier': 6850, '_encyclopædia_': 338, 'floors': 11577, '_experiment_': 358, 'commonest': 6164, 'untenability': 30314, 'disdaining': 8718, 'catechism': 5028, 'commandments': 6110, 'rewards': 24002, 'bookcase': 3924, 'frowsy': 12131, 'railed': 22814, 'magistrates': 17429, 'deputation': 8170, '_drap': 320, 'dames_': 7612, 'disgustingly': 8751, 'bays': 3070, 'wallowed': 31066, 'wan': 31080, 'whistles': 31490, 'kirk': 16178, 'grassmarket': 12927, 'storeys': 27242, 'vomited': 30937, 'braws': 4142, 'novelties': 19400, 'gnawing': 12723, 'heady': 13637, 'prickling': 22055, 'beverage': 3468, 'cheney': 5375, 'handiwork': 13383, 'imagery': 14508, 'surplice': 27815, 'banns': 2909, 'underrated': 29811, 'civilised': 5628, 'tomfoolery': 28891, 'armitage': 2218, 'whinnying': 31455, 'mystified': 18907, 'explore': 10709, 'valleys': 30515, 'stirrup': 27179, 'terraces': 28393, 'hug': 14227, '_espirito': 346, 'santo_': 24668, 'grisapol': 13070, 'avised': 2662, 'speiring': 26634, 'sneering': 26241, '_adieu': 163, 'avis': 2661, 'lecteur': 16645, 'arena': 2169, 'chandelier': 5212, 'emaciated': 9859, 'amended': 1701, 'radcliffe': 22783, 'depicting': 8127, 'allured': 1610, 'renown': 23563, 'anointed': 1882, 'chignon': 5428, 'vied': 30762, 'conflicting': 6475, 'originality': 19907, 'jumble': 15993, 'democratic': 8055, 'reforms': 23291, 'salon': 24594, 'reconciling': 23163, 'irreconcilable': 15649, 'grossest': 13101, 'dax': 7733, 'lymington': 17352, 'orisons': 19916, 'cistercians': 5614, 'berghersh': 3379, 'decreed': 7878, 'psalms': 22429, 'gillies': 12569, 'hollows': 14000, 'donc': 9134, 'pashenka': 20500, 'shambles': 25379, 'victorious': 30754, 'unhurt': 30010, 'nevvy': 19147, 'hatchet': 13539, 'plunges': 21478, 'hurls': 14326, 'narrowing': 18978, 'creaming': 7189, 'incalculable': 14774, 'sittyated': 25890, 'equipped': 10287, 'intemperate': 15379, 'mystical': 18904, 'undergo': 29789, 'crust': 7398, 'ordinarily': 19878, 'helps': 13765, 'surmounting': 27809, 'stolidly': 27208, 'exactitude': 10481, 'louting': 17209, 'sheepish': 25455, 'comforter': 6091, 'inns': 15202, 'cosey': 6954, 'dosey': 9171, 'opiate': 19817, 'satin': 24701, 'lafter': 16364, 'choleric': 5496, 'fights': 11292, 'defying': 7965, 'hatchets': 13540, 'harmlessly': 13478, 'encounters': 10003, 'tribes': 29259, 'braves': 4130, '_scaura_': 691, 'behoved': 3258, 'paddle': 20222, 'scalps': 24781, 'goodbye': 12788, 'dolly': 9097, 'pinafore': 21205, 'revival': 23975, 'apparatus': 1998, 'beseechingly': 3401, 'richness': 24042, 'francewards': 11986, 'enriched': 10144, 'coffers': 5946, 'burghers': 4501, 'influx': 15100, 'noblemen': 19250, 'overcrowding': 20079, 'outhouses': 20002, 'superannuated': 27698, 'restriction': 23844, 'sucklings': 27571, 'bragges': 4088, 'defile': 7947, 'whitaker': 31493, 'requisite': 23707, 'vocabulary': 30893, 'garrulous': 12372, 'mahratta': 17450, 'auspicious': 2588, 'bristles': 4287, 'defeat': 7915, 'doubloons': 9191, 'besmeared': 3411, 'grindstone': 13060, 'vehicle': 30611, 'supple': 27742, 'irregularities': 15652, 'kalmuck': 16046, 'conquering': 6546, 'conquests': 6550, 'trotter': 29344, 'tweed': 29521, 'bandy': 2881, 'gamekeeper': 12315, 'manufactory': 17636, 'ashurst': 2323, 'flavor': 11489, 'lyndhurst': 17355, 'grooms': 13092, 'malwood': 17544, 'wattle': 31217, 'daub': 7711, 'escutcheon': 10339, 'glassless': 12634, 'versed': 30704, 'symbols': 28023, 'heraldry': 13790, 'hoisted': 13972, 'lightening': 16852, 'conjuror': 6527, 'royalty': 24351, 'vote': 30944, 'gum': 13225, 'cowards': 7095, 'tat': 28206, 'sacrifices': 24509, 'rating': 22935, 'epigram': 10255, '1840': 57, 'outbreak': 19979, 'sweetbriar': 27934, 'manufacturer': 17638, 'baize': 2815, 'franc': 11983, 'teaspoonful': 28269, 'dissolves': 8920, 'acclamations': 1014, 'prefatory': 21903, 'closeted': 5824, 'bedad': 3149, 'autograph': 2616, 'unconcern': 29749, 'clamorous': 5652, 'licht': 16819, 'saftly': 24542, 'grund': 13155, 'brunt': 4368, 'steedy': 27057, 'seepin': 25128, 'sabbin': 24488, 'doon': 9146, 'unhaly': 29989, 'ploddin': 21436, 'doun': 9205, 'ilka': 14472, 'cauld': 5049, 'duet': 9445, 'adjourned': 1205, 'peck': 20681, 'deafened': 7760, 'throbs': 28643, 'harlamov': 13469, 'muddles': 18765, 'bun': 4472, 'remorseful': 23526, 'sensitively': 25208, 'insignificance': 15257, 'poaching': 21488, 'reconnoitre': 23168, 'footprints': 11732, 'suspects': 27855, 'achilles': 1090, 'peevish': 20717, 'sourly': 26511, 'littered': 16992, 'maidservant': 17460, 'baddeley': 2780, 'plucking': 21455, 'tipsily': 28803, 'footmark': 11724, 'unblushing': 29686, 'trafficker': 29064, 'forgers': 11840, 'swearers': 27919, 'commonplaceness': 6167, 'yearns': 31997, 'incompatible': 14838, 'vaunt': 30590, 'demurred': 8074, 'reunited': 23909, 'mummies': 18802, 'egyptians': 9747, 'realizing': 23014, 'afeard': 1327, 'lurden': 17315, 'volkovo': 30918, 'ineptitude': 15016, 'anti': 1908, 'semitic': 25170, 'fanatic': 10949, 'desecrate': 8216, 'doorways': 9152, 'steering': 27077, 'northward': 19331, 'disciple': 8642, 'izaak': 15736, 'walton': 31075, 'bundled': 4478, 'misbecame': 18305, 'curtseying': 7508, 'legible': 16689, '_memento': 528, 'mori_': 18634, 'broach': 4298, 'workhouses': 31802, 'oxen': 20193, 'coasts': 5896, 'transcribing': 29113, 'absentminded': 940, 'discriminate': 8706, 'candlelight': 4753, 'meandering': 17886, 'sauntered': 24727, 'leverton': 16770, 'whelp': 31416, 'sweetness': 27944, 'bestial': 3425, 'transacted': 29108, 'trainer': 29077, 'mackintosh': 17385, 'kammenny': 16048, 'ostrof': 19953, 'suburb': 27547, 'godmother': 12747, 'palais': 20265, 'cristal': 7285, 'accuser': 1068, 'expired': 10692, 'geography': 12499, 'adirondack': 1198, 'rhetorical': 24009, 'upshot': 30417, 'magnanimity': 17431, 'revenged': 23927, 'loading': 17031, 'uppish': 30405, 'pulp': 22483, 'sandbag': 24643, 'untitled': 30329, 'respective': 23801, 'upstart': 30420, 'armagnac': 2208, 'beauchamp': 3117, 'despite': 8274, 'revolve': 23991, 'collision': 6024, 'pandemonium': 20304, 'bedlam': 3161, 'supervened': 27734, 'marshals': 17722, 'chieftains': 5424, 'aristotle': 2197, 'distinctions': 8937, 'coiners': 5979, 'amalgam': 1666, 'peters': 21008, 'decipher': 7838, 'pillars': 21190, 'americans': 1709, 'predictions': 21891, 'argyle': 2183, 'concessions': 6357, 'reconciliation': 23162, 'refrained': 23294, 'brykov': 4384, 'creaked': 7185, 'humbugging': 14266, 'beamed': 3088, 'ordained': 19869, 'goings': 12766, 'butchered': 4561, 'yielded': 32030, 'ogreish': 19723, 'powerless': 21793, 'censured': 5119, 'sardonic': 24684, 'imperiousness': 14612, 'renegade': 23551, 'drown': 9382, 'trepidation': 29243, 'conducive': 6414, 'reverted': 23958, 'palpably': 20287, 'disquieting': 8881, 'lugubrious': 17272, 'recognising': 23134, '_black': 223, 'mogul_': 18476, 'im': 14506, 'understandings': 29817, 'lemonade': 16706, 'chide': 5417, 'grainger': 12882, 'indefinitely': 14913, 'enumerating': 10228, 'sc': 24766, 'oundrel': 19976, 'tribunal': 29262, 'meted': 18111, 'aneurism': 1812, 'disarrangement': 8617, 'barbers': 2925, 'gossips': 12828, 'gertrude': 12519, 'boeuf': 3861, 'amory': 1735, 'vodince': 30901, 'lammastide': 16401, 'linden': 16916, 'aforesaid': 1383, '_arrière': 195, 'pensée_': 20787, 'disquisition': 8883, 'hovering': 14193, 'prised': 22100, 'crowbar': 7351, 'purpling': 22555, 'montereau': 18568, 'rumors': 24421, 'ignominy': 14452, 'sensibly': 25206, 'slanders': 25989, 'abdication': 873, 'venomous': 30645, 'bluntness': 3792, 'unblenching': 29685, 'abdicate': 872, 'worthily': 31842, 'repeats': 23595, 'austerity': 2592, 'untamed': 30308, 'unabashed': 29618, 'katharine': 16066, 'debauched': 7790, 'belvedere': 3320, 'sisterly': 25878, 'dirge': 8576, 'consecration': 6561, 'staples': 26955, 'gratefully': 12933, 'demoralised': 8067, 'huskily': 14350, 'chilling': 5441, 'festive': 11216, 'cheeked': 5350, 'ikons': 14467, 'lecterns': 16644, 'vogt': 30904, 'moleschott': 18496, 'buchner': 4394, 'lectern': 16643, 'marquisas': 17703, 'alludes': 1608, 'writings': 31925, 'æsthetics': 32105, 'grieves': 13031, 'laconia': 16341, 'vassiliostrof': 30578, 'streamer': 27329, 'wagged': 30998, 'goggle': 12760, 'alarum': 1514, 'outweighteth': 20054, 'drummond': 9402, 'alexandrines': 1545, 'metre': 18124, '_dieux': 308, 'plaine': 21319, 'vastes': 30581, 'forêts_': 11921, 'geôlier': 12533, 'lui': 17274, 'apprendre': 2069, 'leçons_': 16782, 'begad': 3206, 'disinclination': 8772, 'indefatigable': 14907, 'odds': 19614, 'vampire': 30528, 'illnesses': 14486, 'sleeplessness': 26034, 'contumaciously': 6762, 'dumfounded': 9470, 'dwindle': 9538, 'regulations': 23364, 'reductions': 23244, 'singularity': 25851, 'prevailing': 22030, 'sifting': 25731, 'plethora': 21424, 'framework': 11982, 'undeniable': 29785, 'embellishments': 9883, 'theorists': 28497, 'reporters': 23624, 'gregory': 13010, 'snorts': 26273, 'gnawed': 12722, 'thumps': 28674, 'armful': 2215, 'buckling': 4405, 'greengrocer': 12998, 'prosper': 22339, 'resettled': 23743, 'respite': 23806, 'slamming': 25983, 'sniggered': 26255, 'inexcusable': 15025, 'inkling': 15180, 'majestically': 17483, 'piquet': 21252, 'handcuffed': 13372, 'kidgerbury': 16123, 'inhabitant': 15133, 'kentish': 16097, 'conceptions': 6346, 'ravages': 22947, 'rendering': 23547, 'incapables': 14777, 'terminating': 28386, 'greenwich': 13002, 'participating': 20464, 'feasts': 11100, 'nothings': 19363, 'machinery': 17382, 'divil': 9013, 'mohur': 18482, 'smeary': 26157, 'sauces': 24721, 'measles': 17903, 'blanche': 3633, 'her_': 13786, 'shredded': 25629, 'mitre': 18428, 'conveying': 6795, 'wrap': 31864, 'incomparable': 14835, 'apace': 1957, 'harvilles': 13515, 'shropshire': 25654, 'touchingly': 28987, 'shedding': 25451, 'precedence': 21851, 'fiancee': 11240, 'condescend': 6393, 'chalky': 5187, 'sakes': 24573, 'malêtroit': 17546, 'dismount': 8808, 'unmixed': 30108, 'hoop': 14068, 'languidly': 16445, '_reasonable_': 664, 'colloquy': 6027, 'housemaids': 14183, 'georgy': 12508, 'porgy': 21658, 'chivalric': 5473, 'carpets': 4927, 'flared': 11468, 'fireworks': 11380, 'ancus': 1794, 'marcius': 17661, 'abominate': 917, 'relaxation': 23423, 'requesting': 23698, 'dismission': 8807, '_manner_': 513, 'apologise': 1979, 'fathom': 11038, 'squadron': 26821, 'causton': 5061, 'latticed': 16516, 'aprons': 2099, 'distantly': 8929, 'serenest': 25257, 'morality': 18618, 'tenet': 28357, 'consolations': 6598, 'demonstrate': 8061, 'christians': 5526, 'parks': 20419, 'sunsets': 27691, 'sunrises': 27688, 'buzzes': 4594, 'sharer': 25404, 'participator': 20466, 'waiving': 31032, 'readable': 22986, 'sender': 25179, 'pearls': 20666, 'jovially': 15958, 'relenting': 23434, 'dizzy': 9030, 'biassed': 3484, 'stratagems': 27309, 'ridicules': 24064, 'begot': 3227, 'man_': 17557, 'eugène': 10404, 'sue': 27576, 'concierge': 6359, 'gendarmerie': 12437, 'entanglement': 10167, 'pennsylvania': 20774, 'figurative': 11294, 'vaccination': 30486, 'stocking': 27192, 'admetus': 1217, 'apollo': 1975, 'insure': 15356, 'impediment': 14592, 'adjoined': 1202, 'æsop': 32103, 'aweel': 2700, 'wrang': 31861, 'mermen': 18079, 'wipes': 31668, 'unawares': 29666, 'wheedling': 31402, 'trudging': 29376, 'blithe': 3716, 'rampart': 22861, 'transpiercing': 29147, 'increases': 14878, 'sidedness': 25716, 'shun': 25678, 'famusov': 10947, '_sorrow': 722, 'wit_': 31696, 'tchatsky': 28241, '_for': 378, 'years_': 31999, 'quarante': 22649, 'prendra': 21937, 'tuera': 29436, 'frowningly': 12129, 'flatly': 11476, 'snubbing': 26285, 'heroic': 13815, 'unpopular': 30152, 'ferreted': 11201, 'clears': 5738, 'experimenting': 10682, 'uri': 30437, 'dabbling': 7575, 'dyed': 9542, 'silvery': 25796, 'misrepresentation': 18373, 'destroying': 8301, 'nibble': 19167, 'akbar': 1500, 'dossier': 9172, 'larder': 16472, 'rapt': 22903, 'tuson': 29506, 'beddington': 3153, 'deutsche': 8345, 'lyonnais': 17359, 'commend': 6120, 'cypress': 7562, 'indifferently': 14944, 'enshrine': 10152, 'colin': 5994, 'byke': 4603, 'overrating': 20129, 'deranged': 8177, 'tsar': 29418, 'exhort': 10617, 'smolensk': 26190, 'tashkent': 28193, 'tsardom': 29419, 'antiquated': 1929, 'thrall': 28600, 'abolish': 911, 'sowing': 26527, 'bait': 2810, 'agitators': 1431, 'affiliated': 1350, 'phoenix': 21083, '_libertas_': 497, 'alehouse': 1538, 'meltingly': 17989, 'beautifying': 3128, 'prided': 22057, 'neutrality': 19143, 'toe': 28849, 'team': 28257, 'madhouse': 17410, 'landscapes': 16434, 'diderot': 8440, 'inviolate': 15584, 'painless': 20249, 'smelled': 26159, 'hoyles': 14209, 'wenches': 31350, 'detract': 8336, 'anticipations': 1916, 'infuriated': 15113, 'freiherr': 12035, 'jointly': 15906, 'horridness': 14110, 'stuffing': 27441, 'viler': 30786, 'overpitched': 20122, 'unburned': 29699, 'repairs': 23580, 'pupilage': 22523, 'negligent': 19088, 'functions': 12181, 'philippic': 21069, 'banknote': 2900, 'impetuously': 14624, 'scabbard': 24768, 'glorify': 12696, 'lipped': 16946, 'fidgeting': 11266, 'stationing': 27003, 'consenting': 6566, 'sandwiches': 24653, 'enraptured': 10142, 'stoat': 27186, 'sow': 26525, 'scuttled': 25020, 'lordly': 17164, 'staggard': 26883, 'augur': 2571, 'moons': 18597, 'predicted': 21888, 'deftly': 7962, 'schade': 24843, 'nur': 19443, '_einen_': 329, 'mensch': 18030, 'dir': 8561, 'schuf': 24872, 'denn': 8085, 'zum': 32099, 'würdigen': 31953, 'und': 29775, 'schelmen': 24847, 'der': 8176, 'stoff': 27196, 'blackguards': 3600, 'chins': 5461, 'synopsis': 28044, 'buzzingly': 4596, 'circulate': 5597, 'coma': 6058, 'rheumatic': 24010, 'competitive': 6231, 'zenith': 32079, 'assassination': 2358, 'narrator': 18973, 'girded': 12582, 'dragoon': 9246, 'misdemeanor': 18329, 'shillin': 25503, 'prodigy': 22165, 'superiorities': 27715, 'lamely': 16391, 'discs': 8707, 'teaches': 28253, 'purred': 22566, 'pointedly': 21518, 'offenses': 19690, 'quarts': 22669, 'pibroch': 21117, 'stewarts': 27119, 'wooing': 31780, 'roland': 24231, 'heron': 13820, 'befouled': 3201, 'fashionably': 11009, 'willesden': 31591, 'compartments': 6207, 'engravings': 10097, 'cameos': 4723, 'corals': 6872, 'competence': 6228, 'waitin': 31027, 'fend': 11178, 'harbouring': 13441, 'veriest': 30685, 'shallowness': 25375, 'satisfactorily': 24706, 'disobliging': 8814, 'reap': 23023, 'weasel': 31284, 'blocking': 3728, 'infect': 15055, '1715': 36, 'multum': 18794, 'gementem': 12433, 'majora': 17486, 'canamus': 4740, 'lug': 17269, 'bandied': 2876, 'farcical': 10971, 'salaskin': 24577, 'heartiness': 13677, 'reciprocal': 23102, 'unjustifiable': 30057, 'haunches': 13567, 'scampered': 24785, 'equipage': 10283, 'resigning': 23760, 'ransome': 22887, 'enjoyments': 10118, 'acquisition': 1119, 'supplies': 27752, 'accessions': 1002, 'rhapsodical': 24006, 'scamper': 24784, 'springy': 26788, 'raced': 22769, 'bronzed': 4327, 'woodland': 31771, 'maze': 17867, 'impossibilities': 14667, 'tended': 28340, 'mystification': 18906, 'declarations': 7853, 'squeal': 26846, 'manifestation': 17589, 'spurned': 26807, 'july': 15992, 'macconochie': 17374, 'gibbet': 12543, 'abbeyland': 868, 'distasteful': 8932, 'acceptation': 995, 'overladen': 20105, 'grimstone': 13050, 'thatch': 28460, 'benumbed': 3364, 'blindness': 3704, 'daemon': 7581, 'terrier': 28398, 'lifeless': 16841, '_ten_': 736, 'bilious': 3525, 'preachers': 21840, 'piety': 21161, 'yankee': 31968, 'southward': 26519, 'breaker': 4157, 'analysing': 1767, 'wielding': 31557, 'falchions': 10913, 'defenders': 7926, 'tucket': 29432, 'piecemeal': 21146, 'tittle': 28827, 'tattle': 28214, 'pathways': 20564, 'pawn': 20627, 'fiat': 11243, 'phantasy': 21043, 'knaves': 16204, 'spectator': 26608, 'hewn': 13842, 'peaking': 20658, 'foamed': 11641, 'conduced': 6413, 'remuneration': 23541, 'extrication': 10805, 'contingent': 6701, 'disparaging': 8826, 'defendant': 7924, 'commentaries': 6126, 'jurists': 16016, 'blackstone': 3614, 'bookseller': 3932, 'injunctions': 15169, '13th': 17, 'pouce': 21763, 'terrain': 28394, 'une': 29878, 'nos': 19337, 'forteresses': 11891, 'estimable': 10380, 'operas': 19808, 'concerts': 6355, 'exhibitions': 10611, 'busying': 4559, 'devising': 8372, 'plainest': 21321, 'bolting': 3889, 'unbearable': 29668, 'noiseless': 19276, 'whiskered': 31477, 'elp': 9847, 'partitioned': 20484, 'flavoured': 11491, 'jingling': 15880, 'recumbent': 23204, 'enshrouded': 10154, 'unsteadiness': 30289, 'sights': 25741, 'tablets': 28067, 'famed': 10935, 'testily': 28421, 'melia': 17972, 'excitable': 10541, 'jig': 15874, 'jaggerth': 15764, 'otherth': 19959, 'ith': 15722, 'cag': 4649, 'maggerth': 17424, 'studyin': 27436, 'comers': 6081, 'guffaw': 13184, 'strangeness': 27295, 'rifting': 24076, 'cupids': 7454, 'headless': 13626, 'baskets': 3018, 'divinities': 9019, 'santiago': 24666, 'inchoate': 14796, 'whew': 31432, 'width': 31554, 'effectual': 9713, 'disembowelled': 8725, 'irruption': 15685, 'eaton': 9619, 'conceiving': 6340, 'graminivorous': 12885, 'divest': 9007, 'deteriorated': 8322, 'inflooding': 15093, 'whitened': 31499, 'whiteness': 31500, 'elemental': 9800, 'garish': 12357, 'royally': 24350, 'kinless': 16171, 'loon': 17140, 'lash': 16484, 'holden': 13978, 'theer': 28475, 'puff': 22463, 'produces': 22169, 'boarder': 3815, 'inflexible': 15087, 'upholstered': 30393, 'silky': 25781, 'mirrors': 18289, 'devotional': 8386, 'sown': 26529, 'reaps': 23030, 'unalloyed': 29636, 'pourpoint': 21781, 'correcting': 6921, 'coop': 6836, 'prolonging': 22245, 'winchester': 31617, 'piquante': 21249, 'newmarket': 19159, 'redness': 23228, 'grater': 12934, 'loops': 17146, 'impregnable': 14683, 'bib': 3485, 'pins': 21228, 'leathers': 16630, 'sneaked': 26236, 'tankerville': 28146, 'delicacies': 8006, 'unsolved': 30277, 'retrogression': 23899, 'abutted': 975, 'childless': 5434, 'changeless': 5220, 'accomplishments': 1035, 'feller': 11155, 'saber': 24490, 'scottish': 24918, 'petulance': 21031, 'acrimony': 1128, 'rejection': 23395, 'selves': 25163, 'unpleasing': 30149, 'missive': 18388, 'unfriendliness': 29956, 'distribute': 8965, 'inured': 15535, 'ledger': 16656, 'telephone': 28297, 'afghan': 1375, 'untied': 30325, 'patronised': 20585, 'brighton': 4257, 'senility': 25186, 'budget': 4413, 'artemy': 2273, 'revolutionist': 23989, 'congresses': 6512, 'hindered': 13899, 'expiating': 10688, 'influential': 15098, 'dignitaries': 8485, 'jackets': 15749, 'bludgeons': 3775, 'fiddlers': 11257, 'horrifying': 14114, 'shoemaking': 25555, 'reprieve': 23644, 'lernac': 16740, '_today': 766, 'floorcloth': 11574, 'simulated': 25824, 'distorting': 8949, 'poached': 21487, 'demoralizing': 8069, '_pour': 636, 'plaire_': 21330, 'twill': 29535, 'beau': 3115, 'treats': 29210, 'gist': 12597, 'felled': 11154, 'exultingly': 10813, 'admonitory': 1251, 'dice': 8426, 'downhearted': 9217, 'commentary': 6127, 'conjectures': 6516, 'labourers': 16318, 'repine': 23608, 'shabbiness': 25344, 'shortcoming': 25580, 'establishments': 10370, 'preponderance': 21953, 'fastidiousness': 11021, 'dray': 9286, 'hatter': 13555, 'tremulously': 29232, 'zimmerman': 32089, 'bespattered': 3418, 'brimless': 4266, 'daunted': 7715, 'subsequently': 27521, 'vanka': 30541, 'disturbs': 8981, 'intimidate': 15489, 'isa': 15687, 'whitney': 31508, 'settlements': 25305, 'hooked': 14065, 'intriguers': 15507, 'sconces': 24895, 'oration': 19857, 'ebbs': 9627, 'bedpost': 3162, 'endorsed': 10042, 'holograph': 14002, 'betrothal': 3454, 'expeditiously': 10665, 'newbury': 19149, 'disdained': 8715, 'dolt': 9101, 'tribulations': 29261, 'clashed': 5688, 'independently': 14924, 'uninfluenced': 30023, 'sceptics': 24842, 'knuckled': 16261, 'snowed': 26280, 'criticizing': 7295, 'conjugal': 6518, 'dissension': 8901, 'minna': 18259, 'ernestine': 10305, 'buoyantly': 4488, 'giddily': 12549, 'powdered': 21787, 'harped': 13489, 'rigging': 24080, 'ineffable': 15008, 'twaddle': 29514, 'falter': 10930, 'invigorating': 15581, 'ignorantly': 14456, 'foolhardily': 11706, 'rance': 22867, 'decked': 7846, 'studs': 27434, 'verified': 30687, 'skirmishes': 25949, 'alcoholic': 1528, 'humorous': 14281, 'classic': 5697, 'mæcenas': 18916, 'imaginations': 14513, 'bunches': 4475, 'flows': 11609, 'ruder': 24374, 'manoeuvre': 17611, 'spattered': 26577, '_crevez': 288, 'chiens': 5426, 'contents_': 6694, 'nominal': 19286, 'mince': 18228, 'untidiness': 30322, 'unpacking': 30134, 'complexioned': 6259, 'godward': 12753, 'snares': 26225, 'silliest': 25785, 'arkady': 2202, 'memorandum': 18002, 'deducting': 7890, 'outstanding': 20043, 'assets': 2383, 'moneyed': 18525, 'prêcherai': 22425, 'evangile': 10422, 'spat': 26574, 'resumption': 23854, 'wured': 31946, 'dootiful': 9154, 'thowts': 28598, 'amounting': 1738, 'alterations': 1645, 'endeavoring': 10030, 'affixed': 1356, 'mlle': 18440, 'jeering': 15813, 'dusty': 9514, '_this_': 757, '_would': 837, 'ratafia': 22927, 'bodinces': 3852, 'vertigo': 30713, 'omnipotence': 19765, 'cæsars': 7568, 'reputations': 23692, 'journals': 15944, 'inquest': 15209, 'swig': 27961, 'quid': 22719, '_allow_': 176, 'sanction': 24635, 'viciously': 30747, 'haggardness': 13293, 'soils': 26353, 'cozen': 7114, 'skunk': 25965, 'sop': 26451, 'graced': 12861, 'credulous': 7218, 'upsetting': 30416, 'aids': 1466, 'discovering': 8696, 'acclamation': 1013, 'roberts': 24192, 'efficient': 9720, 'blacked': 3593, 'disconsidered': 8668, 'reduce': 23240, 'coventry': 7074, 'urban': 30428, 'flatterers': 11482, 'zaharovitch': 32061, 'protectors': 22357, 'compromising': 6311, 'serried': 25278, 'respectfulness': 23797, 'universities': 30054, 'tactless': 28082, 'unhesitatingly': 30002, 'boxers': 4054, 'bestirred': 3427, 'untiring': 30328, 'sparest': 26553, 'uphold': 30391, 'toughest': 28991, 'regulation': 23363, 'dais': 7596, 'wittier': 31726, 'perusing': 20978, 'lambencies': 16383, 'ominously': 19758, 'ax': 2716, 'altering': 1649, 'incisively': 14804, 'molluscs': 18503, 'reptiles': 23671, 'kangaroo': 16051, 'evolution': 10469, 'achievements': 1088, 'reticent': 23873, 'prefect': 21904, 'ku': 16291, 'klux': 16199, 'klan': 16196, 'impious': 14626, 'pimple': 21200, '_carte': 247, 'blanche_': 3634, 'posed': 21701, 'beggarly': 3212, 'cur': 7457, 'saviour': 24746, 'mangy': 17582, 'stupidest': 27463, 'absurdest': 961, 'worms': 31820, 'sanguinary': 24660, 'unoffending': 30127, 'krylov': 16290, 'fable': 10828, 'parisians': 20417, 'imbeciles': 14522, 'canvass': 4795, 'heartbroken': 13663, 'terai': 28377, 'bonhomme': 3912, 'fleece': 11508, 'esquire': 10353, 'kiln': 16141, 'fedosya': 11120, 'resslich': 23818, 'solicitations': 26384, 'radomski': 22794, 'recitation': 23108, 'disagreements': 8596, 'vacancies': 30478, 'inclement': 14809, 'promptness': 22268, 'reprinted': 23649, 'floodings': 11571, 'illuminate': 14490, 'aggregate': 1416, 'chickens': 5413, 'frivolity': 12102, 'priests': 22061, 'lutherans': 17337, 'sustenance': 27871, 'dingle': 8536, 'barest': 2936, 'encroaching': 10012, 'unthinking': 30319, 'sorrowing': 26468, 'hoof': 14061, 'ruddily': 24368, 'martinet': 17733, 'blackboy': 3592, 'acerbity': 1077, 'polly': 21579, 'lookers': 17129, 'benches': 3332, 'mahogany': 17448, 'sallower': 24591, 'evenly': 10434, 'interceding': 15400, 'sharpened': 25414, 'tensely': 28362, 'succumbed': 27566, 'drugs': 9397, 'laboratory': 16309, 'consign': 6585, 'kindling': 16157, 'officially': 19705, 'laziest': 16576, 'packages': 20213, 'sleepily': 26030, 'rucked': 24365, 'lolling': 17101, 'lavish': 16551, 'unwittingly': 30370, 'littlenesses': 16997, 'sparely': 26551, 'upholstery': 30395, 'breasted': 4169, 'everard': 10442, 'outstaying': 20044, 'soapsuds': 26302, 'whisk': 31474, 'mithers': 18422, 'albertus': 1521, 'magnus': 17445, 'remittance': 23511, 'maturer': 17834, 'como': 6187, 'gargoyle': 12354, '1898': 78, 'eduardo': 9692, 'puny': 22520, 'comprises': 6306, 'marseilles': 17716, 'bonvalot': 3920, 'scholars': 24857, 'courted': 7049, 'auguries': 2573, 'covies': 7090, 'libraries': 16810, 'collating': 6005, 'dundasov': 9477, 'athenian': 2466, 'sistine': 25880, 'interspersed': 15471, 'pays_': 20642, '_le': 488, 'makar': 17489, 'ses': 25293, 'veaux_': 30597, 'gambols': 12311, 'thuds': 28664, 'limitless': 16901, 'sapling': 24671, 'yelps': 32012, 'infants': 15051, 'slaty': 26006, 'seemingly': 25125, 'ungracious': 29978, 'pent': 20788, 'hideousness': 13854, 'filthiness': 11327, 'eroshka': 10307, 'committing': 6156, 'contradicting': 6727, 'futile': 12235, 'runners': 24434, 'sheath': 25444, 'venetians': 30638, 'habitable': 13271, 'sluggard': 26106, 'grosser': 13100, 'sallied': 24588, 'audacity': 2558, 'extremes': 10798, 'overshadowing': 20140, 'disabled': 8585, 'throbbed': 28641, 'podin': 21492, 'pens': 20778, 'guardianship': 13169, 'stuffed': 27439, 'bran': 4102, 'postures': 21742, 'immunities': 14566, 'cessation': 5151, 'commencing': 6119, 'aglow': 1432, 'recite': 23109, 'niggardly': 19191, 'firewood': 11378, 'compress': 6297, 'menial': 18026, '403': 123, 'arches': 2138, 'vive': 30884, 'république': 24479, 'démocratique': 9554, 'sociale': 26319, 'universelle': 30053, 'liberté': 16807, 'égalité': 32109, 'fraternité': 12002, 'despatch': 8260, 'freakish': 12013, 'kicks': 16119, 'buffets': 4420, 'unfeignedly': 29927, 'cloister': 5814, 'deliciously': 8011, '_ship_': 708, 'saracen': 24675, 'martlets': 17736, 'luttrells': 17338, 'romorantin': 24256, 'solleret': 26404, 'greave': 12985, 'hackle': 13283, 'brays': 4144, 'bray': 4143, 'windlass': 31628, 'rivals': 24156, 'arbalestiers': 2117, 'gaspard': 12386, 'stateliest': 26990, 'cutter': 7547, 'posthumous': 21728, 'scandalized': 24789, 'grocer': 13083, 'disallow': 8598, 'kirkton': 16179, 'thinly': 28541, 'peopled': 20796, 'harangue': 13433, 'indecorum': 14906, 'alyoshka': 1664, 'suppers': 27740, 'insurrection': 15363, 'imperil': 14608, 'expulsion': 10745, 'docility': 9039, 'distraught': 8959, 'griesengesang': 13026, 'unmade': 30085, 'avowed': 2677, 'feign': 11140, 'advisability': 1307, 'suspiciousness': 27864, 'normally': 19317, 'glascow': 12629, 'luckier': 17255, 'broadside': 4307, 'kags': 16040, 'gulped': 13221, 'quenching': 22692, 'quilt': 22731, 'wadded': 30979, 'emerges': 9918, 'aldgate': 1534, 'usefulness': 30449, 'rationality': 22938, 'trifled': 29282, 'lowness': 17235, 'unreasonableness': 30194, 'maxims': 17857, 'safeguard': 24535, 'seaport': 25040, 'humblest': 14262, 'preferable': 21907, 'foretell': 11822, 'nothink': 19364, 'nat': 18988, 'emptiness': 9969, 'themes': 28484, 'ideas_': 14410, 'embryo': 9909, 'preordained': 21946, 'accumulations': 1057, 'aggression': 1417, 'plotnikovs': 21440, 'implacable': 14629, '_is_': 457, '_laugh_': 487, 'upland': 30396, 'allertons': 1586, 'bracing': 4073, 'saunderson': 24725, 'comin': 6098, 'blockaded': 3724, 'bellow': 3295, 'saintly': 24564, 'misconstrued': 18325, 'persecutors': 20917, 'inquisition': 15219, 'seville': 25329, 'vehm': 30613, 'gericht': 12510, 'unguardedly': 29986, 'inconceivably': 14844, 'shews': 25487, 'unspoilt': 30284, 'engulf': 10102, 'masses': 17767, 'tumultuously': 29459, 'upheaving': 30388, 'staving': 27017, 'discount': 8680, 'consciences': 6553, 'blubber': 3771, 'eared': 9566, 'forbearing': 11750, 'beshadowed': 3404, 'fares': 10977, 'emprise': 9966, 'jocund': 15894, 'umbrageous': 29613, 'dally': 7601, 'rubies': 24361, 'jewellers': 15860, 'footfalls': 11720, 'transposed': 29158, 'demonstrations': 8064, 'warbled': 31105, 'banquet': 2910, 'nautical': 19011, 'holburn': 13976, 'conduit': 6422, 'rodger': 24216, 'costa': 6963, 'rica': 24029, 'purloined': 22551, 'norn': 19322, 'outfall': 19993, 'tents': 28371, 'exhaustively': 10606, 'circumstantially': 5611, 'unforgotten': 29945, 'funded': 12185, 'oatmeal': 19473, 'lacking': 16339, 'scowled': 24932, 'phenomenally': 21057, 'parasha': 20378, 'realizes': 23013, 'refuses': 23309, 'servitude': 25292, '_tout': 772, 'court_': 7048, 'spitefully': 26696, 'goatskins': 12731, 'drawling': 9283, 'wonted': 31763, 'assorting': 2411, 'wallington': 31062, 'studier': 27429, 'tranquillised': 29103, 'disperse': 8842, 'vigo': 30776, 'bathed': 3034, 'virility': 30841, 'iridescent': 15627, 'mats': 17820, 'bazaar': 3073, 'ballet': 2842, 'racehorses': 22770, 'sensuous': 25214, 'fragonard': 11973, 'girardet': 12581, 'athletes': 2470, 'oar': 19466, 'oxonian': 20196, 'leander': 16606, 'foils': 11664, 'supremacy': 27776, 'dado': 7580, 'rhinoceros': 24014, 'lado': 16355, 'enclave': 9991, 'taint': 28096, 'abound': 922, 'populated': 21644, 'nauvoo': 19012, 'ungovernable': 29976, 'unanswerable': 29644, 'beatitude': 3113, 'mahomet': 17449, 'allah': 1573, 'neared': 19030, 'simpletons': 25817, 'collapses': 6000, 'untrustworthy': 30341, 'incriminate': 14886, 'naps': 18964, 'tumblings': 29454, 'divers': 8998, 'chokings': 5494, 'collapsed': 5999, 'cheerless': 5362, 'raft': 22798, 'predicament': 21886, 'lurches': 17313, 'wallowing': 31067, 'disinterred': 8784, 'stack': 26874, 'hangdog': 13403, 'ineligible': 15015, 'disinterestedly': 8782, 'tring': 29297, 'cheddington': 5348, 'platelayers': 21366, 'conceivable': 6336, 'navvies': 19019, 'imaginative': 14514, 'vignette': 30775, 'valentines': 30507, 'matronas': 17817, 'melodramatic': 17981, 'resurrection': 23855, 'pelt': 20731, 'cowherd': 7099, 'nothin': 19360, 'lepers': 16732, 'beecher': 3176, 'pucker': 22457, 'turbulent': 29471, 'tilting': 28757, 'swallered': 27889, 'sowed': 26526, 'salad': 24574, 'cramped': 7150, 'bicycle': 3491, '_post': 635, 'mortem_': 18659, 'manifested': 17591, 'thenceforward': 28486, 'attainment': 2505, 'unfitted': 29934, 'ditties': 8987, 'chess': 5393, 'blond': 3731, 'submissive': 27506, 'armaments': 2209, 'evaporation': 10426, 'mists': 18411, 'vegetation': 30606, 'fauna': 11060, 'modified': 18472, 'aeons': 1320, 'rift': 24075, 'compensated': 6225, 'thomson': 28570, 'despairingly': 8259, 'blankets': 3644, 'scorched': 24900, 'edifice': 9679, 'molten': 18506, 'trickled': 29273, 'rents': 23569, 'splits': 26714, 'crystallisation': 7407, 'furnace': 12207, 'abolishing': 913, 'ringer': 24110, 'vented': 30649, 'languished': 16446, 'perfidy': 20841, 'counteracted': 7006, 'roly': 24241, 'poly': 21584, 'merriest': 18081, 'caned': 4760, 'skeletons': 25911, 'mortality': 18654, 'caning': 4763, 'hawes': 13584, 'torrance': 28954, 'scout': 24928, 'dundas': 9476, 'brighten': 4250, 'sidmouth': 25726, 'nag': 18927, 'shatushka': 25424, 'broun': 4346, '1810': 51, 'esq': 10351, 'somerset': 26418, 'inserting': 15250, 'adoption': 1257, 'steals': 27041, 'puppyism': 22527, 'deciding': 7837, 'withstand': 31714, 'belied': 3276, 'volunteer': 30930, 'crane': 7153, 'herald': 13787, 'leatherhead': 16628, 'crook': 7319, 'sultriness': 27641, 'tor': 28937, 'introspective': 15520, '_telegraph_': 734, '_chronicle_': 263, 'good_': 12786, 'printshop': 22094, 'sympathetically': 28028, 'flaw': 11493, 'civilisation': 5627, 'renounced': 23558, 'laureation': 16538, 'worshipper': 31834, 'goddess': 12741, 'hygieia': 14373, 'cestus': 5155, 'exiguous': 10622, 'dwells': 9536, 'lavishes': 16553, 'fruitful': 12140, 'comely': 6079, 'malapert': 17504, 'ozone': 20201, 'odinets': 19635, 'mischievousness': 18320, 'unsuspicious': 30303, 'machinations': 17380, 'resoundingly': 23785, 'insubordination': 15339, 'strutting': 27416, 'blanco': 3636, 'rio': 24119, 'settee': 25298, 'repugnant': 23684, 'signet': 25751, 'concord': 6379, 'varieties': 30559, 'cuffs': 7425, 'flaps': 11466, 'overshoot': 20141, 'irascible': 15622, 'riband': 24024, 'objectors': 19498, 'forthcoming': 11893, 'submerged': 27503, 'staffordshire': 26877, 'pulverizing': 22491, 'uninjured': 30027, 'detrimental': 8341, 'outbreaks': 19980, 'nutshell': 19456, 'sententiously': 25221, 'splashes': 26702, 'salutes': 24607, 'embark': 9870, '_could': 283, 'sadducee': 24527, 'banneret': 2906, 'rake': 22841, 'agen': 1402, '_rôle_': 681, 'manders': 17570, 'reilly': 23377, 'chester': 5397, 'insolently': 15278, 'impudently': 14727, 'inflexibly': 15088, '_g_': 389, 'worlds_': 31817, 'whippersnapper': 31461, 'privy': 22120, 'councillors': 6994, 'sleepless': 26033, 'shudderings': 25671, 'professing': 22184, '_engaged_': 341, 'barbarism': 2918, '_maria': 516, 'stampt': 26927, 'unravelling': 30187, 'maddox': 17402, '_more_': 547, '_if_': 444, '_possible_': 634, 'mansion': 17620, 'consume': 6649, 'seaside': 25050, 'draughty': 9271, 'belvidere': 3321, 'rejoinder': 23403, 'dissuade': 8923, 'misbehaving': 18307, '_charming_': 254, 'hungering': 14304, 'cranny': 7160, 'democrat': 8054, 'unguessing': 29987, 'brisetout': 4278, 'unfamiliar': 29915, 'smack': 26128, 'connivance': 6539, 'athens': 2467, 'clause': 5708, 'leisured': 16700, 'magnum': 17444, 'opus': 19850, '_practical': 637, 'handbook': 13371, 'segregation': 25137, 'queen_': 22678, 'atone': 2481, 'progressing': 22221, 'extension': 10754, 'loosening': 17153, 'consequential': 6571, 'equals': 10277, 'olympic': 19749, 'forlorner': 11860, 'singleness': 25846, 'catskin': 5045, 'reiterated': 23391, 'goloshes': 12777, 'outdoor': 19989, 'purvey': 22584, 'compliance': 6262, 'furnishes': 12211, 'humbler': 14260, 'gusto': 13248, 'abundant': 967, 'visitings': 30867, '_at_': 199, 'obtuseness': 19567, 'navarre': 19014, 'chaffering': 5168, 'hucksters': 14215, 'mastery': 17783, 'sweetmeats': 27943, 'olives': 19744, 'miner': 18240, 'politic': 21566, 'crazily': 7182, 'forties': 11896, 'fifties': 11287, 'freethinker': 12028, 'boredom': 3966, 'diversion': 9000, 'pretext': 22019, 'amicably': 1720, 'relates': 23412, '_third_': 754, 'distrait': 8958, 'reclaimed': 23126, 'oakum': 19465, 'unclipped': 29735, 'fills': 11321, 'awakes': 2691, 'sensualists': 25212, 'taters': 28209, 'overdosed': 20084, 'gammon': 12322, 'tepid': 28374, 'illiberal': 14480, 'devilry': 8365, 'jumbled': 15994, 'humanely': 14248, 'bookworm': 3937, 'congenial': 6497, 'anyways': 1951, 'sannox': 24665, 'exorcist': 10637, 'acolyte': 1104, 'clank': 5666, 'lapping': 16462, 'amulets': 1752, 'sanctified': 24633, 'somnambulist': 26425, 'equip': 10282, 'mouthpiece': 18739, 'snarling': 26228, 'curs': 7492, 'comprehending': 6292, 'assisting': 2401, 'killian': 16137, 'reversible': 23954, 'domineering': 9121, 'kashgar': 16064, 'sixth': 25903, 'unimportant': 30022, 'rue': 24379, 'lepic': 16733, 'deader': 7751, 'farrier': 10994, 'wallises': 31064, 'innoxious': 15201, 'papered': 20342, 'mungo': 18810, 'bubble': 4386, 'crib': 7249, 'sprains': 26768, 'cholic': 5497, 'spooneful': 26741, 'parthian': 20457, 'um': 29607, 'kilted': 16145, 'merton': 18086, '1894': 77, 'notary': 19349, 'stalked': 26911, 'logs': 17089, 'officiousness': 19711, 'thirteenth': 28559, 'lieutenants': 16836, 'bungling': 4482, 'pilgrims': 21183, 'jangled': 15777, 'lamentation': 16396, 'moonlit': 18596, 'criminality': 7263, 'cambrig': 4715, 'oxenford': 20194, 'negroes': 19095, 'cargo': 4893, 'bermudan': 3386, 'bestowing': 3431, 'haystack': 13599, 'dines': 8531, 'profaned': 22179, 'blurts': 3800, '_here_': 423, 'maunnae': 17844, 'doffing': 9069, 'wull': 31944, 'effete': 9717, 'tammany': 28135, 'torsion': 28959, 'oversleep': 20144, 'jerks': 15835, 'norseback': 19323, 'centred': 5127, 'cotillions': 6975, 'norma': 19315, 'emitted': 9932, 'appoint': 2048, '_radix': 657, 'pedis': 20700, 'diaboli_': 8407, 'label': 16304, 'cher': 5379, 'lisp': 16960, 'bolstering': 3885, 'shatter': 25421, 'soldiery': 26369, 'afield': 1377, 'covertly': 7083, 'perturbing': 20973, 'respectively': 23802, 'runes': 24430, 'click': 5772, 'essentials': 10363, 'massively': 17770, 'busier': 4546, 'instructor': 15333, 'reawakened': 23057, 'sunlight': 27682, 'capacious': 4804, 'wildwood': 31579, 'sapphire': 24672, 'insensate': 15243, 'storage': 27236, 'flagstone': 11442, 'misinterpret': 18359, 'transmit': 29139, 'goer': 12754, 'vernet': 30698, '_je': 462, 'contre': 6741, 'hustled': 14358, 'bustled': 4554, 'apathetic': 1963, 'anomaly': 1884, 'warhorse': 31126, 'corrective': 6924, 'misadventure': 18295, 'imprecation': 14681, 'swells': 27950, 'wane': 31092, 'oceans': 19598, 'fetching': 11223, 'ruminated': 24414, 'voznesensky': 30964, '_can': 242, 'tho': 28566, 'forego': 11785, 'fixes': 11428, 'ladling': 16354, 'quantities': 22647, '_parc': 612, 'cerfs_': 5141, 'declamation': 7851, 'melon': 17983, 'cucumber': 7416, 'weedy': 31308, 'offshoot': 19714, 'willful': 31592, 'buckwheat': 4407, 'toasted': 28835, 'amplifying': 1748, 'prizes': 22124, 'hatty': 13556, 'festivities': 11217, 'currently': 7487, 'expectancies': 10650, 'balmoral': 2849, 'californian': 4685, 'gainer': 12266, 'republican': 23675, 'peeress': 20714, 'orfling': 19884, 'stencilled': 27086, 'muffin': 18769, 'weirdest': 31330, 'yashmak': 31978, 'sherry': 25481, 'astonishes': 2434, 'jesuit': 15847, 'rabid': 22766, 'nationality': 18994, '_believes': 219, 'in_': 14743, 'negation': 19079, 'stammering': 26922, 'assiduity': 2388, 'kennington': 16093, 'kiev': 16131, 'deciphering': 7840, 'robbie': 24187, 'frights': 12090, 'scarecrows': 24812, 'hinting': 13914, 'treacle': 29191, 'flocked': 11561, 'blaye': 3661, 'bourge': 4028, 'libourne': 16808, 'emilion': 9924, 'castillon': 4998, 'macaire': 17371, 'ryons': 24477, 'flourishing': 11598, 'converging': 6776, 'rousseau': 24327, '_impressed_': 446, '_pride_': 640, '_defiant': 301, '_gigantic_': 395, 'revised': 23971, 'solicitor': 26387, 'tchernomazov': 28244, 'shlessinger': 25541, 'parch': 20387, 'manfully': 17576, 'topsawyer': 28934, 'felicitate': 11145, 'unpremeditated': 30159, 'madeira': 17403, 'lisbon': 16957, 'traditional': 29059, 'samovars': 24623, 'robberies': 24184, 'heights': 13737, 'impervious': 14621, 'deviltry': 8367, 'propound': 22321, 'warmin': 31136, 'interlined': 15427, 'initiated': 15161, 'knowed': 16250, 'bahd': 2803, 'neezing': 19077, 'nesting': 19125, 'meetin': 17960, 'kidnapping': 16126, 'inadmissable': 14751, 'dicon': 8427, '_propter': 645, 'argumentum_': 2182, 'ergo': 10301, 'dinning': 8545, 'apaches': 1959, 'baboon': 2745, 'manoeuvres': 17613, 'musky': 18864, 'chisel': 5469, 'phororachus': 21085, 'remorseless': 23527, 'flattened': 11478, 'toxodon': 29027, 'dorsetshire': 9167, 'meddled': 17923, 'quavering': 22673, 'clarendon': 5681, 'profane': 22178, 'godless': 12745, 'peaching': 20654, 'overcoming': 20077, 'ascribe': 2316, 'musingly': 18858, 'exploit': 10705, 'congregation': 6511, 'resorting': 23780, 'gummed': 13226, 'accurate': 1060, 'philosophic': 21075, 'flip': 11545, 'outfaced': 19992, 'overthrew': 20159, 'starshine': 26972, 'violets': 30831, 'obscurely': 19525, 'plotted': 21442, 'withhold': 31711, '_yours_': 844, 'unfurnished': 29965, '_miracle_': 537, '_mystery_': 560, '_authority_': 204, 'acknowledging': 1100, 'feebleness': 11124, 'unwashed': 30352, 'overawe': 20061, 'emphasising': 9946, 'freckles': 12016, 'thowels': 28596, 'tarnish': 28177, 'depositors': 8143, 'unfruitful': 29960, 'courageous': 7041, 'pendent': 20744, 'distortedly': 8948, 'compatriot': 6216, 'consignment': 6588, '_felt_': 367, '_engagement_': 342, '_be_': 210, '_source_': 723, '_of_': 586, '_repentance_': 670, '_and_': 187, '_misery_': 538, '_each_': 326, '_dissolved_': 313, '_it_': 460, 'multiplicity': 18789, 'trusting': 29404, 'captious': 4836, 'accordant': 1038, 'descriptive': 8213, 'blunders': 3788, 'extending': 10752, 'retreats': 23893, 'jacquerie': 15758, 'peak': 20656, 'graystiel': 12967, 'caulder': 5050, 'obsequies': 19528, 'pyre': 22614, 'clumsily': 5863, 'saturnine': 24715, 'haters': 13546, 'contemner': 6667, 'sightedness': 25739, 'politicians': 21569, 'amours': 1741, 'nicknames': 19181, 'clumsier': 5862, 'besotted': 3414, 'inornate': 15208, 'incubus': 14891, 'rend': 23544, 'waxed': 31234, 'clamouring': 5656, 'thunderclap': 28678, 'altercations': 1647, 'karp': 16060, 'estrange': 10384, 'kondratyev': 16271, 'hurdles': 14321, 'outcome': 19985, 'coaxed': 5901, 'pailfuls': 20243, 'protesting': 22366, 'gore': 12804, 'gypsy': 13264, 'obsession': 19547, 'cuts': 7546, 'undestroyed': 29846, 'conjure': 6523, 'alight': 1563, 'deadliest': 7754, 'creeturs': 7227, 'overturn': 20166, 'boldness': 3883, 'impulsiveness': 14733, 'gentlefolk': 12476, 'sentencing': 25219, 'sades': 24528, 'lacerates': 16326, 'dazzled': 7743, 'clour': 5842, 'suppression': 27774, 'korovkin': 16275, 'licked': 16821, 'devoir': 8375, 'sweir': 27946, 'ambuscade': 1693, 'mechanism': 17916, 'sharpers': 25416, 'consists': 6596, 'belts': 3319, 'reparation': 23581, 'tumbril': 29455, 'flaws': 11495, 'cæsar': 7566, 'detractors': 8339, 'owt': 20191, 'th': 28440, 'snew': 26247, 'overworked': 20173, 'tremblade': 29221, 'oleron': 19739, 'cordouan': 6881, 'veer': 30599, 'malignantly': 17527, 'smartness': 26147, 'bankrupt': 2902, 'dressmaker': 9321, 'passports': 20525, 'siller': 25783, 'daffing': 7582, 'loftily': 17078, 'capitalist': 4814, 'milked': 18198, 'almshouse': 1624, 'horoscope': 14106, 'lax': 16568, 'looser': 17154, 'felonious': 11162, 'confessions': 6440, 'stoppers': 27232, 'inducted': 14989, 'bijou': 3521, 'suspension': 27859, 'roasting': 24180, 'pretentiously': 22015, 'divan': 8992, 'lustres': 17332, 'oppressively': 19841, 'rugby': 24392, 'placidity': 21307, 'tenable': 28333, 'alonger': 1628, 'grazier': 12970, 'odinetcies': 19634, 'saleable': 24579, 'modin': 18474, 'mawther': 17853, 'galled': 12287, 'ponderable': 21605, 'dignus': 8489, 'vindice': 30809, 'nodus': 19267, 'smarting': 26145, 'consults': 6648, 'allows': 1604, 'quixotry': 22749, 'injustices': 15178, 'threading': 28611, 'dingiest': 8535, 'dreariest': 9307, 'brandleys': 4116, 'picnics': 21133, 'confiding': 6454, 'performs': 20849, 'adept': 1184, 'frill': 12092, 'pirliecue': 21258, 'whigs': 31439, 'behoves': 3259, 'veiled': 30616, 'moonbeams': 18592, 'ulterior': 29600, 'brimful': 4265, 'regarders': 23325, 'brockenhurst': 4313, 'duets': 9446, 'aspire': 2348, 'transaction': 29109, 'odinest': 19631, 'yachtsmen': 31961, 'transit': 29129, 'apostasy': 1988, 'misogyny': 18369, 'daintiness': 7593, 'gainsay': 12271, 'scurvily': 25017, 'cavendish': 5075, 'furnishing': 12212, 'outlay': 20009, 'brinks': 4276, 'ditches': 8984, 'disappoints': 8609, 'gorgon': 12812, 'premising': 21932, 'supererogation': 27704, 'unresisting': 30216, 'beneficence': 3344, 'belmesov': 3305, 'lucidity': 17252, 'devolving': 8378, 'messrs': 18100, 'thereunto': 28506, 'roysterers': 24352, 'sidney': 25727, 'parasite': 20379, 'marketable': 17683, 'commodity': 6159, 'swiss': 27986, 'alleged': 1580, 'claimants': 5640, 'scion': 24883, 'undergoing': 29790, 'congenital': 6498, 'gratis': 12944, 'charlatan': 5281, 'bromley': 4325, 'grumpy': 13154, 'frumpy': 12145, 'rigidly': 24092, 'annual': 1877, 'irregulars': 15654, 'poultney': 21769, 'rayther': 22971, 'twig': 29532, 'admonish': 1245, 'shrilled': 25642, 'jurisdiction': 16015, 'distributed': 8966, 'ascribed': 2317, 'beleaguered': 3271, 'widowed': 31551, 'trousseau': 29357, 'exhortations': 10619, 'havana': 13577, 'relays': 23428, 'gamecock': 12314, 'typical': 29574, 'dwellers': 9533, 'victories': 30753, 'dew': 8396, 'predict': 21887, 'meteorological': 18114, 'louvre': 17212, 'hutch': 14362, 'meteorologist': 18115, 'unpaid': 30135, 'healthful': 13644, 'arrondissement': 2266, 'bedchamber': 3150, 'misapprehension': 18303, 'rectified': 23199, 'chilly': 5444, 'stereotyped': 27103, 'excellently': 10525, 'immunity': 14567, 'heavier': 13699, '_eclaircissement_': 328, 'grimaced': 13041, 'wriggled': 31901, 'portcullis': 21676, 'expending': 10668, 'smear': 26153, 'detaining': 8315, 'maintenance': 17475, 'untainted': 30307, 'unbleached': 29683, '46': 127, 'barricaded': 2977, 'westaway': 31365, 'stoper': 27228, 'anteroom': 1905, 'ledgers': 16657, 'selina': 25157, '_remind_': 669, 'wakefulness': 31037, 'huntsman': 14318, 'halloo': 13331, '_roof_': 677, 'godfrey': 12743, 'pyx': 22617, 'minster': 18264, 'dinan': 8527, 'painters': 20254, 'transact': 29107, 'bentinck': 3362, 'welbeck': 31333, 'odinlebone': 19652, 'continental': 6698, 'hangman': 13411, 'tempers': 28315, 'doigt': 9081, 'eau': 9621, 'vie_': 30761, 'caricature': 4895, 'debile': 7795, 'egged': 9733, 'violates': 30825, 'standback': 26936, 'memorializing': 18006, 'memorialized': 18005, 'advertise': 1299, 'wharfingers': 31391, 'tittered': 28826, 'parrying': 20443, 'incivility': 14808, 'humbleness': 14259, 'accustoodin': 1075, 'employments': 9961, 'medicines': 17933, 'wagabond': 30991, 'shaver': 25428, 'seams': 25038, 'smelt': 26162, 'dysentery': 9549, 'lillibullero': 16883, 'idly': 14432, 'niggers': 19193, '_horror_': 433, 'waver': 31223, 'adheres': 1191, 'logrono': 17088, 'angus': 1838, 'burgos': 4509, 'bared': 2930, 'tattooed': 28216, 'staining': 26896, 'ousted': 19978, 'thirstiest': 28553, 'dramatically': 9257, 'exclaims': 10553, 'brotherly': 4342, '_du': 321, 'schönsten': 24875, 'augen': 2565, 'mädchen': 18915, 'willst': 31604, 'mehr': 17964, 'wheugh': 31431, 'discomposed': 8661, 'gardening': 12348, 'toll': 28876, 'plethoric': 21425, 'pouches': 21765, 'displays': 8853, 'pomp': 21595, 'fierier': 11280, 'suiting': 27622, 'tussle': 29507, 'intersect': 15468, 'deity': 7985, 'gnashing': 12720, 'bloodthirsty': 3744, 'togs': 28855, 'mariners': 17673, 'lat': 16499, '15º': 28, '25º': 100, 'voodoo': 30939, 'rites': 24152, 'cannibalism': 4767, 'fenced': 11173, 'contrairy': 6732, '1814': 53, 'perpetuated': 20899, 'offspring': 19715, 'procurement': 22158, 'shipful': 25519, 'lunatical': 17301, 'turbid': 29470, '1865': 64, 'jeune': 15854, 'fille': 11315, 'agneau': 1433, 'portalis': 21674, 'mending': 18024, 'sewing': 25335, 'goatskin': 12730, 'delivering': 8026, 'dotard': 9177, 'murrey': 18838, 'stragglers': 27273, 'climes': 5790, 'earthy': 9593, 'sunless': 27681, 'aisles': 1497, 'tucking': 29434, 'qualm': 22645, 'assimilate': 2395, 'hanger': 13405, 'tee': 28278, 'hee': 13716, 'unformed': 29946, 'winchelsea': 31616, 'galleys': 12291, 'midlands': 18159, 'hearthstone': 13673, 'unfurls': 29964, 'gruffness': 13147, 'dullness': 9460, 'distrusting': 8975, 'sated': 24699, 'toper': 28922, 'unmask': 30095, 'bayonets': 3069, 'inertia': 15020, 'counselled': 6997, 'ailing': 1471, 'crone': 7315, 'chidings': 5419, 'striding': 27364, 'suhoy': 27611, 'possyolok': 21720, 'verst': 30707, 'combated': 6063, 'steeple': 27069, 'churchman': 5554, 'plymouth': 21485, 'cogitating': 5954, 'botanical': 3986, 'furor': 12214, 'foma': 11686, 'infatuations': 15054, 'fluency': 11613, 'whirls': 31468, 'hulloa': 14243, 'curing': 7471, 'incorrect': 14872, 'douches': 9202, 'mexican': 18134, 'bloods': 3739, 'sojourn': 26356, 'eavesdropping': 9625, 'mediaeval': 17927, 'reappearing': 23028, 'waywardness': 31249, 'detraction': 8338, 'orchids': 19867, 'lichens': 16818, 'smoldered': 26188, 'allamanda': 1574, 'tacodin': 28078, 'ipomaea': 15617, 'fairyland': 10899, 'abhors': 889, 'writhes': 31921, 'somber': 26414, 'nettle': 19136, 'jasmine': 15793, 'jacitara': 15741, 'cedars': 5094, 'multitudinous': 18793, 'providential': 22390, 'umbrellas': 29615, 'belabour': 3266, 'circassian': 5585, '_he': 416, 'inventive': 15557, 'modernised': 18466, 'recurred': 23206, 'tete': 28429, 'queerly': 22684, 'classification': 5700, 'propensities': 22286, 'assertions': 2377, 'falsehoods': 10923, 'pun': 22497, 'proverb': 22384, 'asserting': 2375, 'explode': 10703, 'mistrusting': 18410, 'exhilarated': 10614, 'oracle': 19852, 'conscientiously': 6555, '_dines_': 310, 'unsentinelled': 30249, 'exploration': 10708, 'hicks': 13848, 'wetness': 31380, 'veering': 30601, 'scalped': 24780, 'undoubting': 29866, 'wholesomeness': 31519, 'philippics': 21070, 'nelyudov': 19111, 'granddaughter': 12893, 'olga': 19742, 'mystifying': 18910, 'arousing': 2238, 'veracity': 30667, 'rashness': 22919, 'adhering': 1192, '_pity_': 629, 'gomeral': 12778, 'coarser': 5892, 'motherbank': 18683, 'congratulating': 6506, 'areas': 2167, 'penguins': 20757, 'gregarious': 13008, 'fraternise': 12000, 'foemen': 11649, 'avert': 2651, 'brunswick': 4367, 'podincuted': 21494, 'unclaimed': 29729, 'volatilized': 30913, 'preternatural': 22018, 'formulated': 11875, '_petite': 628, 'alors': 1631, '_fougue': 383, 'glibly': 12654, 'bandboxes': 2873, 'furthermore': 12218, 'sugars': 27601, 'clickett': 5774, 'gusty': 13250, 'gentlefolks': 12477, 'booth': 3949, '_soon': 721, 'explained_': 10696, 'protege': 22360, 'clefts': 5743, 'wrestle': 31889, 'uplands': 30397, 'exhorted': 10620, 'coveted': 7086, 'anathema': 1775, 'catesby': 5033, 'vivaciously': 30882, 'sulking': 27631, 'clubs': 5854, 'spades': 26536, 'undelivered': 29784, 'genève_': 12497, '6th': 139, '1891': 76, 'reuter': 23910, 'arbor': 2122, 'movable': 18742, 'hawke': 13586, '_mr_': 553, 'controversy': 6759, 'gottesheim': 12834, '_called_': 241, 'pervade': 20980, 'dislikes': 8790, 'yews': 32028, 'scrambling': 24943, 'consecrated': 6560, 'encompass': 9996, 'chinked': 5458, 'worlds': 31816, '_hers_': 424, 'ply': 21483, 'collapsing': 6001, 'communing': 6182, 'moralised': 18615, 'benignity': 3355, 'broadcloth': 4302, 'elevations': 9810, 'apposite': 2054, 'tag': 28086, 'lumsden': 17298, 'orchard': 19864, 'unrivalled': 30222, 'vexations': 30728, 'pinery': 21216, 'midhurst': 18156, 'stoup': 27254, 'hearten': 13667, 'clamors': 5653, 'tentaillon': 28366, 'stokers': 27202, 'shoul': 25594, 'skinny': 25940, 'hurling': 14324, 'parishioners': 20415, 'grandees': 12895, 'salubriously': 24600, '_refuse_': 668, 'premeditation': 21929, 'grovelled': 13117, 'swaggered': 27884, 'droit': 9357, 'seigneur': 25138, 'jasper': 15794, 'penodin': 20777, 'cymbals': 7558, 'icy': 14404, 'remedied': 23486, 'anatomical': 1778, 'citole': 5621, 'rebeck': 23060, 'smudged': 26206, 'defaced': 7911, 'clogs': 5813, 'particle': 20469, 'orison': 19915, 'chanted': 5231, 'benedictus': 3340, 'dominus': 9129, 'deus': 8344, 'meus': 18131, 'docet': 9037, 'meas': 17902, 'ad': 1156, 'proelium': 22176, 'digitos': 8481, 'meos': 18042, 'bellum': 3302, 'neighbors': 19102, 'walled': 31060, 'daffy': 7583, 'mixing': 18436, 'roundabout': 24316, 'mercymongers': 18062, 'plighted': 21433, 'fetish': 11225, 'archiepiscopal': 2141, 'ely': 9855, 'cologne': 6031, 'primal': 22065, 'reprobation': 23659, 'conciliation': 6363, 'blurs': 3796, 'avowedly': 2678, 'greatnesses': 12984, 'analyse': 1765, 'sublimer': 27499, 'intelligences': 15374, 'willie': 31594, 'weissmann': 31332, 'vienna': 30763, 'immobile': 14553, 'lacey': 16329, 'comprised': 6305, 'subsisted': 27527, 'receipted': 23085, 'lesurier': 16750, '_curse_': 290, 'protestation': 22363, 'soothed': 26446, 'dabe': 7576, 'ouse': 19977, 'hooroaring': 14071, 'conwey': 6814, 'rip': 24125, 'hooroars': 14072, 'avant': 2631, 'entre': 10210, 'nous': 19392, 'tous': 29003, 'freres': 12047, 'battons': 3056, 'charognes': 5296, 'remembrant': 23496, 'misere': 18339, 'sa': 24484, 'piteuse': 21283, 'amere': 1706, 'vendus': 30629, 'trais': 29081, 'tort': 28961, 'bastu': 3028, 'vierge': 30764, 'dere': 8182, 'monuments': 18581, 'underlip': 29803, 'sickliest': 25710, 'hazarding': 13605, 'earlstown': 9572, 'punishes': 22514, 'grievously': 13034, 'bequeathed': 3368, 'unquenchable': 30177, 'unrelenting': 30205, 'draggin': 9241, 'drabs': 9237, 'solemnise': 26375, 'retracing': 23886, 'quests': 22705, 'entangle': 10165, 'deadlock': 7756, 'caballero': 4620, 'aragon': 2113, 'sancho': 24631, 'penelosa': 20750, 'predatory': 21880, 'frailties': 11978, 'sliddering': 26052, 'owls': 20185, 'testifies': 28418, '_thoughts_': 759, 'delusions': 8035, 'twas': 29520, 'allus': 1612, 'wedded': 31298, 'scourged': 24925, 'charitably': 5277, 'townward': 29025, 'wading': 30985, 'waif': 31009, 'errors': 10321, 'accumulative': 1058, 'illuminating': 14492, 'scarcity': 24808, 'peremptory': 20830, 'bonfires': 3910, 'musketeers': 18861, 'piercer': 21153, 'carcase': 4860, 'gains': 12269, 'checks': 5347, 'gatherings': 12401, 'anniversary': 1864, 'unobservant': 30123, 'incurious': 14897, 'nihilistic': 19211, 'crayfish': 7179, 'shoreward': 25575, 'tuneless': 29462, 'itching': 15718, '_what': 818, 'larks_': 16481, 'explanatory': 10701, 'sultaness': 27640, 'scheherazade': 24846, 'exceeds': 10514, 'plural': 21480, 'austria': 2597, 'poltroon': 21583, 'pooles': 21623, 'abscess': 933, 'zest': 32083, 'hôtel': 14392, 'earthquake': 9590, 'convulsion': 6808, 'smithfield': 26176, 'scarecely': 24810, 'depressing': 8161, 'dorpt': 9165, 'reolle': 23572, 'bazaille': 3074, 'marmande': 17697, 'steading': 27032, 'legalise': 16677, 'chaotic': 5234, 'continents': 6699, 'inclusion': 14822, 'collaborator': 5997, 'chid': 5416, 'ned': 19062, 'widely': 31544, 'sundered': 27670, 'victors': 30755, 'vizor': 30890, 'laces': 16328, 'scarves': 24821, 'bout': 4033, 'satisfactions': 24705, 'prance': 21819, 'sacked': 24499, 'codgers': 5938, 'circuitous': 5594, 'skulk': 25959, 'artists': 2300, 'prattle': 21827, 'leans': 16611, 'gazes': 12423, 'rit': 24150, 'coverings': 7078, 'pegs': 20722, 'pest': 20994, 'coax': 5900, 'computation': 6315, 'surrey': 27829, 'consciously': 6557, 'bettered': 3461, 'pleasanter': 21399, 'sullying': 27637, 'unthinkingly': 30320, 'redder': 23216, 'sacrilege': 24512, 'fullest': 12169, 'arrogance': 2264, 'endearing': 10026, 'harrison': 13497, 'protecting': 22353, 'sheltering': 25471, 'bulkin': 4445, 'sentimentality': 25228, 'fad': 10856, 'raftered': 22800, 'baulks': 3060, 'numb': 19425, 'panelling': 20311, 'stags': 26890, 'extorted': 10779, 'contentious': 6691, 'deceptive': 7832, 'brewing': 4204, 'limes': 16893, 'officious': 19709, 'durable': 9496, 'barking': 2949, 'headforemost': 13620, 'thomlinson': 28569, 'augmentation': 2568, 'stateliness': 26991, 'ineffaceable': 15010, 'restitution': 23825, 'carol': 4911, 'kinswoman': 16177, 'clustering': 5870, 'shabbily': 25343, 'lorgnette': 17169, 'prunella': 22420, 'sugary': 27602, 'fearfulness': 11088, 'conniving': 6540, 'swirl': 27980, 'sheaths': 25447, 'tardvenus': 28172, 'refuted': 23313, 'strum': 27411, 'symphony': 28037, 'adoring': 1264, 'betting': 3464, 'gables': 12249, 'pillared': 21189, 'bygones': 4602, 'piracy': 21253, 'cognac': 5956, 'cannikin': 4769, 'lunched': 17303, 'excavating': 10508, 'enthusiast': 10189, 'clipped': 5799, 'evasively': 10429, 'curfew': 7469, 'getteth': 12526, 'quenched': 22691, 'leed': 16661, 'tauld': 28219, 'comfortless': 6093, 'veranda': 30668, 'saddened': 24519, 'breathings': 4179, '_lajdak': 482, 'tound': 28995, 'germany': 12515, 'humoredly': 14280, 'graciousness': 12868, 'misapplied': 18301, 'matveyevitch': 17837, 'carcass': 4861, 'bequeath': 3367, 'adversaries': 1295, 'mislaid': 18363, 'cleans': 5726, 'flurried': 11623, 'moderation': 18464, 'stratagem': 27308, 'phraseology': 21097, 'aweary': 2698, '_let_': 493, 'potter': 21759, 'horace': 14094, 'steamed': 27047, 'stoppage': 27229, 'hurlstone': 14327, 'vish': 30853, 'avay': 2635, 'rungs': 24432, 'swarming': 27908, 'surry': 27835, 'munifi': 18813, 'clem': 5744, 'lyrical': 17362, 'thump': 28671, 'dryer': 9410, 'crooning': 7325, 'ditty': 8988, 'antip': 1924, 'darwin': 7696, 'viper': 30834, 'typified': 29575, 'perpetrate': 20892, 'atrocity': 2489, 'sharmer': 25410, 'existent': 10631, 'improvidently': 14719, 'misdoing': 18332, 'sealegs': 25029, 'vouchsafe': 30952, 'dutiful': 9519, 'minted': 18268, 'dad': 7578, 'pigments': 21165, 'venetian': 30637, 'cara': 4849, 'mia': 18138, 'signor': 25763, 'contenting': 6688, 'punishing': 22515, 'uproot': 30411, 'pasted': 20530, 'directing': 8566, 'coachmanship': 5884, 'fatherless': 11035, 'henri': 13784, 'stanger': 26946, 'augments': 2570, 'insomuch': 15281, 'placards': 21301, 'evading': 10415, 'balked': 2833, 'wonderments': 31759, 'syntax': 28045, 'pardieu': 20394, 'backbone': 2761, 'footstool': 11736, 'liever': 16838, 'serenade': 25253, 'disquieted': 8880, 'believe_': 3280, '_knows_': 475, 'rasp': 22920, '_conscious_': 279, 'morozov': 18644, 'depôt': 8175, 'outfit': 19995, 'unmarked': 30093, 'bramble': 4100, 'intrusted': 15529, 'toot': 28916, 'banged': 2885, 'allan': 1575, 'rented': 23566, 'melville': 17991, 'dictating': 8431, '_how': 436, 'worthlessness': 31845, 'homesteads': 14019, '_just_': 467, 'favouring': 11071, 'repetitions': 23607, '52': 133, 'dowser': 9228, 'helens': 13748, 'illumination': 14493, 'turkeys': 29477, 'pilfering': 21179, '_housebreaking_': 435, 'waisted': 31021, 'gorging': 12811, '_peroratio_': 626, 'wherewith': 31426, '_vieni_': 792, 'incontestable': 14860, 'savouring': 24750, '_coup': 286, 'état_': 32113, 'rotterdam': 24298, 'cub': 7410, 'vouches': 30951, 'latent': 16505, 'entailing': 10164, 'survival': 27841, 'tranchoir': 29098, 'daring_': 7668, 'clanks': 5669, 'imparts': 14583, 'turmoils': 29481, 'slut': 26124, 'roederer': 24221, 'peacefullest': 20648, 'sublime': 27498, 'furbishing': 12202, 'counties': 7021, 'lilies': 16882, 'exports': 10721, 'crecy': 7205, 'nogent': 19269, 'sires': 25872, 'tamers': 28134, 'cornfields': 6899, 'picardy': 21118, 'normandy': 19319, 'jedburgh': 15809, 'signification': 25757, 'underlay': 29799, 'cryptic': 7404, 'parsties': 20450, 'palpable': 20286, 'capstan': 4830, 'overriding': 20131, 'feeds': 11130, 'subdue': 27485, 'powdering': 21788, 'animating': 1844, 'barque': 2967, '_lone': 504, 'star_': 26957, '85': 148, 'corridors': 6935, 'bifurcated': 3512, 'flickered': 11531, 'skulls': 25964, 'armbones': 2211, 'wistful': 31693, 'inscriptions': 15237, 'vestments': 30721, 'utensils': 30467, 'catacombs': 5015, 'kuzmitchovs': 16297, 'sneaking': 26237, 'sufferance': 27580, 'earthen': 9587, 'weakly': 31257, 'looker': 17128, 'obliterating': 19513, 'leonard': 16727, 'tolling': 28880, 'exbury': 10505, 'topping': 28929, 'bristle': 4285, 'masts': 17789, 'solent': 26380, 'pessoners': 20993, 'creyers': 7248, 'ducklings': 9431, 'diable': 8405, 'existe': 10628, 'geological': 12500, 'cataclysm': 5012, 'stoof': 27220, 'twitter': 29554, 'misunderstandings': 18415, 'grammatical': 12889, 'trepanned': 29242, 'crucifixion': 7372, 'indignities': 14950, 'duped': 9488, 'nohow': 19271, 'balloon': 2844, 'applaud': 2030, 'hurdle': 14320, 'effecting': 9709, 'quietness': 22728, 'fettered': 11226, 'zion': 32090, 'caravan': 4854, 'whips': 31463, 'waifs': 31010, 'recordable': 23178, 'dancers': 7632, 'sauntering': 24728, 'goldmine': 12772, 'scholey': 24860, 'texel': 28434, 'endymion': 10053, 'preservative': 21976, 'clement': 5746, 'clementist': 5747, 'shrift': 25640, 'idiomatic': 14420, 'headland': 13624, 'mounts': 18721, 'surge': 27792, 'northerly': 19328, 'consoling': 6604, 'disheveled': 8757, 'wearily': 31275, 'paven': 20621, 'terrifying': 28404, 'civilian': 5625, 'decoration': 7867, 'twen': 29526, 'ty': 29564, 'insistance': 15270, '_panie': 607, 'panie': 20318, 'endeared': 10025, 'adjectives': 1201, 'trailed': 29072, 'scuppers': 25013, 'trundled': 29390, 'bluster': 3806, 'bunker': 4484, '_think_': 753, 'suppressing': 27773, 'hoarsest': 13950, 'pauper': 20608, 'temerity': 28308, 'dosed': 9169, 'shouldst': 25602, 'nock': 19258, 'nocked': 19259, 'cornel': 6896, 'roving': 24338, 'pierre': 21156, 'learns': 16621, 'awoken': 2714, 'aspects': 2341, 'redress': 23236, 'intriguing': 15509, '19': 79, '1861': 62, 'emancipation': 9865, 'mis': 18294, 'shapen': 25399, 'desertion': 8222, 'standard': 26933, 'authoritative': 2607, 'cancel': 4743, 'reinforced': 23381, 'batch': 3030, 'spearmen': 26586, 'gunsmith': 13235, 'dobney': 9036, 'tetbury': 28428, 'boswell': 3985, 'muslin': 18865, 'peeps': 20710, 'kapernaumovs': 16054, 'mune': 18809, 'smoored': 26191, 'likit': 16879, 'anither': 1851, 'gurlin': 13242, 'owerheid': 20181, 'amang': 1668, 'thae': 28443, 'fearsome': 11094, 'stane': 26944, 'craigs': 7142, 'cutchull': 7539, 'ns': 19414, 'forrit': 11878, 'jib': 15870, 'mains': 17470, 'begude': 3233, 'skirl': 25947, 'luffed': 17268, 'thocht': 28567, 'ower': 20180, 'soa': 26297, 'puir': 22470, 'gabart': 12243, 'skreigh': 25957, 'spenster': 26646, 'clum': 5858, 'bowsprit': 4049, 'gurled': 13241, 'ca': 4617, 'foucht': 11927, 'dementit': 8047, 'niest': 19189, 'uskevagh': 30459, 'crawin': 7174, 'benbecula': 3329, 'urns': 30441, 'jackdaws': 15747, 'marauders': 17648, 'shearers': 25441, 'percentage': 20808, 'bowled': 4041, 'gritting': 13073, 'prolocutions': 22242, 'jostles': 15934, 'screech': 24961, 'crashed': 7164, 'fittings': 11421, 'workmanship': 31807, 'smirk': 26169, 'ordering': 19873, 'retrospections': 23902, 'headers': 13619, 'misrepresentations': 18374, 'oncommonest': 19770, 'oncommon': 19769, 'gridiron': 13021, 'haim': 13304, 'understate': 29819, 'rap': 22891, 'bloodstained': 3742, 'heartless': 13679, 'dodges': 9058, 'trebled': 29213, 'augment': 2567, 'disobeyed': 8813, 'joust': 15951, 'tourney': 28999, 'unredressed': 30202, 'wronger': 31932, 'ethiop': 10397, 'responsibly': 23815, 'condoled': 6406, 'relishing': 23464, 'inspires': 15291, 'misleading': 18365, 'peacefulness': 20650, 'roaming': 24172, 'pebbles': 20678, 'guerdon': 13175, 'deprecatory': 8153, 'crowder': 7354, 'graham': 12880, 'zéphyrine': 32102, 'misdirected': 18331, 'woeful': 31735, 'boh': 3869, '_was': 810, 'you_': 32044, 'preening': 21899, 'prinking': 22088, 'vassilitch': 30579, 'mosses': 18676, 'mosquitoes': 18674, 'outflank': 19997, 'pestilent': 21001, 'droned': 9364, '_listening_': 500, 'deceivers': 7822, '_understand': 782, '_assez': 198, 'causé_': 5062, 'disseminating': 8900, 'tug': 29442, 'odinionally': 19647, 'laodiceans': 16459, 'layer': 16570, 'fungi': 12190, 'optical': 19846, 'alps': 1639, 'weave': 31290, 'collops': 6026, 'gossamer': 12824, 'compensate': 6224, '1883': 72, '2nd': 110, 'infidel': 15069, 'awaked': 2686, 'southern': 26516, 'amity': 1731, 'fubbed': 12152, 'unhandsomely': 29992, 'zemarins': 32076, 'ugliness': 29595, 'confusing': 6492, 'debits': 7798, 'credits': 7215, 'hotness': 14158, 'entertainer': 10177, 'charities': 5278, 'inattentively': 14769, 'fogs': 11658, 'whereof': 31423, 'amenities': 1704, 'buys': 4589, 'homestead': 14018, 'avon': 2673, 'pilgrim': 21180, 'hubble': 14211, 'wheelwright': 31409, 'cornchandler': 6895, 'holus': 14004, 'bolus': 3891, 'antelopes': 1903, 'riderless': 24055, 'swashing': 27911, 'branching': 4106, 'saluted': 24606, 'roosting': 24276, 'belfries': 3273, 'stalled': 26915, 'halters': 13342, '1884': 73, '1887': 74, 'brewer': 4202, '14': 18, 'temperate': 28312, '88': 150, '10_s_': 5, '220': 90, 'rite': 24151, '_in_': 448, 'conkey': 6528, 'nosey': 19343, 'skirting': 25953, 'unpretending': 30162, 'picnic': 21132, 'deadlights': 7755, 'irresponsibility': 15667, 'unresisted': 30215, 'intimacies': 15481, 'tipped': 28800, 'deave': 7783, 'ludicrously': 17265, 'deponents': 8132, 'abjure': 898, 'anathemas': 1776, 'tyranny': 29582, 'tyrannize': 29579, 'liveries': 17010, 'retinue': 23875, 'smarten': 26141, 'grudges': 13139, 'manger': 17578, 'morphine': 18645, 'unchildlike': 29723, 'reminiscences': 23506, 'refute': 23312, 'dishonor': 8762, 'whim': 31444, '1751': 42, 'blackbirds': 3590, 'disapprove': 8612, 'intellectually': 15372, 'metaphysical': 18108, 'symbolism': 28022, 'algebra': 1549, 'tramps': 29096, 'vaodins': 30548, 'dullard': 9455, 'gabbled': 12245, 'forecast': 11777, 'psychical': 22435, 'astronomer': 2450, 'investigates': 15568, 'comet': 6084, 'captured': 4846, 'quelled': 22688, 'readier': 22990, 'fortifying': 11902, 'lobby': 17047, 'quiz': 22750, 'famously': 10946, 'addle': 1175, 'predecessors': 21883, 'sacrist': 24514, 'errants': 10313, 'combines': 6070, 'spurn': 26806, 'dells': 8030, 'enthralling': 10185, 'hindustani': 13906, 'gazéd': 12428, 'womankind': 31746, 'taffeta': 28085, 'scrivener': 24981, 'napery': 18955, 'brushes': 4372, 'reined': 23379, 'consummate': 6652, 'evergreen': 10443, 'hindu': 13905, 'irishman': 15629, 'whelps': 31417, 'excommunicate': 10564, 'reject': 23392, 'rejects': 23396, 'excommunication': 10565, 'secular': 25086, 'scot': 24911, 'driest': 9326, 'pretension': 22012, 'speechifying': 26622, '_yourself_': 845, 'intensified': 15387, 'holland': 13992, '221b': 91, 'courteously': 7051, 'bracket': 4075, 'lavatory': 16545, 'grooves': 13094, 'captors': 4844, '_all': 174, 'colourless': 6048, 'homicide': 14023, 'sepulchre': 25244, 'sceptically': 24840, 'papistical': 20346, 'pelisse': 20725, 'asp': 2338, 'privateers': 22112, 'frigate': 12081, 'sloop': 26083, 'wright': 31903, 'illustrations': 14499, 'kiddies': 16122, 'retainer': 23861, 'leaps': 16616, '_never_': 565, 'tête': 29586, 'flagon': 11438, 'malvoisie': 17543, 'sewers': 25334, 'minstrels': 18266, 'monarchs': 18515, 'rural': 24441, 'beeches': 3177, 'puissent': 22474, 'voir': 30911, 'longtemps': 17123, 'beauté': 3130, 'sacrée': 24517, 'tant': 28152, 'amis': 1727, 'sourds': 26507, 'adieux': 1196, 'ils': 14502, 'meurent': 18130, 'pleins': 21417, 'jours': 15950, 'leur': 16762, 'soit': 26355, 'pleurée': 21426, 'ferme': 11189, 'yeux': 32026, 'alain': 1508, 'bonnie': 3917, 'depository': 8144, 'dormer': 9162, 'hoisting': 13973, 'unglazed': 29974, 'dee': 7894, 'contrivance': 6748, 'bordering': 3961, 'pled': 21411, 'nabbed': 18922, 'commemorated': 6114, 'lucrative': 17261, 'headway': 13636, 'priming': 22069, 'ilyinskoe': 14505, 'volovya': 30921, 'shrimps': 25645, 'postponement': 21737, 'planked': 21343, 'emigrated': 9922, 'touchstone': 28988, 'maun': 17842, 'cherlie': 5384, 'han': 13369, '_christ': 261, 'anna_': 1855, 'freshwater': 12056, 'shallops': 25373, 'ants': 1939, 'niefs': 19188, 'galeasse': 12278, 'swiftest': 27958, 'importation': 14653, 'restricted': 23843, 'wheedle': 31401, 'brogue': 4315, 'frying': 12149, 'wud': 31942, 'bister': 3569, 'fagid': 10868, 'pettifogging': 21027, 'eater': 9615, 'trashy': 29170, 'prussian': 22421, 'crinoline': 7276, 'meekness': 17954, 'elliott': 9834, 'dartford': 7691, 'refreshments': 23301, 'blurt': 3797, 'tempter': 28330, 'eavesdropper': 9623, 'signally': 25746, 'relevant': 23438, 'helen': 13747, 'pontius': 21615, 'pilate': 21174, 'worshipful': 31832, 'conciliating': 6362, 'wantonness': 31101, 'placard': 21300, 'interlaced': 15423, 'acquiesce': 1111, 'unfavourably': 29923, 'waggled': 31001, 'contortions': 6717, 'oughtn': 19972, 'delightedly': 8014, 'cowper': 7101, 'unintelligibly': 30029, 'cruelest': 7376, 'thoughtlessness': 28590, 'pieman': 21149, 'explorer': 10711, 'inhabiting': 15136, 'uncharitably': 29720, 'montaubon': 18566, 'obdurate': 19477, 'englischer': 10088, 'hof': 13965, 'apostolic': 1991, 'convalescent': 6767, 'lounge': 17197, 'midianites': 18157, 'floods': 11572, 'xv': 31957, 'householder': 14173, 'enjoys': 10119, 'archæology': 2154, 'thebes': 28473, 'excavated': 10507, 'exhumation': 10621, 'horus': 14129, 'philæ': 21079, 'curatorship': 7462, 'lectureship': 16651, 'enervate': 10061, '_se': 695, 'vero': 30699, 'ungentlemanly': 29972, 'ekerval': 9766, 'backerder': 2764, 'forarder': 11743, 'ceptin': 5133, 'daydreams': 7738, 'scud': 25004, 'puffs': 22466, 'ransoms': 22888, 'varlet': 30563, 'forage': 11741, 'largesse': 16476, 'withouten': 31712, 'towelling': 29011, 'transformations': 29122, 'constellations': 6623, 'unsleeping': 30268, 'fastest': 11019, 'proportional': 22306, 'luminary': 17291, 'totty': 28981, 'bassinet': 3023, 'corded': 6876, 'bale': 2829, 'looms': 17139, 'tests': 28426, 'hawkwood': 13591, 'outland': 20004, 'probing': 22133, 'legends': 16684, 'riverine': 24159, 'whitebeam': 31495, 'berries': 3390, 'dandified': 7639, 'reconducted': 23165, 'minstrel': 18265, 'commandingly': 6109, 'inestimable': 15021, 'extant': 10749, 'spangle': 26540, 'mentally': 18032, 'isles': 15695, 'engineered': 10083, 'humbugs': 14267, 'flopped': 11579, 'extorting': 10780, 'dandiest': 7638, 'scathed': 24824, 'overmastering': 20116, 'deepen': 7902, 'eloped': 9841, 'bonheur': 3911, 'arrivez': 2262, 'fagged': 10864, 'impeachment': 14589, 'patriarchal': 20570, 'encomiums': 9995, 'launches': 16533, 'patty': 20604, 'purses': 22571, 'minx': 18277, 'zz': 32101, 'chivalrously': 5475, 'alias': 1552, 'inspecting': 15284, 'weekly': 31311, 'wynd': 31949, 'freetrading': 12031, 'aping': 1971, '_good': 402, 'bye_': 4599, 'warningly': 31145, 'precursor': 21879, 'dotingly': 9182, 'wooed': 31778, 'consigning': 6587, 'staple': 26954, 'swoop': 27999, 'goshawks': 12821, 'hairs': 13311, '_feigned_': 366, 'redouble': 23229, 'prudential': 22417, 'suitably': 27618, 'munificence': 18814, 'adroit': 1273, 'lackeys': 16338, 'coherence': 5960, 'belfry': 3274, 'billiards': 3530, 'dissimilarity': 8909, 'counteraction': 7007, 'flinching': 11541, '_shall_': 705, 'winnings': 31656, 'exhibitor': 10612, 'misshapen': 18379, 'odinioned': 19648, 'rutland': 24468, 'taxing': 28238, 'obsequiousness': 19531, 'appendages': 2021, 'genteelly': 12472, 'angered': 1821, 'improbability': 14701, 'kazan': 16069, 'golgotha': 12775, '_already_': 179, '_seems_': 699, 'observes': 19544, 'watt': 31216, 'tosses': 28970, 'invincible': 15582, '17__': 48, 'simultaneously': 25826, 'saintliness': 24563, 'adherents': 1190, 'insatiable': 15233, 'decomposition': 7863, 'gagged': 12260, 'waiters': 31026, 'torments': 28948, 'submissiveness': 27508, '_marlborough': 517, 'quand': 22646, 'reviendra_': 23961, 'litaynaya': 16978, 'plagiarism': 21311, '_poseurs_': 633, 'fraternity': 12001, 'patronize': 20588, '_protégé_': 646, 'mackworth': 17386, 'normanton': 19321, 'ultimatum': 29603, 'censor': 5116, 'footpath': 11729, 'analogue': 1763, 'cartilage': 4953, 'fossil': 11922, 'gully': 13219, 'sever': 25319, 'faguey': 10871, 'clearings': 5735, 'loomed': 17137, 'prowl': 22408, 'padded': 20220, '_how_': 437, 'dough': 9203, 'soundeth': 26496, 'cousine_': 7066, 'truckle': 29369, 'mantling': 17632, 'dominion': 9126, 'sam': 24618, 'easebourne': 9595, 'rape': 22894, 'chichester': 5410, 'despatches': 8262, 'gerolstein': 12517, 'unquestionable': 30178, 'christianity': 5525, 'tatar': 28207, 'untruth': 30342, '_pardon': 614, '_quelque': 655, 'allemand': 1584, 'dans': 7653, 'physionomie': 21109, 'appelle': 2018, 'odinthal': 19669, 'whiten': 31498, 'historian': 13927, 'traffic': 29062, 'rochdale': 24202, '247': 96, 'decreasing': 7876, 'oscillation': 19937, 'cuse': 7520, 'arks': 2203, 'insuperable': 15353, 'smiting': 26179, 'affianced': 1348, 'sadovaya': 24531, 'deodin': 8109, 'forbes': 11751, 'lunching': 17306, 'alarmingly': 1512, 'slingers': 26067, '_scheme_': 694, 'semyonova': 25174, 'pressman': 21993, 'menage': 18017, 'feeder': 11128, 'porcus': 21655, 'grege': 13009, 'diaboli': 8406, 'ladle': 16352, 'dross': 9378, 'tsarsko': 29420, 'selski': 25162, 'beheaded': 3247, 'herbs': 13792, 'bestrewn': 3432, 'indubitable': 14982, 'hallooing': 13332, 'girlie': 12587, 'disowning': 8823, 'lowther': 17237, 'arcade': 2127, 'alighting': 1565, 'chewed': 5406, 'orthodoxy': 19931, '_ma': 510, 'carrière': 4937, 'finie': 11357, '_que': 652, 'dira': 8562, 'elle_': 9830, 'enamelled': 9979, 'contorting': 6715, 'spasms': 26571, 'topsy': 28935, 'turvy': 29502, 'fishily': 11402, 'bloodshed': 3740, 'iniquitous': 15157, 'inheriting': 15146, 'worships': 31837, '_shoes_': 709, 'tiptoes': 28807, 'tenement': 28355, 'barn': 2954, 'disproportionately': 8868, 'obtuse': 19566, 'mown': 18753, 'scythe': 25022, 'premonition': 21934, 'candidate': 4749, 'mace': 17376, 'becher': 3137, 'berkshire': 3381, 'contradicts': 6731, 'pestryakov': 21003, 'silversmith': 25795, 'compatible': 6215, 'outwardly': 20050, 'renounces': 23560, 'incarceration': 14780, 'ablutions': 902, 'applications': 2043, 'inserted': 15249, 'inquires': 15214, 'cubic': 7411, 'measurements': 17907, 'unaccounted': 29626, 'borings': 3970, 'lath': 16509, 'rafters': 22801, 'computes': 6317, 'sterling': 27105, 'milking': 18199, 'fairmer': 10896, 'arnold': 2231, 'pelligny': 20729, 'walcot': 31046, 'forehand': 11790, 'magdalen': 17423, 'distresses': 8962, '_own_': 601, '_promised_': 643, 'chalks': 5186, 'reproduced': 23661, 'disbelieving': 8627, 'he_': 13614, 'unbelieving': 29675, 'redden': 23213, 'dilapidations': 8498, 'recumbant': 23203, '_pro': 641, 'rata_': 22926, 'bleeds': 3678, 'emissary': 9931, 'gibes': 12545, 'miscellany': 18314, 'quadrant': 22624, 'canikin': 4762, 'compasses': 6210, 'revolved': 23992, 'replenished': 23614, 'resentfully': 23732, 'tubercles': 29426, 'enlivened': 10127, 'freaks': 12014, 'affrighted': 1370, 'fatuous': 11052, 'acceded': 983, '_say': 689, 'tell_': 28301, 'emulation': 9972, 'scullery': 25009, 'sike': 25766, 'saunter': 24726, 'protests': 22367, 'princeling': 22074, 'pockmarked': 21490, 'rabble': 22765, 'pestered': 20996, 'lint': 16941, 'lotion': 17185, 'goulard': 12835, 'surmount': 27807, 'indefensible': 14909, 'obermünsterol': 19482, 'journalistic': 15942, 'scepticism': 24841, 'elicit': 9813, 'headline': 13628, 'abstruse': 959, 'unbuttoned': 29701, 'instigation': 15315, 'liars': 16791, 'counterbodince': 7009, 'screw': 24968, 'packman': 20218, 'ware': 31120, 'sabra': 24493, 'menaces': 18014, 'assemblies': 2365, 'preferment': 21910, '_come_': 267, '_now': 577, 'farden': 10972, 'locksmiths': 17065, 'courtyards': 7063, 'keepers': 16079, 'proprietorship': 22330, 'sunshiny': 27693, 'loneliness': 17110, 'morsels': 18650, 'stimulative': 27154, 'subscriber': 27516, '_in': 447, 'propria': 22326, 'persona_': 20933, 'renter': 23567, 'chuser': 5563, 'plagued': 21313, 'portrayed': 21696, 'waterline': 31203, '80': 146, 'cranium': 7158, 'dour': 9206, 'aberdonian': 880, 'inconsiderate': 14852, '_aimais_': 171, 'cognisance': 5957, 'ayrshires': 2727, 'asthma': 2429, 'enhancing': 10106, 'roche': 24203, 'errien': 10316, 'auray': 2585, 'lence': 16708, 'span': 26539, 'gilding': 12566, 'barley': 2951, 'vibrated': 30737, 'truculent': 29372, 'ogre': 19722, 'wrongfully': 31933, 'stimulate': 27149, 'calmed': 4698, 'deplore': 8129, '_such_': 729, 'impressibility': 14688, 'dipper': 8559, 'bucket': 4396, 'persuasive': 20961, 'canvassed': 4796, 'detaching': 8308, 'dupes': 9489, '_avec': 206, 'morgue_': 18633, 'banish': 2889, 'trappings': 29167, 'ambled': 1691, 'ringwood': 24117, 'overnight': 20119, 'potations': 21746, 'grig': 13036, 'farintosh': 10982, 'opal': 19797, 'defray': 7961, 'switched': 27989, 'hapless': 13421, 'traverse': 29182, 'blasphemy': 3653, 'diligently': 8507, 'macbeth': 17373, 'suet': 27577, 'injurious': 15174, 'waylays': 31243, 'chodinges': 5485, 'pacified': 20208, 'pergola': 20856, 'pellucid': 20730, 'filtered': 11324, 'iceberg': 14396, 'leafy': 16596, 'tameness': 28133, 'fuzzy': 12239, 'monkeys': 18535, 'cayman': 5084, 'tapir': 28164, 'lumbered': 17287, 'sinuous': 25864, 'puma': 22493, 'baleful': 2830, 'tawny': 28233, 'ibis': 14394, 'jutted': 16034, 'mea': 17874, 'culpa': 7432, 'festivity': 11218, 'celebrate': 5099, 'intimated': 15484, 'acknowledgements': 1098, 'reconstructed': 23174, 'beget': 3208, 'divides': 9011, 'arson': 2271, 'earthenware': 9588, 'veroner': 30700, 'monoplane': 18546, 'beaumont': 3121, 'cylinder': 7556, 'rotary': 24291, 'robur': 24199, 'fuselage': 12225, 'skids': 25922, 'gyroscopic': 13265, 'steadiers': 27028, 'speeds': 26629, 'planes': 21338, 'mechanic': 17913, 'arctic': 2155, 'jerseys': 15839, 'overalls': 20060, 'goggles': 12761, 'hangars': 13402, 'himalayas': 13895, 'oxygen': 20198, 'altitude': 1660, 'startles': 26979, 'superscripture': 27727, 'deter': 8321, 'misconduct': 18323, 'cautiousness': 5067, 'operated': 19810, 'forwarding': 11918, 'mildness': 18189, 'esteeming': 10376, 'gower': 12852, 'renumbered': 23570, 'metropolitan': 18127, 'murchison': 18819, 'dwindling': 9540, 'zoology': 32097, 'drudge': 9392, 'exonerate': 10635, 'lurcher': 17312, 'trestle': 29248, 'vellum': 30621, 'scribbling': 24974, 'erasures': 10295, 'marplot': 17700, 'chuckles': 5545, 'invoke': 15596, 'roughshod': 24313, 'commoners': 6163, 'fernworthy': 11195, 'elth': 9848, 'sitch': 25882, 'clacking': 5636, 'skoptsi': 25956, 'stager': 26881, 'leaflets': 16595, 'welshmen': 31345, 'disaffection': 8590, 'partaking': 20454, 'strummed': 27412, 'filth': 11325, 'blossoms': 3753, 'kock': 16267, 'darlings': 7682, 'bragged': 4087, 'proscribed': 22334, 'yorkists': 32042, 'unwearyingly': 30356, 'amuses': 1758, 'freshened': 12050, 'moodinly': 18588, 'physiognomist': 21106, 'kramskoy': 16283, 'kaftan': 16039, 'midwives': 18168, 'immoderate': 14554, 'nil': 19221, 'pavlitch': 20624, 'progressively': 22225, '_does_': 317, 'stubbornness': 27421, 'paradoxical': 20362, 'brindled': 4270, 'mephistophelian': 18043, 'sliced': 26049, 'chopped': 5504, 'blower': 3764, 'boaster': 3821, 'falstaff': 10929, 'teems': 28282, 'jobbed': 15886, 'nominate': 19288, 'unneedfully': 30117, 'tightness': 28739, 'conceivably': 6337, 'scourge': 24924, 'debasement': 7785, 'dignifies': 8484, 'saturdays': 24714, 'tfoo': 28438, 'cesspools': 5154, 'cesspool': 5153, 'tiree': 28811, 'trumpeter': 29387, 'wat': 31177, 'swathling': 27913, 'wiry': 31673, 'taunts': 28225, 'friendliest': 12072, 'hobbled': 13956, 'rallied': 22847, 'gloved': 12706, 'incense': 14788, 'abnegation': 904, 'interpreted': 15452, 'capitally': 4816, 'favourably': 11069, 'astonishingly': 2436, 'justness': 16033, 'discerning': 8636, 'fraternal': 11999, 'aflame': 1379, 'tinkle': 28789, 'hopped': 14090, 'sterner': 27108, 'prowling': 22410, 'scurry': 25015, 'whaling': 31388, 'battering': 3046, 'swang': 27902, 'excused': 10572, 'disconnectedly': 8667, 'confuse': 6489, '_bourru': 230, 'bienfaisant_': 3508, 'pathetically': 20558, 'barefooted': 2933, 'smock': 26181, 'crusted': 7399, 'shavings': 25431, 'blazonry': 3666, 'priodin': 22095, 'infallible': 15041, 'revenges': 23930, 'genially': 12457, 'wistfully': 31694, 'forepaw': 11800, 'evelyn': 10431, 'greenhouse': 12999, 'filthiest': 11326, 'impregnated': 14684, 'shorts': 25590, 'coated': 5898, 'suppositions': 27767, 'peculiarities': 20686, 'anarchical': 1773, 'thinker': 28536, 'smattering': 26152, 'theoretically': 28493, 'purge': 22543, 'malaya': 17508, 'vishera': 30854, 'amethyst': 1713, 'brilliance': 4259, 'vii': 30781, 'excrescence': 10566, 'diffusing': 8471, 'corroborate': 6936, 'choker': 5492, 'angular': 1837, 'maniac': 17585, 'bluffs': 3780, 'toiled': 28858, 'flopping': 11580, 'backwardness': 2772, 'tithes': 28820, 'blockhead': 3726, 'livings': 17018, 'negligence': 19087, 'faith_': 10904, 'crucible': 7369, 'unmanning': 30092, 'tasks': 28196, 'amities': 1730, 'rigmarole': 24093, 'threateningly': 28619, 'shh': 25488, 'radish': 22791, 'smartened': 26142, 'disadvantages': 8589, 'egoistic': 9740, 'grannie': 12912, 'manageress': 17563, 'nonchodintly': 19294, 'unrecognized': 30199, 'grander': 12896, 'razed': 22972, 'ignited': 14447, 'domineered': 9120, 'tolerance': 28870, 'devise': 8370, 'degradations': 7969, 'uninhabited': 30026, 'ransacked': 22884, 'synthetic': 28047, 'mongolian': 18528, 'mitka': 18427, 'slavishly': 26016, 'youthfulness': 32055, 'wickedly': 31534, 'portmanteaux': 21692, 'donation': 9132, 'naively': 18935, 'perjury': 20874, 'stowed': 27266, 'somehows': 26417, 'nonesuch_': 19298, 'salted': 24598, 'bedfellows': 3157, 'jeweler': 15857, 'simpered': 25807, 'risings': 24144, 'stony': 27218, 'sparred': 26563, 'jumpy': 16000, 'dawdled': 7724, 'meaningly': 17892, 'stocked': 27191, 'mainsail': 17471, 'foresail': 11804, 'dipping': 8560, 'becalmed': 3135, 'snugly': 26295, 'uncorked': 29767, 'scrutinizing': 25002, 'accommodate': 1017, 'weightier': 31325, 'flees': 11514, 'satanic': 24695, 'seizes': 25142, 'lumped': 17296, 'creased': 7191, 'parvenu': 20496, 'follower': 11681, 'profligate': 22206, 'potanchikov': 21745, 'interrogations': 15459, 'strollers': 27393, 'jugglers': 15984, 'earls': 9571, 'fighters': 11290, 'emigrate': 9921, 'dresden': 9314, 'epidemic': 10254, 'thirdly': 28548, 'dooce': 9142, 'candlesticks': 4756, 'burthen': 4533, 'overflowing': 20091, 'fathomless': 11040, 'milky': 18202, 'enfolded': 10068, 'domes': 9107, 'misjudged': 18362, 'contemned': 6666, 'reprieved': 23645, 'distinctness': 8940, 'iota': 15614, 'typewritten': 29572, 'reciprocating': 23105, 'ember': 9884, 'sonnets': 26432, 'portray': 21695, 'calumny': 4705, 'inheritor': 15147, 'wagenheims': 30994, 'contumacious': 6761, 'jeers': 15815, 'voluptuousness': 30935, 'lacerating': 16327, 'harassing': 13437, 'trills': 29290, 'maligodin': 17531, 'recognitions': 23136, 'disgraces': 8743, 'voluptuous': 30934, 'superintendence': 27711, 'wardrobe': 31116, 'cuirasses': 7426, 'differing': 8459, 'intrusive': 15527, 'aulnais': 2580, 'counters': 7016, 'dingier': 8534, 'necessitated': 19046, 'misspent': 18390, 'blink': 3706, 'particles': 20470, 'anywise': 1953, 'infused': 15114, 'complicates': 6265, 'unseasonableness': 30242, 'egotistical': 9744, '_commonplace_': 270, 'indolent': 14977, 'denials': 8079, 'manaos': 17566, '15th': 27, 'kilderkin': 16133, 'dirks': 8578, 'cantered': 4788, 'braid': 4090, 'careering': 4874, '_eloignez': 333, 'puis': 22471, 'ça': 32106, 'embête': 9910, 'perspiring': 20951, 'chafe': 5164, 'assiduous': 2389, 'lulled': 17285, 'gurgle': 13237, 'patrols': 20580, 'prevision': 22042, 'methodically': 18120, 'weirs': 31331, 'emerging': 9919, 'kratides': 16284, '2473': 97, 'dailies': 7589, 'employs': 9962, 'singed': 25839, 'accidently': 1009, 'overflowed': 20090, 'malignity': 17530, 'excesses': 10533, 'glorying': 12701, 'lamplit': 16405, 'gloating': 12682, 'headedly': 13618, 'looming': 17138, 'depreciate': 8154, 'confectionery': 6426, 'crossbowman': 7334, 'ambodin': 1692, 'scathe': 24823, 'heft': 13729, 'shoon': 25560, 'monkhood': 18537, 'crosstarrie': 7346, 'himsel': 13896, 'partings': 20478, 'welded': 31338, 'whitesmith': 31504, 'coppersmith': 6858, 'diwisions': 9027, 'beknown': 3264, 'anvil': 1941, 'unbusinesslike': 29700, 'san': 24630, 'odinco': 19626, 'suppresses': 27772, 'harringtons': 13495, 'chamberlayne': 5192, 'pratt': 21826, 'daur': 7716, 'injections': 15166, 'hielands': 13861, 'cantyre': 4793, 'tenty': 28372, 'birling': 3551, 'oppressing': 19837, 'carr': 4928, 'castor': 5003, 'cracksman': 7132, 'interposition': 15449, '_compliments_': 274, 'macnamara': 17389, 'irishwoman': 15631, 'offensiveness': 19693, 'unsquared': 30285, '1000': 3, '129': 13, 'unmodernized': 30109, 'vine': 30813, 'casements': 4969, 'prettiness': 22025, 'pug': 22468, 'manuscripts': 17641, 'colliery': 6023, 'southwark': 26520, 'descreeptive': 8205, 'camels': 4722, 'penetrates': 20753, 'goguelat': 12763, 'bandit': 2877, 'pro': 22125, 'contra': 6718, 'ravished': 22962, 'lodes': 17067, 'breezes': 4192, 'changeable': 5216, 'succor': 27563, 'avenges': 2642, 'unrest': 30219, 'mayest': 17861, 'retrospectively': 23904, 'idling': 14431, 'moppet': 18612, 'emphasized': 9948, 'flings': 11544, 'multiplication': 18788, 'overcomes': 20076, 'dooced': 9143, 'eventide': 10438, 'puritanical': 22548, 'gnaws': 12724, 'dilapidated': 8496, 'stitched': 27183, 'exhibits': 10613, 'streightens': 27337, 'pulverised': 22490, 'exposes': 10724, 'bake': 2817, 'residing': 23752, 'avocation': 2663, 'remunerative': 23542, 'embarrassments': 9876, 'renders': 23548, 'infantine': 15049, 'repel': 23596, 'seethed': 25133, 'spokesmen': 26731, 'populations': 21646, 'kryloff': 16289, 'gaitered': 12274, 'demi': 8050, 'mondaine': 18520, 'diogenes': 8552, 'ramping': 22863, 'unicorn': 30011, 'unfavorable': 29921, 'immaculate': 14537, 'unperturbed': 30143, 'madeleine': 17404, 'aubray': 2552, 'poisoners': 21532, 'assorted': 2410, 'speculative': 26618, '_outré_': 600, 'soundest': 26495, 'impaled': 14576, '_elle': 332, 'soupçonnera': 26503, 'toute': 29005, 'worshipped': 31833, 'faker': 10911, 'dietary': 8448, 'hasp': 13522, 'undisputed': 29858, 'obediently': 19480, 'imperfection': 14604, 'wha': 31385, 'asmear': 2337, 'bulging': 4441, 'bystander': 4609, 'deaden': 7748, 'vehicles': 30612, 'repartees': 23583, 'evade': 10413, 'effrontery': 9726, 'revel': 23918, 'philology': 21072, 'engrossing': 10101, 'cornwall': 6903, 'exerting': 10597, 'discompose': 8660, 'absurdities': 962, 'refurbished': 23305, 'compilation': 6234, 'reining': 23385, 'unslinging': 30270, 'reinforce': 23380, 'generalised': 12442, 'stillborn': 27140, 'begotten': 3228, 'buttonless': 4579, 'explosives': 10716, 'tureen': 29472, 'complimenting': 6274, 'dupin': 9490, 'showy': 25625, 'poe': 21503, 'diversified': 8999, 'suburbs': 27549, 'capturing': 4847, 'lugubriously': 17273, 'lockfast': 17061, 'bulkheads': 4444, 'beaded': 3080, 'clinked': 5795, 'gutted': 13251, 'pipelights': 21238, 'umber': 29608, 'lurker': 17322, 'eliciting': 9815, 'perceptibly': 20810, 'ardently': 2159, 'caldron': 4678, 'hawthorn': 13594, 'shoving': 25614, 'ragout': 22809, 'bedevilled': 3156, 'unskilful': 30265, 'ingredients': 15130, 'yelling': 32004, 'trilled': 29289, 'unwhitewashed': 30361, 'smutty': 26212, 'witticism': 31724, 'overstayed': 20149, 'finis': 11358, 'croaking': 7301, 'caballeros': 4621, 'marketplace': 17685, 'scapegraces': 24800, 'pince': 21206, 'nez': 19166, 'errands': 10310, 'deckers': 7847, 'graved': 12950, 'perches': 20818, 'ignores': 14459, 'barrelled': 2972, 'prophesying': 22298, 'supposes': 27764, 'makarov': 17490, '_recherché_': 665, 'mischievously': 18319, 'construed': 6641, 'clayey': 5717, 'oozing': 19796, 'fens': 11182, 'islets': 15697, 'meenit': 17956, 'tryin': 29413, 'ceevil': 5095, 'disrepitable': 8889, 'blunderbush': 3784, 'chemise': 5372, 'cashmere': 4975, 'thinness': 28544, 'effigy': 9723, '_v_': 787, 'regina': 23340, 'maned': 17573, 'extremites': 10800, 'touchent': 28984, 'beltful': 3318, 'tryst': 29415, 'inexpressive': 15038, '_existe': 357, 'elle': 9829, 'russie': 24451, 'capitaine': 4812, 'brigands': 4246, '_oh': 589, 'ingenuousness': 15121, 'contention': 6689, 'enchanting': 9986, 'amanuensis': 1670, 'swimmingly': 27966, 'labyrinths': 16322, 'silliness': 25786, 'astrand': 2445, 'crookedly': 7322, '_most_': 550, 'dorserets': 9166, 'fondle': 11694, 'prim': 22064, 'demeanor': 8044, 'pippin': 21245, 'charette': 5263, 'tristram': 29308, 'raids': 22812, 'outfalls': 19994, 'brabanters': 4066, 'flayers': 11499, 'corpses': 6915, 'doers': 9063, 'economically': 9655, 'tardy': 28173, 'legacies': 16674, 'abune': 969, 'hangin': 13407, 'yett': 32025, 'kirkyaird': 16180, 'ba': 2732, 'papists': 20347, 'howff': 14198, 'bieldy': 3504, 'fower': 11955, 'seeven': 25135, 'corbie': 6874, 'craws': 7178, 'fleein': 11512, 'laigh': 16371, 'squawked': 26841, 'ither': 15723, 'ordinar': 19877, 'fleyed': 11527, 'wa': 30976, 'suld': 27626, 'goad': 12725, 'unwrought': 30379, 'acheres': 1083, 'spectrum': 26613, 'merge': 18067, 'threes': 28624, 'fives': 11424, 'nines': 19228, 'norman': 19318, 'caper': 4808, 'snails': 26215, 'barkings': 2950, 'intermittently': 15439, 'lustily': 17329, 'habraham': 13279, 'latharuth': 16510, 'thuthpithion': 28687, 'stipulated': 27168, 'graphology': 12916, 'gipsy': 12580, '_told_': 768, 'undesignedly': 29843, 'preconcerted': 21878, 'truthfulness': 29410, 'illinois': 14483, 'missouri': 18389, 'trapdoor': 29164, 'pining': 21220, 'disagreeableness': 8593, 'spasov': 26572, 'hopefully': 14081, 'plough': 21446, 'twos': 29562, 'disingenuous': 8776, 'relieves': 23451, 'coining': 5980, 'hieroglyphic': 13863, 'nots': 19381, '_salon_': 685, 'variance': 30555, 'whiskey': 31479, 'oaklike': 19462, 'knolls': 16241, 'reedy': 23248, 'fen': 11171, 'swabbed': 27879, 'spanned': 26546, 'wivern': 31730, 'crested': 7237, 'emblazoned': 9888, 'palfrey': 20274, 'pilling': 21192, 'clerkinwell': 5761, 'awry': 2715, 'handling': 13391, 'tremblings': 29227, 'tautology': 28228, 'envyings': 10244, 'heartburnings': 13664, 'glories': 12693, 'whizzing': 31513, 'appurtenances': 2093, 'appointing': 2050, 'obdorsk': 19475, 'sylvester': 28017, 'roguery': 24224, 'forestalling': 11817, 'laps': 16463, 'designated': 8230, 'japanning': 15785, 'signifieth': 25760, 'snuggling': 26294, 'sucks': 27572, 'blames': 3631, 'kostia': 16277, 'appreciation': 2060, 'inarticulately': 14764, 'dreamer': 9298, 'moderately': 18463, 'mysticism': 18905, 'realist': 23006, 'realists': 23008, 'unbeliever': 29673, 'disbelieve': 8625, 'stumping': 27450, 'retaken': 23865, 'indecency': 14901, 'odiner': 19629, 'accusatory': 1065, 'wend': 31351, 'suffereth': 27584, 'crieth': 7258, 'successively': 27560, 'taxed': 28235, 'prophesy': 22297, 'yawns': 31987, 'tins': 28793, 'yelp': 32010, 'cringed': 7271, '_d_': 292, '_l_': 478, '_e_': 325, 'differentiate': 8457, 'illegibly': 14477, 'vacillation': 30488, '_k_': 468, 'capitals': 4817, 'winwood': 31663, 'reade': 22987, 'espalier': 10342, 'chunk': 5551, 'forgetfulness': 11844, 'unattended': 29659, 'thereon': 28504, 'janitor': 15779, 'sweeper': 27926, 'poisions': 21528, '25': 99, 'alkaloid': 1571, 'extracted': 10784, 'dispenser': 8839, 'radiantly': 22787, 'overtaking': 20158, 'aggravated': 1413, 'cranky': 7159, 'mumbly': 18800, 'wittily': 31727, 'hindrances': 13903, 'lief': 16828, 'ups': 30412, 'negotiate': 19090, 'lincoln': 16915, 'encountering': 10002, 'costermonger': 6965, 'pickodins': 21130, 'edmonton': 9691, 'fanning': 10964, 'sketching': 25919, 'implacability': 14628, 'mustered': 18873, 'inlet': 15185, 'dilapidation': 8497, 'webs': 31295, 'seaweed': 25063, 'foisting': 11665, 'stenka': 27088, 'razin': 22973, 'unbound': 29690, 'certificates': 5148, 'shaker': 25366, 'dishonoring': 8765, 'rook': 24266, 'carnaway': 4905, 'lobsters': 17049, 'crab': 7117, 'carew': 4889, 'sceptic': 24838, 'springless': 26786, 'putty': 22603, 'cowering': 7098, 'syd': 28011, 'yawed': 31981, 'musically': 18855, 'shay': 25436, 'unblemished': 29684, 'jupon': 16011, 'undershirt': 29812, 'sleeveless': 26039, 'poise': 21525, 'decorously': 7870, 'reconsidered': 23171, 'reargued': 23033, 'assort': 2409, 'fabulous': 10832, 'temporized': 28324, 'pitching': 21279, 'vingt': 30819, 'ans': 1888, 'fluted': 11632, 'withdraws': 31704, 'balustrades': 2855, 'gazelle': 12422, 'eats': 9620, 'weeps': 31317, 'piteously': 21282, 'embraces': 9899, 'pinions': 21222, 'thirstily': 28554, 'aftermost': 1390, 'brew': 4200, 'coercion': 5941, 'wrappings': 31869, 'gallipot': 12293, 'overloaded': 20108, 'lipping': 16948, 'unconvincing': 29766, 'trebling': 29214, 'legacied': 16673, 'fertile': 11207, 'crusts': 7400, 'fondled': 11695, 'villein': 30800, 'coy': 7111, 'revision': 23972, 'sorcerers': 26456, 'pagans': 20234, 'vivacious': 30881, 'unmanly': 30089, 'unsailorly': 30232, 'disproved': 8869, 'nuptials': 19442, 'hodges': 13963, 'bracelets': 4070, 'coral': 6871, 'burrowing': 4529, 'straightening': 27278, 'collects': 6017, 'turnings': 29487, 'rooke': 24267, 'romancing': 24247, 'ruse': 24442, 'bradstreet': 4081, 'hog': 13968, 'hawker': 13587, 'tradesmen': 29054, 'malhonnête': 17520, 'crois': 7311, 'forçat': 11920, 'evadé': 10416, 'quelque': 22689, 'genre': 12467, 'untenanted': 30316, 'porches': 21652, 'enacted': 9978, 'healingly': 13642, 'wrench': 31884, 'doddering': 9055, 'inherent': 15141, 'humbles': 14261, '_continued_': 280, 'tearfully': 28261, 'naïvely': 19024, 'myself_': 18898, 'leniently': 16719, 'aimlessly': 1482, 'tacitly': 28070, 'leave_': 16633, 'gladstone': 12617, 'fawn': 11077, 'toque': 28936, 'pellet': 20727, 'biretta': 3550, 'tills': 28751, 'pastures': 20541, 'isard': 15689, 'flotsam': 11589, 'breakwater': 4165, 'bruik': 4360, 'hangers': 13406, 'outsiders': 20038, 'lures': 17318, 'licences': 16814, 'proodin': 22278, 'kidnappers': 16125, 'inveiglers': 15550, 'avenues': 2645, 'touting': 29006, 'collisions': 6025, 'inveigler': 15549, 'brokery': 4324, 'din': 8526, 'al': 1504, 'bothered': 3991, 'solicit': 26382, 'chronicle_': 5533, 'honeydew': 14035, 'annals': 1856, 'cusack': 7519, 'waddled': 30981, 'unremitting': 30209, 'ryder': 24473, 'deposes': 8137, 'pon': 21601, 'somerton': 26420, 'lonesome': 17112, 'uns': 30229, 'manillas': 17597, 'roulette': 24314, 'losers': 17175, 'stakes': 26907, 'ascendancy': 2304, 'professes': 22183, 'oho': 19726, 'hereford': 13800, 'vladimir': 30891, 'assentingly': 2372, 'eddying': 9670, 'stilled': 27141, 'waistcoats': 31020, 'maître_': 17870, 'iv_': 15726, 'brimming': 4268, 'causeless': 5055, 'hatreds': 13553, 'sickliness': 25711, 'worthingdon': 31843, 'tobin': 28842, 'caretaker': 4888, '1875': 68, 'sutton': 27874, 'misanthropy': 18300, 'unsociable': 30273, 'unclubable': 29739, 'retrace': 23884, 'pursuer': 22577, 'alea': 1536, 'patently': 20550, 'spiritless': 26688, 'betideth': 3442, 'vindictively': 30811, 'visitations': 30863, 'wagers': 30996, 'applies': 2045, 'vilely': 30784, 'tyndal': 29568, 'amaze': 1677, 'preamble': 21843, 'forfend': 11834, 'lauded': 16519, 'repudiated': 23680, 'mermaids': 18077, 'sharks': 25409, 'superlatives': 27720, 'softens': 26342, 'overdriven': 20085, 'mends': 18025, 'washes': 31164, 'veneer': 30630, 'ingredient': 15129, 'shorewards': 25576, 'linn': 16938, 'mart': 17726, 'stourbridge': 27256, 'yare': 31973, 'yelverton': 32013, 'damask': 7610, 'revisiting': 23974, 'caressed': 4884, 'jerkily': 15831, 'maitre': 17481, 'scoffing': 24890, 'prancing': 21820, 'raiment': 22824, 'inflaming': 15079, '22': 89, '1860': 61, 'ugliest': 29594, 'wearying': 31283, 'blight': 3694, 'rampacious': 22858, 'perversely': 20984, 'februar': 11114, 'sook': 26439, 'jaloose': 15768, 'stey': 27121, 'aff': 1330, 'perishin': 20870, 'snaw': 26233, 'emp': 9940, 'prood': 22277, 'riddling': 24051, 'sphynx': 26652, 'guides': 13192, 'heretical': 13804, 'redoubted': 23233, 'hourly': 14167, 'andrews': 1806, 'sarr': 24688, 'naples': 18958, 'reconsider': 23170, 'basil': 3010, 'morley': 18636, 'alleviated': 1587, 'disembodied': 8724, '_ganz_': 391, 'impartially': 14581, 'decides': 7836, 'almagest': 1616, 'astrolabe': 2448, 'epicycles': 10253, 'befingered': 3194, 'wayward': 31248, 'capabilities': 4800, 'asset': 2382, 'financiers': 11337, 'instigators': 15317, 'frugally': 12137, 'invoked': 15597, 'oriel': 19899, 'ironed': 15637, 'constitutionally': 6630, 'colleagues': 6007, 'phenomenal': 21056, 'heedlessness': 13721, 'sharpen': 25413, '7_s_': 144, '6_d_': 138, 'ripen': 24127, 'scragged': 24937, 'atop': 2486, 'shooter': 25562, 'nationalism': 18993, 'swamped': 27896, 'impulsion': 14730, 'baffling': 2794, 'gales': 12280, '_promise_': 642, 'persuasions': 20960, 'meanest': 17888, 'aptly': 2105, 'redoubtable': 23232, 'sagaciously': 24544, 'tweeds': 29522, 'gentler': 12483, 'resonant': 23777, 'abear': 875, 'matryona': 17819, 'imbroglios': 14527, 'unmanned': 30090, 'hector': 13710, 'maclean': 17388, 'admonition': 1249, 'avoids': 2672, 'specks': 26603, 'wanderers': 31085, 'buzzards': 4592, 'vultures': 30973, 'quieting': 22725, 'ridiculously': 24066, 'balderdash': 2827, 'volubly': 30925, 'loneliest': 17109, 'foolhardy': 11708, 'desperadoes': 8264, 'genteelest': 12471, 'pokey': 21542, 'grudging': 13140, 'conqueror': 6547, 'tosseth': 28971, 'changeth': 5225, 'shuttle': 25685, 'infidelity': 15070, 'cassiopeia': 4984, 'overrated': 20128, 'hinds': 13904, 'immure': 14568, 'perrers': 20908, 'alow': 1633, 'disputatious': 8873, 'dislocated': 8792, 'minch': 18230, 'wrestled': 31890, 'beautified': 3124, 'dews': 8399, 'blocks': 3729, 'backstay': 2770, 'un_': 29617, '_letter': 494, '_afterwards': 168, 'chevalier_': 5404, 'troyes': 29364, '_july_': 466, 'kravchenko': 16285, 'trifonov': 29287, 'driveling': 9347, 'undeceiving': 29780, 'combing': 6071, 'discoursed': 8688, 'muzzled': 18892, 'swooning': 27997, 'parapet': 20376, 'inflated': 15083, 'thaw': 28462, 'cheerfullest': 5356, 'kobelev': 16265, 'alexandr': 1543, 'grigorievitch': 13037, 'presumptive': 22004, 'grandson': 12908, 'magician': 17427, 'brained': 4094, 'sedatives': 25101, 'territorial': 28405, 'peshawur': 20990, 'kaffiristan': 16038, 'bastard': 3024, 'pushtoo': 22593, 'sarcomatous': 24683, 'metacarpal': 18102, 'wording': 31791, '_too_': 771, 'snared': 26224, 'authorising': 2606, 'swinishness': 27977, 'cela': 5098, 'cochonnerie_': 5913, 'obtrusiveness': 19565, 'unperplexed': 30141, 'mortifications': 18663, 'slighting': 26059, 'wert': 31360, 'arrant': 2247, 'asses': 2379, 'pestiferous': 20998, 'malaria': 17505, 'rudiments': 24377, 'parrot': 20441, 'sisterhood': 25877, 'smarter': 26143, 'showering': 25618, 'disbelieved': 8626, 'geniuses': 12461, 'prodigality': 22162, 'ringlets': 24115, 'chronic': 5530, 'plumpness': 21470, 'satyr': 24716, 'droop': 9366, 'twere': 29529, 'woo': 31764, 'lambrequin': 16386, '_internationale': 455, 'quicksands': 22717, 'fiercer': 11278, 'organization': 19891, 'extinction': 10770, 'triphammer': 29304, 'sciences': 24878, 'folio': 11672, 'attainments': 2506, 'cheapness': 5335, 'nurseryman': 19447, 'stockdove': 27190, 'bartizan': 2991, 'segment': 25136, 'rumbling': 24412, 'pristine': 22105, 'oblong': 19516, 'flanked': 11457, 'bastion': 3027, 'projections': 22237, 'loopholed': 17144, 'musketry': 18862, 'garrisoned': 12371, 'arc': 2125, 'unrobed': 30223, 'allied': 1593, 'enters': 10174, 'volunteers': 30932, 'odinley': 19653, 'glades': 12613, 'fareham': 10976, 'botley': 3993, 'squireship': 26859, 'waltz': 31076, 'paining': 20248, 'humbling': 14263, 'perusal': 20975, 'britisher': 4294, 'burnwell': 4527, 'greens': 13001, 'overburdened': 20068, 'woolly': 31783, 'wisps': 31690, 'blues': 3778, 'dimpling': 8525, 'coves': 7084, 'cascades': 4966, 'daisies': 7597, 'overpast': 20121, '1772': 46, 'tediousness': 28277, 'duping': 9491, 'muddle': 18763, 'belauded': 3268, 'commune': 6174, 'abstain': 950, 'lvovitch': 17345, 'semitone': 25171, 'gradation': 12869, 'paints': 20257, 'monkford': 18536, 'unemotional': 29887, 'insides': 15253, 'wisitors': 31688, 'jails': 15767, 'howsomever': 14207, 'wen': 31348, 'chum': 5549, 'compressions': 6303, 'dints': 8550, 'horizontal': 14097, 'captains': 4834, 'cossington': 6961, 'gourney': 12838, 'huet': 14223, 'banaster': 2862, 'fourrier': 11946, 'yeoman': 32014, 'pricker': 22051, 'laggards': 16366, 'venery': 30636, 'hyke': 14375, 'bayard': 3066, 'pomers': 21592, 'lebryt': 16641, 'mountebanks': 18717, 'tumblers': 29451, 'effervescence': 9715, 'caroused': 4920, 'poins': 21515, 'reverts': 23960, 'froth': 12125, 'goyal': 12856, 'innermost': 15192, 'faddy': 10858, 'repressing': 23643, 'chucklehead': 5544, 'smyrna': 26213, 'excellente': 10523, 'reporter': 23623, 'outrages': 20029, 'foraging': 11742, 'pickled': 21127, 'raisins': 22836, 'perplex': 20902, 'accomplices': 1030, 'eyebrow': 10815, 'abbé': 871, 'pirot': 21261, 'advisedly': 1311, 'iguanodon': 14462, 'loped': 17157, 'dimmed': 8520, 'mourn': 18722, 'energetically': 10058, 'actuality': 1148, 'vividness': 30887, 'artistically': 2299, 'turgenev': 29474, 'maximushka': 17858, 'bunk': 4483, 'appiness': 2029, 'empowered': 9964, 'whomsoever': 31522, 'encumber': 10016, 'wince': 31613, 'debonair': 7799, 'falser': 10926, 'eropegoff': 10306, 'spoonful': 26743, 'spoonfuls': 26744, 'moloftsoff': 18505, 'piper': 21239, 'windle': 31629, 'styled': 27473, 'aps': 2101, 'funereal': 12189, 'sawpit': 24756, 'sable': 24491, 'implying': 14647, 'available': 2628, 'colonnade': 6038, 'smithy': 26178, 'renouncement': 23559, 'participate': 20463, 'thirds': 28549, 'jewelry': 15862, 'behindhand': 3250, 'prompter': 22264, 'avoidance': 2669, 'complainer': 6241, 'ibbotsons': 14393, 'calendars': 4680, 'snappishly': 26222, 'portionless': 21687, 'sordidly': 26459, 'clog': 5811, 'masterly': 17778, 'penelope': 20749, 'thornberry': 28574, 'housekeepers': 14176, 'topper': 28928, 'queerest': 22683, 'brawn': 4140, 'accountant': 1046, 'misfire': 18343, 'lausanne': 16543, '_propriety_': 644, '_first_': 373, 'specified': 26597, 'expiration': 10690, 'enfant': 10062, 'sont': 26437, 'pauvres': 20615, 'petits': 21015, 'petits_': 21016, '_voilà': 804, 'frustrated': 12147, 'churlish': 5559, 'egoist': 9738, 'amiel': 1726, 'deuced': 8343, 'carnage': 4903, 'massacred': 17764, 'conductors': 6420, 'unaccused': 29627, 'chorussed': 5515, 'cheetah': 5368, 'enforce': 10070, 'dow': 9210, 'redly': 23227, 'preclude': 21875, 'despondence': 8278, 'sponsors': 26737, 'shies': 25494, 'lemons': 16707, 'simmer': 25803, 'ubiquitous': 29588, 'peaked': 20657, 'supplement': 27743, 'organized': 19892, 'ruffianism': 24384, 'cursory': 7497, 'mangle': 17579, 'tottering': 28980, 'spiker': 26665, 'salutary': 24602, 'lichen': 16817, 'caved': 5074, 'erected': 10298, 'droppings': 9372, 'eternally': 10392, 'snare': 26223, 'underfoot': 29788, 'blasts': 3656, 'snuggest': 26292, 'easiest': 9600, 'creeps': 7225, 'ignoramus': 14453, 'backwoods': 2775, 'prearranged': 21844, 'mulatto': 18776, 'reconnoitering': 23167, 'minimised': 18250, 'unworthiness': 30374, 'hulls': 14244, 'dregs': 9311, 'builders': 4432, 'mountainous': 18712, 'overshooting': 20142, 'haymaking': 13597, 'medico': 17934, 'bodkin': 3857, 'pipette': 21242, 'litre': 16990, 'crystals': 7409, 'falsetto': 10927, 'plaids': 21317, 'recompensed': 23159, 'alexandre': 1544, 'bovington': 4034, 'genivine': 12462, 'papas': 20340, 'misbehave': 18306, 'tourist': 28997, 'haunch': 13566, 'overrun': 20133, 'disdainful': 8716, '1676': 31, 'andamans': 1796, 'islander': 15691, 'glum': 12716, 'ints': 15530, 'plum': 21461, 'meddling': 17926, 'stiffest': 27130, 'yarn': 31976, 'sicara': 25699, 'friezes': 12080, 'karnak': 16059, 'memphis': 18010, 'insights': 15256, 'ambiguous': 1687, 'winner': 31654, 'angering': 1822, 'sumever': 27645, 'pecooliar': 20684, 'tuck': 29429, 'harming': 13476, 'debaucheries': 7792, 'insulter': 15348, 'thanklessness': 28454, 'montfaucon': 18569, 'medlars': 17947, 'crowed': 7357, 'fillip': 11319, 'selfishly': 25155, 'stationary': 27000, 'auxiliary': 2625, 'permanency': 20880, 'thankye': 28458, 'ceremoniously': 5137, 'exchanging': 10539, 'vermilion': 30694, 'quickish': 22713, 'epilepsy': 10257, '_daughters_': 297, '_miss': 539, 'symmetrically': 28025, 'rewarding': 24001, 'dominie': 9125, 'ettrick': 10401, 'greenwood': 13003, 'mitred': 18429, 'frosts': 12123, 'gambler': 12307, 'wrapper': 31866, 'reptile': 23670, 'unframed': 29951, 'notably': 19348, 'discredited': 8701, 'esmeralda': 10341, 'bickerings': 3490, 'worker': 31799, 'reprimands': 23647, 'feuds': 11230, 'footprint': 11731, 'steeled': 27060, 'foreshadow': 11809, 'mollify': 18502, 'pendulous': 20747, 'gills': 12570, 'honoria': 14048, 'westphail': 31375, 'marines': 17674, 'schoolroom': 24868, 'peaches': 20653, 'ripening': 24129, 'aloes': 1626, 'tubs': 29428, 'recurrences': 23208, 'flax': 11496, 'workshops': 31812, 'kilns': 16142, 'irtish': 15686, 'censer': 5115, 'sulked': 27628, 'mildew': 18185, 'swisserland': 27987, 'murillo': 18829, 'madrid': 17416, 'barcelona': 2927, '86': 149, 'unbiased': 29680, 'appetites': 2026, 'hesitations': 13833, '126b': 11, 'handier': 13381, 'codger': 5937, 'aggerawayter': 1409, 'canada': 4737, 'mexborough': 18133, 'craven': 7171, 'pouted': 21783, 'inflicting': 15091, 'agicultooral': 1421, 'eaters': 9616, 'sentimentalist': 25226, 'rigorously': 24095, 'guillotined': 13202, 'listlessness': 16974, 'tania': 28143, 'lubotchka': 17246, 'intercepted': 15402, 'outflame': 19996, 'sleeker': 26025, 'tanneries': 28149, 'churned': 5561, 'reefed': 23250, 'hull': 14241, 'arrears': 2253, 'arithmetical': 2199, 'cudgelling': 7419, 'peppermint': 20801, 'shackled': 25347, 'sorcery': 26457, 'antimacassar': 1922, 'drouot': 9379, 'secularly': 25088, '_only_': 594, '_any_': 188, 'felicitous': 11148, 'hurtful': 14340, '_see_': 697, 'demoniacal': 8059, 'subsiding': 27525, 'inexplicably': 15035, 'coherency': 5961, 'ciclatoun': 5570, 'bridesmaid': 4223, 'pidger': 21141, 'dishonored': 8764, 'virginal': 30839, 'holiest': 13991, 'acclaimed': 1012, 'acclaim': 1011, 'wilfullness': 31582, '_mais': 512, 'nihilism': 19209, 'sponging': 26735, 'hoarfrost': 13945, 'howls': 14202, 'zoo': 32093, 'offhand': 19699, 'prays': 21835, 'gleaned': 12644, 'heavins': 13704, 'kaiser': 16041, 'herling': 13809, 'legation': 16681, 'benz': 3366, 'waft': 30988, '_athens': 200, 'pyramids': 22613, 'cypresses': 7563, 'chafing': 5171, 'hugely': 14229, 'cloaked': 5805, 'manoeuvred': 17612, 'sedley': 25104, 'teaspoons': 28270, 'gascons': 12380, 'grapple': 12917, 'watchfulness': 31186, 'exuberant': 10807, 'compton': 6312, 'mormon': 18637, 'unorthodox': 30131, '_o_': 581, 'upside': 30418, 'frenchmen': 12038, 'revolutionaries': 23987, 'anarchists': 1774, 'infidels': 15071, 'pliable': 21428, 'parasitic': 20381, 'piquancy': 21247, 'congratulatory': 6509, 'burdensome': 4495, 'unflagging': 29936, 'heroism': 13818, 'fulfillment': 12164, 'ile': 14469, 'unnerstood': 30119, 'recollects': 23150, 'plaits': 21334, 'studded': 27424, 'slippery': 26075, 'smacked': 26129, 'atoning': 2485, 'rambled': 22854, 'magnifying': 17442, 'fees': 11137, 'shunned': 25679, 'redemption': 23222, 'odina': 19620, 'glints': 12669, 'sparkles': 26560, 'nucleus': 19416, 'baits': 2814, 'facet': 10839, 'amoy': 1742, 'vitriol': 30878, 'crystallised': 7408, 'purveyor': 22585, 'dictated': 8429, 'powered': 21790, 'bountiful': 4023, 'passable': 20503, 'snored': 26266, 'tatyana': 28217, 'onyegin': 19787, '_help_': 420, '_hopes_': 431, 'inexpensive': 15030, 'malarious': 17506, 'falseness': 10925, 'ungenerously': 29969, 'denier': 8081, 'scum': 25011, 'peeling': 20706, 'salisbury': 24585, 'airmen': 1493, 'nonentity': 19296, 'canting': 4790, 'macpherson': 17391, 'wrangling': 31863, 'buffoonery': 4422, 'discord': 8677, 'utterances': 30472, 'polar': 21547, '_comment': 269, '_de': 298, 'pauvre': 20614, 'paddock': 20225, 'ferret': 11200, 'toils': 28862, 'unreality': 30191, 'petitions': 21014, 'mazurka': 17869, 'polya': 21585, 'clout': 5844, 'rests': 23846, 'ravelled': 22950, '_keenly_': 472, '_dare_': 296, 'rhine': 24013, 'stealth': 27042, 'bladed': 3619, 'snips': 26259, 'unsavoury': 30235, 'machiavellian': 17378, 'angers': 1823, 'annoys': 1876, 'brutish': 4383, 'pestering': 20997, 'bellowing': 3297, '_bigre_': 222, 'galvanic': 12300, 'crucial': 7368, 'infectious': 15059, 'dreamlike': 9302, 'reddened': 23214, 'verity': 30692, 'plaister': 21332, 'laundress': 16535, 'bedight': 3160, 'endears': 10028, 'conclusiveness': 6375, 'jock': 15888, 'wolsey': 31741, '_good_': 403, 'buckingham': 4401, 'cromwell': 7314, 'expensiveness': 10674, 'unthought': 30321, 'frugality': 12136, 'retrenched': 23894, 'abridge': 928, 'stowing': 27267, 'persuaders': 20956, 'cavalierly': 5070, 'verger': 30682, 'erroneous': 10319, 'overlaid': 20106, 'fitzroy': 11422, 'marvelling': 17742, 'feigned': 11141, 'li': 16783, 'ver': 30665, 'slinging': 26068, 'unfavourable': 29922, 'stuffy': 27443, 'embrocation': 9904, 'chamois': 5195, 'laurentina': 16541, 'chirped': 5465, 'importunate': 14658, 'erased': 10293, 'profligates': 22207, 'thanker': 28448, 'tens': 28360, 'cues': 7423, 'pirogov': 21259, 'procedure': 22138, 'beginner': 3219, 'smoker': 26184, 'purged': 22544, 'uptowning': 30422, 'sickerly': 25708, 'viscountess': 30850, 'dalrymples': 7603, 'elliots': 9833, 'afeared': 1328, 'typhoid': 29573, 'drains': 9253, 'arranges': 2245, 'guttural': 13256, 'sanctuary': 24638, 'sniggering': 26256, 'develops': 8352, 'drinkers': 9338, 'consigned': 6586, 'inexhaustible': 15027, 'quotations': 22754, 'impertinently': 14618, 'unslung': 30271, 'grappling': 12920, 'cloudless': 5839, 'hocus': 13961, 'pocus': 21491, 'proclaiming': 22150, 'expand': 10639, 'steadiness': 27031, 'fluctuated': 11611, 'dissolving': 8921, 'devours': 8391, '_panem': 605, 'circenses_': 5587, '_lepidus': 490, 'mercerensis_': 18048, 'twittered': 29555, 'registers': 23346, 'accorded': 1039, 'yells': 32009, 'stronghold': 27398, 'neigh': 19098, 'wrekin': 31883, 'cotswolds': 6979, 'butser': 4567, 'pensil': 20781, 'rivulets': 24165, 'broader': 4303, 'bunting': 4487, 'ménagère': 18917, 'farquhar': 10992, 'curative': 7460, 'predecessor': 21882, 'sweepers': 27927, 'arteries': 2275, 'commerce': 6131, 'footpaths': 11730, 'pedestrians': 20697, 'ins': 15228, 'outs': 20032, 'bounce': 4008, 'snuggled': 26293, 'peninsula': 20758, 'sandal': 24641, 'thong': 28571, 'darts': 7695, 'choir': 5489, 'creditably': 7211, 'jibs': 15871, 'clerestory': 5752, 'mayflies': 17862, 'horseshoe': 14125, 'imitating': 14532, 'nikifor': 19213, 'pail': 20242, 'typifies': 29576, 'picton': 21135, 'castleton': 5002, 'pedants': 20693, 'consols': 6605, 'godhead': 12744, 'mellowed': 17977, 'clangor': 5665, 'turrets': 29499, 'engulfed': 10103, 'execration': 10576, 'gambolled': 12310, 'watchword': 31192, 'astride': 2447, 'blandford': 3639, 'yarning': 31977, 'quainter': 22635, 'ripened': 24128, 'becometh': 3145, 'commends': 6124, 'pfu': 21040, 'requiem': 23700, 'problems': 22137, 'depraved': 8147, 'engrave': 10094, 'carouse': 4919, 'heartening': 13668, 'goth': 12830, 'hun': 14295, 'vandal': 30530, 'rover': 24336, 'ephemeral': 10249, 'cumber': 7442, 'instancy': 15305, 'apologizing': 1984, 'surging': 27799, 'decanter': 7811, 'unbind': 29682, 'vouchers': 30950, 'misguided': 18353, 'agonized': 1439, 'quarreled': 22651, 'enigma': 10107, 'comtesse': 6322, 'eyes_': 10825, 'verhishins': 30684, 'tricky': 29276, 'overseers': 20135, 'churchwardens': 5556, 'applicants': 2041, 'wrenching': 31886, 'capsized': 4828, 'swum': 28008, 'syndicate': 28040, 'unaddressed': 29631, 'rusticating': 24457, 'budged': 4412, 'invading': 15540, 'millionth': 18214, '_scena_': 692, 'indentures': 14921, 'defrauded': 7960, 'privateer': 22111, 'recital': 23106, 'unredeemed': 30201, 'redeemed': 23220, 'damping': 7624, 'lifelong': 16842, 'exhaustive': 10605, 'items': 15720, 'wanderer': 31084, 'alkali': 1570, 'herds': 13795, 'bisons': 3568, 'graze': 12968, 'prairie': 21812, 'castaways': 4992, 'tilts': 28758, 'laith': 16378, 'citadels': 5616, 'augusta': 2576, '_une': 783, 'théorie': 28695, 'autre_': 2621, 'overstepped': 20151, 'overstepping': 20152, '_look_': 505, 'condole': 6405, 'undertakers': 29825, 'maturely': 17833, 'goodge': 12790, 'pompey': 21596, 'cassius': 4985, 'nymph': 19458, 'squeaked': 26843, 'gluck': 12715, 'volga': 30916, 'familiarize': 10938, 'notched': 19351, 'saucers': 24720, 'motes': 18679, 'humphing': 14292, 'regulars': 23360, '_wos_': 836, 'unbosom': 29689, 'abasement': 859, 'intromissions': 15519, 'chastened': 5312, 'surfeit': 27791, 'remission': 23508, 'inhumanly': 15154, 'mishandled': 18356, 'cruelties': 7379, 'demonstrably': 8060, 'taciturnity': 28072, 'rhone': 24016, 'inflamed': 15078, 'indiscreetly': 14956, 'savoured': 24749, 'trellis': 29220, 'ava': 2626, 'dwalt': 9525, 'maks': 17499, 'odinetage': 19633, 'mindedness': 18235, 'piles': 21177, 'screening': 24966, 'bulge': 4439, 'lamentably': 16395, 'groweth': 13123, 'unchristened': 29725, 'credible': 7208, 'castaway': 4991, 'election': 9790, 'shiftings': 25498, 'sweepstakes': 27931, 'historic': 13929, 'statistic': 27005, 'evasive': 10428, 'exhilaration': 10616, 'unexpiated': 29907, 'cooped': 6837, 'halcyon': 13315, 'trapper': 29166, 'ranchman': 22868, 'realisation': 23000, 'assez': 2386, 'phrasemongers': 21096, 'corsets': 6952, 'bamboo': 2860, 'navigation': 19018, 'ataca': 2458, 'ipetu': 15616, 'clansman': 5671, 'inflating': 15084, 'remo': 23518, 'prudently': 22418, '_m': 509, 'amour_': 1740, '_menus_': 529, '_plaisirs_': 630, 'aristocracy': 2193, 'garçon': 12377, 'éveillé': 32114, 'fils': 11323, 'boyard': 4058, 'pardessus': 20393, 'marché': 17660, 'aime': 1477, 'boyards': 4059, 'aimes': 1479, 'tu': 29422, 'retaliate': 23866, 'classify': 5703, 'exiles': 10625, 'fane': 10959, 'nief': 19187, 'croix': 7312, 'pey': 21038, 'berland': 3382, 'ramparts': 22862, 'prosy': 22350, 'marrow': 17711, 'lagging': 16368, 'besottedness': 3415, 'dieth': 8449, 'cataleptic': 5017, 'concoction': 6378, 'hier': 13862, 'avait': 2630, 'esprit': 10349, 'romancers': 24245, 'sieve': 25730, 'protects': 22359, 'organise': 19888, 'sikh': 25767, 'troopers': 29333, 'stabling': 26871, 'coltish': 6051, 'bleared': 3671, 'scarecrow': 24811, 'mayoralty': 17866, 'denominated': 8088, 'unshackled': 30255, 'wick': 31532, 'appropriation': 2084, 'discreditable': 8699, 'moulder': 18700, 'grizzling': 13076, 'strata': 27307, 'cottager': 6981, 'cosily': 6955, 'annotated': 1866, 'blasphemies': 3650, 'thirsts': 28556, 'confidentiality': 6450, 'soundings': 26498, 'perverseness': 20985, 'sodden': 26333, 'highroad': 13878, 'soliloquies': 26397, 'countersign': 7017, 'inky': 15182, 'odinshire': 19665, 'disabuse': 8586, 'invraisemblable': 15605, 'femmes': 11170, 'beck': 3138, 'firemen': 11374, 'misused': 18418, 'abhorring': 888, 'sympathize': 28033, 'obviating': 19569, 'hargrave': 13466, 'conciliatorily': 6364, 'puss': 22595, 'odinbook': 19622, '_morning': 548, 'post_': 21722, 'cal': 4665, 'almond': 1620, 'gentlewoman': 12486, 'grouse': 13115, 'basest': 3004, 'slandered': 25985, 'overborne': 20067, 'harden': 13447, 'chocolates': 5481, 'ballarat': 2840, 'melbourne': 17970, 'saddles': 24526, 'purified': 22546, 'coughs': 6988, 'bereavements': 3374, 'toor': 28915, 'rul': 24401, 'lol': 17098, 'loo': 17124, 'spinnage': 26679, 'cockolorum': 5925, 'palings': 20276, 'ministry': 18258, 'educate': 9693, 'featureless': 11111, 'vociferously': 30898, 'trackless': 29042, 'brier': 4238, 'graveclothes': 12949, 'leadership': 16588, 'guideth': 13193, 'bookishness': 3928, 'snuffbox': 26287, 'commenting': 6129, '_myself_': 559, 'potchinkov': 21749, 'babushkin': 2746, 'dictatorial': 8434, 'dissent': 8902, 'inrush': 15227, 'summers': 27649, 'pawnees': 20631, 'blackfeet': 3598, 'hardiest': 13451, 'awesome': 2702, 'prairies': 21813, 'coyote': 7112, 'skulks': 25962, 'scrub': 24985, 'buzzard': 4591, 'lumbers': 17289, 'ravines': 22959, 'picks': 21131, 'importuned': 14660, 'felicities': 11147, 'suffocated': 27594, 'kympton': 16300, 'instigated': 15314, 'tilson': 28753, 'lockers': 17059, 'fours': 11947, 'tum': 29447, 'leopard': 16728, 'attent': 2520, 'corrections': 6923, 'sunbaked': 27662, 'smerdyastchaya': 26163, 'uncontrolled': 29763, 'exasperate': 10501, 'characterise': 5251, 'caustically': 5060, '_mr': 552, 'blemish': 3679, 'persuasively': 20962, '20': 85, 'zigzagged': 32087, 'delhi': 8000, 'lucknow': 17259, 'nana': 18948, 'greathed': 12981, 'pandies': 20305, 'macadam': 17370, 'consecrate': 6559, 'sizes': 25907, 'borderland': 3962, 'mulled': 18783, 'writ': 31914, 'cummerbund': 7445, 'ague': 1457, 'chills': 5443, 'chirrup': 5468, 'undergraduates': 29793, 'smuggler': 26210, 'damage': 7605, 'simplifies': 25819, 'informs': 15110, 'prominently': 22248, 'ordintzeff': 19881, 'dumas': 9464, '_la': 479, 'camélias_': 4736, 'imperishable': 14613, 'ambushes': 1695, 'immured': 14569, 'avengers': 2641, 'immutable': 14570, 'lowestoft': 17230, 'breastpin': 4171, 'penitentiary': 20762, 'drizzling': 9355, 'caterpillars': 5032, 'exalt': 10489, 'glamour': 12621, 'mincemeat': 18229, 'cramming': 7147, 'busting': 4552, 'recede': 23081, 'rouge': 24304, 'madge': 17408, 'vermin': 30695, 'seared': 25048, 'stacks': 26875, 'twigs': 29533, 'tendons': 28353, 'invest': 15564, 'attributes': 2545, 'molehill': 18495, 'retail': 23856, 'roderick': 24215, 'voyages': 30962, 'grammars': 12888, 'hopelessness': 14085, 'ticklish': 28711, 'tickling': 28710, 'clubbing': 5852, 'ventral': 30655, 'perturbations': 20971, 'remonstrating': 23524, 'reverting': 23959, 'vibration': 30739, 'greenest': 12997, 'gunpowder': 13233, 'incogniti': 14824, 'oberst': 19483, 'flanks': 11459, 'unsling': 30269, 'rebounding': 23068, 'requisitioned': 23710, 'scientist': 24881, 'becky': 3143, 'overcast': 20070, 'overwhelm': 20169, 'dale': 7599, 'bridewells': 4226, 'turnkeys': 29491, 'perceives': 20806, 'wiolent': 31664, 'haughtily': 13559, 'clemency': 5745, 'prouder': 22377, 'thousandfold': 28593, 'undervalued': 29833, 'unadorned': 29632, 'strawberries': 27317, 'couvette': 7068, 'brieux': 4239, 'pol': 21545, 'blois': 3730, 'carra': 4929, 'fibbing': 11244, 'resisting': 23767, 'reanimation': 23021, 'barricades': 2978, 'swarms': 27909, 'paparchin': 20339, 'dropsy': 9375, 'bequeathing': 3369, 'rejoicings': 23401, 'census': 5120, 'confute': 6494, 'garter': 12374, 'plenipotentiary': 21419, 'engagingly': 10078, 'unexampled': 29900, 'immolation': 14557, 'fussiness': 12229, 'meanings': 17893, 'principled': 22085, 'ruining': 24398, 'dedicated': 7885, 'leavings': 16638, 'whetted': 31430, 'lascia': 16483, 'ch': 5162, 'io': 15611, 'pianga': 21113, 'lyrically': 17363, 'sighings': 25735, 'hating': 13550, 'poniard': 21612, 'murmurings': 18834, 'flirting': 11552, '_chaperon_': 253, 'olfactory': 19741, 'aniseed': 1848, 'whiffed': 31435, 'poncho': 21602, 'crisply': 7283, 'comings': 6100, 'harding': 13454, 'acquits': 1121, 'confreres': 6485, 'operating': 19811, 'jaded': 15762, 'spars': 26567, 'inconvenienced': 14866, 'chaffed': 5167, 'draggled': 9243, 'begowk': 3229, 'ocular': 19606, 'evangelical': 10418, '_pax': 622, 'vobiscum_': 30892, 'barked': 2948, 'shams': 25391, 'heartier': 13674, 'jerome': 15837, 'spinach': 26673, 'misinformed': 18358, 'derisively': 8189, 'intrinsic': 15510, '_face_': 360, 'huswife': 14359, 'amante': 1669, 'désir': 9555, 'sachons': 24497, 'cueillir': 7422, 'watcheth': 31183, 'shooteth': 25563, 'masons': 17758, 'catholics': 5040, 'pursuant': 22574, 'malthy': 17539, 'synonymous': 28043, 'vell': 30620, 'vas': 30571, 'shyly': 25689, 'algar': 1548, 'grates': 12935, 'sawing': 24755, 'travesty': 29185, 'jabbering': 15739, 'puddles': 22462, 'defraud': 7959, 'cognizant': 5959, 'papering': 20343, 'serpentine': 25274, 'columella': 6054, 'beliefs': 3278, 'exterminates': 10764, 'imitates': 14531, 'lex': 16779, 'armata': 2210, 'tyrannous': 29581, 'crapulous': 7162, 'purulent': 22583, 'garbage': 12341, 'pinetum': 21218, 'turpentine': 29495, 'unadulterated': 29633, 'unsophisticated': 30278, 'appliances': 2037, 'prevalence': 22032, 'meredith': 18064, 'fussing': 12230, 'incarnate': 14781, '_brother_': 233, 'fasting': 11022, 'varsonofy': 30567, 'eldership': 9785, 'reverenced': 23941, 'tradition': 29058, 'gentile': 12473, 'creed': 7219, 'violate': 30824, 'punchinello': 22502, 'repayer': 23587, 'originated': 19911, 'derogatory': 8195, 'deductive': 7893, 'drawbacks': 9274, 'acquainting': 1110, 'operations': 19813, 'eccentrically': 9633, 'twitchy': 29552, 'horsehair': 14120, 'wight': 31563, '_island_': 458, 'chronological': 5535, 'accession': 1001, 'reigns': 23376, 'pallid': 20281, '_however': 438, 'improbable_': 14703, 'chronicle': 5532, 'humps': 14294, 'triviality': 29321, 'hurting': 14341, 'baddish': 2782, 'electrified': 9793, 'mammoths': 17553, 'mastodons': 17788, 'sairpents': 24569, 'jackals': 15744, 'shoal': 25543, 'undertow': 29832, 'fatiguing': 11045, 'jade': 15761, 'judgements': 15972, 'chambermaid': 5193, 'opens': 19806, 'patterns': 20600, 'flaunting': 11488, 'emporium': 9963, 'clothesman': 5832, 'vamper': 30527, 'mildewy': 18187, 'bulls': 4458, 'reputable': 23689, 'exemplary': 10586, 'bungled': 4481, 'lubber': 17243, 'unmerited': 30101, 'spiring': 26684, 'raciness': 22774, 'concede': 6330, '1890': 75, 'tredannick': 29215, 'wartha': 31156, 'blinkingly': 3709, 'revere': 23938, 'treads': 29195, 'abatement': 863, 'administering': 1220, 'regardful': 23326, 'unabsurd': 29621, 'oversensitive': 20136, 'kammer': 16049, 'junker': 16009, 'euston': 10412, 'gainsaying': 12272, 'spoor': 26746, 'plumbers': 21464, 'rearranged': 23035, 'celestial': 5104, 'globes': 12684, 'waxy': 31237, 'dainties': 7591, 'hoar': 13941, 'copybooks': 6864, 'threepence': 28623, 'interjectional': 15421, 'pilgrimages': 21182, 'eccentricities': 9634, 'magnanimously': 17433, 'antithesis': 1934, 'scraggy': 24939, 'drill': 9332, 'mosquito': 18673, 'shaves': 25429, 'laconic': 16342, 'leash': 16625, 'busts': 4556, 'monstrously': 18559, 'bleakest': 3670, 'frighted': 12083, 'liquidation': 16954, 'tittuppy': 28828, 'perfec': 20833, 'caroliny': 4915, 'foregrounds': 11789, 'perspectives': 20946, 'beechen': 3175, 'soured': 26508, 'buffoons': 4423, 'pasture': 20539, 'cooper': 6838, 'romans': 24250, 'taskmasters': 28195, 'illimitable': 14481, 'rainy': 22831, 'splashing': 26703, 'patten': 20595, 'notches': 19352, 'brocade': 4310, 'hareskin': 13465, 'deathbeds': 7778, 'egotism': 9742, 'didactic': 8439, 'jezail': 15868, 'evinced': 10464, 'dishonestly': 8760, 'slates': 26004, 'silkworms': 25780, 'fusty': 12233, 'pasteboard': 20529, 'chirps': 5467, 'corduroys': 6883, 'therewith': 28507, 'slout': 26098, 'fascinator': 11005, 'pointers': 21521, 'lava': 16544, 'tastefully': 28202, 'fleck': 11501, 'deathlessness': 7779, 'lucifer': 17253, 'unroll': 30224, 'polling': 21575, 'unfurling': 29963, 'braved': 4126, 'relies': 23448, 'trickle': 29272, 'rumoured': 24423, 'advices': 1305, '26th': 102, '1757': 44, 'windless': 31630, 'rime': 24101, 'insinuation': 15265, 'unionist': 30039, 'prohor': 22230, 'harvested': 13512, 'stipulations': 27172, 'crabtree': 7120, 'odinbud': 19623, 'unctuous': 29774, 'invents': 15560, 'faithlessness': 10909, 'revives': 23978, 'directress': 8574, '_die': 307, 'wäsche_': 31952, '_gold_': 401, 'hoarded': 13942, 'sheriffs': 25479, 'gewgaws': 12529, 'criers': 7255, 'ushers': 30457, 'farrington': 10995, 'terminal': 28383, 'jars': 15791, 'assignation': 2392, 'unhurried': 30009, 'unaccountableness': 29624, 'adjourn': 1204, 'bs': 4385, 'rapping': 22901, 'sopping': 26455, 'pant': 20325, 'travers': 29181, 'winch': 31615, 'farming': 10988, 'phantoms': 21045, 'brigham': 4248, 'teodin': 28373, 'underlet': 29800, 'headpiece': 13631, 'montmartre': 18575, 'cobb': 5904, 'contrivances': 6749, 'tends': 28354, 'manifesting': 17592, 'breathlessness': 4182, 'daddy': 7579, 'vill': 30788, 'interprets': 15454, 'pondicherry': 21610, 'innuendo': 15203, 'acceptability': 992, 'benighted': 3353, 'sahara': 24550, 'unexhausted': 29903, 'fifteenth': 11285, 'pendulum': 20748, 'unavenged': 29662, 'architect': 2145, 'paladin': 20264, 'driveth': 9352, 'surety': 27787, 'whereabout': 31419, 'unshorn': 30260, 'fevered': 11232, '_élite_': 847, 'appelle_': 2019, 'milovzors': 18221, 'bass': 3021, 'staccato': 26873, 'testaments': 28414, 'montpezat': 18579, 'moustached': 18733, 'enforced': 10071, 'listed': 16964, 'herding': 13794, 'lustiest': 17328, 'ding': 8532, 'dong': 9135, 'securities': 25096, 'curzon': 7518, 'marquess': 17701, 'montalva': 18563, 'rulli': 24408, 'escurial': 10338, 'magnetic': 17436, 'toffee': 28853, 'fondants': 11691, 'lottery': 17188, 'bets': 3456, 'chopper': 5505, 'dotage': 9176, 'lapsed': 16465, 'sorted': 26472, 'gashes': 12384, 'illustrated': 14497, 'confining': 6461, 'même_': 18919, 'bakedness': 2819, 'fastidious': 11020, 'foldings': 11669, 'unburdened': 29697, 'stigma': 27137, 'switching': 27991, 'crescendo': 7233, 'unrolled': 30225, 'disks': 8787, 'resorts': 23781, 'ratify': 22934, 'debouched': 7800, 'opéra': 19851, 'conversible': 6786, 'indistinguishable': 14968, 'picturing': 21140, 'compel': 6219, 'phodinstery': 21082, 'allayed': 1578, 'superintend': 27710, 'pasturage': 20538, 'undignified': 29851, 'lacquey': 16344, 'dominance': 9113, 'experientia': 10679, 'ciphers': 5584, 'apocrypha': 1973, 'devices': 8358, 'eked': 9765, 'sauce': 24717, 'sp': 26530, 'iled': 14470, 'sperrit': 26648, 'inforced': 15101, 'rumination': 24416, 'insurmountable': 15362, 'archives': 2148, 'neolithic': 19113, 'portended': 21678, 'commandante': 6103, 'mythical': 18912, 'heraldic': 13789, 'emblems': 9890, 'cockade': 5915, 'unclosing': 29737, 'forswear': 11886, 'watchers': 31181, 'aylmers': 2725, 'bedford': 3158, 'dutifully': 9520, 'despondent': 8280, 'tidiness': 28720, 'burnish': 4523, 'fatted': 11048, 'cosseted': 6960, 'bandstand': 2880, 'pique': 21250, 'compressing': 6301, 'defensive': 7931, 'intoned': 15497, 'spurted': 26813, 'dolorous': 9099, 'fading': 10861, 'strivings': 27385, 'entree': 10219, 'chaperone': 5239, 'newest': 19154, 'uncensured': 29709, 'conventual': 6775, 'cabbage': 4622, 'wholemeal': 31515, 'stirabout': 27174, 'noodles': 19305, 'kasha': 16063, 'hemp': 13774, 'weekdays': 31310, 'sparingly': 26555, 'laodicean': 16458, 'remitting': 23515, 'pounded': 21775, 'huskiness': 14351, 'ladders': 16348, 'hammers': 13357, 'execrations': 10577, 'impeded': 14591, 'stipulating': 27170, 'foretop': 11826, 'pollution': 21578, 'unfriends': 29958, 'albeit': 1519, 'milksop': 18201, 'mindeth': 18236, 'faileth': 10875, 'babby': 2738, 'sou': 26482, 'hallucinations': 13336, 'demurely': 8073, 'uncalled': 29702, 'demented': 8046, 'offal': 19680, 'conflagrations': 6473, 'purify': 22547, 'sposo': 26756, 'commandant': 6102, 'unflinching': 29938, 'insultingly': 15351, 'unpicked': 30145, 'brooked': 4334, 'allegations': 1579, 'libels': 16795, 'consistory': 6595, 'delegates': 7997, 'parasol': 20382, 'legion': 16691, 'goblins': 12737, 'bus': 4538, 'scrupled': 24992, '_horrible_': 432, 'fiends': 11275, 'slinks': 26071, 'warding': 31115, 'wavelets': 31222, 'weeds': 31307, 'bladders': 3617, 'deputy': 8173, 'camisade': 4729, 'jemmy': 15821, 'thorny': 28577, 'squabbling': 26820, 'asseverations': 2385, 'sods': 26335, 'flounced': 11591, 'labourer': 16317, 'drays': 9288, 'miscalculation': 18309, 'hospitaller': 14139, 'leeward': 16669, 'callously': 4694, 'lassie': 16491, 'derisive': 8188, 'pter': 22441, 'fiddlestick': 11259, 'vanishes': 30537, 'beguiles': 3236, 'geometrical': 12503, 'enow': 10135, 'mawkishly': 17851, 'sabotière': 24492, 'assyrian': 2427, 'luxuriance': 17339, 'insulters': 15349, 'foulon': 11933, 'eel': 9701, 'loophole': 17143, 'horny': 14105, 'damaged': 7606, 'transcendent': 29111, 'skewer': 25920, 'chariots': 5275, 'spoked': 26727, 'reels': 23259, 'hilltop': 13890, 'overplumbed': 20123, 'unwounded': 30377, 'informal': 15103, 'unavoidably': 29664, 'climber': 5786, 'cumbrous': 7444, 'guise': 13210, 'recipient': 23101, 'chusing': 5565, 'weareth': 31272, 'ventriloquial': 30656, 'destinations': 8291, 'coppice': 6860, 'windings': 31627, 'cousine': 7065, 'antiseptics': 1933, 'foggier': 11654, 'nipped': 19236, 'scant': 24795, 'regale': 23319, 'overawed': 20062, 'remiss': 23507, 'gladiator': 12614, 'charwomen': 5302, 'pock': 21489, 'enumeration': 10229, 'glazing': 12638, 'formula': 11872, 'caprices': 4824, 'sharers': 25405, 'giacomo': 12540, 'corpo': 6909, 'bacco': 2756, 'maravedi': 17649, 'firework': 11379, 'reeling': 23258, 'immodest': 14556, 'teens': 28283, 'byron': 4607, 'scapegoat': 24798, 'overflow': 20089, 'hysteria': 14388, 'pah': 20240, 'archangel': 2130, 'hostage': 14143, 'thanky': 28457, 'watermen': 31207, 'thefts': 28479, 'dowiest': 9213, 'sunbury': 27667, 'treadmill': 29194, 'grandpapa': 12907, 'frenchwoman': 12039, 'midden': 18151, 'stagnation': 26889, 'cryptogram': 7405, 'abhor': 884, 'gladden': 12609, 'marriageable': 17707, 'sturdily': 27468, 'slantwise': 25994, 'traceries': 29033, 'coppery': 6859, 'resinous': 23763, 'prattled': 21828, '_this': 756, 'supplicating': 27747, 'righteousness': 24085, 'acetylene': 1079, 'troglodyte': 29324, 'spate': 26575, 'discard': 8630, 'dragons': 9245, 'underlies': 29802, 'potkins': 21755, 'fulfilling': 12163, 'organisation': 19887, 'shrinkingly': 25650, 'podinlytising': 21497, 'ramifying': 22856, 'endlessly': 10039, 'myth': 18911, 'compassionating': 6214, 'bretons': 4198, 'stemming': 27083, 'attackers': 2498, 'reverberant': 23933, 'dynamite': 9547, 'duck': 9428, 'expresses': 10738, 'rimy': 24104, 'wreathing': 31878, 'playground': 21386, 'gill': 12567, 'tic': 28699, 'douloureux': 9204, 'roopy': 24273, 'stomachic': 27211, 'swaggerer': 27885, 'raspberries': 22921, 'outspread': 20042, 'warner': 31143, 'dripped': 9343, 'circumference': 5601, '1874': 67, 'lieve': 16837, 'executing': 10580, 'zigzags': 32088, 'clachan': 5634, 'corrynakiegh': 6950, 'koalisnacoan': 16264, 'maltreated': 17541, 'certify': 5149, 'aortic': 1955, 'deserting': 8221, 'searches': 25045, 'fluffles': 11617, 'chansons': 5229, 'ballades': 2838, 'lais': 16376, 'virelais': 30837, 'roundels': 24318, 'improbably': 14705, 'fiancée': 11241, 'congenitally': 6499, 'cronies': 7317, 'commoved': 6172, 'dulness': 9462, 'sulkiness': 27630, 'ceilings': 5097, 'notebooks': 19355, 'ome': 19751, 'competitor': 6232, 'pense': 20779, 'suis_': 27615, 'emanation': 9862, 'ego': 9736, 'extinguishing': 10775, 'canes': 4761, 'flamed': 11452, 'committees': 6155, 'gorged': 12806, 'cartload': 4954, 'hales': 13318, 'efficiency': 9719, 'employees': 9956, 'civilized': 5631, 'hoards': 13944, 'contemplatives': 6673, 'affright': 1369, 'polyphonic': 21587, 'motets': 18680, 'lassus': 16493, 'overbodincing': 20065, 'sergius': 25264, 'upsala': 30413, 'hugs': 14235, 'bust': 4551, 'persuadable': 20952, 'aproned': 2098, 'condonment': 6411, 'woodcock': 31766, 'rumored': 24420, 'ineffectually': 15013, 'stitch': 27182, 'epithet': 10265, 'gaolers': 12332, 'westerham': 31368, '15_th': 26, 'october_': 19605, 'eden': 9671, 'skinodin': 25941, 'pews': 21036, 'suites': 27621, 'secreted': 25079, 'unintricate': 30035, 'strewed': 27353, 'thickset': 28522, 'bulrushes': 4462, 'promontories': 22255, 'outstripped': 20047, 'wooton': 31786, 'odinlins': 19655, 'glinting': 12668, 'fleeced': 11509, 'juicy': 15989, 'rounding': 24320, 'astraddle': 2442, 'idiotically': 14424, 'concatenation': 6324, 'implicated': 14633, 'straddled': 27269, 'beery': 3185, 'drinker': 9337, 'congested': 6500, 'cowl': 7100, 'newer': 19153, 'irresponsiveness': 15669, 'intensest': 15386, 'reappear': 23025, 'gaps': 12338, 'solitudes': 26402, 'stalactites': 26908, 'drape': 9263, 'charioted': 5274, 'deviens': 8359, 'egoiste': 9739, 'kate': 16065, 'persecute': 20911, 'waylaid': 31242, 'racks': 22780, 'derangement': 8178, 'homicidal': 14022, 'hypochondriacal': 14382, 'leverage': 16768, 'kinship': 16174, 'tugs': 29445, 'transparently': 29145, 'grinby': 13053, 'stipend': 27165, 'tipp': 28799, 'carman': 4902, 'mick': 18145, 'invalids': 15543, 'mountaineer': 18711, 'reserves': 23740, 'shorthand': 25587, 'knobbed': 16230, 'curator': 7461, 'pincushions': 21212, 'lavrentyevitch': 16555, 'gainers': 12267, 'newfoundland': 19155, 'shovelling': 25611, 'blackwall': 3616, 'coursed': 7045, 'checkered': 5343, 'impenetrable': 14597, 'plaisir_': 21331, 'beseeches': 3399, 'archangels': 2131, 'knoweth': 16252, 'obtrusively': 19564, 'pursing': 22572, 'briefs': 4236, 'jested': 15843, 'capons': 4820, 'undervoice': 29834, 'shorten': 25582, 'verdicts': 30677, 'generalising': 12443, 'authoritatively': 2608, 'cæsarism': 7567, 'humanitarianism': 14251, 'liberalism': 16797, 'abstractly': 957, 'nettingalls': 19135, 'spencer': 26642, 'choristers': 5512, 'chaunt': 5328, 'insert': 15248, 'bounden': 4017, 'goodman': 12793, 'fleeching': 11510, 'wae': 30986, 'japanese': 15783, 'argumentatively': 2180, 'miscarried': 18311, 'masterpieces': 17780, 'probed': 22132, 'reloaded': 23465, 'camel': 4718, 'dromedary': 9362, 'blandest': 3638, 'vitally': 30876, 'dote': 9178, 'peat': 20674, 'idler': 14428, 'favouritism': 11074, 'degrade': 7970, 'recognizes': 23139, 'legitimately': 16695, 'lightheartedly': 16857, 'angled': 1827, 'numbing': 19432, 'carnivora': 4907, 'nirvana': 19239, 'serveth': 25285, 'bedded': 3152, 'parrys': 20444, 'sandersons': 24650, 'occurs': 19596, 'emphasizing': 9950, 'butcherly': 4562, '_protégés_': 647, 'storing': 27245, 'curtsied': 7510, 'avast': 2634, 'playtime': 21392, 'timofeyevna': 28776, 'bragging': 4089, 'ravenous': 22953, 'fangs': 10961, 'godfather': 12742, 'enfants': 10063, 'pirouetted': 21262, 'fluently': 11615, 'doat': 9033, 'indistinctness': 14967, 'restoratives': 23832, 'conjurers': 6526, 'plundering': 21475, 'overpower': 20124, '_boulanger_': 229, 'ayther': 2728, 'quartos': 22668, '_real': 660, 'ones_': 19772, 'legibly': 16690, 'balder': 2826, 'newcomers': 19152, 'lethargic': 16753, 'ivanov': 15730, 'sergyevna': 25265, 'numskulls': 19438, 'deliberating': 8004, 'flecks': 11503, 'wand': 31081, 'proletarians': 22240, 'scions': 24884, 'brigandage': 4243, 'eodins': 10247, 'discontents': 8673, 'espirito': 10348, 'santo': 24667, 'peppercorny': 20800, 'farinaceous': 10980, 'seedsman': 25116, 'tiers': 28726, 'bulbs': 4436, 'cropping': 7329, 'anselm': 1890, 'salvo': 24616, 'molland': 18500, 'duskily': 9505, 'thirties': 28560, 'faust': 11061, 'mountebanking': 18716, 'ashen': 2320, 'iced': 14397, 'blackheath': 3602, 'auspices': 2587, 'encircling': 9990, 'buckles': 4404, 'raucous': 22945, 'promptest': 22265, 'sorrel': 26463, 'zoologist': 32095, 'blundell': 3782, 'knotting': 16245, 'bounces': 4011, 'informant': 15104, 'parricide': 20437, 'criticise': 7290, 'vibrate': 30736, 'flowery': 11606, 'emancipate': 9863, 'macartney': 17372, 'crabbe': 7118, 'bodgers': 3843, 'physicians': 21105, 'abysses': 977, 'calverley': 4706, 'oiled': 19730, 'sickish': 25709, 'streak': 27323, 'dodge': 9056, 'welling': 31342, 'errocht': 10318, 'rannoch': 22883, 'microscopic': 18147, 'dusted': 9509, 'steamy': 27052, 'piebald': 21143, 'tass': 28197, 'sips': 25868, 'relished': 23463, 'contradictory': 6730, 'contrives': 6753, 'waveringly': 31227, 'tarred': 28181, 'crabby': 7119, 'environed': 10239, 'transitory': 29132, 'giver': 12602, 'remembrancer': 23494, 'où': 20202, 'gite': 12598, 'mai': 17451, 'joli': 15915, 'mois': 18488, 'aucharn': 2553, 'reviews': 23968, 'bewitched': 3477, 'strew': 27352, 'legislator': 16693, 'recites': 23112, 'glistered': 12674, 'parodied': 20432, 'heeded': 13718, 'xii': 31955, 'plucky': 21457, 'desmonds': 8251, 'westmoreland': 31374, 'intermixed': 15440, '_c_': 239, 'squatting': 26840, 'engrosses': 10100, 'flier': 11534, '_esmeralda_': 345, 'brazils': 4149, 'pasties': 20531, 'spiced': 26656, 'ortolan': 19933, 'truffled': 29381, 'beccaficoes': 3136, 'monticourt': 18573, 'hospitallers': 14140, 'harnit': 13486, 'hawks': 13589, 'recked': 23115, 'requester': 23697, 'deviations': 8356, 'moralists': 18617, 'minutiæ': 18276, 'cooing': 6818, 'expanded': 10640, 'invocation': 15594, 'delude': 8031, 'finance': 11333, 'careers': 4875, 'importune': 14659, 'retorts': 23883, 'snail': 26214, 'apoplexy': 1987, 'criest': 7257, 'salmon': 24593, 'reread': 23713, 'corresponds': 6933, 'creations': 7199, 'pasty': 20542, 'biling': 3524, 'brans': 4118, 'glo': 12679, 'ster': 27102, 'lushed': 17325, 'fetches': 11222, '_dead_': 299, 'yam': 31965, 'yammered': 31966, 'powney': 21796, 'moo': 18583, 'impressment': 14695, 'broiling': 4318, 'dudgeon': 9435, 'culinary': 7429, 'unmelodious': 30098, 'embargo': 9869, 'fences': 11175, 'historians': 13928, 'gennesaret': 12463, 'merrymaking': 18085, 'unlearned': 30068, 'weddings': 31300, 'plaintiff': 21326, 'heartrending': 13681, 'precipitation': 21868, 'enlargement': 10122, 'braided': 4091, 'swervin': 27954, 'manliest': 17601, 'sailin': 24555, '_insist_': 452, 'belabored': 3265, 'disrepair': 8888, 'dismantled': 8798, 'gossiped': 12826, 'limpid': 16911, 'immovably': 14564, 'weakling': 31256, 'stedfastness': 27054, 'mawkish': 17850, 'capers': 4809, 'apprehended': 2063, 'accountable': 1045, 'expound': 10733, 'constrain': 6631, 'filibusters': 11310, 'unmasked': 30096, 'moulding': 18702, 'ailed': 1469, 'escapes': 10332, 'cribbed': 7251, 'moored': 18601, 'greyer': 13015, 'dignities': 8487, 'veered': 30600, 'carnival': 4906, 'carrot': 4938, 'remould': 23534, 'judiciously': 15980, 'indulgences': 14996, '_been_': 213, 'misplaced': 18370, 'mediocrity': 17937, '_seemed_': 698, 'betook': 3446, 'garnished': 12365, 'fictitious': 11255, 'pronoun': 22271, 'embellished': 9881, 'samaritan': 24619, 'newyear': 19165, 'zeodind': 32080, 'consolidated': 6603, 'ferd': 11186, 'portside': 21698, 'guttering': 13254, 'accepts': 998, 'punctures': 22510, 'flaodinly': 11462, 'lozenge': 17240, 'grooming': 13091, 'discountenance': 8681, 'marshalled': 17720, 'perfunctory': 20855, 'pointless': 21523, 'molestation': 18498, 'practices': 21804, 'cleansed': 5728, 'reconstituted': 23172, 'inductive': 14991, 'infernally': 15067, 'luff': 17267, 'custodian': 7529, 'ot': 19955, 'childishness': 5433, 'liberated': 16801, 'footway': 11737, 'emanating': 9861, 'sediment': 25103, 'cures': 7468, 'biographies': 3542, 'heresy': 13803, 'blasphemously': 3652, 'fervor': 11211, 'tyutchev': 29585, 'seacoast': 25025, 'bezonian': 3479, 'oppressions': 19839, 'hideously': 13853, 'landholder': 16423, 'clime': 5789, 'albion': 1522, 'padlocked': 20228, 'bequest': 3370, 'articulation': 2288, 'housetops': 14186, 'parapets': 20377, 'snowball': 26277, 'poulterers': 21767, 'fruiterers': 12139, 'opulence': 19849, 'girthed': 12595, 'onions': 19776, 'mistletoe': 18400, 'pears': 20668, 'clustered': 5869, 'grapes': 12915, 'shopkeepers': 25568, 'dangle': 7648, 'filberts': 11302, 'mossy': 18677, 'shufflings': 25676, 'biffins': 3511, 'compactness': 6190, 'passionless': 20518, 'pilrig': 21198, 'medieval': 17935, 'pretexts': 22020, 'seers': 25129, 'meddler': 17924, 'unappeasable': 29647, 'seedy': 25117, 'forceps': 11762, 'roundhay': 24319, 'punjaubees': 22518, 'chilian': 5438, 'wallah': 31059, 'jabber': 15737, 'lingo': 16929, 'tomtoms': 28894, 'joué_': 15954, 'islet': 15696, 'jeopardy': 15827, 'cranial': 7155, 'spares': 26552, 'encouragements': 10007, 'parfait_': 20410, 'meagreness': 17879, 'twenties': 29527, 'venerating': 30633, 'cartels': 4949, 'defiances': 7939, 'ravensholme': 22956, 'sweating': 27923, 'towsy': 29026, 'grays': 12966, 'dyin': 9544, 'fathead': 11031, 'caviare': 5080, 'tableful': 28064, 'dependents': 8122, 'slack': 25973, 'daft': 7584, 'combustion': 6074, 'unlover': 30081, 'prefecture': 21905, 'obloquy': 19517, 'regrettable': 23354, 'hypothetically': 14387, 'kolbasnikov': 16268, 'dardanelov': 7659, 'persuader': 20955, 'waive': 31030, 'loser': 17174, 'continuously': 6713, 'commissions': 6149, 'doras': 9158, 'discreditably': 8700, 'indoor': 14980, 'trails': 29074, 'orbs': 19863, 'jarred': 15789, 'tragical': 29069, '16a': 32, 'blackboard': 3591, 'spurning': 26808, 'rhodomontade': 24015, 'overture': 20164, 'relator': 23421, 'necessitous': 19048, 'scrubbed': 24986, 'dueling': 9438, 'paramore': 20374, 'rekindle': 23406, 'breaches': 4151, 'slivers': 26081, 'skyward': 25970, 'prognostics': 22218, 'whimper': 31445, 'clots': 5834, 'menially': 18027, 'grandchildren': 12892, 'ethnological': 10398, 'hounslow': 14165, 'isleworth': 15698, 'impostors': 14673, 'plunderers': 21474, 'abounding': 923, 'gaols': 12333, 'sixties': 25904, 'seine': 25139, 'slumberously': 26115, 'divinest': 9016, 'duelling': 9439, 'encroachments': 10014, 'evited': 10466, 'spliced': 26709, 'plesiosaurus': 21423, 'zoologists': 32096, 'poke': 21538, 'narrowest': 18977, 'wayest': 31239, 'cod': 5931, 'dolphin': 9100, 'uneventful': 29898, 'damnation': 7617, 'howe': 14196, 'drammach': 9259, 'outgrowing': 19999, 'thickest': 28517, 'hosier': 14133, 'pomaded': 21588, 'adjure': 1209, 'averages': 2647, 'statistical': 27006, 'politico': 21570, 'formulas': 11873, 'obscurantist': 19520, 'statisticians': 27007, 'sages': 24548, 'dissipating': 8913, '_often_': 588, 'repudiation': 23682, 'punctuality': 22507, 'annihilated': 1862, 'disorganised': 8821, 'foxhound': 11962, 'grind': 13054, 'crops': 7330, 'pillaged': 21187, 'plundered': 21473, 'tadpole': 28084, 'tumbles': 29452, 'lenotchka': 16720, 'mithter': 18423, 'hown': 14203, 'cuthen': 7540, 'thith': 28564, 'prethent': 22021, 'hoffer': 13967, 'hany': 13419, 'termth': 28389, 'condethenthun': 6399, 'thide': 28523, 'thuperior': 28685, 'prithe': 22106, 'wakens': 31041, 'flippancy': 11546, 'presbyterian': 21959, 'wrangled': 31862, 'trenches': 29235, 'filch': 11303, 'mesmeric': 18090, 'landsman': 16435, 'sponges': 26734, 'combs': 6073, 'observable': 19532, 'whisperings': 31485, 'tam': 28128, 'macodin': 17390, 'falkirk': 10916, 'culloden': 7430, 'macdonalds': 17375, 'imputing': 14742, 'rade': 22784, 'scaur': 24830, 'judis': 15981, 'slouched': 26094, 'obligingness': 19508, '_learned': 489, 'see_': 25113, 'runneth': 24435, 'apricot': 2095, 'maudsley': 17840, 'kilburn': 16132, '_gamecock_': 390, 'unease': 29881, 'ewer': 10475, 'harrying': 13502, 'minever': 18243, 'monies': 18532, 'tagged': 28087, 'naping': 18956, 'tally': 28126, 'speedier': 26626, 'eruption': 10325, 'lees': 16667, 'disrespectability': 8892, 'commissionaires': 6145, 'confections': 6427, 'imposter': 14670, 'goneril': 12782, 'regan': 23322, 'tiff': 28728, 'boasts': 3825, 'grimaces': 13042, 'vagabonds': 30491, 'unfrequently': 29954, 'untimely': 30326, 'leith': 16702, 'remit': 23510, 'afternoons': 1392, 'libellous': 16793, 'fates': 11030, 'epitaph': 10264, 'harem': 13463, 'powerlessness': 21794, 'ciphering': 5583, 'gentlman': 12488, 'warded': 31110, 'compassed': 6209, 'unclenched': 29733, 'sardonically': 24685, 'configuration': 6456, 'staked': 26906, '_hominibus': 430, 'impossibile_': 14666, 'slipshod': 26078, 'disgorged': 8738, 'reeked': 23253, 'cultivation': 7438, 'teeming': 28281, 'classics': 5699, 'dana': 7628, 'stepmother': 27096, 'besiege': 3406, 'fishwife': 11407, 'unholiest': 30005, 'speechlessly': 26624, 'uninterrupted': 30034, 'processions': 22147, 'adult': 1276, 'coinage': 5972, 'densest': 8100, 'dutchman': 9516, 'hobble': 13955, 'larbey': 16467, 'jenkins': 15824, 'staphouse': 26953, 'stendals': 27087, 'towing': 29017, '_unchristian': 781, 'paraded': 20356, 'prosaicness': 22333, 'striven': 27382, 'lustreless': 17331, 'subjugated': 27495, 'corrupting': 6947, 'cancelling': 4746, 'jupiter': 16010, 'germ': 12511, 'plasm': 21357, 'parthenogenetic': 20456, 'resin': 23762, 'lihachof': 16865, 'bores': 3967, 'complainingly': 6243, 'besiegers': 3408, 'fondling': 11696, 'siamese': 25692, 'vanilla': 30534, 'mishap': 18357, 'absences': 935, 'flatterer': 11481, '_such': 728, 'conduct_': 6416, 'demur': 8071, 'grudgingly': 13141, '_out_': 599, 'impartial': 14579, 'spilled': 26670, 'valentine': 30506, 'generality': 12445, 'clamps': 5658, 'remotely': 23529, 'advantageously': 1286, 'maretas': 17663, 'thwarted': 28689, 'supermen': 27721, 'jolt': 15918, 'sofas': 26337, 'facilitated': 10844, 'saul': 24724, 'thirled': 28550, 'perishable': 20868, 'davis': 7718, 'tain': 28095, 'dunno': 9483, 'spends': 26645, 'hatches': 13538, 'clapham': 5674, 'articulating': 2287, 'flay': 11498, 'wharves': 31392, 'terraced': 28392, 'stimulating': 27152, 'turk': 29475, 'valuation': 30521, 'farewells': 10979, 'motions': 18692, 'recur': 23205, 'irreverently': 15673, '_vingt': 795, 'commiserating': 6136, 'bernstone': 3389, 'sots': 26478, 'grandiloquent': 12900, 'ponies': 21613, 'rosily': 24286, 'unprovoked': 30173, 'bleed': 3675, 'charmer': 5291, 'danish': 7652, 'insured': 15357, 'butterfly': 4573, 'medias': 17928, 'res': 23714, 'confidingly': 6455, 'dowster': 9229, 'kiender': 16130, 'visitant': 30861, 'tallow': 28125, 'overheated': 20102, 'holdeth': 13981, 'taketh': 28100, 'culminated': 7431, 'supervised': 27735, 'possets': 21715, 'sware': 27905, 'forsworn': 11887, 'perjurer': 20873, 'homelessness': 14011, 'misadventures': 18296, 'intelligibly': 15377, 'postulating': 21740, 'analytic': 1769, 'deducing': 7889, 'progression': 22222, 'treatise': 29207, 'pathology': 20560, 'unit': 30042, 'pillage': 21186, 'indue': 14992, '_a': 158, 'propos_': 22313, 'entirety': 10196, 'armstrong': 2228, 'budd': 4409, 'lushington': 17326, 'aviator': 2656, 'drivel': 9346, 'tungay': 29464, 'jugged': 15983, 'perlice': 20878, 'emmed': 9934, 'ard': 2156, 'counterplot': 7014, 'penniless': 20771, '_saw_': 688, 'slewed': 26047, 'swivel': 27993, 'rammer': 22857, 'weathers': 31289, 'resignedly': 23759, 'filial': 11308, 'fowling': 11958, 'muffling': 18773, 'yerself': 32018, 'shaky': 25370, 'voulu': 30955, 'conundrum': 6764, 'invidious': 15579, 'leggings': 16686, 'tags': 28088, 'fastener': 11015, 'senhor': 25185, 'penalosa': 20737, 'pereira': 20828, 'supplementary': 27744, 'designates': 8231, 'somethink': 26422, 'narrowness': 18980, 'stoically': 27198, 'ploughfolk': 21448, 'chice': 5409, '_non': 568, 'cuivis': 7427, 'contingit': 6702, 'adire': 1197, 'corinthum_': 6885, 'englander': 10087, 'bangor': 2888, 'maine': 17467, 'adorn': 1265, 'capitol': 4818, 'befit': 3195, 'dreaders': 9291, 'estavisham': 10373, 'rechris': 23099, 'ened': 10054, 'scathing': 24825, 'gauze': 12410, 'noddy': 19265, 'arrayed': 2250, 'baldric': 2828, 'motherless': 18684, 'petulantly': 21033, 'therese': 28505, 'cherie': 5380, 'coeur': 5942, 'toi': 28856, 'digs': 8492, 'riper': 24130, 'jour': 15938, 'fogle': 11657, 'coiffure': 5965, 'wenturs': 31357, 'fervency': 11208, 'covey': 7089, 'inquirer': 15213, 'egoism': 9737, 'tuesdays': 29438, 'completeness': 6254, 'unbridled': 29694, 'coldblooded': 5983, 'bravery': 4129, 'murderess': 18824, 'exceptions': 10531, 'foibles': 11660, 'loing': 17091, 'payer': 20635, 'billion': 3531, 'essen': 10358, 'waterside': 31211, 'emergence': 9915, 'wessex': 31363, 'sashed': 24691, 'lucid': 17251, 'bruiser': 4363, 'slaving': 26014, 'guaranteeing': 13163, 'overlooks': 20113, 'refutation': 23311, 'ultramontanism': 29604, 'vaudevilles': 30586, 'nerveless': 19119, 'sullenness': 27636, 'yefim': 32000, 'literal': 16980, 'excalibur': 10506, 'menagerie': 18019, 'absolve': 944, 'thumbprint': 28668, 'kingham': 16167, 'gibson': 12548, 'cutch': 7538, 'parroquet': 20440, 'dub': 9419, 'lacks': 16340, 'capon': 4819, 'warden': 31111, 'mollified': 18501, 'basement': 3000, 'holier': 13990, 'emasculate': 9866, 'crewler': 7246, 'genus': 12496, 'pterodactylus': 22444, 'dimorphodon': 8523, 'dwelled': 9531, 'inventor': 15558, 'ali': 1551, 'baba': 2733, 'shipmen': 25524, 'codfish': 5936, 'fishmonger': 11404, 'interim': 15418, 'unprofessional': 30166, 'abeyance': 883, 'crutches': 7402, 'spot_': 26758, 'breast_': 4167, 'salvatierra': 24610, 'vittoria': 30879, 'peddler': 20694, 'shil': 25502, 'potato': 21747, 'ruminate': 24413, '_absolutely_': 160, 'havanas': 13578, 'eulogies': 10405, 'lighthouse': 16858, 'assai': 2352, 'plaguiest': 21314, 'yestereven': 32022, 'brat': 4123, 'tamper': 28136, 'disc': 8629, 'ebony': 9629, 'overwork': 20172, 'inadmissible': 14752, 'haws': 13592, 'reinforcement': 23382, 'unskilled': 30267, 'penmanship': 20767, 'lauriston': 16542, 'inattention': 14767, 'cremona': 7229, 'fiddles': 11258, 'stradivarius': 27271, 'amati': 1676, 'advocates': 1317, 'sheering': 25460, 'cresting': 7239, 'orkney': 19917, 'shetland': 25482, 'pentland': 20789, 'lateness': 16504, 'scrapes': 24947, 'blowings': 3767, 'flout': 11599, 'truffle': 29380, 'nectarine': 19061, 'princesses': 22078, 'whiter': 31502, 'brandley': 4115, 'discomfiture': 8656, 'accustom': 1072, 'overcrowded': 20078, 'medway': 17950, 'drowsily': 9386, 'propounded': 22322, 'artfulness': 2279, 'freshest': 12052, 'odinevitch': 19636, 'schmertsov': 24854, 'epicurean': 10252, '_pâté': 649, 'foie': 11661, 'gras_': 12921, 'cobwebby': 5910, 'natalia': 18989, 'nikitishna': 19216, 'scoffers': 24889, 'fortify': 11901, 'wineglass': 31644, 'cumbered': 7443, 'physic': 21101, 'magnificence': 17437, 'costumes': 6970, 'discouragement': 8684, 'beguiled': 3235, '93': 155, 'navigating': 19017, 'sensationalism': 25197, 'uninviting': 30037, 'lithographs': 16987, 'mythological': 18913, 'unattractive': 29660, 'frequented': 12045, 'champs': 5204, 'elysées': 9856, 'bulged': 4440, 'anticipative': 1917, 'knell': 16214, 'pusillanimous': 22594, '_pan': 603, 'lumen': 17290, 'caeli': 4644, 'sancta': 24632, 'alternations': 1655, 'reveries': 23947, '150': 25, 'expiring': 10693, 'lm': 17025, 'linking': 16936, 'educates': 9695, 'mowbray': 18751, 'berwick': 3395, 'copeland': 6845, 'spake': 26538, 'odinional': 19646, 'egad': 9731, 'hamlets': 13352, 'watermills': 31208, 'huntsmen': 14319, 'bier': 3510, 'deadhouse': 7753, 'omened': 19754, 'shrines': 25647, 'confessionals': 6439, 'fratton': 12003, 'hustle': 14357, 'steiner': 27080, 'surikoff': 27800, 'vinney': 30820, 'tonic': 28906, 'apathy': 1964, 'starlit': 26968, 'protr': 22369, 'indefatigably': 14908, '_quelle': 654, 'honte': 14056, 'bathsheba': 3037, 'biblical': 3488, 'outpouring': 20022, 'maidenly': 17455, 'illogicality': 14489, 'markedly': 17680, 'diffidently': 8466, 'sojourning': 26358, 'filliped': 11320, 'shifty': 25500, 'digest': 8473, 'inartistic': 14765, 'richardson': 24034, 'richardsons': 24035, 'mastheaded': 17785, 'mountings': 18720, 'benjamin': 3359, 'cetemery': 5157, 'nows': 19410, 'thens': 28487, 'doo': 9141, 'chapling': 5243, 'outbursts': 19982, 'cardinals': 4867, 'odinbushes': 19625, 'dislocation': 8793, 'perfume': 20850, 'enumerate': 10227, 'reinstate': 23388, 'compute': 6316, 'eligibility': 9817, 'shadowing': 25354, 'thawed': 28463, 'waterproof': 31209, 'washable': 31160, 'pensively': 20786, 'powerfully': 21792, 'straps': 27305, 'mane': 17572, 'salvage': 24609, 'reversion': 23956, 'sel': 25145, 'bonnier': 3918, 'fatherly': 11036, 'unmasking': 30097, 'ingratiate': 15124, 'obduracy': 19476, 'templars': 28318, 'parsons': 20449, 'smokes': 26185, 'accomplishing': 1033, 'inhaling': 15140, 'prejudged': 21917, 'nobbed': 19243, 'inspected': 15283, 'discomforts': 8659, 'popping': 21639, 'negatived': 19081, 'incommodes': 14832, 'ceux': 5160, 'ont': 19783, 'timbered': 28761, 'residents': 23750, 'weald': 31261, 'lexicons': 16780, 'bonfire': 3909, 'reckons': 23123, 'promenade': 22246, 'accidented': 1008, 'hiss': 13921, 'houseled': 14179, 'shriven': 25653, 'misdoubts': 18335, 'pater': 20551, 'credo': 7216, 'timekeeper': 28767, 'waylight': 31244, 'tottenham': 28977, 'hampstead': 13365, 'sewell': 25332, 'inflammation': 15081, '_sans': 686, 'façon_': 11082, 'neglects': 19086, 'righteously': 24084, 'tyrannized': 29580, 'protégée': 22375, 'emancipating': 9864, 'spile': 26668, 'inconveniencing': 14868, 'scab': 24767, 'plenary': 21418, 'absolution': 943, 'gravediggers': 12952, 'nigger': 19192, 'lett': 16756, 'casuists': 5010, 'curtsying': 7512, 'silenus': 25776, 'phiz': 21080, 'su': 27479, 'chapman': 5244, 'futility': 12236, 'outwearied': 20052, 'misjudge': 18361, 'rebelling': 23063, 'sarvice': 24689, 'weesh': 31318, 'traded': 29049, 'bourdaloue': 4027, 'quietism': 22726, 'impute': 14739, '1869': 65, 'raggedly': 22807, 'uniformity': 30015, 'stimulates': 27151, 'sprites': 26794, 'hors': 14117, 'oeuvre': 19678, 'befooled': 3199, 'ooman': 19792, 'ri': 24023, 'ight': 14443, 'impracticality': 14680, '_trivial_': 775, '_delirium_': 302, '_psychology_': 648, '_cuts': 291, 'ways_': 31246, 'sobering': 26311, 'bodinms': 3856, 'straddle': 27268, 'almaviva': 1618, 'bielokonskis': 3506, 'blak': 3625, 'greefs': 12992, 'nomber': 19285, 'menne': 18029, 'opressid': 19845, 'conwict': 6815, 'jog': 15897, 'revilings': 23970, 'draughtsman': 9270, 'podkoleosin': 21499, 'bridegrooms': 4221, 'podkoleosins': 21500, '_tu': 776, 'dandin': 7640, 'billions': 3532, 'dandins': 7641, 'honeymoon': 14037, 'diluted': 8509, 'blacking': 3603, 'sustainance': 27868, 'paynim': 20640, 'upturning': 30424, '_after_': 167, 'gentles': 12484, 'mead': 17875, 'tentative': 28367, 'byronic': 4608, 'theatricality': 28471, 'tilter': 28756, 'discouraging': 8685, 'brusque': 4375, '_love_': 508, 'pittance': 21295, 'shoeless': 25553, 'adamant': 1159, 'tinder': 28780, 'uncompromising': 29747, 'breakfasts': 4162, 'peregrinations': 20826, 'arcana': 2128, 'install': 15297, '_there': 750, 'insurer': 15358, 'pregnant': 21915, 'conscience_': 6552, '_by': 237, 'hillo': 13885, 'waterfall': 31200, 'greyness': 13019, 'égal_': 32108, 'piped': 21237, 'substitutes': 27537, 'vegetating': 30605, 'wither': 31706, 'withstaff': 31713, 'baddlesmere': 2783, 'cutler': 7543, 'ounce': 19974, 'shuttered': 25682, 'hearting': 13678, 'faceless': 10836, 'reinspired': 23387, 'junctions': 16002, 'loquacious': 17160, 'bullied': 4452, 'unman': 30087, 'unbreeched': 29693, 'soothsayer': 26450, 'waterlogged': 31204, 'id': 14405, 'celebrating': 5101, 'rouged': 24305, 'improvable': 14711, 'montague': 18562, 'ful': 12159, 'fawners': 11078, 'plotters': 21444, 'dyke': 9546, 'ameliorating': 1697, 'tatter': 28210, 'clappermaclaw': 5677, 'recitals': 23107, 'reciter': 23111, 'histories': 13931, 'mediterranean': 17944, 'needlefuls': 19068, 'enmore': 10129, 'checkmate': 5345, 'unworthily': 30373, 'preside': 21982, 'wouldest': 31851, 'shouldest': 25599, 'disbanded': 8623, 'barristers': 2983, 'mentions': 18039, 'heugh': 13837, 'inappropriately': 14760, 'rôles': 24482, 'dubs': 9424, 'beggarman': 3213, 'oversight': 20143, 'descendant': 8199, 'aberdeen': 879, 'munich': 18811, 'trombone': 29329, 'anciently': 1791, 'swilling': 27962, 'bituminous': 3585, 'araucaria': 2114, 'botanist': 3987, 'bats': 3040, 'unwatched': 30353, 'unwept': 30360, 'uncared': 29705, 'depress': 8159, 'encrusting': 10015, 'cabby': 4624, 'bayswater': 3071, 'redbridge': 23211, 'covenanter': 7071, '_always_': 180, 'nearness': 19035, 'queerer': 22682, 'stuffs': 27442, 'drudgery': 9393, 'hekern': 13745, 'thieved': 28525, 'complaisantly': 6249, 'dwarfs': 9529, 'basilisk': 3011, 'prester': 21996, 'mandeville': 17571, 'refectory': 23262, 'syracuse': 28048, 'sicily': 25701, 'blithely': 3717, '_father': 365, '_where_': 822, 'shifts': 25499, 'expedients': 10661, 'meanly': 17894, 'consistently': 6593, 'archly': 2149, 'intractable': 15501, 'dispassionate': 8828, 'limehouse': 16891, '_firstly_': 374, '_secondly_': 696, '_thirdly_': 755, 'coincide': 5973, 'whitefriars': 31496, 'odessa': 19616, 'jewesses': 15864, 'jewkins': 15866, 'manuals': 17635, 'houselessness': 14181, 'garding': 12350, 'denners': 8086, 'limmer': 16903, 'contrar': 6735, 'suspeckit': 27851, 'wean': 31266, '140': 19, 'thretty': 28626, 'mumblin': 18798, 'gloamin': 12680, 'fearin': 11089, 'gane': 12325, 'pleesure': 21415, 'sib': 25693, 'endor': 10040, 'threep': 28622, 'thrapples': 28601, 'thir': 28547, 'mercifully': 18057, 'nicer': 19170, 'wagonette': 31005, 'howsever': 14205, 'maidish': 17457, 'governorship': 12850, 'conjunctions': 6521, 'nikolas': 19219, '1820': 54, 'sealing': 25030, 'incandescent': 14775, 'threaded': 28610, 'dummy': 9471, 'ventilators': 30653, 'ventilate': 30651, 'removals': 23536, 'midshipmen': 18163, 'reprobate': 23657, 'watkin': 31215, 'sowley': 26528, 'exemption': 10590, 'influencing': 15097, 'gurot': 13243, 'cue': 7421, 'expiation': 10689, 'butchers': 4563, 'publican': 22446, 'preliminaries': 21923, 'leased': 16624, 'registrars': 23347, 'emolument': 9935, 'cheaply': 5334, 'inadvertency': 14754, 'naïveté': 19025, 'canvassing': 4797, '_letting_': 495, 'cherries': 5387, 'slaying': 26021, 'sweltering': 27951, 'markets': 17686, 'inapplicable': 14758, 'caste': 4993, '_con_': 276, '_amore_': 185, 'artifice': 2289, '_recollecting_': 666, 'butchery': 4564, 'dysart': 9548, 'hardiness': 13453, 'irrational': 15648, 'verification': 30686, 'rind': 24106, 'decanted': 7810, 'intoxicating': 15499, 'liquorice': 16956, 'diluting': 8510, 'poulterer': 21766, 'exordium': 10638, 'prong': 22270, 'despots': 8287, 'cicero': 5569, 'copernicus': 6847, 'emphasize': 9947, 'signalled': 25744, 'bounced': 4010, 'masonic': 17756, 'ploughed': 21447, 'shriveled': 25651, 'genoa': 12464, 'boccanegra': 3839, 'ninny': 19233, 'swamping': 27897, 'surest': 27786, 'orgies': 19897, 'empyrean': 9971, 'intestate': 15480, 'bridles': 4232, 'whirr': 31470, 'stept': 27101, 'diggers': 8477, 'jangle': 15776, 'dolores': 9098, 'frauds': 12006, 'meaty': 17912, 'cruellest': 7377, 'oared': 19467, 'captaincy': 4833, 'likeways': 16876, '_jesus': 463, '_even': 351, 'stradegers': 27270, 'roob': 24260, 'entertains': 10183, 'quelle': 22687, 'inquiétude': 15225, 'carte': 4947, 'disputants': 8871, 'gothic': 12831, 'athlete': 2469, 'gesticulation': 12521, 'grimesby': 13046, 'pantingly': 20329, 'obsolete': 19548, 'unmaidenly': 30086, 'harshest': 13505, 'epithets': 10266, 'patronized': 20589, 'louster': 17205, 'toodle': 28911, 'herbergage': 13791, 'honore': 14046, 'stoups': 27255, 'hogshead': 13969, 'messmates': 18099, 'cockerel': 5921, 'conversable': 6777, 'sodom': 26334, 'hussies': 14355, 'shins': 25515, 'sulks': 27632, 'faraway': 10969, 'sipped': 25866, 'cribbage': 7250, 'reckonings': 23122, 'debar': 7784, 'semble': 25165, 'monde': 18522, 'spassof': 26573, 'orgy': 19898, 'adjuration': 1207, 'prostration': 22349, 'contemptibly': 6679, 'habitation': 13272, 'daringly': 7669, 'fishmongers': 11405, 'incriminating': 14887, 'exponents': 10718, 'brisons': 4284, 'nazar': 19022, 'mischances': 18316, 'unlocking': 30077, 'allegorical': 1581, 'connects': 6534, 'antlers': 1935, 'equity': 10288, 'giggled': 12559, 'headings': 13623, 'implicates': 14634, 'hooted': 14074, 'flicker': 11530, 'wolfenbach': 31740, 'clermont': 5764, 'necromancer': 19058, 'caustic': 5059, 'trundling': 29391, 'pedlars': 20702, 'isaac': 15688, 'mantelshelf': 17626, 'sunderland': 27671, 'combining': 6072, 'carpentry': 4924, 'coaching': 5881, 'enterprising': 10173, 'greener': 12996, 'yellower': 32006, 'astounds': 2441, 'psychologist': 22438, 'blameable': 3627, 'croyez': 7366, 'serai': 25249, 'calme': 4697, 'hauteur': 13576, 'sacré': 24516, '200': 86, 'rote': 24293, 'conned': 6535, 'bodice': 3844, 'twine': 29537, 'slacken': 25974, 'fibres': 11248, 'hardworking': 13460, 'photography': 21094, 'womanhood': 31744, 'enthroned': 10186, 'impiety': 14625, 'helper': 13758, 'stormed': 27248, 'forefront': 11784, 'tippet': 28801, 'cuckow': 7415, 'hursts': 14338, 'titter': 28825, 'interrupter': 15464, 'viscous': 30851, 'lagoons': 16369, 'wealden': 31262, 'solenhofen': 26379, 'planet': 21339, 'amputated': 1750, 'crematory': 7228, 'rodenhurst': 24214, 'enfeebled': 10064, 'obstinater': 19554, 'hanover': 13415, 'chaperon': 5238, 'commodore': 6160, 'wyndham': 31950, 'entrenched': 10220, 'decoction': 7862, 'wherry': 31428, 'unsubdued': 30294, 'ruffianly': 24385, 'souviens': 26522, 'lisez': 16959, 'livres': 17020, 'kermesse': 16104, 'petite': 21011, 'marchons': 17659, 'hungerton': 14305, 'cockatoo': 5917, 'bimetallism': 3537, 'manorial': 17616, 'communal': 6173, 'periodically': 20864, 'lawsuits': 16565, 'invective': 15548, 'economist': 9657, 'diffusely': 8469, 'stoutness': 27262, 'younge': 32046, 'bribery': 4210, 'procrastinating': 22153, 'trumpery': 29385, 'tragedies': 29066, 'amassing': 1673, 'panes': 20313, 'sendall': 25178, 'nobs': 19257, 'wigwams': 31567, 'cet': 5156, 'referable': 23264, 'desponding': 8282, '_omne': 590, 'ignotum': 14461, 'magnifico_': 17440, 'pestilences': 21000, 'ninepence': 19227, 'kinchin': 16149, 'liege': 16829, 'dunn': 9482, 'originators': 19913, 'uncheerful': 29722, '_b_': 207, 'elucidated': 9850, 'dawson': 7732, 'adjective': 1200, 'reflexes': 23285, 'brisker': 4281, 'vixenish': 30889, 'trenck': 29236, '_foundation_': 384, 'snorted': 26270, 'paresis': 20409, 'pullet': 22478, 'deputed': 8171, 'dubiety': 9420, 'strategic': 27310, 'conseil': 6563, 'kremlin': 16286, 'scientifically': 24880, 'riots': 24124, 'juan': 15967, 'fricassee': 12065, 'sweetbread': 27933, 'asparagus': 2339, 'stander': 26937, 'fraudulently': 12008, 'unruffled': 30226, 'eldritch': 9787, 'pith': 21285, 'laboriously': 16313, 'plod': 21434, 'starched': 26960, 'lousy': 17206, 'forepaws': 11801, 'occupier': 19586, 'membrane': 17994, 'velocity': 30622, 'westhouse': 31372, 'marbank': 17650, 'importers': 14655, 'fenchurch': 11176, 'throgodin': 28645, 'croquet': 7331, 'victual': 30757, 'geysers': 12532, 'thongs': 28572, 'odinrds': 19663, 'orifice': 19903, 'funnels': 12197, 'mirthfully': 18292, 'weltered': 31347, 'unaccountably': 29625, 'inaccuracies': 14747, 'falters': 10933, 'unfaith': 29913, 'kimono': 16147, 'nursin': 19449, 'besmudged': 3413, 'confiscation': 6470, 'provident': 22389, 'remittances': 23512, 'scart': 24820, 'upo': 30400, '_month_': 545, 'equably': 10270, 'stevenson': 27114, 'threadneedle': 28612, 'chrisen': 5518, 'hairpin': 13310, '_had': 408, 'been_': 3182, 'stanleys': 26949, 'burtons': 4535, 'hops': 14092, 'carbine': 4855, 'tonga': 28901, 'cocoa': 5930, 'eleventh': 9811, 'singapore': 25838, 'jiddah': 15872, 'malay': 17507, '_blunder_': 224, 'involvement': 15602, 'disingenuousness': 8777, 'bittern': 3582, 'sinning': 25861, 'preaches': 21841, 'essayed': 10355, 'specialty': 26594, 'northwards': 19332, 'postponed': 21736, 'handwritings': 13399, 'reclaim': 23125, 'taunted': 28221, '_traditore_': 774, 'superadd': 27696, 'arbalestier': 2116, 'knolles': 16240, 'mitigation': 18426, 'moralize': 18619, 'overmasters': 20117, 'copeck': 6843, 'middlebay': 18153, 'sich': 25700, 'ecod': 9652, 'balaam': 2822, 'ulysses': 29606, 'deceives': 7823, 'nurtured': 19451, 'mutilated': 18881, 'dragoons': 9247, 'balquhidder': 2851, 'rife': 24070, 'leaks': 16603, 'clansmen': 5672, 'heigh': 13732, 'westgate': 31371, 'chant': 5230, 'unhumanly': 30008, 'artfull': 2277, 'homer': 14014, 'treatises': 29208, 'agriculture': 1455, 'secures': 25093, 'jenkin': 15823, 'temptingly': 28332, 'horsemanship': 14122, 'inverara': 15561, 'dramatist': 9258, 'staged': 26880, 'denouement': 8092, 'timetable': 28770, 'innocents': 15199, 'harmoniously': 13480, 'embellish': 9880, 'decorous': 7869, 'ladylike': 16359, 'snuffed': 26288, 'puncheon': 22500, 'banishment': 2892, 'reds': 23238, 'wizened': 31732, 'splotch': 26716, 'dungaree': 9480, 'crinkled': 7275, 'hiccoughing': 13846, 'outpourings': 20023, 'simple_': 25811, 'towed': 29008, 'curiousity': 7476, 'unappreciated': 29648, 'unfriended': 29955, 'feigning': 11142, 'evildoer': 10460, 'ore': 19882, 'squeals': 26849, 'porcelain': 21649, 'oppresses': 19836, 'yorkist': 32041, 'conditional': 6401, 'prelate': 21922, 'bemuddled': 3325, 'slopes': 26087, 'banbury': 2863, 'chimerical': 5449, 'fomushka': 11689, 'digestion': 8475, 'tactlessness': 28083, 'culpon': 7433, 'surgeons': 27795, 'castanet': 4989, 'bloodhound': 3735, 'pacify': 20209, 'rectory': 23202, 'demean': 8043, 'ceremonies': 5135, 'boned': 3906, 'babyhood': 2748, 'punishments': 22517, 'vigils': 30774, 'penitential': 20761, 'lepelletier': 16730, '_me': 525, 'mimic': 18224, 'lineage': 16918, 'malf': 17518, 'manors': 17617, 'bisterne': 3570, 'mailed': 17463, 'afforestation': 1367, 'confiscated': 6469, 'descendants': 8200, 'encroachment': 10013, 'pannage': 20319, 'sylva': 28016, 'centum': 5129, 'porcis': 21653, 'parchments': 20391, 'subserviency': 27522, 'prostitute': 22346, 'citadel': 5615, 'hearer': 13652, 'odinate': 19621, 'espy': 10350, 'disloyally': 8794, 'dispossessed': 8865, 'lych': 17349, 'variously': 30562, 'bestriding': 3433, 'equipments': 10286, 'proudest': 22378, 'daïs': 7745, 'harringby': 13494, 'ffolliott': 11238, 'hynes': 14379, 'purdley': 22537, 'forton': 11907, 'joshua': 15932, 'walsling': 31071, 'holler': 13993, 'crenelated': 7230, 'loopholes': 17145, 'mullioned': 18785, 'jiggered': 15875, 'supposititious': 27768, 'overhangs': 20095, 'babylonian': 2751, 'syrian': 28049, 'maw': 17849, 'impure': 14736, '18': 49, 'sedulous': 25111, 'pecked': 20682, 'conduce': 6412, 'teetotaler': 28285, 'scored': 24903, 'lightsome': 16864, 'corniced': 6901, 'canopied': 4779, 'bevis': 3469, 'hampton': 13367, 'diapered': 8422, 'flemish': 11520, 'settees': 25299, 'unpolite': 30151, 'helston': 13766, '500': 132, 'religiously': 23457, 'hereabout': 13796, 'capsizing': 4829, 'dissevered': 8907, 'baser': 3002, 'enrolment': 10147, 'brigandines': 4245, 'brassarts': 4121, 'surcoats': 27782, 'adorning': 1267, 'petrel': 21017, 'whit': 31492, 'musgraves': 18848, 'embalm': 9867, 'bowery': 4038, 'tito': 28823, 'castalotte': 4988, 'zamba': 32064, 'brooklyn': 4335, 'holyhead': 14006, 'idolatry': 14435, 'cholera': 5495, '_hand_': 413, 'nuisances': 19421, 'decrepitude': 7881, 'loathly': 17043, 'dormouse': 9163, 'attends': 2519, 'dissenter': 8903, 'imitator': 14535, 'incarnation': 14782, 'insomnia': 15280, 'reassures': 23053, 'evaporating': 10425, 'padlock': 20227, 'surpliced': 27816, 'assortment': 2412, 'asseverating': 2384, 'cramond': 7148, 'plainness': 21323, 'foreheads': 11792, 'steamers': 27049, 'spluttered': 26719, 'agasha': 1399, 'cossack': 6959, 'anglo': 1829, 'jap': 15781, 'lunnon': 17309, 'concerted': 6353, 'swerving': 27955, 'inadvertence': 14753, 'quackery': 22622, 'skillful': 25930, 'complement': 6250, 'barter': 2989, 'administer': 1218, 'dolls': 9096, 'despoil': 8276, 'misanthropes': 18298, 'coexistence': 5943, 'unsociability': 30272, 'retrospect': 23901, 'felicitations': 11146, 'incautious': 14783, 'sheaf': 25437, 'tressels': 29246, 'ophthalmic': 19816, 'patronise': 20584, 'perambulation': 20802, 'syringes': 28050, 'penknives': 20765, '_débris_': 323, 'intimidation': 15491, 'sentinels': 25232, 'ochone': 19600, 'sneyd': 26248, 'poof': 21619, 'dmitrovsky': 9031, 'cicatrised': 5568, 'cinders': 5578, 'manned': 17605, 'corked': 6888, 'naebody': 18925, 'football': 11716, 'cantankerous': 4784, 'eisenschmidt': 9757, 'hyperbolical': 14380, 'demoiselle': 8056, 'bombardment': 3895, 'licentiate': 16816, 'beckstein': 3142, 'mitigate': 18424, 'reassurance': 23050, 'deformation': 7956, 'preface': 21900, 'gourds': 12836, 'yams': 31967, 'juries': 16014, 'ineddicated': 15007, 'bodices': 3845, 'repining': 23609, 'avocations': 2664, 'cardsharper': 4869, 'coinciding': 5977, '_kammerherr_': 470, 'colt': 6050, 'gramercy': 12884, 'bedraggled': 3163, 'mulish': 18781, 'whipcord': 31458, 'leaky': 16604, 'ferrule': 11204, 'gallon': 12295, 'prospectively': 22337, 'stoicism': 27199, 'beached': 3077, 'pinnacles': 21225, 'japan': 15782, 'frippery': 12097, 'scaring': 24816, 'direst': 8575, 'unfortunates': 29949, 'accredited': 1052, 'merivale': 18074, 'memoranda': 18001, 'refine': 23271, 'comprehensible': 6293, 'instil': 15318, 'subjugate': 27494, 'notepaper': 19357, 'condone': 6409, 'mopped': 18611, 'carnivorous': 4908, 'dinosaur': 8546, 'snorter': 26271, 'births': 3558, 'vexes': 30731, '_embarras': 334, 'richesse_': 24038, 'vindicated': 30807, 'aspersion': 2344, 'strengthening': 27341, 'condoned': 6410, 'restive': 23826, 'punctiliousness': 22505, 'inducements': 14987, 'recoil': 23141, 'encompasses': 9998, 'khitmutgar': 16115, '_marry_': 518, 'belladonna': 3291, 'poisons': 21536, 'eyeglass': 10818, 'descrying': 8215, 'revealest': 23914, 'lookest': 17130, 'deignest': 7980, 'showman': 25622, 'disposes': 8861, '_notre': 575, 'sainte': 24561, 'russie_': 24452, 'alphabets': 1637, 'belshazzar': 3314, 'districts': 8969, 'conservatory': 6573, 'decorate': 7864, 'prohorovitch': 22232, 'schemer': 24849, 'mangles': 17581, 'fulham': 12166, 'devon': 8379, 'hunts': 14317, 'kennelled': 16091, 'heinous': 13739, 'sabbaths': 24487, 'featherweight': 11106, 'down_': 9214, 'heeling': 13724, 'interject': 15420, 'wakening': 31040, 'unconvinced': 29765, 'reasonings': 23045, 'proffering': 22193, 'vibrations': 30740, 'plug': 21458, 'overflowings': 20092, 'congealed': 6495, 'misanthropic': 18299, 'sprigs': 26783, 'grocers': 13084, 'pageant': 20236, 'fined': 11344, 'fledged': 11505, 'guion': 13208, 'steamship': 27051, 'grinds': 13059, 'clam': 5645, 'gizzard': 12606, 'cyprus': 7564, 'stuttering': 27470, '_enfin': 340, 'perdu': 20824, 'pertinacity': 20966, '_no_': 567, 'marta': 17727, 'hurries': 14334, 'bewhiskered': 3473, 'holders': 13980, 'pavilions': 20623, 'percies': 20819, 'beauchamps': 3118, 'tritons': 29310, 'conch': 6358, 'champed': 5198, 'styles': 27474, 'sluicing': 26110, 'askit': 2333, 'girn': 12590, 'frichtit': 12066, 'thegether': 28480, 'chafts': 5172, 'inquietude': 15210, 'aggrandizement': 1412, 'pursuance': 22573, 'islington': 15699, 'neil': 19109, 'chancy': 5211, 'statesmen': 26997, 'hydrocarbon': 14370, 'sergay': 25262, 'reginald': 23341, '_master_': 519, 'toulon': 28993, '_forgets_': 380, 'egypt': 9745, '_wastes_': 812, 'vilna': 30804, 'altars': 1642, 'sightless': 25740, 'stubbly': 27418, 'interlocked': 15428, 'prognathous': 22217, 'simious': 25802, 'obliquity': 19510, 'ecliptic': 9651, 'atavism': 2459, 'aptitudes': 2104, 'ancestry': 1785, 'profounder': 22209, 'craftily': 7135, 'gotten': 12833, 'bloodied': 3737, 'momently': 18510, 'smuggle': 26208, 'yoongster': 32037, 'bloonderstone': 3749, 'sooffolk': 26438, 'huswifes': 14360, 'giggling': 12560, 'wearisomely': 31279, 'swamps': 27898, 'bane': 2882, 'hautboy': 13574, 'hautboys': 13575, 'chili': 5437, 'gardeners': 12347, 'currants': 7485, 'cept': 5132, 'narratives': 18972, 'reentered': 23260, 'sorrily': 26464, 'deferential': 7934, 'pliant': 21430, 'intuitively': 15532, 'fighter': 11289, 'jangling': 15778, 'inaugurate': 14772, 'conferring': 6433, 'incommode': 14830, 'focused': 11645, '_wished_': 831, 'piston': 21271, 'lateral': 16507, 'arbitrament': 2119, 'porochially': 21665, 'affablest': 1333, 'passably': 20504, 'aggrandise': 1411, 'muff': 18768, 'consecutive': 6562, 'gaspings': 12390, 'clutchings': 5876, 'intriguer': 15506, 'deride': 8184, 'succour': 27564, 'consoler': 6602, 'precipices': 21863, 'charly': 5285, 'pantomimic': 20332, 'scragging': 24938, 'goodish': 12791, 'diagnose': 8409, 'specialists': 26591, 'mattei': 17823, 'milan': 18181, 'hoff': 13966, 'redintegratio': 23225, 'awed': 2699, 'reigate': 23372, 'diplomacy': 8554, 'impede': 14590, 'fortifications': 11899, 'flog': 11565, 'novgorod': 19403, 'scowls': 24934, 'apostrophising': 1993, 'fledgling': 11506, 'diffuse': 8467, 'retainers': 23862, 'sufficeth': 27590, 'bowling': 4043, 'railleries': 22817, 'earshot': 9585, 'shoutings': 25606, 'sprawled': 26771, 'rudge': 24375, 'whitworth': 31511, 'saddlebag': 24523, 'spanner': 26547, 'oilcan': 19728, 'dominating': 9117, 'achieve': 1085, 'provincials': 22397, 'paling': 20275, 'pershore': 20923, 'buffs': 4424, 'sadovy': 24532, 'opposites': 19832, 'brenda': 4194, 'filmy': 11322, 'hight': 13879, 'sniffing': 26252, 'surrogate': 27830, 'backer': 2763, 'paragon': 20363, 'crape': 7161, 'darkies': 7677, 'durands': 9497, 'unfledged': 29937, '_air_': 172, '_meaning_': 527, 'commoner': 6162, 'nobleness': 19251, 'manifold': 17596, 'submiss': 27504, 'screed': 24963, 'widen': 31545, 'numbskull': 19435, 'stickin': 27123, 'abhorred': 885, 'extermination': 10766, 'sweeting': 27940, 'mechante': 17917, 'bugleman': 4428, 'nolly': 19282, 'industrial': 15002, 'audaciously': 2557, 'consumptives': 6656, 'stokes': 27203, 'fife': 11283, 'lothian': 17184, 'kenna': 16088, 'gowls': 12853, 'tirls': 28815, 'blae': 3621, 'muir': 18775, 'gants': 12329, 'rickle': 24045, 'stanes': 26945, 'spin': 26672, 'distort': 8946, 'etait': 10389, 'seul': 25309, '_dans': 295, 'antichambre': 1910, 'étais': 32111, 'surexcité': 27788, 'parlait': 20420, 'tas': 28191, 'chases_': 5308, 'digne': 8482, 'rattons': 22944, 'reforming': 23290, 'guaranteed': 13162, 'infecting': 15057, 'nightmares': 19205, 'indigestion': 14946, 'leo': 16725, 'tolstoy': 28881, 'journalists': 15943, 'articulately': 2286, 'polecats': 21549, 'legendary': 16683, 'decabrist': 7806, 'siberian': 25695, 'vanquishing': 30544, 'vanquish': 30542, 'palmyra': 20285, 'inaccessibility': 14745, 'strategically': 27311, 'appallingly': 1997, 'omelette': 19752, 'hunk': 14307, 'shaly': 25377, 'odinsons': 19667, 'naturalised': 19000, 'buccaneering': 4391, 'haggled': 13294, 'roughening': 24308, 'blare': 3647, 'maidless': 17458, 'infallibility': 15040, 'mouldy': 18703, '_n': 562, 'parlons': 20427, 'parce': 20384, 'mal': 17500, 'extras': 10791, 'terriers': 28399, 'irksomeness': 15634, 'captives': 4841, 'revealing': 23915, 'alfred': 1547, 'consultations': 6645, '27': 103, 'compounding': 6289, 'transportation': 29154, 'laddie': 16349, 'accuses': 1070, '_port': 632, 'carrénage_': 4943, 'thoroughgoing': 28581, 'machination': 17379, 'contrivers': 6752, 'swishing': 27985, 'instep': 15313, 'wafer': 30987, 'hieroglyphics': 13864, 'warmint': 31138, 'apprentices': 2072, 'rotating': 24292, 'diagrams': 8411, 'accoutred': 1050, 'characterises': 5253, '_métier_': 561, 'mistakenly': 18395, 'rebuilding': 23069, 'disinherit': 8778, 'teutonic': 28433, 'depreciatory': 8158, 'rowe': 24341, 'consultant': 6643, 'surgical': 27798, 'hon': 14027, 'lowry': 17236, 'interruptions': 15467, 'cocksure': 5928, 'hued': 14221, 'goori': 12800, 'adjuring': 1211, 'biddeth': 3496, 'courtesies': 7052, 'nourish': 19387, 'ryliev': 24476, 'entrails': 10204, '_tete': 738, 'tete_': 28430, 'gaieties': 12261, 'accompagnerez': 1022, 'impact': 14573, 'clawing': 5714, 'miscalculated': 18308, 'unscrewed': 30237, 'unrecognised': 30198, 'souring': 26509, 'craves': 7172, 'potts': 21761, 'brainless': 4096, 'whitening': 31501, 'falsification': 10928, 'defalcation': 7912, 'boone': 3943, 'colonials': 6034, 'repositories': 23631, 'rums': 24427, 'shanties': 25393, 'meats': 17911, 'intercept': 15401, 'organizers': 19893, 'underrate': 29810, 'resulted': 23848, 'jan': 15773, '1856': 59, 'nov': 19394, '1st': 84, 'calumnious': 4704, 'whiled': 31440, 'blights': 3696, 'unwarily': 30350, 'dairy': 7595, 'forsaking': 11882, 'pepin': 20798, 'mange': 17577, 'botheration': 3990, 'batten': 3042, 'truculently': 29373, 'fishier': 11400, 'fishiest': 11401, 'bargained': 2938, 'kelson': 16086, 'perversity': 20987, 'adaptable': 1163, 'unstudied': 30293, 'godspeed': 12752, 'huzza': 14364, 'piazza': 21116, 'kidd': 16121, 'watercourse': 31196, '_glad_': 396, 'catacomb': 5014, 'courtliness': 7056, '249': 98, 'bases': 3003, 'cleaving': 5741, 'avodinche': 2665, 'steeps': 27073, 'dwarfed': 9527, 'maladies': 17502, 'martens': 17728, 'pronouns': 22275, 'implanted': 14630, 'awes': 2701, 'littleness': 16996, 'gag': 12258, 'creasing': 7193, 'pastor': 20534, 'carpentering': 4923, 'option': 19848, '_roost_': 678, 'cauldrons': 5052, 'neighbourhoods': 19105, 'roller': 24234, 'canisters': 4764, 'almonds': 1621, 'cinnamon': 5579, 'candied': 4751, 'caked': 4662, 'figs': 11293, 'pulpy': 22485, 'plums': 21471, 'tartness': 28189, 'wicker': 31536, 'daws': 7731, 'lepidopterist': 16735, 'catcher': 5024, 'senegal': 25183, 'endwise': 10052, 'persecutor': 20916, 'clouding': 5838, 'ruddiness': 24369, 'impersonation': 14615, 'reversal': 23950, 'registration': 23348, 'fui': 12158, 'imberbis': 14524, 'juvenis': 16037, 'custode': 7528, 'remoto': 23533, 'interrogated': 15456, 'deponed': 8131, 'thickening': 28514, 'strangulation': 27302, 'blowed': 3763, 'monogram': 18539, 'tilling': 28750, 'wahsatch': 31007, 'tripod': 29305, 'teem': 28279, 'stenographic': 27089, 'pertaining': 20964, 'mystify': 18909, 'wallow': 31065, 'skewered': 25921, 'fob': 11643, 'wishful': 31684, 'stirrups': 27180, 'entertainingly': 10180, 'disturbances': 8978, 'octagonal': 19602, 'font': 11699, 'onfall': 19774, 'demoralized': 8068, 'journalist': 15941, 'taxicab': 28237, 'vyek': 30974, 'lyov': 17361, 'kambek': 16047, 'survivor': 27846, 'furies': 12203, 'larks': 16480, 'argumentative': 2179, 'banter': 2911, 'amalgamated': 1667, '_periodical_': 625, 'unimaginable': 30017, 'changelings': 5222, 'reputably': 23690, 'devotee': 8383, 'dilettante': 8504, 'séance': 28054, 'judicial': 15978, 'indecent': 14902, 'homeric': 14015, 'defiled': 7948, 'unashamed': 29652, 'relict': 23445, 'actionable': 1136, 'claimant': 5639, 'biled': 3523, 'unsoftened': 30274, 'relinquishment': 23461, 'revisit': 23973, 'remand': 23478, 'domination': 9118, 'ramrod': 22864, 'artisans': 2296, 'vegetated': 30604, 'unpresentable': 30161, 'cackled': 4636, 'intimates': 15486, 'unaccustomed': 29628, 'clumping': 5860, 'kinsinan': 16175, 'misdoobt': 18333, 'sayin': 24762, 'wale': 31048, 'pleesures': 21416, 'arranger': 2244, 'essaying': 10356, 'facetiousness': 10841, 'imperfections': 14605, 'invests': 15577, 'tidiest': 28718, 'clearinghouse': 5734, 'specialism': 26589, 'omniscience': 19767, 'bimetallic': 3536, 'holed': 13986, 'unbends': 29679, 'tchernosvitoff': 28245, 'sappho': 24673, 'phaon': 21046, 'bodkins': 3858, 'crosser': 7337, 'bondswoman': 3904, 'ief': 14441, 'superciliousness': 27703, 'authenticity': 2600, '1647': 30, 'caitiff': 4659, 'germs': 12516, 'subscribe': 27514, 'babble': 2734, 'annihilate': 1861, 'efface': 9704, 'hetaira': 13834, 'preodined': 21945, 'thimbleful': 28531, '_evenings': 353, 'dikanka_': 8493, 'renting': 23568, 'ghastliness': 12534, 'almoner': 1622, 'desborough': 8197, 'esparre': 10343, 'islanders': 15692, 'disband': 8622, 'hampi': 13362, 'hampti': 13366, 'bereaved': 3372, 'harass': 13434, 'calcutta': 4677, 'comédie': 6323, 'française': 11995, 'ow': 20175, 'fanatically': 10951, 'upholding': 30392, 'leggit': 16687, 'overbold': 20066, 'adulterated': 1277, 'electricity': 9792, 'tank': 28144, 'erratic': 10314, 'racking': 22779, 'susceptibilities': 27848, 'religionists': 23454, 'lukewarmness': 17278, 'celibate': 5105, 'conformed': 6478, 'gluttony': 12718, 'fornication': 11876, 'waterford': 31201, '_deepest_': 300, '_interest_': 453, '_twofold_': 778, '_motives_': 551, '_views_': 793, '_wishes_': 832, '_than_': 739, 'unequalled': 29894, 'squirm': 26860, 'confessor': 6441, 'flocking': 11562, 'crackered': 7124, 'earns': 9581, 'percussion': 20821, 'transfiguration': 29117, 'transpierced': 29146, 'leaking': 16602, 'risks': 24148, 'wisher': 31681, 'securest': 25094, 'europeans': 10411, 'inhibition': 15149, 'misfitting': 18345, 'overpowers': 20127, 'bespeaks': 3420, 'fleeted': 11516, 'slackest': 25977, 'unstrung': 30292, 'twitted': 29553, '_quantum': 651, 'mutatus': 18877, 'ab': 850, 'illo_': 14487, 'facedest': 10835, 'mantlets': 17631, 'lanthorn': 16455, 'genoan': 12465, 'fiendishly': 11274, 'mastering': 17776, 'parlors': 20428, 'buddha': 4410, 'depositing': 8140, 'incertitude': 14791, 'talisman': 28111, 'wherewithal': 31427, 'scurrility': 25014, 'pamphleteer': 20299, 'declaiming': 7850, 'indulgency': 14997, '_l': 477, 'r_': 22761, 'collars': 6004, 'cromer': 7313, 'alexyevna': 1546, 'sidegate': 25717, 'damnable': 7616, 'blithest': 3718, 'populus': 21648, 'sibilat': 25697, 'mihi': 18178, 'plaudo': 21375, 'ipse': 15619, 'domi': 9111, 'simul': 25823, 'ac': 978, 'nummos': 19437, 'contemplor': 6674, 'arca': 2126, 'marine': 17671, 'piscatory': 21266, 'lamplighter': 16404, 'ringleader': 24113, 'bisulphate': 3571, 'baryta': 2993, 'damosels': 7621, 'looped': 17142, 'prie': 22058, 'paunch': 20607, 'pology': 21581, 'cafes': 4647, 'zaraïsky': 32068, 'japonica': 15786, 'minimize': 18251, 'staunchness': 27016, 'vacuous': 30489, 'scrubby': 24988, 'enquiring': 10139, 'acrid': 1127, 'argumentation': 2178, 'belie': 3275, 'dullards': 9456, 'acos': 1105, 'magpie': 17446, 'morrice': 18646, 'inshore': 15251, 'dirtiest': 8582, 'intruders': 15524, 'urn': 30440, 'inaction': 14748, 'padlocks': 20229, 'photographic': 21092, 'patrolled': 20578, 'trafficked': 29063, 'inheritances': 15144, 'whop': 31526, 'divested': 9008, '_tenez': 737, 'droite_': 9358, 'plangency': 21341, 'provocatively': 22402, 'corset': 6951, 'loveliest': 17215, '_russian_': 680, 'redescending': 23223, '24': 95, 'steeds': 27056, 'philadelphia': 21063, 'bosses': 3983, 'defunct': 7963, 'tourville': 29002, 'beaucaire': 3116, 'waltham': 31074, 'mimicked': 18225, 'lman': 17026, 'feeler': 11132, 'conform': 6477, 'ancles': 1793, '23': 93, 'thrashings': 28606, 'noxious': 19412, 'clifton': 5781, 'piers': 21158, 'hobbling': 13957, 'bemoaned': 3323, 'misconceived': 18321, 'turncoat': 29483, 'bends': 3336, 'birstle': 3553, '_she': 706, 'cuttings': 7550, '_fortnightly': 382, 'hungerford': 14303, 'snappish': 26221, 'blandness': 3641, 'awakens': 2690, 'carruthers': 4939, 'sterile': 27104, 'krooboys': 16288, 'dinghy': 8533, 'construe': 6640, 'ventersome': 30650, 'asunders': 2456, 'villeins': 30801, 'masterless': 17777, 'imposthume': 14671, 'undetermined': 29847, 'threatens': 28620, 'troll': 29327, 'parenthetically': 20407, 'saddlebow': 24524, 'overloading': 20109, 'unencumbered': 29889, 'reinform': 23384, 'succeeds': 27553, 'gunnery': 13232, 'terrify': 28403, '_chez': 259, 'séminaristes_': 28055, 'plasters': 21361, 'hardcastle': 13446, 'phthisis': 21100, '1908': 80, 'agitating': 1428, 'fruition': 12141, 'mag': 17419, 'indomitable': 14979, 'assuage': 2413, 'mews': 18132, 'ostlers': 19950, 'farmyard': 10990, 'theological': 28489, 'addicted': 1169, 'quincey': 22732, 'sidewalk': 25722, 'spangled': 26541, 'lettering': 16758, 'bobtail': 3838, 'bellowsing': 3300, 'kindliness': 16156, 'prescriptions': 21961, 'schoolchildren': 24864, 'discomfortable': 8658, 'liberation': 16802, 'beslobbered': 3410, 'throaty': 28639, 'hazing': 13612, 'hazed': 13608, 'kilomètres': 16144, 'bricklayer': 4216, 'insalubrity': 15229, 'disavowal': 8621, 'incendiaries': 14786, 'jingle': 15879, 'unsteadier': 30287, 'carriers': 4934, 'stipulate': 27167, 'repents': 23605, 'canaille': 4738, 'thumbikins': 28667, 'basins': 3014, 'supremely': 27778, 'separates': 25238, 'vulgarities': 30968, 'sarcasms': 24680, 'imprudently': 14723, 'regime': 23336, 'chiffonier': 5427, 'bookstalls': 3936, 'officiated': 19707, 'conjugate': 6519, '_par': 611, 'excellence_': 10518, 'maundering': 17843, 'iteration': 15721, 'fecht': 11116, 'bewail': 3470, 'stranding': 27292, 'divagations': 8991, 'unrefreshed': 30204, 'capfuls': 4811, 'lascelle': 16482, 'pennyworth': 20776, '_force_': 379, 'marshalling': 17721, 'domesticity': 9110, 'tiptoed': 28806, 'lookin': 17132, 'epistolary': 10263, 'bykovy': 4604, 'weepons': 31316, 'kingairloch': 16165, 'mulls': 18786, 'wacancy': 30977, 'jining': 15881, 'housekeepings': 14178, 'chatty': 5326, 'burglars': 4505, 'swerved': 27953, 'criminate': 7266, '_less_': 492, '_performance_': 623, '_theatre_': 744, 'shentleman': 25474, 'sporran': 26747, 'vertically': 30712, 'regal': 23318, 'brooches': 4329, 'unset': 30250, 'brilliants': 4263, 'grannett': 12911, 'anchored': 1788, 'growths': 13133, 'lianas': 16788, 'complexity': 6261, 'armada': 2205, 'garnered': 12363, 'windowless': 31635, 'blistered': 3714, 'burgh': 4499, 'inflections': 15085, 'angriest': 1832, 'dupont': 9495, 'smuggled': 26209, 'forthright': 11894, 'innocente': 15197, 'désormais': 9556, 'prêcherons': 22426, 'ensemble_': 10151, 'admis': 1235, 'tasteless': 28203, 'cleanse': 5727, 'unexceptionable': 29901, 'password': 20526, 'theirsels': 28482, 'keekit': 16071, 'thrawn': 28607, 'heid': 13731, 'hangit': 13410, 'unstreakit': 30291, 'speered': 26631, 'slavered': 26011, 'shears': 25443, 'michtnae': 18144, 'haud': 13558, 'skelpt': 25912, 'dwalled': 9524, 'stanwix': 26951, 'sillies': 25784, 'spectral': 26610, 'facilities': 10845, 'unthankful': 30317, 'barbecue': 2922, 'timbre': 28764, 'gaspingly': 12389, 'stylishness': 27476, 'requisites': 23708, 'beginneth': 3220, 'presidents': 21985, 'potential': 21752, 'dawdle': 7723, 'heartlessly': 13680, 'smit': 26173, 'awfu': 2703, 'internecine': 15444, 'daunt': 7714, 'mishandle': 18355, 'romantics': 24253, 'critics': 7296, 'kostanzhoglos': 16276, 'ivanitchs': 15729, 'pensions': 20784, 'enthusiasms': 10188, 'portage': 21671, 'portages': 21672, 'fiber': 11246, 'behest': 3249, 'fickleness': 11252, 'glooming': 12690, 'spectacular': 26607, 'redistributed': 23226, 'vocular': 30900, 'archness': 2150, 'trastamare': 29171, 'clods': 5810, 'whereat': 31421, 'unkennel': 30060, 'upflung': 30386, 'knobby': 16231, '1876': 69, 'accelerate': 985, 'abjectly': 896, 'pim': 21199, 'fussy': 12231, 'professedly': 22182, 'misappropriated': 18304, 'tranquility': 29101, 'catlike': 5042, 'evilly': 10461, 'preston': 21998, 'pans': 20324, 'banknotes': 2901, 'ringleaders': 24114, 'demoralisation': 8066, 'guzzling': 13259, '_his': 428, 'girl_': 12585, '_your': 842, 'trove': 29361, 'hags': 13296, 'tediously': 28276, 'apiary': 1969, 'beekeeper': 3181, 'goo': 12784, 'kepi': 16100, 'suffuses': 27599, 'occultation': 19579, 'wilfulness': 31584, 'crimping': 7268, 'demirep': 8051, 'inwented': 15610, '_god_': 400, '1767': 45, 'mastership': 17782, 'otherways': 19960, 'mallows': 17534, 'crimea': 7260, 'beaker': 3085, 'unrecorded': 30200, 'unhewn': 30003, 'invalided': 15542, 'conjuncture': 6522, 'trifler': 29283, 'marshland': 17724, 'aveyron': 2654, 'ichau': 14398, 'liantong': 16789, 'outlining': 20014, 'ineffectively': 15011, 'sangars': 24659, 'steeply': 27071, '_too': 770, 'much_': 18756, 'breasting': 4170, 'republicans': 23677, 'cannibal': 4766, 'empannelled': 9941, 'stairway': 26904, 'standin': 26939, '_ad': 161, 'usum': 30463, 'seraphinæ_': 25252, 'sufferable': 27579, 'ingratiating': 15125, 'moustaches': 18734, 'fishwives': 11408, 'inconveniently': 14870, 'foregone': 11787, 'unrelished': 30208, 'pincher': 21209, 'neptune': 19116, 'moderated': 18462, 'unhappier': 29993, 'unidentified': 30013, 'voyagers': 30961, 'spokes': 26729, 'horrific': 14111, 'astrologer': 2449, 'mesmerist': 18091, 'quack': 22621, 'christie': 5527, 'cairn': 4656, 'chappin': 5246, 'eicht': 9749, 'knockdow': 16234, 'lellan': 16703, 'linkin': 16935, 'kilmackerlie': 16140, 'sinsyne': 25863, 'fashed': 11006, 'commissaires': 6140, 'intentioned': 15393, '_words_': 834, 'little_': 16995, 'scoff': 24886, 'trunnion': 29394, 'organizing': 19894, 'doer': 9062, 'undiscovered': 29855, 'cabins': 4629, 'hammocks': 13359, 'fussed': 12227, 'slush': 26122, 'spence': 26641, 'practitioners': 21810, 'prickings': 22054, 'evangelist': 10420, 'croire_': 7310, 'chips': 5464, 'mutes': 18880, 'neckcloths': 19052, 'hearse': 13659, 'damnatory': 7618, 'bight': 3516, 'puissant': 22473, 'tyrants': 29584, 'oppressors': 19843, 'claverton': 5711, 'meteor': 18113, 'inhabitable': 15132, 'interchanging': 15406, 'tans': 28151, 'recapture': 23080, 'commonwealth': 6170, 'transplanted': 29152, 'sprays': 26775, 'numbness': 19434, 'gloweringly': 12712, 'gunmaker': 13228, 'crippling': 7280, 'reservoirs': 23742, 'footways': 11738, 'pulley': 22479, 'wicks': 31539, 'ailments': 1473, 'kinlochaline': 16172, 'roy': 24348, 'wreak': 31875, 'deviating': 8354, 'splay': 26704, 'garrick': 12369, 'pretermitted': 22017, 'truant': 29365, 'subterfuge': 27540, 'bangle': 2887, 'sherman': 25480, 'elijah': 9820, 'longstaple': 17122, 'outface': 19991, 'fazenda': 11081, 'clew': 5771, 'corrosive': 6943, 'mode_': 18458, '_american': 183, 'encyclopædia_': 10019, 'florida': 11584, 'successors': 27562, 'postmarks': 21733, 'matilda': 17810, 'woes': 31736, '_am': 181, 'really_': 23016, 'rhapsody': 24007, 'ft': 12151, 'blenched': 3680, 'whisking': 31480, 'wade': 30983, 'bandoleer': 2878, 'desirably': 8239, 'end_': 10021, 'planking': 21344, 'tombstones': 28889, 'commiserated': 6135, 'scrofulous': 24982, 'rejoining': 23405, 'armpit': 2226, 'feints': 11144, 'pettiest': 21026, 'doubtlessly': 9200, 'onlooker': 19778, 'raisonneur': 22838, 'yquem': 32057, '_want_': 809, 'cavalcade': 5068, 'madcaps': 17397, 'wield': 31555, 'diavolo': 8425, 'cospetto': 6958, '_reproach': 671, 'stand_': 26932, '_erect': 344, 'idealist': 14408, 'slovenliness': 26099, 'gurglings': 13240, 'stoppages': 27230, 'distempered': 8933, 'querulously': 22696, '_chevaux': 258, 'frise_': 12099, 'lubberly': 17244, 'preciously': 21861, 'knuckle': 16260, 'agin': 1424, 'ichneumon': 14399, 'cobras': 5908, 'canteen': 4785, 'discordancies': 8678, 'deepset': 7909, 'bunched': 4474, 'sapless': 24670, 'unconsoled': 29759, 'securer': 25092, 'epicure': 10251, 'repayment': 23589, 'principals': 22083, 'dinnerless': 8543, 'arbours': 2124, 'markovna': 17691, 'awaking': 2692, 'dissuaded': 8924, 'grandmothers': 12906, 'installment': 15299, '_merci': 530, 'splitting': 26715, 'babyship': 2752, 'standards': 26935, 'responding': 23809, '_gott': 405, 'barmherzige_': 2953, 'synod': 28042, 'rudimentary': 24376, 'devious': 8369, 'anticipates': 1913, 'provocations': 22400, 'untarnished': 30310, 'beryls': 3397, 'stylographic': 27478, 'perfected': 20835, 'warbling': 31107, 'mingles': 18246, 'kleinbrunn': 16197, 'frau': 12004, 'pastime': 20532, 'ii': 14464, 'firmest': 11385, 'redounded': 23235, 'unrelieved': 30207, 'masquerading': 17760, 'imitators': 14536, 'pyrenees': 22615, 'delineation': 8018, 'potions': 21754, 'rhubarb': 24017, 'druggist': 9396, 'unbolted': 29687, 'relationships': 23417, 'terrifically': 28401, 'tombola': 28885, 'sawed': 24754, 'thrived': 28634, 'nocks': 19260, 'soared': 26304, 'shearing': 25442, 'hendon': 13782, 'aerodrome': 1321, 'foretelling': 11823, 'undesigned': 29842, '_les': 491, 'tricottent_': 29277, 'pseudo': 22430, 'bachelles': 2757, 'burnished': 4524, 'inure': 15534, 'spelt': 26640, 'felow': 11165, 'perticular': 20965, 'incendiarism': 14787, 'ransacking': 22885, 'lolled': 17100, 'fructify': 12134, 'exemplified': 10588, 'rumpled': 24426, 'billeted': 3527, 'whitlow': 31507, 'poultice': 21768, 'garcons': 12344, 'darkling': 7678, 'roebuck': 24220, 'montacutes': 18561, 'younker': 32050, 'heaviness': 13702, '_mere': 532, 'presence_': 21963, 'medallion': 17920, 'benito': 3358, 'lordships': 17167, 'blossoming': 3752, 'bridged': 4228, 'eildons': 9756, 'crossin': 7339, 'closes': 5821, 'footsore': 11733, 'trampers': 29091, 'chatham': 5317, 'drawbridges': 9276, 'mastless': 17787, 'roofed': 24263, 'rightfully': 24087, 'tracking': 29041, 'rowpit': 24345, 'dod': 9054, 'peats': 20675, 'session': 25294, 'unassailed': 29654, 'properer': 22289, 'bloomsbury': 3748, 'substantiate': 27533, 'starred': 26969, 'expire': 10691, 'inanition': 14757, 'frailest': 11976, 'penurious': 20791, 'dewy': 8400, 'toilsome': 28863, 'flaunt': 11487, 'sedative': 25100, 'reconnoitres': 23169, 'jiffy': 15873, 'horsewoman': 14126, 'luminosity': 17292, 'flippantly': 11548, 'sacraments': 24505, 'foreshortenings': 11812, 'hemisphere': 13770, 'spindled': 26675, 'stilts': 27144, 'ballast': 2841, 'heavers': 13697, 'whippers': 31460, 'raff': 22796, 'remoter': 23531, 'hollies': 13994, 'swarded': 27904, 'shakspeare': 25369, 'notification': 19371, 'rohan': 24227, 'chabot': 5163, 'unquiet': 30183, 'saddled': 24525, 'acetones': 1078, 'grins': 13063, 'trooped': 29332, 'mccauley': 17871, 'swain': 27887, 'augustine': 2577, 'perceptive': 20813, 'morecambe': 18631, 'beautifullest': 3126, 'cosmopolitan': 6957, '_othello_': 596, 'frigid': 12091, 'outlive': 20015, '_fiancée_': 371, 'assessor': 2381, 'barrister': 2982, 'preferments': 21911, 'idolized': 14436, 'refolded': 23286, 'liana': 16787, 'stockbroking': 27189, 'innings': 15193, 'saturated': 24712, 'metaphorically': 18107, 'indistinctly': 14966, 'menzies': 18041, 'shikarree': 25501, 'abnormally': 907, 'derives': 8193, 'cookshop': 6826, 'aniska': 1850, 'abased': 858, 'limekiln': 16892, 'monologues': 18542, 'scoundrelly': 24920, 'stifles': 27135, 'bravos': 4134, 'emitting': 9933, 'athirst': 2468, 'sward': 27903, 'doublets': 9189, 'duello': 9441, 'comeliness': 6078, 'snoozing': 26264, 'maurice': 17846, '_brave': 231, 'enfin': 10066, 'amie_': 1725, 'donavan': 9133, 'malignance': 17525, 'affirmed': 1354, 'stirrings': 27178, 'ancients': 1792, 'inappropriateness': 14761, 'rescuer': 23717, 'wisited': 31687, 'conwenient': 6813, '_bid_': 221, 'complains': 6244, 'varnish': 30565, 'transpire': 29149, 'havoc': 13583, 'tantalising': 28153, 'zip': 32091, 'mitchells': 18419, 'shirking': 25533, 'lubbers': 17245, 'maxwell': 17859, '_general_': 393, 'edison': 9684, 'doctored': 9046, 'barouches': 2966, 'orme': 19919, 'northeast': 19327, 'pretentious': 22014, 'residential': 23749, 'edgar': 9672, 'flocks': 11563, 'chaldean': 5183, 'rater': 22931, 'beefsteak': 3179, 'tormentress': 28947, 'madagascar': 17394, '_through_': 761, 'breakable': 4156, 'argle': 2172, 'bargled': 2946, 'cruisers': 7383, 'savory': 24747, 'garlic': 12360, 'evolved': 10472, 'macabre': 17369, 'unquestioned': 30180, 'readjust': 22996, 'precarious': 21845, 'reproduces': 23662, 'fragmentary': 11971, 'prefacing': 21902, 'myrtle': 18895, 'connor': 6543, 'adelphi': 1183, 'oily': 19732, 'sanely': 24656, 'recriminations': 23194, 'egoists': 9741, 'bosun': 3984, 'eatin': 9617, 'nobbin': 19244, 'singin': 25842, 'rollin': 24238, 'laughin': 16525, 'runnin': 24436, 'unrepaired': 30210, 'melons': 17984, 'candy': 4758, 'drills': 9334, 'voskresensky': 30943, 'yushin': 32058, 'unseasonably': 30243, 'psha': 22431, 'readings': 22995, 'asthmatic': 2430, 'wintered': 31660, 'davos': 7719, 'platz': 21374, 'journeying': 15947, 'lucerne': 17250, 'hemorrhage': 13773, 'steiler': 27079, 'thumbed': 28666, 'fleetly': 11518, 'coromandel': 6904, 'muffins': 18770, 'negatives': 19082, 'monument': 18580, 'tha': 28441, 'watchmaker': 31188, '_something_': 720, 'ounces': 19975, 'missiles': 18381, 'oftenest': 19718, 'detour': 8335, '35': 117, 'overstrung': 20154, 'blouse': 3761, 'harlequinesque': 13470, 'bagginess': 2798, 'hain': 13305, 'guyed': 13258, 'calming': 4700, 'technical': 28272, 'bambino': 2859, 'donjon': 9136, 'gaza': 12419, 'shear': 25438, 'shipfellow': 25518, '_esprit_': 347, '_du_': 322, '_corps_': 282, 'heartache': 13662, 'dispatches': 8831, 'anthony': 1906, '_damn_': 294, 'soothings': 26449, 'sinecure': 25833, 'pedant': 20690, 'repellent': 23598, 'topers': 28923, 'grutching': 13160, 'blisters': 3715, 'puncture': 22509, 'distended': 8934, 'steepest': 27066, 'propeller': 22285, 'aerolite': 1322, 'merging': 18069, 'stricture': 27360, 'looketh': 17131, 'vengeances': 30641, 'dispensary': 8835, 'regenerations': 23334, 'primæval': 22071, 'depriving': 8167, 'nomad': 19284, 'mansos': 17623, 'rheumatics': 24011, 'eddied': 9667, 'eighths': 9754, 'circumjacent': 5602, 'pastureless': 20540, 'bookshelves': 3934, 'parsley': 20446, 'congelation': 6496, 'halloaing': 13330, 'proffer': 22191, 'comprise': 6304, 'dues': 9444, 'scapegrace': 24799, 'launching': 16534, 'truncheon': 29389, 'callings': 4691, 'committal': 6152, 'statute': 27014, 'notifies': 19372, 'communicates': 6177, 'signifies': 25759, 'glaisher': 12619, 'coxwell': 7110, '1862': 63, 'gradient': 12874, 'accustoming': 1074, 'inhaler': 15139, 'fahrenheit': 10872, 'rarefied': 22909, 'sparking': 26557, 'plugs': 21460, 'misfiring': 18344, 'dudes': 9434, 'russified': 24453, '_quel': 653, 'lourdeau_': 17203, '_lourdeau_': 507, 'bumpkin': 4470, 'clodpole': 5809, 'diversions': 9001, 'applicability': 2038, 'ignat': 14444, 'monbart': 18519, 'leek': 16663, 'ineffably': 15009, 'sheepshead': 25457, 'pritty': 22108, 'mongrel': 18530, 'exchanges': 10538, 'deferring': 7937, 'masonry': 17757, 'chagrin': 5173, 'bacchanal': 2754, 'tors': 28957, 'corroding': 6942, '1870': 66, 'franchise': 11988, 'changeling': 5221, 'economized': 9658, 'stoutest': 27259, 'thwarting': 28690, 'satisfies': 24709, 'wariest': 31127, 'practises': 21807, 'elongated': 9839, 'membranes': 17995, 'sharpe': 25412, 'prowls': 22411, 'wanders': 31089, 'bedridden': 3164, 'battlements': 3054, 'florimond': 11585, 'champdivers': 5197, 'practiced': 21803, 'economizing': 9659, 'unproved': 30171, 'submarine': 27502, 'bucketful': 4397, 'resemble': 23725, 'operator': 19814, 'locate': 17054, 'lynx': 17357, 'colonists': 6037, 'conspired': 6613, 'hornsey': 14104, '_etruria_': 350, 'super': 27695, 'cessez': 5152, 'armes': 2214, 'pietons': 21160, 'piller': 21191, 'nomme': 19289, 'profitably': 22200, 'uncrafty': 29772, 'fortieth': 11897, 'cowered': 7097, 'acquirement': 1116, 'bachelors': 2759, 'duellist': 9440, 'manfred': 17574, 'austerlitz': 2593, 'obscurantists': 19521, 'amnesty': 1734, 'borghese': 3968, 'endurable': 10047, 'uncolonial': 29741, 'unpossessed': 30154, 'torso': 28960, 'tick': 28701, 'pests': 21004, 'merman': 18078, 'noticeably': 19367, 'yeomanry': 32015, 'copestone': 6848, '1748': 40, 'rips': 24137, 'exams': 10500, 'guitars': 13212, 'dentify': 8102, 'hatband': 13535, 'wisit': 31686, 'lummy': 17294, 'twopenny': 29561, 'walables': 31044, 'bestirring': 3428, 'amidships': 1722, 'uninhabitable': 30025, 'violoncello': 30833, 'excursive': 10569, 'intreat': 15502, 'unposted': 30155, 'winded': 31622, 'fads': 10862, 'shrilly': 25644, 'disagrees': 8597, 'inspirit': 15293, 'disorganisation': 8820, 'thumping': 28673, 'breadalbane': 4153, 'crestfodin': 7238, 'disgracing': 8744, '_bon_': 226, '_vivant_': 799, 'palate': 20266, 'chlorodyne': 5477, 'perceptions': 20812, 'blushingly': 3805, 'incommodious': 14833, 'incommodiousness': 14834, 'embellishment': 9882, 'noakes': 19241, 'snooks': 26263, 'retching': 23869, 'rupee': 24439, 'rubicund': 24360, 'carnstock': 4909, 'truckloads': 29371, 'hematite': 13769, 'output': 20024, 'shovels': 25612, 'conversationalists': 6781, 'stagnating': 26888, 'duel_': 9437, 'seaton': 25059, 'foreword': 11829, 'fin': 11329, 'conceding': 6332, 'uncoupled': 29768, 'vane': 30532, 'pleasantries': 21403, 'sticky': 27126, 'fibbitson': 11245, 'unintermittent': 30033, 'discordant': 8679, 'squirrel': 26861, 'storming': 27249, 'clowns': 5849, 'visaged': 30849, 'grandison': 12901, 'afrosinya': 1388, 'covenanting': 7072, 'lieut': 16834, 'includes': 14820, 'aspiring': 2350, 'bathe': 3033, 'undeservedly': 29840, 'massing': 17768, 'whateffer': 31393, 'baith': 2812, 'timberyard': 28763, 'sauve': 24733, 'commuting': 6186, 'smacks': 26131, 'reluctancy': 23468, 'oasis': 19469, 'championed': 5201, 'embody': 9893, 'platonic': 21372, 'souled': 26489, 'quixote': 22747, 'unobjectionable': 30122, 'broadwood': 4309, 'requited': 23712, 'vraie': 30965, 'souche_': 26483, 'voiceless': 30908, 'stoops': 27226, 'condescends': 6397, 'unnerstan': 30118, 'lon': 17104, 'lovingest': 17222, 'leadin': 16589, 'temperance': 28311, 'schultz': 24873, '_credo_': 287, 'bounder': 4018, 'deliberated': 8002, 'enclosing': 9993, 'loghouse': 17083, 'partridges': 20493, 'site': 25883, 'earthworks': 9592, 'phœnician': 21112, 'phoo': 21084, 'crowsfoot': 7364, '_panovie': 609, 'yachtsman': 31960, 'surliness': 27801, 'equivocal': 10290, 'craniology': 7157, 'creative': 7200, 'huddle': 14216, 'raying': 22968, 'serenading': 25254, 'diffuses': 8470, 'immensity': 14547, 'rectangle': 23198, 'battlemented': 3053, 'trench': 29233, 'bowshot': 4048, 'yestermorn': 32023, 'frontage': 12113, '_parce': 613, 'avons': 2674, 'parler': 20421, 'beaucoup': 3119, 'antony': 1938, 'venerated': 30632, 'bartered': 2990, 'bonehead': 3907, 'hollis': 13995, 'tepidly': 28375, 'smudges': 26207, 'generic': 12450, 'wrings': 31906, 'diamanten': 8417, 'perlen_': 20877, '1803': 50, 'attentiveness': 2525, 'misgives': 18349, 'beleaguer': 3270, 'trysting': 29416, '_child_': 260, 'puling': 22475, 'insuring': 15361, '1826': 55, 'menaced': 18013, 'unloosened': 30079, 'mantua': 17633, '_folly_': 376, 'loathings': 17042, 'bounceably': 4009, 'parenthetical': 20406, 'uplong': 30399, 'uproars': 30410, 'ant': 1897, 'pettiness': 21028, 'rakishness': 22845, 'pleasance': 21397, '_heard_': 418, 'ablution': 901, 'impurities': 14737, 'classed': 5695, 'unforgivingness': 29944, 'officiating': 19708, 'immersion': 14548, 'refractory': 23292, 'remodelled': 23519, 'axle': 2722, 'entitles': 10199, 'appertain': 2023, 'rutted': 24470, 'glisten': 12671, 'arnaud': 2230, 'scurvy': 25018, 'accoutrement': 1051, 'lewes': 16777, 'physiology': 21108, 'klopstock': 16198, 'reviling': 23969, 'askew': 2331, 'thwart': 28688, 'auction': 2554, 'auctioneer': 2555, 'compiler': 6235, 'trooping': 29334, 'bestrode': 3434, 'criticising': 7291, 'cussedness': 7526, 'impair': 14574, 'cruising': 7384, 'imbroglio': 14526, 'ardolionovitch': 2160, 'modification': 18471, 'chaffing': 5170, 'drizzly': 9356, 'splotches': 26717, 'vaporous': 30550, 'eerie': 9703, 'overpaid': 20120, 'nebraska': 19040, 'yellowstone': 32008, 'colorado': 6041, 'cañons': 5085, 'saline': 24584, 'barrenness': 2975, 'inhospitality': 15151, 'bile': 3522, 'collaborating': 5995, '_financial': 372, 'averring': 2648, 'permits': 20886, 'pushes': 22590, 'recherche': 23098, 'romances': 24246, 'academic': 979, 'metaphor': 18106, 'contaminate': 6664, 'daniloff': 7651, 'gorsky': 12820, 'ekervally': 9767, 'snick': 26249, 'cassino': 4983, 'superlatively': 27719, 'yelping': 32011, 'iguanodons': 14463, 'deprives': 8166, 'badness': 2791, 'reduces': 23242, 'athole': 2472, 'confection': 6424, 'hospitalities': 14137, 'calumnies': 4703, 'instructing': 15329, 'korneplodov': 16274, 'houseroom': 14184, 'catechist': 5029, 'mackiegh': 17384, 'superhuman': 27709, 'taboo': 28068, 'cots': 6978, 'latched': 16501, 'liqueurs': 16951, 'scrimmage': 24976, 'dastardly': 7705, 'purcells': 22530, 'headlines': 13629, 'armory': 2223, 'huffed': 14224, 'lackbrain': 16334, 'tigresses': 28742, '1749': 41, 'atkinson': 2475, 'ladled': 16353, 'mealtimes': 17882, 'porringer': 21668, 'idolater': 14434, 'mordva': 18630, 'deafness': 7762, 'dumbness': 9469, 'destroys': 8302, 'deriving': 8194, 'unsheltered': 30259, 'smarted': 26140, 'branding': 4111, 'obleeged': 19500, 'fortnut': 11906, 'thay': 28464, 'orbit': 19860, 'simpleheartedness': 25812, 'idols': 14437, 'destrier': 8296, 'collusion': 6028, 'fantastical': 10966, 'unexceptionably': 29902, 'strawberry': 27318, '_him': 425, 'wriggle': 31900, 'brides': 4222, 'doffed': 9068, 'drearier': 9306, 'uncompleted': 29746, 'amusedly': 1755, 'covetousness': 7088, 'pamper': 20296, 'vacillating': 30487, 'hazily': 13611, 'despicably': 8269, 'unbarred': 29667, 'delve': 8037, 'forbad': 11746, 'pikestaff': 21173, 'gratifications': 12937, 'shylock': 25688, 'vepres': 30664, 'tournoi': 29000, 'clayton': 5719, 'turpey': 29496, 'borough': 3975, 'shipley': 25520, 'waken': 31038, 'bracelet': 4069, 'hawking': 13588, 'elevate': 9805, 'clamped': 5657, 'gander': 12324, 'unbearably': 29669, 'equalizes': 10273, '1745': 39, 'offe': 19681, 'caraccas': 4851, '62o': 136, '19o': 82, 'toppling': 28932, 'tombs': 28886, 'kirwan': 16182, 'heredity': 13799, 'dots': 9183, 'andrew': 1805, 'boyishly': 4062, 'reprimed': 23648, 'corrugated': 6944, 'suprises': 27779, 'cooperate': 6840, 'preferences': 21909, 'serpentined': 25275, 'corkscrewed': 6891, 'bearward': 3104, 'timing': 28774, 'maximitch': 17856, 'digress': 8490, 'freight': 12034, 'anonymously': 1887, 'cushat': 7521, 'whaups': 31396, 'cuckoos': 7414, 'mari_': 17668, 'bazas': 3075, 'souris': 26510, 'caron': 4918, 'frondists': 12112, 'sip': 25865, 'blockheads': 3727, 'crumble': 7386, 'compositors': 6284, 'nebulous': 19041, 'exult': 10808, 'construct': 6637, 'pinchin': 21210, 'lambeth': 16384, 'stuffer': 27440, 'propping': 22325, 'pliancy': 21429, 'seminaries': 25168, 'kneels': 16212, 'compendium': 6223, 'ahoy': 1462, 'flounder': 11592, 'unhandsome': 29991, 'ventriloquist': 30657, 'crocuses': 7306, 'lecoq': 16642, 'caking': 4664, 'devoutness': 8394, 'effacement': 9706, 'slackness': 25978, 'exactions': 10480, 'strictness': 27359, 'relaxations': 23424, 'voluble': 30924, 'enfolding': 10069, '_farewell_': 364, 'handspike': 13397, '_hundred_': 439, 'squalor': 26828, '_persuasion_': 627, 'ichor': 14400, 'respirable': 23804, 'inexpugnably': 15039, 'acrostic': 1129, 'sackville': 24502, 'negotiation': 19091, 'noiselessness': 19278, 'venus': 30663, 'milo': 18220, 'enslaved': 10156, 'echoless': 9646, 'gingerbread': 12576, 'spar': 26548, 'clipper': 5800, 'enjoin': 10112, 'inviolable': 15583, 'epiphany': 10259, 'roncesvalles': 24259, 'clavers': 5710, 'interposes': 15447, 'personnel': 20943, 'beatific': 3111, 'thunderstorms': 28683, 'outflanked': 19998, 'dugdale': 9450, 'parliaments': 20426, 'duodecimo': 9486, 'interrogatively': 15460, 'benares': 3328, 'unwearied': 30354, 'bulked': 4443, 'intermingled': 15436, 'turnpikes': 29493, 'hatfield': 13548, 'descry': 8214, 'buffaloes': 4417, 'parachute': 20354, 'perfecting': 20836, 'leon': 16726, 'belliver': 3294, 'erection': 10299, 'requiems': 23701, 'pumped': 22496, 'beers': 3184, 'kimberley': 16146, 'contraption': 6734, 'toulouse': 28994, 'gormed': 12815, 'littlest': 16998, 'porkypine': 21662, 'shoeing': 25552, 'griffins': 13035, 'cockatrices': 5919, 'maddest': 17400, 'mantilla': 17627, 'ruthlessly': 24467, 'perannium': 20803, 'underworld': 29838, 'unsatisfied': 30234, 'oscillations': 19938, 'savour': 24748, 'slaps': 25998, 'sequestration': 25248, 'imposts': 14674, 'worshiped': 31831, 'adamantine': 1160, 'counterfeiting': 7011, 'spectres': 26612, 'reanimated': 23020, 'disclaiming': 8648, 'standstill': 26943, 'antagonistic': 1899, 'reproachfulness': 23655, 'confides': 6453, 'smashes': 26150, 'mentez': 18033, 'jamais': 15770, 'napoodin': 18961, 'sincère': 25831, 'sulk': 27627, 'cabbages': 4623, 'remissness': 23509, 'coachmaker': 5882, 'nugget': 19419, 'locksmith': 17064, 'inflammable': 15080, 'hydrogen': 14372, 'molds': 18493, 'smears': 26156, 'obscuring': 19526, 'flea': 11500, 'smashing': 26151, 'overflanked': 20088, 'amphitheatre': 1745, 'boathook': 3828, 'imputeth': 14741, 'sixt': 25900, 'undermost': 29808, 'rideth': 24058, 'willers': 31590, 'tome': 28890, 'versus': 30709, 'brackets': 4076, 'usefully': 30448, 'disk': 8786, 'nenny': 19112, 'overspreading': 20146, 'kindle': 16153, 'fors': 11879, 'againsts': 1397, 'imminently': 14550, 'sublunary': 27501, 'perfumes': 20854, 'fostereth': 11926, 'realms': 23018, 'bounteous': 4022, 'shrillness': 25643, 'pistolled': 21268, 'wrestler': 31891, 'chases': 5307, 'sheathed': 25446, 'waived': 31031, 'milman': 18218, 'shorst': 25578, 'nicholson': 19175, 'hyam': 14367, 'voman': 30936, 'recantation': 23076, 'blackmailed': 3607, 'meiringen': 17967, 'haulbowline': 13563, 'austerely': 2591, 'capriciously': 4826, 'socratic': 26331, 'paragraphs': 20365, 'translations': 29137, 'editors': 9690, 'loll': 17099, 'swedish': 27924, '_lancet_': 484, 'psychology_': 22440, 'thorsley': 28583, 'artifices': 2291, '_robin_': 676, '_adair_': 162, 'ambassador': 1685, 'usurper': 30465, 'affluents': 1362, 'whitish': 31506, 'opaque': 19798, 'skittles': 25955, 'veterinary': 30724, 'quadrupeds': 22629, 'inquisitors': 15224, 'blessedness': 3687, 'compresses': 6299, 'creatur': 7202, 'clotted': 5835, '_something': 719, 'bombards': 3896, 'breteuil': 4195, 'nandon': 18950, 'bagerant': 2796, 'camus': 4735, 'pedigrees': 20699, 'justifiable': 16026, 'dishonourably': 8768, 'umph': 29616, 'ably': 903, 'barnes': 2956, '1792': 47, 'departs': 8115, 'bona': 3899, 'fide': 11260, 'strychnine': 27417, 'tetanus': 28427, 'implicate': 14632, 'minatory': 18227, 'stalwart': 26917, 'loafers': 17035, 'bruce': 4358, 'partington': 20479, 'arimathea': 2186, 'disadvantageous': 8588, 'mathematically': 17806, 'rut': 24464, 'groomed': 13090, 'trimly': 29292, 'akim': 1501, 'tares': 28174, 'truckling': 29370, 'commutation': 6185, 'cairns': 4657, 'burrow': 4528, 'baiting': 2813, 'hamburg': 13348, 'enlighten': 10124, 'knighted': 16220, 'leavened': 16634, 'paralleled': 20368, 'madgst': 17409, 'forerd': 11802, 'agoing': 1435, 'niver': 19240, 'undesirableness': 29845, 'engrafted': 10093, '_etourderie_': 349, 'nightcaps': 19198, 'interrogating': 15457, 'entr': 10203, 'acte': 1132, 'clarke': 5684, 'cheesel': 5367, 'pawns': 20632, 'misapply': 18302, 'faithless': 10908, 'dryest': 9411, 'totaled': 28974, 'temperature': 28313, 'amazonian': 1683, 'convolvulus': 6804, 'begonia': 3226, 'auspiciously': 2589, 'bargeman': 2943, 'waterman': 31206, 'fireman': 11373, 'imps': 14724, 'pantomimes': 20331, '_nous': 576, 'partirons': 20480, 'ensemble': 10150, 'fierily': 11281, 'wholehearted': 31514, 'barberton': 2926, 'ungratefullest': 29982, 'nasal': 18981, 'grindeth': 13057, 'tense': 28361, 'potentially': 21753, 'pickings': 21125, 'interrogatory': 15461, 'eulogium': 10406, 'snugness': 26296, 'avaricious': 2633, '_my_self': 558, 'elation': 9778, 'knowingest': 16254, 'predicting': 21889, 'yage': 31962, 'perpetuating': 20900, 'acidity': 1094, 'darning': 7688, 'tendon': 28352, 'nicking': 19179, 'complimenter': 6273, 'louisas': 17196, 'vodincourt': 30902, 'sampler': 24625, 'wheelers': 31406, 'cargoes': 4894, 'beshawled': 3405, 'bediamonded': 3159, 'dites': 8985, '_believe_': 218, 'flippant': 11547, 'laissez': 16377, 'monthly': 18571, 'undated': 29776, 'slackening': 25976, 'jackanapes': 15745, 'voraciously': 30940, 'batter': 3043, 'zemtuznikoff': 32078, 'float': 11557, 'blackhearted': 3601, '_voyez': 807, '_kammerherrs_': 471, 'monopolise': 18547, 'severest': 25325, 'wigan': 31560, 'retrospective': 23903, 'entitle': 10197, 'hied': 13858, 'hufken': 14226, 'outwitted': 20055, 'wielded': 31556, 'pott': 21757, 'danton': 7655, 'robespierre': 24195, 'irritates': 15681, 'evolves': 10473, 'paradoxes': 20361, 'delusive': 8036, 'scorching': 24901, 'revers': 23949, 'figuratively': 11295, 'duality': 9418, 'radically': 22790, 'daydream': 7737, 'enquire': 10136, 'dissociate': 8915, 'hankerings': 13414, 'pasques': 20501, 'goers': 12755, 'indivisible': 14975, 'beholder': 3253, 'moulded': 18699, 'chaplet': 5242, 'jointure': 15908, '303': 112, 'sangar': 24658, 'rubble': 24359, 'swordsmen': 28005, 'entrenchment': 10221, 'urchins': 30430, 'tireless': 28812, 'polonius': 21582, '_hamlet_': 412, 'scourges': 24926, 'nailing': 18931, '_food_': 377, 'attainable': 2502, 'disenchanting': 8727, 'hume': 14268, 'robertson': 24193, 'caractacus': 4852, 'agricola': 1453, 'humors': 14282, 'hopefulness': 14082, 'depytation': 8174, 'receiver': 23089, 'suns': 27689, 'unprincipled': 30163, 'attics': 2531, 'immixture': 14552, 'augured': 2572, 'fostered': 11925, 'purser': 22570, 'patronymic': 20593, 'peccadilloes': 20679, 'lanky': 16450, '_vogue': 802, 'galère_': 12302, 'croaker': 7300, 'lawcourts': 16557, 'monopolize': 18548, 'deadest': 7752, 'ironmongery': 15642, 'rawest': 22964, 'investigators': 15573, 'ululation': 29605, '5th': 135, 'prohoritch': 22231, 'aroint': 2232, '_what_': 819, '_mes': 533, 'amis_': 1728, 'commences': 6118, 'spink': 26678, 'forsters': 11885, 'overruled': 20132, 'fini_': 11356, 'unbelievers': 29674, 'incompetence': 14839, 'fidgets': 11267, 'grubbing': 13136, 'tartan': 28185, 'stripes': 27377, 'philabeg': 21062, 'makeshifts': 17495, 'madwomen': 17418, 'unrecognisable': 30197, 'scares': 24814, 'chaffinches': 5169, 'relents': 23437, 'scorning': 24909, 'bootmaker': 3953, 'hubbard': 14210, 'orientals': 19902, 'inciting': 14807, 'fomka': 11688, 'zavyalov': 32070, 'harmonium': 13482, 'unreasoning': 30196, 'repleted': 23616, 'proclivities': 22152, 'overshadow': 20138, 'braving': 4132, 'xxii': 31958, 'croak': 7298, 'parritch': 20439, 'flatteur_': 11486, 'grappler': 12919, 'pulsed': 22488, 'furnaces': 12208, 'unlatched': 30066, 'this_': 28563, 'erudite': 10323, '_is': 456, 'tale_': 28106, '_it': 459, 'mention_': 18036, '_forgot': 381, 'exploit_': 10706, 'career_': 4873, 'life_': 16840, 'collect_': 6009, 'books_': 3931, '_but': 235, 'of_': 19679, '_are': 193, 'description_': 8211, 'omitted_': 19763, '_following': 375, 'oriental_': 19901, '_we': 813, 'the_': 28465, 'stanislaus': 26948, 'gratifies': 12939, 'petites': 21012, 'indeterminate': 14927, 'equation': 10279, 'stellar': 27081, 'frieze': 12079, 'agincourt': 1425, 'overset': 20137, 'serrated': 25277, 'plexus': 21427, 'tapanuli': 28156, 'formosa': 11870, 'recorder': 23180, 'ticketed': 28705, 'purling': 22550, 'reversionary': 23957, 'chewing': 5407, 'cogitated': 5953, 'stoneware': 27216, 'gripes': 13065, 'lection': 16646, 'engross': 10098, 'edited': 9685, 'fulmination': 12172, 'notify': 19373, 'bleat': 3672, 'bulgarian': 4438, 'circassians': 5586, 'bulgaria': 4437, 'slavs': 26018, 'pulls': 22482, 'forestalled': 11816, 'sores': 26462, 'sherd': 25477, 'mab': 17367, 'gondola': 12780, '_maître_': 524, 'rubinstein': 24362, 'idée': 14440, 'satellite': 24700, '_gatzuk_': 392, 'fatuity': 11051, 'prosperously': 22344, 'overstate': 20147, 'seemly': 25126, 'delegated': 7996, 'hastens': 13528, 'duteous': 9517, 'imperatively': 14600, 'exciter': 10547, 'halifax': 13323, 'nova': 19395, 'scotia': 24913, 'glastonbury': 12636, 'guggling': 13186, 'gargling': 12353, 'tenacity': 28335, 'unapproachable': 29649, 'prow': 22406, 'trois': 29326, 'corbeaux': 6873, 'limoges': 16905, 'indictment': 14940, 'admeet': 1216, 'partridge': 20492, 'popularly': 21643, 'sandcroft': 24646, 'steepness': 27072, 'polycarp': 21586, 'harlot': 13472, 'slushy': 26123, 'oughn': 19970, 'coalition': 5887, 'badinage': 2789, 'gullies': 13217, 'purpled': 22554, 'miüsovs': 18439, 'ophelia': 19815, 'override': 20130, 'thear': 28466, 'generals': 12447, 'transformer': 29124, 'hounded': 14161, 'clawed': 5713, 'pestilence': 20999, 'ganglia': 12327, 'bellowings': 3298, 'whirrs': 31472, 'cabet': 4625, 'proudhon': 22379, 'despotic': 8285, 'enlarging': 10123, 'lard': 16471, 'gaff': 12256, 'fedyaev': 11121, 'perrys': 20910, 'nourishing': 19390, '_sept_': 702, 'mitri': 18431, 'logician': 17087, 'steely': 27062, 'unheeded': 30001, 'wheerby': 31412, 'theerfur': 28477, 'fisherate': 11395, 'lowance': 17225, 'ble': 3667, 'faithfullest': 10906, 'aboardship': 909, 'catalepsy': 5016, 'rareness': 22911, 'doubling': 9190, 'flushes': 11627, 'bearable': 3095, 'reassuringly': 23055, 'unproductive': 30164, 'gey': 12530, '16th': 33, 'burgeon': 4497, 'spinnet': 26680, 'sloughs': 26097, 'recanting': 23077, 'dismembered': 8802, 'undraped': 29867, 'cornice': 6900, 'semeonovitch': 25166, 'papyri': 20349, 'scarabs': 24803, 'duplication': 9493, 'titus': 28830, 'tiber': 28698, 'moussa': 18731, 'crushes': 7396, 'crews': 7247, 'petrovsky': 21023, 'sundials': 27674, 'beneficent': 3345, 'disarming': 8615, 'reconnaissance': 23166, 'ignominious': 14451, 'fossils': 11923, 'tracings': 29038, 'footpads': 11728, 'unimpeded': 30021, 'industriously': 15004, 'covetous': 7087, 'leavetaking': 16636, 'tours': 29001, 'coiling': 5969, 'vaudeville': 30585, '_more': 546, 'means_': 17898, 'fry': 12148, 'walawa': 31045, '_sì_': 731, '_signor_': 711, 'fag': 10863, 'scarborough': 24805, 'strategist': 27312, 'athanasius': 2461, 'homesick': 14017, 'philippa': 21068, 'allons': 1596, 'compeers': 6218, 'blackly': 3605, 'unloving': 30082, 'unbeloved': 29676, 'trinket': 29299, 'woolsack': 31784, 'ostentatious': 19946, 'simplify': 25820, 'hankerchiefs': 13413, 'chaser': 5306, 'gunners': 13231, '_contretemps_': 281, 'sickener': 25705, 'computing': 6318, 'peerage': 20712, 'leuk': 16761, 'gemmi': 12434, 'interlaken': 15425, 'haldane': 13316, 'crooks': 7323, 'bunco': 4476, 'steerer': 27076, 'goodsman': 12796, 'sharping': 25418, 'lexow': 16781, 'amass': 1671, 'pitt': 21294, 'tush': 29503, 'kingly': 16168, 'lieges': 16830, 'intrusively': 15528, 'soll': 26403, 'leben': 16640, 'hoch': 13960, 'batteries': 3045, '114th': 7, 'hanoverian': 13416, 'scarabæi': 24804, 'sortin': 26473, 'whitehall': 31497, 'resoled': 23769, 'lionel': 16943, 'wagram': 31006, 'triomphe': 29302, 'talmudic': 28127, 'cabalistic': 4619, 'magical': 17426, '_virtuoso_': 796, 'subcutaneously': 27484, 'lameness': 16392, 'usages': 30444, 'authentic': 2598, 'memoir': 17998, 'varnished': 30566, 'stroud': 27403, 'severn': 25327, 'dustcoat': 9508, 'bicyclist': 3493, 'tackling': 28077, 'tikhon': 28743, 'delivers': 8027, 'banc': 2864, 'entrust': 10224, 'adorations': 1260, 'oracles': 19853, 'extolling': 10777, 'continuity': 6711, 'renovated': 23562, 'blusterous': 3808, 'workingman': 31804, 'stimilate': 27145, 'unhand': 29990, 'capability': 4801, 'rotundity': 24300, 'lashings': 16488, 'grades': 12873, 'actresses': 1145, 'schoolteacher': 24870, 'rampage': 22859, 'dustpan': 9513, 'negress': 19093, 'taut': 28227, 'slep': 26043, 'supercargo': 27700, 'regenerated': 23332, 'upstream': 30421, 'expansive': 10643, 'breezy': 4193, 'abbess': 866, 'airiness': 1489, 'ferociously': 11198, 'speared': 26585, 'matchwood': 17796, 'weaponless': 31268, 'leech': 16659, 'dandled': 7642, 'stripling': 27378, 'dropsical': 9374, 'bump': 4465, 'bumped': 4466, 'moths': 18687, 'coups': 7039, 'manipulation': 17599, 'fruitlessly': 12143, 'increasingly': 14880, 'baying': 3067, 'trenchant': 29234, 'ravaged': 22946, 'effervescing': 9716, 'eulogy': 10407, 'mortress': 18668, 'buvons': 4583, 'lavishly': 16554, 'cherubim': 5391, 'thunderous': 28681, 'seraphim': 25251, 'begrimed': 3230, 'weighted': 31324, 'disincline': 8773, 'banister': 2893, 'nightingale': 19201, 'banishing': 2891, 'décharge_': 9551, 'impoverished': 14678, 'pending': 20745, 'unsigned': 30264, 'fourscore': 11948, 'altercation': 1646, 'gauntleted': 12409, 'pensete': 20780, 'knavery': 16203, 'faubourg': 11053, 'garland': 12358, 'protuberant': 22374, 'chucklings': 5547, 'stupefy': 27459, 'envenomed': 10235, 'governing': 12846, 'nun': 19439, 'brickbat': 4213, 'farrago': 10993, 'doos': 9153, 'cashiered': 4973, 'wonderings': 31757, 'seymour': 25340, 'firelit': 11370, 'pierpont': 21155, 'betweenwhiles': 3466, 'inverted': 15562, 'foppery': 11739, 'jealousies': 15805, '_rears_': 663, '_vices_': 791, 'millionaires': 18212, 'porcupines': 21654, 'scaly': 24782, 'elk': 9827, 'uganda': 29591, 'enrobed': 10145, 'mouton': 18741, 'tapster': 28168, 'wannion': 31094, 'michel': 18142, 'standeth': 26938, 'willabys': 31588, 'otways': 19964, 'betrimmed': 3452, 'betrinketed': 3453, 'serfdom': 25260, 'liberator': 16803, 'domineers': 9122, 'outing': 20003, 'flunkeyism': 11622, 'telegony': 28288, 'judice': 15977, 'silencing': 25773, 'unsettling': 30253, 'torquay': 28953, 'guidwives': 13196, 'equalling': 10275, 'scampering': 24786, 'blowsy': 3770, 'snobs': 26262, 'unmitigated': 30107, 'conducts': 6421, 'nobloy': 19255, 'salade': 24575, 'banderole': 2875, 'prancings': 21821, 'gambades': 12304, 'corrupts': 6949, 'estrangement': 10386, 'moser': 18672, 'trajan': 29087, 'montpellier': 18577, 'slits': 26080, 'undersigned': 29813, 'calamitous': 4668, '_staff_': 725, 'unambitious': 29639, 'cribs': 7252, 'bothering': 3992, 'warburton': 31108, 'inception': 14790, 'bloc_': 3721, 'evolve': 10471, 'grumblingly': 13152, 'cheapens': 5331, 'twinges': 29539, 'harmed': 13474, 'yawler': 31983, '_geological': 394, 'cataclysm_': 5013, 'solidification': 26394, 'wrinkling': 31910, 'inorganic': 15207, 'dogmatic': 9078, 'organic': 19886, 'laboratories': 16308, 'epochs': 10268, 'encore': 9999, 'mais_': 17479, 'shlessingers': 25542, 'miscreant': 18326, 'clanging': 5664, 'odinina': 19643, 'haig': 13299, 'heroisms': 13819, 'spits': 26698, 'precinct': 21857, 'absolved': 945, 'signora': 25764, 'lucca': 17249, 'kislorodoff': 16183, 'nominally': 19287, 'flambeau': 11449, 'cannily': 4770, 'disbursements': 8628, 'chary': 5303, 'clerkenwell': 5760, 'psalm': 22428, 'singers': 25841, 'portsdown': 21697, 'hewing': 13841, 'malting': 17540, 'authorisation': 2603, 'regency': 23330, 'pinted': 21230, '_reward': 672, 'ingratitoode': 15127, 'reeks': 23255, 'vaingloriously': 30501, 'wealthiest': 31264, 'fishers': 11398, 'bibles': 3487, 'unskilfully': 30266, 'chump': 5550, 'ironmould': 15643, 'fortuitously': 11910, 'snuffers': 26289, 'retraction': 23889, 'reversing': 23955, 'topple': 28930, 'functionaries': 12179, 'wending': 31353, 'vocation': 30894, 'lafitte': 16363, 'emphasised': 9945, 'relentlessly': 23436, 'etcetera': 10390, 'carve': 4960, 'accelerating': 987, 'stanhill': 26947, 'marvellously': 17744, 'halliard': 13325, 'server': 25283, 'adjured': 1210, 'doeskin': 9065, 'senka': 25190, 'rile': 24099, 'chrysostom': 5537, 'malorum_': 17536, 'plaint': 21325, 'laban': 16303, 'fairies': 10894, 'meander': 17885, 'fooleries': 11704, 'compatriots': 6217, 'prattling': 21829, 'resound': 23782, 'sprigged': 26781, '_particularly_': 617, 'attenuation': 2526, 'proosia': 22281, 'goldini': 12771, '_index': 449, 'expurgatorius_': 10746, 'parody': 20433, 'shielded': 25491, 'anachronism': 1761, 'disguising': 8747, 'likenesses': 16873, 'placable': 21299, 'expostulatory': 10731, 'badgered': 2788, 'evincing': 10465, 'valedictory': 30505, 'pummel': 22494, 'bantering': 2912, '_interesting_': 454, 'ferez': 11187, 'bienfait_': 3509, 'strengthens': 27342, 'grishka': 13071, 'otrepyev': 19961, 'wildfire': 31575, 'ogling': 19721, 'vestment': 30720, 'tonsure': 28909, 'hauberk': 13557, 'glaive': 12620, 'tchurkin': 28247, 'raccoon': 22767, 'gosodin': 12822, 'dvor': 9523, 'destin': 8289, 'antidote': 1920, 'commemorate': 6113, 'thrashes': 28604, 'defenseless': 7930, 'tatars': 28208, 'knout': 16247, 'extruded': 10806, 'stamina': 26919, 'atlas': 2478, 'capably': 4803, 'gee': 12430, 'dobbin': 9035, 'aïe': 2731, 'sketchily': 25918, 'outlines': 20013, '_might_': 534, '_facts_': 361, 'manifestations': 17590, 'reskied': 23768, '_onyegin_': 595, 'expatriated': 10647, 'hoemoglobin': 13964, 'commendations': 6122, 'mainly': 17469, 'cameras': 4724, 'nakirs': 18940, 'corroborations': 6940, 'exclusiveness': 10563, 'colonial': 6033, 'nobis': 19247, 'bettering': 3462, 'ornate': 19924, 'auditory': 2563, 'shoals': 25544, 'liquidate': 16953, 'lawler': 16560, 'wine_': 31643, 'odiney': 19638, 'justiciar': 16025, 'swinton': 27978, 'ouvre': 20056, 'merci': 18054, 'adrad': 1270, 'quagmires': 22630, 'softliest': 26345, 'begetteth': 3209, 'itch': 15715, 'undoes': 29861, 'deeps': 7908, 'campaigner': 4733, 'depositions': 8142, 'mismanagement': 18367, 'whittled': 31509, 'habitudes': 13278, 'steadied': 27026, 'kepler': 16101, '_eliminate_': 331, 'ti': 28696, 'retailing': 23858, 'cultured': 7440, 'meannesses': 17896, 'jokingly': 15914, 'generaldom': 12441, 'insatiably': 15234, 'projector': 22238, 'steadfastness': 27025, 'unresolved': 30217, 'bulrush': 4461, 'flirted': 11551, 'whomever': 31521, 'nakedness': 18938, 'halliday': 13326, 'seducing': 25108, 'rioting': 24122, 'bug': 4425, 'sledges': 26023, 'salets': 24583, 'tussled': 29508, 'sarasate': 24677, 'aldersgate': 1532, 'poky': 21544, 'uncongenial': 29752, 'intruded': 15522, 'quays': 22675, 'rigs': 24098, 'figureheads': 11298, 'pigtails': 21170, 'archbishops': 2133, 'unsexual': 30254, 'heritage': 13808, 'unshrinking': 30261, 'penitently': 20763, 'lacing': 16332, 'calculates': 4673, 'wakes': 31042, 'drudging': 9394, 'conwenienced': 6812, 'unpardoned': 30140, 'defences': 7922, 'mobs': 18452, 'temporally': 28321, '_office_': 587, 'expectancy': 10651, 'surpassingly': 27814, 'vainglorious': 30500, 'unsealed': 30239, 'illustrative': 14500, 'boatfuls': 3827, 'strident': 27362, 'attaches': 2492, 'chimera': 5448, '_julie': 465, '_auntie': 202, 'soundless': 26499, 'dredging': 9310, 'likelier': 16868, 'improprieties': 14709, 'incised': 14802, 'censorious': 5117, 'corporations': 6912, 'methodic': 18118, 'naturalness': 19003, 'seam': 25032, 'workbox': 31797, 'blackmailers': 3609, 'invasion': 15547, 'thrive': 28633, 'distortion': 8950, 'dyspnœa': 9550, 'cardiac': 4864, 'paltering': 20293, 'lumps': 17297, 'aumry': 2581, 'ocularly': 19607, 'nunc': 19440, 'dimittis': 8518, 'ministers': 18257, 'tfu': 28439, 'mobbed': 18450, 'scuffled': 25007, 'scouring': 24927, 'sumatra': 27644, 'inadvertently': 14755, 'tiffin': 28730, 'croesus': 7307, 'fictions': 11254, 'casino': 4977, 'succouring': 27565, 'abolition': 914, 'pugilist': 22469, 'misread': 18371, 'codes': 5935, '_none_': 569, 'rehearsing': 23370, 'rehearsers': 23369, '_maternal_': 520, 'bedesman': 3155, 'ogled': 19720, 'misdemeanours': 18330, 'dodged': 9057, 'gormandizing': 12814, 'cycle': 7554, 'afterward': 1395, 'dostoevsky': 9174, 'methodists': 18121, 'seduce': 25105, 'unpick': 30144, 'effectively': 9711, 'arblast': 2121, 'throttled': 28651, 'joustings': 15953, 'roscian': 24285, 'abudah': 965, 'denude': 8105, 'deleterious': 7998, 'homologate': 14026, 'unchristianity': 29727, 'mavishes': 17848, 'thrushes': 28658, 'overtures': 20165, 'slavophil': 26017, 'patey': 20555, 'clashes': 5689, 'claverhouse': 5709, 'commodiously': 6158, 'italianate': 15712, 'unproductively': 30165, 'albums': 1525, 'unison': 30041, 'hor': 14093, 'wavings': 31231, 'cheques': 5378, 'fealty': 11083, 'windmills': 31632, 'graveyard': 12961, 'godsend': 12750, 'muddling': 18766, 'ingrained': 15122, 'emboldener': 9895, 'crossley': 7341, 'ungrammatically': 29980, 'transposing': 29159, 'vintage': 30821, 'tatterdemalion': 28211, 'wilder': 31572, 'dominate': 9115, 'agostino': 1442, 'pisano': 21265, 'andrea': 1801, 'stainers': 26895, 'fuse': 12224, 'prythee': 22424, '_community_': 271, 'moated': 18448, 'proletariat': 22241, 'organised': 19889, 'arbiter': 2118, 'persuades': 20957, 'specious': 26600, 'salved': 24614, 'enforcing': 10072, 'drilled': 9333, 'deriding': 8186, 'skepticism': 25914, 'garlands': 12359, 'lingers': 16928, 'reflective': 23282, 'worldliness': 31814, 'mop': 18608, 'avoidable': 2668, 'naive': 18934, '_qu': 650, '_cher_': 256, '_worse': 835, 'still_': 27139, 'galvanised': 12301, '_tout_': 773, '_ensemble_': 343, 'foller': 11676, '_vistula_': 798, 'lizzie': 17021, 'dolton': 9102, 'plotter': 21443, 'untracked': 30334, 'wigged': 31561, 'pigmies': 21166, 'avidity': 2658, 'canons': 4778, 'antipode': 1927, 'jollity': 15916, 'geniality': 12456, 'sunning': 27685, 'hindering': 13900, 'incautiously': 14784, 'atones': 2484, 'nearby': 19029, 'transome': 29142, 'pertinently': 20968, 'sinless': 25857, 'prophets': 22301, 'stonecast': 27213, 'tod': 28846, 'mattock': 17829, 'clinton': 5797, 'concerneth': 6349, 'assemblage': 2362, 'ethical': 10395, 'vagrancy': 30494, 'melita': 17973, 'intercede': 15399, 'recharging': 23097, 'disremember': 8887, 'choruses': 5514, 'venison': 30643, 'dispeopled': 8841, 'waterways': 31213, 'jupons': 16012, 'scars': 24819, 'libertine': 16805, 'instructress': 15334, 'protectress': 22358, 'minimizing': 18252, 'avowing': 2679, 'kaleidoscope': 16043, 'enthralled': 10184, 'concocted': 6376, 'teevil': 28287, 'hooray': 14070, 'armadillos': 2207, 'fawns': 11080, 'moose': 18607, 'elks': 9828, 'snort': 26269, 'pasting': 20533, 'sleepeth': 26029, 'cannons': 4773, 'cabowner': 4632, 'mazes': 17868, 'intimating': 15487, 'moped': 18609, 'hilarity': 13882, 'trudge': 29374, 'fourthly': 11953, 'barbarously': 2920, 'courageously': 7042, 'busybody': 4558, 'pitchfork': 21278, 'vermouth': 30696, 'essex': 10364, 'warfaring': 31125, 'strategy': 27313, 'burgundy': 4510, 'miry': 18293, 'stinginess': 27158, '_tone_': 769, 'foretaste': 11821, 'seeketh': 25122, 'clownish': 5848, 'helter': 13767, 'skelter': 25913, 'oogh': 19791, 'reproduction': 23663, 'osity': 19940, 'demple': 8070, 'roughened': 24307, 'gruffandgrim': 13145, 'pegging': 20721, 'myasnitchiha': 18893, 'blackjacks': 3604, 'pimples': 21202, 'smirked': 26170, 'potentate': 21751, 'misconception': 18322, 'worshipping': 31836, 'afflictions': 1359, 'avenged': 2639, 'odind': 19627, '1456': 21, 'vortices': 30942, 'flake': 11445, 'olympus': 19750, 'moulting': 18705, 'montargis': 18565, 'americomaniac': 1710, 'ardor': 2161, 'racy': 22782, 'conquerors': 6548, 'filibustering': 11309, 'minutiae': 18275, 'monstrosity': 18557, 'reservations': 23737, 'coachsteps': 5885, 'svirbey': 27876, '_madonna_': 511, 'prilukov': 22063, 'viazemsky': 30734, 'berg': 3377, 'shammed': 25389, 'tendernesses': 28350, 'playmate': 21388, 'solicitors': 26388, 'counterpoise': 7015, 'vant': 30545, 'thrum': 28656, 'equinoctial': 10281, 'trough': 29354, 'leeches': 16660, 'justices': 16024, 'unartistic': 29651, 'hardbake': 13445, 'attested': 2528, 'execrated': 10575, 'stepdaughter': 27093, 'biographical': 3541, 'perfumer': 20852, 'laving': 16549, 'fungoid': 12191, 'farmhouses': 10987, 'foulmire': 11932, 'extends': 10753, '_shadow_': 704, 'jorum': 15930, 'elate': 9776, 'trended': 29238, 'eastlanders': 9608, 'muscovites': 18842, 'flinch': 11539, 'upwood': 30427, 'nonpareil': 19299, 'mme': 18441, 'montpensier': 18578, 'carére': 4965, 'sidetracked': 25721, 'triumvirate': 29317, 'demurs': 8075, '_art_': 196, 'limiting': 16900, 'remunerate': 23540, 'seraphic': 25250, 'glows': 12714, 'worshippers': 31835, 'scorpions': 24910, 'centipedes': 5124, 'precede': 21849, 'mendeth': 18023, 'accolade': 1016, 'curtsy': 7511, 'pyats': 22608, 'speers': 26633, 'repassed': 23584, 'conversational': 6780, 'shirk': 25532, 'comed': 6076, 'iling': 14471, 'worrited': 31826, 'foreshadowed': 11810, 'squally': 26827, 'esquimau': 10352, 'balmy': 2850, 'glossiest': 12703, 'hookah': 14064, 'oilcloth': 19729, 'disinfectant': 8775, 'wrong_': 31929, 'sheaves': 25448, 'sollerets': 26405, 'foreyard': 11830, 'verds': 30678, 'omissions': 19760, 'insinuate': 15261, 'retributive': 23896, 'determinate': 8323, 'grierson': 13025, 'dilodin': 8508, 'garnish': 12364, 'lazybones': 16580, 'conceals': 6329, '_begin_': 215, 'defaulter': 7914, 'evan': 10417, 'ap': 1956, 'dagsman': 7588, 'approachable': 2075, 'ebullition': 9631, 'ectasy': 9665, 'vindicate': 30806, 'sunniest': 27684, 'opprobrium': 19844, 'cyclist': 7555, 'liners': 16923, 'spiked': 26664, 'manslaughter': 17622, '_age_': 169, 'ascetics': 2315, 'velitchkovsky': 30619, 'kozelski': 16281, 'optin': 19847, 'affects': 1347, 'fernland': 11193, 'outtops': 20048, 'predominate': 21897, 'racked': 22777, 'lithographed': 16986, 'cranberries': 7152, 'unspent': 30283, 'devolved': 8376, 'scandalised': 24788, 'giveth': 12604, 'abash': 860, '_him_self': 427, 'backhanded': 2767, 'convex': 6791, '_quite_': 656, 'determinateness': 8324, 'othello': 19956, 'gamester': 12318, 'tragedians': 29065, 'cetera': 5158, 'olla': 19745, 'seasoning': 25054, 'fennel': 11181, 'aspiration': 2346, 'galeasses': 12279, 'charivari': 5280, 'eventuality': 10440, 'abase': 857, 'deterred': 8329, 'philanthropists': 21066, 'bicycling': 3492, 'patentee': 20549, 'unbreakable': 29692, 'quibble': 22707, '_sainte': 684, 'anges_': 1824, 'fingertips': 11355, 'dweller': 9532, 'vasenka': 30573, 'irkutsk': 15635, 'reclamation': 23127, 'biding': 3501, 'anathematised': 1777, 'posing': 21702, 'dictators': 8435, 'lambs': 16387, 'marion': 17675, 'bismarck': 3566, '_greater_': 407, 'appraised': 2055, 'chalked': 5185, 'reanimate': 23019, 'unburied': 29698, 'strafford': 27272, 'unchanging': 29718, 'grumpily': 13153, '340': 114, 'bengal': 3352, 'codinnwoods': 5940, 'aborigines': 920, 'anthropologists': 1907, 'bushmen': 4543, 'terra': 28390, 'del': 7989, 'fuegians': 12153, 'braining': 4095, 'massacres': 17765, 'unaided': 29635, 'ekshaisky': 9769, 'trepalaf': 29241, 'parching': 20389, 'sark': 24687, 'leddy': 16654, 'scrieghin': 24975, 'genealogy': 12439, 'diurnal': 8989, 'unstateable': 30286, 'bourne': 4031, 'uproariously': 30409, 'paralyze': 20371, 'goody': 12799, 'glitters': 12678, 'deadening': 7750, 'insufferably': 15342, 'floodgates': 11570, 'dewdrops': 8397, 'telepathy': 28296, 'edwin': 9699, 'theorize': 28498, 'biases': 3483, 'tamboured': 28129, 'biased': 3482, 'unsusceptible': 30301, 'jackonet': 15751, 'divergent': 8996, 'coverlid': 7080, 'bullier': 4453, 'partaken': 20452, 'oaf': 19459, 'unclassified': 29730, 'unsentimental': 30248, 'jocularity': 15893, '_being_': 217, 'espionage': 10347, 'incorporated': 14871, 'idlest': 14430, 'indicates': 14934, 'republicanism': 23676, 'disintegrating': 8780, 'fogels': 11652, 'tickers': 28703, 'desolately': 8254, 'unpapered': 30137, 'inditing': 14969, 'progressional': 22223, 'hedging': 13715, 'immiodins': 14551, 'lampoon': 16406, 'unclosed': 29736, 'topaz': 28921, 'unreason': 30192, 'lomonosoff': 17103, 'pouschkin': 21782, 'evenness': 10435, 'spreads': 26778, 'odino': 19660, 'collaring': 6003, 'fluster': 11629, 'delinquent': 8019, 'pronunciation': 22276, '_chevalier_': 257, 'bauchled': 3057, 'napping': 18962, 'blurring': 3795, 'cylinders': 7557, 'throated': 28637, 'purr': 22565, 'silencers': 25772, 'squeak': 26842, 'racket': 22778, 'hillman': 13884, 'influenza': 15099, 'stepanida': 27092, 'ilyinishna': 14504, 'perfidious': 20840, 'gulled': 13216, 'predilection': 21892, 'fess': 11213, 'lozenges': 17241, 'mullets': 18784, 'jambe': 15771, 'roved': 24335, 'beckenham': 3139, 'myrtles': 18896, 'martinmas': 17734, 'freer': 12027, 'backyard': 2776, 'basinful': 3013, 'lave': 16546, 'avodinches': 2666, 'glinted': 12666, 'unsay': 30236, 'gingko': 12578, 'maidenhair': 17454, 'vinegary': 30815, 'wheres': 31425, 'unloved': 30080, 'unsounded': 30280, 'endowment': 10044, 'awarded': 2693, 'bonn': 3913, 'huguenot': 14236, 'characterised': 5252, 'mammy': 17554, 'bwoken': 4597, 'seamanly': 25034, 'cannonade': 4772, 'retook': 23880, 'icicle': 14402, 'distressfully': 8963, 'deposition': 8141, 'patrons': 20592, 'halved': 13345, 'unconstrainedly': 29760, 'priwileges': 22121, '_ingratitude_': 450, 'admonishes': 1247, 'titular': 28829, 'versailles': 30701, 'additionally': 1173, 'squeamish': 26850, 'scrutinize': 25000, 'microscopically': 18148, 'tyrannising': 29578, 'fern': 11191, 'raxing': 22966, 'drams': 9260, 'awfulness': 2706, 'pineapple': 21214, '_compote_': 275, '_smoke': 716, 'fidgetiness': 11265, 'shellfish': 25467, 'becomingness': 3147, 'indemnification': 14919, 'hostages': 14144, 'lyndenhurst': 17354, 'incontestably': 14861, 'weightiness': 31326, 'rath': 22933, 'haus': 13572, 'apocryphal': 1974, 'impresses': 14687, 'lithotypes': 16988, 'slaters': 26003, 'corkcutters': 6887, 'weavers': 31291, 'polishers': 21559, 'gymnast': 13261, 'catharine': 5034, 'thievish': 28527, 'musn': 18867, 'waveless': 31221, 'profiles': 22197, 'mistrusted': 18406, 'milfoil': 18193, '120': 10, 'cramer': 7145, 'melodies': 17978, 'habituated': 13276, 'moi_': 18484, 'twould': 29563, 'lusts': 17334, 'lice': 16812, 'beforehand_': 3200, 'abjectness': 897, 'deigning': 7981, 'desires_': 8243, 'untinctured': 30327, 'guiacum': 13187, 'corpuscles': 6918, 'satchels': 24697, 'overcoats': 20074, 'thereabout': 28500, 'saloons': 24596, 'gaming': 12321, 'embroiders': 9906, 'schilleresque': 24852, 'buttonhole': 4577, 'contractors': 6724, 'igniting': 14448, 'seaports': 25041, 'babbler': 2736, 'js': 15966, 'os': 19935, 'joes': 15896, '_today_': 767, 'cheroots': 5386, 'nullah': 19424, 'bungalow': 4480, 'paddy': 20226, 'georg': 12505, 'brawler': 4136, '421': 125, '270': 104, 'sneck': 26238, 'cul': 7428, 'sac': 24496, 'énigme_': 32110, 'newhalls': 19157, 'airlie': 1492, 'groundless': 13109, 'fractures': 11967, 'alternating': 1653, 'sections': 25085, 'riff': 24071, 'verging': 30683, 'guttered': 13253, 'reconstructing': 23175, 'jackdaw': 15746, 'jeffereys': 15816, 'milmans': 18219, 'erasmus': 10294, 'hewett': 13840, 'dunderheads': 9479, '_doctor': 316, 'praeclarus': 21811, 'excellentissimus_': 10524, 'frocked': 12107, 'gooseberry': 12802, 'sultana': 27639, 'tolleth': 28879, 'wilting': 31607, 'guildford': 13198, 'wards': 31118, 'ignatio': 14445, 'brassy': 4122, 'octaves': 19603, 'cle': 5720, 'pum': 22492, 'chook': 5498, 'bobbish': 3837, 'sixpennorth': 25898, 'bethany': 3436, 'sympathised': 28031, 'brandishes': 4113, 'hits': 13937, 'browlow': 4349, 'inexplicability': 15033, 'unassisted': 29655, 'talismanic': 28112, 'trepoff': 29244, 'trincomalee': 29296, 'vaunted': 30591, 'gentlier': 12487, 'roturiers': 24301, 'andelys': 1797, 'avec': 2637, 'rois': 24230, 'incroyable': 14888, 'defends': 7928, 'propagating': 22284, 'evangelise': 10419, 'countryship': 7029, 'hymns': 14378, 'oct': 19601, '8_s_': 153, '2_s_': 109, 'cocktail': 5929, '1_s_': 83, '8_d_': 152, 'maimed': 17465, 'noire': 19273, 'boors': 3946, 'confirmable': 6463, 'adherent': 1189, 'fardens': 10973, 'instrumental': 15336, 'landaulette': 16420, 'headship': 13634, 'fogged': 11653, 'perpetuate': 20898, 'ipswich': 15620, 'silted': 25790, 'marish': 17676, 'steepen': 27065, 'aroma': 2233, 'sunbeams': 27663, 'picket': 21122, 'interestin': 15411, 'pressin': 21990, 'outmanoeuvred': 20019, 'mystifiers': 18908, 'cerf': 5140, 'passe': 20507, 'ici': 14401, 'parles': 20422, 'anglais': 1825, 'hostilities': 14148, 'militate': 18195, '_dixons_': 314, 'disfigure': 8733, 'scald': 24771, 'recapitulate': 23078, 'stringy': 27374, 'unsympathetic': 30304, 'toads': 28832, 'lairs': 16375, 'warty': 31157, 'iridescence': 15626, 'supplementing': 27745, '_rigor': 674, 'mortis_': 18667, 'hippocratic': 13917, '_risus': 675, 'sardonicus_': 24686, 'mountainsides': 18714, 'windage': 31621, 'hal': 13313, 'leering': 16666, 'rarest': 22912, 'sweetened': 27936, 'browne': 4351, 'standard_': 26934, 'falmouth': 10920, '1855': 58, 'sojourner': 26357, 'bullocks': 4456, 'impur': 14735, 'abreuve': 927, 'sillons': 25787, 'fynde': 12240, 'unkynd': 30065, 'wasshe': 31170, 'wytte': 31951, 'gentylwoman': 12492, 'mistresse': 18403, 'therinne': 28508, 'browsing': 4357, 'syetotchkin': 28013, 'creux': 7241, 'meilleur': 17965, 'gambrel': 12312, 'criss': 7284, 'balks': 2834, 'tudors': 29435, 'porched': 21651, 'tilled': 28748, 'snowdrift': 26278, 'liveable': 17000, 'bough': 3999, 'executioners': 10583, 'gentrice': 12490, 'greeks': 12994, 'moderns': 18467, 'omens': 19755, 'ed': 9666, 'cated': 5030, 'cookin': 6823, 'hopin': 14087, 'implicitness': 14639, 'barnwell': 2960, 'wearisomeness': 31280, 'millwood': 18217, 'blustered': 3807, 'magnate': 17434, 'incompatibility': 14837, 'baboo': 2744, 'begum': 3238, 'compressible': 6300, 'cinder': 5577, 'sequestered': 25247, 'aliens': 1561, 'calhoun': 4682, 'attains': 2507, 'buckshot': 4406, 'cartridge': 4956, 'alienations': 1560, 'ult': 29599, 'valve': 30526, 'lanner': 16451, 'wariness': 31129, 'plastering': 21360, 'menti': 18034, 'transplantation': 29151, 'debility': 7797, 'rigour': 24096, 'idiosyncratic': 14421, 'snivelling': 26261, 'inexcusably': 15026, 'favorably': 11065, 'sympathizing': 28035, 'corpulency': 6916, 'frilled': 12093, 'cambric': 4713, 'limps': 16913, 'soled': 26371, 'recounting': 23185, 'digression': 8491, 'mechlin': 17918, 'febrile': 11113, 'swier': 27956, 'respeckit': 23789, 'foiled': 11663, 'copenhagen': 6846, 'rollicking': 24237, '_ends_': 339, 'wigmore': 31564, 'street_': 27335, '_cavendish': 249, 'square_': 26833, 'number_': 19428, 'reasons_': 23047, 'suppress_': 27770, '_those': 758, 'club_': 5851, 'wardens': 31112, 'wag': 30990, 'diverging': 8997, 'porkman': 21661, 'leanest': 16608, 'scrags': 24940, 'loaves': 17045, 'skylarking': 25968, 'hyacinths': 14366, 'hyacinth': 14365, 'dabbing': 7573, 'dandelion': 7636, 'sprout': 26795, 'wooer': 31779, 'torse': 28958, 'target': 28175, 'camail': 4709, 'blurting': 3799, 'refreshingly': 23299, 'restrains': 23839, 'repudiating': 23681, 'invoiced': 15595, 'avin': 2660, 'ides': 14418, 'tradin': 29056, 'ands': 1807, 'landmarks': 16429, 'partick': 20467, 'ler': 16738, 'nothing_': 19361, 'juror': 16017, 'charier': 5271, 'frantsovna': 11994, 'necessitate': 19045, 'concocting': 6377, 'magazine_': 17421, 'nicked': 19178, 'intents': 15397, 'querulous': 22695, 'soirée': 26354, 'victualling': 30758, 'platitudes': 21369, 'pitarrow': 21273, 'scramble': 24941, 'expansion': 10642, 'thereat': 28502, 'adrianople': 1271, '7000l': 141, '_brune_': 234, 'vertical': 30711, 'rationalised': 22937, 'unitedly': 30045, 'aspersed': 2343, 'unyielding': 30380, 'scrupulousness': 24997, 'understrappers': 29821, 'duenna': 9443, 'confidante': 6443, 'misogynistic': 18368, 'prettinesses': 22026, 'immature': 14539, 'manlike': 17602, 'siren': 25871, 'fairness': 10897, 'dispensing': 8840, 'filipovitch': 11313, 'sabaoth': 24486, 'gimcrack': 12573, 'brigden': 4247, 'blister': 3713, 'archibald': 2139, 'fluctuation': 11612, 'reliability': 23439, 'parr': 20436, 'momentarily': 18508, 'steepish': 27068, 'precariously': 21846, 'vibrant': 30735, 'reconstruction': 23176, 'caracalla': 4850, 'amphorae': 1746, 'handicap': 13379, 'reactions': 22984, 'cassel': 4981, 'skinner': 25938, 'antimonial': 1923, 'residuum': 23755, 'improbables': 14704, 'colliers': 6022, 'camorra': 4730, 'pawnbrokers': 20629, 'engraving': 10096, 'yearer': 31991, 'sanctifies': 24634, 'enhances': 10105, 'comestibles': 6083, 'inveigling': 15551, 'unpainted': 30136, 'smoldering': 26189, 'unceremonious': 29710, 'gaston': 12393, 'baton': 3039, 'labeled': 16305, 'cockneys': 5924, 'cheeriness': 5360, 'singling': 25847, 'interminably': 15435, 'keening': 16076, 'catched': 5023, '_lever': 496, 'roi_': 24229, 'papal': 20338, 'legate': 16679, 'charmant_': 5288, 'chevaleresque_': 5402, 'characteristically': 5255, 'resides': 23751, 'trent': 29239, 'housewives': 14188, 'humanum_': 14256, '_chère_': 265, 'edgeware': 9676, 'adn': 1252, 'eard': 9565, '_doubt_': 319, 'scurrying': 25016, 'imprinting': 14698, 'abominated': 918, 'lambiness': 16385, 'distaff': 8925, 'nightingales': 19202, 'levers': 16769, 'whishing': 31473, 'leakage': 16600, 'regurgitation': 23365, 'socket': 26327, 'cadaverous': 4639, 'obviated': 19568, '_british': 232, 'journal_': 15940, 'minnchen': 18260, '_complete_': 273, 'thousandth': 28595, 'homeopathic': 14013, 'nightmarish': 19206, 'uncertainties': 29714, 'jugglings': 15986, 'symmetry': 28026, 'battlebridge': 3049, 'derivable': 8190, 'watchodin': 31191, 'righted': 24082, 'measurement': 17906, 'schleswig': 24853, 'holstein': 14003, 'adaptation': 1164, 'sebastian': 25065, 'warble': 31104, 'designedly': 8234, 'bruited': 4365, 'dunce': 9475, 'pickets': 21123, 'fluff': 11616, '29': 106, 'carolled': 4916, 'ferai': 11184, 'bas': 2994, 'esclandre': 10334, 'aujourd': 2578, 'hui': 14237, 'sens': 25194}\n"
     ]
    }
   ],
   "source": [
    "print(cnt_vect.vocabulary_)"
   ]
  },
  {
   "cell_type": "code",
   "execution_count": 14,
   "metadata": {
    "ExecuteTime": {
     "end_time": "2020-11-05T09:10:59.790905Z",
     "start_time": "2020-11-05T09:10:59.786997Z"
    }
   },
   "outputs": [
    {
     "data": {
      "text/plain": [
       "32118"
      ]
     },
     "execution_count": 14,
     "metadata": {},
     "output_type": "execute_result"
    }
   ],
   "source": [
    "len(cnt_vect.vocabulary_)"
   ]
  },
  {
   "cell_type": "code",
   "execution_count": 15,
   "metadata": {
    "ExecuteTime": {
     "end_time": "2020-11-05T09:11:05.060888Z",
     "start_time": "2020-11-05T09:10:59.792646Z"
    }
   },
   "outputs": [
    {
     "name": "stdout",
     "output_type": "stream",
     "text": [
      "CountVectorized Logistic Regression의 예측 정확도는 0.717\n"
     ]
    }
   ],
   "source": [
    "from sklearn.linear_model import LogisticRegression\n",
    "from sklearn.metrics import accuracy_score\n",
    "\n",
    "# LogisticRegression을 이용하여 학습/예측/평가 수행.\n",
    "lr_clf = LogisticRegression()\n",
    "lr_clf.fit(X_train_cnt_vect, y_train)\n",
    "pred = lr_clf.predict(X_test_cnt_vect)\n",
    "print('CountVectorized Logistic Regression의 예측 정확도는 {0:.3f}'.format(accuracy_score(y_test, pred)))"
   ]
  },
  {
   "cell_type": "markdown",
   "metadata": {},
   "source": [
    "#### tfidfvectorizer"
   ]
  },
  {
   "cell_type": "code",
   "execution_count": 16,
   "metadata": {
    "ExecuteTime": {
     "end_time": "2020-11-05T09:11:07.866965Z",
     "start_time": "2020-11-05T09:11:05.063494Z"
    }
   },
   "outputs": [],
   "source": [
    "from sklearn.feature_extraction.text import TfidfVectorizer, TfidfTransformer\n",
    "\n",
    "# TF-IDF Vectorization 적용하여 학습 데이터셋과 테스트 데이터 셋 변환.\n",
    "tfidf_vect = TfidfVectorizer(stop_words='english')\n",
    "tfidf_vect.fit(X_train)\n",
    "X_train_tfidf_vect = tfidf_vect.transform(X_train)\n",
    "X_test_tfidf_vect = tfidf_vect.transform(X_test)"
   ]
  },
  {
   "cell_type": "markdown",
   "metadata": {},
   "source": [
    "#### Logistic Regression 적용"
   ]
  },
  {
   "cell_type": "code",
   "execution_count": 17,
   "metadata": {
    "ExecuteTime": {
     "end_time": "2020-11-05T09:11:13.031655Z",
     "start_time": "2020-11-05T09:11:07.868098Z"
    }
   },
   "outputs": [
    {
     "name": "stdout",
     "output_type": "stream",
     "text": [
      "TF-IDF Logistic Regression의 예측 정확도는 0.723\n"
     ]
    }
   ],
   "source": [
    "from sklearn.linear_model import LogisticRegression\n",
    "\n",
    "lr_clf = LogisticRegression()\n",
    "lr_clf.fit(X_train_tfidf_vect, y_train)\n",
    "pred = lr_clf.predict(X_test_tfidf_vect)\n",
    "print('TF-IDF Logistic Regression의 예측 정확도는 {0:.3f}'.format(accuracy_score(y_test, pred)))"
   ]
  },
  {
   "cell_type": "markdown",
   "metadata": {
    "ExecuteTime": {
     "end_time": "2020-11-03T02:08:21.744983Z",
     "start_time": "2020-11-03T02:08:21.742825Z"
    }
   },
   "source": [
    "#### Multinomial Naive Bayes 적용"
   ]
  },
  {
   "cell_type": "code",
   "execution_count": 18,
   "metadata": {
    "ExecuteTime": {
     "end_time": "2020-11-05T09:11:13.062326Z",
     "start_time": "2020-11-05T09:11:13.034349Z"
    }
   },
   "outputs": [],
   "source": [
    "from sklearn.naive_bayes import MultinomialNB\n",
    "mu_clf = MultinomialNB().fit(X_train_tfidf_vect, y_train)"
   ]
  },
  {
   "cell_type": "code",
   "execution_count": 19,
   "metadata": {
    "ExecuteTime": {
     "end_time": "2020-11-05T09:11:13.070725Z",
     "start_time": "2020-11-05T09:11:13.064960Z"
    }
   },
   "outputs": [],
   "source": [
    "# 정식으로 pipeline을 만들고\n",
    "\n",
    "from sklearn.pipeline import Pipeline\n",
    "\n",
    "text_clf = Pipeline([\n",
    "    ('vect', CountVectorizer()),\n",
    "    ('tfidf', TfidfTransformer()),\n",
    "    ('clf', MultinomialNB())\n",
    "])"
   ]
  },
  {
   "cell_type": "code",
   "execution_count": 20,
   "metadata": {
    "ExecuteTime": {
     "end_time": "2020-11-05T09:11:14.986941Z",
     "start_time": "2020-11-05T09:11:13.073255Z"
    }
   },
   "outputs": [
    {
     "data": {
      "text/plain": [
       "0.6701895043731778"
      ]
     },
     "execution_count": 20,
     "metadata": {},
     "output_type": "execute_result"
    }
   ],
   "source": [
    "# 학습 후 test accuracy 적용\n",
    "\n",
    "text_clf.fit(X_train, y_train)\n",
    "\n",
    "predicted = text_clf.predict(X_test)\n",
    "np.mean(predicted == y_test)"
   ]
  },
  {
   "cell_type": "markdown",
   "metadata": {
    "ExecuteTime": {
     "end_time": "2020-11-03T06:57:25.864173Z",
     "start_time": "2020-11-03T06:57:25.862176Z"
    }
   },
   "source": [
    "#### KNN"
   ]
  },
  {
   "cell_type": "code",
   "execution_count": 21,
   "metadata": {
    "ExecuteTime": {
     "end_time": "2020-11-05T09:11:14.991373Z",
     "start_time": "2020-11-05T09:11:14.988710Z"
    }
   },
   "outputs": [
    {
     "data": {
      "text/plain": [
       "(43903, 32118)"
      ]
     },
     "execution_count": 21,
     "metadata": {},
     "output_type": "execute_result"
    }
   ],
   "source": [
    "X_train_tfidf_vect.shape"
   ]
  },
  {
   "cell_type": "code",
   "execution_count": 22,
   "metadata": {
    "ExecuteTime": {
     "end_time": "2020-11-05T09:11:15.037510Z",
     "start_time": "2020-11-05T09:11:14.996955Z"
    }
   },
   "outputs": [
    {
     "data": {
      "text/plain": [
       "KNeighborsClassifier(algorithm='auto', leaf_size=30, metric='minkowski',\n",
       "                     metric_params=None, n_jobs=None, n_neighbors=5, p=2,\n",
       "                     weights='uniform')"
      ]
     },
     "execution_count": 22,
     "metadata": {},
     "output_type": "execute_result"
    }
   ],
   "source": [
    "from sklearn.neighbors import KNeighborsClassifier\n",
    "\n",
    "knn = KNeighborsClassifier(n_neighbors=5)\n",
    "knn.fit(X_train_tfidf_vect, y_train)"
   ]
  },
  {
   "cell_type": "code",
   "execution_count": 23,
   "metadata": {
    "ExecuteTime": {
     "end_time": "2020-11-05T09:11:27.461783Z",
     "start_time": "2020-11-05T09:11:15.044278Z"
    }
   },
   "outputs": [
    {
     "name": "stdout",
     "output_type": "stream",
     "text": [
      "0.27560131195335275\n"
     ]
    }
   ],
   "source": [
    "from sklearn.metrics import accuracy_score\n",
    "\n",
    "pred = knn.predict(X_test_tfidf_vect)\n",
    "print(accuracy_score(y_test, pred))"
   ]
  },
  {
   "cell_type": "code",
   "execution_count": 24,
   "metadata": {
    "ExecuteTime": {
     "end_time": "2020-11-05T09:11:27.481800Z",
     "start_time": "2020-11-05T09:11:27.464046Z"
    }
   },
   "outputs": [
    {
     "name": "stdout",
     "output_type": "stream",
     "text": [
      "              precision    recall  f1-score   support\n",
      "\n",
      "           0       0.42      0.21      0.28      2723\n",
      "           1       0.17      0.07      0.10      1381\n",
      "           2       0.23      0.71      0.35      2332\n",
      "           3       0.43      0.18      0.25      3029\n",
      "           4       0.24      0.11      0.15      1511\n",
      "\n",
      "    accuracy                           0.28     10976\n",
      "   macro avg       0.30      0.26      0.23     10976\n",
      "weighted avg       0.33      0.28      0.25     10976\n",
      "\n"
     ]
    }
   ],
   "source": [
    "from sklearn.metrics import classification_report, confusion_matrix\n",
    "\n",
    "# print(confusion_matrix(y_test, pred))\n",
    "# print('-'*50)\n",
    "print(classification_report(y_test, pred))"
   ]
  },
  {
   "cell_type": "markdown",
   "metadata": {},
   "source": [
    "#### 여러 모델들 적용"
   ]
  },
  {
   "cell_type": "code",
   "execution_count": 25,
   "metadata": {
    "ExecuteTime": {
     "end_time": "2020-11-05T09:11:28.050167Z",
     "start_time": "2020-11-05T09:11:27.483410Z"
    }
   },
   "outputs": [],
   "source": [
    "from sklearn.linear_model import LogisticRegression, RidgeClassifier, RidgeClassifierCV, SGDClassifier\n",
    "from sklearn.ensemble import (AdaBoostClassifier, GradientBoostingClassifier,\n",
    "                              RandomForestClassifier)\n",
    "from sklearn.naive_bayes import MultinomialNB\n",
    "from sklearn.tree import DecisionTreeClassifier\n",
    "from sklearn.neighbors import KNeighborsClassifier\n",
    "from sklearn.svm import LinearSVC\n",
    "from lightgbm import LGBMClassifier\n",
    "from xgboost import XGBClassifier\n",
    "\n",
    "\n",
    "models = []\n",
    "models.append(('LogisticRegression', LogisticRegression(random_state=13)))\n",
    "models.append(('MultinomialNB', MultinomialNB()))\n",
    "models.append(('RandomForestClassifier', RandomForestClassifier(random_state=13, n_jobs=-1)))\n",
    "models.append(('DecisionTreeClassifier', DecisionTreeClassifier(random_state=13)))\n",
    "models.append(('AdaBoostClassifier', AdaBoostClassifier(random_state=13)))\n",
    "models.append(('GradientBoostingClassifier', GradientBoostingClassifier(random_state=13)))\n",
    "models.append(('LGBMClassifier', LGBMClassifier(random_state=13)))\n",
    "models.append(('KNeighborsClassifier', KNeighborsClassifier(n_neighbors=5, n_jobs=-1)))\n",
    "models.append(('LinearSVC', LinearSVC(C=1, loss='hinge', random_state=13)))\n",
    "models.append(('XgBoost', XGBClassifier(learning_rate=0.1, max_depth=3, random_state=13, n_jobs=-1)))\n",
    "models.append(('RidgeClassifier', RidgeClassifier(random_state=13)))\n",
    "models.append(('SGDClassifier', SGDClassifier(random_state=13, loss='modified_huber')))\n",
    "# models.append(('RidgeClassifierCV', RidgeClassifierCV(cv=3)))"
   ]
  },
  {
   "cell_type": "code",
   "execution_count": 26,
   "metadata": {
    "ExecuteTime": {
     "end_time": "2020-11-05T09:11:28.060705Z",
     "start_time": "2020-11-05T09:11:28.052144Z"
    },
    "scrolled": true
   },
   "outputs": [
    {
     "data": {
      "text/plain": [
       "[('LogisticRegression',\n",
       "  LogisticRegression(C=1.0, class_weight=None, dual=False, fit_intercept=True,\n",
       "                     intercept_scaling=1, l1_ratio=None, max_iter=100,\n",
       "                     multi_class='auto', n_jobs=None, penalty='l2',\n",
       "                     random_state=13, solver='lbfgs', tol=0.0001, verbose=0,\n",
       "                     warm_start=False)),\n",
       " ('MultinomialNB', MultinomialNB(alpha=1.0, class_prior=None, fit_prior=True)),\n",
       " ('RandomForestClassifier',\n",
       "  RandomForestClassifier(bootstrap=True, ccp_alpha=0.0, class_weight=None,\n",
       "                         criterion='gini', max_depth=None, max_features='auto',\n",
       "                         max_leaf_nodes=None, max_samples=None,\n",
       "                         min_impurity_decrease=0.0, min_impurity_split=None,\n",
       "                         min_samples_leaf=1, min_samples_split=2,\n",
       "                         min_weight_fraction_leaf=0.0, n_estimators=100,\n",
       "                         n_jobs=-1, oob_score=False, random_state=13, verbose=0,\n",
       "                         warm_start=False)),\n",
       " ('DecisionTreeClassifier',\n",
       "  DecisionTreeClassifier(ccp_alpha=0.0, class_weight=None, criterion='gini',\n",
       "                         max_depth=None, max_features=None, max_leaf_nodes=None,\n",
       "                         min_impurity_decrease=0.0, min_impurity_split=None,\n",
       "                         min_samples_leaf=1, min_samples_split=2,\n",
       "                         min_weight_fraction_leaf=0.0, presort='deprecated',\n",
       "                         random_state=13, splitter='best')),\n",
       " ('AdaBoostClassifier',\n",
       "  AdaBoostClassifier(algorithm='SAMME.R', base_estimator=None, learning_rate=1.0,\n",
       "                     n_estimators=50, random_state=13)),\n",
       " ('GradientBoostingClassifier',\n",
       "  GradientBoostingClassifier(ccp_alpha=0.0, criterion='friedman_mse', init=None,\n",
       "                             learning_rate=0.1, loss='deviance', max_depth=3,\n",
       "                             max_features=None, max_leaf_nodes=None,\n",
       "                             min_impurity_decrease=0.0, min_impurity_split=None,\n",
       "                             min_samples_leaf=1, min_samples_split=2,\n",
       "                             min_weight_fraction_leaf=0.0, n_estimators=100,\n",
       "                             n_iter_no_change=None, presort='deprecated',\n",
       "                             random_state=13, subsample=1.0, tol=0.0001,\n",
       "                             validation_fraction=0.1, verbose=0,\n",
       "                             warm_start=False)),\n",
       " ('LGBMClassifier',\n",
       "  LGBMClassifier(boosting_type='gbdt', class_weight=None, colsample_bytree=1.0,\n",
       "                 importance_type='split', learning_rate=0.1, max_depth=-1,\n",
       "                 min_child_samples=20, min_child_weight=0.001, min_split_gain=0.0,\n",
       "                 n_estimators=100, n_jobs=-1, num_leaves=31, objective=None,\n",
       "                 random_state=13, reg_alpha=0.0, reg_lambda=0.0, silent=True,\n",
       "                 subsample=1.0, subsample_for_bin=200000, subsample_freq=0)),\n",
       " ('KNeighborsClassifier',\n",
       "  KNeighborsClassifier(algorithm='auto', leaf_size=30, metric='minkowski',\n",
       "                       metric_params=None, n_jobs=-1, n_neighbors=5, p=2,\n",
       "                       weights='uniform')),\n",
       " ('LinearSVC',\n",
       "  LinearSVC(C=1, class_weight=None, dual=True, fit_intercept=True,\n",
       "            intercept_scaling=1, loss='hinge', max_iter=1000, multi_class='ovr',\n",
       "            penalty='l2', random_state=13, tol=0.0001, verbose=0)),\n",
       " ('XgBoost',\n",
       "  XGBClassifier(base_score=None, booster=None, colsample_bylevel=None,\n",
       "                colsample_bynode=None, colsample_bytree=None, gamma=None,\n",
       "                gpu_id=None, importance_type='gain', interaction_constraints=None,\n",
       "                learning_rate=0.1, max_delta_step=None, max_depth=3,\n",
       "                min_child_weight=None, missing=nan, monotone_constraints=None,\n",
       "                n_estimators=100, n_jobs=-1, num_parallel_tree=None,\n",
       "                objective='binary:logistic', random_state=13, reg_alpha=None,\n",
       "                reg_lambda=None, scale_pos_weight=None, subsample=None,\n",
       "                tree_method=None, validate_parameters=None, verbosity=None)),\n",
       " ('RidgeClassifier',\n",
       "  RidgeClassifier(alpha=1.0, class_weight=None, copy_X=True, fit_intercept=True,\n",
       "                  max_iter=None, normalize=False, random_state=13, solver='auto',\n",
       "                  tol=0.001)),\n",
       " ('SGDClassifier',\n",
       "  SGDClassifier(alpha=0.0001, average=False, class_weight=None,\n",
       "                early_stopping=False, epsilon=0.1, eta0=0.0, fit_intercept=True,\n",
       "                l1_ratio=0.15, learning_rate='optimal', loss='modified_huber',\n",
       "                max_iter=1000, n_iter_no_change=5, n_jobs=None, penalty='l2',\n",
       "                power_t=0.5, random_state=13, shuffle=True, tol=0.001,\n",
       "                validation_fraction=0.1, verbose=0, warm_start=False))]"
      ]
     },
     "execution_count": 26,
     "metadata": {},
     "output_type": "execute_result"
    }
   ],
   "source": [
    "models"
   ]
  },
  {
   "cell_type": "code",
   "execution_count": 27,
   "metadata": {
    "ExecuteTime": {
     "end_time": "2020-11-05T09:16:34.237757Z",
     "start_time": "2020-11-05T09:11:28.062440Z"
    }
   },
   "outputs": [],
   "source": [
    "from sklearn.metrics import accuracy_score\n",
    "\n",
    "train_score = []\n",
    "test_score = []\n",
    "names = []\n",
    "\n",
    "for name, model in models:\n",
    "    clf = model\n",
    "    clf.fit(X_train_tfidf_vect, y_train)\n",
    "    \n",
    "    train_pred = clf.predict(X_train_tfidf_vect)\n",
    "    test_pred = clf.predict(X_test_tfidf_vect)\n",
    "    \n",
    "    names.append(name)\n",
    "    train_score.append(accuracy_score(y_train, train_pred))\n",
    "    test_score.append(accuracy_score(y_test, test_pred))"
   ]
  },
  {
   "cell_type": "code",
   "execution_count": 28,
   "metadata": {
    "ExecuteTime": {
     "end_time": "2020-11-05T09:16:34.255329Z",
     "start_time": "2020-11-05T09:16:34.240504Z"
    }
   },
   "outputs": [
    {
     "data": {
      "text/html": [
       "<div>\n",
       "<style scoped>\n",
       "    .dataframe tbody tr th:only-of-type {\n",
       "        vertical-align: middle;\n",
       "    }\n",
       "\n",
       "    .dataframe tbody tr th {\n",
       "        vertical-align: top;\n",
       "    }\n",
       "\n",
       "    .dataframe thead th {\n",
       "        text-align: right;\n",
       "    }\n",
       "</style>\n",
       "<table border=\"1\" class=\"dataframe\">\n",
       "  <thead>\n",
       "    <tr style=\"text-align: right;\">\n",
       "      <th></th>\n",
       "      <th>model name</th>\n",
       "      <th>train score</th>\n",
       "      <th>test score</th>\n",
       "    </tr>\n",
       "  </thead>\n",
       "  <tbody>\n",
       "    <tr>\n",
       "      <th>0</th>\n",
       "      <td>RandomForestClassifier</td>\n",
       "      <td>0.991481</td>\n",
       "      <td>0.623633</td>\n",
       "    </tr>\n",
       "    <tr>\n",
       "      <th>1</th>\n",
       "      <td>DecisionTreeClassifier</td>\n",
       "      <td>0.991481</td>\n",
       "      <td>0.491891</td>\n",
       "    </tr>\n",
       "    <tr>\n",
       "      <th>2</th>\n",
       "      <td>RidgeClassifier</td>\n",
       "      <td>0.878118</td>\n",
       "      <td>0.731870</td>\n",
       "    </tr>\n",
       "    <tr>\n",
       "      <th>3</th>\n",
       "      <td>LinearSVC</td>\n",
       "      <td>0.866023</td>\n",
       "      <td>0.733145</td>\n",
       "    </tr>\n",
       "    <tr>\n",
       "      <th>4</th>\n",
       "      <td>SGDClassifier</td>\n",
       "      <td>0.859235</td>\n",
       "      <td>0.733236</td>\n",
       "    </tr>\n",
       "    <tr>\n",
       "      <th>5</th>\n",
       "      <td>LogisticRegression</td>\n",
       "      <td>0.825228</td>\n",
       "      <td>0.723305</td>\n",
       "    </tr>\n",
       "    <tr>\n",
       "      <th>6</th>\n",
       "      <td>MultinomialNB</td>\n",
       "      <td>0.759515</td>\n",
       "      <td>0.686862</td>\n",
       "    </tr>\n",
       "    <tr>\n",
       "      <th>7</th>\n",
       "      <td>LGBMClassifier</td>\n",
       "      <td>0.725326</td>\n",
       "      <td>0.653517</td>\n",
       "    </tr>\n",
       "    <tr>\n",
       "      <th>8</th>\n",
       "      <td>GradientBoostingClassifier</td>\n",
       "      <td>0.580758</td>\n",
       "      <td>0.563502</td>\n",
       "    </tr>\n",
       "    <tr>\n",
       "      <th>9</th>\n",
       "      <td>XgBoost</td>\n",
       "      <td>0.526934</td>\n",
       "      <td>0.521684</td>\n",
       "    </tr>\n",
       "    <tr>\n",
       "      <th>10</th>\n",
       "      <td>AdaBoostClassifier</td>\n",
       "      <td>0.480969</td>\n",
       "      <td>0.483601</td>\n",
       "    </tr>\n",
       "    <tr>\n",
       "      <th>11</th>\n",
       "      <td>KNeighborsClassifier</td>\n",
       "      <td>0.454388</td>\n",
       "      <td>0.272504</td>\n",
       "    </tr>\n",
       "  </tbody>\n",
       "</table>\n",
       "</div>"
      ],
      "text/plain": [
       "                    model name  train score  test score\n",
       "0       RandomForestClassifier     0.991481    0.623633\n",
       "1       DecisionTreeClassifier     0.991481    0.491891\n",
       "2              RidgeClassifier     0.878118    0.731870\n",
       "3                    LinearSVC     0.866023    0.733145\n",
       "4                SGDClassifier     0.859235    0.733236\n",
       "5           LogisticRegression     0.825228    0.723305\n",
       "6                MultinomialNB     0.759515    0.686862\n",
       "7               LGBMClassifier     0.725326    0.653517\n",
       "8   GradientBoostingClassifier     0.580758    0.563502\n",
       "9                      XgBoost     0.526934    0.521684\n",
       "10          AdaBoostClassifier     0.480969    0.483601\n",
       "11        KNeighborsClassifier     0.454388    0.272504"
      ]
     },
     "execution_count": 28,
     "metadata": {},
     "output_type": "execute_result"
    }
   ],
   "source": [
    "result = pd.DataFrame({'model name': names,\n",
    "                       'train score': train_score,\n",
    "                       'test score': test_score}) \n",
    "result.sort_values(by='train score', ascending=False).reset_index(drop=True)"
   ]
  },
  {
   "cell_type": "code",
   "execution_count": 29,
   "metadata": {
    "ExecuteTime": {
     "end_time": "2020-11-05T09:16:34.260890Z",
     "start_time": "2020-11-05T09:16:34.257226Z"
    }
   },
   "outputs": [],
   "source": [
    "result['diff'] = result['train score'] - result['test score']"
   ]
  },
  {
   "cell_type": "code",
   "execution_count": 93,
   "metadata": {
    "ExecuteTime": {
     "end_time": "2020-11-05T11:05:53.800983Z",
     "start_time": "2020-11-05T11:05:53.789462Z"
    }
   },
   "outputs": [
    {
     "data": {
      "text/html": [
       "<div>\n",
       "<style scoped>\n",
       "    .dataframe tbody tr th:only-of-type {\n",
       "        vertical-align: middle;\n",
       "    }\n",
       "\n",
       "    .dataframe tbody tr th {\n",
       "        vertical-align: top;\n",
       "    }\n",
       "\n",
       "    .dataframe thead th {\n",
       "        text-align: right;\n",
       "    }\n",
       "</style>\n",
       "<table border=\"1\" class=\"dataframe\">\n",
       "  <thead>\n",
       "    <tr style=\"text-align: right;\">\n",
       "      <th></th>\n",
       "      <th>model name</th>\n",
       "      <th>train score</th>\n",
       "      <th>test score</th>\n",
       "      <th>diff</th>\n",
       "    </tr>\n",
       "  </thead>\n",
       "  <tbody>\n",
       "    <tr>\n",
       "      <th>2</th>\n",
       "      <td>RandomForestClassifier</td>\n",
       "      <td>0.99</td>\n",
       "      <td>0.62</td>\n",
       "      <td>0.37</td>\n",
       "    </tr>\n",
       "    <tr>\n",
       "      <th>3</th>\n",
       "      <td>DecisionTreeClassifier</td>\n",
       "      <td>0.99</td>\n",
       "      <td>0.49</td>\n",
       "      <td>0.50</td>\n",
       "    </tr>\n",
       "    <tr>\n",
       "      <th>10</th>\n",
       "      <td>RidgeClassifier</td>\n",
       "      <td>0.88</td>\n",
       "      <td>0.73</td>\n",
       "      <td>0.15</td>\n",
       "    </tr>\n",
       "    <tr>\n",
       "      <th>8</th>\n",
       "      <td>LinearSVC</td>\n",
       "      <td>0.87</td>\n",
       "      <td>0.73</td>\n",
       "      <td>0.13</td>\n",
       "    </tr>\n",
       "    <tr>\n",
       "      <th>11</th>\n",
       "      <td>SGDClassifier</td>\n",
       "      <td>0.86</td>\n",
       "      <td>0.73</td>\n",
       "      <td>0.13</td>\n",
       "    </tr>\n",
       "    <tr>\n",
       "      <th>0</th>\n",
       "      <td>LogisticRegression</td>\n",
       "      <td>0.83</td>\n",
       "      <td>0.72</td>\n",
       "      <td>0.10</td>\n",
       "    </tr>\n",
       "    <tr>\n",
       "      <th>1</th>\n",
       "      <td>MultinomialNB</td>\n",
       "      <td>0.76</td>\n",
       "      <td>0.69</td>\n",
       "      <td>0.07</td>\n",
       "    </tr>\n",
       "    <tr>\n",
       "      <th>6</th>\n",
       "      <td>LGBMClassifier</td>\n",
       "      <td>0.73</td>\n",
       "      <td>0.65</td>\n",
       "      <td>0.07</td>\n",
       "    </tr>\n",
       "    <tr>\n",
       "      <th>5</th>\n",
       "      <td>GradientBoostingClassifier</td>\n",
       "      <td>0.58</td>\n",
       "      <td>0.56</td>\n",
       "      <td>0.02</td>\n",
       "    </tr>\n",
       "    <tr>\n",
       "      <th>9</th>\n",
       "      <td>XgBoost</td>\n",
       "      <td>0.53</td>\n",
       "      <td>0.52</td>\n",
       "      <td>0.01</td>\n",
       "    </tr>\n",
       "    <tr>\n",
       "      <th>4</th>\n",
       "      <td>AdaBoostClassifier</td>\n",
       "      <td>0.48</td>\n",
       "      <td>0.48</td>\n",
       "      <td>-0.00</td>\n",
       "    </tr>\n",
       "    <tr>\n",
       "      <th>7</th>\n",
       "      <td>KNeighborsClassifier</td>\n",
       "      <td>0.45</td>\n",
       "      <td>0.27</td>\n",
       "      <td>0.18</td>\n",
       "    </tr>\n",
       "  </tbody>\n",
       "</table>\n",
       "</div>"
      ],
      "text/plain": [
       "                    model name  train score  test score  diff\n",
       "2       RandomForestClassifier         0.99        0.62  0.37\n",
       "3       DecisionTreeClassifier         0.99        0.49  0.50\n",
       "10             RidgeClassifier         0.88        0.73  0.15\n",
       "8                    LinearSVC         0.87        0.73  0.13\n",
       "11               SGDClassifier         0.86        0.73  0.13\n",
       "0           LogisticRegression         0.83        0.72  0.10\n",
       "1                MultinomialNB         0.76        0.69  0.07\n",
       "6               LGBMClassifier         0.73        0.65  0.07\n",
       "5   GradientBoostingClassifier         0.58        0.56  0.02\n",
       "9                      XgBoost         0.53        0.52  0.01\n",
       "4           AdaBoostClassifier         0.48        0.48 -0.00\n",
       "7         KNeighborsClassifier         0.45        0.27  0.18"
      ]
     },
     "execution_count": 93,
     "metadata": {},
     "output_type": "execute_result"
    }
   ],
   "source": [
    "result.round(2).sort_values(by='train score', ascending=False)"
   ]
  },
  {
   "cell_type": "markdown",
   "metadata": {},
   "source": [
    "##### stop words 필터링을 추가하고 ngram을 기본 (1,1)에서 (1,2)로 변경하여 피처 벡터화"
   ]
  },
  {
   "cell_type": "code",
   "execution_count": 31,
   "metadata": {
    "ExecuteTime": {
     "end_time": "2020-11-05T09:17:19.814535Z",
     "start_time": "2020-11-05T09:16:34.275072Z"
    }
   },
   "outputs": [
    {
     "name": "stdout",
     "output_type": "stream",
     "text": [
      "TF-IDF Vectorized Logistic Regression 의 예측 정확도는 0.723\n"
     ]
    }
   ],
   "source": [
    "tfidf_vect = TfidfVectorizer(stop_words='english', ngram_range=(1,2))\n",
    "tfidf_vect.fit(X_train)\n",
    "X_train_tfidf_vect = tfidf_vect.transform(X_train)\n",
    "X_test_tfidf_vect = tfidf_vect.transform(X_test)\n",
    "\n",
    "lr_clf = LogisticRegression()\n",
    "lr_clf.fit(X_train_tfidf_vect, y_train)\n",
    "pred = lr_clf.predict(X_test_tfidf_vect)\n",
    "print('TF-IDF Vectorized Logistic Regression 의 예측 정확도는 {0:.3f}'.format(accuracy_score(y_test ,pred)))"
   ]
  },
  {
   "cell_type": "markdown",
   "metadata": {},
   "source": [
    "##### min-df 조정\n",
    "- min_df, max_df 는 아무런 결과의 차이를 가지고 오지 못했고,\n",
    "- sublinear_tf도 영향이 없었다."
   ]
  },
  {
   "cell_type": "code",
   "execution_count": 32,
   "metadata": {
    "ExecuteTime": {
     "end_time": "2020-11-05T09:17:27.525592Z",
     "start_time": "2020-11-05T09:17:19.816461Z"
    }
   },
   "outputs": [
    {
     "name": "stdout",
     "output_type": "stream",
     "text": [
      "TF-IDF Vectorized Logistic Regression 의 예측 정확도는 0.724\n"
     ]
    }
   ],
   "source": [
    "tfidf_vect = TfidfVectorizer(stop_words='english', sublinear_tf = True)\n",
    "tfidf_vect.fit(X_train)\n",
    "X_train_tfidf_vect = tfidf_vect.transform(X_train)\n",
    "X_test_tfidf_vect = tfidf_vect.transform(X_test)\n",
    "\n",
    "lr_clf = LogisticRegression()\n",
    "lr_clf.fit(X_train_tfidf_vect, y_train)\n",
    "pred = lr_clf.predict(X_test_tfidf_vect)\n",
    "print('TF-IDF Vectorized Logistic Regression 의 예측 정확도는 {0:.3f}'.format(accuracy_score(y_test ,pred)))"
   ]
  },
  {
   "cell_type": "code",
   "execution_count": 33,
   "metadata": {
    "ExecuteTime": {
     "end_time": "2020-11-05T09:17:27.530944Z",
     "start_time": "2020-11-05T09:17:27.528378Z"
    }
   },
   "outputs": [],
   "source": [
    "# sublinear_tf : 높은 TF값들에 대해서 스무딩 처리, TF값에 대해 아웃라이어 처리"
   ]
  },
  {
   "cell_type": "code",
   "execution_count": 34,
   "metadata": {
    "ExecuteTime": {
     "end_time": "2020-11-05T09:17:35.279411Z",
     "start_time": "2020-11-05T09:17:27.533574Z"
    }
   },
   "outputs": [
    {
     "name": "stdout",
     "output_type": "stream",
     "text": [
      "TF-IDF Vectorized Logistic Regression 의 예측 정확도는 0.723\n"
     ]
    }
   ],
   "source": [
    "tfidf_vect = TfidfVectorizer(stop_words='english', max_features=200000)\n",
    "tfidf_vect.fit(X_train)\n",
    "X_train_tfidf_vect = tfidf_vect.transform(X_train)\n",
    "X_test_tfidf_vect = tfidf_vect.transform(X_test)\n",
    "\n",
    "lr_clf = LogisticRegression()\n",
    "lr_clf.fit(X_train_tfidf_vect, y_train)\n",
    "pred = lr_clf.predict(X_test_tfidf_vect)\n",
    "print('TF-IDF Vectorized Logistic Regression 의 예측 정확도는 {0:.3f}'.format(accuracy_score(y_test ,pred)))"
   ]
  },
  {
   "cell_type": "code",
   "execution_count": 35,
   "metadata": {
    "ExecuteTime": {
     "end_time": "2020-11-05T09:17:35.286480Z",
     "start_time": "2020-11-05T09:17:35.282009Z"
    }
   },
   "outputs": [
    {
     "data": {
      "text/plain": [
       "(43903, 32118)"
      ]
     },
     "execution_count": 35,
     "metadata": {},
     "output_type": "execute_result"
    }
   ],
   "source": [
    "X_train_tfidf_vect.shape"
   ]
  },
  {
   "cell_type": "code",
   "execution_count": 36,
   "metadata": {
    "ExecuteTime": {
     "end_time": "2020-11-05T09:17:35.293711Z",
     "start_time": "2020-11-05T09:17:35.289169Z"
    }
   },
   "outputs": [
    {
     "data": {
      "text/plain": [
       "(43903, 32118)"
      ]
     },
     "execution_count": 36,
     "metadata": {},
     "output_type": "execute_result"
    }
   ],
   "source": [
    "# max_features = 20000개 일 때 정확도 0.722\n",
    "X_train_tfidf_vect.shape"
   ]
  },
  {
   "cell_type": "code",
   "execution_count": 37,
   "metadata": {
    "ExecuteTime": {
     "end_time": "2020-11-05T09:17:35.298905Z",
     "start_time": "2020-11-05T09:17:35.296349Z"
    }
   },
   "outputs": [],
   "source": [
    "# max_features = 40000개 일 때 정확도 0.723\n",
    "# max_features = 80000개 일 때 정확도 0.723\n",
    "# max_faetures = 200000개 일 때 정확도 0.723"
   ]
  },
  {
   "cell_type": "markdown",
   "metadata": {},
   "source": [
    "#### GridSearchCV로 TfidfVectorizer parameter 조정\n",
    "- ngram_range=(1, 2) 가 최적"
   ]
  },
  {
   "cell_type": "code",
   "execution_count": 38,
   "metadata": {
    "ExecuteTime": {
     "end_time": "2020-11-05T09:18:00.649586Z",
     "start_time": "2020-11-05T09:17:35.301548Z"
    }
   },
   "outputs": [
    {
     "name": "stdout",
     "output_type": "stream",
     "text": [
      "Fitting 2 folds for each of 6 candidates, totalling 12 fits\n"
     ]
    },
    {
     "name": "stderr",
     "output_type": "stream",
     "text": [
      "[Parallel(n_jobs=2)]: Using backend LokyBackend with 2 concurrent workers.\n",
      "[Parallel(n_jobs=2)]: Done  12 out of  12 | elapsed:   21.3s finished\n"
     ]
    },
    {
     "name": "stdout",
     "output_type": "stream",
     "text": [
      "Best parameters set:\n",
      "[('tfidf', TfidfVectorizer(analyzer='word', binary=False, decode_error='strict',\n",
      "                dtype=<class 'numpy.float64'>, encoding='utf-8',\n",
      "                input='content', lowercase=True, max_df=1.0, max_features=None,\n",
      "                min_df=1, ngram_range=(1, 2), norm='l2', preprocessor=None,\n",
      "                smooth_idf=True, stop_words='english', strip_accents=None,\n",
      "                sublinear_tf=False, token_pattern='(?u)\\\\b\\\\w\\\\w+\\\\b',\n",
      "                tokenizer=None, use_idf=True, vocabulary=None)), ('clf', OneVsRestClassifier(estimator=MultinomialNB(alpha=0.01, class_prior=None,\n",
      "                                            fit_prior=True),\n",
      "                    n_jobs=None))]\n"
     ]
    }
   ],
   "source": [
    "from sklearn.multiclass import OneVsRestClassifier\n",
    "from sklearn.model_selection import GridSearchCV\n",
    "from sklearn.pipeline import Pipeline\n",
    "\n",
    "pipeline = Pipeline([\n",
    "    ('tfidf', TfidfVectorizer(stop_words='english')),\n",
    "    ('clf', OneVsRestClassifier(MultinomialNB(\n",
    "        fit_prior=True, class_prior=None))),\n",
    "])\n",
    "parameters = {\n",
    "#     'tfidf__max_df': (0.25, 0.5, 0.75),\n",
    "    'tfidf__ngram_range': [(1, 1), (1, 2), (1, 3)],\n",
    "    'clf__estimator__alpha': (1e-2, 1e-3)\n",
    "}\n",
    "\n",
    "grid_search_tune = GridSearchCV(pipeline, parameters, cv=2, n_jobs=2, verbose=3)\n",
    "grid_search_tune.fit(X_train, y_train)\n",
    "\n",
    "print(\"Best parameters set:\")\n",
    "print(grid_search_tune.best_estimator_.steps)"
   ]
  },
  {
   "cell_type": "code",
   "execution_count": 39,
   "metadata": {
    "ExecuteTime": {
     "end_time": "2020-11-05T09:18:00.655119Z",
     "start_time": "2020-11-05T09:18:00.651716Z"
    }
   },
   "outputs": [
    {
     "data": {
      "text/plain": [
       "0.7048948827832544"
      ]
     },
     "execution_count": 39,
     "metadata": {},
     "output_type": "execute_result"
    }
   ],
   "source": [
    "grid_search_tune.best_score_"
   ]
  },
  {
   "cell_type": "markdown",
   "metadata": {},
   "source": [
    "##### GridSearchCV로 LogisticRegression C 하이퍼 파라미터 튜닝"
   ]
  },
  {
   "cell_type": "code",
   "execution_count": 40,
   "metadata": {
    "ExecuteTime": {
     "end_time": "2020-11-05T09:18:24.903939Z",
     "start_time": "2020-11-05T09:18:00.656794Z"
    }
   },
   "outputs": [
    {
     "name": "stdout",
     "output_type": "stream",
     "text": [
      "Fitting 3 folds for each of 5 candidates, totalling 15 fits\n"
     ]
    },
    {
     "name": "stderr",
     "output_type": "stream",
     "text": [
      "[Parallel(n_jobs=-1)]: Using backend LokyBackend with 12 concurrent workers.\n",
      "[Parallel(n_jobs=-1)]: Done   8 out of  15 | elapsed:   17.7s remaining:   15.4s\n",
      "[Parallel(n_jobs=-1)]: Done  15 out of  15 | elapsed:   18.9s finished\n"
     ]
    },
    {
     "name": "stdout",
     "output_type": "stream",
     "text": [
      "Logistic Regression best C parameter: {'C': 5, 'random_state': 13}\n",
      "TF-IDF Vectorized Logistic Regression 의 예측 정확도는 0.726\n"
     ]
    }
   ],
   "source": [
    "from sklearn.model_selection import GridSearchCV\n",
    "\n",
    "# 최적 C 값 도출 튜닝 수행. CV는 3 Fold셋으로 설정.\n",
    "params = { 'C': [0.01, 0.1, 1, 5, 10], 'random_state': [13]}\n",
    "grid_cv_lr = GridSearchCV(lr_clf, param_grid=params, cv=3, scoring='accuracy', verbose=1, n_jobs=-1)\n",
    "grid_cv_lr.fit(X_train_tfidf_vect, y_train)\n",
    "print('Logistic Regression best C parameter:', grid_cv_lr.best_params_)\n",
    "\n",
    "# 최적 C 값으로 학습된 grid_cv로 예측 수행하고 정확도 평가\n",
    "pred = grid_cv_lr.predict(X_test_tfidf_vect)\n",
    "print('TF-IDF Vectorized Logistic Regression 의 예측 정확도는 {0:.3f}'.format(accuracy_score(y_test, pred)))"
   ]
  },
  {
   "cell_type": "code",
   "execution_count": 41,
   "metadata": {
    "ExecuteTime": {
     "end_time": "2020-11-05T09:18:24.911223Z",
     "start_time": "2020-11-05T09:18:24.906623Z"
    }
   },
   "outputs": [
    {
     "data": {
      "text/plain": [
       "{'C': 5, 'random_state': 13}"
      ]
     },
     "execution_count": 41,
     "metadata": {},
     "output_type": "execute_result"
    }
   ],
   "source": [
    "grid_cv_lr.best_params_"
   ]
  },
  {
   "cell_type": "code",
   "execution_count": 42,
   "metadata": {
    "ExecuteTime": {
     "end_time": "2020-11-05T09:18:24.918112Z",
     "start_time": "2020-11-05T09:18:24.913717Z"
    }
   },
   "outputs": [
    {
     "data": {
      "text/plain": [
       "0.7178551750593618"
      ]
     },
     "execution_count": 42,
     "metadata": {},
     "output_type": "execute_result"
    }
   ],
   "source": [
    "grid_cv_lr.best_score_"
   ]
  },
  {
   "cell_type": "markdown",
   "metadata": {
    "ExecuteTime": {
     "end_time": "2020-11-04T05:44:44.334574Z",
     "start_time": "2020-11-04T05:44:44.329602Z"
    }
   },
   "source": [
    "## 모델 하이퍼파라미터 튜닝"
   ]
  },
  {
   "cell_type": "markdown",
   "metadata": {},
   "source": [
    "### MultinomialNB"
   ]
  },
  {
   "cell_type": "code",
   "execution_count": 102,
   "metadata": {
    "ExecuteTime": {
     "end_time": "2020-11-05T11:17:40.575100Z",
     "start_time": "2020-11-05T11:17:40.148112Z"
    }
   },
   "outputs": [
    {
     "name": "stdout",
     "output_type": "stream",
     "text": [
      "Fitting 3 folds for each of 8 candidates, totalling 24 fits\n"
     ]
    },
    {
     "name": "stderr",
     "output_type": "stream",
     "text": [
      "[Parallel(n_jobs=-1)]: Using backend LokyBackend with 12 concurrent workers.\n"
     ]
    },
    {
     "name": "stdout",
     "output_type": "stream",
     "text": [
      "MultinomialNB best parameters: {'alpha': 0.1, 'fit_prior': 'True'}\n",
      "MultinomialNB best accuracy score: 0.7235268361870119\n"
     ]
    },
    {
     "name": "stderr",
     "output_type": "stream",
     "text": [
      "[Parallel(n_jobs=-1)]: Done  24 out of  24 | elapsed:    0.3s finished\n"
     ]
    }
   ],
   "source": [
    "from sklearn.naive_bayes import MultinomialNB\n",
    "\n",
    "params = {'alpha': [0.01, 0.1, 0.5, 1.0],\n",
    "         'fit_prior': ['True', 'False']}\n",
    "clf = MultinomialNB()\n",
    "grid_cv = GridSearchCV(clf, param_grid=params, cv=3, scoring='accuracy', verbose=1, n_jobs=-1)\n",
    "grid_cv.fit(X_train_tfidf_vect, y_train)\n",
    "print('MultinomialNB best parameters:', grid_cv.best_params_)\n",
    "print('MultinomialNB best accuracy score:', grid_cv.best_score_)"
   ]
  },
  {
   "cell_type": "code",
   "execution_count": 100,
   "metadata": {
    "ExecuteTime": {
     "end_time": "2020-11-05T11:17:13.506926Z",
     "start_time": "2020-11-05T11:17:13.469526Z"
    }
   },
   "outputs": [
    {
     "name": "stdout",
     "output_type": "stream",
     "text": [
      "MultinomialNB train accuracy score 0.8349087761656379\n",
      "MultinomialNB test accuracy score 0.731231778425656\n"
     ]
    }
   ],
   "source": [
    "clf = MultinomialNB(alpha=0.1, fit_prior='True')\n",
    "clf.fit(X_train_tfidf_vect, y_train)\n",
    "\n",
    "train_pred = clf.predict(X_train_tfidf_vect)\n",
    "test_pred = clf.predict(X_test_tfidf_vect)\n",
    "\n",
    "print('MultinomialNB train accuracy score', accuracy_score(y_train, train_pred))\n",
    "print('MultinomialNB test accuracy score', accuracy_score(y_test, test_pred))"
   ]
  },
  {
   "cell_type": "code",
   "execution_count": 97,
   "metadata": {
    "ExecuteTime": {
     "end_time": "2020-11-05T11:15:26.636305Z",
     "start_time": "2020-11-05T11:15:26.633463Z"
    }
   },
   "outputs": [],
   "source": [
    "from sklearn.model_selection import StratifiedKFold\n",
    "\n",
    "skfold = StratifiedKFold(n_splits=5)"
   ]
  },
  {
   "cell_type": "code",
   "execution_count": 98,
   "metadata": {
    "ExecuteTime": {
     "end_time": "2020-11-05T11:15:27.368750Z",
     "start_time": "2020-11-05T11:15:27.204140Z"
    }
   },
   "outputs": [
    {
     "data": {
      "text/plain": [
       "{'fit_time': array([0.02118015, 0.01838493, 0.01933169, 0.01824808, 0.01665592]),\n",
       " 'score_time': array([0.00292397, 0.00255108, 0.0029881 , 0.0029707 , 0.00297999]),\n",
       " 'test_score': array([0.73271837, 0.73032684, 0.73157955, 0.73280182, 0.7308656 ]),\n",
       " 'train_score': array([0.84072661, 0.84160925, 0.84300438, 0.84110127, 0.84198389])}"
      ]
     },
     "execution_count": 98,
     "metadata": {},
     "output_type": "execute_result"
    }
   ],
   "source": [
    "from sklearn.model_selection import cross_validate\n",
    "cross_validate(clf, X_train_tfidf_vect, y_train, scoring=None, cv=skfold, return_train_score=True)"
   ]
  },
  {
   "cell_type": "markdown",
   "metadata": {},
   "source": [
    "### LinearSVC"
   ]
  },
  {
   "cell_type": "code",
   "execution_count": 103,
   "metadata": {
    "ExecuteTime": {
     "end_time": "2020-11-05T11:19:55.554448Z",
     "start_time": "2020-11-05T11:19:52.593577Z"
    }
   },
   "outputs": [
    {
     "name": "stdout",
     "output_type": "stream",
     "text": [
      "LinearSVC train accuracy score: 0.8660228230417055\n",
      "LinearSVC test accuracy score: 0.7331450437317785\n"
     ]
    }
   ],
   "source": [
    "import sklearn\n",
    "import numpy as np\n",
    "\n",
    "import matplotlib.pyplot as plt\n",
    "%matplotlib inline\n",
    "from sklearn.pipeline import Pipeline\n",
    "from sklearn.svm import LinearSVC\n",
    "\n",
    "svm_clf = LinearSVC(C=1, loss='hinge', random_state=13)\n",
    "svm_clf.fit(X_train_tfidf_vect, y_train)\n",
    "\n",
    "train_pred = svm_clf.predict(X_train_tfidf_vect)\n",
    "test_pred = svm_clf.predict(X_test_tfidf_vect)\n",
    "\n",
    "print('LinearSVC train accuracy score:', accuracy_score(y_train, train_pred))\n",
    "print('LinearSVC test accuracy score:', accuracy_score(y_test, test_pred))"
   ]
  },
  {
   "cell_type": "code",
   "execution_count": 106,
   "metadata": {
    "ExecuteTime": {
     "end_time": "2020-11-05T11:21:16.081553Z",
     "start_time": "2020-11-05T11:20:49.596399Z"
    },
    "scrolled": true
   },
   "outputs": [
    {
     "name": "stdout",
     "output_type": "stream",
     "text": [
      "Fitting 5 folds for each of 12 candidates, totalling 60 fits\n",
      "[CV] C=0.001, loss=squared_hinge, penalty=l1, random_state=13 ........\n",
      "[CV]  C=0.001, loss=squared_hinge, penalty=l1, random_state=13, total=   0.0s\n",
      "[CV] C=0.001, loss=squared_hinge, penalty=l1, random_state=13 ........\n",
      "[CV]  C=0.001, loss=squared_hinge, penalty=l1, random_state=13, total=   0.0s\n",
      "[CV] C=0.001, loss=squared_hinge, penalty=l1, random_state=13 ........\n",
      "[CV]  C=0.001, loss=squared_hinge, penalty=l1, random_state=13, total=   0.0s\n",
      "[CV] C=0.001, loss=squared_hinge, penalty=l1, random_state=13 ........\n",
      "[CV]  C=0.001, loss=squared_hinge, penalty=l1, random_state=13, total=   0.0s\n",
      "[CV] C=0.001, loss=squared_hinge, penalty=l1, random_state=13 ........\n",
      "[CV]  C=0.001, loss=squared_hinge, penalty=l1, random_state=13, total=   0.0s\n",
      "[CV] C=0.001, loss=squared_hinge, penalty=l2, random_state=13 ........\n"
     ]
    },
    {
     "name": "stderr",
     "output_type": "stream",
     "text": [
      "[Parallel(n_jobs=1)]: Using backend SequentialBackend with 1 concurrent workers.\n",
      "[Parallel(n_jobs=1)]: Done   1 out of   1 | elapsed:    0.0s remaining:    0.0s\n"
     ]
    },
    {
     "name": "stdout",
     "output_type": "stream",
     "text": [
      "[CV]  C=0.001, loss=squared_hinge, penalty=l2, random_state=13, total=   0.3s\n",
      "[CV] C=0.001, loss=squared_hinge, penalty=l2, random_state=13 ........\n",
      "[CV]  C=0.001, loss=squared_hinge, penalty=l2, random_state=13, total=   0.3s\n",
      "[CV] C=0.001, loss=squared_hinge, penalty=l2, random_state=13 ........\n",
      "[CV]  C=0.001, loss=squared_hinge, penalty=l2, random_state=13, total=   0.2s\n",
      "[CV] C=0.001, loss=squared_hinge, penalty=l2, random_state=13 ........\n",
      "[CV]  C=0.001, loss=squared_hinge, penalty=l2, random_state=13, total=   0.2s\n",
      "[CV] C=0.001, loss=squared_hinge, penalty=l2, random_state=13 ........\n",
      "[CV]  C=0.001, loss=squared_hinge, penalty=l2, random_state=13, total=   0.2s\n",
      "[CV] C=0.001, loss=hinge, penalty=l1, random_state=13 ................\n",
      "[CV] . C=0.001, loss=hinge, penalty=l1, random_state=13, total=   0.0s\n",
      "[CV] C=0.001, loss=hinge, penalty=l1, random_state=13 ................\n",
      "[CV] . C=0.001, loss=hinge, penalty=l1, random_state=13, total=   0.0s\n",
      "[CV] C=0.001, loss=hinge, penalty=l1, random_state=13 ................\n",
      "[CV] . C=0.001, loss=hinge, penalty=l1, random_state=13, total=   0.0s\n",
      "[CV] C=0.001, loss=hinge, penalty=l1, random_state=13 ................\n",
      "[CV] . C=0.001, loss=hinge, penalty=l1, random_state=13, total=   0.0s\n",
      "[CV] C=0.001, loss=hinge, penalty=l1, random_state=13 ................\n",
      "[CV] . C=0.001, loss=hinge, penalty=l1, random_state=13, total=   0.0s\n",
      "[CV] C=0.001, loss=hinge, penalty=l2, random_state=13 ................\n",
      "[CV] . C=0.001, loss=hinge, penalty=l2, random_state=13, total=   0.2s\n",
      "[CV] C=0.001, loss=hinge, penalty=l2, random_state=13 ................\n",
      "[CV] . C=0.001, loss=hinge, penalty=l2, random_state=13, total=   0.2s\n",
      "[CV] C=0.001, loss=hinge, penalty=l2, random_state=13 ................\n",
      "[CV] . C=0.001, loss=hinge, penalty=l2, random_state=13, total=   0.2s\n",
      "[CV] C=0.001, loss=hinge, penalty=l2, random_state=13 ................\n",
      "[CV] . C=0.001, loss=hinge, penalty=l2, random_state=13, total=   0.2s\n",
      "[CV] C=0.001, loss=hinge, penalty=l2, random_state=13 ................\n",
      "[CV] . C=0.001, loss=hinge, penalty=l2, random_state=13, total=   0.2s\n",
      "[CV] C=0.01, loss=squared_hinge, penalty=l1, random_state=13 .........\n",
      "[CV]  C=0.01, loss=squared_hinge, penalty=l1, random_state=13, total=   0.0s\n",
      "[CV] C=0.01, loss=squared_hinge, penalty=l1, random_state=13 .........\n",
      "[CV]  C=0.01, loss=squared_hinge, penalty=l1, random_state=13, total=   0.0s\n",
      "[CV] C=0.01, loss=squared_hinge, penalty=l1, random_state=13 .........\n",
      "[CV]  C=0.01, loss=squared_hinge, penalty=l1, random_state=13, total=   0.0s\n",
      "[CV] C=0.01, loss=squared_hinge, penalty=l1, random_state=13 .........\n",
      "[CV]  C=0.01, loss=squared_hinge, penalty=l1, random_state=13, total=   0.0s\n",
      "[CV] C=0.01, loss=squared_hinge, penalty=l1, random_state=13 .........\n",
      "[CV]  C=0.01, loss=squared_hinge, penalty=l1, random_state=13, total=   0.0s\n",
      "[CV] C=0.01, loss=squared_hinge, penalty=l2, random_state=13 .........\n",
      "[CV]  C=0.01, loss=squared_hinge, penalty=l2, random_state=13, total=   0.4s\n",
      "[CV] C=0.01, loss=squared_hinge, penalty=l2, random_state=13 .........\n",
      "[CV]  C=0.01, loss=squared_hinge, penalty=l2, random_state=13, total=   0.4s\n",
      "[CV] C=0.01, loss=squared_hinge, penalty=l2, random_state=13 .........\n",
      "[CV]  C=0.01, loss=squared_hinge, penalty=l2, random_state=13, total=   0.4s\n",
      "[CV] C=0.01, loss=squared_hinge, penalty=l2, random_state=13 .........\n",
      "[CV]  C=0.01, loss=squared_hinge, penalty=l2, random_state=13, total=   0.3s\n",
      "[CV] C=0.01, loss=squared_hinge, penalty=l2, random_state=13 .........\n",
      "[CV]  C=0.01, loss=squared_hinge, penalty=l2, random_state=13, total=   0.4s\n",
      "[CV] C=0.01, loss=hinge, penalty=l1, random_state=13 .................\n",
      "[CV] .. C=0.01, loss=hinge, penalty=l1, random_state=13, total=   0.0s\n",
      "[CV] C=0.01, loss=hinge, penalty=l1, random_state=13 .................\n",
      "[CV] .. C=0.01, loss=hinge, penalty=l1, random_state=13, total=   0.0s\n",
      "[CV] C=0.01, loss=hinge, penalty=l1, random_state=13 .................\n",
      "[CV] .. C=0.01, loss=hinge, penalty=l1, random_state=13, total=   0.0s\n",
      "[CV] C=0.01, loss=hinge, penalty=l1, random_state=13 .................\n",
      "[CV] .. C=0.01, loss=hinge, penalty=l1, random_state=13, total=   0.0s\n",
      "[CV] C=0.01, loss=hinge, penalty=l1, random_state=13 .................\n",
      "[CV] .. C=0.01, loss=hinge, penalty=l1, random_state=13, total=   0.0s\n",
      "[CV] C=0.01, loss=hinge, penalty=l2, random_state=13 .................\n",
      "[CV] .. C=0.01, loss=hinge, penalty=l2, random_state=13, total=   0.4s\n",
      "[CV] C=0.01, loss=hinge, penalty=l2, random_state=13 .................\n",
      "[CV] .. C=0.01, loss=hinge, penalty=l2, random_state=13, total=   0.3s\n",
      "[CV] C=0.01, loss=hinge, penalty=l2, random_state=13 .................\n",
      "[CV] .. C=0.01, loss=hinge, penalty=l2, random_state=13, total=   0.3s\n",
      "[CV] C=0.01, loss=hinge, penalty=l2, random_state=13 .................\n",
      "[CV] .. C=0.01, loss=hinge, penalty=l2, random_state=13, total=   0.4s\n",
      "[CV] C=0.01, loss=hinge, penalty=l2, random_state=13 .................\n",
      "[CV] .. C=0.01, loss=hinge, penalty=l2, random_state=13, total=   0.3s\n",
      "[CV] C=1, loss=squared_hinge, penalty=l1, random_state=13 ............\n",
      "[CV]  C=1, loss=squared_hinge, penalty=l1, random_state=13, total=   0.0s\n",
      "[CV] C=1, loss=squared_hinge, penalty=l1, random_state=13 ............\n",
      "[CV]  C=1, loss=squared_hinge, penalty=l1, random_state=13, total=   0.0s\n",
      "[CV] C=1, loss=squared_hinge, penalty=l1, random_state=13 ............\n",
      "[CV]  C=1, loss=squared_hinge, penalty=l1, random_state=13, total=   0.0s\n",
      "[CV] C=1, loss=squared_hinge, penalty=l1, random_state=13 ............\n",
      "[CV]  C=1, loss=squared_hinge, penalty=l1, random_state=13, total=   0.0s\n",
      "[CV] C=1, loss=squared_hinge, penalty=l1, random_state=13 ............\n",
      "[CV]  C=1, loss=squared_hinge, penalty=l1, random_state=13, total=   0.0s\n",
      "[CV] C=1, loss=squared_hinge, penalty=l2, random_state=13 ............\n",
      "[CV]  C=1, loss=squared_hinge, penalty=l2, random_state=13, total=   0.7s\n",
      "[CV] C=1, loss=squared_hinge, penalty=l2, random_state=13 ............\n",
      "[CV]  C=1, loss=squared_hinge, penalty=l2, random_state=13, total=   0.8s\n",
      "[CV] C=1, loss=squared_hinge, penalty=l2, random_state=13 ............\n",
      "[CV]  C=1, loss=squared_hinge, penalty=l2, random_state=13, total=   0.9s\n",
      "[CV] C=1, loss=squared_hinge, penalty=l2, random_state=13 ............\n",
      "[CV]  C=1, loss=squared_hinge, penalty=l2, random_state=13, total=   0.8s\n",
      "[CV] C=1, loss=squared_hinge, penalty=l2, random_state=13 ............\n",
      "[CV]  C=1, loss=squared_hinge, penalty=l2, random_state=13, total=   0.7s\n",
      "[CV] C=1, loss=hinge, penalty=l1, random_state=13 ....................\n",
      "[CV] ..... C=1, loss=hinge, penalty=l1, random_state=13, total=   0.0s\n",
      "[CV] C=1, loss=hinge, penalty=l1, random_state=13 ....................\n",
      "[CV] ..... C=1, loss=hinge, penalty=l1, random_state=13, total=   0.0s\n",
      "[CV] C=1, loss=hinge, penalty=l1, random_state=13 ....................\n",
      "[CV] ..... C=1, loss=hinge, penalty=l1, random_state=13, total=   0.0s\n",
      "[CV] C=1, loss=hinge, penalty=l1, random_state=13 ....................\n",
      "[CV] ..... C=1, loss=hinge, penalty=l1, random_state=13, total=   0.0s\n",
      "[CV] C=1, loss=hinge, penalty=l1, random_state=13 ....................\n",
      "[CV] ..... C=1, loss=hinge, penalty=l1, random_state=13, total=   0.0s\n",
      "[CV] C=1, loss=hinge, penalty=l2, random_state=13 ....................\n",
      "[CV] ..... C=1, loss=hinge, penalty=l2, random_state=13, total=   2.4s\n",
      "[CV] C=1, loss=hinge, penalty=l2, random_state=13 ....................\n",
      "[CV] ..... C=1, loss=hinge, penalty=l2, random_state=13, total=   2.1s\n",
      "[CV] C=1, loss=hinge, penalty=l2, random_state=13 ....................\n",
      "[CV] ..... C=1, loss=hinge, penalty=l2, random_state=13, total=   2.4s\n",
      "[CV] C=1, loss=hinge, penalty=l2, random_state=13 ....................\n",
      "[CV] ..... C=1, loss=hinge, penalty=l2, random_state=13, total=   2.8s\n",
      "[CV] C=1, loss=hinge, penalty=l2, random_state=13 ....................\n",
      "[CV] ..... C=1, loss=hinge, penalty=l2, random_state=13, total=   2.8s\n"
     ]
    },
    {
     "name": "stderr",
     "output_type": "stream",
     "text": [
      "[Parallel(n_jobs=1)]: Done  60 out of  60 | elapsed:   23.0s finished\n"
     ]
    },
    {
     "data": {
      "text/plain": [
       "GridSearchCV(cv=None, error_score=nan,\n",
       "             estimator=LinearSVC(C=1.0, class_weight=None, dual=True,\n",
       "                                 fit_intercept=True, intercept_scaling=1,\n",
       "                                 loss='squared_hinge', max_iter=1000,\n",
       "                                 multi_class='ovr', penalty='l2',\n",
       "                                 random_state=None, tol=0.0001, verbose=0),\n",
       "             iid='deprecated', n_jobs=None,\n",
       "             param_grid={'C': [0.001, 0.01, 1],\n",
       "                         'loss': ['squared_hinge', 'hinge'],\n",
       "                         'penalty': ['l1', 'l2'], 'random_state': [13]},\n",
       "             pre_dispatch='2*n_jobs', refit=True, return_train_score=False,\n",
       "             scoring=None, verbose=2)"
      ]
     },
     "execution_count": 106,
     "metadata": {},
     "output_type": "execute_result"
    }
   ],
   "source": [
    "params = {\n",
    "    'C': [0.001, 0.01, 1], \n",
    "    'loss': ['squared_hinge', 'hinge'], \n",
    "    'penalty': ['l1', 'l2'], \n",
    "    'random_state': [13]\n",
    "    }\n",
    "\n",
    "grid_cv = GridSearchCV(LinearSVC(), param_grid=params, refit=True, verbose=2)\n",
    "grid_cv.fit(X_train_tfidf_vect, y_train)"
   ]
  },
  {
   "cell_type": "code",
   "execution_count": 107,
   "metadata": {
    "ExecuteTime": {
     "end_time": "2020-11-05T11:21:16.085849Z",
     "start_time": "2020-11-05T11:21:16.083366Z"
    }
   },
   "outputs": [
    {
     "name": "stdout",
     "output_type": "stream",
     "text": [
      "LinearSVC Best parameters: {'C': 1, 'loss': 'hinge', 'penalty': 'l2', 'random_state': 13}\n",
      "LinearSVC Best accruacy score: 0.7300185583960399\n"
     ]
    }
   ],
   "source": [
    "print('LinearSVC Best parameters:', grid_cv.best_params_)\n",
    "print('LinearSVC Best accruacy score:', grid_cv.best_score_)"
   ]
  },
  {
   "cell_type": "code",
   "execution_count": 108,
   "metadata": {
    "ExecuteTime": {
     "end_time": "2020-11-05T11:22:02.991824Z",
     "start_time": "2020-11-05T11:22:00.017920Z"
    }
   },
   "outputs": [
    {
     "name": "stdout",
     "output_type": "stream",
     "text": [
      "LinearSVC train accuracy score: 0.8660228230417055\n",
      "LinearSVC test accuracy score: 0.7331450437317785\n"
     ]
    }
   ],
   "source": [
    "svm_clf = LinearSVC(C=1, loss='hinge', penalty='l2', random_state=13)\n",
    "svm_clf.fit(X_train_tfidf_vect, y_train)\n",
    "\n",
    "train_pred = svm_clf.predict(X_train_tfidf_vect)\n",
    "test_pred = svm_clf.predict(X_test_tfidf_vect)\n",
    "\n",
    "print('LinearSVC train accuracy score:', accuracy_score(y_train, train_pred))\n",
    "print('LinearSVC test accuracy score:', accuracy_score(y_test, test_pred)) "
   ]
  },
  {
   "cell_type": "code",
   "execution_count": 109,
   "metadata": {
    "ExecuteTime": {
     "end_time": "2020-11-05T11:22:10.883445Z",
     "start_time": "2020-11-05T11:22:10.877159Z"
    }
   },
   "outputs": [
    {
     "data": {
      "text/plain": [
       "array([[ True, False, False, False, False],\n",
       "       [False, False, False,  True, False],\n",
       "       [False, False, False, False,  True],\n",
       "       ...,\n",
       "       [False, False, False, False, False],\n",
       "       [False, False, False,  True, False],\n",
       "       [False, False, False, False,  True]])"
      ]
     },
     "execution_count": 109,
     "metadata": {},
     "output_type": "execute_result"
    }
   ],
   "source": [
    "svm_clf.decision_function(X_test_tfidf_vect) > 0"
   ]
  },
  {
   "cell_type": "code",
   "execution_count": 53,
   "metadata": {
    "ExecuteTime": {
     "end_time": "2020-11-05T09:18:57.964442Z",
     "start_time": "2020-11-05T09:18:57.962112Z"
    }
   },
   "outputs": [],
   "source": [
    "# 교차검증\n",
    "\n",
    "from sklearn.model_selection import StratifiedKFold\n",
    "skf = StratifiedKFold(n_splits=10, shuffle=True, random_state=13)"
   ]
  },
  {
   "cell_type": "code",
   "execution_count": 54,
   "metadata": {
    "ExecuteTime": {
     "end_time": "2020-11-05T09:19:24.490803Z",
     "start_time": "2020-11-05T09:18:57.966157Z"
    }
   },
   "outputs": [
    {
     "data": {
      "text/plain": [
       "{'fit_time': array([3.19517589, 2.6680851 , 2.69970322, 2.34014273, 2.6369698 ,\n",
       "        2.41757083, 2.41865277, 2.61843204, 2.96314025, 2.42591095]),\n",
       " 'score_time': array([0.0016253 , 0.00164676, 0.00147295, 0.00150037, 0.00159502,\n",
       "        0.00156903, 0.00116706, 0.00171494, 0.00164986, 0.00122404]),\n",
       " 'test_score': array([0.73445684, 0.72102027, 0.74083352, 0.72642369, 0.73986333,\n",
       "        0.74350797, 0.7214123 , 0.738041  , 0.73302961, 0.73781321]),\n",
       " 'train_score': array([0.86862219, 0.86834379, 0.86874873, 0.86966315, 0.86842305,\n",
       "        0.86968846, 0.86865082, 0.8676385 , 0.86849898, 0.86829651])}"
      ]
     },
     "execution_count": 54,
     "metadata": {},
     "output_type": "execute_result"
    }
   ],
   "source": [
    "from sklearn.model_selection import cross_validate, cross_val_score\n",
    "\n",
    "cross_validate(svm_clf, X_train_tfidf_vect, y_train, scoring=None, cv=skf, return_train_score=True)"
   ]
  },
  {
   "cell_type": "code",
   "execution_count": 110,
   "metadata": {
    "ExecuteTime": {
     "end_time": "2020-11-05T11:43:15.530468Z",
     "start_time": "2020-11-05T11:42:48.493609Z"
    }
   },
   "outputs": [
    {
     "name": "stdout",
     "output_type": "stream",
     "text": [
      "0.7336401751563693\n"
     ]
    }
   ],
   "source": [
    "train_score = cross_val_score(svm_clf, X_train_tfidf_vect, y_train, cv=skf)\n",
    "print(train_score.mean())"
   ]
  },
  {
   "cell_type": "code",
   "execution_count": 111,
   "metadata": {
    "ExecuteTime": {
     "end_time": "2020-11-05T11:43:39.415766Z",
     "start_time": "2020-11-05T11:43:35.415861Z"
    }
   },
   "outputs": [
    {
     "name": "stdout",
     "output_type": "stream",
     "text": [
      "0.6592587334558733\n"
     ]
    }
   ],
   "source": [
    "test_score = cross_val_score(svm_clf, X_test_tfidf_vect, y_test, cv=skf)\n",
    "print(test_score.mean())"
   ]
  },
  {
   "cell_type": "markdown",
   "metadata": {},
   "source": [
    "### SGDClassifier"
   ]
  },
  {
   "cell_type": "code",
   "execution_count": 114,
   "metadata": {
    "ExecuteTime": {
     "end_time": "2020-11-05T11:49:25.268198Z",
     "start_time": "2020-11-05T11:49:24.774845Z"
    }
   },
   "outputs": [
    {
     "name": "stdout",
     "output_type": "stream",
     "text": [
      "SGDClassifier train accuracy score: 0.8592351319955356\n",
      "SGDClassifier test accuracy score: 0.7332361516034985\n"
     ]
    }
   ],
   "source": [
    "from sklearn.linear_model import SGDClassifier\n",
    "\n",
    "sgd_clf = SGDClassifier(random_state=13, loss='modified_huber')\n",
    "sgd_clf.fit(X_train_tfidf_vect, y_train)\n",
    "\n",
    "train_pred = sgd_clf.predict(X_train_tfidf_vect)\n",
    "test_pred = sgd_clf.predict(X_test_tfidf_vect)\n",
    "\n",
    "print('SGDClassifier train accuracy score:', accuracy_score(y_train, train_pred))\n",
    "print('SGDClassifier test accuracy score:', accuracy_score(y_test, test_pred))"
   ]
  },
  {
   "cell_type": "code",
   "execution_count": 60,
   "metadata": {
    "ExecuteTime": {
     "end_time": "2020-11-05T09:19:55.757086Z",
     "start_time": "2020-11-05T09:19:53.991238Z"
    }
   },
   "outputs": [
    {
     "data": {
      "text/plain": [
       "array([0.73397107, 0.73727366, 0.72679649, 0.73405467, 0.73075171])"
      ]
     },
     "execution_count": 60,
     "metadata": {},
     "output_type": "execute_result"
    }
   ],
   "source": [
    "# 교차 검증\n",
    "\n",
    "from sklearn.model_selection import cross_val_score\n",
    "\n",
    "cross_val_score(sgd_clf, X_train_tfidf_vect, y_train, cv=5, scoring='accuracy')"
   ]
  },
  {
   "cell_type": "code",
   "execution_count": 61,
   "metadata": {
    "ExecuteTime": {
     "end_time": "2020-11-05T09:19:56.611936Z",
     "start_time": "2020-11-05T09:19:55.759038Z"
    }
   },
   "outputs": [],
   "source": [
    "# 오차 행렬\n",
    "\n",
    "from sklearn.model_selection import cross_val_predict\n",
    "\n",
    "y_train_pred = cross_val_predict(sgd_clf, X_train_tfidf_vect, y_train, cv=3)"
   ]
  },
  {
   "cell_type": "code",
   "execution_count": 62,
   "metadata": {
    "ExecuteTime": {
     "end_time": "2020-11-05T09:19:56.650543Z",
     "start_time": "2020-11-05T09:19:56.613663Z"
    }
   },
   "outputs": [
    {
     "data": {
      "text/plain": [
       "array([[7559,  471,  915, 1111,  456],\n",
       "       [ 606, 3830,  634,  635,  136],\n",
       "       [ 723,  237, 6604, 1223,  435],\n",
       "       [ 639,  238,  940, 9981,  236],\n",
       "       [ 835,  135,  870,  669, 3785]])"
      ]
     },
     "execution_count": 62,
     "metadata": {},
     "output_type": "execute_result"
    }
   ],
   "source": [
    "confusion_matrix(y_train, y_train_pred)"
   ]
  },
  {
   "cell_type": "code",
   "execution_count": 115,
   "metadata": {
    "ExecuteTime": {
     "end_time": "2020-11-05T11:50:48.584407Z",
     "start_time": "2020-11-05T11:49:42.631692Z"
    }
   },
   "outputs": [
    {
     "name": "stdout",
     "output_type": "stream",
     "text": [
      "Fitting 3 folds for each of 80 candidates, totalling 240 fits\n"
     ]
    },
    {
     "name": "stderr",
     "output_type": "stream",
     "text": [
      "[Parallel(n_jobs=-1)]: Using backend LokyBackend with 12 concurrent workers.\n",
      "[Parallel(n_jobs=-1)]: Done  26 tasks      | elapsed:    5.6s\n",
      "[Parallel(n_jobs=-1)]: Done 176 tasks      | elapsed:   31.0s\n",
      "[Parallel(n_jobs=-1)]: Done 240 out of 240 | elapsed:  1.1min finished\n"
     ]
    },
    {
     "data": {
      "text/plain": [
       "GridSearchCV(cv=3, error_score=nan,\n",
       "             estimator=SGDClassifier(alpha=0.0001, average=False,\n",
       "                                     class_weight=None, early_stopping=False,\n",
       "                                     epsilon=0.1, eta0=0.0, fit_intercept=True,\n",
       "                                     l1_ratio=0.15, learning_rate='optimal',\n",
       "                                     loss='modified_huber', max_iter=1000,\n",
       "                                     n_iter_no_change=5, n_jobs=None,\n",
       "                                     penalty='l2', power_t=0.5, random_state=13,\n",
       "                                     shuffle=True, tol=0.001,\n",
       "                                     validation_fraction=0.1, verbose=0,\n",
       "                                     warm_start=False),\n",
       "             iid='deprecated', n_jobs=-1,\n",
       "             param_grid={'alpha': [0.0001, 0.001, 0.01, 0.1, 1.0, 10.0, 100.0,\n",
       "                                   1000.0],\n",
       "                         'loss': ['log', 'modified_huber', 'hinge',\n",
       "                                  'squared_hinge', 'perceptron'],\n",
       "                         'n_jobs': [-1], 'penalty': ['l2', 'elasticnet'],\n",
       "                         'random_state': [13]},\n",
       "             pre_dispatch='2*n_jobs', refit=True, return_train_score=False,\n",
       "             scoring='accuracy', verbose=1)"
      ]
     },
     "execution_count": 115,
     "metadata": {},
     "output_type": "execute_result"
    }
   ],
   "source": [
    "params = {\n",
    "    'alpha': [1e-4, 1e-3, 1e-2, 1e-1, 1e0, 1e1, 1e2, 1e3],\n",
    "    'loss': ['log', 'modified_huber', 'hinge', 'squared_hinge', 'perceptron'],\n",
    "    'penalty': ['l2', 'elasticnet'],\n",
    "    'n_jobs': [-1],\n",
    "    'random_state': [13],\n",
    "}\n",
    "\n",
    "grid_cv = GridSearchCV(sgd_clf, param_grid=params, cv=3, scoring='accuracy', verbose=1, n_jobs=-1)\n",
    "grid_cv.fit(X_train_tfidf_vect, y_train)"
   ]
  },
  {
   "cell_type": "code",
   "execution_count": 116,
   "metadata": {
    "ExecuteTime": {
     "end_time": "2020-11-05T11:50:48.589997Z",
     "start_time": "2020-11-05T11:50:48.586778Z"
    }
   },
   "outputs": [
    {
     "name": "stdout",
     "output_type": "stream",
     "text": [
      "SGDClassifier best parameters: {'alpha': 0.0001, 'loss': 'modified_huber', 'n_jobs': -1, 'penalty': 'l2', 'random_state': 13}\n",
      "SGDClassifier best accuracy score: 0.7233901899433525\n"
     ]
    }
   ],
   "source": [
    "print('SGDClassifier best parameters:', grid_cv.best_params_)\n",
    "print('SGDClassifier best accuracy score:', grid_cv.best_score_)"
   ]
  },
  {
   "cell_type": "code",
   "execution_count": 117,
   "metadata": {
    "ExecuteTime": {
     "end_time": "2020-11-05T11:50:57.680873Z",
     "start_time": "2020-11-05T11:50:56.032219Z"
    }
   },
   "outputs": [
    {
     "data": {
      "text/plain": [
       "{'fit_time': array([0.36864614, 0.30870581, 0.30912471, 0.30177593, 0.29320192]),\n",
       " 'score_time': array([0.00340509, 0.00291705, 0.00282907, 0.00284004, 0.00269508]),\n",
       " 'test_score': array([0.73397107, 0.73727366, 0.72679649, 0.73405467, 0.73075171]),\n",
       " 'train_score': array([0.87383976, 0.87557656, 0.87660156, 0.87595023, 0.87572246])}"
      ]
     },
     "execution_count": 117,
     "metadata": {},
     "output_type": "execute_result"
    }
   ],
   "source": [
    "from sklearn.model_selection import cross_validate\n",
    "\n",
    "cross_validate(sgd_clf, X_train_tfidf_vect, y_train, scoring=None, cv=skfold, return_train_score=True)"
   ]
  },
  {
   "cell_type": "markdown",
   "metadata": {},
   "source": [
    "### RidgeClassifier"
   ]
  },
  {
   "cell_type": "code",
   "execution_count": 118,
   "metadata": {
    "ExecuteTime": {
     "end_time": "2020-11-05T11:51:46.923012Z",
     "start_time": "2020-11-05T11:51:22.158526Z"
    }
   },
   "outputs": [
    {
     "name": "stdout",
     "output_type": "stream",
     "text": [
      "Fitting 3 folds for each of 16 candidates, totalling 48 fits\n"
     ]
    },
    {
     "name": "stderr",
     "output_type": "stream",
     "text": [
      "[Parallel(n_jobs=-1)]: Using backend LokyBackend with 12 concurrent workers.\n",
      "[Parallel(n_jobs=-1)]: Done  48 out of  48 | elapsed:   23.6s finished\n"
     ]
    },
    {
     "name": "stdout",
     "output_type": "stream",
     "text": [
      "RidgeClassifier best parameters: {'alpha': 1.0, 'max_iter': 100, 'normalize': False, 'random_state': 13}\n",
      "RidgeClassifier best accuracy score: 0.7193130514610009\n"
     ]
    }
   ],
   "source": [
    "rd_clf = RidgeClassifier()\n",
    "params = {\n",
    "    'alpha': [0.01, 0.1, 0.5, 1.0],\n",
    "    'normalize': [True, False],\n",
    "    'max_iter': [100, 300],\n",
    "    'random_state': [13]\n",
    "}\n",
    "\n",
    "grid_cv = GridSearchCV(rd_clf, param_grid=params, cv=3, scoring='accuracy', verbose=1, n_jobs=-1)\n",
    "grid_cv.fit(X_train_tfidf_vect, y_train)\n",
    "print('RidgeClassifier best parameters:', grid_cv.best_params_)\n",
    "print('RidgeClassifier best accuracy score:', grid_cv.best_score_)"
   ]
  },
  {
   "cell_type": "code",
   "execution_count": 119,
   "metadata": {
    "ExecuteTime": {
     "end_time": "2020-11-05T11:52:40.885537Z",
     "start_time": "2020-11-05T11:52:40.449316Z"
    }
   },
   "outputs": [
    {
     "name": "stdout",
     "output_type": "stream",
     "text": [
      "RidgeClassifier best train accuracy score: 0.8744504931325877\n",
      "RidgeClassifier best test accuracy score: 0.7160167638483965\n"
     ]
    }
   ],
   "source": [
    "rd_clf = RidgeClassifier(alpha=1.0, max_iter=100, normalize='False', random_state=13)\n",
    "rd_clf.fit(X_train_tfidf_vect, y_train)\n",
    "\n",
    "train_pred = rd_clf.predict(X_train_tfidf_vect)\n",
    "test_pred = rd_clf.predict(X_test_tfidf_vect)\n",
    "print('RidgeClassifier best train accuracy score:', accuracy_score(y_train, train_pred))\n",
    "print('RidgeClassifier best test accuracy score:', accuracy_score(y_test, test_pred))"
   ]
  },
  {
   "cell_type": "code",
   "execution_count": 120,
   "metadata": {
    "ExecuteTime": {
     "end_time": "2020-11-05T11:52:47.473602Z",
     "start_time": "2020-11-05T11:52:43.173440Z"
    }
   },
   "outputs": [
    {
     "data": {
      "text/plain": [
       "{'fit_time': array([0.37923884, 0.41128588, 0.40166497, 0.4451859 , 0.41724324,\n",
       "        0.45347404, 0.42293668, 0.39647293, 0.39820695, 0.38902593]),\n",
       " 'score_time': array([0.00254798, 0.00236702, 0.00301695, 0.00273609, 0.00250387,\n",
       "        0.00250602, 0.00255227, 0.00245404, 0.0017159 , 0.00237489]),\n",
       " 'test_score': array([0.71509907, 0.69801867, 0.71805967, 0.70888383, 0.71799544,\n",
       "        0.7191344 , 0.70410023, 0.7166287 , 0.70523918, 0.71617312]),\n",
       " 'train_score': array([0.87975805, 0.87983397, 0.87866977, 0.87965986, 0.87958393,\n",
       "        0.87907777, 0.88006479, 0.87935616, 0.87973578, 0.87996356])}"
      ]
     },
     "execution_count": 120,
     "metadata": {},
     "output_type": "execute_result"
    }
   ],
   "source": [
    "cross_validate(rd_clf, X_train_tfidf_vect, y_train, scoring=None, cv=skf, return_train_score=True)"
   ]
  },
  {
   "cell_type": "markdown",
   "metadata": {},
   "source": [
    "### LogisticRegression"
   ]
  },
  {
   "cell_type": "code",
   "execution_count": 121,
   "metadata": {
    "ExecuteTime": {
     "end_time": "2020-11-05T11:54:47.247995Z",
     "start_time": "2020-11-05T11:52:51.415679Z"
    }
   },
   "outputs": [
    {
     "name": "stdout",
     "output_type": "stream",
     "text": [
      "Fitting 5 folds for each of 12 candidates, totalling 60 fits\n"
     ]
    },
    {
     "name": "stderr",
     "output_type": "stream",
     "text": [
      "[Parallel(n_jobs=-1)]: Using backend LokyBackend with 12 concurrent workers.\n",
      "[Parallel(n_jobs=-1)]: Done  26 tasks      | elapsed:   23.9s\n",
      "[Parallel(n_jobs=-1)]: Done  60 out of  60 | elapsed:  1.7min finished\n"
     ]
    },
    {
     "name": "stdout",
     "output_type": "stream",
     "text": [
      "LogisticRegression best parameters: {'C': 1.0, 'max_iter': 500}\n",
      "LogisticRegression best accuracy score: 0.718834727807165\n"
     ]
    }
   ],
   "source": [
    "clf = LogisticRegression()\n",
    "params = {\n",
    "    'C': [0.01, 0.1, 0.5, 1.0],\n",
    "    'max_iter': [100, 200, 500],\n",
    "}\n",
    "\n",
    "grid_cv = GridSearchCV(clf, param_grid=params, scoring='accuracy', verbose=1, n_jobs=-1)\n",
    "grid_cv.fit(X_train_tfidf_vect, y_train)\n",
    "print('LogisticRegression best parameters:', grid_cv.best_params_)\n",
    "print('LogisticRegression best accuracy score:', grid_cv.best_score_)"
   ]
  },
  {
   "cell_type": "code",
   "execution_count": 122,
   "metadata": {
    "ExecuteTime": {
     "end_time": "2020-11-05T11:55:56.032964Z",
     "start_time": "2020-11-05T11:55:43.022114Z"
    }
   },
   "outputs": [
    {
     "name": "stdout",
     "output_type": "stream",
     "text": [
      "LogisticRegression train accuracy score: 0.8321754777577842\n",
      "LogisticRegression test accuracy score: 0.7258564139941691\n"
     ]
    }
   ],
   "source": [
    "lr_clf = LogisticRegression(C=1.0, max_iter=500)\n",
    "lr_clf.fit(X_train_tfidf_vect, y_train)\n",
    "\n",
    "train_pred = lr_clf.predict(X_train_tfidf_vect)\n",
    "test_pred = lr_clf.predict(X_test_tfidf_vect)\n",
    "\n",
    "print('LogisticRegression train accuracy score:', accuracy_score(y_train, train_pred))\n",
    "print('LogisticRegression test accuracy score:', accuracy_score(y_test, test_pred))"
   ]
  },
  {
   "cell_type": "markdown",
   "metadata": {},
   "source": [
    "### LGBMClassifier"
   ]
  },
  {
   "cell_type": "code",
   "execution_count": 124,
   "metadata": {
    "ExecuteTime": {
     "end_time": "2020-11-05T11:58:58.266485Z",
     "start_time": "2020-11-05T11:56:23.599670Z"
    }
   },
   "outputs": [
    {
     "name": "stdout",
     "output_type": "stream",
     "text": [
      "Fitting 5 folds for each of 48 candidates, totalling 240 fits\n"
     ]
    },
    {
     "name": "stderr",
     "output_type": "stream",
     "text": [
      "[Parallel(n_jobs=-1)]: Using backend LokyBackend with 12 concurrent workers.\n",
      "[Parallel(n_jobs=-1)]: Done  26 tasks      | elapsed:   19.0s\n",
      "[Parallel(n_jobs=-1)]: Done 176 tasks      | elapsed:  1.9min\n",
      "[Parallel(n_jobs=-1)]: Done 240 out of 240 | elapsed:  2.5min finished\n"
     ]
    },
    {
     "name": "stdout",
     "output_type": "stream",
     "text": [
      "LGBMClassifier best parameters: {'boosting_type': 'dart', 'learning_rate': 0.01, 'max_bin': 510, 'n_estimators': 8, 'num_leaves': 8, 'objective': 'binary', 'random_state': 13, 'reg_alpha': 1, 'reg_lambda': 1}\n",
      "LGBMClassifier best accuracy score: 0.34489685096134515\n"
     ]
    }
   ],
   "source": [
    "clf = LGBMClassifier()\n",
    "params = {\n",
    "    'learning_rate': [0.005, 0.01],\n",
    "    'n_estimators': [8],\n",
    "    'num_leaves': [6,8], # large num_leaves helps improve accuracy but might lead to over-fitting\n",
    "    'boosting_type' : ['dart'], # for better accuracy -> try dart\n",
    "    'objective' : ['binary'],\n",
    "    'max_bin':[255, 510], # large max_bin helps improve accuracy but might slow down training progress\n",
    "    'random_state' : [13],\n",
    "#     'colsample_bytree' : [0.64, 0.65, 0.66],\n",
    "#     'subsample' : [0.7,0.75],\n",
    "    'reg_alpha' : [1,1.2],\n",
    "    'reg_lambda' : [1,1.2,1.4],\n",
    "    }\n",
    "\n",
    "grid_cv = GridSearchCV(clf, param_grid=params, verbose=1, n_jobs=-1)\n",
    "grid_cv.fit(X_train_tfidf_vect, y_train)\n",
    "print('LGBMClassifier best parameters:', grid_cv.best_params_)\n",
    "print('LGBMClassifier best accuracy score:', grid_cv.best_score_)"
   ]
  },
  {
   "cell_type": "code",
   "execution_count": 71,
   "metadata": {
    "ExecuteTime": {
     "end_time": "2020-11-05T09:26:25.515287Z",
     "start_time": "2020-11-05T09:26:21.308000Z"
    }
   },
   "outputs": [
    {
     "name": "stdout",
     "output_type": "stream",
     "text": [
      "LGBMClassifier best accuracy score: 0.3497631195335277\n"
     ]
    }
   ],
   "source": [
    "lgb_clf = LGBMClassifier(boosting_type='dart', learning_rate=0.01, max_bin=510, n_estimators=8, num_leaves=8,\n",
    "                        objective='binary', random_state=13, reg_alpha=1, reg_lambda=1)\n",
    "lgb_clf.fit(X_train_tfidf_vect, y_train)\n",
    "pred = lgb_clf.predict(X_test_tfidf_vect)\n",
    "print('LGBMClassifier best accuracy score:', accuracy_score(y_test, pred))"
   ]
  },
  {
   "cell_type": "code",
   "execution_count": 125,
   "metadata": {
    "ExecuteTime": {
     "end_time": "2020-11-05T12:06:47.540236Z",
     "start_time": "2020-11-05T12:06:04.901009Z"
    }
   },
   "outputs": [
    {
     "name": "stdout",
     "output_type": "stream",
     "text": [
      "LGBMClassifier train accuracy score: 0.7253262874974375\n",
      "LGBMClassifier test accuracy score: 0.6535167638483965\n"
     ]
    }
   ],
   "source": [
    "lgb_clf = LGBMClassifier(random_state=13)\n",
    "lgb_clf.fit(X_train_tfidf_vect, y_train)\n",
    "\n",
    "train_pred = lgb_clf.predict(X_train_tfidf_vect)\n",
    "test_pred = lgb_clf.predict(X_test_tfidf_vect)\n",
    "\n",
    "print('LGBMClassifier train accuracy score:', accuracy_score(y_train, train_pred))\n",
    "print('LGBMClassifier test accuracy score:', accuracy_score(y_test, test_pred))"
   ]
  },
  {
   "cell_type": "code",
   "execution_count": 126,
   "metadata": {
    "ExecuteTime": {
     "end_time": "2020-11-05T12:16:15.440077Z",
     "start_time": "2020-11-05T12:13:21.427212Z"
    }
   },
   "outputs": [
    {
     "data": {
      "text/plain": [
       "{'fit_time': array([24.38510489, 27.95541   , 27.40090108, 28.05430675, 27.22628307]),\n",
       " 'score_time': array([1.60080981, 1.55342889, 1.54319096, 1.43744397, 1.56994081]),\n",
       " 'test_score': array([0.6523175 , 0.64605398, 0.64149869, 0.64840547, 0.65056948]),\n",
       " 'train_score': array([0.73173509, 0.7339844 , 0.73506634, 0.73350796, 0.73564331])}"
      ]
     },
     "execution_count": 126,
     "metadata": {},
     "output_type": "execute_result"
    }
   ],
   "source": [
    "cross_validate(lgb_clf, X_train_tfidf_vect, y_train, scoring=None, cv=skfold, return_train_score=True)"
   ]
  },
  {
   "cell_type": "markdown",
   "metadata": {},
   "source": [
    "### DecisionTreeClassifier"
   ]
  },
  {
   "cell_type": "code",
   "execution_count": 80,
   "metadata": {
    "ExecuteTime": {
     "end_time": "2020-11-05T10:49:21.480019Z",
     "start_time": "2020-11-05T10:48:58.674574Z"
    }
   },
   "outputs": [
    {
     "name": "stdout",
     "output_type": "stream",
     "text": [
      "DecisionTreeClassifier train score : 0.9914812199621894\n",
      "DecisionTreeClassifier test score : 0.49207361516034986\n"
     ]
    }
   ],
   "source": [
    "from sklearn.tree import DecisionTreeClassifier\n",
    "\n",
    "dt_clf = DecisionTreeClassifier()\n",
    "dt_clf.fit(X_train_tfidf_vect, y_train)\n",
    "\n",
    "train_pred = dt_clf.predict(X_train_tfidf_vect)\n",
    "test_pred = dt_clf.predict(X_test_tfidf_vect)\n",
    "\n",
    "print('DecisionTreeClassifier train score :', accuracy_score(y_train, train_pred))\n",
    "print('DecisionTreeClassifier test score :', accuracy_score(y_test, test_pred))"
   ]
  },
  {
   "cell_type": "code",
   "execution_count": 91,
   "metadata": {
    "ExecuteTime": {
     "end_time": "2020-11-05T10:59:56.967005Z",
     "start_time": "2020-11-05T10:59:21.682143Z"
    },
    "scrolled": true
   },
   "outputs": [
    {
     "name": "stdout",
     "output_type": "stream",
     "text": [
      "Fitting 5 folds for each of 16 candidates, totalling 80 fits\n"
     ]
    },
    {
     "name": "stderr",
     "output_type": "stream",
     "text": [
      "[Parallel(n_jobs=-1)]: Using backend LokyBackend with 12 concurrent workers.\n",
      "[Parallel(n_jobs=-1)]: Done  26 tasks      | elapsed:    7.2s\n",
      "[Parallel(n_jobs=-1)]: Done  80 out of  80 | elapsed:   31.5s finished\n"
     ]
    },
    {
     "name": "stdout",
     "output_type": "stream",
     "text": [
      "DecisionTreeClassifier best parameters: {'max_depth': 120, 'min_samples_leaf': 32, 'min_samples_split': 16, 'random_state': 13}\n",
      "DecisionTreeClassifier best accuracy score: 0.4575086922764231\n"
     ]
    }
   ],
   "source": [
    "params = {\n",
    "    'max_depth': [5, 10, 20, 120],\n",
    "    'min_samples_split': [16, 24],\n",
    "    'min_samples_leaf': [16, 32],\n",
    "    'random_state': [13]\n",
    "}\n",
    "\n",
    "grid_cv = GridSearchCV(dt_clf, param_grid=params, verbose=1, n_jobs=-1, cv=5, scoring='accuracy')\n",
    "grid_cv.fit(X_train_tfidf_vect, y_train)\n",
    "\n",
    "print('DecisionTreeClassifier best parameters:', grid_cv.best_params_)\n",
    "print('DecisionTreeClassifier best accuracy score:', grid_cv.best_score_)"
   ]
  },
  {
   "cell_type": "code",
   "execution_count": null,
   "metadata": {},
   "outputs": [],
   "source": []
  },
  {
   "cell_type": "code",
   "execution_count": null,
   "metadata": {},
   "outputs": [],
   "source": []
  },
  {
   "cell_type": "code",
   "execution_count": null,
   "metadata": {},
   "outputs": [],
   "source": []
  },
  {
   "cell_type": "code",
   "execution_count": null,
   "metadata": {},
   "outputs": [],
   "source": []
  },
  {
   "cell_type": "markdown",
   "metadata": {},
   "source": [
    "## 전처리"
   ]
  },
  {
   "cell_type": "code",
   "execution_count": 72,
   "metadata": {
    "ExecuteTime": {
     "end_time": "2020-11-05T09:26:26.375361Z",
     "start_time": "2020-11-05T09:26:25.516779Z"
    }
   },
   "outputs": [
    {
     "data": {
      "text/html": [
       "<div>\n",
       "<style scoped>\n",
       "    .dataframe tbody tr th:only-of-type {\n",
       "        vertical-align: middle;\n",
       "    }\n",
       "\n",
       "    .dataframe tbody tr th {\n",
       "        vertical-align: top;\n",
       "    }\n",
       "\n",
       "    .dataframe thead th {\n",
       "        text-align: right;\n",
       "    }\n",
       "</style>\n",
       "<table border=\"1\" class=\"dataframe\">\n",
       "  <thead>\n",
       "    <tr style=\"text-align: right;\">\n",
       "      <th></th>\n",
       "      <th>0</th>\n",
       "      <th>1</th>\n",
       "    </tr>\n",
       "  </thead>\n",
       "  <tbody>\n",
       "    <tr>\n",
       "      <th>9400</th>\n",
       "      <td>odin</td>\n",
       "      <td>4577</td>\n",
       "    </tr>\n",
       "    <tr>\n",
       "      <th>11853</th>\n",
       "      <td>said</td>\n",
       "      <td>1884</td>\n",
       "    </tr>\n",
       "    <tr>\n",
       "      <th>8429</th>\n",
       "      <td>man</td>\n",
       "      <td>765</td>\n",
       "    </tr>\n",
       "    <tr>\n",
       "      <th>8975</th>\n",
       "      <td>mr</td>\n",
       "      <td>636</td>\n",
       "    </tr>\n",
       "    <tr>\n",
       "      <th>14007</th>\n",
       "      <td>time</td>\n",
       "      <td>544</td>\n",
       "    </tr>\n",
       "    <tr>\n",
       "      <th>8163</th>\n",
       "      <td>little</td>\n",
       "      <td>533</td>\n",
       "    </tr>\n",
       "    <tr>\n",
       "      <th>12536</th>\n",
       "      <td>sir</td>\n",
       "      <td>497</td>\n",
       "    </tr>\n",
       "    <tr>\n",
       "      <th>7814</th>\n",
       "      <td>know</td>\n",
       "      <td>490</td>\n",
       "    </tr>\n",
       "    <tr>\n",
       "      <th>13896</th>\n",
       "      <td>think</td>\n",
       "      <td>488</td>\n",
       "    </tr>\n",
       "    <tr>\n",
       "      <th>2733</th>\n",
       "      <td>come</td>\n",
       "      <td>477</td>\n",
       "    </tr>\n",
       "    <tr>\n",
       "      <th>6089</th>\n",
       "      <td>good</td>\n",
       "      <td>472</td>\n",
       "    </tr>\n",
       "    <tr>\n",
       "      <th>3942</th>\n",
       "      <td>did</td>\n",
       "      <td>462</td>\n",
       "    </tr>\n",
       "    <tr>\n",
       "      <th>8098</th>\n",
       "      <td>like</td>\n",
       "      <td>439</td>\n",
       "    </tr>\n",
       "    <tr>\n",
       "      <th>11950</th>\n",
       "      <td>say</td>\n",
       "      <td>411</td>\n",
       "    </tr>\n",
       "    <tr>\n",
       "      <th>3340</th>\n",
       "      <td>cried</td>\n",
       "      <td>371</td>\n",
       "    </tr>\n",
       "    <tr>\n",
       "      <th>8806</th>\n",
       "      <td>miss</td>\n",
       "      <td>356</td>\n",
       "    </tr>\n",
       "    <tr>\n",
       "      <th>6182</th>\n",
       "      <td>great</td>\n",
       "      <td>354</td>\n",
       "    </tr>\n",
       "    <tr>\n",
       "      <th>12258</th>\n",
       "      <td>shall</td>\n",
       "      <td>345</td>\n",
       "    </tr>\n",
       "    <tr>\n",
       "      <th>8226</th>\n",
       "      <td>long</td>\n",
       "      <td>338</td>\n",
       "    </tr>\n",
       "    <tr>\n",
       "      <th>6395</th>\n",
       "      <td>hand</td>\n",
       "      <td>331</td>\n",
       "    </tr>\n",
       "  </tbody>\n",
       "</table>\n",
       "</div>"
      ],
      "text/plain": [
       "            0     1\n",
       "9400     odin  4577\n",
       "11853    said  1884\n",
       "8429      man   765\n",
       "8975       mr   636\n",
       "14007    time   544\n",
       "8163   little   533\n",
       "12536     sir   497\n",
       "7814     know   490\n",
       "13896   think   488\n",
       "2733     come   477\n",
       "6089     good   472\n",
       "3942      did   462\n",
       "8098     like   439\n",
       "11950     say   411\n",
       "3340    cried   371\n",
       "8806     miss   356\n",
       "6182    great   354\n",
       "12258   shall   345\n",
       "8226     long   338\n",
       "6395     hand   331"
      ]
     },
     "execution_count": 72,
     "metadata": {},
     "output_type": "execute_result"
    }
   ],
   "source": [
    "abc = pd.merge(X_test, y_test, left_index = True, right_index=True)\n",
    "abc['pred'] = pred\n",
    "\n",
    "# 예측이 틀린 결과 -> 데이터 프레임 화\n",
    "error_df = abc[abc['author'] != abc['pred']]\n",
    "\n",
    "# CountVectorizer로 단어 갯수 카운트\n",
    "cv = CountVectorizer(stop_words='english')   \n",
    "cv_fit=cv.fit_transform(error_df['text'])    \n",
    "word_list = cv.get_feature_names();    \n",
    "count_list = cv_fit.toarray().sum(axis=0)\n",
    "\n",
    "di = dict(zip(word_list,count_list))\n",
    "\n",
    "# 예측이 틀린 결과 중 가장 많이 나온 단어 20개 정렬\n",
    "pd.DataFrame(list(di.items())).sort_values(by=1, ascending=False)[:20]"
   ]
  },
  {
   "cell_type": "code",
   "execution_count": null,
   "metadata": {},
   "outputs": [],
   "source": []
  },
  {
   "cell_type": "code",
   "execution_count": 73,
   "metadata": {
    "ExecuteTime": {
     "end_time": "2020-11-05T09:26:26.379383Z",
     "start_time": "2020-11-05T09:26:26.377030Z"
    }
   },
   "outputs": [],
   "source": [
    "# from catboost import CatBoostClassifier\n",
    "\n",
    "# cb = CatBoostClassifier(silent=True, random_state=13, n_estimators=300).fit(X_train_tfidf_vect, y_train)\n",
    "# accuracy_score(y_train, cb.predict(X_train_tfidf_vect))\n",
    "# accuracy_score(y_test, cb.predict(X_test_tfidf_vect))"
   ]
  },
  {
   "cell_type": "code",
   "execution_count": 74,
   "metadata": {
    "ExecuteTime": {
     "end_time": "2020-11-05T09:26:26.383068Z",
     "start_time": "2020-11-05T09:26:26.381057Z"
    }
   },
   "outputs": [],
   "source": [
    "# accuracy_score(y_train, cb.predict(X_train_tfidf_vect))"
   ]
  },
  {
   "cell_type": "markdown",
   "metadata": {},
   "source": [
    "## 모델 검증"
   ]
  },
  {
   "cell_type": "code",
   "execution_count": null,
   "metadata": {},
   "outputs": [],
   "source": []
  },
  {
   "cell_type": "code",
   "execution_count": null,
   "metadata": {},
   "outputs": [],
   "source": []
  },
  {
   "cell_type": "code",
   "execution_count": null,
   "metadata": {},
   "outputs": [],
   "source": []
  },
  {
   "cell_type": "code",
   "execution_count": null,
   "metadata": {},
   "outputs": [],
   "source": []
  },
  {
   "cell_type": "code",
   "execution_count": null,
   "metadata": {},
   "outputs": [],
   "source": []
  },
  {
   "cell_type": "code",
   "execution_count": null,
   "metadata": {},
   "outputs": [],
   "source": []
  },
  {
   "cell_type": "code",
   "execution_count": null,
   "metadata": {},
   "outputs": [],
   "source": []
  },
  {
   "cell_type": "code",
   "execution_count": null,
   "metadata": {},
   "outputs": [],
   "source": []
  },
  {
   "cell_type": "code",
   "execution_count": null,
   "metadata": {},
   "outputs": [],
   "source": []
  }
 ],
 "metadata": {
  "kernelspec": {
   "display_name": "Python 3",
   "language": "python",
   "name": "python3"
  },
  "language_info": {
   "codemirror_mode": {
    "name": "ipython",
    "version": 3
   },
   "file_extension": ".py",
   "mimetype": "text/x-python",
   "name": "python",
   "nbconvert_exporter": "python",
   "pygments_lexer": "ipython3",
   "version": "3.7.9"
  },
  "toc": {
   "base_numbering": 1,
   "nav_menu": {},
   "number_sections": true,
   "sideBar": true,
   "skip_h1_title": false,
   "title_cell": "Table of Contents",
   "title_sidebar": "Contents",
   "toc_cell": false,
   "toc_position": {
    "height": "calc(100% - 180px)",
    "left": "10px",
    "top": "150px",
    "width": "336px"
   },
   "toc_section_display": true,
   "toc_window_display": true
  }
 },
 "nbformat": 4,
 "nbformat_minor": 4
}
