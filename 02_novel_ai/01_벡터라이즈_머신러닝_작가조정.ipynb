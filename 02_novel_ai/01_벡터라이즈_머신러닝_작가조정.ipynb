{
 "cells": [
  {
   "cell_type": "code",
   "execution_count": 46,
   "metadata": {
    "ExecuteTime": {
     "end_time": "2020-11-05T05:07:38.769533Z",
     "start_time": "2020-11-05T05:07:38.220493Z"
    }
   },
   "outputs": [],
   "source": [
    "import pandas as pd\n",
    "import warnings \n",
    "warnings.filterwarnings(action='ignore')\n",
    "import numpy as np\n",
    "import re\n",
    "import nltk\n",
    "from sklearn.model_selection import train_test_split\n",
    "from nltk import word_tokenize\n",
    "from wordcloud import WordCloud, STOPWORDS\n",
    "import matplotlib.pyplot as plt\n",
    "%matplotlib inline"
   ]
  },
  {
   "cell_type": "markdown",
   "metadata": {},
   "source": [
    "## 데이터 확인"
   ]
  },
  {
   "cell_type": "code",
   "execution_count": 2,
   "metadata": {},
   "outputs": [
    {
     "data": {
      "text/plain": [
       "['i',\n",
       " 'me',\n",
       " 'my',\n",
       " 'myself',\n",
       " 'we',\n",
       " 'our',\n",
       " 'ours',\n",
       " 'ourselves',\n",
       " 'you',\n",
       " \"you're\",\n",
       " \"you've\",\n",
       " \"you'll\",\n",
       " \"you'd\",\n",
       " 'your',\n",
       " 'yours',\n",
       " 'yourself',\n",
       " 'yourselves',\n",
       " 'he',\n",
       " 'him',\n",
       " 'his',\n",
       " 'himself',\n",
       " 'she',\n",
       " \"she's\",\n",
       " 'her',\n",
       " 'hers',\n",
       " 'herself',\n",
       " 'it',\n",
       " \"it's\",\n",
       " 'its',\n",
       " 'itself',\n",
       " 'they',\n",
       " 'them',\n",
       " 'their',\n",
       " 'theirs',\n",
       " 'themselves',\n",
       " 'what',\n",
       " 'which',\n",
       " 'who',\n",
       " 'whom',\n",
       " 'this',\n",
       " 'that',\n",
       " \"that'll\",\n",
       " 'these',\n",
       " 'those',\n",
       " 'am',\n",
       " 'is',\n",
       " 'are',\n",
       " 'was',\n",
       " 'were',\n",
       " 'be',\n",
       " 'been',\n",
       " 'being',\n",
       " 'have',\n",
       " 'has',\n",
       " 'had',\n",
       " 'having',\n",
       " 'do',\n",
       " 'does',\n",
       " 'did',\n",
       " 'doing',\n",
       " 'a',\n",
       " 'an',\n",
       " 'the',\n",
       " 'and',\n",
       " 'but',\n",
       " 'if',\n",
       " 'or',\n",
       " 'because',\n",
       " 'as',\n",
       " 'until',\n",
       " 'while',\n",
       " 'of',\n",
       " 'at',\n",
       " 'by',\n",
       " 'for',\n",
       " 'with',\n",
       " 'about',\n",
       " 'against',\n",
       " 'between',\n",
       " 'into',\n",
       " 'through',\n",
       " 'during',\n",
       " 'before',\n",
       " 'after',\n",
       " 'above',\n",
       " 'below',\n",
       " 'to',\n",
       " 'from',\n",
       " 'up',\n",
       " 'down',\n",
       " 'in',\n",
       " 'out',\n",
       " 'on',\n",
       " 'off',\n",
       " 'over',\n",
       " 'under',\n",
       " 'again',\n",
       " 'further',\n",
       " 'then',\n",
       " 'once',\n",
       " 'here',\n",
       " 'there',\n",
       " 'when',\n",
       " 'where',\n",
       " 'why',\n",
       " 'how',\n",
       " 'all',\n",
       " 'any',\n",
       " 'both',\n",
       " 'each',\n",
       " 'few',\n",
       " 'more',\n",
       " 'most',\n",
       " 'other',\n",
       " 'some',\n",
       " 'such',\n",
       " 'no',\n",
       " 'nor',\n",
       " 'not',\n",
       " 'only',\n",
       " 'own',\n",
       " 'same',\n",
       " 'so',\n",
       " 'than',\n",
       " 'too',\n",
       " 'very',\n",
       " 's',\n",
       " 't',\n",
       " 'can',\n",
       " 'will',\n",
       " 'just',\n",
       " 'don',\n",
       " \"don't\",\n",
       " 'should',\n",
       " \"should've\",\n",
       " 'now',\n",
       " 'd',\n",
       " 'll',\n",
       " 'm',\n",
       " 'o',\n",
       " 're',\n",
       " 've',\n",
       " 'y',\n",
       " 'ain',\n",
       " 'aren',\n",
       " \"aren't\",\n",
       " 'couldn',\n",
       " \"couldn't\",\n",
       " 'didn',\n",
       " \"didn't\",\n",
       " 'doesn',\n",
       " \"doesn't\",\n",
       " 'hadn',\n",
       " \"hadn't\",\n",
       " 'hasn',\n",
       " \"hasn't\",\n",
       " 'haven',\n",
       " \"haven't\",\n",
       " 'isn',\n",
       " \"isn't\",\n",
       " 'ma',\n",
       " 'mightn',\n",
       " \"mightn't\",\n",
       " 'mustn',\n",
       " \"mustn't\",\n",
       " 'needn',\n",
       " \"needn't\",\n",
       " 'shan',\n",
       " \"shan't\",\n",
       " 'shouldn',\n",
       " \"shouldn't\",\n",
       " 'wasn',\n",
       " \"wasn't\",\n",
       " 'weren',\n",
       " \"weren't\",\n",
       " 'won',\n",
       " \"won't\",\n",
       " 'wouldn',\n",
       " \"wouldn't\",\n",
       " '//////',\n",
       " 'odin',\n",
       " 'said',\n",
       " 'man',\n",
       " 'mr',\n",
       " 'time',\n",
       " 'little',\n",
       " 'sir',\n",
       " 'think',\n",
       " 'know',\n",
       " 'come',\n",
       " 'good',\n",
       " 'did',\n",
       " 'like',\n",
       " 'say',\n",
       " 'cried',\n",
       " 'great',\n",
       " 'miss',\n",
       " 'shall',\n",
       " 'long',\n",
       " 'hand',\n",
       " '1']"
      ]
     },
     "execution_count": 2,
     "metadata": {},
     "output_type": "execute_result"
    }
   ],
   "source": [
    "from nltk.corpus import stopwords\n",
    "stop = stopwords.words('english')\n",
    "stop"
   ]
  },
  {
   "cell_type": "code",
   "execution_count": 47,
   "metadata": {
    "ExecuteTime": {
     "end_time": "2020-11-05T05:07:39.015480Z",
     "start_time": "2020-11-05T05:07:38.772009Z"
    }
   },
   "outputs": [],
   "source": [
    "# 파일 불러오기\n",
    "\n",
    "train = pd.read_csv('./open/train.csv', encoding='utf-8')\n",
    "test_x = pd.read_csv('./open/test_x.csv', encoding='utf-8')\n",
    "submission = pd.read_csv('./open/sample_submission.csv', encoding='utf-8')"
   ]
  },
  {
   "cell_type": "markdown",
   "metadata": {},
   "source": [
    "### train data\n",
    "- 실제 작가와 작가가 작성한 Text가 라벨링된 데이터프레임"
   ]
  },
  {
   "cell_type": "code",
   "execution_count": 4,
   "metadata": {
    "ExecuteTime": {
     "end_time": "2020-11-05T05:07:39.073454Z",
     "start_time": "2020-11-05T05:07:39.017561Z"
    },
    "scrolled": true
   },
   "outputs": [
    {
     "data": {
      "text/html": [
       "<div>\n",
       "<style scoped>\n",
       "    .dataframe tbody tr th:only-of-type {\n",
       "        vertical-align: middle;\n",
       "    }\n",
       "\n",
       "    .dataframe tbody tr th {\n",
       "        vertical-align: top;\n",
       "    }\n",
       "\n",
       "    .dataframe thead th {\n",
       "        text-align: right;\n",
       "    }\n",
       "</style>\n",
       "<table border=\"1\" class=\"dataframe\">\n",
       "  <thead>\n",
       "    <tr style=\"text-align: right;\">\n",
       "      <th></th>\n",
       "      <th>index</th>\n",
       "      <th>text</th>\n",
       "      <th>author</th>\n",
       "    </tr>\n",
       "  </thead>\n",
       "  <tbody>\n",
       "    <tr>\n",
       "      <th>0</th>\n",
       "      <td>0</td>\n",
       "      <td>He was almost choking. There was so much, so m...</td>\n",
       "      <td>3</td>\n",
       "    </tr>\n",
       "    <tr>\n",
       "      <th>1</th>\n",
       "      <td>1</td>\n",
       "      <td>“Your sister asked for it, I suppose?”</td>\n",
       "      <td>2</td>\n",
       "    </tr>\n",
       "    <tr>\n",
       "      <th>2</th>\n",
       "      <td>2</td>\n",
       "      <td>She was engaged one day as she walked, in per...</td>\n",
       "      <td>1</td>\n",
       "    </tr>\n",
       "    <tr>\n",
       "      <th>3</th>\n",
       "      <td>3</td>\n",
       "      <td>The captain was in the porch, keeping himself ...</td>\n",
       "      <td>4</td>\n",
       "    </tr>\n",
       "    <tr>\n",
       "      <th>4</th>\n",
       "      <td>4</td>\n",
       "      <td>“Have mercy, gentlemen!” odin flung up his han...</td>\n",
       "      <td>3</td>\n",
       "    </tr>\n",
       "    <tr>\n",
       "      <th>...</th>\n",
       "      <td>...</td>\n",
       "      <td>...</td>\n",
       "      <td>...</td>\n",
       "    </tr>\n",
       "    <tr>\n",
       "      <th>54874</th>\n",
       "      <td>54874</td>\n",
       "      <td>“Is that you, Mr. Smith?” odin whispered. “I h...</td>\n",
       "      <td>2</td>\n",
       "    </tr>\n",
       "    <tr>\n",
       "      <th>54875</th>\n",
       "      <td>54875</td>\n",
       "      <td>I told my plan to the captain, and between us ...</td>\n",
       "      <td>4</td>\n",
       "    </tr>\n",
       "    <tr>\n",
       "      <th>54876</th>\n",
       "      <td>54876</td>\n",
       "      <td>\"Your sincere well-wisher, friend, and sister...</td>\n",
       "      <td>1</td>\n",
       "    </tr>\n",
       "    <tr>\n",
       "      <th>54877</th>\n",
       "      <td>54877</td>\n",
       "      <td>“Then you wanted me to lend you money?”</td>\n",
       "      <td>3</td>\n",
       "    </tr>\n",
       "    <tr>\n",
       "      <th>54878</th>\n",
       "      <td>54878</td>\n",
       "      <td>It certainly had not occurred to me before, bu...</td>\n",
       "      <td>0</td>\n",
       "    </tr>\n",
       "  </tbody>\n",
       "</table>\n",
       "<p>54879 rows × 3 columns</p>\n",
       "</div>"
      ],
      "text/plain": [
       "       index                                               text  author\n",
       "0          0  He was almost choking. There was so much, so m...       3\n",
       "1          1             “Your sister asked for it, I suppose?”       2\n",
       "2          2   She was engaged one day as she walked, in per...       1\n",
       "3          3  The captain was in the porch, keeping himself ...       4\n",
       "4          4  “Have mercy, gentlemen!” odin flung up his han...       3\n",
       "...      ...                                                ...     ...\n",
       "54874  54874  “Is that you, Mr. Smith?” odin whispered. “I h...       2\n",
       "54875  54875  I told my plan to the captain, and between us ...       4\n",
       "54876  54876   \"Your sincere well-wisher, friend, and sister...       1\n",
       "54877  54877            “Then you wanted me to lend you money?”       3\n",
       "54878  54878  It certainly had not occurred to me before, bu...       0\n",
       "\n",
       "[54879 rows x 3 columns]"
      ]
     },
     "execution_count": 4,
     "metadata": {},
     "output_type": "execute_result"
    }
   ],
   "source": [
    "train"
   ]
  },
  {
   "cell_type": "code",
   "execution_count": 5,
   "metadata": {
    "ExecuteTime": {
     "end_time": "2020-11-05T05:07:39.083571Z",
     "start_time": "2020-11-05T05:07:39.075608Z"
    }
   },
   "outputs": [
    {
     "data": {
      "text/plain": [
       "(array([3, 2, 1, 4, 0]), 3    15063\n",
       " 0    13235\n",
       " 2    11554\n",
       " 4     7805\n",
       " 1     7222\n",
       " Name: author, dtype: int64)"
      ]
     },
     "execution_count": 5,
     "metadata": {},
     "output_type": "execute_result"
    }
   ],
   "source": [
    "train.author.unique(), train.author.value_counts()"
   ]
  },
  {
   "cell_type": "markdown",
   "metadata": {},
   "source": [
    "### text_x\n",
    "- train data를 학습시켜 어떤 작가가 작성했는지 분석해야할 데이터프레임"
   ]
  },
  {
   "cell_type": "code",
   "execution_count": 6,
   "metadata": {
    "ExecuteTime": {
     "end_time": "2020-11-05T05:07:39.094898Z",
     "start_time": "2020-11-05T05:07:39.085817Z"
    }
   },
   "outputs": [
    {
     "data": {
      "text/html": [
       "<div>\n",
       "<style scoped>\n",
       "    .dataframe tbody tr th:only-of-type {\n",
       "        vertical-align: middle;\n",
       "    }\n",
       "\n",
       "    .dataframe tbody tr th {\n",
       "        vertical-align: top;\n",
       "    }\n",
       "\n",
       "    .dataframe thead th {\n",
       "        text-align: right;\n",
       "    }\n",
       "</style>\n",
       "<table border=\"1\" class=\"dataframe\">\n",
       "  <thead>\n",
       "    <tr style=\"text-align: right;\">\n",
       "      <th></th>\n",
       "      <th>index</th>\n",
       "      <th>text</th>\n",
       "    </tr>\n",
       "  </thead>\n",
       "  <tbody>\n",
       "    <tr>\n",
       "      <th>0</th>\n",
       "      <td>0</td>\n",
       "      <td>“Not at all. I think she is one of the most ch...</td>\n",
       "    </tr>\n",
       "    <tr>\n",
       "      <th>1</th>\n",
       "      <td>1</td>\n",
       "      <td>\"No,\" replied he, with sudden consciousness, \"...</td>\n",
       "    </tr>\n",
       "    <tr>\n",
       "      <th>2</th>\n",
       "      <td>2</td>\n",
       "      <td>As the lady had stated her intention of scream...</td>\n",
       "    </tr>\n",
       "    <tr>\n",
       "      <th>3</th>\n",
       "      <td>3</td>\n",
       "      <td>“And then suddenly in the silence I heard a so...</td>\n",
       "    </tr>\n",
       "    <tr>\n",
       "      <th>4</th>\n",
       "      <td>4</td>\n",
       "      <td>His conviction remained unchanged. So far as I...</td>\n",
       "    </tr>\n",
       "    <tr>\n",
       "      <th>...</th>\n",
       "      <td>...</td>\n",
       "      <td>...</td>\n",
       "    </tr>\n",
       "    <tr>\n",
       "      <th>19612</th>\n",
       "      <td>19612</td>\n",
       "      <td>At the end of another day or two, odin growing...</td>\n",
       "    </tr>\n",
       "    <tr>\n",
       "      <th>19613</th>\n",
       "      <td>19613</td>\n",
       "      <td>All afternoon we sat together, mostly in silen...</td>\n",
       "    </tr>\n",
       "    <tr>\n",
       "      <th>19614</th>\n",
       "      <td>19614</td>\n",
       "      <td>odin, having carried his thanks to odin, proc...</td>\n",
       "    </tr>\n",
       "    <tr>\n",
       "      <th>19615</th>\n",
       "      <td>19615</td>\n",
       "      <td>Soon after this, upon odin's leaving the room,...</td>\n",
       "    </tr>\n",
       "    <tr>\n",
       "      <th>19616</th>\n",
       "      <td>19616</td>\n",
       "      <td>And all the worse for the doomed man, that the...</td>\n",
       "    </tr>\n",
       "  </tbody>\n",
       "</table>\n",
       "<p>19617 rows × 2 columns</p>\n",
       "</div>"
      ],
      "text/plain": [
       "       index                                               text\n",
       "0          0  “Not at all. I think she is one of the most ch...\n",
       "1          1  \"No,\" replied he, with sudden consciousness, \"...\n",
       "2          2  As the lady had stated her intention of scream...\n",
       "3          3  “And then suddenly in the silence I heard a so...\n",
       "4          4  His conviction remained unchanged. So far as I...\n",
       "...      ...                                                ...\n",
       "19612  19612  At the end of another day or two, odin growing...\n",
       "19613  19613  All afternoon we sat together, mostly in silen...\n",
       "19614  19614   odin, having carried his thanks to odin, proc...\n",
       "19615  19615  Soon after this, upon odin's leaving the room,...\n",
       "19616  19616  And all the worse for the doomed man, that the...\n",
       "\n",
       "[19617 rows x 2 columns]"
      ]
     },
     "execution_count": 6,
     "metadata": {},
     "output_type": "execute_result"
    }
   ],
   "source": [
    "test_x"
   ]
  },
  {
   "cell_type": "markdown",
   "metadata": {},
   "source": [
    "### submission\n",
    "- 제출 형태\n",
    "- 가로 index : 작가 명"
   ]
  },
  {
   "cell_type": "code",
   "execution_count": 7,
   "metadata": {
    "ExecuteTime": {
     "end_time": "2020-11-05T05:07:39.105613Z",
     "start_time": "2020-11-05T05:07:39.096621Z"
    }
   },
   "outputs": [
    {
     "data": {
      "text/html": [
       "<div>\n",
       "<style scoped>\n",
       "    .dataframe tbody tr th:only-of-type {\n",
       "        vertical-align: middle;\n",
       "    }\n",
       "\n",
       "    .dataframe tbody tr th {\n",
       "        vertical-align: top;\n",
       "    }\n",
       "\n",
       "    .dataframe thead th {\n",
       "        text-align: right;\n",
       "    }\n",
       "</style>\n",
       "<table border=\"1\" class=\"dataframe\">\n",
       "  <thead>\n",
       "    <tr style=\"text-align: right;\">\n",
       "      <th></th>\n",
       "      <th>index</th>\n",
       "      <th>0</th>\n",
       "      <th>1</th>\n",
       "      <th>2</th>\n",
       "      <th>3</th>\n",
       "      <th>4</th>\n",
       "    </tr>\n",
       "  </thead>\n",
       "  <tbody>\n",
       "    <tr>\n",
       "      <th>0</th>\n",
       "      <td>0</td>\n",
       "      <td>0</td>\n",
       "      <td>0</td>\n",
       "      <td>0</td>\n",
       "      <td>0</td>\n",
       "      <td>0</td>\n",
       "    </tr>\n",
       "    <tr>\n",
       "      <th>1</th>\n",
       "      <td>1</td>\n",
       "      <td>0</td>\n",
       "      <td>0</td>\n",
       "      <td>0</td>\n",
       "      <td>0</td>\n",
       "      <td>0</td>\n",
       "    </tr>\n",
       "    <tr>\n",
       "      <th>2</th>\n",
       "      <td>2</td>\n",
       "      <td>0</td>\n",
       "      <td>0</td>\n",
       "      <td>0</td>\n",
       "      <td>0</td>\n",
       "      <td>0</td>\n",
       "    </tr>\n",
       "    <tr>\n",
       "      <th>3</th>\n",
       "      <td>3</td>\n",
       "      <td>0</td>\n",
       "      <td>0</td>\n",
       "      <td>0</td>\n",
       "      <td>0</td>\n",
       "      <td>0</td>\n",
       "    </tr>\n",
       "    <tr>\n",
       "      <th>4</th>\n",
       "      <td>4</td>\n",
       "      <td>0</td>\n",
       "      <td>0</td>\n",
       "      <td>0</td>\n",
       "      <td>0</td>\n",
       "      <td>0</td>\n",
       "    </tr>\n",
       "    <tr>\n",
       "      <th>...</th>\n",
       "      <td>...</td>\n",
       "      <td>...</td>\n",
       "      <td>...</td>\n",
       "      <td>...</td>\n",
       "      <td>...</td>\n",
       "      <td>...</td>\n",
       "    </tr>\n",
       "    <tr>\n",
       "      <th>19612</th>\n",
       "      <td>19612</td>\n",
       "      <td>0</td>\n",
       "      <td>0</td>\n",
       "      <td>0</td>\n",
       "      <td>0</td>\n",
       "      <td>0</td>\n",
       "    </tr>\n",
       "    <tr>\n",
       "      <th>19613</th>\n",
       "      <td>19613</td>\n",
       "      <td>0</td>\n",
       "      <td>0</td>\n",
       "      <td>0</td>\n",
       "      <td>0</td>\n",
       "      <td>0</td>\n",
       "    </tr>\n",
       "    <tr>\n",
       "      <th>19614</th>\n",
       "      <td>19614</td>\n",
       "      <td>0</td>\n",
       "      <td>0</td>\n",
       "      <td>0</td>\n",
       "      <td>0</td>\n",
       "      <td>0</td>\n",
       "    </tr>\n",
       "    <tr>\n",
       "      <th>19615</th>\n",
       "      <td>19615</td>\n",
       "      <td>0</td>\n",
       "      <td>0</td>\n",
       "      <td>0</td>\n",
       "      <td>0</td>\n",
       "      <td>0</td>\n",
       "    </tr>\n",
       "    <tr>\n",
       "      <th>19616</th>\n",
       "      <td>19616</td>\n",
       "      <td>0</td>\n",
       "      <td>0</td>\n",
       "      <td>0</td>\n",
       "      <td>0</td>\n",
       "      <td>0</td>\n",
       "    </tr>\n",
       "  </tbody>\n",
       "</table>\n",
       "<p>19617 rows × 6 columns</p>\n",
       "</div>"
      ],
      "text/plain": [
       "       index  0  1  2  3  4\n",
       "0          0  0  0  0  0  0\n",
       "1          1  0  0  0  0  0\n",
       "2          2  0  0  0  0  0\n",
       "3          3  0  0  0  0  0\n",
       "4          4  0  0  0  0  0\n",
       "...      ... .. .. .. .. ..\n",
       "19612  19612  0  0  0  0  0\n",
       "19613  19613  0  0  0  0  0\n",
       "19614  19614  0  0  0  0  0\n",
       "19615  19615  0  0  0  0  0\n",
       "19616  19616  0  0  0  0  0\n",
       "\n",
       "[19617 rows x 6 columns]"
      ]
     },
     "execution_count": 7,
     "metadata": {},
     "output_type": "execute_result"
    }
   ],
   "source": [
    "submission"
   ]
  },
  {
   "cell_type": "markdown",
   "metadata": {},
   "source": [
    "## 전처리"
   ]
  },
  {
   "cell_type": "markdown",
   "metadata": {},
   "source": [
    "### nltk.stopwords + train_test_split"
   ]
  },
  {
   "cell_type": "code",
   "execution_count": 1,
   "metadata": {},
   "outputs": [
    {
     "data": {
      "text/html": [
       "<div>\n",
       "<style scoped>\n",
       "    .dataframe tbody tr th:only-of-type {\n",
       "        vertical-align: middle;\n",
       "    }\n",
       "\n",
       "    .dataframe tbody tr th {\n",
       "        vertical-align: top;\n",
       "    }\n",
       "\n",
       "    .dataframe thead th {\n",
       "        text-align: right;\n",
       "    }\n",
       "</style>\n",
       "<table border=\"1\" class=\"dataframe\">\n",
       "  <thead>\n",
       "    <tr style=\"text-align: right;\">\n",
       "      <th></th>\n",
       "      <th>text</th>\n",
       "      <th>author</th>\n",
       "    </tr>\n",
       "  </thead>\n",
       "  <tbody>\n",
       "    <tr>\n",
       "      <th>0</th>\n",
       "      <td>he was almost choking there was so much so muc...</td>\n",
       "      <td>3</td>\n",
       "    </tr>\n",
       "    <tr>\n",
       "      <th>1</th>\n",
       "      <td>your sister asked for it i suppose</td>\n",
       "      <td>2</td>\n",
       "    </tr>\n",
       "    <tr>\n",
       "      <th>2</th>\n",
       "      <td>she was engaged one day as she walked in perus...</td>\n",
       "      <td>1</td>\n",
       "    </tr>\n",
       "    <tr>\n",
       "      <th>3</th>\n",
       "      <td>the captain was in the porch keeping himself c...</td>\n",
       "      <td>4</td>\n",
       "    </tr>\n",
       "    <tr>\n",
       "      <th>4</th>\n",
       "      <td>have mercy gentlemen odin flung up his hands  ...</td>\n",
       "      <td>3</td>\n",
       "    </tr>\n",
       "    <tr>\n",
       "      <th>...</th>\n",
       "      <td>...</td>\n",
       "      <td>...</td>\n",
       "    </tr>\n",
       "    <tr>\n",
       "      <th>54874</th>\n",
       "      <td>is that you mr smith odin whispered  i hardly ...</td>\n",
       "      <td>2</td>\n",
       "    </tr>\n",
       "    <tr>\n",
       "      <th>54875</th>\n",
       "      <td>i told my plan to the captain and between us w...</td>\n",
       "      <td>4</td>\n",
       "    </tr>\n",
       "    <tr>\n",
       "      <th>54876</th>\n",
       "      <td>your sincere well wisher friend and sister luc...</td>\n",
       "      <td>1</td>\n",
       "    </tr>\n",
       "    <tr>\n",
       "      <th>54877</th>\n",
       "      <td>then you wanted me to lend you money</td>\n",
       "      <td>3</td>\n",
       "    </tr>\n",
       "    <tr>\n",
       "      <th>54878</th>\n",
       "      <td>it certainly had not occurred to me before but...</td>\n",
       "      <td>0</td>\n",
       "    </tr>\n",
       "  </tbody>\n",
       "</table>\n",
       "<p>54879 rows × 2 columns</p>\n",
       "</div>"
      ],
      "text/plain": [
       "                                                    text  author\n",
       "0      he was almost choking there was so much so muc...       3\n",
       "1                     your sister asked for it i suppose       2\n",
       "2      she was engaged one day as she walked in perus...       1\n",
       "3      the captain was in the porch keeping himself c...       4\n",
       "4      have mercy gentlemen odin flung up his hands  ...       3\n",
       "...                                                  ...     ...\n",
       "54874  is that you mr smith odin whispered  i hardly ...       2\n",
       "54875  i told my plan to the captain and between us w...       4\n",
       "54876  your sincere well wisher friend and sister luc...       1\n",
       "54877               then you wanted me to lend you money       3\n",
       "54878  it certainly had not occurred to me before but...       0\n",
       "\n",
       "[54879 rows x 2 columns]"
      ]
     },
     "execution_count": 1,
     "metadata": {},
     "output_type": "execute_result"
    }
   ],
   "source": [
    "X = pd.read_csv('open/word.csv')\n",
    "X.text = X.text.astype('str')\n",
    "X"
   ]
  },
  {
   "cell_type": "code",
   "execution_count": 48,
   "metadata": {
    "scrolled": true
   },
   "outputs": [
    {
     "data": {
      "text/html": [
       "<div>\n",
       "<style scoped>\n",
       "    .dataframe tbody tr th:only-of-type {\n",
       "        vertical-align: middle;\n",
       "    }\n",
       "\n",
       "    .dataframe tbody tr th {\n",
       "        vertical-align: top;\n",
       "    }\n",
       "\n",
       "    .dataframe thead th {\n",
       "        text-align: right;\n",
       "    }\n",
       "</style>\n",
       "<table border=\"1\" class=\"dataframe\">\n",
       "  <thead>\n",
       "    <tr style=\"text-align: right;\">\n",
       "      <th></th>\n",
       "      <th>index</th>\n",
       "      <th>text</th>\n",
       "      <th>author</th>\n",
       "    </tr>\n",
       "  </thead>\n",
       "  <tbody>\n",
       "    <tr>\n",
       "      <th>0</th>\n",
       "      <td>31768</td>\n",
       "      <td>The suitor, kissing the hem of the garment aga...</td>\n",
       "      <td>0</td>\n",
       "    </tr>\n",
       "    <tr>\n",
       "      <th>1</th>\n",
       "      <td>21061</td>\n",
       "      <td>“At,” repeated Mr. odin, still looking at the ...</td>\n",
       "      <td>0</td>\n",
       "    </tr>\n",
       "    <tr>\n",
       "      <th>2</th>\n",
       "      <td>10750</td>\n",
       "      <td>“Dear, dear! Give it me back, Mum,” said Flops...</td>\n",
       "      <td>0</td>\n",
       "    </tr>\n",
       "    <tr>\n",
       "      <th>3</th>\n",
       "      <td>47317</td>\n",
       "      <td>‘Be calm, my dear ma’am,’ said Mr. Chillip, in...</td>\n",
       "      <td>0</td>\n",
       "    </tr>\n",
       "    <tr>\n",
       "      <th>4</th>\n",
       "      <td>16917</td>\n",
       "      <td>Because he had voluntarily relinquished a titl...</td>\n",
       "      <td>0</td>\n",
       "    </tr>\n",
       "    <tr>\n",
       "      <th>...</th>\n",
       "      <td>...</td>\n",
       "      <td>...</td>\n",
       "      <td>...</td>\n",
       "    </tr>\n",
       "    <tr>\n",
       "      <th>4995</th>\n",
       "      <td>23423</td>\n",
       "      <td>“One Hundred and Five, North Tower.”</td>\n",
       "      <td>0</td>\n",
       "    </tr>\n",
       "    <tr>\n",
       "      <th>4996</th>\n",
       "      <td>12898</td>\n",
       "      <td>“I made the patient swallow, with great diffic...</td>\n",
       "      <td>0</td>\n",
       "    </tr>\n",
       "    <tr>\n",
       "      <th>4997</th>\n",
       "      <td>16349</td>\n",
       "      <td>'What am I to do?' said odin. 'I should not le...</td>\n",
       "      <td>0</td>\n",
       "    </tr>\n",
       "    <tr>\n",
       "      <th>4998</th>\n",
       "      <td>41697</td>\n",
       "      <td>'No!' cried the doctor, passionately. 'As He i...</td>\n",
       "      <td>0</td>\n",
       "    </tr>\n",
       "    <tr>\n",
       "      <th>4999</th>\n",
       "      <td>39084</td>\n",
       "      <td>The old gentleman stopped, laid down his pen, ...</td>\n",
       "      <td>0</td>\n",
       "    </tr>\n",
       "  </tbody>\n",
       "</table>\n",
       "<p>5000 rows × 3 columns</p>\n",
       "</div>"
      ],
      "text/plain": [
       "      index                                               text  author\n",
       "0     31768  The suitor, kissing the hem of the garment aga...       0\n",
       "1     21061  “At,” repeated Mr. odin, still looking at the ...       0\n",
       "2     10750  “Dear, dear! Give it me back, Mum,” said Flops...       0\n",
       "3     47317  ‘Be calm, my dear ma’am,’ said Mr. Chillip, in...       0\n",
       "4     16917  Because he had voluntarily relinquished a titl...       0\n",
       "...     ...                                                ...     ...\n",
       "4995  23423               “One Hundred and Five, North Tower.”       0\n",
       "4996  12898  “I made the patient swallow, with great diffic...       0\n",
       "4997  16349  'What am I to do?' said odin. 'I should not le...       0\n",
       "4998  41697  'No!' cried the doctor, passionately. 'As He i...       0\n",
       "4999  39084  The old gentleman stopped, laid down his pen, ...       0\n",
       "\n",
       "[5000 rows x 3 columns]"
      ]
     },
     "execution_count": 48,
     "metadata": {},
     "output_type": "execute_result"
    }
   ],
   "source": [
    "x0 = train[train['author'] == 0].reset_index(drop=True)\n",
    "x00 = x0.sample(n=5000, random_state=13).reset_index(drop=True)\n",
    "x00"
   ]
  },
  {
   "cell_type": "code",
   "execution_count": 49,
   "metadata": {},
   "outputs": [
    {
     "data": {
      "text/html": [
       "<div>\n",
       "<style scoped>\n",
       "    .dataframe tbody tr th:only-of-type {\n",
       "        vertical-align: middle;\n",
       "    }\n",
       "\n",
       "    .dataframe tbody tr th {\n",
       "        vertical-align: top;\n",
       "    }\n",
       "\n",
       "    .dataframe thead th {\n",
       "        text-align: right;\n",
       "    }\n",
       "</style>\n",
       "<table border=\"1\" class=\"dataframe\">\n",
       "  <thead>\n",
       "    <tr style=\"text-align: right;\">\n",
       "      <th></th>\n",
       "      <th>text</th>\n",
       "      <th>author</th>\n",
       "    </tr>\n",
       "  </thead>\n",
       "  <tbody>\n",
       "    <tr>\n",
       "      <th>0</th>\n",
       "      <td>it was bad very bad in me against such a creat...</td>\n",
       "      <td>1</td>\n",
       "    </tr>\n",
       "    <tr>\n",
       "      <th>1</th>\n",
       "      <td>on ascending the stairs the miss odins found s...</td>\n",
       "      <td>1</td>\n",
       "    </tr>\n",
       "    <tr>\n",
       "      <th>2</th>\n",
       "      <td>did you say that you had something to tell me sir</td>\n",
       "      <td>1</td>\n",
       "    </tr>\n",
       "    <tr>\n",
       "      <th>3</th>\n",
       "      <td>nay i had it from you you wrote me word of it ...</td>\n",
       "      <td>1</td>\n",
       "    </tr>\n",
       "    <tr>\n",
       "      <th>4</th>\n",
       "      <td>oh god her father and mother</td>\n",
       "      <td>1</td>\n",
       "    </tr>\n",
       "    <tr>\n",
       "      <th>...</th>\n",
       "      <td>...</td>\n",
       "      <td>...</td>\n",
       "    </tr>\n",
       "    <tr>\n",
       "      <th>4995</th>\n",
       "      <td>i should have thought said anne that my manner...</td>\n",
       "      <td>1</td>\n",
       "    </tr>\n",
       "    <tr>\n",
       "      <th>4996</th>\n",
       "      <td>such expressions assisted as they were by ever...</td>\n",
       "      <td>1</td>\n",
       "    </tr>\n",
       "    <tr>\n",
       "      <th>4997</th>\n",
       "      <td>of course said odin you will mention our seein...</td>\n",
       "      <td>1</td>\n",
       "    </tr>\n",
       "    <tr>\n",
       "      <th>4998</th>\n",
       "      <td>i will not oppose such kind politeness but i s...</td>\n",
       "      <td>1</td>\n",
       "    </tr>\n",
       "    <tr>\n",
       "      <th>4999</th>\n",
       "      <td>some acquaintance or other my dear i suppose i...</td>\n",
       "      <td>1</td>\n",
       "    </tr>\n",
       "  </tbody>\n",
       "</table>\n",
       "<p>5000 rows × 2 columns</p>\n",
       "</div>"
      ],
      "text/plain": [
       "                                                   text  author\n",
       "0     it was bad very bad in me against such a creat...       1\n",
       "1     on ascending the stairs the miss odins found s...       1\n",
       "2     did you say that you had something to tell me sir       1\n",
       "3     nay i had it from you you wrote me word of it ...       1\n",
       "4                          oh god her father and mother       1\n",
       "...                                                 ...     ...\n",
       "4995  i should have thought said anne that my manner...       1\n",
       "4996  such expressions assisted as they were by ever...       1\n",
       "4997  of course said odin you will mention our seein...       1\n",
       "4998  i will not oppose such kind politeness but i s...       1\n",
       "4999  some acquaintance or other my dear i suppose i...       1\n",
       "\n",
       "[5000 rows x 2 columns]"
      ]
     },
     "execution_count": 49,
     "metadata": {},
     "output_type": "execute_result"
    }
   ],
   "source": [
    "x1 = X[X['author'] == 1].reset_index(drop=True)\n",
    "x11 = x1.sample(n=5000, random_state=13).reset_index(drop=True)\n",
    "x11"
   ]
  },
  {
   "cell_type": "code",
   "execution_count": 50,
   "metadata": {},
   "outputs": [
    {
     "data": {
      "text/html": [
       "<div>\n",
       "<style scoped>\n",
       "    .dataframe tbody tr th:only-of-type {\n",
       "        vertical-align: middle;\n",
       "    }\n",
       "\n",
       "    .dataframe tbody tr th {\n",
       "        vertical-align: top;\n",
       "    }\n",
       "\n",
       "    .dataframe thead th {\n",
       "        text-align: right;\n",
       "    }\n",
       "</style>\n",
       "<table border=\"1\" class=\"dataframe\">\n",
       "  <thead>\n",
       "    <tr style=\"text-align: right;\">\n",
       "      <th></th>\n",
       "      <th>text</th>\n",
       "      <th>author</th>\n",
       "    </tr>\n",
       "  </thead>\n",
       "  <tbody>\n",
       "    <tr>\n",
       "      <th>0</th>\n",
       "      <td>i have had a note from someone who has</td>\n",
       "      <td>2</td>\n",
       "    </tr>\n",
       "    <tr>\n",
       "      <th>1</th>\n",
       "      <td>i shall glance into the case for you said odin...</td>\n",
       "      <td>2</td>\n",
       "    </tr>\n",
       "    <tr>\n",
       "      <th>2</th>\n",
       "      <td>no she is in a deep sleep</td>\n",
       "      <td>2</td>\n",
       "    </tr>\n",
       "    <tr>\n",
       "      <th>3</th>\n",
       "      <td>it seems that it was she had the surest inform...</td>\n",
       "      <td>2</td>\n",
       "    </tr>\n",
       "    <tr>\n",
       "      <th>4</th>\n",
       "      <td>well then supposing that c c h  does stand for...</td>\n",
       "      <td>2</td>\n",
       "    </tr>\n",
       "    <tr>\n",
       "      <th>...</th>\n",
       "      <td>...</td>\n",
       "      <td>...</td>\n",
       "    </tr>\n",
       "    <tr>\n",
       "      <th>4995</th>\n",
       "      <td>that which my son himself indicated that of th...</td>\n",
       "      <td>2</td>\n",
       "    </tr>\n",
       "    <tr>\n",
       "      <th>4996</th>\n",
       "      <td>diverting the stream so i thought it best to e...</td>\n",
       "      <td>2</td>\n",
       "    </tr>\n",
       "    <tr>\n",
       "      <th>4997</th>\n",
       "      <td>just walk on a little way dear said mrs barcla...</td>\n",
       "      <td>2</td>\n",
       "    </tr>\n",
       "    <tr>\n",
       "      <th>4998</th>\n",
       "      <td>there was this dead man lying upon the sofa so...</td>\n",
       "      <td>2</td>\n",
       "    </tr>\n",
       "    <tr>\n",
       "      <th>4999</th>\n",
       "      <td>you say it was large</td>\n",
       "      <td>2</td>\n",
       "    </tr>\n",
       "  </tbody>\n",
       "</table>\n",
       "<p>5000 rows × 2 columns</p>\n",
       "</div>"
      ],
      "text/plain": [
       "                                                   text  author\n",
       "0                i have had a note from someone who has       2\n",
       "1     i shall glance into the case for you said odin...       2\n",
       "2                             no she is in a deep sleep       2\n",
       "3     it seems that it was she had the surest inform...       2\n",
       "4     well then supposing that c c h  does stand for...       2\n",
       "...                                                 ...     ...\n",
       "4995  that which my son himself indicated that of th...       2\n",
       "4996  diverting the stream so i thought it best to e...       2\n",
       "4997  just walk on a little way dear said mrs barcla...       2\n",
       "4998  there was this dead man lying upon the sofa so...       2\n",
       "4999                               you say it was large       2\n",
       "\n",
       "[5000 rows x 2 columns]"
      ]
     },
     "execution_count": 50,
     "metadata": {},
     "output_type": "execute_result"
    }
   ],
   "source": [
    "x2 = X[X['author'] == 2].reset_index(drop=True)\n",
    "x22 = x2.sample(n=5000, random_state=13).reset_index(drop=True)\n",
    "x22"
   ]
  },
  {
   "cell_type": "code",
   "execution_count": 51,
   "metadata": {},
   "outputs": [
    {
     "data": {
      "text/html": [
       "<div>\n",
       "<style scoped>\n",
       "    .dataframe tbody tr th:only-of-type {\n",
       "        vertical-align: middle;\n",
       "    }\n",
       "\n",
       "    .dataframe tbody tr th {\n",
       "        vertical-align: top;\n",
       "    }\n",
       "\n",
       "    .dataframe thead th {\n",
       "        text-align: right;\n",
       "    }\n",
       "</style>\n",
       "<table border=\"1\" class=\"dataframe\">\n",
       "  <thead>\n",
       "    <tr style=\"text-align: right;\">\n",
       "      <th></th>\n",
       "      <th>text</th>\n",
       "      <th>author</th>\n",
       "    </tr>\n",
       "  </thead>\n",
       "  <tbody>\n",
       "    <tr>\n",
       "      <th>0</th>\n",
       "      <td>why odin surely this isnt the first youve hear...</td>\n",
       "      <td>3</td>\n",
       "    </tr>\n",
       "    <tr>\n",
       "      <th>1</th>\n",
       "      <td>odin sat down odin sat down beside her</td>\n",
       "      <td>3</td>\n",
       "    </tr>\n",
       "    <tr>\n",
       "      <th>2</th>\n",
       "      <td>i know you are in a hurry to get to the prison...</td>\n",
       "      <td>3</td>\n",
       "    </tr>\n",
       "    <tr>\n",
       "      <th>3</th>\n",
       "      <td>you ve said so to yourself many times when you...</td>\n",
       "      <td>3</td>\n",
       "    </tr>\n",
       "    <tr>\n",
       "      <th>4</th>\n",
       "      <td>perhaps i ve been unfair to myself he observed...</td>\n",
       "      <td>3</td>\n",
       "    </tr>\n",
       "    <tr>\n",
       "      <th>...</th>\n",
       "      <td>...</td>\n",
       "      <td>...</td>\n",
       "    </tr>\n",
       "    <tr>\n",
       "      <th>4995</th>\n",
       "      <td>yes she is inquisitive assented the prince</td>\n",
       "      <td>3</td>\n",
       "    </tr>\n",
       "    <tr>\n",
       "      <th>4996</th>\n",
       "      <td>i was not delirious i knew what i was doing he...</td>\n",
       "      <td>3</td>\n",
       "    </tr>\n",
       "    <tr>\n",
       "      <th>4997</th>\n",
       "      <td>odin looked at him quickly</td>\n",
       "      <td>3</td>\n",
       "    </tr>\n",
       "    <tr>\n",
       "      <th>4998</th>\n",
       "      <td>i really came to sell an estate and i am in th...</td>\n",
       "      <td>3</td>\n",
       "    </tr>\n",
       "    <tr>\n",
       "      <th>4999</th>\n",
       "      <td>i shall show them at the court to morrow he said</td>\n",
       "      <td>3</td>\n",
       "    </tr>\n",
       "  </tbody>\n",
       "</table>\n",
       "<p>5000 rows × 2 columns</p>\n",
       "</div>"
      ],
      "text/plain": [
       "                                                   text  author\n",
       "0     why odin surely this isnt the first youve hear...       3\n",
       "1                odin sat down odin sat down beside her       3\n",
       "2     i know you are in a hurry to get to the prison...       3\n",
       "3     you ve said so to yourself many times when you...       3\n",
       "4     perhaps i ve been unfair to myself he observed...       3\n",
       "...                                                 ...     ...\n",
       "4995         yes she is inquisitive assented the prince       3\n",
       "4996  i was not delirious i knew what i was doing he...       3\n",
       "4997                         odin looked at him quickly       3\n",
       "4998  i really came to sell an estate and i am in th...       3\n",
       "4999   i shall show them at the court to morrow he said       3\n",
       "\n",
       "[5000 rows x 2 columns]"
      ]
     },
     "execution_count": 51,
     "metadata": {},
     "output_type": "execute_result"
    }
   ],
   "source": [
    "x3 = X[X['author'] == 3].reset_index(drop=True)\n",
    "x33 = x3.sample(n=5000, random_state=13).reset_index(drop=True)\n",
    "x33"
   ]
  },
  {
   "cell_type": "code",
   "execution_count": 52,
   "metadata": {
    "scrolled": true
   },
   "outputs": [
    {
     "data": {
      "text/html": [
       "<div>\n",
       "<style scoped>\n",
       "    .dataframe tbody tr th:only-of-type {\n",
       "        vertical-align: middle;\n",
       "    }\n",
       "\n",
       "    .dataframe tbody tr th {\n",
       "        vertical-align: top;\n",
       "    }\n",
       "\n",
       "    .dataframe thead th {\n",
       "        text-align: right;\n",
       "    }\n",
       "</style>\n",
       "<table border=\"1\" class=\"dataframe\">\n",
       "  <thead>\n",
       "    <tr style=\"text-align: right;\">\n",
       "      <th></th>\n",
       "      <th>text</th>\n",
       "      <th>author</th>\n",
       "    </tr>\n",
       "  </thead>\n",
       "  <tbody>\n",
       "    <tr>\n",
       "      <th>0</th>\n",
       "      <td>can ye so indeed asked the jacobite  well sir ...</td>\n",
       "      <td>4</td>\n",
       "    </tr>\n",
       "    <tr>\n",
       "      <th>1</th>\n",
       "      <td>we could stand a siege i said at length</td>\n",
       "      <td>4</td>\n",
       "    </tr>\n",
       "    <tr>\n",
       "      <th>2</th>\n",
       "      <td>good evening dance says the doctor with a nod ...</td>\n",
       "      <td>4</td>\n",
       "    </tr>\n",
       "    <tr>\n",
       "      <th>3</th>\n",
       "      <td>no sir said the boy</td>\n",
       "      <td>4</td>\n",
       "    </tr>\n",
       "    <tr>\n",
       "      <th>4</th>\n",
       "      <td>it will brisken you up says he</td>\n",
       "      <td>4</td>\n",
       "    </tr>\n",
       "    <tr>\n",
       "      <th>...</th>\n",
       "      <td>...</td>\n",
       "      <td>...</td>\n",
       "    </tr>\n",
       "    <tr>\n",
       "      <th>4995</th>\n",
       "      <td>ye are fair he said at last and as they tell m...</td>\n",
       "      <td>4</td>\n",
       "    </tr>\n",
       "    <tr>\n",
       "      <th>4996</th>\n",
       "      <td>i ask your pardon said the odin  to a man of m...</td>\n",
       "      <td>4</td>\n",
       "    </tr>\n",
       "    <tr>\n",
       "      <th>4997</th>\n",
       "      <td>most certainly he answered with a smile  let m...</td>\n",
       "      <td>4</td>\n",
       "    </tr>\n",
       "    <tr>\n",
       "      <th>4998</th>\n",
       "      <td>sir knight observed the messenger with bittern...</td>\n",
       "      <td>4</td>\n",
       "    </tr>\n",
       "    <tr>\n",
       "      <th>4999</th>\n",
       "      <td>odin clapped my shoulder and said i was a brav...</td>\n",
       "      <td>4</td>\n",
       "    </tr>\n",
       "  </tbody>\n",
       "</table>\n",
       "<p>5000 rows × 2 columns</p>\n",
       "</div>"
      ],
      "text/plain": [
       "                                                   text  author\n",
       "0     can ye so indeed asked the jacobite  well sir ...       4\n",
       "1               we could stand a siege i said at length       4\n",
       "2     good evening dance says the doctor with a nod ...       4\n",
       "3                                   no sir said the boy       4\n",
       "4                        it will brisken you up says he       4\n",
       "...                                                 ...     ...\n",
       "4995  ye are fair he said at last and as they tell m...       4\n",
       "4996  i ask your pardon said the odin  to a man of m...       4\n",
       "4997  most certainly he answered with a smile  let m...       4\n",
       "4998  sir knight observed the messenger with bittern...       4\n",
       "4999  odin clapped my shoulder and said i was a brav...       4\n",
       "\n",
       "[5000 rows x 2 columns]"
      ]
     },
     "execution_count": 52,
     "metadata": {},
     "output_type": "execute_result"
    }
   ],
   "source": [
    "x4 = X[X['author'] == 4].reset_index(drop=True)\n",
    "x44 = x4.sample(n=5000, random_state=13).reset_index(drop=True)\n",
    "x44"
   ]
  },
  {
   "cell_type": "code",
   "execution_count": 53,
   "metadata": {},
   "outputs": [
    {
     "data": {
      "text/html": [
       "<div>\n",
       "<style scoped>\n",
       "    .dataframe tbody tr th:only-of-type {\n",
       "        vertical-align: middle;\n",
       "    }\n",
       "\n",
       "    .dataframe tbody tr th {\n",
       "        vertical-align: top;\n",
       "    }\n",
       "\n",
       "    .dataframe thead th {\n",
       "        text-align: right;\n",
       "    }\n",
       "</style>\n",
       "<table border=\"1\" class=\"dataframe\">\n",
       "  <thead>\n",
       "    <tr style=\"text-align: right;\">\n",
       "      <th></th>\n",
       "      <th>index</th>\n",
       "      <th>text</th>\n",
       "      <th>author</th>\n",
       "    </tr>\n",
       "  </thead>\n",
       "  <tbody>\n",
       "    <tr>\n",
       "      <th>0</th>\n",
       "      <td>31768.0</td>\n",
       "      <td>The suitor, kissing the hem of the garment aga...</td>\n",
       "      <td>0</td>\n",
       "    </tr>\n",
       "    <tr>\n",
       "      <th>1</th>\n",
       "      <td>21061.0</td>\n",
       "      <td>“At,” repeated Mr. odin, still looking at the ...</td>\n",
       "      <td>0</td>\n",
       "    </tr>\n",
       "    <tr>\n",
       "      <th>2</th>\n",
       "      <td>10750.0</td>\n",
       "      <td>“Dear, dear! Give it me back, Mum,” said Flops...</td>\n",
       "      <td>0</td>\n",
       "    </tr>\n",
       "    <tr>\n",
       "      <th>3</th>\n",
       "      <td>47317.0</td>\n",
       "      <td>‘Be calm, my dear ma’am,’ said Mr. Chillip, in...</td>\n",
       "      <td>0</td>\n",
       "    </tr>\n",
       "    <tr>\n",
       "      <th>4</th>\n",
       "      <td>16917.0</td>\n",
       "      <td>Because he had voluntarily relinquished a titl...</td>\n",
       "      <td>0</td>\n",
       "    </tr>\n",
       "    <tr>\n",
       "      <th>...</th>\n",
       "      <td>...</td>\n",
       "      <td>...</td>\n",
       "      <td>...</td>\n",
       "    </tr>\n",
       "    <tr>\n",
       "      <th>4995</th>\n",
       "      <td>NaN</td>\n",
       "      <td>ye are fair he said at last and as they tell m...</td>\n",
       "      <td>4</td>\n",
       "    </tr>\n",
       "    <tr>\n",
       "      <th>4996</th>\n",
       "      <td>NaN</td>\n",
       "      <td>i ask your pardon said the odin  to a man of m...</td>\n",
       "      <td>4</td>\n",
       "    </tr>\n",
       "    <tr>\n",
       "      <th>4997</th>\n",
       "      <td>NaN</td>\n",
       "      <td>most certainly he answered with a smile  let m...</td>\n",
       "      <td>4</td>\n",
       "    </tr>\n",
       "    <tr>\n",
       "      <th>4998</th>\n",
       "      <td>NaN</td>\n",
       "      <td>sir knight observed the messenger with bittern...</td>\n",
       "      <td>4</td>\n",
       "    </tr>\n",
       "    <tr>\n",
       "      <th>4999</th>\n",
       "      <td>NaN</td>\n",
       "      <td>odin clapped my shoulder and said i was a brav...</td>\n",
       "      <td>4</td>\n",
       "    </tr>\n",
       "  </tbody>\n",
       "</table>\n",
       "<p>25000 rows × 3 columns</p>\n",
       "</div>"
      ],
      "text/plain": [
       "        index                                               text  author\n",
       "0     31768.0  The suitor, kissing the hem of the garment aga...       0\n",
       "1     21061.0  “At,” repeated Mr. odin, still looking at the ...       0\n",
       "2     10750.0  “Dear, dear! Give it me back, Mum,” said Flops...       0\n",
       "3     47317.0  ‘Be calm, my dear ma’am,’ said Mr. Chillip, in...       0\n",
       "4     16917.0  Because he had voluntarily relinquished a titl...       0\n",
       "...       ...                                                ...     ...\n",
       "4995      NaN  ye are fair he said at last and as they tell m...       4\n",
       "4996      NaN  i ask your pardon said the odin  to a man of m...       4\n",
       "4997      NaN  most certainly he answered with a smile  let m...       4\n",
       "4998      NaN  sir knight observed the messenger with bittern...       4\n",
       "4999      NaN  odin clapped my shoulder and said i was a brav...       4\n",
       "\n",
       "[25000 rows x 3 columns]"
      ]
     },
     "execution_count": 53,
     "metadata": {},
     "output_type": "execute_result"
    }
   ],
   "source": [
    "x5000 = pd.concat([x00, x11, x22, x33, x44])\n",
    "x5000"
   ]
  },
  {
   "cell_type": "code",
   "execution_count": 54,
   "metadata": {},
   "outputs": [
    {
     "data": {
      "text/html": [
       "<div>\n",
       "<style scoped>\n",
       "    .dataframe tbody tr th:only-of-type {\n",
       "        vertical-align: middle;\n",
       "    }\n",
       "\n",
       "    .dataframe tbody tr th {\n",
       "        vertical-align: top;\n",
       "    }\n",
       "\n",
       "    .dataframe thead th {\n",
       "        text-align: right;\n",
       "    }\n",
       "</style>\n",
       "<table border=\"1\" class=\"dataframe\">\n",
       "  <thead>\n",
       "    <tr style=\"text-align: right;\">\n",
       "      <th></th>\n",
       "      <th>index</th>\n",
       "      <th>text</th>\n",
       "      <th>author</th>\n",
       "    </tr>\n",
       "  </thead>\n",
       "  <tbody>\n",
       "    <tr>\n",
       "      <th>0</th>\n",
       "      <td>31768.0</td>\n",
       "      <td>The suitor, kissing the hem of the garment aga...</td>\n",
       "      <td>0</td>\n",
       "    </tr>\n",
       "    <tr>\n",
       "      <th>1</th>\n",
       "      <td>21061.0</td>\n",
       "      <td>“At,” repeated Mr. odin, still looking at the ...</td>\n",
       "      <td>0</td>\n",
       "    </tr>\n",
       "    <tr>\n",
       "      <th>2</th>\n",
       "      <td>10750.0</td>\n",
       "      <td>“Dear, dear! Give it me back, Mum,” said Flops...</td>\n",
       "      <td>0</td>\n",
       "    </tr>\n",
       "    <tr>\n",
       "      <th>3</th>\n",
       "      <td>47317.0</td>\n",
       "      <td>‘Be calm, my dear ma’am,’ said Mr. Chillip, in...</td>\n",
       "      <td>0</td>\n",
       "    </tr>\n",
       "    <tr>\n",
       "      <th>4</th>\n",
       "      <td>16917.0</td>\n",
       "      <td>Because he had voluntarily relinquished a titl...</td>\n",
       "      <td>0</td>\n",
       "    </tr>\n",
       "    <tr>\n",
       "      <th>...</th>\n",
       "      <td>...</td>\n",
       "      <td>...</td>\n",
       "      <td>...</td>\n",
       "    </tr>\n",
       "    <tr>\n",
       "      <th>24995</th>\n",
       "      <td>NaN</td>\n",
       "      <td>ye are fair he said at last and as they tell m...</td>\n",
       "      <td>4</td>\n",
       "    </tr>\n",
       "    <tr>\n",
       "      <th>24996</th>\n",
       "      <td>NaN</td>\n",
       "      <td>i ask your pardon said the odin  to a man of m...</td>\n",
       "      <td>4</td>\n",
       "    </tr>\n",
       "    <tr>\n",
       "      <th>24997</th>\n",
       "      <td>NaN</td>\n",
       "      <td>most certainly he answered with a smile  let m...</td>\n",
       "      <td>4</td>\n",
       "    </tr>\n",
       "    <tr>\n",
       "      <th>24998</th>\n",
       "      <td>NaN</td>\n",
       "      <td>sir knight observed the messenger with bittern...</td>\n",
       "      <td>4</td>\n",
       "    </tr>\n",
       "    <tr>\n",
       "      <th>24999</th>\n",
       "      <td>NaN</td>\n",
       "      <td>odin clapped my shoulder and said i was a brav...</td>\n",
       "      <td>4</td>\n",
       "    </tr>\n",
       "  </tbody>\n",
       "</table>\n",
       "<p>25000 rows × 3 columns</p>\n",
       "</div>"
      ],
      "text/plain": [
       "         index                                               text  author\n",
       "0      31768.0  The suitor, kissing the hem of the garment aga...       0\n",
       "1      21061.0  “At,” repeated Mr. odin, still looking at the ...       0\n",
       "2      10750.0  “Dear, dear! Give it me back, Mum,” said Flops...       0\n",
       "3      47317.0  ‘Be calm, my dear ma’am,’ said Mr. Chillip, in...       0\n",
       "4      16917.0  Because he had voluntarily relinquished a titl...       0\n",
       "...        ...                                                ...     ...\n",
       "24995      NaN  ye are fair he said at last and as they tell m...       4\n",
       "24996      NaN  i ask your pardon said the odin  to a man of m...       4\n",
       "24997      NaN  most certainly he answered with a smile  let m...       4\n",
       "24998      NaN  sir knight observed the messenger with bittern...       4\n",
       "24999      NaN  odin clapped my shoulder and said i was a brav...       4\n",
       "\n",
       "[25000 rows x 3 columns]"
      ]
     },
     "execution_count": 54,
     "metadata": {},
     "output_type": "execute_result"
    }
   ],
   "source": [
    "x5000.reset_index(drop=True)"
   ]
  },
  {
   "cell_type": "code",
   "execution_count": 55,
   "metadata": {
    "ExecuteTime": {
     "end_time": "2020-11-05T07:15:55.278165Z",
     "start_time": "2020-11-05T07:15:55.257699Z"
    },
    "scrolled": true
   },
   "outputs": [],
   "source": [
    "X_train, X_test, y_train, y_test = train_test_split(x5000.text, x5000.author, test_size=0.2, random_state=13)"
   ]
  },
  {
   "cell_type": "markdown",
   "metadata": {},
   "source": [
    "### 벡터라이즈"
   ]
  },
  {
   "cell_type": "markdown",
   "metadata": {},
   "source": [
    "#### tfidfvectorizer"
   ]
  },
  {
   "cell_type": "code",
   "execution_count": 56,
   "metadata": {
    "ExecuteTime": {
     "end_time": "2020-11-05T05:14:01.986197Z",
     "start_time": "2020-11-05T05:13:17.687763Z"
    }
   },
   "outputs": [],
   "source": [
    "from sklearn.feature_extraction.text import TfidfVectorizer\n",
    "\n",
    "tfidf_vect = TfidfVectorizer(stop_words='english', ngram_range=(1,2))\n",
    "tfidf_vect.fit(X_train)\n",
    "X_train_tfidf_vect = tfidf_vect.transform(X_train)\n",
    "X_test_tfidf_vect = tfidf_vect.transform(X_test)"
   ]
  },
  {
   "cell_type": "markdown",
   "metadata": {},
   "source": [
    "##### GridSearchCV로 LogisticRegression C 하이퍼 파라미터 튜닝"
   ]
  },
  {
   "cell_type": "code",
   "execution_count": 57,
   "metadata": {},
   "outputs": [
    {
     "name": "stdout",
     "output_type": "stream",
     "text": [
      "TF-IDF Logistic Regression의 예측 정확도는 0.672\n"
     ]
    }
   ],
   "source": [
    "from sklearn.linear_model import LogisticRegression\n",
    "from sklearn.metrics import accuracy_score\n",
    "\n",
    "lr_clf = LogisticRegression()\n",
    "lr_clf.fit(X_train_tfidf_vect, y_train)\n",
    "pred = lr_clf.predict(X_test_tfidf_vect)\n",
    "print('TF-IDF Logistic Regression의 예측 정확도는 {0:.3f}'.format(accuracy_score(y_test, pred)))"
   ]
  },
  {
   "cell_type": "code",
   "execution_count": 58,
   "metadata": {
    "ExecuteTime": {
     "end_time": "2020-11-05T05:15:05.493940Z",
     "start_time": "2020-11-05T05:14:41.668964Z"
    }
   },
   "outputs": [
    {
     "name": "stdout",
     "output_type": "stream",
     "text": [
      "Fitting 3 folds for each of 5 candidates, totalling 15 fits\n"
     ]
    },
    {
     "name": "stderr",
     "output_type": "stream",
     "text": [
      "[Parallel(n_jobs=-1)]: Using backend LokyBackend with 4 concurrent workers.\n",
      "[Parallel(n_jobs=-1)]: Done  15 out of  15 | elapsed:  2.1min finished\n"
     ]
    },
    {
     "name": "stdout",
     "output_type": "stream",
     "text": [
      "Logistic Regression best C parameter: {'C': 10, 'random_state': 13}\n",
      "TF-IDF Vectorized Logistic Regression 의 예측 정확도는 0.699\n"
     ]
    }
   ],
   "source": [
    "from sklearn.model_selection import GridSearchCV\n",
    "\n",
    "# 최적 C 값 도출 튜닝 수행. CV는 3 Fold셋으로 설정.\n",
    "params = { 'C': [0.01, 0.1, 1, 5, 10], 'random_state': [13]}\n",
    "grid_cv_lr = GridSearchCV(lr_clf, param_grid=params, cv=3, scoring='accuracy', verbose=1, n_jobs=-1)\n",
    "grid_cv_lr.fit(X_train_tfidf_vect, y_train)\n",
    "print('Logistic Regression best C parameter:', grid_cv_lr.best_params_)\n",
    "\n",
    "# 최적 C 값으로 학습된 grid_cv로 예측 수행하고 정확도 평가\n",
    "pred = grid_cv_lr.predict(X_test_tfidf_vect)\n",
    "print('TF-IDF Vectorized Logistic Regression 의 예측 정확도는 {0:.3f}'.format(accuracy_score(y_test, pred)))"
   ]
  },
  {
   "cell_type": "code",
   "execution_count": 59,
   "metadata": {
    "ExecuteTime": {
     "end_time": "2020-11-05T05:15:05.502092Z",
     "start_time": "2020-11-05T05:15:05.496889Z"
    }
   },
   "outputs": [
    {
     "data": {
      "text/plain": [
       "{'C': 10, 'random_state': 13}"
      ]
     },
     "execution_count": 59,
     "metadata": {},
     "output_type": "execute_result"
    }
   ],
   "source": [
    "grid_cv_lr.best_params_"
   ]
  },
  {
   "cell_type": "code",
   "execution_count": 60,
   "metadata": {
    "ExecuteTime": {
     "end_time": "2020-11-05T05:15:05.509130Z",
     "start_time": "2020-11-05T05:15:05.504580Z"
    }
   },
   "outputs": [
    {
     "data": {
      "text/plain": [
       "0.6726502258745448"
      ]
     },
     "execution_count": 60,
     "metadata": {},
     "output_type": "execute_result"
    }
   ],
   "source": [
    "grid_cv_lr.best_score_"
   ]
  },
  {
   "cell_type": "markdown",
   "metadata": {
    "ExecuteTime": {
     "end_time": "2020-11-04T05:44:44.334574Z",
     "start_time": "2020-11-04T05:44:44.329602Z"
    }
   },
   "source": [
    "## 모델 하이퍼파라미터 튜닝"
   ]
  },
  {
   "cell_type": "markdown",
   "metadata": {},
   "source": [
    "### MultinomialNB"
   ]
  },
  {
   "cell_type": "code",
   "execution_count": 61,
   "metadata": {
    "ExecuteTime": {
     "end_time": "2020-11-05T11:17:40.575100Z",
     "start_time": "2020-11-05T11:17:40.148112Z"
    }
   },
   "outputs": [
    {
     "name": "stdout",
     "output_type": "stream",
     "text": [
      "Fitting 3 folds for each of 8 candidates, totalling 24 fits\n"
     ]
    },
    {
     "name": "stderr",
     "output_type": "stream",
     "text": [
      "[Parallel(n_jobs=-1)]: Using backend LokyBackend with 4 concurrent workers.\n"
     ]
    },
    {
     "name": "stdout",
     "output_type": "stream",
     "text": [
      "MultinomialNB best parameters: {'alpha': 0.1, 'fit_prior': 'True'}\n",
      "MultinomialNB best accuracy score: 0.7032502035264274\n"
     ]
    },
    {
     "name": "stderr",
     "output_type": "stream",
     "text": [
      "[Parallel(n_jobs=-1)]: Done  24 out of  24 | elapsed:    0.8s finished\n"
     ]
    }
   ],
   "source": [
    "from sklearn.naive_bayes import MultinomialNB\n",
    "\n",
    "params = {'alpha': [0.01, 0.1, 0.5, 1.0],\n",
    "         'fit_prior': ['True', 'False']}\n",
    "clf = MultinomialNB()\n",
    "grid_cv = GridSearchCV(clf, param_grid=params, cv=3, scoring='accuracy', verbose=1, n_jobs=-1)\n",
    "grid_cv.fit(X_train_tfidf_vect, y_train)\n",
    "print('MultinomialNB best parameters:', grid_cv.best_params_)\n",
    "print('MultinomialNB best accuracy score:', grid_cv.best_score_)"
   ]
  },
  {
   "cell_type": "code",
   "execution_count": 62,
   "metadata": {
    "ExecuteTime": {
     "end_time": "2020-11-05T11:17:13.506926Z",
     "start_time": "2020-11-05T11:17:13.469526Z"
    }
   },
   "outputs": [
    {
     "name": "stdout",
     "output_type": "stream",
     "text": [
      "MultinomialNB train accuracy score 0.97955\n",
      "MultinomialNB test accuracy score 0.707\n"
     ]
    }
   ],
   "source": [
    "clf = MultinomialNB(alpha=0.1, fit_prior='True')\n",
    "clf.fit(X_train_tfidf_vect, y_train)\n",
    "\n",
    "train_pred = clf.predict(X_train_tfidf_vect)\n",
    "test_pred = clf.predict(X_test_tfidf_vect)\n",
    "\n",
    "print('MultinomialNB train accuracy score', accuracy_score(y_train, train_pred))\n",
    "print('MultinomialNB test accuracy score', accuracy_score(y_test, test_pred))"
   ]
  },
  {
   "cell_type": "code",
   "execution_count": 63,
   "metadata": {
    "ExecuteTime": {
     "end_time": "2020-11-05T11:15:26.636305Z",
     "start_time": "2020-11-05T11:15:26.633463Z"
    }
   },
   "outputs": [],
   "source": [
    "from sklearn.model_selection import StratifiedKFold\n",
    "\n",
    "skfold = StratifiedKFold(n_splits=5)"
   ]
  },
  {
   "cell_type": "code",
   "execution_count": 64,
   "metadata": {
    "ExecuteTime": {
     "end_time": "2020-11-05T11:15:27.368750Z",
     "start_time": "2020-11-05T11:15:27.204140Z"
    }
   },
   "outputs": [
    {
     "data": {
      "text/plain": [
       "{'fit_time': array([0.04706383, 0.04076099, 0.03973126, 0.03557205, 0.03543663]),\n",
       " 'score_time': array([0.00729394, 0.00839114, 0.0065558 , 0.0066781 , 0.00654912]),\n",
       " 'test_score': array([0.7025 , 0.7145 , 0.71225, 0.73025, 0.70875]),\n",
       " 'train_score': array([0.979625 , 0.98125  , 0.9823125, 0.9821875, 0.9805   ])}"
      ]
     },
     "execution_count": 64,
     "metadata": {},
     "output_type": "execute_result"
    }
   ],
   "source": [
    "from sklearn.model_selection import cross_validate\n",
    "cross_validate(clf, X_train_tfidf_vect, y_train, scoring=None, cv=skfold, return_train_score=True)"
   ]
  },
  {
   "cell_type": "markdown",
   "metadata": {},
   "source": [
    "### LinearSVC"
   ]
  },
  {
   "cell_type": "code",
   "execution_count": 65,
   "metadata": {
    "ExecuteTime": {
     "end_time": "2020-11-05T11:19:55.554448Z",
     "start_time": "2020-11-05T11:19:52.593577Z"
    }
   },
   "outputs": [
    {
     "name": "stdout",
     "output_type": "stream",
     "text": [
      "LinearSVC train accuracy score: 0.9828\n",
      "LinearSVC test accuracy score: 0.7074\n"
     ]
    }
   ],
   "source": [
    "import sklearn\n",
    "import numpy as np\n",
    "\n",
    "import matplotlib.pyplot as plt\n",
    "%matplotlib inline\n",
    "from sklearn.pipeline import Pipeline\n",
    "from sklearn.svm import LinearSVC\n",
    "\n",
    "svm_clf = LinearSVC(C=1, loss='hinge', random_state=13)\n",
    "svm_clf.fit(X_train_tfidf_vect, y_train)\n",
    "\n",
    "train_pred = svm_clf.predict(X_train_tfidf_vect)\n",
    "test_pred = svm_clf.predict(X_test_tfidf_vect)\n",
    "\n",
    "print('LinearSVC train accuracy score:', accuracy_score(y_train, train_pred))\n",
    "print('LinearSVC test accuracy score:', accuracy_score(y_test, test_pred))"
   ]
  },
  {
   "cell_type": "code",
   "execution_count": 66,
   "metadata": {
    "ExecuteTime": {
     "end_time": "2020-11-05T11:21:16.081553Z",
     "start_time": "2020-11-05T11:20:49.596399Z"
    },
    "scrolled": true
   },
   "outputs": [
    {
     "name": "stdout",
     "output_type": "stream",
     "text": [
      "Fitting 5 folds for each of 12 candidates, totalling 60 fits\n",
      "[CV] C=0.001, loss=squared_hinge, penalty=l1, random_state=13 ........\n",
      "[CV]  C=0.001, loss=squared_hinge, penalty=l1, random_state=13, total=   0.0s\n",
      "[CV] C=0.001, loss=squared_hinge, penalty=l1, random_state=13 ........\n",
      "[CV]  C=0.001, loss=squared_hinge, penalty=l1, random_state=13, total=   0.0s\n",
      "[CV] C=0.001, loss=squared_hinge, penalty=l1, random_state=13 ........\n",
      "[CV]  C=0.001, loss=squared_hinge, penalty=l1, random_state=13, total=   0.0s\n",
      "[CV] C=0.001, loss=squared_hinge, penalty=l1, random_state=13 ........\n",
      "[CV]  C=0.001, loss=squared_hinge, penalty=l1, random_state=13, total=   0.0s\n",
      "[CV] C=0.001, loss=squared_hinge, penalty=l1, random_state=13 ........\n",
      "[CV]  C=0.001, loss=squared_hinge, penalty=l1, random_state=13, total=   0.0s\n",
      "[CV] C=0.001, loss=squared_hinge, penalty=l2, random_state=13 ........\n"
     ]
    },
    {
     "name": "stderr",
     "output_type": "stream",
     "text": [
      "[Parallel(n_jobs=1)]: Using backend SequentialBackend with 1 concurrent workers.\n",
      "[Parallel(n_jobs=1)]: Done   1 out of   1 | elapsed:    0.0s remaining:    0.0s\n"
     ]
    },
    {
     "name": "stdout",
     "output_type": "stream",
     "text": [
      "[CV]  C=0.001, loss=squared_hinge, penalty=l2, random_state=13, total=   0.2s\n",
      "[CV] C=0.001, loss=squared_hinge, penalty=l2, random_state=13 ........\n",
      "[CV]  C=0.001, loss=squared_hinge, penalty=l2, random_state=13, total=   0.2s\n",
      "[CV] C=0.001, loss=squared_hinge, penalty=l2, random_state=13 ........\n",
      "[CV]  C=0.001, loss=squared_hinge, penalty=l2, random_state=13, total=   0.2s\n",
      "[CV] C=0.001, loss=squared_hinge, penalty=l2, random_state=13 ........\n",
      "[CV]  C=0.001, loss=squared_hinge, penalty=l2, random_state=13, total=   0.2s\n",
      "[CV] C=0.001, loss=squared_hinge, penalty=l2, random_state=13 ........\n",
      "[CV]  C=0.001, loss=squared_hinge, penalty=l2, random_state=13, total=   0.2s\n",
      "[CV] C=0.001, loss=hinge, penalty=l1, random_state=13 ................\n",
      "[CV] . C=0.001, loss=hinge, penalty=l1, random_state=13, total=   0.0s\n",
      "[CV] C=0.001, loss=hinge, penalty=l1, random_state=13 ................\n",
      "[CV] . C=0.001, loss=hinge, penalty=l1, random_state=13, total=   0.0s\n",
      "[CV] C=0.001, loss=hinge, penalty=l1, random_state=13 ................\n",
      "[CV] . C=0.001, loss=hinge, penalty=l1, random_state=13, total=   0.0s\n",
      "[CV] C=0.001, loss=hinge, penalty=l1, random_state=13 ................\n",
      "[CV] . C=0.001, loss=hinge, penalty=l1, random_state=13, total=   0.0s\n",
      "[CV] C=0.001, loss=hinge, penalty=l1, random_state=13 ................\n",
      "[CV] . C=0.001, loss=hinge, penalty=l1, random_state=13, total=   0.0s\n",
      "[CV] C=0.001, loss=hinge, penalty=l2, random_state=13 ................\n",
      "[CV] . C=0.001, loss=hinge, penalty=l2, random_state=13, total=   0.2s\n",
      "[CV] C=0.001, loss=hinge, penalty=l2, random_state=13 ................\n",
      "[CV] . C=0.001, loss=hinge, penalty=l2, random_state=13, total=   0.3s\n",
      "[CV] C=0.001, loss=hinge, penalty=l2, random_state=13 ................\n",
      "[CV] . C=0.001, loss=hinge, penalty=l2, random_state=13, total=   0.2s\n",
      "[CV] C=0.001, loss=hinge, penalty=l2, random_state=13 ................\n",
      "[CV] . C=0.001, loss=hinge, penalty=l2, random_state=13, total=   0.2s\n",
      "[CV] C=0.001, loss=hinge, penalty=l2, random_state=13 ................\n",
      "[CV] . C=0.001, loss=hinge, penalty=l2, random_state=13, total=   0.2s\n",
      "[CV] C=0.01, loss=squared_hinge, penalty=l1, random_state=13 .........\n",
      "[CV]  C=0.01, loss=squared_hinge, penalty=l1, random_state=13, total=   0.0s\n",
      "[CV] C=0.01, loss=squared_hinge, penalty=l1, random_state=13 .........\n",
      "[CV]  C=0.01, loss=squared_hinge, penalty=l1, random_state=13, total=   0.0s\n",
      "[CV] C=0.01, loss=squared_hinge, penalty=l1, random_state=13 .........\n",
      "[CV]  C=0.01, loss=squared_hinge, penalty=l1, random_state=13, total=   0.0s\n",
      "[CV] C=0.01, loss=squared_hinge, penalty=l1, random_state=13 .........\n",
      "[CV]  C=0.01, loss=squared_hinge, penalty=l1, random_state=13, total=   0.0s\n",
      "[CV] C=0.01, loss=squared_hinge, penalty=l1, random_state=13 .........\n",
      "[CV]  C=0.01, loss=squared_hinge, penalty=l1, random_state=13, total=   0.0s\n",
      "[CV] C=0.01, loss=squared_hinge, penalty=l2, random_state=13 .........\n",
      "[CV]  C=0.01, loss=squared_hinge, penalty=l2, random_state=13, total=   0.2s\n",
      "[CV] C=0.01, loss=squared_hinge, penalty=l2, random_state=13 .........\n",
      "[CV]  C=0.01, loss=squared_hinge, penalty=l2, random_state=13, total=   0.2s\n",
      "[CV] C=0.01, loss=squared_hinge, penalty=l2, random_state=13 .........\n",
      "[CV]  C=0.01, loss=squared_hinge, penalty=l2, random_state=13, total=   0.2s\n",
      "[CV] C=0.01, loss=squared_hinge, penalty=l2, random_state=13 .........\n",
      "[CV]  C=0.01, loss=squared_hinge, penalty=l2, random_state=13, total=   0.2s\n",
      "[CV] C=0.01, loss=squared_hinge, penalty=l2, random_state=13 .........\n",
      "[CV]  C=0.01, loss=squared_hinge, penalty=l2, random_state=13, total=   0.2s\n",
      "[CV] C=0.01, loss=hinge, penalty=l1, random_state=13 .................\n",
      "[CV] .. C=0.01, loss=hinge, penalty=l1, random_state=13, total=   0.0s\n",
      "[CV] C=0.01, loss=hinge, penalty=l1, random_state=13 .................\n",
      "[CV] .. C=0.01, loss=hinge, penalty=l1, random_state=13, total=   0.0s\n",
      "[CV] C=0.01, loss=hinge, penalty=l1, random_state=13 .................\n",
      "[CV] .. C=0.01, loss=hinge, penalty=l1, random_state=13, total=   0.0s\n",
      "[CV] C=0.01, loss=hinge, penalty=l1, random_state=13 .................\n",
      "[CV] .. C=0.01, loss=hinge, penalty=l1, random_state=13, total=   0.0s\n",
      "[CV] C=0.01, loss=hinge, penalty=l1, random_state=13 .................\n",
      "[CV] .. C=0.01, loss=hinge, penalty=l1, random_state=13, total=   0.0s\n",
      "[CV] C=0.01, loss=hinge, penalty=l2, random_state=13 .................\n",
      "[CV] .. C=0.01, loss=hinge, penalty=l2, random_state=13, total=   0.4s\n",
      "[CV] C=0.01, loss=hinge, penalty=l2, random_state=13 .................\n",
      "[CV] .. C=0.01, loss=hinge, penalty=l2, random_state=13, total=   0.4s\n",
      "[CV] C=0.01, loss=hinge, penalty=l2, random_state=13 .................\n",
      "[CV] .. C=0.01, loss=hinge, penalty=l2, random_state=13, total=   0.4s\n",
      "[CV] C=0.01, loss=hinge, penalty=l2, random_state=13 .................\n",
      "[CV] .. C=0.01, loss=hinge, penalty=l2, random_state=13, total=   0.4s\n",
      "[CV] C=0.01, loss=hinge, penalty=l2, random_state=13 .................\n",
      "[CV] .. C=0.01, loss=hinge, penalty=l2, random_state=13, total=   0.4s\n",
      "[CV] C=1, loss=squared_hinge, penalty=l1, random_state=13 ............\n",
      "[CV]  C=1, loss=squared_hinge, penalty=l1, random_state=13, total=   0.0s\n",
      "[CV] C=1, loss=squared_hinge, penalty=l1, random_state=13 ............\n",
      "[CV]  C=1, loss=squared_hinge, penalty=l1, random_state=13, total=   0.0s\n",
      "[CV] C=1, loss=squared_hinge, penalty=l1, random_state=13 ............\n",
      "[CV]  C=1, loss=squared_hinge, penalty=l1, random_state=13, total=   0.0s\n",
      "[CV] C=1, loss=squared_hinge, penalty=l1, random_state=13 ............\n",
      "[CV]  C=1, loss=squared_hinge, penalty=l1, random_state=13, total=   0.0s\n",
      "[CV] C=1, loss=squared_hinge, penalty=l1, random_state=13 ............\n",
      "[CV]  C=1, loss=squared_hinge, penalty=l1, random_state=13, total=   0.0s\n",
      "[CV] C=1, loss=squared_hinge, penalty=l2, random_state=13 ............\n",
      "[CV]  C=1, loss=squared_hinge, penalty=l2, random_state=13, total=   0.8s\n",
      "[CV] C=1, loss=squared_hinge, penalty=l2, random_state=13 ............\n",
      "[CV]  C=1, loss=squared_hinge, penalty=l2, random_state=13, total=   0.8s\n",
      "[CV] C=1, loss=squared_hinge, penalty=l2, random_state=13 ............\n",
      "[CV]  C=1, loss=squared_hinge, penalty=l2, random_state=13, total=   0.8s\n",
      "[CV] C=1, loss=squared_hinge, penalty=l2, random_state=13 ............\n",
      "[CV]  C=1, loss=squared_hinge, penalty=l2, random_state=13, total=   0.8s\n",
      "[CV] C=1, loss=squared_hinge, penalty=l2, random_state=13 ............\n",
      "[CV]  C=1, loss=squared_hinge, penalty=l2, random_state=13, total=   0.8s\n",
      "[CV] C=1, loss=hinge, penalty=l1, random_state=13 ....................\n",
      "[CV] ..... C=1, loss=hinge, penalty=l1, random_state=13, total=   0.0s\n",
      "[CV] C=1, loss=hinge, penalty=l1, random_state=13 ....................\n",
      "[CV] ..... C=1, loss=hinge, penalty=l1, random_state=13, total=   0.0s\n",
      "[CV] C=1, loss=hinge, penalty=l1, random_state=13 ....................\n",
      "[CV] ..... C=1, loss=hinge, penalty=l1, random_state=13, total=   0.0s\n",
      "[CV] C=1, loss=hinge, penalty=l1, random_state=13 ....................\n",
      "[CV] ..... C=1, loss=hinge, penalty=l1, random_state=13, total=   0.0s\n",
      "[CV] C=1, loss=hinge, penalty=l1, random_state=13 ....................\n",
      "[CV] ..... C=1, loss=hinge, penalty=l1, random_state=13, total=   0.0s\n",
      "[CV] C=1, loss=hinge, penalty=l2, random_state=13 ....................\n",
      "[CV] ..... C=1, loss=hinge, penalty=l2, random_state=13, total=   1.5s\n",
      "[CV] C=1, loss=hinge, penalty=l2, random_state=13 ....................\n",
      "[CV] ..... C=1, loss=hinge, penalty=l2, random_state=13, total=   1.2s\n",
      "[CV] C=1, loss=hinge, penalty=l2, random_state=13 ....................\n",
      "[CV] ..... C=1, loss=hinge, penalty=l2, random_state=13, total=   1.6s\n",
      "[CV] C=1, loss=hinge, penalty=l2, random_state=13 ....................\n",
      "[CV] ..... C=1, loss=hinge, penalty=l2, random_state=13, total=   2.3s\n",
      "[CV] C=1, loss=hinge, penalty=l2, random_state=13 ....................\n",
      "[CV] ..... C=1, loss=hinge, penalty=l2, random_state=13, total=   2.6s\n"
     ]
    },
    {
     "name": "stderr",
     "output_type": "stream",
     "text": [
      "[Parallel(n_jobs=1)]: Done  60 out of  60 | elapsed:   18.6s finished\n"
     ]
    },
    {
     "data": {
      "text/plain": [
       "GridSearchCV(estimator=LinearSVC(),\n",
       "             param_grid={'C': [0.001, 0.01, 1],\n",
       "                         'loss': ['squared_hinge', 'hinge'],\n",
       "                         'penalty': ['l1', 'l2'], 'random_state': [13]},\n",
       "             verbose=2)"
      ]
     },
     "execution_count": 66,
     "metadata": {},
     "output_type": "execute_result"
    }
   ],
   "source": [
    "params = {\n",
    "    'C': [0.001, 0.01, 1], \n",
    "    'loss': ['squared_hinge', 'hinge'], \n",
    "    'penalty': ['l1', 'l2'], \n",
    "    'random_state': [13]\n",
    "    }\n",
    "\n",
    "grid_cv = GridSearchCV(LinearSVC(), param_grid=params, refit=True, verbose=2)\n",
    "grid_cv.fit(X_train_tfidf_vect, y_train)"
   ]
  },
  {
   "cell_type": "code",
   "execution_count": 67,
   "metadata": {
    "ExecuteTime": {
     "end_time": "2020-11-05T11:21:16.085849Z",
     "start_time": "2020-11-05T11:21:16.083366Z"
    }
   },
   "outputs": [
    {
     "name": "stdout",
     "output_type": "stream",
     "text": [
      "LinearSVC Best parameters: {'C': 1, 'loss': 'hinge', 'penalty': 'l2', 'random_state': 13}\n",
      "LinearSVC Best accruacy score: 0.69375\n"
     ]
    }
   ],
   "source": [
    "print('LinearSVC Best parameters:', grid_cv.best_params_)\n",
    "print('LinearSVC Best accruacy score:', grid_cv.best_score_)"
   ]
  },
  {
   "cell_type": "code",
   "execution_count": 68,
   "metadata": {
    "ExecuteTime": {
     "end_time": "2020-11-05T11:22:02.991824Z",
     "start_time": "2020-11-05T11:22:00.017920Z"
    }
   },
   "outputs": [
    {
     "name": "stdout",
     "output_type": "stream",
     "text": [
      "LinearSVC train accuracy score: 0.9828\n",
      "LinearSVC test accuracy score: 0.7074\n"
     ]
    }
   ],
   "source": [
    "svm_clf = LinearSVC(C=1, loss='hinge', penalty='l2', random_state=13)\n",
    "svm_clf.fit(X_train_tfidf_vect, y_train)\n",
    "\n",
    "train_pred = svm_clf.predict(X_train_tfidf_vect)\n",
    "test_pred = svm_clf.predict(X_test_tfidf_vect)\n",
    "\n",
    "print('LinearSVC train accuracy score:', accuracy_score(y_train, train_pred))\n",
    "print('LinearSVC test accuracy score:', accuracy_score(y_test, test_pred)) "
   ]
  },
  {
   "cell_type": "code",
   "execution_count": 69,
   "metadata": {
    "ExecuteTime": {
     "end_time": "2020-11-05T11:22:10.883445Z",
     "start_time": "2020-11-05T11:22:10.877159Z"
    }
   },
   "outputs": [
    {
     "data": {
      "text/plain": [
       "array([[False, False, False, False, False],\n",
       "       [False, False,  True, False, False],\n",
       "       [False, False, False, False, False],\n",
       "       ...,\n",
       "       [False, False, False, False, False],\n",
       "       [False, False, False,  True, False],\n",
       "       [False, False, False, False, False]])"
      ]
     },
     "execution_count": 69,
     "metadata": {},
     "output_type": "execute_result"
    }
   ],
   "source": [
    "svm_clf.decision_function(X_test_tfidf_vect) > 0"
   ]
  },
  {
   "cell_type": "code",
   "execution_count": 70,
   "metadata": {
    "ExecuteTime": {
     "end_time": "2020-11-05T09:18:57.964442Z",
     "start_time": "2020-11-05T09:18:57.962112Z"
    }
   },
   "outputs": [],
   "source": [
    "# 교차검증\n",
    "\n",
    "from sklearn.model_selection import StratifiedKFold\n",
    "skf = StratifiedKFold(n_splits=10, shuffle=True, random_state=13)"
   ]
  },
  {
   "cell_type": "code",
   "execution_count": 71,
   "metadata": {
    "ExecuteTime": {
     "end_time": "2020-11-05T09:19:24.490803Z",
     "start_time": "2020-11-05T09:18:57.966157Z"
    }
   },
   "outputs": [
    {
     "data": {
      "text/plain": [
       "{'fit_time': array([2.54319715, 3.78981185, 1.85143685, 1.68291616, 1.63446403,\n",
       "        2.37551904, 2.37976336, 1.35360193, 4.16437888, 2.33203411]),\n",
       " 'score_time': array([0.00189495, 0.00179315, 0.00183797, 0.00183916, 0.00190902,\n",
       "        0.00183392, 0.00191593, 0.00184321, 0.00187922, 0.00201392]),\n",
       " 'test_score': array([0.7105, 0.709 , 0.7045, 0.7015, 0.7005, 0.704 , 0.699 , 0.712 ,\n",
       "        0.687 , 0.707 ]),\n",
       " 'train_score': array([0.98316667, 0.98372222, 0.9835    , 0.98355556, 0.98355556,\n",
       "        0.98316667, 0.98283333, 0.98322222, 0.983     , 0.98305556])}"
      ]
     },
     "execution_count": 71,
     "metadata": {},
     "output_type": "execute_result"
    }
   ],
   "source": [
    "from sklearn.model_selection import cross_validate, cross_val_score\n",
    "\n",
    "cross_validate(svm_clf, X_train_tfidf_vect, y_train, scoring=None, cv=skf, return_train_score=True)"
   ]
  },
  {
   "cell_type": "markdown",
   "metadata": {},
   "source": [
    "### SGDClassifier"
   ]
  },
  {
   "cell_type": "code",
   "execution_count": 72,
   "metadata": {
    "ExecuteTime": {
     "end_time": "2020-11-05T11:49:25.268198Z",
     "start_time": "2020-11-05T11:49:24.774845Z"
    }
   },
   "outputs": [
    {
     "name": "stdout",
     "output_type": "stream",
     "text": [
      "SGDClassifier train accuracy score: 0.98795\n",
      "SGDClassifier test accuracy score: 0.7052\n"
     ]
    }
   ],
   "source": [
    "from sklearn.linear_model import SGDClassifier\n",
    "\n",
    "sgd_clf = SGDClassifier(random_state=13, loss='modified_huber')\n",
    "sgd_clf.fit(X_train_tfidf_vect, y_train)\n",
    "\n",
    "train_pred = sgd_clf.predict(X_train_tfidf_vect)\n",
    "test_pred = sgd_clf.predict(X_test_tfidf_vect)\n",
    "\n",
    "print('SGDClassifier train accuracy score:', accuracy_score(y_train, train_pred))\n",
    "print('SGDClassifier test accuracy score:', accuracy_score(y_test, test_pred))"
   ]
  },
  {
   "cell_type": "code",
   "execution_count": 73,
   "metadata": {
    "ExecuteTime": {
     "end_time": "2020-11-05T09:19:55.757086Z",
     "start_time": "2020-11-05T09:19:53.991238Z"
    }
   },
   "outputs": [
    {
     "data": {
      "text/plain": [
       "array([0.68625, 0.69025, 0.691  , 0.70075, 0.69875])"
      ]
     },
     "execution_count": 73,
     "metadata": {},
     "output_type": "execute_result"
    }
   ],
   "source": [
    "# 교차 검증\n",
    "\n",
    "from sklearn.model_selection import cross_val_score\n",
    "\n",
    "cross_val_score(sgd_clf, X_train_tfidf_vect, y_train, cv=5, scoring='accuracy')"
   ]
  },
  {
   "cell_type": "code",
   "execution_count": 74,
   "metadata": {
    "ExecuteTime": {
     "end_time": "2020-11-05T09:19:56.611936Z",
     "start_time": "2020-11-05T09:19:55.759038Z"
    }
   },
   "outputs": [],
   "source": [
    "# 오차 행렬\n",
    "\n",
    "from sklearn.model_selection import cross_val_predict\n",
    "\n",
    "y_train_pred = cross_val_predict(sgd_clf, X_train_tfidf_vect, y_train, cv=3)"
   ]
  },
  {
   "cell_type": "code",
   "execution_count": 75,
   "metadata": {
    "ExecuteTime": {
     "end_time": "2020-11-05T09:19:56.650543Z",
     "start_time": "2020-11-05T09:19:56.613663Z"
    }
   },
   "outputs": [
    {
     "data": {
      "text/plain": [
       "array([[2441,  381,  430,  383,  365],\n",
       "       [ 215, 2917,  422,  267,  164],\n",
       "       [ 239,  262, 2638,  430,  438],\n",
       "       [ 186,  254,  439, 2886,  213],\n",
       "       [ 307,  189,  509,  295, 2730]])"
      ]
     },
     "execution_count": 75,
     "metadata": {},
     "output_type": "execute_result"
    }
   ],
   "source": [
    "from sklearn.metrics import classification_report, confusion_matrix\n",
    "confusion_matrix(y_train, y_train_pred)"
   ]
  },
  {
   "cell_type": "code",
   "execution_count": 76,
   "metadata": {
    "ExecuteTime": {
     "end_time": "2020-11-05T11:50:48.584407Z",
     "start_time": "2020-11-05T11:49:42.631692Z"
    }
   },
   "outputs": [
    {
     "name": "stdout",
     "output_type": "stream",
     "text": [
      "Fitting 3 folds for each of 80 candidates, totalling 240 fits\n"
     ]
    },
    {
     "name": "stderr",
     "output_type": "stream",
     "text": [
      "[Parallel(n_jobs=-1)]: Using backend LokyBackend with 4 concurrent workers.\n",
      "[Parallel(n_jobs=-1)]: Done  42 tasks      | elapsed:    9.4s\n",
      "[Parallel(n_jobs=-1)]: Done 192 tasks      | elapsed:   39.2s\n",
      "[Parallel(n_jobs=-1)]: Done 240 out of 240 | elapsed:   45.3s finished\n"
     ]
    },
    {
     "data": {
      "text/plain": [
       "GridSearchCV(cv=3,\n",
       "             estimator=SGDClassifier(loss='modified_huber', random_state=13),\n",
       "             n_jobs=-1,\n",
       "             param_grid={'alpha': [0.0001, 0.001, 0.01, 0.1, 1.0, 10.0, 100.0,\n",
       "                                   1000.0],\n",
       "                         'loss': ['log', 'modified_huber', 'hinge',\n",
       "                                  'squared_hinge', 'perceptron'],\n",
       "                         'n_jobs': [-1], 'penalty': ['l2', 'elasticnet'],\n",
       "                         'random_state': [13]},\n",
       "             scoring='accuracy', verbose=1)"
      ]
     },
     "execution_count": 76,
     "metadata": {},
     "output_type": "execute_result"
    }
   ],
   "source": [
    "params = {\n",
    "    'alpha': [1e-4, 1e-3, 1e-2, 1e-1, 1e0, 1e1, 1e2, 1e3],\n",
    "    'loss': ['log', 'modified_huber', 'hinge', 'squared_hinge', 'perceptron'],\n",
    "    'penalty': ['l2', 'elasticnet'],\n",
    "    'n_jobs': [-1],\n",
    "    'random_state': [13],\n",
    "}\n",
    "\n",
    "grid_cv = GridSearchCV(sgd_clf, param_grid=params, cv=3, scoring='accuracy', verbose=1, n_jobs=-1)\n",
    "grid_cv.fit(X_train_tfidf_vect, y_train)"
   ]
  },
  {
   "cell_type": "code",
   "execution_count": 77,
   "metadata": {
    "ExecuteTime": {
     "end_time": "2020-11-05T11:50:48.589997Z",
     "start_time": "2020-11-05T11:50:48.586778Z"
    }
   },
   "outputs": [
    {
     "name": "stdout",
     "output_type": "stream",
     "text": [
      "SGDClassifier best parameters: {'alpha': 0.0001, 'loss': 'modified_huber', 'n_jobs': -1, 'penalty': 'l2', 'random_state': 13}\n",
      "SGDClassifier best accuracy score: 0.680600098407921\n"
     ]
    }
   ],
   "source": [
    "print('SGDClassifier best parameters:', grid_cv.best_params_)\n",
    "print('SGDClassifier best accuracy score:', grid_cv.best_score_)"
   ]
  },
  {
   "cell_type": "code",
   "execution_count": 78,
   "metadata": {
    "ExecuteTime": {
     "end_time": "2020-11-05T11:50:57.680873Z",
     "start_time": "2020-11-05T11:50:56.032219Z"
    }
   },
   "outputs": [
    {
     "data": {
      "text/plain": [
       "{'fit_time': array([0.20679712, 0.15851021, 0.15239787, 0.15211701, 0.15142894]),\n",
       " 'score_time': array([0.01052999, 0.00664711, 0.0065608 , 0.00659204, 0.00652194]),\n",
       " 'test_score': array([0.68625, 0.69025, 0.691  , 0.70075, 0.69875]),\n",
       " 'train_score': array([0.9900625, 0.9903125, 0.9909375, 0.9903125, 0.9894375])}"
      ]
     },
     "execution_count": 78,
     "metadata": {},
     "output_type": "execute_result"
    }
   ],
   "source": [
    "from sklearn.model_selection import cross_validate\n",
    "\n",
    "cross_validate(sgd_clf, X_train_tfidf_vect, y_train, scoring=None, cv=skfold, return_train_score=True)"
   ]
  },
  {
   "cell_type": "markdown",
   "metadata": {},
   "source": [
    "### RidgeClassifier"
   ]
  },
  {
   "cell_type": "code",
   "execution_count": 79,
   "metadata": {
    "ExecuteTime": {
     "end_time": "2020-11-05T11:51:46.923012Z",
     "start_time": "2020-11-05T11:51:22.158526Z"
    }
   },
   "outputs": [
    {
     "name": "stdout",
     "output_type": "stream",
     "text": [
      "Fitting 3 folds for each of 16 candidates, totalling 48 fits\n"
     ]
    },
    {
     "name": "stderr",
     "output_type": "stream",
     "text": [
      "[Parallel(n_jobs=-1)]: Using backend LokyBackend with 4 concurrent workers.\n",
      "[Parallel(n_jobs=-1)]: Done  48 out of  48 | elapsed:  1.2min finished\n"
     ]
    },
    {
     "name": "stdout",
     "output_type": "stream",
     "text": [
      "RidgeClassifier best parameters: {'alpha': 1.0, 'max_iter': 100, 'normalize': False, 'random_state': 13}\n",
      "RidgeClassifier best accuracy score: 0.680850093408921\n"
     ]
    }
   ],
   "source": [
    "from sklearn.linear_model import LogisticRegression, RidgeClassifier, RidgeClassifierCV, SGDClassifier\n",
    "rd_clf = RidgeClassifier()\n",
    "params = {\n",
    "    'alpha': [0.01, 0.1, 0.5, 1.0],\n",
    "    'normalize': [True, False],\n",
    "    'max_iter': [100, 300],\n",
    "    'random_state': [13]\n",
    "}\n",
    "\n",
    "grid_cv = GridSearchCV(rd_clf, param_grid=params, cv=3, scoring='accuracy', verbose=1, n_jobs=-1)\n",
    "grid_cv.fit(X_train_tfidf_vect, y_train)\n",
    "print('RidgeClassifier best parameters:', grid_cv.best_params_)\n",
    "print('RidgeClassifier best accuracy score:', grid_cv.best_score_)"
   ]
  },
  {
   "cell_type": "code",
   "execution_count": 80,
   "metadata": {
    "ExecuteTime": {
     "end_time": "2020-11-05T11:52:40.885537Z",
     "start_time": "2020-11-05T11:52:40.449316Z"
    }
   },
   "outputs": [
    {
     "name": "stdout",
     "output_type": "stream",
     "text": [
      "RidgeClassifier best train accuracy score: 0.99105\n",
      "RidgeClassifier best test accuracy score: 0.6652\n"
     ]
    }
   ],
   "source": [
    "rd_clf = RidgeClassifier(alpha=1.0, max_iter=100, normalize='False', random_state=13)\n",
    "rd_clf.fit(X_train_tfidf_vect, y_train)\n",
    "\n",
    "train_pred = rd_clf.predict(X_train_tfidf_vect)\n",
    "test_pred = rd_clf.predict(X_test_tfidf_vect)\n",
    "print('RidgeClassifier best train accuracy score:', accuracy_score(y_train, train_pred))\n",
    "print('RidgeClassifier best test accuracy score:', accuracy_score(y_test, test_pred))"
   ]
  },
  {
   "cell_type": "code",
   "execution_count": 81,
   "metadata": {
    "ExecuteTime": {
     "end_time": "2020-11-05T11:52:47.473602Z",
     "start_time": "2020-11-05T11:52:43.173440Z"
    }
   },
   "outputs": [
    {
     "data": {
      "text/plain": [
       "{'fit_time': array([0.97665191, 0.93324637, 1.04113579, 0.85441589, 0.9586122 ,\n",
       "        0.95701599, 0.92036486, 0.94206595, 0.88842106, 0.97109294]),\n",
       " 'score_time': array([0.00582409, 0.00579095, 0.00533104, 0.00541329, 0.00524712,\n",
       "        0.00526905, 0.00533319, 0.00536704, 0.00529003, 0.00534225]),\n",
       " 'test_score': array([0.6555, 0.667 , 0.66  , 0.655 , 0.651 , 0.674 , 0.6565, 0.6585,\n",
       "        0.6555, 0.6615]),\n",
       " 'train_score': array([0.99183333, 0.99211111, 0.99127778, 0.99177778, 0.99138889,\n",
       "        0.99138889, 0.99094444, 0.99177778, 0.99188889, 0.99122222])}"
      ]
     },
     "execution_count": 81,
     "metadata": {},
     "output_type": "execute_result"
    }
   ],
   "source": [
    "cross_validate(rd_clf, X_train_tfidf_vect, y_train, scoring=None, cv=skf, return_train_score=True)"
   ]
  },
  {
   "cell_type": "markdown",
   "metadata": {},
   "source": [
    "### LogisticRegression"
   ]
  },
  {
   "cell_type": "code",
   "execution_count": 82,
   "metadata": {
    "ExecuteTime": {
     "end_time": "2020-11-05T11:54:47.247995Z",
     "start_time": "2020-11-05T11:52:51.415679Z"
    }
   },
   "outputs": [
    {
     "name": "stdout",
     "output_type": "stream",
     "text": [
      "Fitting 5 folds for each of 12 candidates, totalling 60 fits\n"
     ]
    },
    {
     "name": "stderr",
     "output_type": "stream",
     "text": [
      "[Parallel(n_jobs=-1)]: Using backend LokyBackend with 4 concurrent workers.\n",
      "[Parallel(n_jobs=-1)]: Done  42 tasks      | elapsed:  4.8min\n",
      "[Parallel(n_jobs=-1)]: Done  60 out of  60 | elapsed: 10.0min finished\n"
     ]
    },
    {
     "name": "stdout",
     "output_type": "stream",
     "text": [
      "LogisticRegression best parameters: {'C': 1.0, 'max_iter': 100}\n",
      "LogisticRegression best accuracy score: 0.6667500000000001\n"
     ]
    }
   ],
   "source": [
    "clf = LogisticRegression()\n",
    "params = {\n",
    "    'C': [0.01, 0.1, 0.5, 1.0],\n",
    "    'max_iter': [100, 200, 500],\n",
    "}\n",
    "\n",
    "grid_cv = GridSearchCV(clf, param_grid=params, scoring='accuracy', verbose=1, n_jobs=-1)\n",
    "grid_cv.fit(X_train_tfidf_vect, y_train)\n",
    "print('LogisticRegression best parameters:', grid_cv.best_params_)\n",
    "print('LogisticRegression best accuracy score:', grid_cv.best_score_)"
   ]
  },
  {
   "cell_type": "code",
   "execution_count": 83,
   "metadata": {
    "ExecuteTime": {
     "end_time": "2020-11-05T11:55:56.032964Z",
     "start_time": "2020-11-05T11:55:43.022114Z"
    }
   },
   "outputs": [
    {
     "name": "stdout",
     "output_type": "stream",
     "text": [
      "LogisticRegression train accuracy score: 0.93845\n",
      "LogisticRegression test accuracy score: 0.6714\n"
     ]
    }
   ],
   "source": [
    "lr_clf = LogisticRegression(C=1.0, max_iter=500)\n",
    "lr_clf.fit(X_train_tfidf_vect, y_train)\n",
    "\n",
    "train_pred = lr_clf.predict(X_train_tfidf_vect)\n",
    "test_pred = lr_clf.predict(X_test_tfidf_vect)\n",
    "\n",
    "print('LogisticRegression train accuracy score:', accuracy_score(y_train, train_pred))\n",
    "print('LogisticRegression test accuracy score:', accuracy_score(y_test, test_pred))"
   ]
  },
  {
   "cell_type": "markdown",
   "metadata": {},
   "source": [
    "### DecisionTreeClassifier"
   ]
  },
  {
   "cell_type": "code",
   "execution_count": 84,
   "metadata": {
    "ExecuteTime": {
     "end_time": "2020-11-05T10:49:21.480019Z",
     "start_time": "2020-11-05T10:48:58.674574Z"
    }
   },
   "outputs": [
    {
     "name": "stdout",
     "output_type": "stream",
     "text": [
      "DecisionTreeClassifier train score : 0.99305\n",
      "DecisionTreeClassifier test score : 0.4332\n"
     ]
    }
   ],
   "source": [
    "from sklearn.tree import DecisionTreeClassifier\n",
    "\n",
    "dt_clf = DecisionTreeClassifier()\n",
    "dt_clf.fit(X_train_tfidf_vect, y_train)\n",
    "\n",
    "train_pred = dt_clf.predict(X_train_tfidf_vect)\n",
    "test_pred = dt_clf.predict(X_test_tfidf_vect)\n",
    "\n",
    "print('DecisionTreeClassifier train score :', accuracy_score(y_train, train_pred))\n",
    "print('DecisionTreeClassifier test score :', accuracy_score(y_test, test_pred))"
   ]
  },
  {
   "cell_type": "code",
   "execution_count": 85,
   "metadata": {
    "ExecuteTime": {
     "end_time": "2020-11-05T10:59:56.967005Z",
     "start_time": "2020-11-05T10:59:21.682143Z"
    },
    "scrolled": false
   },
   "outputs": [
    {
     "name": "stdout",
     "output_type": "stream",
     "text": [
      "Fitting 5 folds for each of 16 candidates, totalling 80 fits\n"
     ]
    },
    {
     "name": "stderr",
     "output_type": "stream",
     "text": [
      "[Parallel(n_jobs=-1)]: Using backend LokyBackend with 4 concurrent workers.\n",
      "[Parallel(n_jobs=-1)]: Done  42 tasks      | elapsed:  1.3min\n",
      "[Parallel(n_jobs=-1)]: Done  80 out of  80 | elapsed:  3.1min finished\n"
     ]
    },
    {
     "name": "stdout",
     "output_type": "stream",
     "text": [
      "DecisionTreeClassifier best parameters: {'max_depth': 120, 'min_samples_leaf': 16, 'min_samples_split': 16, 'random_state': 13}\n",
      "DecisionTreeClassifier best accuracy score: 0.41059999999999997\n"
     ]
    }
   ],
   "source": [
    "params = {\n",
    "    'max_depth': [5, 10, 20, 120],\n",
    "    'min_samples_split': [16, 24],\n",
    "    'min_samples_leaf': [16, 32],\n",
    "    'random_state': [13]\n",
    "}\n",
    "\n",
    "grid_cv = GridSearchCV(dt_clf, param_grid=params, verbose=1, n_jobs=-1, cv=5, scoring='accuracy')\n",
    "grid_cv.fit(X_train_tfidf_vect, y_train)\n",
    "\n",
    "print('DecisionTreeClassifier best parameters:', grid_cv.best_params_)\n",
    "print('DecisionTreeClassifier best accuracy score:', grid_cv.best_score_)"
   ]
  },
  {
   "cell_type": "markdown",
   "metadata": {},
   "source": [
    "## 모델 검증"
   ]
  },
  {
   "cell_type": "code",
   "execution_count": 86,
   "metadata": {
    "ExecuteTime": {
     "end_time": "2020-11-05T06:20:04.317513Z",
     "start_time": "2020-11-05T06:20:04.314721Z"
    }
   },
   "outputs": [],
   "source": [
    "from sklearn.model_selection import KFold\n",
    "\n",
    "kfold = KFold(n_splits=5)\n",
    "kf = SGDClassifier(random_state=13, loss='modified_huber')"
   ]
  },
  {
   "cell_type": "code",
   "execution_count": 87,
   "metadata": {
    "ExecuteTime": {
     "end_time": "2020-11-05T06:21:03.391199Z",
     "start_time": "2020-11-05T06:21:03.384588Z"
    }
   },
   "outputs": [
    {
     "name": "stdout",
     "output_type": "stream",
     "text": [
      "43903 10976\n",
      "43903 10976\n",
      "43903 10976\n",
      "43903 10976\n",
      "43904 10975\n"
     ]
    }
   ],
   "source": [
    "for train_idx, test_idx in kfold.split(X):\n",
    "    print(len(train_idx), len(test_idx))"
   ]
  },
  {
   "cell_type": "code",
   "execution_count": 88,
   "metadata": {
    "ExecuteTime": {
     "end_time": "2020-11-05T07:14:27.808351Z",
     "start_time": "2020-11-05T07:14:27.736394Z"
    }
   },
   "outputs": [
    {
     "name": "stdout",
     "output_type": "stream",
     "text": [
      "2\n",
      "KFold(n_splits=2, random_state=None, shuffle=False)\n",
      "--- idx\n",
      "[10000 10001 10002 ... 19997 19998 19999] [   0    1    2 ... 9997 9998 9999]\n",
      "--- train data\n",
      "  (0, 50906)\t0.3287746372510267\n",
      "  (0, 77001)\t0.3287746372510267\n",
      "  (0, 77005)\t0.3611880139840538\n",
      "  (0, 89796)\t0.25611092461001495\n",
      "  (0, 89802)\t0.3611880139840538\n",
      "  (0, 160880)\t0.14511542732327234\n",
      "  (0, 160950)\t0.16086330799095613\n",
      "  (0, 168311)\t0.06387958773121784\n",
      "  (0, 169734)\t0.3366682410414953\n",
      "  (0, 203684)\t0.16192306553866398\n",
      "  (0, 203822)\t0.2978053204013427\n",
      "  (0, 271871)\t0.24028745402761625\n",
      "  (0, 271883)\t0.3468448662864598\n",
      "  (1, 380)\t0.0837787627028299\n",
      "  (1, 390)\t0.10817336061386297\n",
      "  (1, 937)\t0.10817336061386297\n",
      "  (1, 938)\t0.10817336061386297\n",
      "  (1, 9816)\t0.059544285309588295\n",
      "  (1, 9826)\t0.10817336061386297\n",
      "  (1, 11584)\t0.06705036871881494\n",
      "  (1, 11650)\t0.10817336061386297\n",
      "  (1, 15078)\t0.09011251049531985\n",
      "  (1, 15079)\t0.10817336061386297\n",
      "  (1, 23205)\t0.07129157393440207\n",
      "  (1, 23234)\t0.10817336061386297\n",
      "  :\t:\n",
      "  (19998, 160672)\t0.08629611138774376\n",
      "  (19998, 160719)\t0.24815272602948088\n",
      "  (19998, 209441)\t0.2174204599156277\n",
      "  (19998, 209452)\t0.2662258548713839\n",
      "  (19998, 211455)\t0.06312891140364725\n",
      "  (19998, 212299)\t0.13646243281439335\n",
      "  (19998, 224629)\t0.2174204599156277\n",
      "  (19998, 224630)\t0.2662258548713839\n",
      "  (19998, 236870)\t0.1540016041565836\n",
      "  (19998, 236916)\t0.2662258548713839\n",
      "  (19999, 33544)\t0.22509670556409822\n",
      "  (19999, 129646)\t0.1794245705550674\n",
      "  (19999, 129794)\t0.3483444593412168\n",
      "  (19999, 138531)\t0.13852574595320497\n",
      "  (19999, 138955)\t0.31480693243175745\n",
      "  (19999, 140668)\t0.13559379082282044\n",
      "  (19999, 140781)\t0.3588740269889072\n",
      "  (19999, 168311)\t0.0660950387905115\n",
      "  (19999, 171934)\t0.32297429961833335\n",
      "  (19999, 211455)\t0.08861722723566037\n",
      "  (19999, 212332)\t0.14577848774709337\n",
      "  (19999, 252550)\t0.2722339801725666\n",
      "  (19999, 252564)\t0.37371461906410025\n",
      "  (19999, 278866)\t0.223552113356541\n",
      "  (19999, 278951)\t0.3588740269889072\n",
      "--- val data\n"
     ]
    },
    {
     "ename": "KeyError",
     "evalue": "\"None of [Int64Index([   0,    1,    2,    3,    4,    5,    6,    7,    8,    9,\\n            ...\\n            9990, 9991, 9992, 9993, 9994, 9995, 9996, 9997, 9998, 9999],\\n           dtype='int64', length=10000)] are in the [columns]\"",
     "output_type": "error",
     "traceback": [
      "\u001b[0;31m---------------------------------------------------------------------------\u001b[0m",
      "\u001b[0;31mKeyError\u001b[0m                                  Traceback (most recent call last)",
      "\u001b[0;32m<ipython-input-88-0120b3db057c>\u001b[0m in \u001b[0;36m<module>\u001b[0;34m\u001b[0m\n\u001b[1;32m     11\u001b[0m     \u001b[0mprint\u001b[0m\u001b[0;34m(\u001b[0m\u001b[0mX_train_tfidf_vect\u001b[0m\u001b[0;34m)\u001b[0m\u001b[0;34m\u001b[0m\u001b[0;34m\u001b[0m\u001b[0m\n\u001b[1;32m     12\u001b[0m     \u001b[0mprint\u001b[0m\u001b[0;34m(\u001b[0m\u001b[0;34m'--- val data'\u001b[0m\u001b[0;34m)\u001b[0m\u001b[0;34m\u001b[0m\u001b[0;34m\u001b[0m\u001b[0m\n\u001b[0;32m---> 13\u001b[0;31m     \u001b[0mprint\u001b[0m\u001b[0;34m(\u001b[0m\u001b[0mX\u001b[0m\u001b[0;34m[\u001b[0m\u001b[0mtest_idx\u001b[0m\u001b[0;34m]\u001b[0m\u001b[0;34m)\u001b[0m\u001b[0;34m\u001b[0m\u001b[0;34m\u001b[0m\u001b[0m\n\u001b[0m",
      "\u001b[0;32m~/opt/anaconda3/lib/python3.7/site-packages/pandas/core/frame.py\u001b[0m in \u001b[0;36m__getitem__\u001b[0;34m(self, key)\u001b[0m\n\u001b[1;32m   2906\u001b[0m             \u001b[0;32mif\u001b[0m \u001b[0mis_iterator\u001b[0m\u001b[0;34m(\u001b[0m\u001b[0mkey\u001b[0m\u001b[0;34m)\u001b[0m\u001b[0;34m:\u001b[0m\u001b[0;34m\u001b[0m\u001b[0;34m\u001b[0m\u001b[0m\n\u001b[1;32m   2907\u001b[0m                 \u001b[0mkey\u001b[0m \u001b[0;34m=\u001b[0m \u001b[0mlist\u001b[0m\u001b[0;34m(\u001b[0m\u001b[0mkey\u001b[0m\u001b[0;34m)\u001b[0m\u001b[0;34m\u001b[0m\u001b[0;34m\u001b[0m\u001b[0m\n\u001b[0;32m-> 2908\u001b[0;31m             \u001b[0mindexer\u001b[0m \u001b[0;34m=\u001b[0m \u001b[0mself\u001b[0m\u001b[0;34m.\u001b[0m\u001b[0mloc\u001b[0m\u001b[0;34m.\u001b[0m\u001b[0m_get_listlike_indexer\u001b[0m\u001b[0;34m(\u001b[0m\u001b[0mkey\u001b[0m\u001b[0;34m,\u001b[0m \u001b[0maxis\u001b[0m\u001b[0;34m=\u001b[0m\u001b[0;36m1\u001b[0m\u001b[0;34m,\u001b[0m \u001b[0mraise_missing\u001b[0m\u001b[0;34m=\u001b[0m\u001b[0;32mTrue\u001b[0m\u001b[0;34m)\u001b[0m\u001b[0;34m[\u001b[0m\u001b[0;36m1\u001b[0m\u001b[0;34m]\u001b[0m\u001b[0;34m\u001b[0m\u001b[0;34m\u001b[0m\u001b[0m\n\u001b[0m\u001b[1;32m   2909\u001b[0m \u001b[0;34m\u001b[0m\u001b[0m\n\u001b[1;32m   2910\u001b[0m         \u001b[0;31m# take() does not accept boolean indexers\u001b[0m\u001b[0;34m\u001b[0m\u001b[0;34m\u001b[0m\u001b[0;34m\u001b[0m\u001b[0m\n",
      "\u001b[0;32m~/opt/anaconda3/lib/python3.7/site-packages/pandas/core/indexing.py\u001b[0m in \u001b[0;36m_get_listlike_indexer\u001b[0;34m(self, key, axis, raise_missing)\u001b[0m\n\u001b[1;32m   1252\u001b[0m             \u001b[0mkeyarr\u001b[0m\u001b[0;34m,\u001b[0m \u001b[0mindexer\u001b[0m\u001b[0;34m,\u001b[0m \u001b[0mnew_indexer\u001b[0m \u001b[0;34m=\u001b[0m \u001b[0max\u001b[0m\u001b[0;34m.\u001b[0m\u001b[0m_reindex_non_unique\u001b[0m\u001b[0;34m(\u001b[0m\u001b[0mkeyarr\u001b[0m\u001b[0;34m)\u001b[0m\u001b[0;34m\u001b[0m\u001b[0;34m\u001b[0m\u001b[0m\n\u001b[1;32m   1253\u001b[0m \u001b[0;34m\u001b[0m\u001b[0m\n\u001b[0;32m-> 1254\u001b[0;31m         \u001b[0mself\u001b[0m\u001b[0;34m.\u001b[0m\u001b[0m_validate_read_indexer\u001b[0m\u001b[0;34m(\u001b[0m\u001b[0mkeyarr\u001b[0m\u001b[0;34m,\u001b[0m \u001b[0mindexer\u001b[0m\u001b[0;34m,\u001b[0m \u001b[0maxis\u001b[0m\u001b[0;34m,\u001b[0m \u001b[0mraise_missing\u001b[0m\u001b[0;34m=\u001b[0m\u001b[0mraise_missing\u001b[0m\u001b[0;34m)\u001b[0m\u001b[0;34m\u001b[0m\u001b[0;34m\u001b[0m\u001b[0m\n\u001b[0m\u001b[1;32m   1255\u001b[0m         \u001b[0;32mreturn\u001b[0m \u001b[0mkeyarr\u001b[0m\u001b[0;34m,\u001b[0m \u001b[0mindexer\u001b[0m\u001b[0;34m\u001b[0m\u001b[0;34m\u001b[0m\u001b[0m\n\u001b[1;32m   1256\u001b[0m \u001b[0;34m\u001b[0m\u001b[0m\n",
      "\u001b[0;32m~/opt/anaconda3/lib/python3.7/site-packages/pandas/core/indexing.py\u001b[0m in \u001b[0;36m_validate_read_indexer\u001b[0;34m(self, key, indexer, axis, raise_missing)\u001b[0m\n\u001b[1;32m   1296\u001b[0m             \u001b[0;32mif\u001b[0m \u001b[0mmissing\u001b[0m \u001b[0;34m==\u001b[0m \u001b[0mlen\u001b[0m\u001b[0;34m(\u001b[0m\u001b[0mindexer\u001b[0m\u001b[0;34m)\u001b[0m\u001b[0;34m:\u001b[0m\u001b[0;34m\u001b[0m\u001b[0;34m\u001b[0m\u001b[0m\n\u001b[1;32m   1297\u001b[0m                 \u001b[0maxis_name\u001b[0m \u001b[0;34m=\u001b[0m \u001b[0mself\u001b[0m\u001b[0;34m.\u001b[0m\u001b[0mobj\u001b[0m\u001b[0;34m.\u001b[0m\u001b[0m_get_axis_name\u001b[0m\u001b[0;34m(\u001b[0m\u001b[0maxis\u001b[0m\u001b[0;34m)\u001b[0m\u001b[0;34m\u001b[0m\u001b[0;34m\u001b[0m\u001b[0m\n\u001b[0;32m-> 1298\u001b[0;31m                 \u001b[0;32mraise\u001b[0m \u001b[0mKeyError\u001b[0m\u001b[0;34m(\u001b[0m\u001b[0;34mf\"None of [{key}] are in the [{axis_name}]\"\u001b[0m\u001b[0;34m)\u001b[0m\u001b[0;34m\u001b[0m\u001b[0;34m\u001b[0m\u001b[0m\n\u001b[0m\u001b[1;32m   1299\u001b[0m \u001b[0;34m\u001b[0m\u001b[0m\n\u001b[1;32m   1300\u001b[0m             \u001b[0;31m# We (temporarily) allow for some missing keys with .loc, except in\u001b[0m\u001b[0;34m\u001b[0m\u001b[0;34m\u001b[0m\u001b[0;34m\u001b[0m\u001b[0m\n",
      "\u001b[0;31mKeyError\u001b[0m: \"None of [Int64Index([   0,    1,    2,    3,    4,    5,    6,    7,    8,    9,\\n            ...\\n            9990, 9991, 9992, 9993, 9994, 9995, 9996, 9997, 9998, 9999],\\n           dtype='int64', length=10000)] are in the [columns]\""
     ]
    }
   ],
   "source": [
    "# 교차 검증 구현하기\n",
    "\n",
    "kf = KFold(n_splits=2)\n",
    "\n",
    "print(kf.get_n_splits(X_train_tfidf_vect))\n",
    "print(kf)\n",
    "for train_idx, test_idx in kf.split(X_train_tfidf_vect):\n",
    "    print('--- idx')\n",
    "    print(train_idx, test_idx)\n",
    "    print('--- train data')\n",
    "    print(X_train_tfidf_vect)\n",
    "    print('--- val data')\n",
    "    print(X[test_idx])"
   ]
  },
  {
   "cell_type": "code",
   "execution_count": null,
   "metadata": {
    "ExecuteTime": {
     "end_time": "2020-11-05T07:18:34.279687Z",
     "start_time": "2020-11-05T07:18:32.706501Z"
    }
   },
   "outputs": [],
   "source": [
    "from sklearn.model_selection import cross_val_score\n",
    "\n",
    "skfold = StratifiedKFold(n_splits=5)\n",
    "cross_val_score(sgd_clf, X_train_tfidf_vect, y_train, cv=skfold, scoring=None)"
   ]
  },
  {
   "cell_type": "code",
   "execution_count": null,
   "metadata": {
    "ExecuteTime": {
     "end_time": "2020-11-05T07:16:55.140134Z",
     "start_time": "2020-11-05T07:16:53.421626Z"
    }
   },
   "outputs": [],
   "source": [
    "cross_val_score(sgd_clf, X_train_tfidf_vect, y_train, cv=5, scoring='accuracy')"
   ]
  },
  {
   "cell_type": "code",
   "execution_count": null,
   "metadata": {
    "ExecuteTime": {
     "end_time": "2020-11-05T07:20:00.227864Z",
     "start_time": "2020-11-05T07:19:58.659236Z"
    }
   },
   "outputs": [],
   "source": [
    "# train score 와 같이\n",
    "\n",
    "from sklearn.model_selection import cross_validate\n",
    "\n",
    "cross_validate(sgd_clf, X_train_tfidf_vect, y_train, scoring=None, cv=skfold, return_train_score=True)"
   ]
  },
  {
   "cell_type": "code",
   "execution_count": null,
   "metadata": {},
   "outputs": [],
   "source": [
    "test_x.text"
   ]
  },
  {
   "cell_type": "code",
   "execution_count": null,
   "metadata": {},
   "outputs": [],
   "source": [
    "X_train"
   ]
  },
  {
   "cell_type": "code",
   "execution_count": null,
   "metadata": {},
   "outputs": [],
   "source": [
    "from sklearn.feature_extraction.text import TfidfVectorizer, TfidfTransformer\n",
    "\n",
    "# TF-IDF Vectorization 적용하여 학습 데이터셋과 테스트 데이터 셋 변환.\n",
    "tfidf_vect_test = TfidfVectorizer(stop_words='english', max_features=30000)\n",
    "tfidf_vect_test.fit(test_x.text)\n",
    "X_train_tfidf_test = tfidf_vect_test.transform(test_x.text)"
   ]
  },
  {
   "cell_type": "code",
   "execution_count": null,
   "metadata": {},
   "outputs": [],
   "source": [
    "pred"
   ]
  },
  {
   "cell_type": "code",
   "execution_count": null,
   "metadata": {},
   "outputs": [],
   "source": [
    "pred = lr_clf.predict(X_train_tfidf_test)"
   ]
  },
  {
   "cell_type": "code",
   "execution_count": null,
   "metadata": {},
   "outputs": [],
   "source": [
    "pred"
   ]
  },
  {
   "cell_type": "code",
   "execution_count": null,
   "metadata": {},
   "outputs": [],
   "source": [
    "test_x['author'] = pred"
   ]
  },
  {
   "cell_type": "code",
   "execution_count": null,
   "metadata": {},
   "outputs": [],
   "source": [
    "test_x"
   ]
  },
  {
   "cell_type": "code",
   "execution_count": null,
   "metadata": {},
   "outputs": [],
   "source": []
  },
  {
   "cell_type": "code",
   "execution_count": null,
   "metadata": {},
   "outputs": [],
   "source": []
  },
  {
   "cell_type": "code",
   "execution_count": null,
   "metadata": {},
   "outputs": [],
   "source": []
  },
  {
   "cell_type": "code",
   "execution_count": null,
   "metadata": {},
   "outputs": [],
   "source": []
  },
  {
   "cell_type": "code",
   "execution_count": null,
   "metadata": {},
   "outputs": [],
   "source": []
  },
  {
   "cell_type": "code",
   "execution_count": null,
   "metadata": {},
   "outputs": [],
   "source": []
  },
  {
   "cell_type": "code",
   "execution_count": null,
   "metadata": {},
   "outputs": [],
   "source": []
  },
  {
   "cell_type": "code",
   "execution_count": null,
   "metadata": {},
   "outputs": [],
   "source": []
  },
  {
   "cell_type": "code",
   "execution_count": null,
   "metadata": {},
   "outputs": [],
   "source": []
  },
  {
   "cell_type": "code",
   "execution_count": null,
   "metadata": {},
   "outputs": [],
   "source": []
  },
  {
   "cell_type": "code",
   "execution_count": null,
   "metadata": {},
   "outputs": [],
   "source": []
  },
  {
   "cell_type": "code",
   "execution_count": null,
   "metadata": {},
   "outputs": [],
   "source": []
  },
  {
   "cell_type": "code",
   "execution_count": null,
   "metadata": {},
   "outputs": [],
   "source": []
  },
  {
   "cell_type": "code",
   "execution_count": null,
   "metadata": {},
   "outputs": [],
   "source": []
  },
  {
   "cell_type": "code",
   "execution_count": null,
   "metadata": {},
   "outputs": [],
   "source": []
  },
  {
   "cell_type": "code",
   "execution_count": null,
   "metadata": {},
   "outputs": [],
   "source": []
  }
 ],
 "metadata": {
  "kernelspec": {
   "display_name": "Python 3",
   "language": "python",
   "name": "python3"
  },
  "language_info": {
   "codemirror_mode": {
    "name": "ipython",
    "version": 3
   },
   "file_extension": ".py",
   "mimetype": "text/x-python",
   "name": "python",
   "nbconvert_exporter": "python",
   "pygments_lexer": "ipython3",
   "version": "3.7.6"
  },
  "toc": {
   "base_numbering": 1,
   "nav_menu": {},
   "number_sections": true,
   "sideBar": true,
   "skip_h1_title": false,
   "title_cell": "Table of Contents",
   "title_sidebar": "Contents",
   "toc_cell": false,
   "toc_position": {
    "height": "calc(100% - 180px)",
    "left": "10px",
    "top": "150px",
    "width": "336px"
   },
   "toc_section_display": true,
   "toc_window_display": true
  }
 },
 "nbformat": 4,
 "nbformat_minor": 4
}
