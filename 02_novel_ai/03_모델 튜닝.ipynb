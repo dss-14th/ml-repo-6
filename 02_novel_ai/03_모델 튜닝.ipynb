{
 "cells": [
  {
   "cell_type": "code",
   "execution_count": 2,
   "metadata": {
    "ExecuteTime": {
     "end_time": "2020-11-06T07:01:13.110489Z",
     "start_time": "2020-11-06T07:01:12.753803Z"
    }
   },
   "outputs": [],
   "source": [
    "import pandas as pd\n",
    "import warnings \n",
    "warnings.filterwarnings(action='ignore')\n",
    "import numpy as np\n",
    "import re\n",
    "import nltk\n",
    "from sklearn.model_selection import train_test_split\n",
    "from nltk import word_tokenize\n",
    "from wordcloud import WordCloud, STOPWORDS\n",
    "import matplotlib.pyplot as plt\n",
    "%matplotlib inline"
   ]
  },
  {
   "cell_type": "code",
   "execution_count": 3,
   "metadata": {
    "ExecuteTime": {
     "end_time": "2020-11-06T07:01:13.262782Z",
     "start_time": "2020-11-06T07:01:13.112271Z"
    }
   },
   "outputs": [],
   "source": [
    "# 파일 불러오기\n",
    "\n",
    "train = pd.read_csv('./open/train.csv', encoding='utf-8')"
   ]
  },
  {
   "cell_type": "code",
   "execution_count": 4,
   "metadata": {
    "ExecuteTime": {
     "end_time": "2020-11-06T07:01:13.372885Z",
     "start_time": "2020-11-06T07:01:13.369637Z"
    }
   },
   "outputs": [],
   "source": [
    "X = train.loc[:, 'text']\n",
    "y = train.loc[:, 'author']"
   ]
  },
  {
   "cell_type": "code",
   "execution_count": 5,
   "metadata": {
    "ExecuteTime": {
     "end_time": "2020-11-06T07:01:13.698921Z",
     "start_time": "2020-11-06T07:01:13.688035Z"
    }
   },
   "outputs": [],
   "source": [
    "X_train, X_test, y_train, y_test = train_test_split(X, y, test_size=0.2, random_state=13)"
   ]
  },
  {
   "cell_type": "markdown",
   "metadata": {},
   "source": [
    "### tfidfvectorizer"
   ]
  },
  {
   "cell_type": "code",
   "execution_count": 6,
   "metadata": {
    "ExecuteTime": {
     "end_time": "2020-11-06T07:01:20.422328Z",
     "start_time": "2020-11-06T07:01:17.908410Z"
    }
   },
   "outputs": [],
   "source": [
    "from sklearn.feature_extraction.text import TfidfVectorizer, TfidfTransformer\n",
    "\n",
    "# TF-IDF Vectorization 적용하여 학습 데이터셋과 테스트 데이터 셋 변환.\n",
    "tfidf_vect = TfidfVectorizer(stop_words='english')\n",
    "tfidf_vect.fit(X_train)\n",
    "X_train_tfidf_vect = tfidf_vect.transform(X_train)\n",
    "X_test_tfidf_vect = tfidf_vect.transform(X_test)"
   ]
  },
  {
   "cell_type": "markdown",
   "metadata": {},
   "source": [
    "### SGDClassifier"
   ]
  },
  {
   "cell_type": "code",
   "execution_count": 18,
   "metadata": {
    "ExecuteTime": {
     "end_time": "2020-11-06T02:55:32.495947Z",
     "start_time": "2020-11-06T02:55:32.064370Z"
    }
   },
   "outputs": [
    {
     "name": "stdout",
     "output_type": "stream",
     "text": [
      "SGDClassifier train accuracy score: 0.8592351319955356\n",
      "SGDClassifier test accuracy score: 0.7332361516034985\n"
     ]
    }
   ],
   "source": [
    "from sklearn.linear_model import SGDClassifier\n",
    "from sklearn.metrics import accuracy_score\n",
    "\n",
    "sgd_clf = SGDClassifier(random_state=13, loss='modified_huber')\n",
    "sgd_clf.fit(X_train_tfidf_vect, y_train)\n",
    "\n",
    "train_pred = sgd_clf.predict(X_train_tfidf_vect)\n",
    "test_pred = sgd_clf.predict(X_test_tfidf_vect)\n",
    "\n",
    "print('SGDClassifier train accuracy score:', accuracy_score(y_train, train_pred))\n",
    "print('SGDClassifier test accuracy score:', accuracy_score(y_test, test_pred))"
   ]
  },
  {
   "cell_type": "code",
   "execution_count": 9,
   "metadata": {
    "ExecuteTime": {
     "end_time": "2020-11-06T02:44:04.885558Z",
     "start_time": "2020-11-06T02:44:03.973307Z"
    }
   },
   "outputs": [
    {
     "data": {
      "text/plain": [
       "array([0.73397107, 0.73727366, 0.72679649, 0.73405467, 0.73075171])"
      ]
     },
     "execution_count": 9,
     "metadata": {},
     "output_type": "execute_result"
    }
   ],
   "source": [
    "# 교차 검증\n",
    "\n",
    "from sklearn.model_selection import cross_val_score, cross_validate, cross_val_predict\n",
    "from sklearn.model_selection import StratifiedKFold\n",
    "\n",
    "skf = StratifiedKFold(n_splits=5, shuffle=True, random_state=13)\n",
    "cross_val_score(sgd_clf, X_train_tfidf_vect, y_train, cv=5, scoring='accuracy')"
   ]
  },
  {
   "cell_type": "code",
   "execution_count": 22,
   "metadata": {
    "ExecuteTime": {
     "end_time": "2020-11-06T03:06:55.072680Z",
     "start_time": "2020-11-06T03:06:54.120246Z"
    }
   },
   "outputs": [
    {
     "data": {
      "text/plain": [
       "{'fit_time': array([0.21991968, 0.2159369 , 0.11206222, 0.21130967, 0.11145711]),\n",
       " 'score_time': array([0.00423908, 0.00444603, 0.00335908, 0.00521803, 0.00276184]),\n",
       " 'test_score': array([0.72599932, 0.73351554, 0.73738754, 0.72790433, 0.73132118]),\n",
       " 'train_score': array([0.87486476, 0.87660156, 0.87372587, 0.87466902, 0.87586482])}"
      ]
     },
     "execution_count": 22,
     "metadata": {},
     "output_type": "execute_result"
    }
   ],
   "source": [
    "sgd_clf = SGDClassifier(alpha=0.0001, loss='modified_huber', n_jobs=-1, random_state=13, penalty='l2')\n",
    "cross_validate(sgd_clf, X_train_tfidf_vect, y_train, scoring=None, cv=skf, return_train_score=True)"
   ]
  },
  {
   "cell_type": "code",
   "execution_count": 23,
   "metadata": {
    "ExecuteTime": {
     "end_time": "2020-11-06T03:11:26.947029Z",
     "start_time": "2020-11-06T03:11:25.145038Z"
    }
   },
   "outputs": [
    {
     "data": {
      "text/plain": [
       "{'fit_time': array([0.42394495, 0.31523204, 0.32226706, 0.32350588, 0.32055092]),\n",
       " 'score_time': array([0.00490928, 0.0047822 , 0.00541806, 0.00539422, 0.00475407]),\n",
       " 'test_score': array([0.67589113, 0.68169912, 0.6766883 , 0.67585421, 0.68189066]),\n",
       " 'train_score': array([0.76057742, 0.76302602, 0.76333922, 0.76468411, 0.764798  ])}"
      ]
     },
     "execution_count": 23,
     "metadata": {},
     "output_type": "execute_result"
    }
   ],
   "source": [
    "sgd_clf = SGDClassifier(alpha=0.0001, loss='modified_huber', n_jobs=-1, random_state=13, penalty='l1')\n",
    "cross_validate(sgd_clf, X_train_tfidf_vect, y_train, scoring=None, cv=skf, return_train_score=True)"
   ]
  },
  {
   "cell_type": "code",
   "execution_count": 10,
   "metadata": {
    "ExecuteTime": {
     "end_time": "2020-11-06T02:44:34.463186Z",
     "start_time": "2020-11-06T02:44:33.752525Z"
    }
   },
   "outputs": [],
   "source": [
    "y_scores = cross_val_predict(sgd_clf, X_train_tfidf_vect, y_train, cv=skf, method='decision_function')"
   ]
  },
  {
   "cell_type": "code",
   "execution_count": 11,
   "metadata": {
    "ExecuteTime": {
     "end_time": "2020-11-06T02:44:37.555320Z",
     "start_time": "2020-11-06T02:44:37.551192Z"
    }
   },
   "outputs": [
    {
     "data": {
      "text/plain": [
       "array([[ 0.08845517, -1.08782035, -1.39350539, -1.12419603, -0.34179337],\n",
       "       [-0.17019869, -0.21915934, -0.25056359, -1.78923817, -1.08142273],\n",
       "       [-0.69963142,  0.42057308, -1.00189905, -1.20256542, -1.11992828],\n",
       "       ...,\n",
       "       [-1.384899  , -1.45381016, -1.45764502, -1.09673068,  1.45954107],\n",
       "       [-0.60249989, -1.09574016, -1.12078779,  0.63297133, -1.33737796],\n",
       "       [-1.07331235, -1.0934612 , -1.0314122 ,  0.72254814, -0.95285561]])"
      ]
     },
     "execution_count": 11,
     "metadata": {},
     "output_type": "execute_result"
    }
   ],
   "source": [
    "y_scores"
   ]
  },
  {
   "cell_type": "code",
   "execution_count": 15,
   "metadata": {
    "ExecuteTime": {
     "end_time": "2020-11-06T02:54:33.076489Z",
     "start_time": "2020-11-06T02:54:32.696704Z"
    }
   },
   "outputs": [
    {
     "data": {
      "text/plain": [
       "array([0, 0, 1, ..., 4, 3, 3])"
      ]
     },
     "execution_count": 15,
     "metadata": {},
     "output_type": "execute_result"
    }
   ],
   "source": [
    "from sklearn.multiclass import OneVsRestClassifier\n",
    "\n",
    "ovr_clf = OneVsRestClassifier(SGDClassifier())\n",
    "ovr_clf.fit(X_train_tfidf_vect, y_train)\n",
    "ovr_clf.predict(X_train_tfidf_vect)"
   ]
  },
  {
   "cell_type": "code",
   "execution_count": 19,
   "metadata": {
    "ExecuteTime": {
     "end_time": "2020-11-06T02:55:34.722701Z",
     "start_time": "2020-11-06T02:55:34.712055Z"
    }
   },
   "outputs": [
    {
     "data": {
      "text/plain": [
       "array([[ 0.00828216, -1.12094925, -1.4737611 , -1.12316962, -0.21027795],\n",
       "       [-0.40528682,  0.02691771, -0.51867997, -1.56894528, -1.05199848],\n",
       "       [-0.76149698,  0.52339667, -1.15703551, -1.09581385, -1.0103404 ],\n",
       "       ...,\n",
       "       [-1.33518992, -1.43957265, -1.52641655, -0.92931811,  1.38966945],\n",
       "       [-0.5760874 , -1.05988333, -1.1350919 ,  0.71427824, -1.34419834],\n",
       "       [-0.99451862, -1.12181347, -1.02081457,  0.83276161, -1.00751358]])"
      ]
     },
     "execution_count": 19,
     "metadata": {},
     "output_type": "execute_result"
    }
   ],
   "source": [
    "sgd_clf.decision_function(X_train_tfidf_vect)"
   ]
  },
  {
   "cell_type": "code",
   "execution_count": null,
   "metadata": {},
   "outputs": [],
   "source": []
  },
  {
   "cell_type": "code",
   "execution_count": null,
   "metadata": {},
   "outputs": [],
   "source": []
  },
  {
   "cell_type": "code",
   "execution_count": null,
   "metadata": {},
   "outputs": [],
   "source": []
  },
  {
   "cell_type": "code",
   "execution_count": null,
   "metadata": {},
   "outputs": [],
   "source": []
  }
 ],
 "metadata": {
  "kernelspec": {
   "display_name": "Python 3",
   "language": "python",
   "name": "python3"
  },
  "language_info": {
   "codemirror_mode": {
    "name": "ipython",
    "version": 3
   },
   "file_extension": ".py",
   "mimetype": "text/x-python",
   "name": "python",
   "nbconvert_exporter": "python",
   "pygments_lexer": "ipython3",
   "version": "3.7.9"
  },
  "toc": {
   "base_numbering": 1,
   "nav_menu": {},
   "number_sections": true,
   "sideBar": true,
   "skip_h1_title": false,
   "title_cell": "Table of Contents",
   "title_sidebar": "Contents",
   "toc_cell": false,
   "toc_position": {},
   "toc_section_display": true,
   "toc_window_display": true
  }
 },
 "nbformat": 4,
 "nbformat_minor": 4
}
