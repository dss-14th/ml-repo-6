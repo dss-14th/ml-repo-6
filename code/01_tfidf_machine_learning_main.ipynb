{
 "cells": [
  {
   "cell_type": "code",
   "execution_count": 1,
   "metadata": {
    "ExecuteTime": {
     "end_time": "2020-11-18T10:44:39.446389Z",
     "start_time": "2020-11-18T10:44:39.436076Z"
    }
   },
   "outputs": [],
   "source": [
    "%config Completer.use_jedi = False"
   ]
  },
  {
   "cell_type": "code",
   "execution_count": 2,
   "metadata": {
    "ExecuteTime": {
     "end_time": "2020-11-18T10:44:41.646076Z",
     "start_time": "2020-11-18T10:44:40.882274Z"
    }
   },
   "outputs": [],
   "source": [
    "import pandas as pd\n",
    "import warnings \n",
    "warnings.filterwarnings(action='ignore')\n",
    "import numpy as np\n",
    "import re\n",
    "import nltk\n",
    "from sklearn.model_selection import train_test_split\n",
    "from nltk import word_tokenize\n",
    "from wordcloud import WordCloud, STOPWORDS\n",
    "import matplotlib.pyplot as plt\n",
    "%matplotlib inline"
   ]
  },
  {
   "cell_type": "markdown",
   "metadata": {},
   "source": [
    "## 데이터 확인"
   ]
  },
  {
   "cell_type": "code",
   "execution_count": 6,
   "metadata": {
    "ExecuteTime": {
     "end_time": "2020-11-18T10:45:21.199459Z",
     "start_time": "2020-11-18T10:45:20.861101Z"
    }
   },
   "outputs": [],
   "source": [
    "# 파일 불러오기\n",
    "\n",
    "train = pd.read_csv('./dataset/train.csv', encoding='utf-8')\n",
    "test_x = pd.read_csv('./dataset/test_x.csv', encoding='utf-8')\n",
    "submission = pd.read_csv('./dataset/sample_submission.csv', encoding='utf-8')"
   ]
  },
  {
   "cell_type": "code",
   "execution_count": 7,
   "metadata": {
    "ExecuteTime": {
     "end_time": "2020-11-18T10:45:22.545248Z",
     "start_time": "2020-11-18T10:45:22.541567Z"
    }
   },
   "outputs": [],
   "source": [
    "pd.set_option('max_colwidth', 180)"
   ]
  },
  {
   "cell_type": "markdown",
   "metadata": {},
   "source": [
    "### train data\n",
    "- 실제 작가와 작가가 작성한 Text가 라벨링된 데이터프레임"
   ]
  },
  {
   "cell_type": "code",
   "execution_count": 8,
   "metadata": {
    "ExecuteTime": {
     "end_time": "2020-11-18T10:45:23.331442Z",
     "start_time": "2020-11-18T10:45:23.304635Z"
    },
    "scrolled": false
   },
   "outputs": [
    {
     "data": {
      "text/html": [
       "<div>\n",
       "<style scoped>\n",
       "    .dataframe tbody tr th:only-of-type {\n",
       "        vertical-align: middle;\n",
       "    }\n",
       "\n",
       "    .dataframe tbody tr th {\n",
       "        vertical-align: top;\n",
       "    }\n",
       "\n",
       "    .dataframe thead th {\n",
       "        text-align: right;\n",
       "    }\n",
       "</style>\n",
       "<table border=\"1\" class=\"dataframe\">\n",
       "  <thead>\n",
       "    <tr style=\"text-align: right;\">\n",
       "      <th></th>\n",
       "      <th>text</th>\n",
       "      <th>author</th>\n",
       "    </tr>\n",
       "  </thead>\n",
       "  <tbody>\n",
       "    <tr>\n",
       "      <th>0</th>\n",
       "      <td>He was almost choking. There was so much, so much he wanted to say, but strange exclamations were all that came from his lips. The Pole gazed fixedly at him, at the bundle of n...</td>\n",
       "      <td>3</td>\n",
       "    </tr>\n",
       "    <tr>\n",
       "      <th>1</th>\n",
       "      <td>“Your sister asked for it, I suppose?”</td>\n",
       "      <td>2</td>\n",
       "    </tr>\n",
       "    <tr>\n",
       "      <th>2</th>\n",
       "      <td>She was engaged one day as she walked, in perusing Jane’s last letter, and dwelling on some passages which proved that Jane had not written in spirits, when, instead of being ...</td>\n",
       "      <td>1</td>\n",
       "    </tr>\n",
       "    <tr>\n",
       "      <th>3</th>\n",
       "      <td>The captain was in the porch, keeping himself carefully out of the way of a treacherous shot, should any be intended. He turned and spoke to us, “Doctor's watch on the lookout....</td>\n",
       "      <td>4</td>\n",
       "    </tr>\n",
       "    <tr>\n",
       "      <th>4</th>\n",
       "      <td>“Have mercy, gentlemen!” odin flung up his hands. “Don’t write that, anyway; have some shame. Here I’ve torn my heart asunder before you, and you seize the opportunity and are ...</td>\n",
       "      <td>3</td>\n",
       "    </tr>\n",
       "    <tr>\n",
       "      <th>...</th>\n",
       "      <td>...</td>\n",
       "      <td>...</td>\n",
       "    </tr>\n",
       "    <tr>\n",
       "      <th>54874</th>\n",
       "      <td>“Is that you, Mr. Smith?” odin whispered. “I hardly dared hope that you would come.”</td>\n",
       "      <td>2</td>\n",
       "    </tr>\n",
       "    <tr>\n",
       "      <th>54875</th>\n",
       "      <td>I told my plan to the captain, and between us we settled on the details of its accomplishment.</td>\n",
       "      <td>4</td>\n",
       "    </tr>\n",
       "    <tr>\n",
       "      <th>54876</th>\n",
       "      <td>\"Your sincere well-wisher, friend, and sister, \"LUCY odin.</td>\n",
       "      <td>1</td>\n",
       "    </tr>\n",
       "    <tr>\n",
       "      <th>54877</th>\n",
       "      <td>“Then you wanted me to lend you money?”</td>\n",
       "      <td>3</td>\n",
       "    </tr>\n",
       "    <tr>\n",
       "      <th>54878</th>\n",
       "      <td>It certainly had not occurred to me before, but I said, Yes, I should like that.</td>\n",
       "      <td>0</td>\n",
       "    </tr>\n",
       "  </tbody>\n",
       "</table>\n",
       "<p>54879 rows × 2 columns</p>\n",
       "</div>"
      ],
      "text/plain": [
       "                                                                                                                                                                                      text  \\\n",
       "0      He was almost choking. There was so much, so much he wanted to say, but strange exclamations were all that came from his lips. The Pole gazed fixedly at him, at the bundle of n...   \n",
       "1                                                                                                                                                   “Your sister asked for it, I suppose?”   \n",
       "2       She was engaged one day as she walked, in perusing Jane’s last letter, and dwelling on some passages which proved that Jane had not written in spirits, when, instead of being ...   \n",
       "3      The captain was in the porch, keeping himself carefully out of the way of a treacherous shot, should any be intended. He turned and spoke to us, “Doctor's watch on the lookout....   \n",
       "4      “Have mercy, gentlemen!” odin flung up his hands. “Don’t write that, anyway; have some shame. Here I’ve torn my heart asunder before you, and you seize the opportunity and are ...   \n",
       "...                                                                                                                                                                                    ...   \n",
       "54874                                                                                                 “Is that you, Mr. Smith?” odin whispered. “I hardly dared hope that you would come.”   \n",
       "54875                                                                                       I told my plan to the captain, and between us we settled on the details of its accomplishment.   \n",
       "54876                                                                                                                           \"Your sincere well-wisher, friend, and sister, \"LUCY odin.   \n",
       "54877                                                                                                                                              “Then you wanted me to lend you money?”   \n",
       "54878                                                                                                     It certainly had not occurred to me before, but I said, Yes, I should like that.   \n",
       "\n",
       "       author  \n",
       "0           3  \n",
       "1           2  \n",
       "2           1  \n",
       "3           4  \n",
       "4           3  \n",
       "...       ...  \n",
       "54874       2  \n",
       "54875       4  \n",
       "54876       1  \n",
       "54877       3  \n",
       "54878       0  \n",
       "\n",
       "[54879 rows x 2 columns]"
      ]
     },
     "execution_count": 8,
     "metadata": {},
     "output_type": "execute_result"
    }
   ],
   "source": [
    "train.drop(columns='index')"
   ]
  },
  {
   "cell_type": "code",
   "execution_count": 9,
   "metadata": {
    "ExecuteTime": {
     "end_time": "2020-11-18T10:45:25.128980Z",
     "start_time": "2020-11-18T10:45:25.125030Z"
    }
   },
   "outputs": [
    {
     "data": {
      "text/plain": [
       "'He was almost choking. There was so much, so much he wanted to say, but strange exclamations were all that came from his lips. The Pole gazed fixedly at him, at the bundle of notes in his hand; looked at odin, and was in evident perplexity.'"
      ]
     },
     "execution_count": 9,
     "metadata": {},
     "output_type": "execute_result"
    }
   ],
   "source": [
    "train.text[0]"
   ]
  },
  {
   "cell_type": "code",
   "execution_count": 10,
   "metadata": {
    "ExecuteTime": {
     "end_time": "2020-11-18T10:45:25.424269Z",
     "start_time": "2020-11-18T10:45:25.415920Z"
    }
   },
   "outputs": [
    {
     "data": {
      "text/plain": [
       "(array([3, 2, 1, 4, 0]),\n",
       " 3    15063\n",
       " 0    13235\n",
       " 2    11554\n",
       " 4     7805\n",
       " 1     7222\n",
       " Name: author, dtype: int64)"
      ]
     },
     "execution_count": 10,
     "metadata": {},
     "output_type": "execute_result"
    }
   ],
   "source": [
    "train.author.unique(), train.author.value_counts()"
   ]
  },
  {
   "cell_type": "markdown",
   "metadata": {},
   "source": [
    "### text_x\n",
    "- train data를 학습시켜 어떤 작가가 작성했는지 분석해야할 데이터프레임"
   ]
  },
  {
   "cell_type": "code",
   "execution_count": 11,
   "metadata": {
    "ExecuteTime": {
     "end_time": "2020-11-18T10:45:27.083113Z",
     "start_time": "2020-11-18T10:45:27.073461Z"
    }
   },
   "outputs": [
    {
     "data": {
      "text/html": [
       "<div>\n",
       "<style scoped>\n",
       "    .dataframe tbody tr th:only-of-type {\n",
       "        vertical-align: middle;\n",
       "    }\n",
       "\n",
       "    .dataframe tbody tr th {\n",
       "        vertical-align: top;\n",
       "    }\n",
       "\n",
       "    .dataframe thead th {\n",
       "        text-align: right;\n",
       "    }\n",
       "</style>\n",
       "<table border=\"1\" class=\"dataframe\">\n",
       "  <thead>\n",
       "    <tr style=\"text-align: right;\">\n",
       "      <th></th>\n",
       "      <th>index</th>\n",
       "      <th>text</th>\n",
       "    </tr>\n",
       "  </thead>\n",
       "  <tbody>\n",
       "    <tr>\n",
       "      <th>0</th>\n",
       "      <td>0</td>\n",
       "      <td>“Not at all. I think she is one of the most charming young ladies I ever met, and might have been most useful in such work as we have been doing. She had a decided genius that ...</td>\n",
       "    </tr>\n",
       "    <tr>\n",
       "      <th>1</th>\n",
       "      <td>1</td>\n",
       "      <td>\"No,\" replied he, with sudden consciousness, \"not to find it in YOU; for I cannot be ignorant that to you, to your goodness, I owe it all.--I feel it--I would express it if I c...</td>\n",
       "    </tr>\n",
       "    <tr>\n",
       "      <th>2</th>\n",
       "      <td>2</td>\n",
       "      <td>As the lady had stated her intention of screaming, of course she would have screamed at this additional boldness, but that the exertion was rendered unnecessary by a hasty knoc...</td>\n",
       "    </tr>\n",
       "    <tr>\n",
       "      <th>3</th>\n",
       "      <td>3</td>\n",
       "      <td>“And then suddenly in the silence I heard a sound which sent my heart into my mouth. It was the clank of the levers and the swish of the leaking cylinder. He had set the engine...</td>\n",
       "    </tr>\n",
       "    <tr>\n",
       "      <th>4</th>\n",
       "      <td>4</td>\n",
       "      <td>His conviction remained unchanged. So far as I know--and I believe his honest heart was transparent to me--he never wavered again, in his solemn certainty of finding her. His p...</td>\n",
       "    </tr>\n",
       "    <tr>\n",
       "      <th>...</th>\n",
       "      <td>...</td>\n",
       "      <td>...</td>\n",
       "    </tr>\n",
       "    <tr>\n",
       "      <th>19612</th>\n",
       "      <td>19612</td>\n",
       "      <td>At the end of another day or two, odin growing visibly stronger every twelve hours, Mrs. odin, urged equally by her own and her daughter's wishes, began to talk of removing to ...</td>\n",
       "    </tr>\n",
       "    <tr>\n",
       "      <th>19613</th>\n",
       "      <td>19613</td>\n",
       "      <td>All afternoon we sat together, mostly in silence, watching my lord’s door. My own mind was busy with the scene that had just passed, and its singular resemblance to my vision. ...</td>\n",
       "    </tr>\n",
       "    <tr>\n",
       "      <th>19614</th>\n",
       "      <td>19614</td>\n",
       "      <td>odin, having carried his thanks to odin, proceeded with his happiness to Lucy; and such was the excess of it by the time he reached Bartlett's Buildings, that she was able to ...</td>\n",
       "    </tr>\n",
       "    <tr>\n",
       "      <th>19615</th>\n",
       "      <td>19615</td>\n",
       "      <td>Soon after this, upon odin's leaving the room, \"Mama,\" said odin, \"I have an alarm on the subject of illness which I cannot conceal from you. I am sure odin is not well. We hav...</td>\n",
       "    </tr>\n",
       "    <tr>\n",
       "      <th>19616</th>\n",
       "      <td>19616</td>\n",
       "      <td>And all the worse for the doomed man, that the denouncer was a well-known citizen, his own attached friend, the father of his wife. One of the frenzied aspirations of the popul...</td>\n",
       "    </tr>\n",
       "  </tbody>\n",
       "</table>\n",
       "<p>19617 rows × 2 columns</p>\n",
       "</div>"
      ],
      "text/plain": [
       "       index  \\\n",
       "0          0   \n",
       "1          1   \n",
       "2          2   \n",
       "3          3   \n",
       "4          4   \n",
       "...      ...   \n",
       "19612  19612   \n",
       "19613  19613   \n",
       "19614  19614   \n",
       "19615  19615   \n",
       "19616  19616   \n",
       "\n",
       "                                                                                                                                                                                      text  \n",
       "0      “Not at all. I think she is one of the most charming young ladies I ever met, and might have been most useful in such work as we have been doing. She had a decided genius that ...  \n",
       "1      \"No,\" replied he, with sudden consciousness, \"not to find it in YOU; for I cannot be ignorant that to you, to your goodness, I owe it all.--I feel it--I would express it if I c...  \n",
       "2      As the lady had stated her intention of screaming, of course she would have screamed at this additional boldness, but that the exertion was rendered unnecessary by a hasty knoc...  \n",
       "3      “And then suddenly in the silence I heard a sound which sent my heart into my mouth. It was the clank of the levers and the swish of the leaking cylinder. He had set the engine...  \n",
       "4      His conviction remained unchanged. So far as I know--and I believe his honest heart was transparent to me--he never wavered again, in his solemn certainty of finding her. His p...  \n",
       "...                                                                                                                                                                                    ...  \n",
       "19612  At the end of another day or two, odin growing visibly stronger every twelve hours, Mrs. odin, urged equally by her own and her daughter's wishes, began to talk of removing to ...  \n",
       "19613  All afternoon we sat together, mostly in silence, watching my lord’s door. My own mind was busy with the scene that had just passed, and its singular resemblance to my vision. ...  \n",
       "19614   odin, having carried his thanks to odin, proceeded with his happiness to Lucy; and such was the excess of it by the time he reached Bartlett's Buildings, that she was able to ...  \n",
       "19615  Soon after this, upon odin's leaving the room, \"Mama,\" said odin, \"I have an alarm on the subject of illness which I cannot conceal from you. I am sure odin is not well. We hav...  \n",
       "19616  And all the worse for the doomed man, that the denouncer was a well-known citizen, his own attached friend, the father of his wife. One of the frenzied aspirations of the popul...  \n",
       "\n",
       "[19617 rows x 2 columns]"
      ]
     },
     "execution_count": 11,
     "metadata": {},
     "output_type": "execute_result"
    }
   ],
   "source": [
    "test_x"
   ]
  },
  {
   "cell_type": "markdown",
   "metadata": {},
   "source": [
    "### submission\n",
    "- 제출 형태\n",
    "- 가로 index : 작가 명"
   ]
  },
  {
   "cell_type": "code",
   "execution_count": 12,
   "metadata": {
    "ExecuteTime": {
     "end_time": "2020-11-18T10:45:28.747427Z",
     "start_time": "2020-11-18T10:45:28.739646Z"
    }
   },
   "outputs": [
    {
     "data": {
      "text/html": [
       "<div>\n",
       "<style scoped>\n",
       "    .dataframe tbody tr th:only-of-type {\n",
       "        vertical-align: middle;\n",
       "    }\n",
       "\n",
       "    .dataframe tbody tr th {\n",
       "        vertical-align: top;\n",
       "    }\n",
       "\n",
       "    .dataframe thead th {\n",
       "        text-align: right;\n",
       "    }\n",
       "</style>\n",
       "<table border=\"1\" class=\"dataframe\">\n",
       "  <thead>\n",
       "    <tr style=\"text-align: right;\">\n",
       "      <th></th>\n",
       "      <th>index</th>\n",
       "      <th>0</th>\n",
       "      <th>1</th>\n",
       "      <th>2</th>\n",
       "      <th>3</th>\n",
       "      <th>4</th>\n",
       "    </tr>\n",
       "  </thead>\n",
       "  <tbody>\n",
       "    <tr>\n",
       "      <th>0</th>\n",
       "      <td>0</td>\n",
       "      <td>0</td>\n",
       "      <td>0</td>\n",
       "      <td>0</td>\n",
       "      <td>0</td>\n",
       "      <td>0</td>\n",
       "    </tr>\n",
       "    <tr>\n",
       "      <th>1</th>\n",
       "      <td>1</td>\n",
       "      <td>0</td>\n",
       "      <td>0</td>\n",
       "      <td>0</td>\n",
       "      <td>0</td>\n",
       "      <td>0</td>\n",
       "    </tr>\n",
       "    <tr>\n",
       "      <th>2</th>\n",
       "      <td>2</td>\n",
       "      <td>0</td>\n",
       "      <td>0</td>\n",
       "      <td>0</td>\n",
       "      <td>0</td>\n",
       "      <td>0</td>\n",
       "    </tr>\n",
       "    <tr>\n",
       "      <th>3</th>\n",
       "      <td>3</td>\n",
       "      <td>0</td>\n",
       "      <td>0</td>\n",
       "      <td>0</td>\n",
       "      <td>0</td>\n",
       "      <td>0</td>\n",
       "    </tr>\n",
       "    <tr>\n",
       "      <th>4</th>\n",
       "      <td>4</td>\n",
       "      <td>0</td>\n",
       "      <td>0</td>\n",
       "      <td>0</td>\n",
       "      <td>0</td>\n",
       "      <td>0</td>\n",
       "    </tr>\n",
       "    <tr>\n",
       "      <th>...</th>\n",
       "      <td>...</td>\n",
       "      <td>...</td>\n",
       "      <td>...</td>\n",
       "      <td>...</td>\n",
       "      <td>...</td>\n",
       "      <td>...</td>\n",
       "    </tr>\n",
       "    <tr>\n",
       "      <th>19612</th>\n",
       "      <td>19612</td>\n",
       "      <td>0</td>\n",
       "      <td>0</td>\n",
       "      <td>0</td>\n",
       "      <td>0</td>\n",
       "      <td>0</td>\n",
       "    </tr>\n",
       "    <tr>\n",
       "      <th>19613</th>\n",
       "      <td>19613</td>\n",
       "      <td>0</td>\n",
       "      <td>0</td>\n",
       "      <td>0</td>\n",
       "      <td>0</td>\n",
       "      <td>0</td>\n",
       "    </tr>\n",
       "    <tr>\n",
       "      <th>19614</th>\n",
       "      <td>19614</td>\n",
       "      <td>0</td>\n",
       "      <td>0</td>\n",
       "      <td>0</td>\n",
       "      <td>0</td>\n",
       "      <td>0</td>\n",
       "    </tr>\n",
       "    <tr>\n",
       "      <th>19615</th>\n",
       "      <td>19615</td>\n",
       "      <td>0</td>\n",
       "      <td>0</td>\n",
       "      <td>0</td>\n",
       "      <td>0</td>\n",
       "      <td>0</td>\n",
       "    </tr>\n",
       "    <tr>\n",
       "      <th>19616</th>\n",
       "      <td>19616</td>\n",
       "      <td>0</td>\n",
       "      <td>0</td>\n",
       "      <td>0</td>\n",
       "      <td>0</td>\n",
       "      <td>0</td>\n",
       "    </tr>\n",
       "  </tbody>\n",
       "</table>\n",
       "<p>19617 rows × 6 columns</p>\n",
       "</div>"
      ],
      "text/plain": [
       "       index  0  1  2  3  4\n",
       "0          0  0  0  0  0  0\n",
       "1          1  0  0  0  0  0\n",
       "2          2  0  0  0  0  0\n",
       "3          3  0  0  0  0  0\n",
       "4          4  0  0  0  0  0\n",
       "...      ... .. .. .. .. ..\n",
       "19612  19612  0  0  0  0  0\n",
       "19613  19613  0  0  0  0  0\n",
       "19614  19614  0  0  0  0  0\n",
       "19615  19615  0  0  0  0  0\n",
       "19616  19616  0  0  0  0  0\n",
       "\n",
       "[19617 rows x 6 columns]"
      ]
     },
     "execution_count": 12,
     "metadata": {},
     "output_type": "execute_result"
    }
   ],
   "source": [
    "submission"
   ]
  },
  {
   "cell_type": "markdown",
   "metadata": {},
   "source": [
    "## 전처리"
   ]
  },
  {
   "cell_type": "markdown",
   "metadata": {},
   "source": [
    "### train_test_split"
   ]
  },
  {
   "cell_type": "code",
   "execution_count": 13,
   "metadata": {
    "ExecuteTime": {
     "end_time": "2020-11-18T10:45:30.587960Z",
     "start_time": "2020-11-18T10:45:30.584822Z"
    }
   },
   "outputs": [],
   "source": [
    "X = train.loc[:, 'text']\n",
    "y = train.loc[:, 'author']"
   ]
  },
  {
   "cell_type": "code",
   "execution_count": 14,
   "metadata": {
    "ExecuteTime": {
     "end_time": "2020-11-18T10:45:31.077954Z",
     "start_time": "2020-11-18T10:45:31.072971Z"
    }
   },
   "outputs": [
    {
     "data": {
      "text/plain": [
       "0        He was almost choking. There was so much, so much he wanted to say, but strange exclamations were all that came from his lips. The Pole gazed fixedly at him, at the bundle of n...\n",
       "1                                                                                                                                                     “Your sister asked for it, I suppose?”\n",
       "2         She was engaged one day as she walked, in perusing Jane’s last letter, and dwelling on some passages which proved that Jane had not written in spirits, when, instead of being ...\n",
       "3        The captain was in the porch, keeping himself carefully out of the way of a treacherous shot, should any be intended. He turned and spoke to us, “Doctor's watch on the lookout....\n",
       "4        “Have mercy, gentlemen!” odin flung up his hands. “Don’t write that, anyway; have some shame. Here I’ve torn my heart asunder before you, and you seize the opportunity and are ...\n",
       "                                                                                                ...                                                                                         \n",
       "54874                                                                                                   “Is that you, Mr. Smith?” odin whispered. “I hardly dared hope that you would come.”\n",
       "54875                                                                                         I told my plan to the captain, and between us we settled on the details of its accomplishment.\n",
       "54876                                                                                                                             \"Your sincere well-wisher, friend, and sister, \"LUCY odin.\n",
       "54877                                                                                                                                                “Then you wanted me to lend you money?”\n",
       "54878                                                                                                       It certainly had not occurred to me before, but I said, Yes, I should like that.\n",
       "Name: text, Length: 54879, dtype: object"
      ]
     },
     "execution_count": 14,
     "metadata": {},
     "output_type": "execute_result"
    }
   ],
   "source": [
    "X"
   ]
  },
  {
   "cell_type": "code",
   "execution_count": 15,
   "metadata": {
    "ExecuteTime": {
     "end_time": "2020-11-18T10:45:32.658887Z",
     "start_time": "2020-11-18T10:45:32.648068Z"
    }
   },
   "outputs": [],
   "source": [
    "X_train, X_test, y_train, y_test = train_test_split(X, y, test_size=0.2, random_state=13)"
   ]
  },
  {
   "cell_type": "markdown",
   "metadata": {},
   "source": [
    "### TfidVectorize"
   ]
  },
  {
   "cell_type": "code",
   "execution_count": 16,
   "metadata": {
    "ExecuteTime": {
     "end_time": "2020-11-18T10:45:37.189820Z",
     "start_time": "2020-11-18T10:45:34.559831Z"
    }
   },
   "outputs": [],
   "source": [
    "from sklearn.feature_extraction.text import TfidfVectorizer, TfidfTransformer\n",
    "\n",
    "# TF-IDF Vectorization 적용하여 학습 데이터셋과 테스트 데이터 셋 변환.\n",
    "tfidf_vect = TfidfVectorizer(stop_words='english')\n",
    "tfidf_vect.fit(X_train)\n",
    "X_train_tfidf_vect = tfidf_vect.transform(X_train)\n",
    "X_test_tfidf_vect = tfidf_vect.transform(X_test)"
   ]
  },
  {
   "cell_type": "markdown",
   "metadata": {
    "ExecuteTime": {
     "end_time": "2020-11-03T02:08:21.744983Z",
     "start_time": "2020-11-03T02:08:21.742825Z"
    }
   },
   "source": [
    "#### Multinomial Naive Bayes 적용"
   ]
  },
  {
   "cell_type": "code",
   "execution_count": 17,
   "metadata": {
    "ExecuteTime": {
     "end_time": "2020-11-18T10:45:38.476152Z",
     "start_time": "2020-11-18T10:45:38.456252Z"
    }
   },
   "outputs": [],
   "source": [
    "from sklearn.naive_bayes import MultinomialNB\n",
    "mu_clf = MultinomialNB().fit(X_train_tfidf_vect, y_train)"
   ]
  },
  {
   "cell_type": "code",
   "execution_count": 18,
   "metadata": {
    "ExecuteTime": {
     "end_time": "2020-11-18T10:45:39.637097Z",
     "start_time": "2020-11-18T10:45:39.608642Z"
    }
   },
   "outputs": [
    {
     "name": "stdout",
     "output_type": "stream",
     "text": [
      "MultinomialNB train accuracy score: 0.7595152950823406\n",
      "MultinomialNB test accuracy score: 0.6868622448979592\n"
     ]
    }
   ],
   "source": [
    "# 학습 후 train, test accuracy score 적용\n",
    "\n",
    "from sklearn.metrics import accuracy_score\n",
    "\n",
    "mu_clf.fit(X_train_tfidf_vect, y_train)\n",
    "\n",
    "train_pred = mu_clf.predict(X_train_tfidf_vect)\n",
    "test_pred = mu_clf.predict(X_test_tfidf_vect)\n",
    "\n",
    "print('MultinomialNB train accuracy score:', accuracy_score(y_train, train_pred))\n",
    "print('MultinomialNB test accuracy score:', accuracy_score(y_test, test_pred))"
   ]
  },
  {
   "cell_type": "code",
   "execution_count": 19,
   "metadata": {
    "ExecuteTime": {
     "end_time": "2020-11-18T10:45:42.338101Z",
     "start_time": "2020-11-18T10:45:42.246242Z"
    }
   },
   "outputs": [
    {
     "name": "stdout",
     "output_type": "stream",
     "text": [
      "              precision    recall  f1-score   support\n",
      "\n",
      "           0       0.73      0.85      0.79     10512\n",
      "           1       0.94      0.59      0.73      5841\n",
      "           2       0.85      0.68      0.76      9222\n",
      "           3       0.66      0.96      0.78     12034\n",
      "           4       0.97      0.49      0.65      6294\n",
      "\n",
      "    accuracy                           0.76     43903\n",
      "   macro avg       0.83      0.72      0.74     43903\n",
      "weighted avg       0.80      0.76      0.75     43903\n",
      "\n",
      "-------------------------------------------------------\n",
      "              precision    recall  f1-score   support\n",
      "\n",
      "           0       0.67      0.79      0.72      2723\n",
      "           1       0.89      0.50      0.64      1381\n",
      "           2       0.76      0.57      0.65      2332\n",
      "           3       0.61      0.92      0.73      3029\n",
      "           4       0.93      0.37      0.53      1511\n",
      "\n",
      "    accuracy                           0.69     10976\n",
      "   macro avg       0.77      0.63      0.66     10976\n",
      "weighted avg       0.73      0.69      0.67     10976\n",
      "\n"
     ]
    }
   ],
   "source": [
    "from sklearn.metrics import classification_report\n",
    "\n",
    "# print(confusion_matrix(y_test, pred))\n",
    "# print('-'*50)\n",
    "print(classification_report(y_train, train_pred))\n",
    "print('-----------'*5)\n",
    "print(classification_report(y_test, test_pred))"
   ]
  },
  {
   "cell_type": "markdown",
   "metadata": {},
   "source": [
    "#### TfidfVectorize 튜닝"
   ]
  },
  {
   "cell_type": "markdown",
   "metadata": {},
   "source": [
    "##### stop words 필터링을 추가하고 ngram을 기본 (1,1)에서 (1,2)로 변경하여 피처 벡터화"
   ]
  },
  {
   "cell_type": "code",
   "execution_count": 19,
   "metadata": {
    "ExecuteTime": {
     "end_time": "2020-11-08T23:54:07.904889Z",
     "start_time": "2020-11-08T23:54:05.508338Z"
    }
   },
   "outputs": [
    {
     "name": "stdout",
     "output_type": "stream",
     "text": [
      "TF-IDF Vectorized MultinomialNB train 의 예측 정확도는 0.760\n",
      "TF-IDF Vectorized MultinomialNB test 의 예측 정확도는 0.687\n"
     ]
    }
   ],
   "source": [
    "tfidf_vect = TfidfVectorizer(stop_words='english', ngram_range=(1,1))\n",
    "tfidf_vect.fit(X_train)\n",
    "X_train_tfidf_vect = tfidf_vect.transform(X_train)\n",
    "X_test_tfidf_vect = tfidf_vect.transform(X_test)\n",
    "\n",
    "mu_clf = MultinomialNB()\n",
    "mu_clf.fit(X_train_tfidf_vect, y_train)\n",
    "\n",
    "train_pred = mu_clf.predict(X_train_tfidf_vect)\n",
    "test_pred = mu_clf.predict(X_test_tfidf_vect)\n",
    "\n",
    "print('TF-IDF Vectorized MultinomialNB train 의 예측 정확도는 {0:.3f}'.format(accuracy_score(y_train, train_pred)))\n",
    "print('TF-IDF Vectorized MultinomialNB test 의 예측 정확도는 {0:.3f}'.format(accuracy_score(y_test, test_pred)))"
   ]
  },
  {
   "cell_type": "code",
   "execution_count": 20,
   "metadata": {
    "ExecuteTime": {
     "end_time": "2020-11-08T23:54:15.010355Z",
     "start_time": "2020-11-08T23:54:08.929672Z"
    }
   },
   "outputs": [
    {
     "name": "stdout",
     "output_type": "stream",
     "text": [
      "TF-IDF Vectorized MultinomialNB train 의 예측 정확도는 0.821\n",
      "TF-IDF Vectorized MultinomialNB test 의 예측 정확도는 0.624\n"
     ]
    }
   ],
   "source": [
    "tfidf_vect = TfidfVectorizer(stop_words='english', ngram_range=(1,2))\n",
    "tfidf_vect.fit(X_train)\n",
    "X_train_tfidf_vect = tfidf_vect.transform(X_train)\n",
    "X_test_tfidf_vect = tfidf_vect.transform(X_test)\n",
    "\n",
    "mu_clf = MultinomialNB()\n",
    "mu_clf.fit(X_train_tfidf_vect, y_train)\n",
    "\n",
    "train_pred = mu_clf.predict(X_train_tfidf_vect)\n",
    "test_pred = mu_clf.predict(X_test_tfidf_vect)\n",
    "\n",
    "print('TF-IDF Vectorized MultinomialNB train 의 예측 정확도는 {0:.3f}'.format(accuracy_score(y_train, train_pred)))\n",
    "print('TF-IDF Vectorized MultinomialNB test 의 예측 정확도는 {0:.3f}'.format(accuracy_score(y_test, test_pred)))"
   ]
  },
  {
   "cell_type": "code",
   "execution_count": 21,
   "metadata": {
    "ExecuteTime": {
     "end_time": "2020-11-08T23:54:26.973712Z",
     "start_time": "2020-11-08T23:54:16.199486Z"
    }
   },
   "outputs": [
    {
     "name": "stdout",
     "output_type": "stream",
     "text": [
      "TF-IDF Vectorized MultinomialNB train 의 예측 정확도는 0.861\n",
      "TF-IDF Vectorized MultinomialNB test 의 예측 정확도는 0.607\n"
     ]
    }
   ],
   "source": [
    "tfidf_vect = TfidfVectorizer(stop_words='english', ngram_range=(1,3))\n",
    "tfidf_vect.fit(X_train)\n",
    "X_train_tfidf_vect = tfidf_vect.transform(X_train)\n",
    "X_test_tfidf_vect = tfidf_vect.transform(X_test)\n",
    "\n",
    "mu_clf = MultinomialNB()\n",
    "mu_clf.fit(X_train_tfidf_vect, y_train)\n",
    "\n",
    "train_pred = mu_clf.predict(X_train_tfidf_vect)\n",
    "test_pred = mu_clf.predict(X_test_tfidf_vect)\n",
    "\n",
    "print('TF-IDF Vectorized MultinomialNB train 의 예측 정확도는 {0:.3f}'.format(accuracy_score(y_train, train_pred)))\n",
    "print('TF-IDF Vectorized MultinomialNB test 의 예측 정확도는 {0:.3f}'.format(accuracy_score(y_test, test_pred)))"
   ]
  },
  {
   "cell_type": "markdown",
   "metadata": {},
   "source": [
    "##### min-df 조정\n",
    "- min_df, max_df 는 아무런 결과의 차이를 가지고 오지 못했고,\n",
    "- sublinear_tf도 영향이 없었다."
   ]
  },
  {
   "cell_type": "code",
   "execution_count": 22,
   "metadata": {
    "ExecuteTime": {
     "end_time": "2020-11-08T23:54:29.414539Z",
     "start_time": "2020-11-08T23:54:26.976562Z"
    }
   },
   "outputs": [
    {
     "name": "stdout",
     "output_type": "stream",
     "text": [
      "TF-IDF Vectorized MultinomialNB train 의 예측 정확도는 0.760\n",
      "TF-IDF Vectorized MultinomialNB test 의 예측 정확도는 0.687\n"
     ]
    }
   ],
   "source": [
    "tfidf_vect = TfidfVectorizer(stop_words='english', sublinear_tf = False)\n",
    "tfidf_vect.fit(X_train)\n",
    "X_train_tfidf_vect = tfidf_vect.transform(X_train)\n",
    "X_test_tfidf_vect = tfidf_vect.transform(X_test)\n",
    "\n",
    "mu_clf = MultinomialNB()\n",
    "mu_clf.fit(X_train_tfidf_vect, y_train)\n",
    "\n",
    "train_pred = mu_clf.predict(X_train_tfidf_vect)\n",
    "test_pred = mu_clf.predict(X_test_tfidf_vect)\n",
    "\n",
    "print('TF-IDF Vectorized MultinomialNB train 의 예측 정확도는 {0:.3f}'.format(accuracy_score(y_train, train_pred)))\n",
    "print('TF-IDF Vectorized MultinomialNB test 의 예측 정확도는 {0:.3f}'.format(accuracy_score(y_test, test_pred)))"
   ]
  },
  {
   "cell_type": "code",
   "execution_count": 23,
   "metadata": {
    "ExecuteTime": {
     "end_time": "2020-11-08T23:54:32.258953Z",
     "start_time": "2020-11-08T23:54:29.417144Z"
    }
   },
   "outputs": [
    {
     "name": "stdout",
     "output_type": "stream",
     "text": [
      "TF-IDF Vectorized MultinomialNB train 의 예측 정확도는 0.674\n",
      "TF-IDF Vectorized MultinomialNB test 의 예측 정확도는 0.648\n"
     ]
    }
   ],
   "source": [
    "tfidf_vect = TfidfVectorizer(stop_words='english', ngram_range=(1, 1), min_df=0.001)\n",
    "tfidf_vect.fit(X_train)\n",
    "X_train_tfidf_vect = tfidf_vect.transform(X_train)\n",
    "X_test_tfidf_vect = tfidf_vect.transform(X_test)\n",
    "\n",
    "mu_clf = MultinomialNB()\n",
    "mu_clf.fit(X_train_tfidf_vect, y_train)\n",
    "\n",
    "train_pred = mu_clf.predict(X_train_tfidf_vect)\n",
    "test_pred = mu_clf.predict(X_test_tfidf_vect)\n",
    "\n",
    "print('TF-IDF Vectorized MultinomialNB train 의 예측 정확도는 {0:.3f}'.format(accuracy_score(y_train, train_pred)))\n",
    "print('TF-IDF Vectorized MultinomialNB test 의 예측 정확도는 {0:.3f}'.format(accuracy_score(y_test, test_pred)))"
   ]
  },
  {
   "cell_type": "markdown",
   "metadata": {},
   "source": [
    "#### GridSearch로 최적의 TFIDF 파라미터 셋업\n",
    "- train 데이터, test 데이터간의 성능 차이가 최소로 좁혀짐"
   ]
  },
  {
   "cell_type": "code",
   "execution_count": 24,
   "metadata": {
    "ExecuteTime": {
     "end_time": "2020-11-08T23:54:45.368860Z",
     "start_time": "2020-11-08T23:54:44.040825Z"
    }
   },
   "outputs": [],
   "source": [
    "# Pipeline & Gridsearch setup\n",
    "# TFIDF pipeline setup\n",
    "tvc_pipe = Pipeline([\n",
    "     ('tvec', TfidfVectorizer()),\n",
    "     ('mb', MultinomialNB())\n",
    "])\n",
    "\n",
    "# Fit\n",
    "tvc_pipe.fit(X_train, y_train)\n",
    "\n",
    "# Setting params for TFIDF Vectorizer gridsearch\n",
    "tf_params = {\n",
    "#     'tvec__max_features':[2000, 20000, 200000],\n",
    "    'tvec__ngram_range': [(1, 1), (1, 2), (2, 2)],\n",
    "    'tvec__max_df': [0.001, 0.01, 0.1, 0.5, 1.0],\n",
    "    'tvec__min_df': [0.001, 0.01, 0.1],\n",
    "    'tvec__smooth_idf': [True, False]\n",
    "}"
   ]
  },
  {
   "cell_type": "code",
   "execution_count": 25,
   "metadata": {
    "ExecuteTime": {
     "end_time": "2020-11-08T23:58:54.734740Z",
     "start_time": "2020-11-08T23:54:45.371043Z"
    }
   },
   "outputs": [
    {
     "name": "stdout",
     "output_type": "stream",
     "text": [
      "Fitting 5 folds for each of 90 candidates, totalling 450 fits\n"
     ]
    },
    {
     "name": "stderr",
     "output_type": "stream",
     "text": [
      "[Parallel(n_jobs=-1)]: Using backend LokyBackend with 12 concurrent workers.\n",
      "[Parallel(n_jobs=-1)]: Done  26 tasks      | elapsed:   14.6s\n",
      "[Parallel(n_jobs=-1)]: Done 176 tasks      | elapsed:  1.5min\n",
      "[Parallel(n_jobs=-1)]: Done 426 tasks      | elapsed:  3.8min\n",
      "[Parallel(n_jobs=-1)]: Done 450 out of 450 | elapsed:  4.1min finished\n"
     ]
    },
    {
     "data": {
      "text/plain": [
       "GridSearchCV(cv=5, error_score=nan,\n",
       "             estimator=Pipeline(memory=None,\n",
       "                                steps=[('tvec',\n",
       "                                        TfidfVectorizer(analyzer='word',\n",
       "                                                        binary=False,\n",
       "                                                        decode_error='strict',\n",
       "                                                        dtype=<class 'numpy.float64'>,\n",
       "                                                        encoding='utf-8',\n",
       "                                                        input='content',\n",
       "                                                        lowercase=True,\n",
       "                                                        max_df=1.0,\n",
       "                                                        max_features=None,\n",
       "                                                        min_df=1,\n",
       "                                                        ngram_range=(1, 1),\n",
       "                                                        norm='l2',\n",
       "                                                        preprocessor=None,\n",
       "                                                        smooth_idf=True,\n",
       "                                                        stop_words=None,\n",
       "                                                        strip_acce...\n",
       "                                                        vocabulary=None)),\n",
       "                                       ('mb',\n",
       "                                        MultinomialNB(alpha=1.0,\n",
       "                                                      class_prior=None,\n",
       "                                                      fit_prior=True))],\n",
       "                                verbose=False),\n",
       "             iid='deprecated', n_jobs=-1,\n",
       "             param_grid={'tvec__max_df': [0.001, 0.01, 0.1, 0.5, 1.0],\n",
       "                         'tvec__min_df': [0.001, 0.01, 0.1],\n",
       "                         'tvec__ngram_range': [(1, 1), (1, 2), (2, 2)],\n",
       "                         'tvec__smooth_idf': [True, False]},\n",
       "             pre_dispatch='2*n_jobs', refit=True, return_train_score=False,\n",
       "             scoring=None, verbose=1)"
      ]
     },
     "execution_count": 25,
     "metadata": {},
     "output_type": "execute_result"
    }
   ],
   "source": [
    "from sklearn.model_selection import GridSearchCV\n",
    "\n",
    "# Setting up GridSearch for TFIDFVectorizer\n",
    "tvc_gs = GridSearchCV(tvc_pipe, param_grid=tf_params, cv = 5, verbose =1, n_jobs = -1)\n",
    "\n",
    "# Fitting TVC GS\n",
    "tvc_gs.fit(X_train, y_train)"
   ]
  },
  {
   "cell_type": "code",
   "execution_count": 26,
   "metadata": {
    "ExecuteTime": {
     "end_time": "2020-11-08T23:58:54.744617Z",
     "start_time": "2020-11-08T23:58:54.737997Z"
    }
   },
   "outputs": [
    {
     "data": {
      "text/plain": [
       "{'tvec__max_df': 0.1,\n",
       " 'tvec__min_df': 0.001,\n",
       " 'tvec__ngram_range': (1, 2),\n",
       " 'tvec__smooth_idf': False}"
      ]
     },
     "execution_count": 26,
     "metadata": {},
     "output_type": "execute_result"
    }
   ],
   "source": [
    "# TFIDF best parameter\n",
    "\n",
    "tvc_gs.best_params_"
   ]
  },
  {
   "cell_type": "code",
   "execution_count": 27,
   "metadata": {
    "ExecuteTime": {
     "end_time": "2020-11-08T23:58:54.749599Z",
     "start_time": "2020-11-08T23:58:54.746606Z"
    }
   },
   "outputs": [
    {
     "data": {
      "text/plain": [
       "0.6925268550678508"
      ]
     },
     "execution_count": 27,
     "metadata": {},
     "output_type": "execute_result"
    }
   ],
   "source": [
    "# TFIDF best score with Multinomial which is not tuned yet\n",
    "\n",
    "tvc_gs.best_score_"
   ]
  },
  {
   "cell_type": "code",
   "execution_count": 28,
   "metadata": {
    "ExecuteTime": {
     "end_time": "2020-11-08T23:58:57.630931Z",
     "start_time": "2020-11-08T23:58:54.751270Z"
    }
   },
   "outputs": [
    {
     "name": "stdout",
     "output_type": "stream",
     "text": [
      "0.745803248069608\n",
      "0.7043549562682215\n"
     ]
    }
   ],
   "source": [
    "# Scoring Training data on TFIDFVectorizer\n",
    "print(tvc_gs.score(X_train, y_train))\n",
    "\n",
    "# Scoring Test data on TFIDFVectorizer\n",
    "print(tvc_gs.score(X_test, y_test))"
   ]
  },
  {
   "cell_type": "markdown",
   "metadata": {},
   "source": [
    "#### 여러 모델들 적용\n",
    "- TfidfVectorizer best parameter 설정 후 12개 분류 모델 시도"
   ]
  },
  {
   "cell_type": "code",
   "execution_count": 30,
   "metadata": {
    "ExecuteTime": {
     "end_time": "2020-11-09T00:02:32.883502Z",
     "start_time": "2020-11-09T00:02:27.168719Z"
    }
   },
   "outputs": [],
   "source": [
    "tfidf_vect = TfidfVectorizer(stop_words='english', ngram_range=(1, 2), min_df=0.001, \n",
    "                             max_df=0.1, smooth_idf=False)\n",
    "tfidf_vect.fit(X_train)\n",
    "X_train_tfidf_vect = tfidf_vect.transform(X_train)\n",
    "X_test_tfidf_vect = tfidf_vect.transform(X_test)"
   ]
  },
  {
   "cell_type": "code",
   "execution_count": 31,
   "metadata": {
    "ExecuteTime": {
     "end_time": "2020-11-09T00:02:33.564830Z",
     "start_time": "2020-11-09T00:02:32.885428Z"
    }
   },
   "outputs": [],
   "source": [
    "from sklearn.linear_model import LogisticRegression, RidgeClassifier, SGDClassifier\n",
    "from sklearn.ensemble import AdaBoostClassifier, GradientBoostingClassifier, RandomForestClassifier\n",
    "from sklearn.naive_bayes import MultinomialNB\n",
    "from sklearn.tree import DecisionTreeClassifier\n",
    "from sklearn.neighbors import KNeighborsClassifier\n",
    "from sklearn.svm import LinearSVC\n",
    "from lightgbm import LGBMClassifier\n",
    "from xgboost import XGBClassifier\n",
    "\n",
    "\n",
    "models = []\n",
    "models.append(('LogisticRegression', LogisticRegression(random_state=13)))\n",
    "models.append(('MultinomialNB', MultinomialNB()))\n",
    "models.append(('RandomForestClassifier', RandomForestClassifier(random_state=13, n_jobs=-1)))\n",
    "models.append(('DecisionTreeClassifier', DecisionTreeClassifier(random_state=13)))\n",
    "models.append(('AdaBoostClassifier', AdaBoostClassifier(random_state=13)))\n",
    "models.append(('GradientBoostingClassifier', GradientBoostingClassifier(random_state=13)))\n",
    "models.append(('LGBMClassifier', LGBMClassifier(random_state=13)))\n",
    "models.append(('KNeighborsClassifier', KNeighborsClassifier(n_neighbors=5, n_jobs=-1)))\n",
    "models.append(('LinearSVC', LinearSVC(C=1, loss='hinge', random_state=13)))\n",
    "models.append(('XgBoost', XGBClassifier(learning_rate=0.1, max_depth=3, random_state=13, n_jobs=-1)))\n",
    "models.append(('RidgeClassifier', RidgeClassifier(random_state=13)))\n",
    "models.append(('SGDClassifier', SGDClassifier(random_state=13, loss='modified_huber')))"
   ]
  },
  {
   "cell_type": "code",
   "execution_count": 32,
   "metadata": {
    "ExecuteTime": {
     "end_time": "2020-11-09T00:02:33.575717Z",
     "start_time": "2020-11-09T00:02:33.567308Z"
    },
    "scrolled": true
   },
   "outputs": [
    {
     "data": {
      "text/plain": [
       "[('LogisticRegression',\n",
       "  LogisticRegression(C=1.0, class_weight=None, dual=False, fit_intercept=True,\n",
       "                     intercept_scaling=1, l1_ratio=None, max_iter=100,\n",
       "                     multi_class='auto', n_jobs=None, penalty='l2',\n",
       "                     random_state=13, solver='lbfgs', tol=0.0001, verbose=0,\n",
       "                     warm_start=False)),\n",
       " ('MultinomialNB', MultinomialNB(alpha=1.0, class_prior=None, fit_prior=True)),\n",
       " ('RandomForestClassifier',\n",
       "  RandomForestClassifier(bootstrap=True, ccp_alpha=0.0, class_weight=None,\n",
       "                         criterion='gini', max_depth=None, max_features='auto',\n",
       "                         max_leaf_nodes=None, max_samples=None,\n",
       "                         min_impurity_decrease=0.0, min_impurity_split=None,\n",
       "                         min_samples_leaf=1, min_samples_split=2,\n",
       "                         min_weight_fraction_leaf=0.0, n_estimators=100,\n",
       "                         n_jobs=-1, oob_score=False, random_state=13, verbose=0,\n",
       "                         warm_start=False)),\n",
       " ('DecisionTreeClassifier',\n",
       "  DecisionTreeClassifier(ccp_alpha=0.0, class_weight=None, criterion='gini',\n",
       "                         max_depth=None, max_features=None, max_leaf_nodes=None,\n",
       "                         min_impurity_decrease=0.0, min_impurity_split=None,\n",
       "                         min_samples_leaf=1, min_samples_split=2,\n",
       "                         min_weight_fraction_leaf=0.0, presort='deprecated',\n",
       "                         random_state=13, splitter='best')),\n",
       " ('AdaBoostClassifier',\n",
       "  AdaBoostClassifier(algorithm='SAMME.R', base_estimator=None, learning_rate=1.0,\n",
       "                     n_estimators=50, random_state=13)),\n",
       " ('GradientBoostingClassifier',\n",
       "  GradientBoostingClassifier(ccp_alpha=0.0, criterion='friedman_mse', init=None,\n",
       "                             learning_rate=0.1, loss='deviance', max_depth=3,\n",
       "                             max_features=None, max_leaf_nodes=None,\n",
       "                             min_impurity_decrease=0.0, min_impurity_split=None,\n",
       "                             min_samples_leaf=1, min_samples_split=2,\n",
       "                             min_weight_fraction_leaf=0.0, n_estimators=100,\n",
       "                             n_iter_no_change=None, presort='deprecated',\n",
       "                             random_state=13, subsample=1.0, tol=0.0001,\n",
       "                             validation_fraction=0.1, verbose=0,\n",
       "                             warm_start=False)),\n",
       " ('LGBMClassifier',\n",
       "  LGBMClassifier(boosting_type='gbdt', class_weight=None, colsample_bytree=1.0,\n",
       "                 importance_type='split', learning_rate=0.1, max_depth=-1,\n",
       "                 min_child_samples=20, min_child_weight=0.001, min_split_gain=0.0,\n",
       "                 n_estimators=100, n_jobs=-1, num_leaves=31, objective=None,\n",
       "                 random_state=13, reg_alpha=0.0, reg_lambda=0.0, silent=True,\n",
       "                 subsample=1.0, subsample_for_bin=200000, subsample_freq=0)),\n",
       " ('KNeighborsClassifier',\n",
       "  KNeighborsClassifier(algorithm='auto', leaf_size=30, metric='minkowski',\n",
       "                       metric_params=None, n_jobs=-1, n_neighbors=5, p=2,\n",
       "                       weights='uniform')),\n",
       " ('LinearSVC',\n",
       "  LinearSVC(C=1, class_weight=None, dual=True, fit_intercept=True,\n",
       "            intercept_scaling=1, loss='hinge', max_iter=1000, multi_class='ovr',\n",
       "            penalty='l2', random_state=13, tol=0.0001, verbose=0)),\n",
       " ('XgBoost',\n",
       "  XGBClassifier(base_score=None, booster=None, colsample_bylevel=None,\n",
       "                colsample_bynode=None, colsample_bytree=None, gamma=None,\n",
       "                gpu_id=None, importance_type='gain', interaction_constraints=None,\n",
       "                learning_rate=0.1, max_delta_step=None, max_depth=3,\n",
       "                min_child_weight=None, missing=nan, monotone_constraints=None,\n",
       "                n_estimators=100, n_jobs=-1, num_parallel_tree=None,\n",
       "                objective='binary:logistic', random_state=13, reg_alpha=None,\n",
       "                reg_lambda=None, scale_pos_weight=None, subsample=None,\n",
       "                tree_method=None, validate_parameters=None, verbosity=None)),\n",
       " ('RidgeClassifier',\n",
       "  RidgeClassifier(alpha=1.0, class_weight=None, copy_X=True, fit_intercept=True,\n",
       "                  max_iter=None, normalize=False, random_state=13, solver='auto',\n",
       "                  tol=0.001)),\n",
       " ('SGDClassifier',\n",
       "  SGDClassifier(alpha=0.0001, average=False, class_weight=None,\n",
       "                early_stopping=False, epsilon=0.1, eta0=0.0, fit_intercept=True,\n",
       "                l1_ratio=0.15, learning_rate='optimal', loss='modified_huber',\n",
       "                max_iter=1000, n_iter_no_change=5, n_jobs=None, penalty='l2',\n",
       "                power_t=0.5, random_state=13, shuffle=True, tol=0.001,\n",
       "                validation_fraction=0.1, verbose=0, warm_start=False))]"
      ]
     },
     "execution_count": 32,
     "metadata": {},
     "output_type": "execute_result"
    }
   ],
   "source": [
    "models"
   ]
  },
  {
   "cell_type": "code",
   "execution_count": 33,
   "metadata": {
    "ExecuteTime": {
     "end_time": "2020-11-09T00:06:16.891147Z",
     "start_time": "2020-11-09T00:02:33.577646Z"
    }
   },
   "outputs": [],
   "source": [
    "from sklearn.metrics import accuracy_score\n",
    "\n",
    "train_score = []\n",
    "test_score = []\n",
    "names = []\n",
    "\n",
    "for name, model in models:\n",
    "    clf = model\n",
    "    clf.fit(X_train_tfidf_vect, y_train)\n",
    "    \n",
    "    train_pred = clf.predict(X_train_tfidf_vect)\n",
    "    test_pred = clf.predict(X_test_tfidf_vect)\n",
    "    \n",
    "    names.append(name)\n",
    "    train_score.append(accuracy_score(y_train, train_pred))\n",
    "    test_score.append(accuracy_score(y_test, test_pred))"
   ]
  },
  {
   "cell_type": "code",
   "execution_count": 34,
   "metadata": {
    "ExecuteTime": {
     "end_time": "2020-11-09T00:06:16.904648Z",
     "start_time": "2020-11-09T00:06:16.892855Z"
    }
   },
   "outputs": [
    {
     "data": {
      "text/html": [
       "<div>\n",
       "<style scoped>\n",
       "    .dataframe tbody tr th:only-of-type {\n",
       "        vertical-align: middle;\n",
       "    }\n",
       "\n",
       "    .dataframe tbody tr th {\n",
       "        vertical-align: top;\n",
       "    }\n",
       "\n",
       "    .dataframe thead th {\n",
       "        text-align: right;\n",
       "    }\n",
       "</style>\n",
       "<table border=\"1\" class=\"dataframe\">\n",
       "  <thead>\n",
       "    <tr style=\"text-align: right;\">\n",
       "      <th></th>\n",
       "      <th>model name</th>\n",
       "      <th>train score</th>\n",
       "      <th>test score</th>\n",
       "      <th>diff</th>\n",
       "    </tr>\n",
       "  </thead>\n",
       "  <tbody>\n",
       "    <tr>\n",
       "      <th>0</th>\n",
       "      <td>RandomForestClassifier</td>\n",
       "      <td>0.973487</td>\n",
       "      <td>0.583181</td>\n",
       "      <td>0.390306</td>\n",
       "    </tr>\n",
       "    <tr>\n",
       "      <th>1</th>\n",
       "      <td>DecisionTreeClassifier</td>\n",
       "      <td>0.973487</td>\n",
       "      <td>0.483692</td>\n",
       "      <td>0.489795</td>\n",
       "    </tr>\n",
       "    <tr>\n",
       "      <th>2</th>\n",
       "      <td>SGDClassifier</td>\n",
       "      <td>0.724916</td>\n",
       "      <td>0.662263</td>\n",
       "      <td>0.062653</td>\n",
       "    </tr>\n",
       "    <tr>\n",
       "      <th>3</th>\n",
       "      <td>LinearSVC</td>\n",
       "      <td>0.724347</td>\n",
       "      <td>0.656159</td>\n",
       "      <td>0.068188</td>\n",
       "    </tr>\n",
       "    <tr>\n",
       "      <th>4</th>\n",
       "      <td>LogisticRegression</td>\n",
       "      <td>0.722980</td>\n",
       "      <td>0.661990</td>\n",
       "      <td>0.060990</td>\n",
       "    </tr>\n",
       "    <tr>\n",
       "      <th>5</th>\n",
       "      <td>RidgeClassifier</td>\n",
       "      <td>0.713505</td>\n",
       "      <td>0.653426</td>\n",
       "      <td>0.060079</td>\n",
       "    </tr>\n",
       "    <tr>\n",
       "      <th>6</th>\n",
       "      <td>LGBMClassifier</td>\n",
       "      <td>0.702868</td>\n",
       "      <td>0.631378</td>\n",
       "      <td>0.071490</td>\n",
       "    </tr>\n",
       "    <tr>\n",
       "      <th>7</th>\n",
       "      <td>MultinomialNB</td>\n",
       "      <td>0.678382</td>\n",
       "      <td>0.652332</td>\n",
       "      <td>0.026050</td>\n",
       "    </tr>\n",
       "    <tr>\n",
       "      <th>8</th>\n",
       "      <td>GradientBoostingClassifier</td>\n",
       "      <td>0.554723</td>\n",
       "      <td>0.536625</td>\n",
       "      <td>0.018098</td>\n",
       "    </tr>\n",
       "    <tr>\n",
       "      <th>9</th>\n",
       "      <td>KNeighborsClassifier</td>\n",
       "      <td>0.517322</td>\n",
       "      <td>0.326348</td>\n",
       "      <td>0.190974</td>\n",
       "    </tr>\n",
       "    <tr>\n",
       "      <th>10</th>\n",
       "      <td>XgBoost</td>\n",
       "      <td>0.514384</td>\n",
       "      <td>0.506195</td>\n",
       "      <td>0.008189</td>\n",
       "    </tr>\n",
       "    <tr>\n",
       "      <th>11</th>\n",
       "      <td>AdaBoostClassifier</td>\n",
       "      <td>0.463818</td>\n",
       "      <td>0.462646</td>\n",
       "      <td>0.001172</td>\n",
       "    </tr>\n",
       "  </tbody>\n",
       "</table>\n",
       "</div>"
      ],
      "text/plain": [
       "                    model name  train score  test score      diff\n",
       "0       RandomForestClassifier     0.973487    0.583181  0.390306\n",
       "1       DecisionTreeClassifier     0.973487    0.483692  0.489795\n",
       "2                SGDClassifier     0.724916    0.662263  0.062653\n",
       "3                    LinearSVC     0.724347    0.656159  0.068188\n",
       "4           LogisticRegression     0.722980    0.661990  0.060990\n",
       "5              RidgeClassifier     0.713505    0.653426  0.060079\n",
       "6               LGBMClassifier     0.702868    0.631378  0.071490\n",
       "7                MultinomialNB     0.678382    0.652332  0.026050\n",
       "8   GradientBoostingClassifier     0.554723    0.536625  0.018098\n",
       "9         KNeighborsClassifier     0.517322    0.326348  0.190974\n",
       "10                     XgBoost     0.514384    0.506195  0.008189\n",
       "11          AdaBoostClassifier     0.463818    0.462646  0.001172"
      ]
     },
     "execution_count": 34,
     "metadata": {},
     "output_type": "execute_result"
    }
   ],
   "source": [
    "result = pd.DataFrame({'model name': names,\n",
    "                       'train score': train_score,\n",
    "                       'test score': test_score})\n",
    "result['diff'] = result['train score'] - result['test score']\n",
    "result.sort_values(by='train score', ascending=False).reset_index(drop=True)"
   ]
  },
  {
   "cell_type": "code",
   "execution_count": 35,
   "metadata": {
    "ExecuteTime": {
     "end_time": "2020-11-09T00:06:16.917380Z",
     "start_time": "2020-11-09T00:06:16.906737Z"
    }
   },
   "outputs": [
    {
     "data": {
      "text/html": [
       "<div>\n",
       "<style scoped>\n",
       "    .dataframe tbody tr th:only-of-type {\n",
       "        vertical-align: middle;\n",
       "    }\n",
       "\n",
       "    .dataframe tbody tr th {\n",
       "        vertical-align: top;\n",
       "    }\n",
       "\n",
       "    .dataframe thead th {\n",
       "        text-align: right;\n",
       "    }\n",
       "</style>\n",
       "<table border=\"1\" class=\"dataframe\">\n",
       "  <thead>\n",
       "    <tr style=\"text-align: right;\">\n",
       "      <th></th>\n",
       "      <th>model name</th>\n",
       "      <th>train score</th>\n",
       "      <th>test score</th>\n",
       "      <th>diff</th>\n",
       "    </tr>\n",
       "  </thead>\n",
       "  <tbody>\n",
       "    <tr>\n",
       "      <th>2</th>\n",
       "      <td>RandomForestClassifier</td>\n",
       "      <td>0.97</td>\n",
       "      <td>0.58</td>\n",
       "      <td>0.39</td>\n",
       "    </tr>\n",
       "    <tr>\n",
       "      <th>3</th>\n",
       "      <td>DecisionTreeClassifier</td>\n",
       "      <td>0.97</td>\n",
       "      <td>0.48</td>\n",
       "      <td>0.49</td>\n",
       "    </tr>\n",
       "    <tr>\n",
       "      <th>0</th>\n",
       "      <td>LogisticRegression</td>\n",
       "      <td>0.72</td>\n",
       "      <td>0.66</td>\n",
       "      <td>0.06</td>\n",
       "    </tr>\n",
       "    <tr>\n",
       "      <th>8</th>\n",
       "      <td>LinearSVC</td>\n",
       "      <td>0.72</td>\n",
       "      <td>0.66</td>\n",
       "      <td>0.07</td>\n",
       "    </tr>\n",
       "    <tr>\n",
       "      <th>11</th>\n",
       "      <td>SGDClassifier</td>\n",
       "      <td>0.72</td>\n",
       "      <td>0.66</td>\n",
       "      <td>0.06</td>\n",
       "    </tr>\n",
       "    <tr>\n",
       "      <th>10</th>\n",
       "      <td>RidgeClassifier</td>\n",
       "      <td>0.71</td>\n",
       "      <td>0.65</td>\n",
       "      <td>0.06</td>\n",
       "    </tr>\n",
       "    <tr>\n",
       "      <th>6</th>\n",
       "      <td>LGBMClassifier</td>\n",
       "      <td>0.70</td>\n",
       "      <td>0.63</td>\n",
       "      <td>0.07</td>\n",
       "    </tr>\n",
       "    <tr>\n",
       "      <th>1</th>\n",
       "      <td>MultinomialNB</td>\n",
       "      <td>0.68</td>\n",
       "      <td>0.65</td>\n",
       "      <td>0.03</td>\n",
       "    </tr>\n",
       "    <tr>\n",
       "      <th>5</th>\n",
       "      <td>GradientBoostingClassifier</td>\n",
       "      <td>0.55</td>\n",
       "      <td>0.54</td>\n",
       "      <td>0.02</td>\n",
       "    </tr>\n",
       "    <tr>\n",
       "      <th>7</th>\n",
       "      <td>KNeighborsClassifier</td>\n",
       "      <td>0.52</td>\n",
       "      <td>0.33</td>\n",
       "      <td>0.19</td>\n",
       "    </tr>\n",
       "    <tr>\n",
       "      <th>9</th>\n",
       "      <td>XgBoost</td>\n",
       "      <td>0.51</td>\n",
       "      <td>0.51</td>\n",
       "      <td>0.01</td>\n",
       "    </tr>\n",
       "    <tr>\n",
       "      <th>4</th>\n",
       "      <td>AdaBoostClassifier</td>\n",
       "      <td>0.46</td>\n",
       "      <td>0.46</td>\n",
       "      <td>0.00</td>\n",
       "    </tr>\n",
       "  </tbody>\n",
       "</table>\n",
       "</div>"
      ],
      "text/plain": [
       "                    model name  train score  test score  diff\n",
       "2       RandomForestClassifier         0.97        0.58  0.39\n",
       "3       DecisionTreeClassifier         0.97        0.48  0.49\n",
       "0           LogisticRegression         0.72        0.66  0.06\n",
       "8                    LinearSVC         0.72        0.66  0.07\n",
       "11               SGDClassifier         0.72        0.66  0.06\n",
       "10             RidgeClassifier         0.71        0.65  0.06\n",
       "6               LGBMClassifier         0.70        0.63  0.07\n",
       "1                MultinomialNB         0.68        0.65  0.03\n",
       "5   GradientBoostingClassifier         0.55        0.54  0.02\n",
       "7         KNeighborsClassifier         0.52        0.33  0.19\n",
       "9                      XgBoost         0.51        0.51  0.01\n",
       "4           AdaBoostClassifier         0.46        0.46  0.00"
      ]
     },
     "execution_count": 35,
     "metadata": {},
     "output_type": "execute_result"
    }
   ],
   "source": [
    "result.round(2).sort_values(by='train score', ascending=False)"
   ]
  },
  {
   "cell_type": "markdown",
   "metadata": {
    "ExecuteTime": {
     "end_time": "2020-11-04T05:44:44.334574Z",
     "start_time": "2020-11-04T05:44:44.329602Z"
    }
   },
   "source": [
    "## 모델 하이퍼파라미터 튜닝\n",
    "- 과적합으로 판단되는 RandomForest, DecisionTree를 제외하고, base-line으로 설정한 MultinomialNB을 기준으로 상위 5개 모델 튜닝 진행\n",
    "- 교차검증을 통해 모델이 과적합인지 아닌지 파악"
   ]
  },
  {
   "cell_type": "markdown",
   "metadata": {},
   "source": [
    "### MultinomialNB"
   ]
  },
  {
   "cell_type": "code",
   "execution_count": 36,
   "metadata": {
    "ExecuteTime": {
     "end_time": "2020-11-09T00:08:14.708539Z",
     "start_time": "2020-11-09T00:08:12.631016Z"
    }
   },
   "outputs": [
    {
     "name": "stdout",
     "output_type": "stream",
     "text": [
      "Fitting 3 folds for each of 12 candidates, totalling 36 fits\n"
     ]
    },
    {
     "name": "stderr",
     "output_type": "stream",
     "text": [
      "[Parallel(n_jobs=-1)]: Using backend LokyBackend with 12 concurrent workers.\n"
     ]
    },
    {
     "name": "stdout",
     "output_type": "stream",
     "text": [
      "MultinomialNB best parameters: {'alpha': 0.5, 'fit_prior': 'True'}\n",
      "MultinomialNB best accuracy score: 0.6430084542275784\n"
     ]
    },
    {
     "name": "stderr",
     "output_type": "stream",
     "text": [
      "[Parallel(n_jobs=-1)]: Done  36 out of  36 | elapsed:    1.9s finished\n"
     ]
    }
   ],
   "source": [
    "from sklearn.naive_bayes import MultinomialNB\n",
    "\n",
    "params = {'alpha': np.linspace(0.5, 1.5, 6),\n",
    "         'fit_prior': ['True', 'False']}\n",
    "mu_clf = MultinomialNB()\n",
    "grid_cv = GridSearchCV(mu_clf, param_grid=params, cv=3, scoring='accuracy', verbose=1, n_jobs=-1)\n",
    "grid_cv.fit(X_train_tfidf_vect, y_train)\n",
    "print('MultinomialNB best parameters:', grid_cv.best_params_)\n",
    "print('MultinomialNB best accuracy score:', grid_cv.best_score_)"
   ]
  },
  {
   "cell_type": "code",
   "execution_count": 37,
   "metadata": {
    "ExecuteTime": {
     "end_time": "2020-11-09T00:08:14.736005Z",
     "start_time": "2020-11-09T00:08:14.711215Z"
    }
   },
   "outputs": [
    {
     "name": "stdout",
     "output_type": "stream",
     "text": [
      "MultinomialNB train accuracy score 0.6818896202992962\n",
      "MultinomialNB test accuracy score 0.6526056851311953\n"
     ]
    }
   ],
   "source": [
    "mu_clf = MultinomialNB(alpha=0.5, fit_prior='True')\n",
    "mu_clf.fit(X_train_tfidf_vect, y_train)\n",
    "\n",
    "mu_train_pred = mu_clf.predict(X_train_tfidf_vect)\n",
    "mu_test_pred = mu_clf.predict(X_test_tfidf_vect)\n",
    "\n",
    "print('MultinomialNB train accuracy score', accuracy_score(y_train, mu_train_pred))\n",
    "print('MultinomialNB test accuracy score', accuracy_score(y_test, mu_test_pred))"
   ]
  },
  {
   "cell_type": "code",
   "execution_count": 38,
   "metadata": {
    "ExecuteTime": {
     "end_time": "2020-11-09T00:08:14.740883Z",
     "start_time": "2020-11-09T00:08:14.738374Z"
    }
   },
   "outputs": [],
   "source": [
    "# 교차검증\n",
    "\n",
    "from sklearn.model_selection import StratifiedKFold\n",
    "skf = StratifiedKFold(n_splits=5, shuffle=True, random_state=13)"
   ]
  },
  {
   "cell_type": "code",
   "execution_count": 39,
   "metadata": {
    "ExecuteTime": {
     "end_time": "2020-11-09T00:08:14.878546Z",
     "start_time": "2020-11-09T00:08:14.742838Z"
    }
   },
   "outputs": [
    {
     "data": {
      "text/plain": [
       "{'fit_time': array([0.01497006, 0.01308393, 0.01548958, 0.01875257, 0.01380897]),\n",
       " 'score_time': array([0.00201988, 0.0019331 , 0.00209737, 0.00227618, 0.00227499]),\n",
       " 'test_score': array([0.64229587, 0.64286528, 0.64730668, 0.64669704, 0.64555809]),\n",
       " 'train_score': array([0.68526849, 0.68820113, 0.68754627, 0.68633089, 0.68695726])}"
      ]
     },
     "execution_count": 39,
     "metadata": {},
     "output_type": "execute_result"
    }
   ],
   "source": [
    "from sklearn.model_selection import cross_validate\n",
    "cross_validate(mu_clf, X_train_tfidf_vect, y_train, scoring=None, cv=skf, return_train_score=True)"
   ]
  },
  {
   "cell_type": "markdown",
   "metadata": {},
   "source": [
    "### LinearSVC"
   ]
  },
  {
   "cell_type": "code",
   "execution_count": 40,
   "metadata": {
    "ExecuteTime": {
     "end_time": "2020-11-09T00:08:20.951656Z",
     "start_time": "2020-11-09T00:08:19.571652Z"
    }
   },
   "outputs": [
    {
     "name": "stdout",
     "output_type": "stream",
     "text": [
      "LinearSVC train accuracy score: 0.7243468555679566\n",
      "LinearSVC test accuracy score: 0.6561588921282799\n"
     ]
    }
   ],
   "source": [
    "import sklearn\n",
    "import numpy as np\n",
    "\n",
    "import matplotlib.pyplot as plt\n",
    "%matplotlib inline\n",
    "from sklearn.pipeline import Pipeline\n",
    "from sklearn.svm import LinearSVC\n",
    "\n",
    "svm_clf = LinearSVC(C=1, loss='hinge', random_state=13)\n",
    "svm_clf.fit(X_train_tfidf_vect, y_train)\n",
    "\n",
    "svm_train_pred = svm_clf.predict(X_train_tfidf_vect)\n",
    "svm_test_pred = svm_clf.predict(X_test_tfidf_vect)\n",
    "\n",
    "print('LinearSVC train accuracy score:', accuracy_score(y_train, svm_train_pred))\n",
    "print('LinearSVC test accuracy score:', accuracy_score(y_test, svm_test_pred))"
   ]
  },
  {
   "cell_type": "code",
   "execution_count": 41,
   "metadata": {
    "ExecuteTime": {
     "end_time": "2020-11-09T00:08:29.855720Z",
     "start_time": "2020-11-09T00:08:20.953465Z"
    },
    "scrolled": true
   },
   "outputs": [
    {
     "name": "stdout",
     "output_type": "stream",
     "text": [
      "Fitting 5 folds for each of 12 candidates, totalling 60 fits\n"
     ]
    },
    {
     "name": "stderr",
     "output_type": "stream",
     "text": [
      "[Parallel(n_jobs=-1)]: Using backend LokyBackend with 12 concurrent workers.\n",
      "[Parallel(n_jobs=-1)]: Done  37 out of  60 | elapsed:    1.6s remaining:    1.0s\n",
      "[Parallel(n_jobs=-1)]: Done  60 out of  60 | elapsed:    7.7s finished\n"
     ]
    },
    {
     "data": {
      "text/plain": [
       "GridSearchCV(cv=StratifiedKFold(n_splits=5, random_state=13, shuffle=True),\n",
       "             error_score=nan,\n",
       "             estimator=LinearSVC(C=1.0, class_weight=None, dual=True,\n",
       "                                 fit_intercept=True, intercept_scaling=1,\n",
       "                                 loss='squared_hinge', max_iter=1000,\n",
       "                                 multi_class='ovr', penalty='l2',\n",
       "                                 random_state=None, tol=0.0001, verbose=0),\n",
       "             iid='deprecated', n_jobs=-1,\n",
       "             param_grid={'C': [0.001, 0.01, 1],\n",
       "                         'loss': ['squared_hinge', 'hinge'],\n",
       "                         'penalty': ['l1', 'l2'], 'random_state': [13]},\n",
       "             pre_dispatch='2*n_jobs', refit=True, return_train_score=False,\n",
       "             scoring=None, verbose=1)"
      ]
     },
     "execution_count": 41,
     "metadata": {},
     "output_type": "execute_result"
    }
   ],
   "source": [
    "params = {\n",
    "    'C': [0.001, 0.01, 1], \n",
    "    'loss': ['squared_hinge', 'hinge'], \n",
    "    'penalty': ['l1', 'l2'], \n",
    "    'random_state': [13]\n",
    "    }\n",
    "\n",
    "grid_cv = GridSearchCV(LinearSVC(), param_grid=params, cv=skf, verbose=1, n_jobs=-1)\n",
    "grid_cv.fit(X_train_tfidf_vect, y_train)"
   ]
  },
  {
   "cell_type": "code",
   "execution_count": 42,
   "metadata": {
    "ExecuteTime": {
     "end_time": "2020-11-09T00:08:29.860871Z",
     "start_time": "2020-11-09T00:08:29.858070Z"
    }
   },
   "outputs": [
    {
     "name": "stdout",
     "output_type": "stream",
     "text": [
      "LinearSVC Best parameters: {'C': 1, 'loss': 'squared_hinge', 'penalty': 'l2', 'random_state': 13}\n",
      "LinearSVC Best accruacy score: 0.6551261200474517\n"
     ]
    }
   ],
   "source": [
    "print('LinearSVC Best parameters:', grid_cv.best_params_)\n",
    "print('LinearSVC Best accruacy score:', grid_cv.best_score_)"
   ]
  },
  {
   "cell_type": "code",
   "execution_count": 43,
   "metadata": {
    "ExecuteTime": {
     "end_time": "2020-11-09T00:08:31.206786Z",
     "start_time": "2020-11-09T00:08:29.863392Z"
    }
   },
   "outputs": [
    {
     "name": "stdout",
     "output_type": "stream",
     "text": [
      "LinearSVC train accuracy score: 0.7243468555679566\n",
      "LinearSVC test accuracy score: 0.6561588921282799\n"
     ]
    }
   ],
   "source": [
    "svm_clf = LinearSVC(C=1, loss='hinge', penalty='l2', random_state=13)\n",
    "svm_clf.fit(X_train_tfidf_vect, y_train)\n",
    "\n",
    "svm_train_pred = svm_clf.predict(X_train_tfidf_vect)\n",
    "svm_test_pred = svm_clf.predict(X_test_tfidf_vect)\n",
    "\n",
    "print('LinearSVC train accuracy score:', accuracy_score(y_train, svm_train_pred))\n",
    "print('LinearSVC test accuracy score:', accuracy_score(y_test, svm_test_pred)) "
   ]
  },
  {
   "cell_type": "code",
   "execution_count": 44,
   "metadata": {
    "ExecuteTime": {
     "end_time": "2020-11-09T00:08:31.213341Z",
     "start_time": "2020-11-09T00:08:31.208848Z"
    }
   },
   "outputs": [
    {
     "data": {
      "text/plain": [
       "array([[ True, False, False, False, False],\n",
       "       [False, False, False, False, False],\n",
       "       [False, False, False, False,  True],\n",
       "       ...,\n",
       "       [False, False, False, False, False],\n",
       "       [False, False, False,  True, False],\n",
       "       [False, False, False, False,  True]])"
      ]
     },
     "execution_count": 44,
     "metadata": {},
     "output_type": "execute_result"
    }
   ],
   "source": [
    "svm_clf.decision_function(X_test_tfidf_vect) > 0"
   ]
  },
  {
   "cell_type": "code",
   "execution_count": 45,
   "metadata": {
    "ExecuteTime": {
     "end_time": "2020-11-09T00:08:36.310738Z",
     "start_time": "2020-11-09T00:08:31.214959Z"
    }
   },
   "outputs": [
    {
     "data": {
      "text/plain": [
       "{'fit_time': array([1.11226797, 1.03384209, 1.00038815, 0.89128208, 1.00396013]),\n",
       " 'score_time': array([0.00147009, 0.00146294, 0.001755  , 0.00203204, 0.00224996]),\n",
       " 'test_score': array([0.6523175 , 0.65072315, 0.65357021, 0.65432802, 0.65592255]),\n",
       " 'train_score': array([0.73025454, 0.73210523, 0.73125107, 0.72821228, 0.73026222])}"
      ]
     },
     "execution_count": 45,
     "metadata": {},
     "output_type": "execute_result"
    }
   ],
   "source": [
    "# 교차검증\n",
    "\n",
    "from sklearn.model_selection import cross_validate, cross_val_score\n",
    "\n",
    "cross_validate(svm_clf, X_train_tfidf_vect, y_train, scoring=None, cv=skf, return_train_score=True)"
   ]
  },
  {
   "cell_type": "markdown",
   "metadata": {},
   "source": [
    "### SGDClassifier"
   ]
  },
  {
   "cell_type": "code",
   "execution_count": 46,
   "metadata": {
    "ExecuteTime": {
     "end_time": "2020-11-09T00:08:36.814906Z",
     "start_time": "2020-11-09T00:08:36.312613Z"
    }
   },
   "outputs": [
    {
     "name": "stdout",
     "output_type": "stream",
     "text": [
      "SGDClassifier train accuracy score: 0.7249162927362595\n",
      "SGDClassifier test accuracy score: 0.6622631195335277\n"
     ]
    }
   ],
   "source": [
    "from sklearn.linear_model import SGDClassifier\n",
    "\n",
    "sgd_clf = SGDClassifier(random_state=13, loss='modified_huber')\n",
    "sgd_clf.fit(X_train_tfidf_vect, y_train)\n",
    "\n",
    "sgd_train_pred = sgd_clf.predict(X_train_tfidf_vect)\n",
    "sgd_test_pred = sgd_clf.predict(X_test_tfidf_vect)\n",
    "\n",
    "print('SGDClassifier train accuracy score:', accuracy_score(y_train, sgd_train_pred))\n",
    "print('SGDClassifier test accuracy score:', accuracy_score(y_test, sgd_test_pred))"
   ]
  },
  {
   "cell_type": "code",
   "execution_count": 50,
   "metadata": {
    "ExecuteTime": {
     "end_time": "2020-11-09T00:09:55.424575Z",
     "start_time": "2020-11-09T00:08:39.445012Z"
    }
   },
   "outputs": [
    {
     "name": "stdout",
     "output_type": "stream",
     "text": [
      "Fitting 5 folds for each of 80 candidates, totalling 400 fits\n"
     ]
    },
    {
     "name": "stderr",
     "output_type": "stream",
     "text": [
      "[Parallel(n_jobs=-1)]: Using backend LokyBackend with 12 concurrent workers.\n",
      "[Parallel(n_jobs=-1)]: Done  26 tasks      | elapsed:    2.8s\n",
      "[Parallel(n_jobs=-1)]: Done 176 tasks      | elapsed:   56.9s\n",
      "[Parallel(n_jobs=-1)]: Done 400 out of 400 | elapsed:  1.3min finished\n"
     ]
    },
    {
     "data": {
      "text/plain": [
       "GridSearchCV(cv=StratifiedKFold(n_splits=5, random_state=13, shuffle=True),\n",
       "             error_score=nan,\n",
       "             estimator=SGDClassifier(alpha=0.0001, average=False,\n",
       "                                     class_weight=None, early_stopping=False,\n",
       "                                     epsilon=0.1, eta0=0.0, fit_intercept=True,\n",
       "                                     l1_ratio=0.15, learning_rate='optimal',\n",
       "                                     loss='modified_huber', max_iter=1000,\n",
       "                                     n_iter_no_change=5, n_jobs=None,\n",
       "                                     penalty='l2', power_t=0.5, r...\n",
       "                                     validation_fraction=0.1, verbose=0,\n",
       "                                     warm_start=False),\n",
       "             iid='deprecated', n_jobs=-1,\n",
       "             param_grid={'alpha': [0.0001, 0.001, 0.01, 0.1, 1.0, 10.0, 100.0,\n",
       "                                   1000.0],\n",
       "                         'loss': ['log', 'modified_huber', 'hinge',\n",
       "                                  'squared_hinge', 'perceptron'],\n",
       "                         'n_jobs': [-1], 'penalty': ['l2', 'elasticnet'],\n",
       "                         'random_state': [13]},\n",
       "             pre_dispatch='2*n_jobs', refit=True, return_train_score=False,\n",
       "             scoring='accuracy', verbose=1)"
      ]
     },
     "execution_count": 50,
     "metadata": {},
     "output_type": "execute_result"
    }
   ],
   "source": [
    "params = {\n",
    "    'alpha': [1e-4, 1e-3, 1e-2, 1e-1, 1e0, 1e1, 1e2, 1e3],\n",
    "    'loss': ['log', 'modified_huber', 'hinge', 'squared_hinge', 'perceptron'],\n",
    "    'penalty': ['l2', 'elasticnet'],\n",
    "    'n_jobs': [-1],\n",
    "    'random_state': [13],\n",
    "}\n",
    "\n",
    "grid_cv = GridSearchCV(sgd_clf, param_grid=params, cv=skf, scoring='accuracy', verbose=1, n_jobs=-1)\n",
    "grid_cv.fit(X_train_tfidf_vect, y_train)"
   ]
  },
  {
   "cell_type": "code",
   "execution_count": 51,
   "metadata": {
    "ExecuteTime": {
     "end_time": "2020-11-09T00:09:55.429236Z",
     "start_time": "2020-11-09T00:09:55.426371Z"
    }
   },
   "outputs": [
    {
     "name": "stdout",
     "output_type": "stream",
     "text": [
      "SGDClassifier best parameters: {'alpha': 0.0001, 'loss': 'modified_huber', 'n_jobs': -1, 'penalty': 'elasticnet', 'random_state': 13}\n",
      "SGDClassifier best accuracy score: 0.658292165809437\n"
     ]
    }
   ],
   "source": [
    "print('SGDClassifier best parameters:', grid_cv.best_params_)\n",
    "print('SGDClassifier best accuracy score:', grid_cv.best_score_)"
   ]
  },
  {
   "cell_type": "code",
   "execution_count": 52,
   "metadata": {
    "ExecuteTime": {
     "end_time": "2020-11-09T00:09:57.190754Z",
     "start_time": "2020-11-09T00:09:55.431110Z"
    }
   },
   "outputs": [
    {
     "data": {
      "text/plain": [
       "{'fit_time': array([0.41815615, 0.34477901, 0.30706525, 0.31268096, 0.32364917]),\n",
       " 'score_time': array([0.00201488, 0.00170112, 0.00152278, 0.0018549 , 0.00154114]),\n",
       " 'test_score': array([0.65379797, 0.65653115, 0.65983373, 0.65979499, 0.65763098]),\n",
       " 'train_score': array([0.73461079, 0.73364273, 0.73384204, 0.7325684 , 0.73222675])}"
      ]
     },
     "execution_count": 52,
     "metadata": {},
     "output_type": "execute_result"
    }
   ],
   "source": [
    "from sklearn.model_selection import cross_validate\n",
    "\n",
    "cross_validate(sgd_clf, X_train_tfidf_vect, y_train, scoring=None, cv=skf, return_train_score=True)"
   ]
  },
  {
   "cell_type": "markdown",
   "metadata": {},
   "source": [
    "### RidgeClassifier"
   ]
  },
  {
   "cell_type": "code",
   "execution_count": 53,
   "metadata": {
    "ExecuteTime": {
     "end_time": "2020-11-09T00:10:01.071093Z",
     "start_time": "2020-11-09T00:09:57.192442Z"
    }
   },
   "outputs": [
    {
     "name": "stdout",
     "output_type": "stream",
     "text": [
      "Fitting 3 folds for each of 16 candidates, totalling 48 fits\n"
     ]
    },
    {
     "name": "stderr",
     "output_type": "stream",
     "text": [
      "[Parallel(n_jobs=-1)]: Using backend LokyBackend with 12 concurrent workers.\n",
      "[Parallel(n_jobs=-1)]: Done  48 out of  48 | elapsed:    3.4s finished\n"
     ]
    },
    {
     "name": "stdout",
     "output_type": "stream",
     "text": [
      "RidgeClassifier best parameters: {'alpha': 1.0, 'max_iter': 100, 'normalize': False, 'random_state': 13}\n",
      "RidgeClassifier best accuracy score: 0.6458328880065934\n"
     ]
    }
   ],
   "source": [
    "rd_clf = RidgeClassifier()\n",
    "params = {\n",
    "    'alpha': [0.01, 0.1, 0.5, 1.0],\n",
    "    'normalize': [True, False],\n",
    "    'max_iter': [100, 300],\n",
    "    'random_state': [13]\n",
    "}\n",
    "\n",
    "grid_cv = GridSearchCV(rd_clf, param_grid=params, cv=3, scoring='accuracy', verbose=1, n_jobs=-1)\n",
    "grid_cv.fit(X_train_tfidf_vect, y_train)\n",
    "print('RidgeClassifier best parameters:', grid_cv.best_params_)\n",
    "print('RidgeClassifier best accuracy score:', grid_cv.best_score_)"
   ]
  },
  {
   "cell_type": "code",
   "execution_count": 54,
   "metadata": {
    "ExecuteTime": {
     "end_time": "2020-11-09T00:10:01.270794Z",
     "start_time": "2020-11-09T00:10:01.073988Z"
    }
   },
   "outputs": [
    {
     "name": "stdout",
     "output_type": "stream",
     "text": [
      "RidgeClassifier best train accuracy score: 0.6930050338245678\n",
      "RidgeClassifier best test accuracy score: 0.6486880466472303\n"
     ]
    }
   ],
   "source": [
    "rd_clf = RidgeClassifier(alpha=1.0, max_iter=100, normalize='False', random_state=13)\n",
    "rd_clf.fit(X_train_tfidf_vect, y_train)\n",
    "\n",
    "rd_train_pred = rd_clf.predict(X_train_tfidf_vect)\n",
    "rd_test_pred = rd_clf.predict(X_test_tfidf_vect)\n",
    "print('RidgeClassifier best train accuracy score:', accuracy_score(y_train, rd_train_pred))\n",
    "print('RidgeClassifier best test accuracy score:', accuracy_score(y_test, rd_test_pred))"
   ]
  },
  {
   "cell_type": "code",
   "execution_count": 55,
   "metadata": {
    "ExecuteTime": {
     "end_time": "2020-11-09T00:10:01.933756Z",
     "start_time": "2020-11-09T00:10:01.272584Z"
    }
   },
   "outputs": [
    {
     "data": {
      "text/plain": [
       "{'fit_time': array([0.12829185, 0.11321187, 0.12434793, 0.11912918, 0.11900306]),\n",
       " 'score_time': array([0.00183916, 0.00181389, 0.00175786, 0.00213385, 0.00196886]),\n",
       " 'test_score': array([0.64457351, 0.64571233, 0.64810386, 0.64191344, 0.64179954]),\n",
       " 'train_score': array([0.69956153, 0.70055805, 0.69916292, 0.6994562 , 0.70085129])}"
      ]
     },
     "execution_count": 55,
     "metadata": {},
     "output_type": "execute_result"
    }
   ],
   "source": [
    "# 교차검증\n",
    "\n",
    "cross_validate(rd_clf, X_train_tfidf_vect, y_train, scoring=None, cv=skf, return_train_score=True)"
   ]
  },
  {
   "cell_type": "markdown",
   "metadata": {},
   "source": [
    "### LogisticRegression"
   ]
  },
  {
   "cell_type": "code",
   "execution_count": 56,
   "metadata": {
    "ExecuteTime": {
     "end_time": "2020-11-09T00:10:36.697683Z",
     "start_time": "2020-11-09T00:10:01.935480Z"
    }
   },
   "outputs": [
    {
     "name": "stdout",
     "output_type": "stream",
     "text": [
      "Fitting 5 folds for each of 12 candidates, totalling 60 fits\n"
     ]
    },
    {
     "name": "stderr",
     "output_type": "stream",
     "text": [
      "[Parallel(n_jobs=-1)]: Using backend LokyBackend with 12 concurrent workers.\n",
      "[Parallel(n_jobs=-1)]: Done  26 tasks      | elapsed:    8.1s\n",
      "[Parallel(n_jobs=-1)]: Done  60 out of  60 | elapsed:   28.2s finished\n"
     ]
    },
    {
     "name": "stdout",
     "output_type": "stream",
     "text": [
      "LogisticRegression best parameters: {'C': 1.0, 'max_iter': 500}\n",
      "LogisticRegression best accuracy score: 0.6598865924797769\n"
     ]
    }
   ],
   "source": [
    "clf = LogisticRegression()\n",
    "params = {\n",
    "    'C': [0.01, 0.1, 0.5, 1.0],\n",
    "    'max_iter': [100, 200, 500],\n",
    "}\n",
    "\n",
    "grid_cv = GridSearchCV(clf, param_grid=params, scoring='accuracy', cv=skf, verbose=1, n_jobs=-1)\n",
    "grid_cv.fit(X_train_tfidf_vect, y_train)\n",
    "print('LogisticRegression best parameters:', grid_cv.best_params_)\n",
    "print('LogisticRegression best accuracy score:', grid_cv.best_score_)"
   ]
  },
  {
   "cell_type": "code",
   "execution_count": 57,
   "metadata": {
    "ExecuteTime": {
     "end_time": "2020-11-09T00:10:43.498822Z",
     "start_time": "2020-11-09T00:10:36.700497Z"
    }
   },
   "outputs": [
    {
     "name": "stdout",
     "output_type": "stream",
     "text": [
      "LogisticRegression train accuracy score: 0.7232990911782794\n",
      "LogisticRegression test accuracy score: 0.6621720116618076\n"
     ]
    }
   ],
   "source": [
    "lr_clf = LogisticRegression(C=1.0, max_iter=500)\n",
    "lr_clf.fit(X_train_tfidf_vect, y_train)\n",
    "\n",
    "lr_train_pred = lr_clf.predict(X_train_tfidf_vect)\n",
    "lr_test_pred = lr_clf.predict(X_test_tfidf_vect)\n",
    "\n",
    "print('LogisticRegression train accuracy score:', accuracy_score(y_train, lr_train_pred))\n",
    "print('LogisticRegression test accuracy score:', accuracy_score(y_test, lr_test_pred))"
   ]
  },
  {
   "cell_type": "code",
   "execution_count": 68,
   "metadata": {
    "ExecuteTime": {
     "end_time": "2020-11-09T00:16:18.383684Z",
     "start_time": "2020-11-09T00:15:55.882902Z"
    }
   },
   "outputs": [
    {
     "data": {
      "text/plain": [
       "{'fit_time': array([3.93642282, 4.2771771 , 4.89147091, 4.30841994, 5.02009511]),\n",
       " 'score_time': array([0.00220704, 0.00273681, 0.00249124, 0.00242305, 0.00255108]),\n",
       " 'test_score': array([0.65482291, 0.66222526, 0.66165585, 0.66002278, 0.66070615]),\n",
       " 'train_score': array([0.73008371, 0.73008371, 0.72780593, 0.72752897, 0.72784215])}"
      ]
     },
     "execution_count": 68,
     "metadata": {},
     "output_type": "execute_result"
    }
   ],
   "source": [
    "# 교차검증\n",
    "\n",
    "cross_validate(lr_clf, X_train_tfidf_vect, y_train, scoring=None, cv=skf, return_train_score=True)"
   ]
  },
  {
   "cell_type": "markdown",
   "metadata": {},
   "source": [
    "### LGBMClassifier"
   ]
  },
  {
   "cell_type": "code",
   "execution_count": 58,
   "metadata": {
    "ExecuteTime": {
     "end_time": "2020-11-09T00:12:17.777676Z",
     "start_time": "2020-11-09T00:10:43.501536Z"
    }
   },
   "outputs": [
    {
     "name": "stdout",
     "output_type": "stream",
     "text": [
      "Fitting 5 folds for each of 48 candidates, totalling 240 fits\n"
     ]
    },
    {
     "name": "stderr",
     "output_type": "stream",
     "text": [
      "[Parallel(n_jobs=-1)]: Using backend LokyBackend with 12 concurrent workers.\n",
      "[Parallel(n_jobs=-1)]: Done  26 tasks      | elapsed:   12.8s\n",
      "[Parallel(n_jobs=-1)]: Done 176 tasks      | elapsed:  1.1min\n",
      "[Parallel(n_jobs=-1)]: Done 240 out of 240 | elapsed:  1.5min finished\n"
     ]
    },
    {
     "name": "stdout",
     "output_type": "stream",
     "text": [
      "LGBMClassifier best parameters: {'boosting_type': 'dart', 'learning_rate': 0.01, 'max_bin': 510, 'n_estimators': 8, 'num_leaves': 8, 'objective': 'binary', 'random_state': 13, 'reg_alpha': 1, 'reg_lambda': 1.4}\n",
      "LGBMClassifier best accuracy score: 0.35207185528705465\n"
     ]
    }
   ],
   "source": [
    "clf = LGBMClassifier()\n",
    "params = {\n",
    "    'learning_rate': [0.005, 0.01],\n",
    "    'n_estimators': [8],\n",
    "    'num_leaves': [6,8], # large num_leaves helps improve accuracy but might lead to over-fitting\n",
    "    'boosting_type' : ['dart'], # for better accuracy -> try dart\n",
    "    'objective' : ['binary'],\n",
    "    'max_bin':[255, 510], # large max_bin helps improve accuracy but might slow down training progress\n",
    "    'random_state' : [13],\n",
    "#     'colsample_bytree' : [0.64, 0.65, 0.66],\n",
    "#     'subsample' : [0.7,0.75],\n",
    "    'reg_alpha' : [1,1.2],\n",
    "    'reg_lambda' : [1,1.2,1.4],\n",
    "    }\n",
    "\n",
    "grid_cv = GridSearchCV(clf, param_grid=params, verbose=1, n_jobs=-1)\n",
    "grid_cv.fit(X_train_tfidf_vect, y_train)\n",
    "print('LGBMClassifier best parameters:', grid_cv.best_params_)\n",
    "print('LGBMClassifier best accuracy score:', grid_cv.best_score_)"
   ]
  },
  {
   "cell_type": "code",
   "execution_count": 59,
   "metadata": {
    "ExecuteTime": {
     "end_time": "2020-11-09T00:12:20.286116Z",
     "start_time": "2020-11-09T00:12:17.779769Z"
    }
   },
   "outputs": [
    {
     "name": "stdout",
     "output_type": "stream",
     "text": [
      "LGBMClassifier best accuracy score: 0.360149416909621\n"
     ]
    }
   ],
   "source": [
    "lgb_clf = LGBMClassifier(boosting_type='dart', learning_rate=0.01, max_bin=510, n_estimators=8, num_leaves=8,\n",
    "                        objective='binary', random_state=13, reg_alpha=1, reg_lambda=1)\n",
    "lgb_clf.fit(X_train_tfidf_vect, y_train)\n",
    "\n",
    "# lgb_train_pred = lgb_clf.predict(X_train_tfidf_vect)\n",
    "lgb_test_pred = lgb_clf.predict(X_test_tfidf_vect)\n",
    "\n",
    "# print('LGBMClassifier best accuracy score:', accuracy_score(X_test, lgb_train_pred))\n",
    "print('LGBMClassifier best accuracy score:', accuracy_score(y_test, lgb_test_pred))"
   ]
  },
  {
   "cell_type": "code",
   "execution_count": 60,
   "metadata": {
    "ExecuteTime": {
     "end_time": "2020-11-09T00:12:22.647381Z",
     "start_time": "2020-11-09T00:12:20.288106Z"
    }
   },
   "outputs": [
    {
     "name": "stdout",
     "output_type": "stream",
     "text": [
      "LGBMClassifier train accuracy score: 0.3563765574106553\n",
      "LGBMClassifier test accuracy score: 0.360149416909621\n"
     ]
    }
   ],
   "source": [
    "lgb_clf = LGBMClassifier(boosting_type='dart', learning_rate=0.01, max_bin=255, n_estimators=8, num_leaves=8,\n",
    "                         objective='binary', random_state=13, reg_alpha=1, reg_lambda=1)\n",
    "lgb_clf.fit(X_train_tfidf_vect, y_train)\n",
    "\n",
    "lgb_train_pred = lgb_clf.predict(X_train_tfidf_vect)\n",
    "lgb_test_pred = lgb_clf.predict(X_test_tfidf_vect)\n",
    "\n",
    "print('LGBMClassifier train accuracy score:', accuracy_score(y_train, lgb_train_pred))\n",
    "print('LGBMClassifier test accuracy score:', accuracy_score(y_test, lgb_test_pred))"
   ]
  },
  {
   "cell_type": "code",
   "execution_count": 61,
   "metadata": {
    "ExecuteTime": {
     "end_time": "2020-11-09T00:12:31.972186Z",
     "start_time": "2020-11-09T00:12:22.648724Z"
    }
   },
   "outputs": [
    {
     "data": {
      "text/plain": [
       "{'fit_time': array([1.77063704, 1.80597711, 1.72800684, 1.86632133, 1.66582489]),\n",
       " 'score_time': array([0.01923156, 0.020576  , 0.02018404, 0.01990199, 0.01886106]),\n",
       " 'test_score': array([0.35781802, 0.35804578, 0.35155449, 0.34635535, 0.35501139]),\n",
       " 'train_score': array([0.35920506, 0.35595923, 0.35171687, 0.34897361, 0.35976426])}"
      ]
     },
     "execution_count": 61,
     "metadata": {},
     "output_type": "execute_result"
    }
   ],
   "source": [
    "cross_validate(lgb_clf, X_train_tfidf_vect, y_train, scoring=None, cv=skf, return_train_score=True)"
   ]
  },
  {
   "cell_type": "markdown",
   "metadata": {},
   "source": [
    "### DecisionTreeClassifier"
   ]
  },
  {
   "cell_type": "code",
   "execution_count": 62,
   "metadata": {
    "ExecuteTime": {
     "end_time": "2020-11-09T00:12:44.236249Z",
     "start_time": "2020-11-09T00:12:31.977005Z"
    }
   },
   "outputs": [
    {
     "name": "stdout",
     "output_type": "stream",
     "text": [
      "DecisionTreeClassifier train score : 0.9734870054438193\n",
      "DecisionTreeClassifier test score : 0.48114067055393583\n"
     ]
    }
   ],
   "source": [
    "from sklearn.tree import DecisionTreeClassifier\n",
    "\n",
    "dt_clf = DecisionTreeClassifier()\n",
    "dt_clf.fit(X_train_tfidf_vect, y_train)\n",
    "\n",
    "dt_train_pred = dt_clf.predict(X_train_tfidf_vect)\n",
    "dt_test_pred = dt_clf.predict(X_test_tfidf_vect)\n",
    "\n",
    "print('DecisionTreeClassifier train score :', accuracy_score(y_train, dt_train_pred))\n",
    "print('DecisionTreeClassifier test score :', accuracy_score(y_test, dt_test_pred))"
   ]
  },
  {
   "cell_type": "code",
   "execution_count": 63,
   "metadata": {
    "ExecuteTime": {
     "end_time": "2020-11-09T00:13:02.683550Z",
     "start_time": "2020-11-09T00:12:44.238567Z"
    },
    "scrolled": true
   },
   "outputs": [
    {
     "name": "stdout",
     "output_type": "stream",
     "text": [
      "Fitting 5 folds for each of 16 candidates, totalling 80 fits\n"
     ]
    },
    {
     "name": "stderr",
     "output_type": "stream",
     "text": [
      "[Parallel(n_jobs=-1)]: Using backend LokyBackend with 12 concurrent workers.\n",
      "[Parallel(n_jobs=-1)]: Done  26 tasks      | elapsed:    2.0s\n",
      "[Parallel(n_jobs=-1)]: Done  80 out of  80 | elapsed:   15.4s finished\n"
     ]
    },
    {
     "name": "stdout",
     "output_type": "stream",
     "text": [
      "DecisionTreeClassifier best parameters: {'max_depth': 120, 'min_samples_leaf': 32, 'min_samples_split': 16, 'random_state': 13}\n",
      "DecisionTreeClassifier best accuracy score: 0.455936974607891\n"
     ]
    }
   ],
   "source": [
    "params = {\n",
    "    'max_depth': [5, 10, 20, 120],\n",
    "    'min_samples_split': [16, 24],\n",
    "    'min_samples_leaf': [16, 32],\n",
    "    'random_state': [13]\n",
    "}\n",
    "\n",
    "grid_cv = GridSearchCV(dt_clf, param_grid=params, verbose=1, n_jobs=-1, cv=5, scoring='accuracy')\n",
    "grid_cv.fit(X_train_tfidf_vect, y_train)\n",
    "\n",
    "print('DecisionTreeClassifier best parameters:', grid_cv.best_params_)\n",
    "print('DecisionTreeClassifier best accuracy score:', grid_cv.best_score_)"
   ]
  },
  {
   "cell_type": "code",
   "execution_count": null,
   "metadata": {},
   "outputs": [],
   "source": []
  },
  {
   "cell_type": "code",
   "execution_count": null,
   "metadata": {},
   "outputs": [],
   "source": []
  },
  {
   "cell_type": "code",
   "execution_count": null,
   "metadata": {},
   "outputs": [],
   "source": []
  },
  {
   "cell_type": "code",
   "execution_count": null,
   "metadata": {},
   "outputs": [],
   "source": []
  },
  {
   "cell_type": "markdown",
   "metadata": {},
   "source": [
    "## 결과\n",
    "- LinearSVC 모델 결과를 기준으로 예측에 실패한 결과 중 가장 많이 나온 단어 20개 정렬"
   ]
  },
  {
   "cell_type": "code",
   "execution_count": 64,
   "metadata": {
    "ExecuteTime": {
     "end_time": "2020-11-09T00:13:02.977874Z",
     "start_time": "2020-11-09T00:13:02.685279Z"
    }
   },
   "outputs": [
    {
     "data": {
      "text/html": [
       "<div>\n",
       "<style scoped>\n",
       "    .dataframe tbody tr th:only-of-type {\n",
       "        vertical-align: middle;\n",
       "    }\n",
       "\n",
       "    .dataframe tbody tr th {\n",
       "        vertical-align: top;\n",
       "    }\n",
       "\n",
       "    .dataframe thead th {\n",
       "        text-align: right;\n",
       "    }\n",
       "</style>\n",
       "<table border=\"1\" class=\"dataframe\">\n",
       "  <thead>\n",
       "    <tr style=\"text-align: right;\">\n",
       "      <th></th>\n",
       "      <th>0</th>\n",
       "      <th>1</th>\n",
       "    </tr>\n",
       "  </thead>\n",
       "  <tbody>\n",
       "    <tr>\n",
       "      <th>5550</th>\n",
       "      <td>odin</td>\n",
       "      <td>1842</td>\n",
       "    </tr>\n",
       "    <tr>\n",
       "      <th>6981</th>\n",
       "      <td>said</td>\n",
       "      <td>966</td>\n",
       "    </tr>\n",
       "    <tr>\n",
       "      <th>4966</th>\n",
       "      <td>man</td>\n",
       "      <td>268</td>\n",
       "    </tr>\n",
       "    <tr>\n",
       "      <th>5290</th>\n",
       "      <td>mr</td>\n",
       "      <td>262</td>\n",
       "    </tr>\n",
       "    <tr>\n",
       "      <th>4597</th>\n",
       "      <td>know</td>\n",
       "      <td>221</td>\n",
       "    </tr>\n",
       "    <tr>\n",
       "      <th>1601</th>\n",
       "      <td>come</td>\n",
       "      <td>213</td>\n",
       "    </tr>\n",
       "    <tr>\n",
       "      <th>2328</th>\n",
       "      <td>did</td>\n",
       "      <td>212</td>\n",
       "    </tr>\n",
       "    <tr>\n",
       "      <th>1971</th>\n",
       "      <td>cried</td>\n",
       "      <td>202</td>\n",
       "    </tr>\n",
       "    <tr>\n",
       "      <th>8234</th>\n",
       "      <td>think</td>\n",
       "      <td>196</td>\n",
       "    </tr>\n",
       "    <tr>\n",
       "      <th>4773</th>\n",
       "      <td>like</td>\n",
       "      <td>195</td>\n",
       "    </tr>\n",
       "    <tr>\n",
       "      <th>8302</th>\n",
       "      <td>time</td>\n",
       "      <td>189</td>\n",
       "    </tr>\n",
       "    <tr>\n",
       "      <th>7039</th>\n",
       "      <td>say</td>\n",
       "      <td>178</td>\n",
       "    </tr>\n",
       "    <tr>\n",
       "      <th>4813</th>\n",
       "      <td>little</td>\n",
       "      <td>174</td>\n",
       "    </tr>\n",
       "    <tr>\n",
       "      <th>3592</th>\n",
       "      <td>good</td>\n",
       "      <td>174</td>\n",
       "    </tr>\n",
       "    <tr>\n",
       "      <th>7408</th>\n",
       "      <td>sir</td>\n",
       "      <td>161</td>\n",
       "    </tr>\n",
       "    <tr>\n",
       "      <th>544</th>\n",
       "      <td>asked</td>\n",
       "      <td>153</td>\n",
       "    </tr>\n",
       "    <tr>\n",
       "      <th>3765</th>\n",
       "      <td>hand</td>\n",
       "      <td>131</td>\n",
       "    </tr>\n",
       "    <tr>\n",
       "      <th>2497</th>\n",
       "      <td>don</td>\n",
       "      <td>127</td>\n",
       "    </tr>\n",
       "    <tr>\n",
       "      <th>4046</th>\n",
       "      <td>house</td>\n",
       "      <td>125</td>\n",
       "    </tr>\n",
       "    <tr>\n",
       "      <th>8247</th>\n",
       "      <td>thought</td>\n",
       "      <td>124</td>\n",
       "    </tr>\n",
       "  </tbody>\n",
       "</table>\n",
       "</div>"
      ],
      "text/plain": [
       "            0     1\n",
       "5550     odin  1842\n",
       "6981     said   966\n",
       "4966      man   268\n",
       "5290       mr   262\n",
       "4597     know   221\n",
       "1601     come   213\n",
       "2328      did   212\n",
       "1971    cried   202\n",
       "8234    think   196\n",
       "4773     like   195\n",
       "8302     time   189\n",
       "7039      say   178\n",
       "4813   little   174\n",
       "3592     good   174\n",
       "7408      sir   161\n",
       "544     asked   153\n",
       "3765     hand   131\n",
       "2497      don   127\n",
       "4046    house   125\n",
       "8247  thought   124"
      ]
     },
     "execution_count": 64,
     "metadata": {},
     "output_type": "execute_result"
    }
   ],
   "source": [
    "abc = pd.merge(X_test, y_test, left_index = True, right_index=True)\n",
    "abc['pred'] = svm_test_pred\n",
    "\n",
    "# 예측이 틀린 결과 -> 데이터 프레임 화\n",
    "error_df = abc[abc['author'] != abc['pred']]\n",
    "\n",
    "# CountVectorizer로 단어 갯수 카운트\n",
    "cv = CountVectorizer(stop_words='english')   \n",
    "cv_fit=cv.fit_transform(error_df['text'])    \n",
    "word_list = cv.get_feature_names();    \n",
    "count_list = cv_fit.toarray().sum(axis=0)\n",
    "\n",
    "di = dict(zip(word_list,count_list))\n",
    "\n",
    "# 예측이 틀린 결과 중 가장 많이 나온 단어 20개 정렬\n",
    "pd.DataFrame(list(di.items())).sort_values(by=1, ascending=False)[:20]"
   ]
  },
  {
   "cell_type": "markdown",
   "metadata": {},
   "source": [
    "## 모델 비교"
   ]
  },
  {
   "cell_type": "code",
   "execution_count": 65,
   "metadata": {
    "ExecuteTime": {
     "end_time": "2020-11-09T00:13:02.984639Z",
     "start_time": "2020-11-09T00:13:02.980179Z"
    }
   },
   "outputs": [],
   "source": [
    "t_models = []\n",
    "\n",
    "t_models.append(('MultinomialNB', MultinomialNB(alpha=0.5, fit_prior='True')))\n",
    "t_models.append(('LinearSVC', LinearSVC(C=1, loss='hinge', penalty='l2', random_state=13)))\n",
    "t_models.append(('SGDClassifier', SGDClassifier(alpha=0.0001, loss='modified_huber', n_jobs=-1, penalty='l2', random_state=13)))\n",
    "t_models.append(('RidgeClassifier', RidgeClassifier(alpha=1.0, max_iter=100, normalize='False', random_state=13)))\n",
    "t_models.append(('LogisticRegression', LogisticRegression(C=1.0, max_iter=500)))"
   ]
  },
  {
   "cell_type": "code",
   "execution_count": 66,
   "metadata": {
    "ExecuteTime": {
     "end_time": "2020-11-09T00:13:10.426673Z",
     "start_time": "2020-11-09T00:13:02.987390Z"
    }
   },
   "outputs": [],
   "source": [
    "from sklearn.metrics import accuracy_score\n",
    "\n",
    "train_score = []\n",
    "test_score = []\n",
    "names = []\n",
    "\n",
    "for name, model in t_models:\n",
    "    clf = model\n",
    "    clf.fit(X_train_tfidf_vect, y_train)\n",
    "    \n",
    "    train_pred = clf.predict(X_train_tfidf_vect)\n",
    "    test_pred = clf.predict(X_test_tfidf_vect)\n",
    "    \n",
    "    names.append(name)\n",
    "    train_score.append(accuracy_score(y_train, train_pred))\n",
    "    test_score.append(accuracy_score(y_test, test_pred))"
   ]
  },
  {
   "cell_type": "code",
   "execution_count": 67,
   "metadata": {
    "ExecuteTime": {
     "end_time": "2020-11-09T00:13:10.446220Z",
     "start_time": "2020-11-09T00:13:10.428822Z"
    }
   },
   "outputs": [
    {
     "data": {
      "text/html": [
       "<div>\n",
       "<style scoped>\n",
       "    .dataframe tbody tr th:only-of-type {\n",
       "        vertical-align: middle;\n",
       "    }\n",
       "\n",
       "    .dataframe tbody tr th {\n",
       "        vertical-align: top;\n",
       "    }\n",
       "\n",
       "    .dataframe thead th {\n",
       "        text-align: right;\n",
       "    }\n",
       "</style>\n",
       "<table border=\"1\" class=\"dataframe\">\n",
       "  <thead>\n",
       "    <tr style=\"text-align: right;\">\n",
       "      <th></th>\n",
       "      <th>model name</th>\n",
       "      <th>train score</th>\n",
       "      <th>test score</th>\n",
       "      <th>diff</th>\n",
       "    </tr>\n",
       "  </thead>\n",
       "  <tbody>\n",
       "    <tr>\n",
       "      <th>0</th>\n",
       "      <td>LinearSVC</td>\n",
       "      <td>0.72</td>\n",
       "      <td>0.66</td>\n",
       "      <td>0.07</td>\n",
       "    </tr>\n",
       "    <tr>\n",
       "      <th>1</th>\n",
       "      <td>SGDClassifier</td>\n",
       "      <td>0.72</td>\n",
       "      <td>0.66</td>\n",
       "      <td>0.06</td>\n",
       "    </tr>\n",
       "    <tr>\n",
       "      <th>2</th>\n",
       "      <td>LogisticRegression</td>\n",
       "      <td>0.72</td>\n",
       "      <td>0.66</td>\n",
       "      <td>0.06</td>\n",
       "    </tr>\n",
       "    <tr>\n",
       "      <th>3</th>\n",
       "      <td>RidgeClassifier</td>\n",
       "      <td>0.69</td>\n",
       "      <td>0.65</td>\n",
       "      <td>0.04</td>\n",
       "    </tr>\n",
       "    <tr>\n",
       "      <th>4</th>\n",
       "      <td>MultinomialNB</td>\n",
       "      <td>0.68</td>\n",
       "      <td>0.65</td>\n",
       "      <td>0.03</td>\n",
       "    </tr>\n",
       "  </tbody>\n",
       "</table>\n",
       "</div>"
      ],
      "text/plain": [
       "           model name  train score  test score  diff\n",
       "0           LinearSVC         0.72        0.66  0.07\n",
       "1       SGDClassifier         0.72        0.66  0.06\n",
       "2  LogisticRegression         0.72        0.66  0.06\n",
       "3     RidgeClassifier         0.69        0.65  0.04\n",
       "4       MultinomialNB         0.68        0.65  0.03"
      ]
     },
     "execution_count": 67,
     "metadata": {},
     "output_type": "execute_result"
    }
   ],
   "source": [
    "result = pd.DataFrame({'model name': names,\n",
    "                       'train score': train_score,\n",
    "                       'test score': test_score})\n",
    "result['diff'] = result['train score'] - result['test score']\n",
    "result.round(2).sort_values(by='train score', ascending=False).reset_index(drop=True)"
   ]
  }
 ],
 "metadata": {
  "kernelspec": {
   "display_name": "Python 3",
   "language": "python",
   "name": "python3"
  },
  "language_info": {
   "codemirror_mode": {
    "name": "ipython",
    "version": 3
   },
   "file_extension": ".py",
   "mimetype": "text/x-python",
   "name": "python",
   "nbconvert_exporter": "python",
   "pygments_lexer": "ipython3",
   "version": "3.7.6"
  },
  "toc": {
   "base_numbering": 1,
   "nav_menu": {},
   "number_sections": true,
   "sideBar": true,
   "skip_h1_title": false,
   "title_cell": "Table of Contents",
   "title_sidebar": "Contents",
   "toc_cell": false,
   "toc_position": {
    "height": "calc(100% - 180px)",
    "left": "10px",
    "top": "150px",
    "width": "336px"
   },
   "toc_section_display": true,
   "toc_window_display": true
  }
 },
 "nbformat": 4,
 "nbformat_minor": 4
}
