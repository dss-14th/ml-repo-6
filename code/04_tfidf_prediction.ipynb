{
 "cells": [
  {
   "cell_type": "code",
   "execution_count": 31,
   "metadata": {
    "ExecuteTime": {
     "end_time": "2020-11-09T06:23:38.567109Z",
     "start_time": "2020-11-09T06:23:38.561610Z"
    }
   },
   "outputs": [],
   "source": [
    "import pandas as pd\n",
    "import warnings \n",
    "warnings.filterwarnings(action='ignore')\n",
    "import numpy as np\n",
    "import re\n",
    "import nltk\n",
    "from pathlib import Path\n",
    "from sklearn.model_selection import train_test_split\n",
    "from nltk import word_tokenize\n",
    "from wordcloud import WordCloud, STOPWORDS\n",
    "import matplotlib.pyplot as plt\n",
    "%matplotlib inline"
   ]
  },
  {
   "cell_type": "code",
   "execution_count": 32,
   "metadata": {
    "ExecuteTime": {
     "end_time": "2020-11-09T06:23:38.881340Z",
     "start_time": "2020-11-09T06:23:38.877369Z"
    }
   },
   "outputs": [],
   "source": [
    "data_dir = Path('./open/')\n",
    "feature_dir = Path('./open/build/feature')\n",
    "val_dir = Path('./open/build/val')\n",
    "tst_dir = Path('./open/build/tst')\n",
    "sub_dir = Path('./open/build/sub')\n",
    "\n",
    "trn_file = data_dir / 'train.csv'\n",
    "tst_file = data_dir / 'test_x.csv'\n",
    "sample_file = data_dir / 'sample_submission.csv'\n",
    "\n",
    "target_col = 'author'\n",
    "n_fold = 5\n",
    "n_class = 5\n",
    "seed = 13"
   ]
  },
  {
   "cell_type": "code",
   "execution_count": 33,
   "metadata": {
    "ExecuteTime": {
     "end_time": "2020-11-09T06:24:04.142600Z",
     "start_time": "2020-11-09T06:24:04.139509Z"
    }
   },
   "outputs": [],
   "source": [
    "algo_name = 'lr'\n",
    "feature_name = 'tfidf'\n",
    "model_name = f'{algo_name}_{feature_name}'\n",
    "\n",
    "feature_file = feature_dir / f'{feature_name}.csv'\n",
    "p_val_file = val_dir / f'{model_name}.val.csv'\n",
    "p_tst_file = tst_dir / f'{model_name}.tst.csv'\n",
    "sub_file = sub_dir / f'{model_name}.csv'"
   ]
  },
  {
   "cell_type": "markdown",
   "metadata": {},
   "source": [
    "## 데이터 확인"
   ]
  },
  {
   "cell_type": "code",
   "execution_count": 34,
   "metadata": {
    "ExecuteTime": {
     "end_time": "2020-11-09T06:24:16.111549Z",
     "start_time": "2020-11-09T06:24:15.937169Z"
    }
   },
   "outputs": [
    {
     "name": "stdout",
     "output_type": "stream",
     "text": [
      "(54879, 2)\n"
     ]
    },
    {
     "data": {
      "text/html": [
       "<div>\n",
       "<style scoped>\n",
       "    .dataframe tbody tr th:only-of-type {\n",
       "        vertical-align: middle;\n",
       "    }\n",
       "\n",
       "    .dataframe tbody tr th {\n",
       "        vertical-align: top;\n",
       "    }\n",
       "\n",
       "    .dataframe thead th {\n",
       "        text-align: right;\n",
       "    }\n",
       "</style>\n",
       "<table border=\"1\" class=\"dataframe\">\n",
       "  <thead>\n",
       "    <tr style=\"text-align: right;\">\n",
       "      <th></th>\n",
       "      <th>text</th>\n",
       "      <th>author</th>\n",
       "    </tr>\n",
       "    <tr>\n",
       "      <th>index</th>\n",
       "      <th></th>\n",
       "      <th></th>\n",
       "    </tr>\n",
       "  </thead>\n",
       "  <tbody>\n",
       "    <tr>\n",
       "      <th>0</th>\n",
       "      <td>He was almost choking. There was so much, so much he wanted to say, but strange exclamations were all that came from his lips. The Pole gazed fixedly at him, at the bundle of n...</td>\n",
       "      <td>3</td>\n",
       "    </tr>\n",
       "    <tr>\n",
       "      <th>1</th>\n",
       "      <td>“Your sister asked for it, I suppose?”</td>\n",
       "      <td>2</td>\n",
       "    </tr>\n",
       "    <tr>\n",
       "      <th>2</th>\n",
       "      <td>She was engaged one day as she walked, in perusing Jane’s last letter, and dwelling on some passages which proved that Jane had not written in spirits, when, instead of being ...</td>\n",
       "      <td>1</td>\n",
       "    </tr>\n",
       "    <tr>\n",
       "      <th>3</th>\n",
       "      <td>The captain was in the porch, keeping himself carefully out of the way of a treacherous shot, should any be intended. He turned and spoke to us, “Doctor's watch on the lookout....</td>\n",
       "      <td>4</td>\n",
       "    </tr>\n",
       "    <tr>\n",
       "      <th>4</th>\n",
       "      <td>“Have mercy, gentlemen!” odin flung up his hands. “Don’t write that, anyway; have some shame. Here I’ve torn my heart asunder before you, and you seize the opportunity and are ...</td>\n",
       "      <td>3</td>\n",
       "    </tr>\n",
       "  </tbody>\n",
       "</table>\n",
       "</div>"
      ],
      "text/plain": [
       "                                                                                                                                                                                      text  \\\n",
       "index                                                                                                                                                                                        \n",
       "0      He was almost choking. There was so much, so much he wanted to say, but strange exclamations were all that came from his lips. The Pole gazed fixedly at him, at the bundle of n...   \n",
       "1                                                                                                                                                   “Your sister asked for it, I suppose?”   \n",
       "2       She was engaged one day as she walked, in perusing Jane’s last letter, and dwelling on some passages which proved that Jane had not written in spirits, when, instead of being ...   \n",
       "3      The captain was in the porch, keeping himself carefully out of the way of a treacherous shot, should any be intended. He turned and spoke to us, “Doctor's watch on the lookout....   \n",
       "4      “Have mercy, gentlemen!” odin flung up his hands. “Don’t write that, anyway; have some shame. Here I’ve torn my heart asunder before you, and you seize the opportunity and are ...   \n",
       "\n",
       "       author  \n",
       "index          \n",
       "0           3  \n",
       "1           2  \n",
       "2           1  \n",
       "3           4  \n",
       "4           3  "
      ]
     },
     "execution_count": 34,
     "metadata": {},
     "output_type": "execute_result"
    }
   ],
   "source": [
    "trn = pd.read_csv(trn_file, index_col=0)\n",
    "print(trn.shape)\n",
    "trn.head()"
   ]
  },
  {
   "cell_type": "code",
   "execution_count": 36,
   "metadata": {
    "ExecuteTime": {
     "end_time": "2020-11-09T06:25:29.054920Z",
     "start_time": "2020-11-09T06:25:28.944799Z"
    }
   },
   "outputs": [
    {
     "name": "stdout",
     "output_type": "stream",
     "text": [
      "(19617, 1)\n"
     ]
    },
    {
     "data": {
      "text/html": [
       "<div>\n",
       "<style scoped>\n",
       "    .dataframe tbody tr th:only-of-type {\n",
       "        vertical-align: middle;\n",
       "    }\n",
       "\n",
       "    .dataframe tbody tr th {\n",
       "        vertical-align: top;\n",
       "    }\n",
       "\n",
       "    .dataframe thead th {\n",
       "        text-align: right;\n",
       "    }\n",
       "</style>\n",
       "<table border=\"1\" class=\"dataframe\">\n",
       "  <thead>\n",
       "    <tr style=\"text-align: right;\">\n",
       "      <th></th>\n",
       "      <th>text</th>\n",
       "    </tr>\n",
       "    <tr>\n",
       "      <th>index</th>\n",
       "      <th></th>\n",
       "    </tr>\n",
       "  </thead>\n",
       "  <tbody>\n",
       "    <tr>\n",
       "      <th>0</th>\n",
       "      <td>“Not at all. I think she is one of the most charming young ladies I ever met, and might have been most useful in such work as we have been doing. She had a decided genius that ...</td>\n",
       "    </tr>\n",
       "    <tr>\n",
       "      <th>1</th>\n",
       "      <td>\"No,\" replied he, with sudden consciousness, \"not to find it in YOU; for I cannot be ignorant that to you, to your goodness, I owe it all.--I feel it--I would express it if I c...</td>\n",
       "    </tr>\n",
       "    <tr>\n",
       "      <th>2</th>\n",
       "      <td>As the lady had stated her intention of screaming, of course she would have screamed at this additional boldness, but that the exertion was rendered unnecessary by a hasty knoc...</td>\n",
       "    </tr>\n",
       "    <tr>\n",
       "      <th>3</th>\n",
       "      <td>“And then suddenly in the silence I heard a sound which sent my heart into my mouth. It was the clank of the levers and the swish of the leaking cylinder. He had set the engine...</td>\n",
       "    </tr>\n",
       "    <tr>\n",
       "      <th>4</th>\n",
       "      <td>His conviction remained unchanged. So far as I know--and I believe his honest heart was transparent to me--he never wavered again, in his solemn certainty of finding her. His p...</td>\n",
       "    </tr>\n",
       "  </tbody>\n",
       "</table>\n",
       "</div>"
      ],
      "text/plain": [
       "                                                                                                                                                                                      text\n",
       "index                                                                                                                                                                                     \n",
       "0      “Not at all. I think she is one of the most charming young ladies I ever met, and might have been most useful in such work as we have been doing. She had a decided genius that ...\n",
       "1      \"No,\" replied he, with sudden consciousness, \"not to find it in YOU; for I cannot be ignorant that to you, to your goodness, I owe it all.--I feel it--I would express it if I c...\n",
       "2      As the lady had stated her intention of screaming, of course she would have screamed at this additional boldness, but that the exertion was rendered unnecessary by a hasty knoc...\n",
       "3      “And then suddenly in the silence I heard a sound which sent my heart into my mouth. It was the clank of the levers and the swish of the leaking cylinder. He had set the engine...\n",
       "4      His conviction remained unchanged. So far as I know--and I believe his honest heart was transparent to me--he never wavered again, in his solemn certainty of finding her. His p..."
      ]
     },
     "execution_count": 36,
     "metadata": {},
     "output_type": "execute_result"
    }
   ],
   "source": [
    "tst = pd.read_csv(tst_file, index_col=0)\n",
    "print(tst.shape)\n",
    "tst.head()"
   ]
  },
  {
   "cell_type": "markdown",
   "metadata": {},
   "source": [
    "## 전처리"
   ]
  },
  {
   "cell_type": "markdown",
   "metadata": {},
   "source": [
    "### train_test_split"
   ]
  },
  {
   "cell_type": "code",
   "execution_count": 79,
   "metadata": {
    "ExecuteTime": {
     "end_time": "2020-11-09T07:09:58.582750Z",
     "start_time": "2020-11-09T07:09:58.579759Z"
    }
   },
   "outputs": [],
   "source": [
    "X = train.loc[:, 'text']\n",
    "y = train.loc[:, 'author']"
   ]
  },
  {
   "cell_type": "code",
   "execution_count": 80,
   "metadata": {
    "ExecuteTime": {
     "end_time": "2020-11-09T07:09:59.106268Z",
     "start_time": "2020-11-09T07:09:59.103967Z"
    }
   },
   "outputs": [],
   "source": [
    "X_test = test_x['text']"
   ]
  },
  {
   "cell_type": "code",
   "execution_count": 40,
   "metadata": {
    "ExecuteTime": {
     "end_time": "2020-11-09T06:26:01.324553Z",
     "start_time": "2020-11-09T06:26:01.322291Z"
    }
   },
   "outputs": [],
   "source": [
    "# X_train, X_test, y_train, y_test = train_test_split(X, y, test_size=0.2, random_state=13)"
   ]
  },
  {
   "cell_type": "markdown",
   "metadata": {},
   "source": [
    "### TfidVectorize"
   ]
  },
  {
   "cell_type": "code",
   "execution_count": 41,
   "metadata": {
    "ExecuteTime": {
     "end_time": "2020-11-09T06:26:04.396330Z",
     "start_time": "2020-11-09T06:26:02.102134Z"
    }
   },
   "outputs": [],
   "source": [
    "from sklearn.feature_extraction.text import TfidfVectorizer, TfidfTransformer\n",
    "\n",
    "# TF-IDF Vectorization 적용하여 학습 데이터셋과 테스트 데이터 셋 변환.\n",
    "tfidf_vect = TfidfVectorizer(stop_words='english')\n",
    "X = tfidf_vect.fit_transform(X)\n",
    "X_test= tfidf_vect.transform(X_test)"
   ]
  },
  {
   "cell_type": "code",
   "execution_count": 42,
   "metadata": {
    "ExecuteTime": {
     "end_time": "2020-11-09T06:26:05.144329Z",
     "start_time": "2020-11-09T06:26:05.141337Z"
    }
   },
   "outputs": [
    {
     "name": "stdout",
     "output_type": "stream",
     "text": [
      "(54879, 34416) (19617, 34416)\n"
     ]
    }
   ],
   "source": [
    "print(X.shape, X_test.shape)"
   ]
  },
  {
   "cell_type": "code",
   "execution_count": 43,
   "metadata": {
    "ExecuteTime": {
     "end_time": "2020-11-09T06:26:05.640123Z",
     "start_time": "2020-11-09T06:26:05.637204Z"
    }
   },
   "outputs": [],
   "source": [
    "from sklearn.model_selection import StratifiedKFold\n",
    "from sklearn.linear_model import LogisticRegression\n",
    "from sklearn.metrics import accuracy_score, log_loss\n",
    "\n",
    "skf = StratifiedKFold(n_splits=5, shuffle=True, random_state=13)"
   ]
  },
  {
   "cell_type": "code",
   "execution_count": 44,
   "metadata": {
    "ExecuteTime": {
     "end_time": "2020-11-09T06:26:06.040919Z",
     "start_time": "2020-11-09T06:26:06.037571Z"
    }
   },
   "outputs": [
    {
     "data": {
      "text/plain": [
       "(54879,)"
      ]
     },
     "execution_count": 44,
     "metadata": {},
     "output_type": "execute_result"
    }
   ],
   "source": [
    "y.shape"
   ]
  },
  {
   "cell_type": "code",
   "execution_count": 62,
   "metadata": {
    "ExecuteTime": {
     "end_time": "2020-11-09T06:38:40.306655Z",
     "start_time": "2020-11-09T06:38:17.340801Z"
    }
   },
   "outputs": [
    {
     "name": "stdout",
     "output_type": "stream",
     "text": [
      "[[0.01453383 0.00588608 0.03504109 0.93767076 0.00686824]\n",
      " [0.17910892 0.05286396 0.0950695  0.0412203  0.63173733]\n",
      " [0.07899712 0.02780522 0.66859321 0.02433983 0.20026463]\n",
      " ...\n",
      " [0.11644562 0.7340927  0.0478671  0.08425566 0.01733892]\n",
      " [0.78325583 0.04755676 0.07998399 0.03431026 0.05489316]\n",
      " [0.12162436 0.02929668 0.09726988 0.65344853 0.09836056]]\n",
      "[[0.0445561  0.94625383 0.00277813 0.0041451  0.00226684]\n",
      " [0.18208263 0.02745707 0.61048466 0.0473237  0.13265193]\n",
      " [0.04336957 0.01471658 0.65210972 0.02658831 0.26321581]\n",
      " ...\n",
      " [0.95926553 0.01702643 0.01000604 0.00253261 0.01116939]\n",
      " [0.53006456 0.03945843 0.10317189 0.00864817 0.31865695]\n",
      " [0.13631606 0.13579214 0.49476031 0.18022384 0.05290766]]\n",
      "[[0.5130261  0.27950854 0.08733437 0.07533561 0.04479538]\n",
      " [0.79122453 0.00558567 0.10184073 0.00963565 0.09171342]\n",
      " [0.14587545 0.05550277 0.16416063 0.13408739 0.50037376]\n",
      " ...\n",
      " [0.06524851 0.01983069 0.4154881  0.44470877 0.05472393]\n",
      " [0.04006037 0.16992438 0.28429882 0.42025332 0.0854631 ]\n",
      " [0.56666765 0.06374629 0.17627186 0.08021158 0.11310262]]\n",
      "[[0.01421666 0.01866291 0.20553894 0.02287534 0.73870616]\n",
      " [0.03867404 0.01944922 0.04332263 0.86766929 0.03088482]\n",
      " [0.08066822 0.0679501  0.47458419 0.13620792 0.24058957]\n",
      " ...\n",
      " [0.16192469 0.00525133 0.46246312 0.32277188 0.04758898]\n",
      " [0.13399318 0.61494764 0.20924715 0.02228552 0.0195265 ]\n",
      " [0.03273416 0.88375574 0.04128477 0.03502973 0.00719559]]\n",
      "[[0.13443366 0.14698006 0.13960577 0.49761716 0.08136335]\n",
      " [0.88162557 0.00887657 0.05670794 0.03377249 0.01901744]\n",
      " [0.09391329 0.00357758 0.27201051 0.5951183  0.03538032]\n",
      " ...\n",
      " [0.24527886 0.38787024 0.08638953 0.20566154 0.07479982]\n",
      " [0.01997188 0.00458428 0.08641224 0.11911135 0.76992025]\n",
      " [0.02084895 0.28353704 0.1832869  0.34405642 0.16827069]]\n"
     ]
    }
   ],
   "source": [
    "p = np.zeros((X.shape[0], 5))\n",
    "p_tst = np.zeros((X_test.shape[0], 5))\n",
    "for i_skf, (i_trn, i_val) in enumerate(skf.split(X, y), 1):\n",
    "    clf = LogisticRegression()\n",
    "    clf.fit(X[i_trn], y[i_trn])\n",
    "    p[i_val, :] = clf.predict_proba(X[i_val])\n",
    "    p_tst += clf.predict_proba(X_test) / 5"
   ]
  },
  {
   "cell_type": "code",
   "execution_count": 61,
   "metadata": {
    "ExecuteTime": {
     "end_time": "2020-11-09T06:37:15.613904Z",
     "start_time": "2020-11-09T06:37:15.596107Z"
    }
   },
   "outputs": [
    {
     "name": "stdout",
     "output_type": "stream",
     "text": [
      "i_skf 1\n",
      "i_trn [    1     2     3 ... 54875 54876 54878]\n",
      "i_val [    0    18    22 ... 54867 54873 54877]\n",
      "i_skf 2\n",
      "i_trn [    0     1     3 ... 54875 54876 54877]\n",
      "i_val [    2     5     7 ... 54869 54872 54878]\n",
      "i_skf 3\n",
      "i_trn [    0     2     3 ... 54876 54877 54878]\n",
      "i_val [    1     8    11 ... 54848 54858 54864]\n",
      "i_skf 4\n",
      "i_trn [    0     1     2 ... 54875 54877 54878]\n",
      "i_val [    3     4     9 ... 54870 54874 54876]\n",
      "i_skf 5\n",
      "i_trn [    0     1     2 ... 54876 54877 54878]\n",
      "i_val [    6    20    21 ... 54865 54871 54875]\n"
     ]
    }
   ],
   "source": [
    "for i_skf, (i_trn, i_val) in enumerate(skf.split(X, y), 1):\n",
    "    print('i_skf',i_skf)\n",
    "    print('i_trn',i_trn)\n",
    "    print('i_val',i_val)"
   ]
  },
  {
   "cell_type": "code",
   "execution_count": 54,
   "metadata": {
    "ExecuteTime": {
     "end_time": "2020-11-09T06:29:11.965232Z",
     "start_time": "2020-11-09T06:29:11.960293Z"
    }
   },
   "outputs": [
    {
     "data": {
      "text/plain": [
       "array([[0., 0., 0., 0., 0.],\n",
       "       [0., 0., 0., 0., 0.],\n",
       "       [0., 0., 0., 0., 0.],\n",
       "       ...,\n",
       "       [0., 0., 0., 0., 0.],\n",
       "       [0., 0., 0., 0., 0.],\n",
       "       [0., 0., 0., 0., 0.]])"
      ]
     },
     "execution_count": 54,
     "metadata": {},
     "output_type": "execute_result"
    }
   ],
   "source": [
    "np.zeros((X.shape[0], 5))"
   ]
  },
  {
   "cell_type": "code",
   "execution_count": 56,
   "metadata": {
    "ExecuteTime": {
     "end_time": "2020-11-09T06:29:39.918647Z",
     "start_time": "2020-11-09T06:29:39.915183Z"
    }
   },
   "outputs": [
    {
     "data": {
      "text/plain": [
       "(19617, 5)"
      ]
     },
     "execution_count": 56,
     "metadata": {},
     "output_type": "execute_result"
    }
   ],
   "source": [
    "np.zeros((X_test.shape[0], 5)).shape"
   ]
  },
  {
   "cell_type": "code",
   "execution_count": 46,
   "metadata": {
    "ExecuteTime": {
     "end_time": "2020-11-09T06:26:33.935827Z",
     "start_time": "2020-11-09T06:26:33.925188Z"
    }
   },
   "outputs": [
    {
     "name": "stdout",
     "output_type": "stream",
     "text": [
      "Accuracy (SKF):  72.6981%\n"
     ]
    }
   ],
   "source": [
    "print(f'Accuracy (SKF): {accuracy_score(y, np.argmax(p, axis=1)) * 100:8.4f}%')"
   ]
  },
  {
   "cell_type": "code",
   "execution_count": 50,
   "metadata": {
    "ExecuteTime": {
     "end_time": "2020-11-09T06:27:41.840592Z",
     "start_time": "2020-11-09T06:27:41.821797Z"
    }
   },
   "outputs": [
    {
     "name": "stdout",
     "output_type": "stream",
     "text": [
      "(19617, 5)\n"
     ]
    },
    {
     "data": {
      "text/html": [
       "<div>\n",
       "<style scoped>\n",
       "    .dataframe tbody tr th:only-of-type {\n",
       "        vertical-align: middle;\n",
       "    }\n",
       "\n",
       "    .dataframe tbody tr th {\n",
       "        vertical-align: top;\n",
       "    }\n",
       "\n",
       "    .dataframe thead th {\n",
       "        text-align: right;\n",
       "    }\n",
       "</style>\n",
       "<table border=\"1\" class=\"dataframe\">\n",
       "  <thead>\n",
       "    <tr style=\"text-align: right;\">\n",
       "      <th></th>\n",
       "      <th>0</th>\n",
       "      <th>1</th>\n",
       "      <th>2</th>\n",
       "      <th>3</th>\n",
       "      <th>4</th>\n",
       "    </tr>\n",
       "    <tr>\n",
       "      <th>index</th>\n",
       "      <th></th>\n",
       "      <th></th>\n",
       "      <th></th>\n",
       "      <th></th>\n",
       "      <th></th>\n",
       "    </tr>\n",
       "  </thead>\n",
       "  <tbody>\n",
       "    <tr>\n",
       "      <th>0</th>\n",
       "      <td>0</td>\n",
       "      <td>0</td>\n",
       "      <td>0</td>\n",
       "      <td>0</td>\n",
       "      <td>0</td>\n",
       "    </tr>\n",
       "    <tr>\n",
       "      <th>1</th>\n",
       "      <td>0</td>\n",
       "      <td>0</td>\n",
       "      <td>0</td>\n",
       "      <td>0</td>\n",
       "      <td>0</td>\n",
       "    </tr>\n",
       "    <tr>\n",
       "      <th>2</th>\n",
       "      <td>0</td>\n",
       "      <td>0</td>\n",
       "      <td>0</td>\n",
       "      <td>0</td>\n",
       "      <td>0</td>\n",
       "    </tr>\n",
       "    <tr>\n",
       "      <th>3</th>\n",
       "      <td>0</td>\n",
       "      <td>0</td>\n",
       "      <td>0</td>\n",
       "      <td>0</td>\n",
       "      <td>0</td>\n",
       "    </tr>\n",
       "    <tr>\n",
       "      <th>4</th>\n",
       "      <td>0</td>\n",
       "      <td>0</td>\n",
       "      <td>0</td>\n",
       "      <td>0</td>\n",
       "      <td>0</td>\n",
       "    </tr>\n",
       "  </tbody>\n",
       "</table>\n",
       "</div>"
      ],
      "text/plain": [
       "       0  1  2  3  4\n",
       "index               \n",
       "0      0  0  0  0  0\n",
       "1      0  0  0  0  0\n",
       "2      0  0  0  0  0\n",
       "3      0  0  0  0  0\n",
       "4      0  0  0  0  0"
      ]
     },
     "execution_count": 50,
     "metadata": {},
     "output_type": "execute_result"
    }
   ],
   "source": [
    "sub = pd.read_csv('./open/sample_submission.csv', index_col=0)\n",
    "print(sub.shape)\n",
    "sub.head()"
   ]
  },
  {
   "cell_type": "code",
   "execution_count": 51,
   "metadata": {
    "ExecuteTime": {
     "end_time": "2020-11-09T06:27:57.417691Z",
     "start_time": "2020-11-09T06:27:57.392188Z"
    }
   },
   "outputs": [
    {
     "data": {
      "text/html": [
       "<div>\n",
       "<style scoped>\n",
       "    .dataframe tbody tr th:only-of-type {\n",
       "        vertical-align: middle;\n",
       "    }\n",
       "\n",
       "    .dataframe tbody tr th {\n",
       "        vertical-align: top;\n",
       "    }\n",
       "\n",
       "    .dataframe thead th {\n",
       "        text-align: right;\n",
       "    }\n",
       "</style>\n",
       "<table border=\"1\" class=\"dataframe\">\n",
       "  <thead>\n",
       "    <tr style=\"text-align: right;\">\n",
       "      <th></th>\n",
       "      <th>0</th>\n",
       "      <th>1</th>\n",
       "      <th>2</th>\n",
       "      <th>3</th>\n",
       "      <th>4</th>\n",
       "    </tr>\n",
       "    <tr>\n",
       "      <th>index</th>\n",
       "      <th></th>\n",
       "      <th></th>\n",
       "      <th></th>\n",
       "      <th></th>\n",
       "      <th></th>\n",
       "    </tr>\n",
       "  </thead>\n",
       "  <tbody>\n",
       "    <tr>\n",
       "      <th>0</th>\n",
       "      <td>0.072230</td>\n",
       "      <td>0.405286</td>\n",
       "      <td>0.200331</td>\n",
       "      <td>0.267803</td>\n",
       "      <td>0.054350</td>\n",
       "    </tr>\n",
       "    <tr>\n",
       "      <th>1</th>\n",
       "      <td>0.265409</td>\n",
       "      <td>0.160464</td>\n",
       "      <td>0.074029</td>\n",
       "      <td>0.165691</td>\n",
       "      <td>0.334406</td>\n",
       "    </tr>\n",
       "    <tr>\n",
       "      <th>2</th>\n",
       "      <td>0.765312</td>\n",
       "      <td>0.050508</td>\n",
       "      <td>0.067845</td>\n",
       "      <td>0.038897</td>\n",
       "      <td>0.077438</td>\n",
       "    </tr>\n",
       "    <tr>\n",
       "      <th>3</th>\n",
       "      <td>0.149604</td>\n",
       "      <td>0.010156</td>\n",
       "      <td>0.556698</td>\n",
       "      <td>0.078937</td>\n",
       "      <td>0.204606</td>\n",
       "    </tr>\n",
       "    <tr>\n",
       "      <th>4</th>\n",
       "      <td>0.321536</td>\n",
       "      <td>0.146772</td>\n",
       "      <td>0.142566</td>\n",
       "      <td>0.234817</td>\n",
       "      <td>0.154309</td>\n",
       "    </tr>\n",
       "  </tbody>\n",
       "</table>\n",
       "</div>"
      ],
      "text/plain": [
       "              0         1         2         3         4\n",
       "index                                                  \n",
       "0      0.072230  0.405286  0.200331  0.267803  0.054350\n",
       "1      0.265409  0.160464  0.074029  0.165691  0.334406\n",
       "2      0.765312  0.050508  0.067845  0.038897  0.077438\n",
       "3      0.149604  0.010156  0.556698  0.078937  0.204606\n",
       "4      0.321536  0.146772  0.142566  0.234817  0.154309"
      ]
     },
     "execution_count": 51,
     "metadata": {},
     "output_type": "execute_result"
    }
   ],
   "source": [
    "sub[sub.columns] = p_tst\n",
    "sub.head()"
   ]
  },
  {
   "cell_type": "code",
   "execution_count": 97,
   "metadata": {
    "ExecuteTime": {
     "end_time": "2020-11-09T07:36:08.427182Z",
     "start_time": "2020-11-09T07:36:08.413946Z"
    },
    "scrolled": false
   },
   "outputs": [
    {
     "data": {
      "text/html": [
       "<div>\n",
       "<style scoped>\n",
       "    .dataframe tbody tr th:only-of-type {\n",
       "        vertical-align: middle;\n",
       "    }\n",
       "\n",
       "    .dataframe tbody tr th {\n",
       "        vertical-align: top;\n",
       "    }\n",
       "\n",
       "    .dataframe thead th {\n",
       "        text-align: right;\n",
       "    }\n",
       "</style>\n",
       "<table border=\"1\" class=\"dataframe\">\n",
       "  <thead>\n",
       "    <tr style=\"text-align: right;\">\n",
       "      <th></th>\n",
       "      <th>0</th>\n",
       "      <th>1</th>\n",
       "      <th>2</th>\n",
       "      <th>3</th>\n",
       "      <th>4</th>\n",
       "    </tr>\n",
       "    <tr>\n",
       "      <th>index</th>\n",
       "      <th></th>\n",
       "      <th></th>\n",
       "      <th></th>\n",
       "      <th></th>\n",
       "      <th></th>\n",
       "    </tr>\n",
       "  </thead>\n",
       "  <tbody>\n",
       "    <tr>\n",
       "      <th>0</th>\n",
       "      <td>0.0722</td>\n",
       "      <td>0.4053</td>\n",
       "      <td>0.2003</td>\n",
       "      <td>0.2678</td>\n",
       "      <td>0.0543</td>\n",
       "    </tr>\n",
       "    <tr>\n",
       "      <th>1</th>\n",
       "      <td>0.2654</td>\n",
       "      <td>0.1605</td>\n",
       "      <td>0.0740</td>\n",
       "      <td>0.1657</td>\n",
       "      <td>0.3344</td>\n",
       "    </tr>\n",
       "    <tr>\n",
       "      <th>2</th>\n",
       "      <td>0.7653</td>\n",
       "      <td>0.0505</td>\n",
       "      <td>0.0678</td>\n",
       "      <td>0.0389</td>\n",
       "      <td>0.0774</td>\n",
       "    </tr>\n",
       "    <tr>\n",
       "      <th>3</th>\n",
       "      <td>0.1496</td>\n",
       "      <td>0.0102</td>\n",
       "      <td>0.5567</td>\n",
       "      <td>0.0789</td>\n",
       "      <td>0.2046</td>\n",
       "    </tr>\n",
       "    <tr>\n",
       "      <th>4</th>\n",
       "      <td>0.3215</td>\n",
       "      <td>0.1468</td>\n",
       "      <td>0.1426</td>\n",
       "      <td>0.2348</td>\n",
       "      <td>0.1543</td>\n",
       "    </tr>\n",
       "    <tr>\n",
       "      <th>...</th>\n",
       "      <td>...</td>\n",
       "      <td>...</td>\n",
       "      <td>...</td>\n",
       "      <td>...</td>\n",
       "      <td>...</td>\n",
       "    </tr>\n",
       "    <tr>\n",
       "      <th>19612</th>\n",
       "      <td>0.0240</td>\n",
       "      <td>0.9687</td>\n",
       "      <td>0.0016</td>\n",
       "      <td>0.0043</td>\n",
       "      <td>0.0015</td>\n",
       "    </tr>\n",
       "    <tr>\n",
       "      <th>19613</th>\n",
       "      <td>0.3094</td>\n",
       "      <td>0.0378</td>\n",
       "      <td>0.1624</td>\n",
       "      <td>0.0488</td>\n",
       "      <td>0.4415</td>\n",
       "    </tr>\n",
       "    <tr>\n",
       "      <th>19614</th>\n",
       "      <td>0.0441</td>\n",
       "      <td>0.9045</td>\n",
       "      <td>0.0098</td>\n",
       "      <td>0.0347</td>\n",
       "      <td>0.0069</td>\n",
       "    </tr>\n",
       "    <tr>\n",
       "      <th>19615</th>\n",
       "      <td>0.0455</td>\n",
       "      <td>0.8722</td>\n",
       "      <td>0.0244</td>\n",
       "      <td>0.0513</td>\n",
       "      <td>0.0066</td>\n",
       "    </tr>\n",
       "    <tr>\n",
       "      <th>19616</th>\n",
       "      <td>0.5745</td>\n",
       "      <td>0.0488</td>\n",
       "      <td>0.1398</td>\n",
       "      <td>0.1110</td>\n",
       "      <td>0.1259</td>\n",
       "    </tr>\n",
       "  </tbody>\n",
       "</table>\n",
       "<p>19617 rows × 5 columns</p>\n",
       "</div>"
      ],
      "text/plain": [
       "            0       1       2       3       4\n",
       "index                                        \n",
       "0      0.0722  0.4053  0.2003  0.2678  0.0543\n",
       "1      0.2654  0.1605  0.0740  0.1657  0.3344\n",
       "2      0.7653  0.0505  0.0678  0.0389  0.0774\n",
       "3      0.1496  0.0102  0.5567  0.0789  0.2046\n",
       "4      0.3215  0.1468  0.1426  0.2348  0.1543\n",
       "...       ...     ...     ...     ...     ...\n",
       "19612  0.0240  0.9687  0.0016  0.0043  0.0015\n",
       "19613  0.3094  0.0378  0.1624  0.0488  0.4415\n",
       "19614  0.0441  0.9045  0.0098  0.0347  0.0069\n",
       "19615  0.0455  0.8722  0.0244  0.0513  0.0066\n",
       "19616  0.5745  0.0488  0.1398  0.1110  0.1259\n",
       "\n",
       "[19617 rows x 5 columns]"
      ]
     },
     "execution_count": 97,
     "metadata": {},
     "output_type": "execute_result"
    }
   ],
   "source": [
    "sub.round(4)"
   ]
  },
  {
   "cell_type": "markdown",
   "metadata": {},
   "source": [
    "### MultinomialNB "
   ]
  },
  {
   "cell_type": "code",
   "execution_count": 104,
   "metadata": {
    "ExecuteTime": {
     "end_time": "2020-11-09T08:51:19.648996Z",
     "start_time": "2020-11-09T08:51:19.645668Z"
    }
   },
   "outputs": [],
   "source": [
    "X = train.loc[:, 'text']\n",
    "y = train.loc[:, 'author']\n",
    "X_test = test_x['text']"
   ]
  },
  {
   "cell_type": "code",
   "execution_count": 105,
   "metadata": {
    "ExecuteTime": {
     "end_time": "2020-11-09T08:51:22.780519Z",
     "start_time": "2020-11-09T08:51:20.279371Z"
    }
   },
   "outputs": [],
   "source": [
    "tfidf_vect = TfidfVectorizer(stop_words='english')\n",
    "X = tfidf_vect.fit_transform(X)\n",
    "X_test= tfidf_vect.transform(X_test)"
   ]
  },
  {
   "cell_type": "code",
   "execution_count": 106,
   "metadata": {
    "ExecuteTime": {
     "end_time": "2020-11-09T08:51:23.564884Z",
     "start_time": "2020-11-09T08:51:23.561577Z"
    }
   },
   "outputs": [],
   "source": [
    "from sklearn.linear_model import LogisticRegression, RidgeClassifier, SGDClassifier\n",
    "from sklearn.ensemble import AdaBoostClassifier, GradientBoostingClassifier, RandomForestClassifier\n",
    "from sklearn.naive_bayes import MultinomialNB\n",
    "from sklearn.tree import DecisionTreeClassifier\n",
    "from sklearn.neighbors import KNeighborsClassifier\n",
    "from sklearn.svm import LinearSVC\n",
    "from lightgbm import LGBMClassifier\n",
    "from xgboost import XGBClassifier"
   ]
  },
  {
   "cell_type": "code",
   "execution_count": 107,
   "metadata": {
    "ExecuteTime": {
     "end_time": "2020-11-09T08:51:51.339091Z",
     "start_time": "2020-11-09T08:51:24.353994Z"
    }
   },
   "outputs": [],
   "source": [
    "p = np.zeros((X.shape[0], 5))\n",
    "p_tst = np.zeros((X_test.shape[0], 5))\n",
    "for i_skf, (i_trn, i_val) in enumerate(skf.split(X, y), 1):\n",
    "    clf = LogisticRegression()\n",
    "    clf.fit(X[i_trn], y[i_trn])\n",
    "    p[i_val, :] = clf.predict_proba(X[i_val])\n",
    "    p_tst += clf.predict_proba(X_test) / 5"
   ]
  },
  {
   "cell_type": "code",
   "execution_count": 108,
   "metadata": {
    "ExecuteTime": {
     "end_time": "2020-11-09T08:51:51.349686Z",
     "start_time": "2020-11-09T08:51:51.341609Z"
    }
   },
   "outputs": [
    {
     "name": "stdout",
     "output_type": "stream",
     "text": [
      "Accuracy (SKF):  72.6981%\n"
     ]
    }
   ],
   "source": [
    "print(f'Accuracy (SKF): {accuracy_score(y, np.argmax(p, axis=1)) * 100:8.4f}%')"
   ]
  },
  {
   "cell_type": "code",
   "execution_count": 114,
   "metadata": {
    "ExecuteTime": {
     "end_time": "2020-11-09T09:03:42.854648Z",
     "start_time": "2020-11-09T09:03:42.851465Z"
    }
   },
   "outputs": [],
   "source": [
    "result = pd.DataFrame(p_tst, columns=['author 0', 'author 1', 'author 2', 'author 3', 'author 4'])"
   ]
  },
  {
   "cell_type": "code",
   "execution_count": 112,
   "metadata": {
    "ExecuteTime": {
     "end_time": "2020-11-09T09:01:51.690064Z",
     "start_time": "2020-11-09T09:01:51.478279Z"
    }
   },
   "outputs": [],
   "source": [
    "result.to_csv('prediction.csv', index=False)"
   ]
  },
  {
   "cell_type": "code",
   "execution_count": 149,
   "metadata": {
    "ExecuteTime": {
     "end_time": "2020-11-09T09:14:33.908058Z",
     "start_time": "2020-11-09T09:14:33.824678Z"
    }
   },
   "outputs": [
    {
     "data": {
      "text/html": [
       "<div>\n",
       "<style scoped>\n",
       "    .dataframe tbody tr th:only-of-type {\n",
       "        vertical-align: middle;\n",
       "    }\n",
       "\n",
       "    .dataframe tbody tr th {\n",
       "        vertical-align: top;\n",
       "    }\n",
       "\n",
       "    .dataframe thead th {\n",
       "        text-align: right;\n",
       "    }\n",
       "</style>\n",
       "<table border=\"1\" class=\"dataframe\">\n",
       "  <thead>\n",
       "    <tr style=\"text-align: right;\">\n",
       "      <th></th>\n",
       "      <th>author 0</th>\n",
       "      <th>author 1</th>\n",
       "      <th>author 2</th>\n",
       "      <th>author 3</th>\n",
       "      <th>author 4</th>\n",
       "    </tr>\n",
       "  </thead>\n",
       "  <tbody>\n",
       "    <tr>\n",
       "      <th>0</th>\n",
       "      <td>7%</td>\n",
       "      <td>41%</td>\n",
       "      <td>20%</td>\n",
       "      <td>27%</td>\n",
       "      <td>5%</td>\n",
       "    </tr>\n",
       "    <tr>\n",
       "      <th>1</th>\n",
       "      <td>27%</td>\n",
       "      <td>16%</td>\n",
       "      <td>7%</td>\n",
       "      <td>17%</td>\n",
       "      <td>33%</td>\n",
       "    </tr>\n",
       "    <tr>\n",
       "      <th>2</th>\n",
       "      <td>77%</td>\n",
       "      <td>5%</td>\n",
       "      <td>7%</td>\n",
       "      <td>4%</td>\n",
       "      <td>8%</td>\n",
       "    </tr>\n",
       "    <tr>\n",
       "      <th>3</th>\n",
       "      <td>15%</td>\n",
       "      <td>1%</td>\n",
       "      <td>56%</td>\n",
       "      <td>8%</td>\n",
       "      <td>20%</td>\n",
       "    </tr>\n",
       "    <tr>\n",
       "      <th>4</th>\n",
       "      <td>32%</td>\n",
       "      <td>15%</td>\n",
       "      <td>14%</td>\n",
       "      <td>23%</td>\n",
       "      <td>15%</td>\n",
       "    </tr>\n",
       "    <tr>\n",
       "      <th>...</th>\n",
       "      <td>...</td>\n",
       "      <td>...</td>\n",
       "      <td>...</td>\n",
       "      <td>...</td>\n",
       "      <td>...</td>\n",
       "    </tr>\n",
       "    <tr>\n",
       "      <th>19612</th>\n",
       "      <td>2%</td>\n",
       "      <td>97%</td>\n",
       "      <td>0%</td>\n",
       "      <td>0%</td>\n",
       "      <td>0%</td>\n",
       "    </tr>\n",
       "    <tr>\n",
       "      <th>19613</th>\n",
       "      <td>31%</td>\n",
       "      <td>4%</td>\n",
       "      <td>16%</td>\n",
       "      <td>5%</td>\n",
       "      <td>44%</td>\n",
       "    </tr>\n",
       "    <tr>\n",
       "      <th>19614</th>\n",
       "      <td>4%</td>\n",
       "      <td>90%</td>\n",
       "      <td>1%</td>\n",
       "      <td>3%</td>\n",
       "      <td>1%</td>\n",
       "    </tr>\n",
       "    <tr>\n",
       "      <th>19615</th>\n",
       "      <td>5%</td>\n",
       "      <td>87%</td>\n",
       "      <td>2%</td>\n",
       "      <td>5%</td>\n",
       "      <td>1%</td>\n",
       "    </tr>\n",
       "    <tr>\n",
       "      <th>19616</th>\n",
       "      <td>56%</td>\n",
       "      <td>5%</td>\n",
       "      <td>14%</td>\n",
       "      <td>11%</td>\n",
       "      <td>13%</td>\n",
       "    </tr>\n",
       "  </tbody>\n",
       "</table>\n",
       "<p>19617 rows × 5 columns</p>\n",
       "</div>"
      ],
      "text/plain": [
       "      author 0 author 1 author 2 author 3 author 4\n",
       "0           7%      41%      20%      27%       5%\n",
       "1          27%      16%       7%      17%      33%\n",
       "2          77%       5%       7%       4%       8%\n",
       "3          15%       1%      56%       8%      20%\n",
       "4          32%      15%      14%      23%      15%\n",
       "...        ...      ...      ...      ...      ...\n",
       "19612       2%      97%       0%       0%       0%\n",
       "19613      31%       4%      16%       5%      44%\n",
       "19614       4%      90%       1%       3%       1%\n",
       "19615       5%      87%       2%       5%       1%\n",
       "19616      56%       5%      14%      11%      13%\n",
       "\n",
       "[19617 rows x 5 columns]"
      ]
     },
     "execution_count": 149,
     "metadata": {},
     "output_type": "execute_result"
    }
   ],
   "source": [
    "(result.round(2) * 100).astype('int').astype('str') + '%'"
   ]
  },
  {
   "cell_type": "code",
   "execution_count": null,
   "metadata": {},
   "outputs": [],
   "source": []
  },
  {
   "cell_type": "code",
   "execution_count": null,
   "metadata": {},
   "outputs": [],
   "source": []
  },
  {
   "cell_type": "code",
   "execution_count": null,
   "metadata": {},
   "outputs": [],
   "source": []
  },
  {
   "cell_type": "code",
   "execution_count": null,
   "metadata": {},
   "outputs": [],
   "source": []
  },
  {
   "cell_type": "code",
   "execution_count": null,
   "metadata": {},
   "outputs": [],
   "source": []
  },
  {
   "cell_type": "code",
   "execution_count": null,
   "metadata": {},
   "outputs": [],
   "source": []
  }
 ],
 "metadata": {
  "kernelspec": {
   "display_name": "Python 3",
   "language": "python",
   "name": "python3"
  },
  "language_info": {
   "codemirror_mode": {
    "name": "ipython",
    "version": 3
   },
   "file_extension": ".py",
   "mimetype": "text/x-python",
   "name": "python",
   "nbconvert_exporter": "python",
   "pygments_lexer": "ipython3",
   "version": "3.7.9"
  },
  "toc": {
   "base_numbering": 1,
   "nav_menu": {},
   "number_sections": true,
   "sideBar": true,
   "skip_h1_title": false,
   "title_cell": "Table of Contents",
   "title_sidebar": "Contents",
   "toc_cell": false,
   "toc_position": {
    "height": "calc(100% - 180px)",
    "left": "10px",
    "top": "150px",
    "width": "336px"
   },
   "toc_section_display": true,
   "toc_window_display": false
  }
 },
 "nbformat": 4,
 "nbformat_minor": 4
}
